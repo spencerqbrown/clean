{
 "metadata": {
  "language_info": {
   "codemirror_mode": {
    "name": "ipython",
    "version": 3
   },
   "file_extension": ".py",
   "mimetype": "text/x-python",
   "name": "python",
   "nbconvert_exporter": "python",
   "pygments_lexer": "ipython3",
   "version": "3.7.0-final"
  },
  "orig_nbformat": 2,
  "kernelspec": {
   "name": "python3",
   "display_name": "Python 3"
  }
 },
 "nbformat": 4,
 "nbformat_minor": 2,
 "cells": [
  {
   "cell_type": "code",
   "execution_count": 21,
   "metadata": {},
   "outputs": [],
   "source": [
    "path = \"\""
   ]
  },
  {
   "cell_type": "code",
   "execution_count": 1,
   "metadata": {},
   "outputs": [],
   "source": [
    "import datetime\n",
    "from datetime import timedelta\n",
    "from datetime import datetime"
   ]
  },
  {
   "cell_type": "code",
   "execution_count": 2,
   "metadata": {},
   "outputs": [],
   "source": [
    "import pandas as pd\n",
    "import numpy as np"
   ]
  },
  {
   "cell_type": "code",
   "execution_count": 2,
   "metadata": {},
   "outputs": [],
   "source": [
    "filename = \"scraped_2020-10-07_13_52_13_140247.csv\"\n",
    "cec = pd.read_csv(filename)"
   ]
  },
  {
   "cell_type": "code",
   "execution_count": 3,
   "metadata": {},
   "outputs": [
    {
     "output_type": "execute_result",
     "data": {
      "text/plain": [
       "                   name  stars  \\\n",
       "0  Cassidy Jo Schneider    4.0   \n",
       "1      Tammy Jo McNulty    5.0   \n",
       "2      Double The Bumps    5.0   \n",
       "3            Jacob Clos    5.0   \n",
       "4                   Jim    4.0   \n",
       "\n",
       "                                                text     timeSince openStatus  \\\n",
       "0  A bit dated, but still so fun! Great staff and...    a week ago       Open   \n",
       "1  Always have a great time, food is excellent &s...   a month ago       Open   \n",
       "2  We had my sons 4th birthday here it was REALLY...  7 months ago       Open   \n",
       "3  Everyone there was having a great time. It was...  7 months ago       Open   \n",
       "4  We've taken our little guy to Chuck E. Cheese ...    a year ago       Open   \n",
       "\n",
       "            key  \n",
       "0  4.066564e+09  \n",
       "1  4.066564e+09  \n",
       "2  4.066564e+09  \n",
       "3  4.066564e+09  \n",
       "4  4.066564e+09  "
      ],
      "text/html": "<div>\n<style scoped>\n    .dataframe tbody tr th:only-of-type {\n        vertical-align: middle;\n    }\n\n    .dataframe tbody tr th {\n        vertical-align: top;\n    }\n\n    .dataframe thead th {\n        text-align: right;\n    }\n</style>\n<table border=\"1\" class=\"dataframe\">\n  <thead>\n    <tr style=\"text-align: right;\">\n      <th></th>\n      <th>name</th>\n      <th>stars</th>\n      <th>text</th>\n      <th>timeSince</th>\n      <th>openStatus</th>\n      <th>key</th>\n    </tr>\n  </thead>\n  <tbody>\n    <tr>\n      <td>0</td>\n      <td>Cassidy Jo Schneider</td>\n      <td>4.0</td>\n      <td>A bit dated, but still so fun! Great staff and...</td>\n      <td>a week ago</td>\n      <td>Open</td>\n      <td>4.066564e+09</td>\n    </tr>\n    <tr>\n      <td>1</td>\n      <td>Tammy Jo McNulty</td>\n      <td>5.0</td>\n      <td>Always have a great time, food is excellent &amp;s...</td>\n      <td>a month ago</td>\n      <td>Open</td>\n      <td>4.066564e+09</td>\n    </tr>\n    <tr>\n      <td>2</td>\n      <td>Double The Bumps</td>\n      <td>5.0</td>\n      <td>We had my sons 4th birthday here it was REALLY...</td>\n      <td>7 months ago</td>\n      <td>Open</td>\n      <td>4.066564e+09</td>\n    </tr>\n    <tr>\n      <td>3</td>\n      <td>Jacob Clos</td>\n      <td>5.0</td>\n      <td>Everyone there was having a great time. It was...</td>\n      <td>7 months ago</td>\n      <td>Open</td>\n      <td>4.066564e+09</td>\n    </tr>\n    <tr>\n      <td>4</td>\n      <td>Jim</td>\n      <td>4.0</td>\n      <td>We've taken our little guy to Chuck E. Cheese ...</td>\n      <td>a year ago</td>\n      <td>Open</td>\n      <td>4.066564e+09</td>\n    </tr>\n  </tbody>\n</table>\n</div>"
     },
     "metadata": {},
     "execution_count": 3
    }
   ],
   "source": [
    "cec.head()"
   ]
  },
  {
   "cell_type": "code",
   "execution_count": 4,
   "metadata": {},
   "outputs": [],
   "source": [
    "from date_process import date_converter"
   ]
  },
  {
   "cell_type": "code",
   "execution_count": 5,
   "metadata": {},
   "outputs": [
    {
     "output_type": "stream",
     "name": "stdout",
     "text": [
      "scraped_2020-10-07_13_52_13_140247.csv\n2020-10-07\n"
     ]
    }
   ],
   "source": [
    "date_converter(cec, \"timeSince\", filename)"
   ]
  },
  {
   "cell_type": "code",
   "execution_count": 41,
   "metadata": {},
   "outputs": [
    {
     "output_type": "execute_result",
     "data": {
      "text/plain": [
       "                   name  stars  \\\n",
       "0  Cassidy Jo Schneider    4.0   \n",
       "1      Tammy Jo McNulty    5.0   \n",
       "2      Double The Bumps    5.0   \n",
       "3            Jacob Clos    5.0   \n",
       "4                   Jim    4.0   \n",
       "\n",
       "                                                text     timeSince openStatus  \\\n",
       "0  A bit dated, but still so fun! Great staff and...    a week ago       Open   \n",
       "1  Always have a great time, food is excellent &s...   a month ago       Open   \n",
       "2  We had my sons 4th birthday here it was REALLY...  7 months ago       Open   \n",
       "3  Everyone there was having a great time. It was...  7 months ago       Open   \n",
       "4  We've taken our little guy to Chuck E. Cheese ...    a year ago       Open   \n",
       "\n",
       "            key       date  year  \n",
       "0  4.066564e+09 2020-09-30  2020  \n",
       "1  4.066564e+09 2020-09-07  2020  \n",
       "2  4.066564e+09 2020-03-11  2020  \n",
       "3  4.066564e+09 2020-03-11  2020  \n",
       "4  4.066564e+09 2019-10-08  2019  "
      ],
      "text/html": "<div>\n<style scoped>\n    .dataframe tbody tr th:only-of-type {\n        vertical-align: middle;\n    }\n\n    .dataframe tbody tr th {\n        vertical-align: top;\n    }\n\n    .dataframe thead th {\n        text-align: right;\n    }\n</style>\n<table border=\"1\" class=\"dataframe\">\n  <thead>\n    <tr style=\"text-align: right;\">\n      <th></th>\n      <th>name</th>\n      <th>stars</th>\n      <th>text</th>\n      <th>timeSince</th>\n      <th>openStatus</th>\n      <th>key</th>\n      <th>date</th>\n      <th>year</th>\n    </tr>\n  </thead>\n  <tbody>\n    <tr>\n      <td>0</td>\n      <td>Cassidy Jo Schneider</td>\n      <td>4.0</td>\n      <td>A bit dated, but still so fun! Great staff and...</td>\n      <td>a week ago</td>\n      <td>Open</td>\n      <td>4.066564e+09</td>\n      <td>2020-09-30</td>\n      <td>2020</td>\n    </tr>\n    <tr>\n      <td>1</td>\n      <td>Tammy Jo McNulty</td>\n      <td>5.0</td>\n      <td>Always have a great time, food is excellent &amp;s...</td>\n      <td>a month ago</td>\n      <td>Open</td>\n      <td>4.066564e+09</td>\n      <td>2020-09-07</td>\n      <td>2020</td>\n    </tr>\n    <tr>\n      <td>2</td>\n      <td>Double The Bumps</td>\n      <td>5.0</td>\n      <td>We had my sons 4th birthday here it was REALLY...</td>\n      <td>7 months ago</td>\n      <td>Open</td>\n      <td>4.066564e+09</td>\n      <td>2020-03-11</td>\n      <td>2020</td>\n    </tr>\n    <tr>\n      <td>3</td>\n      <td>Jacob Clos</td>\n      <td>5.0</td>\n      <td>Everyone there was having a great time. It was...</td>\n      <td>7 months ago</td>\n      <td>Open</td>\n      <td>4.066564e+09</td>\n      <td>2020-03-11</td>\n      <td>2020</td>\n    </tr>\n    <tr>\n      <td>4</td>\n      <td>Jim</td>\n      <td>4.0</td>\n      <td>We've taken our little guy to Chuck E. Cheese ...</td>\n      <td>a year ago</td>\n      <td>Open</td>\n      <td>4.066564e+09</td>\n      <td>2019-10-08</td>\n      <td>2019</td>\n    </tr>\n  </tbody>\n</table>\n</div>"
     },
     "metadata": {},
     "execution_count": 41
    }
   ],
   "source": [
    "cec.head()"
   ]
  },
  {
   "cell_type": "code",
   "execution_count": 8,
   "metadata": {},
   "outputs": [
    {
     "output_type": "execute_result",
     "data": {
      "text/plain": [
       "     0  1       2\n",
       "0  cat  0   apple\n",
       "1  dog  1  banana"
      ],
      "text/html": "<div>\n<style scoped>\n    .dataframe tbody tr th:only-of-type {\n        vertical-align: middle;\n    }\n\n    .dataframe tbody tr th {\n        vertical-align: top;\n    }\n\n    .dataframe thead th {\n        text-align: right;\n    }\n</style>\n<table border=\"1\" class=\"dataframe\">\n  <thead>\n    <tr style=\"text-align: right;\">\n      <th></th>\n      <th>0</th>\n      <th>1</th>\n      <th>2</th>\n    </tr>\n  </thead>\n  <tbody>\n    <tr>\n      <td>0</td>\n      <td>cat</td>\n      <td>0</td>\n      <td>apple</td>\n    </tr>\n    <tr>\n      <td>1</td>\n      <td>dog</td>\n      <td>1</td>\n      <td>banana</td>\n    </tr>\n  </tbody>\n</table>\n</div>"
     },
     "metadata": {},
     "execution_count": 8
    }
   ],
   "source": [
    "pd.DataFrame([[\"cat\", 0, \"apple\"],[\"dog\", 1, \"banana\"]])"
   ]
  },
  {
   "cell_type": "code",
   "execution_count": 4,
   "metadata": {},
   "outputs": [],
   "source": [
    "data = [{\"col1\":\"cat\", \"col2\":0, \"col3\":\"apple\"},{\"col1\":\"dog\", \"col2\":1, \"col3\":\"banana\"}]"
   ]
  },
  {
   "cell_type": "code",
   "execution_count": 5,
   "metadata": {},
   "outputs": [],
   "source": [
    "tdf = pd.DataFrame.from_records(data)"
   ]
  },
  {
   "cell_type": "code",
   "execution_count": 1,
   "metadata": {},
   "outputs": [],
   "source": [
    "from df_process import get_files"
   ]
  },
  {
   "cell_type": "code",
   "execution_count": 2,
   "metadata": {},
   "outputs": [
    {
     "output_type": "execute_result",
     "data": {
      "text/plain": [
       "['C:\\\\Users\\\\Spencer\\\\Desktop\\\\clean\\\\scraped_2020-10-07_13_52_13_140247.csv']"
      ]
     },
     "metadata": {},
     "execution_count": 2
    }
   ],
   "source": [
    "get_files(\"C:\\\\Users\\\\Spencer\\\\Desktop\\\\clean\", \"csv\")"
   ]
  },
  {
   "cell_type": "code",
   "execution_count": 18,
   "metadata": {},
   "outputs": [],
   "source": [
    "df = pd.DataFrame({'link':['=HYPERLINK(\"scraped_2020-10-07_13_52_13_140247.csv\", \"some website\")']})\n",
    "df.to_excel('test.xlsx')"
   ]
  },
  {
   "cell_type": "code",
   "execution_count": 4,
   "metadata": {},
   "outputs": [],
   "source": [
    "from df_process import get_files"
   ]
  },
  {
   "cell_type": "code",
   "execution_count": 7,
   "metadata": {},
   "outputs": [],
   "source": [
    "files = get_files(\"C:\\\\Users\\\\Spencer\\\\Desktop\\\\clean\\\\pizza_hut_pre_9_30_2020\", \"csv\")"
   ]
  },
  {
   "cell_type": "code",
   "execution_count": 8,
   "metadata": {},
   "outputs": [
    {
     "output_type": "execute_result",
     "data": {
      "text/plain": [
       "['C:\\\\Users\\\\Spencer\\\\Desktop\\\\clean\\\\pizza_hut_pre_9_30_2020\\\\1000804749_pizza_hut.csv',\n",
       " 'C:\\\\Users\\\\Spencer\\\\Desktop\\\\clean\\\\pizza_hut_pre_9_30_2020\\\\1000804750_pizza_hut.csv',\n",
       " 'C:\\\\Users\\\\Spencer\\\\Desktop\\\\clean\\\\pizza_hut_pre_9_30_2020\\\\1000804753_pizza_hut.csv',\n",
       " 'C:\\\\Users\\\\Spencer\\\\Desktop\\\\clean\\\\pizza_hut_pre_9_30_2020\\\\csvspizza_hut_reviews_1000804749.csv',\n",
       " 'C:\\\\Users\\\\Spencer\\\\Desktop\\\\clean\\\\pizza_hut_pre_9_30_2020\\\\csvspizza_hut_reviews_1000804750.csv',\n",
       " 'C:\\\\Users\\\\Spencer\\\\Desktop\\\\clean\\\\pizza_hut_pre_9_30_2020\\\\csvspizza_hut_reviews_1000804753.csv']"
      ]
     },
     "metadata": {},
     "execution_count": 8
    }
   ],
   "source": [
    "files"
   ]
  },
  {
   "cell_type": "code",
   "execution_count": 35,
   "metadata": {},
   "outputs": [],
   "source": [
    "for file in files:\n",
    "    filename = file.split(\"\\\\\")[-1]\n",
    "    df = pd.read_csv(file)\n",
    "    df[\"stars\"] = df[\"Stars\"].apply(lambda x: int(float(x.split(\" \")[0])))\n",
    "    df.to_csv(file, index=False)"
   ]
  },
  {
   "cell_type": "code",
   "execution_count": 1,
   "metadata": {},
   "outputs": [],
   "source": [
    "from df_process import combine_directory"
   ]
  },
  {
   "cell_type": "code",
   "execution_count": 2,
   "metadata": {},
   "outputs": [],
   "source": [
    "import datetime"
   ]
  },
  {
   "cell_type": "code",
   "execution_count": 3,
   "metadata": {},
   "outputs": [],
   "source": [
    "directory_path = \"C:\\\\Users\\\\Spencer\\\\Desktop\\\\clean\\\\pizza_hut_pre_9_30_2020\\\\\"\n",
    "text_directory = \"C:\\\\Users\\\\Spencer\\\\Desktop\\\\clean\\\\pizza_hut_pre_9_30_2020\\\\csvs\"\n",
    "company_name = \"pizza_hut\"\n",
    "address_col = \"Address\"\n",
    "id_rule = \"filename\"\n",
    "time_col_name=\"Publish_date\"\n",
    "current_date = datetime.datetime(2020, 9, 30)\n",
    "date_col_name = \"date\"\n",
    "combine_directory(directory_path=directory_path, \n",
    "                    company_name=company_name, \n",
    "                    text_directory=text_directory, \n",
    "                    address_col=address_col, \n",
    "                    time_col_name=time_col_name,  \n",
    "                    id_rule=id_rule, \n",
    "                    current_date=current_date,\n",
    "                    date_col_name=date_col_name)"
   ]
  },
  {
   "cell_type": "code",
   "execution_count": 6,
   "metadata": {},
   "outputs": [
    {
     "output_type": "execute_result",
     "data": {
      "text/plain": [
       "  col1  col2    col3\n",
       "0  cat     0   apple\n",
       "1  dog     1  banana"
      ],
      "text/html": "<div>\n<style scoped>\n    .dataframe tbody tr th:only-of-type {\n        vertical-align: middle;\n    }\n\n    .dataframe tbody tr th {\n        vertical-align: top;\n    }\n\n    .dataframe thead th {\n        text-align: right;\n    }\n</style>\n<table border=\"1\" class=\"dataframe\">\n  <thead>\n    <tr style=\"text-align: right;\">\n      <th></th>\n      <th>col1</th>\n      <th>col2</th>\n      <th>col3</th>\n    </tr>\n  </thead>\n  <tbody>\n    <tr>\n      <td>0</td>\n      <td>cat</td>\n      <td>0</td>\n      <td>apple</td>\n    </tr>\n    <tr>\n      <td>1</td>\n      <td>dog</td>\n      <td>1</td>\n      <td>banana</td>\n    </tr>\n  </tbody>\n</table>\n</div>"
     },
     "metadata": {},
     "execution_count": 6
    }
   ],
   "source": [
    "tdf"
   ]
  },
  {
   "cell_type": "code",
   "execution_count": 2,
   "metadata": {},
   "outputs": [],
   "source": [
    "import pandas as pd\n",
    "alldata = pd.read_excel(\".\\\\data\\\\data.xlsx\")"
   ]
  },
  {
   "cell_type": "code",
   "execution_count": 3,
   "metadata": {},
   "outputs": [
    {
     "output_type": "execute_result",
     "data": {
      "text/plain": [
       "   Company ID  Industry ID                 Industry Name  \\\n",
       "0  2000626178           51  Locations: Chain Restaurants   \n",
       "1  2000626186           51  Locations: Chain Restaurants   \n",
       "2  2000626189           51  Locations: Chain Restaurants   \n",
       "3  2000626192           51  Locations: Chain Restaurants   \n",
       "4  2000626194           51  Locations: Chain Restaurants   \n",
       "\n",
       "                 Company Name               Address 1       City State  \\\n",
       "0  Anthony's Coal Fired Pizza         984 State Rt 17     RAMSEY    NJ   \n",
       "1  Anthony's Coal Fired Pizza         80 Parsonage Rd     EDISON    NJ   \n",
       "2  Anthony's Coal Fired Pizza       6401 Jericho Tpke    COMMACK    NY   \n",
       "3  Anthony's Coal Fired Pizza  50 East Wynnewood Road  WYNNEWOOD    PA   \n",
       "4  Anthony's Coal Fired Pizza     48 Walkers Brook Dr    READING    MA   \n",
       "\n",
       "          Zip Listing Type                   Country         Phone  \\\n",
       "0  07446-1607     Location  United States of America  2.018183e+09   \n",
       "1  08837-2416     Location  United States of America  7.327442e+09   \n",
       "2  11725-2832     Location  United States of America  6.318583e+09   \n",
       "3       19096     Location  United States of America  6.106455e+09   \n",
       "4  01867-3224     Location  United States of America  7.819448e+09   \n",
       "\n",
       "                                         Google Link  \n",
       "0  https://www.google.com/maps/place/Anthony's+Co...  \n",
       "1  https://www.google.com/maps/place/Anthony's+Co...  \n",
       "2  https://www.google.com/maps/place/Anthony's+Co...  \n",
       "3  https://www.google.com/maps/place/Anthony's+Co...  \n",
       "4  https://www.google.com/maps/place/Anthony's+Co...  "
      ],
      "text/html": "<div>\n<style scoped>\n    .dataframe tbody tr th:only-of-type {\n        vertical-align: middle;\n    }\n\n    .dataframe tbody tr th {\n        vertical-align: top;\n    }\n\n    .dataframe thead th {\n        text-align: right;\n    }\n</style>\n<table border=\"1\" class=\"dataframe\">\n  <thead>\n    <tr style=\"text-align: right;\">\n      <th></th>\n      <th>Company ID</th>\n      <th>Industry ID</th>\n      <th>Industry Name</th>\n      <th>Company Name</th>\n      <th>Address 1</th>\n      <th>City</th>\n      <th>State</th>\n      <th>Zip</th>\n      <th>Listing Type</th>\n      <th>Country</th>\n      <th>Phone</th>\n      <th>Google Link</th>\n    </tr>\n  </thead>\n  <tbody>\n    <tr>\n      <td>0</td>\n      <td>2000626178</td>\n      <td>51</td>\n      <td>Locations: Chain Restaurants</td>\n      <td>Anthony's Coal Fired Pizza</td>\n      <td>984 State Rt 17</td>\n      <td>RAMSEY</td>\n      <td>NJ</td>\n      <td>07446-1607</td>\n      <td>Location</td>\n      <td>United States of America</td>\n      <td>2.018183e+09</td>\n      <td>https://www.google.com/maps/place/Anthony's+Co...</td>\n    </tr>\n    <tr>\n      <td>1</td>\n      <td>2000626186</td>\n      <td>51</td>\n      <td>Locations: Chain Restaurants</td>\n      <td>Anthony's Coal Fired Pizza</td>\n      <td>80 Parsonage Rd</td>\n      <td>EDISON</td>\n      <td>NJ</td>\n      <td>08837-2416</td>\n      <td>Location</td>\n      <td>United States of America</td>\n      <td>7.327442e+09</td>\n      <td>https://www.google.com/maps/place/Anthony's+Co...</td>\n    </tr>\n    <tr>\n      <td>2</td>\n      <td>2000626189</td>\n      <td>51</td>\n      <td>Locations: Chain Restaurants</td>\n      <td>Anthony's Coal Fired Pizza</td>\n      <td>6401 Jericho Tpke</td>\n      <td>COMMACK</td>\n      <td>NY</td>\n      <td>11725-2832</td>\n      <td>Location</td>\n      <td>United States of America</td>\n      <td>6.318583e+09</td>\n      <td>https://www.google.com/maps/place/Anthony's+Co...</td>\n    </tr>\n    <tr>\n      <td>3</td>\n      <td>2000626192</td>\n      <td>51</td>\n      <td>Locations: Chain Restaurants</td>\n      <td>Anthony's Coal Fired Pizza</td>\n      <td>50 East Wynnewood Road</td>\n      <td>WYNNEWOOD</td>\n      <td>PA</td>\n      <td>19096</td>\n      <td>Location</td>\n      <td>United States of America</td>\n      <td>6.106455e+09</td>\n      <td>https://www.google.com/maps/place/Anthony's+Co...</td>\n    </tr>\n    <tr>\n      <td>4</td>\n      <td>2000626194</td>\n      <td>51</td>\n      <td>Locations: Chain Restaurants</td>\n      <td>Anthony's Coal Fired Pizza</td>\n      <td>48 Walkers Brook Dr</td>\n      <td>READING</td>\n      <td>MA</td>\n      <td>01867-3224</td>\n      <td>Location</td>\n      <td>United States of America</td>\n      <td>7.819448e+09</td>\n      <td>https://www.google.com/maps/place/Anthony's+Co...</td>\n    </tr>\n  </tbody>\n</table>\n</div>"
     },
     "metadata": {},
     "execution_count": 3
    }
   ],
   "source": [
    "alldata.head()"
   ]
  },
  {
   "cell_type": "code",
   "execution_count": 4,
   "metadata": {},
   "outputs": [],
   "source": [
    "from utilities import process_company_names"
   ]
  },
  {
   "cell_type": "code",
   "execution_count": 5,
   "metadata": {},
   "outputs": [],
   "source": [
    "process_company_names(alldata, \"Company Name\", \"name\")"
   ]
  },
  {
   "cell_type": "code",
   "execution_count": 11,
   "metadata": {},
   "outputs": [],
   "source": [
    "alldata[\"fulladdr\"] = alldata.iloc[:,3] + \" \" + alldata.iloc[:,4] + \" \" + alldata.iloc[:,5] + \" \" + alldata.iloc[:,6]"
   ]
  },
  {
   "cell_type": "code",
   "execution_count": 12,
   "metadata": {},
   "outputs": [
    {
     "output_type": "execute_result",
     "data": {
      "text/plain": [
       "Pizza Plus 610 Van Hill Rd GREENEVILLE TN                           2\n",
       "Marco's Pizza 5585 South 3500 W ROY UT                              2\n",
       "Domino's 3520 West Vienna Rd CLIO MI                                2\n",
       "Sbarro 100 Twin River Rd LINCOLN RI                                 2\n",
       "Pizza Hut 1606 Navajo Blvd HOLBROOK AZ                              2\n",
       "                                                                   ..\n",
       "Domino's 1300 Brodhead Rd MOON TOWNSHIP PA                          1\n",
       "Papa Murphy's Take 'N' Bake Pizza 4500 S 70th St LINCOLN NE         1\n",
       "Papa Murphy's Take 'N' Bake Pizza 1406 Beltline Rd SW DECATUR AL    1\n",
       "Jet's Pizza 3945 S Telegraph Rd DEARBORN HEIGHTS MI                 1\n",
       "Chuck E. Cheese's 26562 Towne Centre Dr FOOTHILL RANCH CA           1\n",
       "Name: fulladdr, Length: 29008, dtype: int64"
      ]
     },
     "metadata": {},
     "execution_count": 12
    }
   ],
   "source": [
    "alldata[\"fulladdr\"].value_counts()"
   ]
  },
  {
   "cell_type": "code",
   "execution_count": 1,
   "metadata": {},
   "outputs": [],
   "source": [
    "from company_id import add_company_ids"
   ]
  },
  {
   "cell_type": "code",
   "execution_count": 2,
   "metadata": {},
   "outputs": [
    {
     "output_type": "stream",
     "name": "stdout",
     "text": [
      "2\n",
      "File: C:\\Users\\Spencer\\Desktop\\clean\\data\\bananas_11_3_20\\scraped_2020-11-03_10_50_58_759403.csv\n",
      "Saving to C:\\Users\\Spencer\\Desktop\\clean\\data\\test_output_directory\\bananas_2000334388.csv\n",
      "File: C:\\Users\\Spencer\\Desktop\\clean\\data\\bananas_11_3_20\\scraped_2020-11-03_10_51_16_538934.csv\n",
      "Saving to C:\\Users\\Spencer\\Desktop\\clean\\data\\test_output_directory\\bananas_2000303507.csv\n"
     ]
    }
   ],
   "source": [
    "output_directory = \"C:\\\\Users\\\\Spencer\\\\Desktop\\\\clean\\\\data\\\\test_output_directory\"\n",
    "master_df_path = \"C:\\\\Users\\\\Spencer\\\\Desktop\\\\clean\\\\data\\\\data.xlsx\"\n",
    "directory_path = \"C:\\\\Users\\\\Spencer\\\\Desktop\\\\clean\\\\data\\\\bananas_11_3_20\"\n",
    "key_col = \"key\"\n",
    "master_df_key_col = \"Phone\"\n",
    "master_df_id_col = \"Company ID\"\n",
    "id_col_name = master_df_id_col\n",
    "add_company_ids(directory_path=directory_path, \n",
    "                master_df_path=master_df_path, \n",
    "                key_col=key_col, \n",
    "                master_df_key_col=master_df_key_col, \n",
    "                master_df_id_col=master_df_id_col, \n",
    "                id_col_name=id_col_name, \n",
    "                output_directory=output_directory)"
   ]
  },
  {
   "cell_type": "code",
   "execution_count": 3,
   "metadata": {},
   "outputs": [],
   "source": [
    "import pandas as pd\n",
    "master = pd.read_excel(\"C:\\\\Users\\\\Spencer\\\\Desktop\\\\clean\\\\data\\\\data.xlsx\")\n",
    "df = pd.read_csv(\"C:\\\\Users\\\\Spencer\\\\Desktop\\\\clean\\\\data\\\\bananas_11_3_20\\\\scraped_2020-11-03_10_50_58_759403.csv\")"
   ]
  },
  {
   "cell_type": "code",
   "execution_count": 10,
   "metadata": {},
   "outputs": [
    {
     "output_type": "execute_result",
     "data": {
      "text/plain": [
       "'the_office_beer_bar_&_grill'"
      ]
     },
     "metadata": {},
     "execution_count": 10
    }
   ],
   "source": [
    "import re\n",
    "test_string = \"the_office_beer_bar_&_grill_11_3_20\"\n",
    "out_test = re.sub(r\"\\d\", \"\", test_string).strip(\"_\")\n",
    "out_test"
   ]
  },
  {
   "cell_type": "code",
   "execution_count": 13,
   "metadata": {},
   "outputs": [],
   "source": [
    "import pandas as pd \n",
    "import numpy as np\n",
    "df = pd.read_csv(\"C:\\\\Users\\\\Spencer\\\\Box Sync\\\\Scraped\\\\pieology_10_20_2020_NAN_KEYS\\\\scraped_2020-10-20_08_55_29_507904.csv\")"
   ]
  },
  {
   "cell_type": "code",
   "execution_count": 14,
   "metadata": {},
   "outputs": [
    {
     "output_type": "execute_result",
     "data": {
      "text/plain": [
       "True"
      ]
     },
     "metadata": {},
     "execution_count": 14
    }
   ],
   "source": [
    "np.isnan(df[\"key\"][0])"
   ]
  },
  {
   "cell_type": "code",
   "execution_count": 2,
   "metadata": {},
   "outputs": [],
   "source": [
    "import pandas as pd\n",
    "master = pd.read_excel(\"C:\\\\Users\\\\Spencer\\\\Desktop\\\\clean\\\\data\\\\data.xlsx\")"
   ]
  },
  {
   "cell_type": "code",
   "execution_count": 2,
   "metadata": {},
   "outputs": [
    {
     "output_type": "execute_result",
     "data": {
      "text/plain": [
       "   Company ID  Industry ID                 Industry Name  \\\n",
       "0  2000626178           51  Locations: Chain Restaurants   \n",
       "1  2000626186           51  Locations: Chain Restaurants   \n",
       "2  2000626189           51  Locations: Chain Restaurants   \n",
       "3  2000626192           51  Locations: Chain Restaurants   \n",
       "4  2000626194           51  Locations: Chain Restaurants   \n",
       "\n",
       "                 Company Name               Address 1       City State  \\\n",
       "0  Anthony's Coal Fired Pizza         984 State Rt 17     RAMSEY    NJ   \n",
       "1  Anthony's Coal Fired Pizza         80 Parsonage Rd     EDISON    NJ   \n",
       "2  Anthony's Coal Fired Pizza       6401 Jericho Tpke    COMMACK    NY   \n",
       "3  Anthony's Coal Fired Pizza  50 East Wynnewood Road  WYNNEWOOD    PA   \n",
       "4  Anthony's Coal Fired Pizza     48 Walkers Brook Dr    READING    MA   \n",
       "\n",
       "          Zip Listing Type                   Country         Phone  \\\n",
       "0  07446-1607     Location  United States of America  2.018183e+09   \n",
       "1  08837-2416     Location  United States of America  7.327442e+09   \n",
       "2  11725-2832     Location  United States of America  6.318583e+09   \n",
       "3       19096     Location  United States of America  6.106455e+09   \n",
       "4  01867-3224     Location  United States of America  7.819448e+09   \n",
       "\n",
       "                                         Google Link  \n",
       "0  https://www.google.com/maps/place/Anthony's+Co...  \n",
       "1  https://www.google.com/maps/place/Anthony's+Co...  \n",
       "2  https://www.google.com/maps/place/Anthony's+Co...  \n",
       "3  https://www.google.com/maps/place/Anthony's+Co...  \n",
       "4  https://www.google.com/maps/place/Anthony's+Co...  "
      ],
      "text/html": "<div>\n<style scoped>\n    .dataframe tbody tr th:only-of-type {\n        vertical-align: middle;\n    }\n\n    .dataframe tbody tr th {\n        vertical-align: top;\n    }\n\n    .dataframe thead th {\n        text-align: right;\n    }\n</style>\n<table border=\"1\" class=\"dataframe\">\n  <thead>\n    <tr style=\"text-align: right;\">\n      <th></th>\n      <th>Company ID</th>\n      <th>Industry ID</th>\n      <th>Industry Name</th>\n      <th>Company Name</th>\n      <th>Address 1</th>\n      <th>City</th>\n      <th>State</th>\n      <th>Zip</th>\n      <th>Listing Type</th>\n      <th>Country</th>\n      <th>Phone</th>\n      <th>Google Link</th>\n    </tr>\n  </thead>\n  <tbody>\n    <tr>\n      <td>0</td>\n      <td>2000626178</td>\n      <td>51</td>\n      <td>Locations: Chain Restaurants</td>\n      <td>Anthony's Coal Fired Pizza</td>\n      <td>984 State Rt 17</td>\n      <td>RAMSEY</td>\n      <td>NJ</td>\n      <td>07446-1607</td>\n      <td>Location</td>\n      <td>United States of America</td>\n      <td>2.018183e+09</td>\n      <td>https://www.google.com/maps/place/Anthony's+Co...</td>\n    </tr>\n    <tr>\n      <td>1</td>\n      <td>2000626186</td>\n      <td>51</td>\n      <td>Locations: Chain Restaurants</td>\n      <td>Anthony's Coal Fired Pizza</td>\n      <td>80 Parsonage Rd</td>\n      <td>EDISON</td>\n      <td>NJ</td>\n      <td>08837-2416</td>\n      <td>Location</td>\n      <td>United States of America</td>\n      <td>7.327442e+09</td>\n      <td>https://www.google.com/maps/place/Anthony's+Co...</td>\n    </tr>\n    <tr>\n      <td>2</td>\n      <td>2000626189</td>\n      <td>51</td>\n      <td>Locations: Chain Restaurants</td>\n      <td>Anthony's Coal Fired Pizza</td>\n      <td>6401 Jericho Tpke</td>\n      <td>COMMACK</td>\n      <td>NY</td>\n      <td>11725-2832</td>\n      <td>Location</td>\n      <td>United States of America</td>\n      <td>6.318583e+09</td>\n      <td>https://www.google.com/maps/place/Anthony's+Co...</td>\n    </tr>\n    <tr>\n      <td>3</td>\n      <td>2000626192</td>\n      <td>51</td>\n      <td>Locations: Chain Restaurants</td>\n      <td>Anthony's Coal Fired Pizza</td>\n      <td>50 East Wynnewood Road</td>\n      <td>WYNNEWOOD</td>\n      <td>PA</td>\n      <td>19096</td>\n      <td>Location</td>\n      <td>United States of America</td>\n      <td>6.106455e+09</td>\n      <td>https://www.google.com/maps/place/Anthony's+Co...</td>\n    </tr>\n    <tr>\n      <td>4</td>\n      <td>2000626194</td>\n      <td>51</td>\n      <td>Locations: Chain Restaurants</td>\n      <td>Anthony's Coal Fired Pizza</td>\n      <td>48 Walkers Brook Dr</td>\n      <td>READING</td>\n      <td>MA</td>\n      <td>01867-3224</td>\n      <td>Location</td>\n      <td>United States of America</td>\n      <td>7.819448e+09</td>\n      <td>https://www.google.com/maps/place/Anthony's+Co...</td>\n    </tr>\n  </tbody>\n</table>\n</div>"
     },
     "metadata": {},
     "execution_count": 2
    }
   ],
   "source": [
    "master.head()"
   ]
  },
  {
   "cell_type": "code",
   "execution_count": 3,
   "metadata": {},
   "outputs": [],
   "source": [
    "from utilities import process_company_names"
   ]
  },
  {
   "cell_type": "code",
   "execution_count": 4,
   "metadata": {},
   "outputs": [],
   "source": [
    "process_company_names(master, \"Company Name\", \"company_name\")"
   ]
  },
  {
   "cell_type": "code",
   "execution_count": 5,
   "metadata": {},
   "outputs": [
    {
     "output_type": "execute_result",
     "data": {
      "text/plain": [
       "dominos                           5879\n",
       "pizza_hut                         5829\n",
       "little_caesars_pizza              4156\n",
       "papa_johns_pizza                  2995\n",
       "papa_murphys_take_n_bake_pizza    1340\n",
       "                                  ... \n",
       "sukotto                              1\n",
       "the_office_beer_bar_&_grill          1\n",
       "gattiland                            1\n",
       "steelworks_buffett_&_grill           1\n",
       "gattis_pizza_buffet                  1\n",
       "Name: company_name, Length: 93, dtype: int64"
      ]
     },
     "metadata": {},
     "execution_count": 5
    }
   ],
   "source": [
    "master[\"company_name\"].value_counts()"
   ]
  },
  {
   "cell_type": "code",
   "execution_count": 6,
   "metadata": {},
   "outputs": [],
   "source": [
    "companies = [\"donatos_pizza\", \"blaze_pizza\", \"anthonys_coal_fired_pizza\"]"
   ]
  },
  {
   "cell_type": "code",
   "execution_count": 7,
   "metadata": {},
   "outputs": [],
   "source": [
    "sub = master[master[\"company_name\"].isin(companies)]"
   ]
  },
  {
   "cell_type": "code",
   "execution_count": 8,
   "metadata": {},
   "outputs": [],
   "source": [
    "from utilities import process_phone_numbers"
   ]
  },
  {
   "cell_type": "code",
   "execution_count": 9,
   "metadata": {},
   "outputs": [],
   "source": [
    "process_phone_numbers(sub, \"Phone\", \"phone_number\")"
   ]
  },
  {
   "cell_type": "code",
   "execution_count": 18,
   "metadata": {},
   "outputs": [
    {
     "output_type": "execute_result",
     "data": {
      "text/plain": [
       "   Company ID  Industry ID                 Industry Name  \\\n",
       "0  2000626178           51  Locations: Chain Restaurants   \n",
       "1  2000626186           51  Locations: Chain Restaurants   \n",
       "2  2000626189           51  Locations: Chain Restaurants   \n",
       "3  2000626192           51  Locations: Chain Restaurants   \n",
       "4  2000626194           51  Locations: Chain Restaurants   \n",
       "\n",
       "                 Company Name               Address 1       City State  \\\n",
       "0  Anthony's Coal Fired Pizza         984 State Rt 17     RAMSEY    NJ   \n",
       "1  Anthony's Coal Fired Pizza         80 Parsonage Rd     EDISON    NJ   \n",
       "2  Anthony's Coal Fired Pizza       6401 Jericho Tpke    COMMACK    NY   \n",
       "3  Anthony's Coal Fired Pizza  50 East Wynnewood Road  WYNNEWOOD    PA   \n",
       "4  Anthony's Coal Fired Pizza     48 Walkers Brook Dr    READING    MA   \n",
       "\n",
       "          Zip Listing Type                   Country         Phone  \\\n",
       "0  07446-1607     Location  United States of America  2.018183e+09   \n",
       "1  08837-2416     Location  United States of America  7.327442e+09   \n",
       "2  11725-2832     Location  United States of America  6.318583e+09   \n",
       "3       19096     Location  United States of America  6.106455e+09   \n",
       "4  01867-3224     Location  United States of America  7.819448e+09   \n",
       "\n",
       "                                         Google Link  \\\n",
       "0  https://www.google.com/maps/place/Anthony's+Co...   \n",
       "1  https://www.google.com/maps/place/Anthony's+Co...   \n",
       "2  https://www.google.com/maps/place/Anthony's+Co...   \n",
       "3  https://www.google.com/maps/place/Anthony's+Co...   \n",
       "4  https://www.google.com/maps/place/Anthony's+Co...   \n",
       "\n",
       "                company_name    phone_number  \\\n",
       "0  anthonys_coal_fired_pizza  (201) 818-2625   \n",
       "1  anthonys_coal_fired_pizza  (732) 744-1500   \n",
       "2  anthonys_coal_fired_pizza  (631) 858-2625   \n",
       "3  anthonys_coal_fired_pizza  (610) 645-5453   \n",
       "4  anthonys_coal_fired_pizza  (781) 944-8454   \n",
       "\n",
       "                                             anthony  \\\n",
       "0  Anthony's Coal Fired Pizza 984 State Rt 17 RAM...   \n",
       "1  Anthony's Coal Fired Pizza 80 Parsonage Rd EDI...   \n",
       "2  Anthony's Coal Fired Pizza 6401 Jericho Tpke C...   \n",
       "3  Anthony's Coal Fired Pizza 50 East Wynnewood R...   \n",
       "4  Anthony's Coal Fired Pizza 48 Walkers Brook Dr...   \n",
       "\n",
       "                                             donatos  \n",
       "0  Anthony's Coal Fired Pizza 984 State Rt 17 RAM...  \n",
       "1  Anthony's Coal Fired Pizza 80 Parsonage Rd EDI...  \n",
       "2  Anthony's Coal Fired Pizza 6401 Jericho Tpke C...  \n",
       "3  Anthony's Coal Fired Pizza 50 East Wynnewood R...  \n",
       "4  Anthony's Coal Fired Pizza 48 Walkers Brook Dr...  "
      ],
      "text/html": "<div>\n<style scoped>\n    .dataframe tbody tr th:only-of-type {\n        vertical-align: middle;\n    }\n\n    .dataframe tbody tr th {\n        vertical-align: top;\n    }\n\n    .dataframe thead th {\n        text-align: right;\n    }\n</style>\n<table border=\"1\" class=\"dataframe\">\n  <thead>\n    <tr style=\"text-align: right;\">\n      <th></th>\n      <th>Company ID</th>\n      <th>Industry ID</th>\n      <th>Industry Name</th>\n      <th>Company Name</th>\n      <th>Address 1</th>\n      <th>City</th>\n      <th>State</th>\n      <th>Zip</th>\n      <th>Listing Type</th>\n      <th>Country</th>\n      <th>Phone</th>\n      <th>Google Link</th>\n      <th>company_name</th>\n      <th>phone_number</th>\n      <th>anthony</th>\n      <th>donatos</th>\n    </tr>\n  </thead>\n  <tbody>\n    <tr>\n      <td>0</td>\n      <td>2000626178</td>\n      <td>51</td>\n      <td>Locations: Chain Restaurants</td>\n      <td>Anthony's Coal Fired Pizza</td>\n      <td>984 State Rt 17</td>\n      <td>RAMSEY</td>\n      <td>NJ</td>\n      <td>07446-1607</td>\n      <td>Location</td>\n      <td>United States of America</td>\n      <td>2.018183e+09</td>\n      <td>https://www.google.com/maps/place/Anthony's+Co...</td>\n      <td>anthonys_coal_fired_pizza</td>\n      <td>(201) 818-2625</td>\n      <td>Anthony's Coal Fired Pizza 984 State Rt 17 RAM...</td>\n      <td>Anthony's Coal Fired Pizza 984 State Rt 17 RAM...</td>\n    </tr>\n    <tr>\n      <td>1</td>\n      <td>2000626186</td>\n      <td>51</td>\n      <td>Locations: Chain Restaurants</td>\n      <td>Anthony's Coal Fired Pizza</td>\n      <td>80 Parsonage Rd</td>\n      <td>EDISON</td>\n      <td>NJ</td>\n      <td>08837-2416</td>\n      <td>Location</td>\n      <td>United States of America</td>\n      <td>7.327442e+09</td>\n      <td>https://www.google.com/maps/place/Anthony's+Co...</td>\n      <td>anthonys_coal_fired_pizza</td>\n      <td>(732) 744-1500</td>\n      <td>Anthony's Coal Fired Pizza 80 Parsonage Rd EDI...</td>\n      <td>Anthony's Coal Fired Pizza 80 Parsonage Rd EDI...</td>\n    </tr>\n    <tr>\n      <td>2</td>\n      <td>2000626189</td>\n      <td>51</td>\n      <td>Locations: Chain Restaurants</td>\n      <td>Anthony's Coal Fired Pizza</td>\n      <td>6401 Jericho Tpke</td>\n      <td>COMMACK</td>\n      <td>NY</td>\n      <td>11725-2832</td>\n      <td>Location</td>\n      <td>United States of America</td>\n      <td>6.318583e+09</td>\n      <td>https://www.google.com/maps/place/Anthony's+Co...</td>\n      <td>anthonys_coal_fired_pizza</td>\n      <td>(631) 858-2625</td>\n      <td>Anthony's Coal Fired Pizza 6401 Jericho Tpke C...</td>\n      <td>Anthony's Coal Fired Pizza 6401 Jericho Tpke C...</td>\n    </tr>\n    <tr>\n      <td>3</td>\n      <td>2000626192</td>\n      <td>51</td>\n      <td>Locations: Chain Restaurants</td>\n      <td>Anthony's Coal Fired Pizza</td>\n      <td>50 East Wynnewood Road</td>\n      <td>WYNNEWOOD</td>\n      <td>PA</td>\n      <td>19096</td>\n      <td>Location</td>\n      <td>United States of America</td>\n      <td>6.106455e+09</td>\n      <td>https://www.google.com/maps/place/Anthony's+Co...</td>\n      <td>anthonys_coal_fired_pizza</td>\n      <td>(610) 645-5453</td>\n      <td>Anthony's Coal Fired Pizza 50 East Wynnewood R...</td>\n      <td>Anthony's Coal Fired Pizza 50 East Wynnewood R...</td>\n    </tr>\n    <tr>\n      <td>4</td>\n      <td>2000626194</td>\n      <td>51</td>\n      <td>Locations: Chain Restaurants</td>\n      <td>Anthony's Coal Fired Pizza</td>\n      <td>48 Walkers Brook Dr</td>\n      <td>READING</td>\n      <td>MA</td>\n      <td>01867-3224</td>\n      <td>Location</td>\n      <td>United States of America</td>\n      <td>7.819448e+09</td>\n      <td>https://www.google.com/maps/place/Anthony's+Co...</td>\n      <td>anthonys_coal_fired_pizza</td>\n      <td>(781) 944-8454</td>\n      <td>Anthony's Coal Fired Pizza 48 Walkers Brook Dr...</td>\n      <td>Anthony's Coal Fired Pizza 48 Walkers Brook Dr...</td>\n    </tr>\n  </tbody>\n</table>\n</div>"
     },
     "metadata": {},
     "execution_count": 18
    }
   ],
   "source": [
    "sub.head()"
   ]
  },
  {
   "cell_type": "code",
   "execution_count": 11,
   "metadata": {},
   "outputs": [],
   "source": [
    "sub[\"anthony\"] = sub[\"Company Name\"] + \" \" + sub[\"Address 1\"] + \" \" + sub[\"City\"] + \" \" + sub[\"State\"] + \" \" + sub[\"Zip\"].apply(lambda x:str(x)) + \" \" + sub[\"phone_number\"]"
   ]
  },
  {
   "cell_type": "code",
   "execution_count": 17,
   "metadata": {},
   "outputs": [],
   "source": [
    "sub[\"donatos\"] = sub[\"Company Name\"] + \" \" + sub[\"Address 1\"] + \" \" + sub[\"City\"] + \" \" + sub[\"State\"]"
   ]
  },
  {
   "cell_type": "code",
   "execution_count": 20,
   "metadata": {},
   "outputs": [],
   "source": [
    "sub.to_csv(\"data_sub.csv\", index=False)"
   ]
  },
  {
   "cell_type": "code",
   "execution_count": 2,
   "metadata": {},
   "outputs": [],
   "source": [
    "import pandas as pd \n",
    "sub = pd.read_csv(\"C:\\\\Users\\\\Spencer\\\\Desktop\\\\clean\\\\data\\\\data_sub.csv\")"
   ]
  },
  {
   "cell_type": "code",
   "execution_count": 3,
   "metadata": {},
   "outputs": [],
   "source": [
    "blaze = sub[sub[\"company_name\"]==\"blaze_pizza\"]"
   ]
  },
  {
   "cell_type": "code",
   "execution_count": 5,
   "metadata": {},
   "outputs": [],
   "source": [
    "blaze[\"index\"] = range(328)"
   ]
  },
  {
   "cell_type": "code",
   "execution_count": 7,
   "metadata": {},
   "outputs": [],
   "source": [
    "blaze.to_csv(\"data_blaze.csv\", index=False)"
   ]
  },
  {
   "cell_type": "code",
   "execution_count": 2,
   "metadata": {},
   "outputs": [],
   "source": [
    "import re"
   ]
  },
  {
   "cell_type": "code",
   "execution_count": 4,
   "metadata": {},
   "outputs": [
    {
     "output_type": "execute_result",
     "data": {
      "text/plain": [
       "2000626178"
      ]
     },
     "metadata": {},
     "execution_count": 4
    }
   ],
   "source": [
    "sub[\"Company ID\"]"
   ]
  },
  {
   "cell_type": "code",
   "execution_count": 8,
   "metadata": {},
   "outputs": [
    {
     "output_type": "execute_result",
     "data": {
      "text/plain": [
       "\"Anthony's Coal Fired Pizza\""
      ]
     },
     "metadata": {},
     "execution_count": 8
    }
   ],
   "source": [
    "master[master[\"Company ID\"]==2000626180][\"Company Name\"]"
   ]
  },
  {
   "cell_type": "code",
   "execution_count": 2,
   "metadata": {},
   "outputs": [],
   "source": [
    "from utilities import get_files"
   ]
  },
  {
   "cell_type": "code",
   "execution_count": 3,
   "metadata": {},
   "outputs": [
    {
     "output_type": "execute_result",
     "data": {
      "text/plain": [
       "[]"
      ]
     },
     "metadata": {},
     "execution_count": 3
    }
   ],
   "source": [
    "get_files(\"C:\\\\Users\\\\Spencer\\\\Desktop\\\\clean\\\\data\\\\data_with_address\", \"\")"
   ]
  },
  {
   "cell_type": "code",
   "execution_count": 3,
   "metadata": {},
   "outputs": [],
   "source": [
    "import os"
   ]
  },
  {
   "cell_type": "code",
   "execution_count": 4,
   "metadata": {},
   "outputs": [
    {
     "output_type": "execute_result",
     "data": {
      "text/plain": [
       "['anthonys_9_29_2020',\n",
       " 'anthonys_9_30_2020',\n",
       " 'bananas_11_3_20',\n",
       " 'blaze_11_6_20',\n",
       " 'brick_oven_11_3_20',\n",
       " 'brixx_11_2_20',\n",
       " 'california_pizza_kitchen_10_13_2020',\n",
       " 'chanellos_11_2_20',\n",
       " 'cheezies_11_2_20',\n",
       " 'chuck_e_cheese_10_10_2020',\n",
       " 'chuck_e_cheese_10_10_2020_2',\n",
       " 'chuck_e_cheese_10_8_2020',\n",
       " 'chuck_e_cheese_10_9_2020',\n",
       " 'cicis_pizza_10_27_2020',\n",
       " 'cicis_to_go_11_2_20',\n",
       " 'cottage_inn_pizza_11_1_20',\n",
       " 'cpk_asap_11_3_20',\n",
       " 'dangelo_10_30_2020',\n",
       " 'deweys_11_2_20',\n",
       " 'donatos_10_3_2020',\n",
       " 'donatos_9_30_2020',\n",
       " 'extreme_pizza_11_1_20',\n",
       " 'figaros_pizza_11_2_20',\n",
       " 'foxs_10_28_20',\n",
       " 'gattiland_11_3_20',\n",
       " 'gattis_10_31_20',\n",
       " 'gattis_pizza_buffet_11_3_20',\n",
       " 'gattitown_11_3_20',\n",
       " 'giordanos_10_30_20',\n",
       " 'godfathers_10_25_2020',\n",
       " 'green_leafs_11_2_20',\n",
       " 'guilles_11_3_20',\n",
       " 'hungry_howies_pizza_11_3_20',\n",
       " 'jets_10_28_20',\n",
       " 'johnnies_new_york_pizzeria_11_3_20',\n",
       " 'johnnys_new_york_style_pizzeria_11_1_20',\n",
       " 'johnny_bruscos_new_york_style_pizza_11_2_20',\n",
       " 'larosas_10_31_20',\n",
       " 'leto_10_29_20',\n",
       " 'loumalnatis_11_3_20',\n",
       " 'lou_malnatis_pizzeria_11_1_20_part1',\n",
       " 'lou_malnatis_pizzeria_11_1_20_part2',\n",
       " 'marcos_pizza_10_23_2020',\n",
       " 'mellow_mushroom_11_07_20',\n",
       " 'mod_pizza_10_24_2020',\n",
       " 'monicals_10_31_20',\n",
       " 'mountain_mikes_10_28_20',\n",
       " 'nick_n_willys_11_3_20',\n",
       " 'old_chicago_10_30_20',\n",
       " 'original_italian_pie_11_3_20',\n",
       " 'paisanos_11_2_20',\n",
       " 'paisanos_pizza_11_3_20',\n",
       " 'papa_ginos_10_30_20',\n",
       " 'papa_johns_10_21_2020',\n",
       " 'papa_johns_10_22_2020',\n",
       " 'papa_murphys_10_14_2020',\n",
       " 'peter_piper_pizza_10_29_20',\n",
       " 'pieology_10_20_2020',\n",
       " 'pie_five_10_31_20',\n",
       " 'pizzarev_11_2_20',\n",
       " 'pizza_boli_10_30_20',\n",
       " 'pizza_factory_10_29_20',\n",
       " 'pizza_guys_10_31_20',\n",
       " 'pizza_hut_10_1_2020',\n",
       " 'pizza_hut_10_1_2020_2',\n",
       " 'pizza_hut_10_2_2020',\n",
       " 'pizza_hut_10_5_2020',\n",
       " 'pizza_hut_10_5_2020_2',\n",
       " 'pizza_hut_10_6_2020',\n",
       " 'pizza_hut_10_6_2020_2',\n",
       " 'pizza_hut_9_30_2020',\n",
       " 'pizza_hut_pre_9_30_2020',\n",
       " 'pizza_inn_10_29_20',\n",
       " 'pizza_inn_express_11_2_20',\n",
       " 'pizza_italia_11_3_20',\n",
       " 'pizza_plus_10_31_20',\n",
       " 'pizza_pro_10_30_20',\n",
       " 'pizza_ranch_10_12_2020',\n",
       " 'pizza_schmizza_11_3_20',\n",
       " 'pizzeria_locale_11_3_20',\n",
       " 'rosatis_10_28_20',\n",
       " 'round_table_10_20_2020',\n",
       " 'sbarro_10_18_2020',\n",
       " 'schmizza_public_house_11_3_20',\n",
       " 'shakeys_11_1_20',\n",
       " 'simple_simons_10_29_20',\n",
       " 'snappy_11_1_20',\n",
       " 'steelworks_buffett_&_grill_11_3_20',\n",
       " 'straw_hat_grill_11_3_20',\n",
       " 'straw_hat_pizza_11_2_20',\n",
       " 'sukotto_11_3_20',\n",
       " 'the_market_by_villa_11_3_20',\n",
       " 'the_office_beer_bar_&_grill_11_3_20',\n",
       " 'toppers_10_31_20',\n",
       " 'villa_fresh_10_19_2020',\n",
       " 'villa_pizza_10_19_2020',\n",
       " 'vocelli_10_29_20',\n",
       " 'zpizza_11_1_20']"
      ]
     },
     "metadata": {},
     "execution_count": 4
    }
   ],
   "source": [
    "os.listdir(\"C:\\\\Users\\\\Spencer\\\\Desktop\\\\clean\\\\data\\\\data_with_id\")"
   ]
  },
  {
   "cell_type": "code",
   "execution_count": 1,
   "metadata": {},
   "outputs": [],
   "source": [
    "from utilities import replicate_folders"
   ]
  },
  {
   "cell_type": "code",
   "execution_count": 2,
   "metadata": {},
   "outputs": [],
   "source": [
    "replicate_folders(\"C:\\\\Users\\\\Spencer\\\\Desktop\\\\clean\\\\data\\\\data_with_id\", \"C:\\\\Users\\\\Spencer\\\\Desktop\\\\clean\\\\data\\\\data_with_address\")"
   ]
  },
  {
   "cell_type": "code",
   "execution_count": 10,
   "metadata": {},
   "outputs": [],
   "source": [
    "from datetime import datetime"
   ]
  },
  {
   "cell_type": "code",
   "execution_count": 11,
   "metadata": {},
   "outputs": [
    {
     "output_type": "execute_result",
     "data": {
      "text/plain": [
       "datetime.datetime(2020, 9, 23, 0, 0)"
      ]
     },
     "metadata": {},
     "execution_count": 11
    }
   ],
   "source": [
    "datetime(year=2020, month=9, day=23)"
   ]
  },
  {
   "cell_type": "code",
   "execution_count": 16,
   "metadata": {},
   "outputs": [],
   "source": [
    "from date_process import extract_date_underscores, relative_to_date"
   ]
  },
  {
   "cell_type": "code",
   "execution_count": 17,
   "metadata": {},
   "outputs": [],
   "source": [
    "anthonys_current = extract_date_underscores(\"anthonys_9_29_2020\")"
   ]
  },
  {
   "cell_type": "code",
   "execution_count": 24,
   "metadata": {},
   "outputs": [
    {
     "output_type": "execute_result",
     "data": {
      "text/plain": [
       "datetime.datetime(2019, 12, 4, 0, 0)"
      ]
     },
     "metadata": {},
     "execution_count": 24
    }
   ],
   "source": [
    "relative_to_date(\"10 months ago\", anthonys_current)"
   ]
  },
  {
   "cell_type": "code",
   "execution_count": 1,
   "metadata": {},
   "outputs": [],
   "source": [
    "import pandas as pd\n",
    "master = pd.read_excel(\"C:\\\\Users\\\\Spencer\\\\Desktop\\\\clean\\\\data\\\\data.xlsx\")"
   ]
  },
  {
   "cell_type": "code",
   "execution_count": 4,
   "metadata": {},
   "outputs": [
    {
     "output_type": "execute_result",
     "data": {
      "text/plain": [
       "dtype('O')"
      ]
     },
     "metadata": {},
     "execution_count": 4
    }
   ],
   "source": [
    "master[\"City\"].dtypes"
   ]
  },
  {
   "cell_type": "code",
   "execution_count": 1,
   "metadata": {},
   "outputs": [],
   "source": [
    "from utilities import get_files"
   ]
  },
  {
   "cell_type": "code",
   "execution_count": 8,
   "metadata": {},
   "outputs": [],
   "source": [
    "folder = \"C:\\\\Users\\\\Spencer\\\\Desktop\\\\clean\\\\data\\\\data_with_address\\\\pizza_hut_pre_9_30_2020\"\n",
    "files = get_files(folder, \"csv\")\n",
    "outdir = \"C:\\\\Users\\\\Spencer\\\\Desktop\\\\clean\\\\data\\\\data_with_address\\\\pizza_hut_pre_9_30_2020_WITHSTARS\""
   ]
  },
  {
   "cell_type": "code",
   "execution_count": 9,
   "metadata": {},
   "outputs": [],
   "source": [
    "for file in files:\n",
    "    filename = file.split(\"\\\\\")[-1]\n",
    "    df = pd.read_csv(file)\n",
    "    df[\"stars\"] = df[\"Stars\"].apply(lambda x: int(x.split(\" \")[0]))\n",
    "    df.to_csv(outdir + \"\\\\\" + filename)"
   ]
  },
  {
   "cell_type": "code",
   "execution_count": 6,
   "metadata": {},
   "outputs": [],
   "source": [
    "import pandas as pd"
   ]
  },
  {
   "cell_type": "code",
   "execution_count": 7,
   "metadata": {},
   "outputs": [],
   "source": [
    "lmp = pd.read_csv(\"C:\\\\Users\\\\Spencer\\\\Desktop\\\\clean\\\\data\\\\data_with_address\\\\lou_malnatis_pizzeria_11_1_20_part1\\\\lou_malnatis_pizzeria_2000634945.csv\")"
   ]
  },
  {
   "cell_type": "code",
   "execution_count": 8,
   "metadata": {},
   "outputs": [],
   "source": [
    "lmp[\"stars\"] = lmp[\"stars\"].apply(lambda x: int(x.split(\" \")[0]))"
   ]
  },
  {
   "cell_type": "code",
   "execution_count": 10,
   "metadata": {},
   "outputs": [],
   "source": [
    "lmp.to_csv(\"C:\\\\Users\\\\Spencer\\\\Desktop\\\\clean\\\\data\\\\data_with_address\\\\lou_malnatis_pizzeria_11_1_20_part1\\\\lou_malnatis_pizzeria_2000634945.csv\", index=False)"
   ]
  },
  {
   "cell_type": "code",
   "execution_count": 11,
   "metadata": {},
   "outputs": [],
   "source": [
    "folder = \"C:\\\\Users\\\\Spencer\\\\Desktop\\\\clean\\\\data\\\\processed\"\n",
    "files = get_files(folder, \"csv\")"
   ]
  },
  {
   "cell_type": "code",
   "execution_count": 16,
   "metadata": {},
   "outputs": [
    {
     "output_type": "execute_result",
     "data": {
      "text/plain": [
       "   Store Company ID                                      Store Address  \\\n",
       "0        2000626180  Anthony's Coal Fired Pizza 9521 Westview Dr CO...   \n",
       "1        2000626181  Anthony's Coal Fired Pizza 852 State Rt 3 CLIF...   \n",
       "2        2000626182  Anthony's Coal Fired Pizza 851 S Federal Hwy B...   \n",
       "3        2000626183  Anthony's Coal Fired Pizza 8119 Town Center Wa...   \n",
       "4        2000626187  Anthony's Coal Fired Pizza 750 N Krocks Rd ALL...   \n",
       "\n",
       "             Store Chain Name  Mean Rating (2020)  Mean Rating (2019)  \\\n",
       "0  Anthony's Coal Fired Pizza            4.441441            4.404040   \n",
       "1  Anthony's Coal Fired Pizza            4.260870            4.201550   \n",
       "2  Anthony's Coal Fired Pizza            4.044444            4.478992   \n",
       "3  Anthony's Coal Fired Pizza            3.978261            4.314516   \n",
       "4  Anthony's Coal Fired Pizza            3.800000            4.425703   \n",
       "\n",
       "   Mean Rating (2018)  Mean Rating (2017)  Mean Rating (2016)  \\\n",
       "0            4.453782            4.148148            4.437500   \n",
       "1            4.363014            3.944444            3.571429   \n",
       "2            4.329787            4.317073            3.500000   \n",
       "3            4.248227            3.962264            4.227273   \n",
       "4            4.295918            4.181159                 NaN   \n",
       "\n",
       "   Mean Rating (2015)  Mean Rating (2014)  ...  Number of Ratings (2012)  \\\n",
       "0            4.600000                 3.6  ...                         1   \n",
       "1            3.444444                 3.5  ...                         1   \n",
       "2                 NaN                 NaN  ...                         0   \n",
       "3            4.250000                 NaN  ...                         0   \n",
       "4                 NaN                 NaN  ...                         0   \n",
       "\n",
       "                                 Text Ratings (2020)  \\\n",
       "0  =HYPERLINK(\".\\text_reviews\\Anthony's Coal Fire...   \n",
       "1  =HYPERLINK(\".\\text_reviews\\Anthony's Coal Fire...   \n",
       "2  =HYPERLINK(\".\\text_reviews\\Anthony's Coal Fire...   \n",
       "3  =HYPERLINK(\".\\text_reviews\\Anthony's Coal Fire...   \n",
       "4  =HYPERLINK(\".\\text_reviews\\Anthony's Coal Fire...   \n",
       "\n",
       "                                 Text Ratings (2019)  \\\n",
       "0  =HYPERLINK(\".\\text_reviews\\Anthony's Coal Fire...   \n",
       "1  =HYPERLINK(\".\\text_reviews\\Anthony's Coal Fire...   \n",
       "2  =HYPERLINK(\".\\text_reviews\\Anthony's Coal Fire...   \n",
       "3  =HYPERLINK(\".\\text_reviews\\Anthony's Coal Fire...   \n",
       "4  =HYPERLINK(\".\\text_reviews\\Anthony's Coal Fire...   \n",
       "\n",
       "                                 Text Ratings (2018)  \\\n",
       "0  =HYPERLINK(\".\\text_reviews\\Anthony's Coal Fire...   \n",
       "1  =HYPERLINK(\".\\text_reviews\\Anthony's Coal Fire...   \n",
       "2  =HYPERLINK(\".\\text_reviews\\Anthony's Coal Fire...   \n",
       "3  =HYPERLINK(\".\\text_reviews\\Anthony's Coal Fire...   \n",
       "4  =HYPERLINK(\".\\text_reviews\\Anthony's Coal Fire...   \n",
       "\n",
       "                                 Text Ratings (2017)  \\\n",
       "0  =HYPERLINK(\".\\text_reviews\\Anthony's Coal Fire...   \n",
       "1  =HYPERLINK(\".\\text_reviews\\Anthony's Coal Fire...   \n",
       "2  =HYPERLINK(\".\\text_reviews\\Anthony's Coal Fire...   \n",
       "3  =HYPERLINK(\".\\text_reviews\\Anthony's Coal Fire...   \n",
       "4  =HYPERLINK(\".\\text_reviews\\Anthony's Coal Fire...   \n",
       "\n",
       "                                 Text Ratings (2016)  \\\n",
       "0  =HYPERLINK(\".\\text_reviews\\Anthony's Coal Fire...   \n",
       "1  =HYPERLINK(\".\\text_reviews\\Anthony's Coal Fire...   \n",
       "2  =HYPERLINK(\".\\text_reviews\\Anthony's Coal Fire...   \n",
       "3  =HYPERLINK(\".\\text_reviews\\Anthony's Coal Fire...   \n",
       "4  =HYPERLINK(\".\\text_reviews\\Anthony's Coal Fire...   \n",
       "\n",
       "                                 Text Ratings (2015)  \\\n",
       "0  =HYPERLINK(\".\\text_reviews\\Anthony's Coal Fire...   \n",
       "1  =HYPERLINK(\".\\text_reviews\\Anthony's Coal Fire...   \n",
       "2  =HYPERLINK(\".\\text_reviews\\Anthony's Coal Fire...   \n",
       "3  =HYPERLINK(\".\\text_reviews\\Anthony's Coal Fire...   \n",
       "4  =HYPERLINK(\".\\text_reviews\\Anthony's Coal Fire...   \n",
       "\n",
       "                                 Text Ratings (2014)  \\\n",
       "0  =HYPERLINK(\".\\text_reviews\\Anthony's Coal Fire...   \n",
       "1  =HYPERLINK(\".\\text_reviews\\Anthony's Coal Fire...   \n",
       "2  =HYPERLINK(\".\\text_reviews\\Anthony's Coal Fire...   \n",
       "3  =HYPERLINK(\".\\text_reviews\\Anthony's Coal Fire...   \n",
       "4  =HYPERLINK(\".\\text_reviews\\Anthony's Coal Fire...   \n",
       "\n",
       "                                 Text Ratings (2013)  \\\n",
       "0  =HYPERLINK(\".\\text_reviews\\Anthony's Coal Fire...   \n",
       "1  =HYPERLINK(\".\\text_reviews\\Anthony's Coal Fire...   \n",
       "2  =HYPERLINK(\".\\text_reviews\\Anthony's Coal Fire...   \n",
       "3  =HYPERLINK(\".\\text_reviews\\Anthony's Coal Fire...   \n",
       "4  =HYPERLINK(\".\\text_reviews\\Anthony's Coal Fire...   \n",
       "\n",
       "                                 Text Ratings (2012)  \n",
       "0  =HYPERLINK(\".\\text_reviews\\Anthony's Coal Fire...  \n",
       "1  =HYPERLINK(\".\\text_reviews\\Anthony's Coal Fire...  \n",
       "2  =HYPERLINK(\".\\text_reviews\\Anthony's Coal Fire...  \n",
       "3  =HYPERLINK(\".\\text_reviews\\Anthony's Coal Fire...  \n",
       "4  =HYPERLINK(\".\\text_reviews\\Anthony's Coal Fire...  \n",
       "\n",
       "[5 rows x 39 columns]"
      ],
      "text/html": "<div>\n<style scoped>\n    .dataframe tbody tr th:only-of-type {\n        vertical-align: middle;\n    }\n\n    .dataframe tbody tr th {\n        vertical-align: top;\n    }\n\n    .dataframe thead th {\n        text-align: right;\n    }\n</style>\n<table border=\"1\" class=\"dataframe\">\n  <thead>\n    <tr style=\"text-align: right;\">\n      <th></th>\n      <th>Store Company ID</th>\n      <th>Store Address</th>\n      <th>Store Chain Name</th>\n      <th>Mean Rating (2020)</th>\n      <th>Mean Rating (2019)</th>\n      <th>Mean Rating (2018)</th>\n      <th>Mean Rating (2017)</th>\n      <th>Mean Rating (2016)</th>\n      <th>Mean Rating (2015)</th>\n      <th>Mean Rating (2014)</th>\n      <th>...</th>\n      <th>Number of Ratings (2012)</th>\n      <th>Text Ratings (2020)</th>\n      <th>Text Ratings (2019)</th>\n      <th>Text Ratings (2018)</th>\n      <th>Text Ratings (2017)</th>\n      <th>Text Ratings (2016)</th>\n      <th>Text Ratings (2015)</th>\n      <th>Text Ratings (2014)</th>\n      <th>Text Ratings (2013)</th>\n      <th>Text Ratings (2012)</th>\n    </tr>\n  </thead>\n  <tbody>\n    <tr>\n      <td>0</td>\n      <td>2000626180</td>\n      <td>Anthony's Coal Fired Pizza 9521 Westview Dr CO...</td>\n      <td>Anthony's Coal Fired Pizza</td>\n      <td>4.441441</td>\n      <td>4.404040</td>\n      <td>4.453782</td>\n      <td>4.148148</td>\n      <td>4.437500</td>\n      <td>4.600000</td>\n      <td>3.6</td>\n      <td>...</td>\n      <td>1</td>\n      <td>=HYPERLINK(\".\\text_reviews\\Anthony's Coal Fire...</td>\n      <td>=HYPERLINK(\".\\text_reviews\\Anthony's Coal Fire...</td>\n      <td>=HYPERLINK(\".\\text_reviews\\Anthony's Coal Fire...</td>\n      <td>=HYPERLINK(\".\\text_reviews\\Anthony's Coal Fire...</td>\n      <td>=HYPERLINK(\".\\text_reviews\\Anthony's Coal Fire...</td>\n      <td>=HYPERLINK(\".\\text_reviews\\Anthony's Coal Fire...</td>\n      <td>=HYPERLINK(\".\\text_reviews\\Anthony's Coal Fire...</td>\n      <td>=HYPERLINK(\".\\text_reviews\\Anthony's Coal Fire...</td>\n      <td>=HYPERLINK(\".\\text_reviews\\Anthony's Coal Fire...</td>\n    </tr>\n    <tr>\n      <td>1</td>\n      <td>2000626181</td>\n      <td>Anthony's Coal Fired Pizza 852 State Rt 3 CLIF...</td>\n      <td>Anthony's Coal Fired Pizza</td>\n      <td>4.260870</td>\n      <td>4.201550</td>\n      <td>4.363014</td>\n      <td>3.944444</td>\n      <td>3.571429</td>\n      <td>3.444444</td>\n      <td>3.5</td>\n      <td>...</td>\n      <td>1</td>\n      <td>=HYPERLINK(\".\\text_reviews\\Anthony's Coal Fire...</td>\n      <td>=HYPERLINK(\".\\text_reviews\\Anthony's Coal Fire...</td>\n      <td>=HYPERLINK(\".\\text_reviews\\Anthony's Coal Fire...</td>\n      <td>=HYPERLINK(\".\\text_reviews\\Anthony's Coal Fire...</td>\n      <td>=HYPERLINK(\".\\text_reviews\\Anthony's Coal Fire...</td>\n      <td>=HYPERLINK(\".\\text_reviews\\Anthony's Coal Fire...</td>\n      <td>=HYPERLINK(\".\\text_reviews\\Anthony's Coal Fire...</td>\n      <td>=HYPERLINK(\".\\text_reviews\\Anthony's Coal Fire...</td>\n      <td>=HYPERLINK(\".\\text_reviews\\Anthony's Coal Fire...</td>\n    </tr>\n    <tr>\n      <td>2</td>\n      <td>2000626182</td>\n      <td>Anthony's Coal Fired Pizza 851 S Federal Hwy B...</td>\n      <td>Anthony's Coal Fired Pizza</td>\n      <td>4.044444</td>\n      <td>4.478992</td>\n      <td>4.329787</td>\n      <td>4.317073</td>\n      <td>3.500000</td>\n      <td>NaN</td>\n      <td>NaN</td>\n      <td>...</td>\n      <td>0</td>\n      <td>=HYPERLINK(\".\\text_reviews\\Anthony's Coal Fire...</td>\n      <td>=HYPERLINK(\".\\text_reviews\\Anthony's Coal Fire...</td>\n      <td>=HYPERLINK(\".\\text_reviews\\Anthony's Coal Fire...</td>\n      <td>=HYPERLINK(\".\\text_reviews\\Anthony's Coal Fire...</td>\n      <td>=HYPERLINK(\".\\text_reviews\\Anthony's Coal Fire...</td>\n      <td>=HYPERLINK(\".\\text_reviews\\Anthony's Coal Fire...</td>\n      <td>=HYPERLINK(\".\\text_reviews\\Anthony's Coal Fire...</td>\n      <td>=HYPERLINK(\".\\text_reviews\\Anthony's Coal Fire...</td>\n      <td>=HYPERLINK(\".\\text_reviews\\Anthony's Coal Fire...</td>\n    </tr>\n    <tr>\n      <td>3</td>\n      <td>2000626183</td>\n      <td>Anthony's Coal Fired Pizza 8119 Town Center Wa...</td>\n      <td>Anthony's Coal Fired Pizza</td>\n      <td>3.978261</td>\n      <td>4.314516</td>\n      <td>4.248227</td>\n      <td>3.962264</td>\n      <td>4.227273</td>\n      <td>4.250000</td>\n      <td>NaN</td>\n      <td>...</td>\n      <td>0</td>\n      <td>=HYPERLINK(\".\\text_reviews\\Anthony's Coal Fire...</td>\n      <td>=HYPERLINK(\".\\text_reviews\\Anthony's Coal Fire...</td>\n      <td>=HYPERLINK(\".\\text_reviews\\Anthony's Coal Fire...</td>\n      <td>=HYPERLINK(\".\\text_reviews\\Anthony's Coal Fire...</td>\n      <td>=HYPERLINK(\".\\text_reviews\\Anthony's Coal Fire...</td>\n      <td>=HYPERLINK(\".\\text_reviews\\Anthony's Coal Fire...</td>\n      <td>=HYPERLINK(\".\\text_reviews\\Anthony's Coal Fire...</td>\n      <td>=HYPERLINK(\".\\text_reviews\\Anthony's Coal Fire...</td>\n      <td>=HYPERLINK(\".\\text_reviews\\Anthony's Coal Fire...</td>\n    </tr>\n    <tr>\n      <td>4</td>\n      <td>2000626187</td>\n      <td>Anthony's Coal Fired Pizza 750 N Krocks Rd ALL...</td>\n      <td>Anthony's Coal Fired Pizza</td>\n      <td>3.800000</td>\n      <td>4.425703</td>\n      <td>4.295918</td>\n      <td>4.181159</td>\n      <td>NaN</td>\n      <td>NaN</td>\n      <td>NaN</td>\n      <td>...</td>\n      <td>0</td>\n      <td>=HYPERLINK(\".\\text_reviews\\Anthony's Coal Fire...</td>\n      <td>=HYPERLINK(\".\\text_reviews\\Anthony's Coal Fire...</td>\n      <td>=HYPERLINK(\".\\text_reviews\\Anthony's Coal Fire...</td>\n      <td>=HYPERLINK(\".\\text_reviews\\Anthony's Coal Fire...</td>\n      <td>=HYPERLINK(\".\\text_reviews\\Anthony's Coal Fire...</td>\n      <td>=HYPERLINK(\".\\text_reviews\\Anthony's Coal Fire...</td>\n      <td>=HYPERLINK(\".\\text_reviews\\Anthony's Coal Fire...</td>\n      <td>=HYPERLINK(\".\\text_reviews\\Anthony's Coal Fire...</td>\n      <td>=HYPERLINK(\".\\text_reviews\\Anthony's Coal Fire...</td>\n    </tr>\n  </tbody>\n</table>\n<p>5 rows × 39 columns</p>\n</div>"
     },
     "metadata": {},
     "execution_count": 16
    }
   ],
   "source": [
    "df = pd.read_csv(files[0])\n",
    "for i in range(1, len(files)):\n",
    "    ndf = pd.read_csv(files[i])\n",
    "    df = pd.concat([df, ndf], ignore_index=True)\n",
    "df.head()"
   ]
  },
  {
   "cell_type": "code",
   "execution_count": 18,
   "metadata": {},
   "outputs": [],
   "source": [
    "master = pd.read_excel(\"C:\\\\Users\\\\Spencer\\\\Desktop\\\\clean\\\\data\\\\data.xlsx\")"
   ]
  },
  {
   "cell_type": "code",
   "execution_count": 19,
   "metadata": {},
   "outputs": [
    {
     "output_type": "execute_result",
     "data": {
      "text/plain": [
       "   Company ID  Industry ID                 Industry Name  \\\n",
       "0  2000626178           51  Locations: Chain Restaurants   \n",
       "1  2000626186           51  Locations: Chain Restaurants   \n",
       "2  2000626189           51  Locations: Chain Restaurants   \n",
       "3  2000626192           51  Locations: Chain Restaurants   \n",
       "4  2000626194           51  Locations: Chain Restaurants   \n",
       "\n",
       "                 Company Name               Address 1       City State  \\\n",
       "0  Anthony's Coal Fired Pizza         984 State Rt 17     RAMSEY    NJ   \n",
       "1  Anthony's Coal Fired Pizza         80 Parsonage Rd     EDISON    NJ   \n",
       "2  Anthony's Coal Fired Pizza       6401 Jericho Tpke    COMMACK    NY   \n",
       "3  Anthony's Coal Fired Pizza  50 East Wynnewood Road  WYNNEWOOD    PA   \n",
       "4  Anthony's Coal Fired Pizza     48 Walkers Brook Dr    READING    MA   \n",
       "\n",
       "          Zip Listing Type                   Country         Phone  \\\n",
       "0  07446-1607     Location  United States of America  2.018183e+09   \n",
       "1  08837-2416     Location  United States of America  7.327442e+09   \n",
       "2  11725-2832     Location  United States of America  6.318583e+09   \n",
       "3       19096     Location  United States of America  6.106455e+09   \n",
       "4  01867-3224     Location  United States of America  7.819448e+09   \n",
       "\n",
       "                                         Google Link  \n",
       "0  https://www.google.com/maps/place/Anthony's+Co...  \n",
       "1  https://www.google.com/maps/place/Anthony's+Co...  \n",
       "2  https://www.google.com/maps/place/Anthony's+Co...  \n",
       "3  https://www.google.com/maps/place/Anthony's+Co...  \n",
       "4  https://www.google.com/maps/place/Anthony's+Co...  "
      ],
      "text/html": "<div>\n<style scoped>\n    .dataframe tbody tr th:only-of-type {\n        vertical-align: middle;\n    }\n\n    .dataframe tbody tr th {\n        vertical-align: top;\n    }\n\n    .dataframe thead th {\n        text-align: right;\n    }\n</style>\n<table border=\"1\" class=\"dataframe\">\n  <thead>\n    <tr style=\"text-align: right;\">\n      <th></th>\n      <th>Company ID</th>\n      <th>Industry ID</th>\n      <th>Industry Name</th>\n      <th>Company Name</th>\n      <th>Address 1</th>\n      <th>City</th>\n      <th>State</th>\n      <th>Zip</th>\n      <th>Listing Type</th>\n      <th>Country</th>\n      <th>Phone</th>\n      <th>Google Link</th>\n    </tr>\n  </thead>\n  <tbody>\n    <tr>\n      <td>0</td>\n      <td>2000626178</td>\n      <td>51</td>\n      <td>Locations: Chain Restaurants</td>\n      <td>Anthony's Coal Fired Pizza</td>\n      <td>984 State Rt 17</td>\n      <td>RAMSEY</td>\n      <td>NJ</td>\n      <td>07446-1607</td>\n      <td>Location</td>\n      <td>United States of America</td>\n      <td>2.018183e+09</td>\n      <td>https://www.google.com/maps/place/Anthony's+Co...</td>\n    </tr>\n    <tr>\n      <td>1</td>\n      <td>2000626186</td>\n      <td>51</td>\n      <td>Locations: Chain Restaurants</td>\n      <td>Anthony's Coal Fired Pizza</td>\n      <td>80 Parsonage Rd</td>\n      <td>EDISON</td>\n      <td>NJ</td>\n      <td>08837-2416</td>\n      <td>Location</td>\n      <td>United States of America</td>\n      <td>7.327442e+09</td>\n      <td>https://www.google.com/maps/place/Anthony's+Co...</td>\n    </tr>\n    <tr>\n      <td>2</td>\n      <td>2000626189</td>\n      <td>51</td>\n      <td>Locations: Chain Restaurants</td>\n      <td>Anthony's Coal Fired Pizza</td>\n      <td>6401 Jericho Tpke</td>\n      <td>COMMACK</td>\n      <td>NY</td>\n      <td>11725-2832</td>\n      <td>Location</td>\n      <td>United States of America</td>\n      <td>6.318583e+09</td>\n      <td>https://www.google.com/maps/place/Anthony's+Co...</td>\n    </tr>\n    <tr>\n      <td>3</td>\n      <td>2000626192</td>\n      <td>51</td>\n      <td>Locations: Chain Restaurants</td>\n      <td>Anthony's Coal Fired Pizza</td>\n      <td>50 East Wynnewood Road</td>\n      <td>WYNNEWOOD</td>\n      <td>PA</td>\n      <td>19096</td>\n      <td>Location</td>\n      <td>United States of America</td>\n      <td>6.106455e+09</td>\n      <td>https://www.google.com/maps/place/Anthony's+Co...</td>\n    </tr>\n    <tr>\n      <td>4</td>\n      <td>2000626194</td>\n      <td>51</td>\n      <td>Locations: Chain Restaurants</td>\n      <td>Anthony's Coal Fired Pizza</td>\n      <td>48 Walkers Brook Dr</td>\n      <td>READING</td>\n      <td>MA</td>\n      <td>01867-3224</td>\n      <td>Location</td>\n      <td>United States of America</td>\n      <td>7.819448e+09</td>\n      <td>https://www.google.com/maps/place/Anthony's+Co...</td>\n    </tr>\n  </tbody>\n</table>\n</div>"
     },
     "metadata": {},
     "execution_count": 19
    }
   ],
   "source": [
    "master.head()"
   ]
  },
  {
   "cell_type": "code",
   "execution_count": 20,
   "metadata": {},
   "outputs": [
    {
     "output_type": "execute_result",
     "data": {
      "text/plain": [
       "pandas.core.series.Series"
      ]
     },
     "metadata": {},
     "execution_count": 20
    }
   ],
   "source": [
    "type(master[\"Company ID\"])"
   ]
  },
  {
   "cell_type": "code",
   "execution_count": 28,
   "metadata": {},
   "outputs": [],
   "source": [
    "diff = master[~master[\"Company ID\"].isin(df[\"Store Company ID\"])]"
   ]
  },
  {
   "cell_type": "code",
   "execution_count": 29,
   "metadata": {},
   "outputs": [],
   "source": [
    "diff.to_csv(\"diff.csv\", index=False)"
   ]
  },
  {
   "cell_type": "code",
   "execution_count": 31,
   "metadata": {},
   "outputs": [],
   "source": [
    "from utilities import process_company_names"
   ]
  },
  {
   "cell_type": "code",
   "execution_count": 32,
   "metadata": {},
   "outputs": [],
   "source": [
    "process_company_names(diff, \"Company Name\", \"company_name\")"
   ]
  },
  {
   "cell_type": "code",
   "execution_count": 36,
   "metadata": {},
   "outputs": [],
   "source": [
    "scraps = diff[~diff[\"company_name\"].isin([\"dominos\", \"little_caesars_pizza\"])]"
   ]
  },
  {
   "cell_type": "code",
   "execution_count": 37,
   "metadata": {},
   "outputs": [],
   "source": [
    "scraps.to_csv(\"C:\\\\Users\\\\Spencer\\\\Desktop\\\\clean\\\\data\\\\scraps.csv\", index=False)"
   ]
  },
  {
   "cell_type": "code",
   "execution_count": 38,
   "metadata": {},
   "outputs": [],
   "source": [
    "df.to_csv(\"C:\\\\Users\\\\Spencer\\\\Desktop\\\\clean\\\\data\\\\all_processed.csv\", index=False)"
   ]
  },
  {
   "cell_type": "code",
   "execution_count": 1,
   "metadata": {},
   "outputs": [
    {
     "output_type": "execute_result",
     "data": {
      "text/plain": [
       "   Company ID  ...     company_name\n",
       "0  2000634159  ...  blackjack_pizza\n",
       "1  2000634168  ...  blackjack_pizza\n",
       "2  2000634172  ...  blackjack_pizza\n",
       "3  2000634156  ...  blackjack_pizza\n",
       "4  2000634157  ...  blackjack_pizza\n",
       "\n",
       "[5 rows x 13 columns]"
      ],
      "text/html": "<div>\n<style scoped>\n    .dataframe tbody tr th:only-of-type {\n        vertical-align: middle;\n    }\n\n    .dataframe tbody tr th {\n        vertical-align: top;\n    }\n\n    .dataframe thead th {\n        text-align: right;\n    }\n</style>\n<table border=\"1\" class=\"dataframe\">\n  <thead>\n    <tr style=\"text-align: right;\">\n      <th></th>\n      <th>Company ID</th>\n      <th>Industry ID</th>\n      <th>Industry Name</th>\n      <th>Company Name</th>\n      <th>Address 1</th>\n      <th>City</th>\n      <th>State</th>\n      <th>Zip</th>\n      <th>Listing Type</th>\n      <th>Country</th>\n      <th>Phone</th>\n      <th>Google Link</th>\n      <th>company_name</th>\n    </tr>\n  </thead>\n  <tbody>\n    <tr>\n      <td>0</td>\n      <td>2000634159</td>\n      <td>51</td>\n      <td>Locations: Chain Restaurants</td>\n      <td>Blackjack Pizza</td>\n      <td>6225 E 71st Pl</td>\n      <td>COMMERCE CITY</td>\n      <td>CO</td>\n      <td>80022-2066</td>\n      <td>Location</td>\n      <td>United States of America</td>\n      <td>3.032862e+09</td>\n      <td>https://www.google.com/maps/place/Blackjack+Pi...</td>\n      <td>blackjack_pizza</td>\n    </tr>\n    <tr>\n      <td>1</td>\n      <td>2000634168</td>\n      <td>51</td>\n      <td>Locations: Chain Restaurants</td>\n      <td>Blackjack Pizza</td>\n      <td>6450 W 120th Ave</td>\n      <td>BROOMFIELD</td>\n      <td>CO</td>\n      <td>80020-2983</td>\n      <td>Location</td>\n      <td>United States of America</td>\n      <td>3.034695e+09</td>\n      <td>https://www.google.com/maps/place/Blackjack+Pi...</td>\n      <td>blackjack_pizza</td>\n    </tr>\n    <tr>\n      <td>2</td>\n      <td>2000634172</td>\n      <td>51</td>\n      <td>Locations: Chain Restaurants</td>\n      <td>Blackjack Pizza</td>\n      <td>1075 E South Boulder Rd</td>\n      <td>LOUISVILLE</td>\n      <td>CO</td>\n      <td>80027-2560</td>\n      <td>Location</td>\n      <td>United States of America</td>\n      <td>3.036650e+09</td>\n      <td>https://www.google.com/maps/place/Blackjack+Pi...</td>\n      <td>blackjack_pizza</td>\n    </tr>\n    <tr>\n      <td>3</td>\n      <td>2000634156</td>\n      <td>51</td>\n      <td>Locations: Chain Restaurants</td>\n      <td>Blackjack Pizza</td>\n      <td>28245 S Tamiami Trl</td>\n      <td>BONITA SPRINGS</td>\n      <td>FL</td>\n      <td>34134-3221</td>\n      <td>Location</td>\n      <td>United States of America</td>\n      <td>2.394953e+09</td>\n      <td>https://www.google.com/maps/place/Blackjack+Pi...</td>\n      <td>blackjack_pizza</td>\n    </tr>\n    <tr>\n      <td>4</td>\n      <td>2000634157</td>\n      <td>51</td>\n      <td>Locations: Chain Restaurants</td>\n      <td>Blackjack Pizza</td>\n      <td>6465 W Colfax Ave</td>\n      <td>LAKEWOOD</td>\n      <td>CO</td>\n      <td>80214-1801</td>\n      <td>Location</td>\n      <td>United States of America</td>\n      <td>3.032376e+09</td>\n      <td>https://www.google.com/maps/place/Blackjack+Pi...</td>\n      <td>blackjack_pizza</td>\n    </tr>\n  </tbody>\n</table>\n</div>"
     },
     "metadata": {},
     "execution_count": 1
    }
   ],
   "source": [
    "import pandas as pd \n",
    "scraps = pd.read_csv(\"C:\\\\Users\\\\Spencer\\\\Desktop\\\\clean\\\\data\\\\scraps.csv\")\n",
    "scraps.head()"
   ]
  },
  {
   "cell_type": "code",
   "execution_count": 2,
   "metadata": {},
   "outputs": [
    {
     "output_type": "execute_result",
     "data": {
      "text/plain": [
       "   Company ID  Industry ID                 Industry Name  \\\n",
       "0  2000626178           51  Locations: Chain Restaurants   \n",
       "1  2000626186           51  Locations: Chain Restaurants   \n",
       "2  2000626189           51  Locations: Chain Restaurants   \n",
       "3  2000626192           51  Locations: Chain Restaurants   \n",
       "4  2000626194           51  Locations: Chain Restaurants   \n",
       "\n",
       "                 Company Name               Address 1       City State  \\\n",
       "0  Anthony's Coal Fired Pizza         984 State Rt 17     RAMSEY    NJ   \n",
       "1  Anthony's Coal Fired Pizza         80 Parsonage Rd     EDISON    NJ   \n",
       "2  Anthony's Coal Fired Pizza       6401 Jericho Tpke    COMMACK    NY   \n",
       "3  Anthony's Coal Fired Pizza  50 East Wynnewood Road  WYNNEWOOD    PA   \n",
       "4  Anthony's Coal Fired Pizza     48 Walkers Brook Dr    READING    MA   \n",
       "\n",
       "          Zip Listing Type                   Country         Phone  \\\n",
       "0  07446-1607     Location  United States of America  2.018183e+09   \n",
       "1  08837-2416     Location  United States of America  7.327442e+09   \n",
       "2  11725-2832     Location  United States of America  6.318583e+09   \n",
       "3       19096     Location  United States of America  6.106455e+09   \n",
       "4  01867-3224     Location  United States of America  7.819448e+09   \n",
       "\n",
       "                                         Google Link  \n",
       "0  https://www.google.com/maps/place/Anthony's+Co...  \n",
       "1  https://www.google.com/maps/place/Anthony's+Co...  \n",
       "2  https://www.google.com/maps/place/Anthony's+Co...  \n",
       "3  https://www.google.com/maps/place/Anthony's+Co...  \n",
       "4  https://www.google.com/maps/place/Anthony's+Co...  "
      ],
      "text/html": "<div>\n<style scoped>\n    .dataframe tbody tr th:only-of-type {\n        vertical-align: middle;\n    }\n\n    .dataframe tbody tr th {\n        vertical-align: top;\n    }\n\n    .dataframe thead th {\n        text-align: right;\n    }\n</style>\n<table border=\"1\" class=\"dataframe\">\n  <thead>\n    <tr style=\"text-align: right;\">\n      <th></th>\n      <th>Company ID</th>\n      <th>Industry ID</th>\n      <th>Industry Name</th>\n      <th>Company Name</th>\n      <th>Address 1</th>\n      <th>City</th>\n      <th>State</th>\n      <th>Zip</th>\n      <th>Listing Type</th>\n      <th>Country</th>\n      <th>Phone</th>\n      <th>Google Link</th>\n    </tr>\n  </thead>\n  <tbody>\n    <tr>\n      <td>0</td>\n      <td>2000626178</td>\n      <td>51</td>\n      <td>Locations: Chain Restaurants</td>\n      <td>Anthony's Coal Fired Pizza</td>\n      <td>984 State Rt 17</td>\n      <td>RAMSEY</td>\n      <td>NJ</td>\n      <td>07446-1607</td>\n      <td>Location</td>\n      <td>United States of America</td>\n      <td>2.018183e+09</td>\n      <td>https://www.google.com/maps/place/Anthony's+Co...</td>\n    </tr>\n    <tr>\n      <td>1</td>\n      <td>2000626186</td>\n      <td>51</td>\n      <td>Locations: Chain Restaurants</td>\n      <td>Anthony's Coal Fired Pizza</td>\n      <td>80 Parsonage Rd</td>\n      <td>EDISON</td>\n      <td>NJ</td>\n      <td>08837-2416</td>\n      <td>Location</td>\n      <td>United States of America</td>\n      <td>7.327442e+09</td>\n      <td>https://www.google.com/maps/place/Anthony's+Co...</td>\n    </tr>\n    <tr>\n      <td>2</td>\n      <td>2000626189</td>\n      <td>51</td>\n      <td>Locations: Chain Restaurants</td>\n      <td>Anthony's Coal Fired Pizza</td>\n      <td>6401 Jericho Tpke</td>\n      <td>COMMACK</td>\n      <td>NY</td>\n      <td>11725-2832</td>\n      <td>Location</td>\n      <td>United States of America</td>\n      <td>6.318583e+09</td>\n      <td>https://www.google.com/maps/place/Anthony's+Co...</td>\n    </tr>\n    <tr>\n      <td>3</td>\n      <td>2000626192</td>\n      <td>51</td>\n      <td>Locations: Chain Restaurants</td>\n      <td>Anthony's Coal Fired Pizza</td>\n      <td>50 East Wynnewood Road</td>\n      <td>WYNNEWOOD</td>\n      <td>PA</td>\n      <td>19096</td>\n      <td>Location</td>\n      <td>United States of America</td>\n      <td>6.106455e+09</td>\n      <td>https://www.google.com/maps/place/Anthony's+Co...</td>\n    </tr>\n    <tr>\n      <td>4</td>\n      <td>2000626194</td>\n      <td>51</td>\n      <td>Locations: Chain Restaurants</td>\n      <td>Anthony's Coal Fired Pizza</td>\n      <td>48 Walkers Brook Dr</td>\n      <td>READING</td>\n      <td>MA</td>\n      <td>01867-3224</td>\n      <td>Location</td>\n      <td>United States of America</td>\n      <td>7.819448e+09</td>\n      <td>https://www.google.com/maps/place/Anthony's+Co...</td>\n    </tr>\n  </tbody>\n</table>\n</div>"
     },
     "metadata": {},
     "execution_count": 2
    }
   ],
   "source": [
    "master.head()"
   ]
  },
  {
   "cell_type": "code",
   "execution_count": 2,
   "metadata": {},
   "outputs": [],
   "source": [
    "test_subset = master[master[\"Company ID\"].isin([2000626180, 2000626181, 2000626182])]"
   ]
  },
  {
   "cell_type": "code",
   "execution_count": 6,
   "metadata": {},
   "outputs": [],
   "source": [
    "test_subset.to_csv(\"test_subset.csv\", index=False)"
   ]
  },
  {
   "cell_type": "code",
   "execution_count": 4,
   "metadata": {},
   "outputs": [],
   "source": [
    "test_subset = pd.read_csv(\"test_subset.csv\")"
   ]
  },
  {
   "cell_type": "code",
   "execution_count": 4,
   "metadata": {},
   "outputs": [],
   "source": [
    "test_scraped = pd.read_csv(\"C:\\\\Users\\\\Spencer\\\\Desktop\\\\clean\\\\data\\\\processed\\\\anthonys_9_29_2020.csv\")"
   ]
  },
  {
   "cell_type": "code",
   "execution_count": 5,
   "metadata": {},
   "outputs": [],
   "source": [
    "test_subset = test_subset.rename(columns={\"Company ID\":\"Store Company ID\"})"
   ]
  },
  {
   "cell_type": "code",
   "execution_count": 8,
   "metadata": {},
   "outputs": [
    {
     "output_type": "execute_result",
     "data": {
      "text/plain": [
       "    Store Company ID  Industry ID                 Industry Name  \\\n",
       "31        2000626181           51  Locations: Chain Restaurants   \n",
       "32        2000626182           51  Locations: Chain Restaurants   \n",
       "45        2000626180           51  Locations: Chain Restaurants   \n",
       "\n",
       "                  Company Name          Address 1           City State  \\\n",
       "31  Anthony's Coal Fired Pizza     852 State Rt 3        CLIFTON    NJ   \n",
       "32  Anthony's Coal Fired Pizza  851 S Federal Hwy     BOCA RATON    FL   \n",
       "45  Anthony's Coal Fired Pizza   9521 Westview Dr  CORAL SPRINGS    FL   \n",
       "\n",
       "           Zip Listing Type                   Country         Phone  \\\n",
       "31  07012-2343     Location  United States of America  9.734713e+09   \n",
       "32  33432-6165     Location  United States of America  5.613383e+09   \n",
       "45  33076-2512     Location  United States of America  9.543403e+09   \n",
       "\n",
       "                                          Google Link  \n",
       "31  https://www.google.com/maps/place/Anthony's+Co...  \n",
       "32  https://www.google.com/maps/place/Anthony's+Co...  \n",
       "45  https://www.google.com/maps/place/Anthony's+Co...  "
      ],
      "text/html": "<div>\n<style scoped>\n    .dataframe tbody tr th:only-of-type {\n        vertical-align: middle;\n    }\n\n    .dataframe tbody tr th {\n        vertical-align: top;\n    }\n\n    .dataframe thead th {\n        text-align: right;\n    }\n</style>\n<table border=\"1\" class=\"dataframe\">\n  <thead>\n    <tr style=\"text-align: right;\">\n      <th></th>\n      <th>Store Company ID</th>\n      <th>Industry ID</th>\n      <th>Industry Name</th>\n      <th>Company Name</th>\n      <th>Address 1</th>\n      <th>City</th>\n      <th>State</th>\n      <th>Zip</th>\n      <th>Listing Type</th>\n      <th>Country</th>\n      <th>Phone</th>\n      <th>Google Link</th>\n    </tr>\n  </thead>\n  <tbody>\n    <tr>\n      <td>31</td>\n      <td>2000626181</td>\n      <td>51</td>\n      <td>Locations: Chain Restaurants</td>\n      <td>Anthony's Coal Fired Pizza</td>\n      <td>852 State Rt 3</td>\n      <td>CLIFTON</td>\n      <td>NJ</td>\n      <td>07012-2343</td>\n      <td>Location</td>\n      <td>United States of America</td>\n      <td>9.734713e+09</td>\n      <td>https://www.google.com/maps/place/Anthony's+Co...</td>\n    </tr>\n    <tr>\n      <td>32</td>\n      <td>2000626182</td>\n      <td>51</td>\n      <td>Locations: Chain Restaurants</td>\n      <td>Anthony's Coal Fired Pizza</td>\n      <td>851 S Federal Hwy</td>\n      <td>BOCA RATON</td>\n      <td>FL</td>\n      <td>33432-6165</td>\n      <td>Location</td>\n      <td>United States of America</td>\n      <td>5.613383e+09</td>\n      <td>https://www.google.com/maps/place/Anthony's+Co...</td>\n    </tr>\n    <tr>\n      <td>45</td>\n      <td>2000626180</td>\n      <td>51</td>\n      <td>Locations: Chain Restaurants</td>\n      <td>Anthony's Coal Fired Pizza</td>\n      <td>9521 Westview Dr</td>\n      <td>CORAL SPRINGS</td>\n      <td>FL</td>\n      <td>33076-2512</td>\n      <td>Location</td>\n      <td>United States of America</td>\n      <td>9.543403e+09</td>\n      <td>https://www.google.com/maps/place/Anthony's+Co...</td>\n    </tr>\n  </tbody>\n</table>\n</div>"
     },
     "metadata": {},
     "execution_count": 8
    }
   ],
   "source": [
    "test_subset"
   ]
  },
  {
   "cell_type": "code",
   "execution_count": 11,
   "metadata": {},
   "outputs": [],
   "source": [
    "join_test = pd.merge(test_subset, test_scraped, on=[\"Store Company ID\"])\n",
    "join_test.to_csv(\"join_test.csv\", index=False)"
   ]
  },
  {
   "cell_type": "code",
   "execution_count": 18,
   "metadata": {},
   "outputs": [],
   "source": [
    "join_test = pd.read_csv(\"join_test.csv\")"
   ]
  },
  {
   "cell_type": "code",
   "execution_count": 29,
   "metadata": {},
   "outputs": [
    {
     "output_type": "execute_result",
     "data": {
      "text/plain": [
       "0    613\n",
       "1    348\n",
       "2    723\n",
       "Name: Number of Ratings (2020), dtype: int64"
      ]
     },
     "metadata": {},
     "execution_count": 29
    }
   ],
   "source": [
    "total_review_count = 0\n",
    "review_cols = ['Number of Ratings (2020)',\n",
    " 'Number of Ratings (2019)',\n",
    " 'Number of Ratings (2018)',\n",
    " 'Number of Ratings (2017)',\n",
    " 'Number of Ratings (2016)',\n",
    " 'Number of Ratings (2015)',\n",
    " 'Number of Ratings (2014)',\n",
    " 'Number of Ratings (2013)',\n",
    " 'Number of Ratings (2012)']\n",
    "total_review_count = join_test[review_cols[0]].copy()\n",
    "if (len(review_cols) > 1):\n",
    "    for i in range(len(review_cols[1:])):\n",
    "        total_review_count += join_test[review_cols[i]]\n",
    "total_review_count"
   ]
  },
  {
   "cell_type": "code",
   "execution_count": 32,
   "metadata": {},
   "outputs": [
    {
     "output_type": "execute_result",
     "data": {
      "text/plain": [
       "0    545\n",
       "1    303\n",
       "2    613\n",
       "dtype: int64"
      ]
     },
     "metadata": {},
     "execution_count": 32
    }
   ],
   "source": [
    "join_test[list(join_test.columns[range(32, 41)])].sum(axis=1)"
   ]
  },
  {
   "cell_type": "code",
   "execution_count": 30,
   "metadata": {},
   "outputs": [],
   "source": [
    "review_cols = join_test.columns[range(32, 41)]"
   ]
  },
  {
   "cell_type": "code",
   "execution_count": 21,
   "metadata": {},
   "outputs": [
    {
     "output_type": "execute_result",
     "data": {
      "text/plain": [
       "['Number of Ratings (2020)',\n",
       " 'Number of Ratings (2019)',\n",
       " 'Number of Ratings (2018)',\n",
       " 'Number of Ratings (2017)',\n",
       " 'Number of Ratings (2016)',\n",
       " 'Number of Ratings (2015)',\n",
       " 'Number of Ratings (2014)',\n",
       " 'Number of Ratings (2013)',\n",
       " 'Number of Ratings (2012)']"
      ]
     },
     "metadata": {},
     "execution_count": 21
    }
   ],
   "source": [
    "list(review_cols)"
   ]
  },
  {
   "cell_type": "code",
   "execution_count": 1,
   "metadata": {},
   "outputs": [],
   "source": [
    "from evaluate import evaluate_all"
   ]
  },
  {
   "cell_type": "code",
   "execution_count": 2,
   "metadata": {},
   "outputs": [
    {
     "output_type": "stream",
     "name": "stdout",
     "text": [
      "Saved file as C:\\Users\\Spencer\\Desktop\\clean\\data\\evaluations\\anthonys_9_29_2020_evaluation.csv\n",
      "Saved file as C:\\Users\\Spencer\\Desktop\\clean\\data\\evaluations\\anthonys_9_30_2020_evaluation.csv\n",
      "Saved file as C:\\Users\\Spencer\\Desktop\\clean\\data\\evaluations\\bananas_11_3_20_evaluation.csv\n",
      "Saved file as C:\\Users\\Spencer\\Desktop\\clean\\data\\evaluations\\blaze_11_6_20_evaluation.csv\n",
      "Saved file as C:\\Users\\Spencer\\Desktop\\clean\\data\\evaluations\\brick_oven_11_3_20_evaluation.csv\n",
      "Saved file as C:\\Users\\Spencer\\Desktop\\clean\\data\\evaluations\\brixx_11_2_20_evaluation.csv\n",
      "Saved file as C:\\Users\\Spencer\\Desktop\\clean\\data\\evaluations\\california_pizza_kitchen_10_13_2020_evaluation.csv\n",
      "Saved file as C:\\Users\\Spencer\\Desktop\\clean\\data\\evaluations\\chanellos_11_2_20_evaluation.csv\n",
      "Saved file as C:\\Users\\Spencer\\Desktop\\clean\\data\\evaluations\\cheezies_11_2_20_evaluation.csv\n",
      "Saved file as C:\\Users\\Spencer\\Desktop\\clean\\data\\evaluations\\chuck_e_cheese_10_10_2020_evaluation.csv\n",
      "Saved file as C:\\Users\\Spencer\\Desktop\\clean\\data\\evaluations\\chuck_e_cheese_10_10_2020_2_evaluation.csv\n",
      "Saved file as C:\\Users\\Spencer\\Desktop\\clean\\data\\evaluations\\chuck_e_cheese_10_8_2020_evaluation.csv\n",
      "Saved file as C:\\Users\\Spencer\\Desktop\\clean\\data\\evaluations\\chuck_e_cheese_10_9_2020_evaluation.csv\n",
      "Saved file as C:\\Users\\Spencer\\Desktop\\clean\\data\\evaluations\\cicis_pizza_10_27_2020_evaluation.csv\n",
      "Saved file as C:\\Users\\Spencer\\Desktop\\clean\\data\\evaluations\\cicis_to_go_11_2_20_evaluation.csv\n",
      "Saved file as C:\\Users\\Spencer\\Desktop\\clean\\data\\evaluations\\cottage_inn_pizza_11_1_20_evaluation.csv\n",
      "Saved file as C:\\Users\\Spencer\\Desktop\\clean\\data\\evaluations\\cpk_asap_11_3_20_evaluation.csv\n",
      "Saved file as C:\\Users\\Spencer\\Desktop\\clean\\data\\evaluations\\dangelo_10_30_2020_evaluation.csv\n",
      "Saved file as C:\\Users\\Spencer\\Desktop\\clean\\data\\evaluations\\deweys_11_2_20_evaluation.csv\n",
      "Saved file as C:\\Users\\Spencer\\Desktop\\clean\\data\\evaluations\\donatos_10_3_2020_evaluation.csv\n",
      "Saved file as C:\\Users\\Spencer\\Desktop\\clean\\data\\evaluations\\donatos_9_30_2020_evaluation.csv\n",
      "Saved file as C:\\Users\\Spencer\\Desktop\\clean\\data\\evaluations\\extreme_pizza_11_1_20_evaluation.csv\n",
      "Saved file as C:\\Users\\Spencer\\Desktop\\clean\\data\\evaluations\\figaros_pizza_11_2_20_evaluation.csv\n",
      "Saved file as C:\\Users\\Spencer\\Desktop\\clean\\data\\evaluations\\foxs_10_28_20_evaluation.csv\n",
      "Saved file as C:\\Users\\Spencer\\Desktop\\clean\\data\\evaluations\\gattiland_11_3_20_evaluation.csv\n",
      "Saved file as C:\\Users\\Spencer\\Desktop\\clean\\data\\evaluations\\gattis_10_31_20_evaluation.csv\n",
      "Saved file as C:\\Users\\Spencer\\Desktop\\clean\\data\\evaluations\\gattis_pizza_buffet_11_3_20_evaluation.csv\n",
      "Saved file as C:\\Users\\Spencer\\Desktop\\clean\\data\\evaluations\\gattitown_11_3_20_evaluation.csv\n",
      "Saved file as C:\\Users\\Spencer\\Desktop\\clean\\data\\evaluations\\giordanos_10_30_20_evaluation.csv\n",
      "Saved file as C:\\Users\\Spencer\\Desktop\\clean\\data\\evaluations\\godfathers_10_25_2020_evaluation.csv\n",
      "Saved file as C:\\Users\\Spencer\\Desktop\\clean\\data\\evaluations\\green_leafs_11_2_20_evaluation.csv\n",
      "Saved file as C:\\Users\\Spencer\\Desktop\\clean\\data\\evaluations\\guilles_11_3_20_evaluation.csv\n",
      "Saved file as C:\\Users\\Spencer\\Desktop\\clean\\data\\evaluations\\hungry_howies_pizza_11_3_20_evaluation.csv\n",
      "Saved file as C:\\Users\\Spencer\\Desktop\\clean\\data\\evaluations\\jets_10_28_20_evaluation.csv\n",
      "Saved file as C:\\Users\\Spencer\\Desktop\\clean\\data\\evaluations\\johnnies_new_york_pizzeria_11_3_20_evaluation.csv\n",
      "Saved file as C:\\Users\\Spencer\\Desktop\\clean\\data\\evaluations\\johnnys_new_york_style_pizzeria_11_1_20_evaluation.csv\n",
      "Saved file as C:\\Users\\Spencer\\Desktop\\clean\\data\\evaluations\\johnny_bruscos_new_york_style_pizza_11_2_20_evaluation.csv\n",
      "Saved file as C:\\Users\\Spencer\\Desktop\\clean\\data\\evaluations\\larosas_10_31_20_evaluation.csv\n",
      "Saved file as C:\\Users\\Spencer\\Desktop\\clean\\data\\evaluations\\leto_10_29_20_evaluation.csv\n",
      "Saved file as C:\\Users\\Spencer\\Desktop\\clean\\data\\evaluations\\loumalnatis_11_3_20_evaluation.csv\n",
      "Saved file as C:\\Users\\Spencer\\Desktop\\clean\\data\\evaluations\\lou_malnatis_pizzeria_11_1_20_part1_evaluation.csv\n",
      "Saved file as C:\\Users\\Spencer\\Desktop\\clean\\data\\evaluations\\lou_malnatis_pizzeria_11_1_20_part2_evaluation.csv\n",
      "Saved file as C:\\Users\\Spencer\\Desktop\\clean\\data\\evaluations\\marcos_pizza_10_23_2020_evaluation.csv\n",
      "Saved file as C:\\Users\\Spencer\\Desktop\\clean\\data\\evaluations\\mellow_mushroom_11_07_20_evaluation.csv\n",
      "Saved file as C:\\Users\\Spencer\\Desktop\\clean\\data\\evaluations\\mod_pizza_10_24_2020_evaluation.csv\n",
      "Saved file as C:\\Users\\Spencer\\Desktop\\clean\\data\\evaluations\\monicals_10_31_20_evaluation.csv\n",
      "Saved file as C:\\Users\\Spencer\\Desktop\\clean\\data\\evaluations\\mountain_mikes_10_28_20_evaluation.csv\n",
      "Saved file as C:\\Users\\Spencer\\Desktop\\clean\\data\\evaluations\\nick_n_willys_11_3_20_evaluation.csv\n",
      "Saved file as C:\\Users\\Spencer\\Desktop\\clean\\data\\evaluations\\old_chicago_10_30_20_evaluation.csv\n",
      "Saved file as C:\\Users\\Spencer\\Desktop\\clean\\data\\evaluations\\original_italian_pie_11_3_20_evaluation.csv\n",
      "Saved file as C:\\Users\\Spencer\\Desktop\\clean\\data\\evaluations\\paisanos_11_2_20_evaluation.csv\n",
      "Saved file as C:\\Users\\Spencer\\Desktop\\clean\\data\\evaluations\\paisanos_pizza_11_3_20_evaluation.csv\n",
      "Saved file as C:\\Users\\Spencer\\Desktop\\clean\\data\\evaluations\\papa_ginos_10_30_20_evaluation.csv\n",
      "Saved file as C:\\Users\\Spencer\\Desktop\\clean\\data\\evaluations\\papa_johns_10_21_2020_evaluation.csv\n",
      "Saved file as C:\\Users\\Spencer\\Desktop\\clean\\data\\evaluations\\papa_johns_10_22_2020_evaluation.csv\n",
      "Saved file as C:\\Users\\Spencer\\Desktop\\clean\\data\\evaluations\\papa_murphys_10_14_2020_evaluation.csv\n",
      "Saved file as C:\\Users\\Spencer\\Desktop\\clean\\data\\evaluations\\peter_piper_pizza_10_29_20_evaluation.csv\n",
      "Saved file as C:\\Users\\Spencer\\Desktop\\clean\\data\\evaluations\\pieology_10_20_2020_evaluation.csv\n",
      "Saved file as C:\\Users\\Spencer\\Desktop\\clean\\data\\evaluations\\pie_five_10_31_20_evaluation.csv\n",
      "Saved file as C:\\Users\\Spencer\\Desktop\\clean\\data\\evaluations\\pizzarev_11_2_20_evaluation.csv\n",
      "Saved file as C:\\Users\\Spencer\\Desktop\\clean\\data\\evaluations\\pizza_boli_10_30_20_evaluation.csv\n",
      "Saved file as C:\\Users\\Spencer\\Desktop\\clean\\data\\evaluations\\pizza_factory_10_29_20_evaluation.csv\n",
      "Saved file as C:\\Users\\Spencer\\Desktop\\clean\\data\\evaluations\\pizza_guys_10_31_20_evaluation.csv\n",
      "Saved file as C:\\Users\\Spencer\\Desktop\\clean\\data\\evaluations\\pizza_hut_10_1_2020_evaluation.csv\n",
      "Saved file as C:\\Users\\Spencer\\Desktop\\clean\\data\\evaluations\\pizza_hut_10_1_2020_2_evaluation.csv\n",
      "Saved file as C:\\Users\\Spencer\\Desktop\\clean\\data\\evaluations\\pizza_hut_10_2_2020_evaluation.csv\n",
      "Saved file as C:\\Users\\Spencer\\Desktop\\clean\\data\\evaluations\\pizza_hut_10_5_2020_evaluation.csv\n",
      "Saved file as C:\\Users\\Spencer\\Desktop\\clean\\data\\evaluations\\pizza_hut_10_5_2020_2_evaluation.csv\n",
      "Saved file as C:\\Users\\Spencer\\Desktop\\clean\\data\\evaluations\\pizza_hut_10_6_2020_evaluation.csv\n",
      "Saved file as C:\\Users\\Spencer\\Desktop\\clean\\data\\evaluations\\pizza_hut_10_6_2020_2_evaluation.csv\n",
      "Saved file as C:\\Users\\Spencer\\Desktop\\clean\\data\\evaluations\\pizza_hut_9_30_2020_evaluation.csv\n",
      "Saved file as C:\\Users\\Spencer\\Desktop\\clean\\data\\evaluations\\pizza_hut_pre_9_30_2020_WITHSTARS_evaluation.csv\n",
      "Saved file as C:\\Users\\Spencer\\Desktop\\clean\\data\\evaluations\\pizza_inn_10_29_20_evaluation.csv\n",
      "Saved file as C:\\Users\\Spencer\\Desktop\\clean\\data\\evaluations\\pizza_inn_express_11_2_20_evaluation.csv\n",
      "Saved file as C:\\Users\\Spencer\\Desktop\\clean\\data\\evaluations\\pizza_italia_11_3_20_evaluation.csv\n",
      "Saved file as C:\\Users\\Spencer\\Desktop\\clean\\data\\evaluations\\pizza_plus_10_31_20_evaluation.csv\n",
      "Saved file as C:\\Users\\Spencer\\Desktop\\clean\\data\\evaluations\\pizza_pro_10_30_20_evaluation.csv\n",
      "Saved file as C:\\Users\\Spencer\\Desktop\\clean\\data\\evaluations\\pizza_ranch_10_12_2020_evaluation.csv\n",
      "Saved file as C:\\Users\\Spencer\\Desktop\\clean\\data\\evaluations\\pizza_schmizza_11_3_20_evaluation.csv\n",
      "Saved file as C:\\Users\\Spencer\\Desktop\\clean\\data\\evaluations\\pizzeria_locale_11_3_20_evaluation.csv\n",
      "Saved file as C:\\Users\\Spencer\\Desktop\\clean\\data\\evaluations\\rosatis_10_28_20_evaluation.csv\n",
      "Saved file as C:\\Users\\Spencer\\Desktop\\clean\\data\\evaluations\\round_table_10_20_2020_evaluation.csv\n",
      "Saved file as C:\\Users\\Spencer\\Desktop\\clean\\data\\evaluations\\sbarro_10_18_2020_evaluation.csv\n",
      "Saved file as C:\\Users\\Spencer\\Desktop\\clean\\data\\evaluations\\schmizza_public_house_11_3_20_evaluation.csv\n",
      "Saved file as C:\\Users\\Spencer\\Desktop\\clean\\data\\evaluations\\shakeys_11_1_20_evaluation.csv\n",
      "Saved file as C:\\Users\\Spencer\\Desktop\\clean\\data\\evaluations\\simple_simons_10_29_20_evaluation.csv\n",
      "Saved file as C:\\Users\\Spencer\\Desktop\\clean\\data\\evaluations\\snappy_11_1_20_evaluation.csv\n",
      "Saved file as C:\\Users\\Spencer\\Desktop\\clean\\data\\evaluations\\steelworks_buffett_&_grill_11_3_20_evaluation.csv\n",
      "Saved file as C:\\Users\\Spencer\\Desktop\\clean\\data\\evaluations\\straw_hat_grill_11_3_20_evaluation.csv\n",
      "Saved file as C:\\Users\\Spencer\\Desktop\\clean\\data\\evaluations\\straw_hat_pizza_11_2_20_evaluation.csv\n",
      "Saved file as C:\\Users\\Spencer\\Desktop\\clean\\data\\evaluations\\sukotto_11_3_20_evaluation.csv\n",
      "Saved file as C:\\Users\\Spencer\\Desktop\\clean\\data\\evaluations\\the_market_by_villa_11_3_20_evaluation.csv\n",
      "Saved file as C:\\Users\\Spencer\\Desktop\\clean\\data\\evaluations\\the_office_beer_bar_&_grill_11_3_20_evaluation.csv\n",
      "Saved file as C:\\Users\\Spencer\\Desktop\\clean\\data\\evaluations\\toppers_10_31_20_evaluation.csv\n",
      "Saved file as C:\\Users\\Spencer\\Desktop\\clean\\data\\evaluations\\villa_fresh_10_19_2020_evaluation.csv\n",
      "Saved file as C:\\Users\\Spencer\\Desktop\\clean\\data\\evaluations\\villa_pizza_10_19_2020_evaluation.csv\n",
      "Saved file as C:\\Users\\Spencer\\Desktop\\clean\\data\\evaluations\\vocelli_10_29_20_evaluation.csv\n",
      "Saved file as C:\\Users\\Spencer\\Desktop\\clean\\data\\evaluations\\zpizza_11_1_20_evaluation.csv\n"
     ]
    }
   ],
   "source": [
    "data_path = \"C:\\\\Users\\\\Spencer\\\\Desktop\\\\clean\\\\data\\\\data.csv\"\n",
    "scraped_directory_path = \"C:\\\\Users\\\\Spencer\\\\Desktop\\\\clean\\\\data\\\\processed\"\n",
    "output_directory_path = \"C:\\\\Users\\\\Spencer\\\\Desktop\\\\clean\\\\data\\\\evaluations\"\n",
    "counts_output_path = \"C:\\\\Users\\\\Spencer\\\\Desktop\\\\clean\\\\data\\\\review_counts.csv\"\n",
    "id_col = \"Store Company ID\"\n",
    "data_count_cols = ['Number of Ratings (2020)',\n",
    " 'Number of Ratings (2019)',\n",
    " 'Number of Ratings (2018)',\n",
    " 'Number of Ratings (2017)',\n",
    " 'Number of Ratings (2016)',\n",
    " 'Number of Ratings (2015)',\n",
    " 'Number of Ratings (2014)',\n",
    " 'Number of Ratings (2013)',\n",
    " 'Number of Ratings (2012)']\n",
    " \n",
    "search_terms = [\"Company Name\", \"Address 1\", \"City\", \"State\", \"Zip\"]\n",
    "new_url_col = \"urls\"\n",
    "\n",
    "\n",
    "evaluate_all(data_path=data_path, scraped_directory_path=scraped_directory_path, output_directory_path=output_directory_path, counts_output_path=counts_output_path, id_col=id_col, data_count_cols=data_count_cols, search_terms=search_terms, new_url_col=new_url_col)"
   ]
  },
  {
   "cell_type": "code",
   "execution_count": 1,
   "metadata": {},
   "outputs": [],
   "source": [
    "import pandas as pd \n",
    "mrc = pd.read_csv(\"C:\\\\Users\\\\Spencer\\\\Desktop\\\\clean\\\\data\\\\master_review_counts.csv\")"
   ]
  },
  {
   "cell_type": "code",
   "execution_count": 4,
   "metadata": {},
   "outputs": [],
   "source": [
    "ph = mrc[mrc[\"company_name\"]==\"pizza_hut\"]"
   ]
  },
  {
   "cell_type": "code",
   "execution_count": 14,
   "metadata": {},
   "outputs": [],
   "source": [
    "oldph = pd.read_csv(\"C:\\\\Users\\\\Spencer\\\\Desktop\\\\clean\\\\data\\\\processed\\\\pizza_hut_pre_9_30_2020_WITHSTARS.csv\")"
   ]
  },
  {
   "cell_type": "code",
   "execution_count": 17,
   "metadata": {},
   "outputs": [],
   "source": [
    "oldph_full = ph[ph[\"Store Company ID\"].isin(oldph[\"Store Company ID\"])]"
   ]
  },
  {
   "cell_type": "code",
   "execution_count": 33,
   "metadata": {},
   "outputs": [],
   "source": [
    "ph_rescrape = ph[(ph[\"proportion\"] < 0.9) & (ph[\"reviews_scraped\"].apply(lambda x: (x % 10) == 0))]"
   ]
  },
  {
   "cell_type": "code",
   "execution_count": 36,
   "metadata": {},
   "outputs": [],
   "source": [
    "ph_rescrape.to_csv(\"pizza_hut_rescrape.csv\", index=False)"
   ]
  },
  {
   "cell_type": "code",
   "execution_count": null,
   "metadata": {},
   "outputs": [],
   "source": []
  }
 ]
}