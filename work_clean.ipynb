{
 "metadata": {
  "language_info": {
   "codemirror_mode": {
    "name": "ipython",
    "version": 3
   },
   "file_extension": ".py",
   "mimetype": "text/x-python",
   "name": "python",
   "nbconvert_exporter": "python",
   "pygments_lexer": "ipython3",
   "version": "3.7.0-final"
  },
  "orig_nbformat": 2,
  "kernelspec": {
   "name": "python3",
   "display_name": "Python 3",
   "language": "python"
  }
 },
 "nbformat": 4,
 "nbformat_minor": 2,
 "cells": [
  {
   "cell_type": "code",
   "execution_count": 21,
   "metadata": {},
   "outputs": [],
   "source": [
    "path = \"\""
   ]
  },
  {
   "cell_type": "code",
   "execution_count": 1,
   "metadata": {},
   "outputs": [],
   "source": [
    "import datetime\n",
    "from datetime import timedelta\n",
    "from datetime import datetime"
   ]
  },
  {
   "cell_type": "code",
   "execution_count": 2,
   "metadata": {},
   "outputs": [],
   "source": [
    "import pandas as pd\n",
    "import numpy as np"
   ]
  },
  {
   "cell_type": "code",
   "execution_count": 2,
   "metadata": {},
   "outputs": [],
   "source": [
    "filename = \"scraped_2020-10-07_13_52_13_140247.csv\"\n",
    "cec = pd.read_csv(filename)"
   ]
  },
  {
   "cell_type": "code",
   "execution_count": 3,
   "metadata": {},
   "outputs": [
    {
     "output_type": "execute_result",
     "data": {
      "text/plain": [
       "                   name  stars  \\\n",
       "0  Cassidy Jo Schneider    4.0   \n",
       "1      Tammy Jo McNulty    5.0   \n",
       "2      Double The Bumps    5.0   \n",
       "3            Jacob Clos    5.0   \n",
       "4                   Jim    4.0   \n",
       "\n",
       "                                                text     timeSince openStatus  \\\n",
       "0  A bit dated, but still so fun! Great staff and...    a week ago       Open   \n",
       "1  Always have a great time, food is excellent &s...   a month ago       Open   \n",
       "2  We had my sons 4th birthday here it was REALLY...  7 months ago       Open   \n",
       "3  Everyone there was having a great time. It was...  7 months ago       Open   \n",
       "4  We've taken our little guy to Chuck E. Cheese ...    a year ago       Open   \n",
       "\n",
       "            key  \n",
       "0  4.066564e+09  \n",
       "1  4.066564e+09  \n",
       "2  4.066564e+09  \n",
       "3  4.066564e+09  \n",
       "4  4.066564e+09  "
      ],
      "text/html": "<div>\n<style scoped>\n    .dataframe tbody tr th:only-of-type {\n        vertical-align: middle;\n    }\n\n    .dataframe tbody tr th {\n        vertical-align: top;\n    }\n\n    .dataframe thead th {\n        text-align: right;\n    }\n</style>\n<table border=\"1\" class=\"dataframe\">\n  <thead>\n    <tr style=\"text-align: right;\">\n      <th></th>\n      <th>name</th>\n      <th>stars</th>\n      <th>text</th>\n      <th>timeSince</th>\n      <th>openStatus</th>\n      <th>key</th>\n    </tr>\n  </thead>\n  <tbody>\n    <tr>\n      <td>0</td>\n      <td>Cassidy Jo Schneider</td>\n      <td>4.0</td>\n      <td>A bit dated, but still so fun! Great staff and...</td>\n      <td>a week ago</td>\n      <td>Open</td>\n      <td>4.066564e+09</td>\n    </tr>\n    <tr>\n      <td>1</td>\n      <td>Tammy Jo McNulty</td>\n      <td>5.0</td>\n      <td>Always have a great time, food is excellent &amp;s...</td>\n      <td>a month ago</td>\n      <td>Open</td>\n      <td>4.066564e+09</td>\n    </tr>\n    <tr>\n      <td>2</td>\n      <td>Double The Bumps</td>\n      <td>5.0</td>\n      <td>We had my sons 4th birthday here it was REALLY...</td>\n      <td>7 months ago</td>\n      <td>Open</td>\n      <td>4.066564e+09</td>\n    </tr>\n    <tr>\n      <td>3</td>\n      <td>Jacob Clos</td>\n      <td>5.0</td>\n      <td>Everyone there was having a great time. It was...</td>\n      <td>7 months ago</td>\n      <td>Open</td>\n      <td>4.066564e+09</td>\n    </tr>\n    <tr>\n      <td>4</td>\n      <td>Jim</td>\n      <td>4.0</td>\n      <td>We've taken our little guy to Chuck E. Cheese ...</td>\n      <td>a year ago</td>\n      <td>Open</td>\n      <td>4.066564e+09</td>\n    </tr>\n  </tbody>\n</table>\n</div>"
     },
     "metadata": {},
     "execution_count": 3
    }
   ],
   "source": [
    "cec.head()"
   ]
  },
  {
   "cell_type": "code",
   "execution_count": 4,
   "metadata": {},
   "outputs": [],
   "source": [
    "from date_process import date_converter"
   ]
  },
  {
   "cell_type": "code",
   "execution_count": 5,
   "metadata": {},
   "outputs": [
    {
     "output_type": "stream",
     "name": "stdout",
     "text": [
      "scraped_2020-10-07_13_52_13_140247.csv\n2020-10-07\n"
     ]
    }
   ],
   "source": [
    "date_converter(cec, \"timeSince\", filename)"
   ]
  },
  {
   "cell_type": "code",
   "execution_count": 41,
   "metadata": {},
   "outputs": [
    {
     "output_type": "execute_result",
     "data": {
      "text/plain": [
       "                   name  stars  \\\n",
       "0  Cassidy Jo Schneider    4.0   \n",
       "1      Tammy Jo McNulty    5.0   \n",
       "2      Double The Bumps    5.0   \n",
       "3            Jacob Clos    5.0   \n",
       "4                   Jim    4.0   \n",
       "\n",
       "                                                text     timeSince openStatus  \\\n",
       "0  A bit dated, but still so fun! Great staff and...    a week ago       Open   \n",
       "1  Always have a great time, food is excellent &s...   a month ago       Open   \n",
       "2  We had my sons 4th birthday here it was REALLY...  7 months ago       Open   \n",
       "3  Everyone there was having a great time. It was...  7 months ago       Open   \n",
       "4  We've taken our little guy to Chuck E. Cheese ...    a year ago       Open   \n",
       "\n",
       "            key       date  year  \n",
       "0  4.066564e+09 2020-09-30  2020  \n",
       "1  4.066564e+09 2020-09-07  2020  \n",
       "2  4.066564e+09 2020-03-11  2020  \n",
       "3  4.066564e+09 2020-03-11  2020  \n",
       "4  4.066564e+09 2019-10-08  2019  "
      ],
      "text/html": "<div>\n<style scoped>\n    .dataframe tbody tr th:only-of-type {\n        vertical-align: middle;\n    }\n\n    .dataframe tbody tr th {\n        vertical-align: top;\n    }\n\n    .dataframe thead th {\n        text-align: right;\n    }\n</style>\n<table border=\"1\" class=\"dataframe\">\n  <thead>\n    <tr style=\"text-align: right;\">\n      <th></th>\n      <th>name</th>\n      <th>stars</th>\n      <th>text</th>\n      <th>timeSince</th>\n      <th>openStatus</th>\n      <th>key</th>\n      <th>date</th>\n      <th>year</th>\n    </tr>\n  </thead>\n  <tbody>\n    <tr>\n      <td>0</td>\n      <td>Cassidy Jo Schneider</td>\n      <td>4.0</td>\n      <td>A bit dated, but still so fun! Great staff and...</td>\n      <td>a week ago</td>\n      <td>Open</td>\n      <td>4.066564e+09</td>\n      <td>2020-09-30</td>\n      <td>2020</td>\n    </tr>\n    <tr>\n      <td>1</td>\n      <td>Tammy Jo McNulty</td>\n      <td>5.0</td>\n      <td>Always have a great time, food is excellent &amp;s...</td>\n      <td>a month ago</td>\n      <td>Open</td>\n      <td>4.066564e+09</td>\n      <td>2020-09-07</td>\n      <td>2020</td>\n    </tr>\n    <tr>\n      <td>2</td>\n      <td>Double The Bumps</td>\n      <td>5.0</td>\n      <td>We had my sons 4th birthday here it was REALLY...</td>\n      <td>7 months ago</td>\n      <td>Open</td>\n      <td>4.066564e+09</td>\n      <td>2020-03-11</td>\n      <td>2020</td>\n    </tr>\n    <tr>\n      <td>3</td>\n      <td>Jacob Clos</td>\n      <td>5.0</td>\n      <td>Everyone there was having a great time. It was...</td>\n      <td>7 months ago</td>\n      <td>Open</td>\n      <td>4.066564e+09</td>\n      <td>2020-03-11</td>\n      <td>2020</td>\n    </tr>\n    <tr>\n      <td>4</td>\n      <td>Jim</td>\n      <td>4.0</td>\n      <td>We've taken our little guy to Chuck E. Cheese ...</td>\n      <td>a year ago</td>\n      <td>Open</td>\n      <td>4.066564e+09</td>\n      <td>2019-10-08</td>\n      <td>2019</td>\n    </tr>\n  </tbody>\n</table>\n</div>"
     },
     "metadata": {},
     "execution_count": 41
    }
   ],
   "source": [
    "cec.head()"
   ]
  },
  {
   "cell_type": "code",
   "execution_count": 8,
   "metadata": {},
   "outputs": [
    {
     "output_type": "execute_result",
     "data": {
      "text/plain": [
       "     0  1       2\n",
       "0  cat  0   apple\n",
       "1  dog  1  banana"
      ],
      "text/html": "<div>\n<style scoped>\n    .dataframe tbody tr th:only-of-type {\n        vertical-align: middle;\n    }\n\n    .dataframe tbody tr th {\n        vertical-align: top;\n    }\n\n    .dataframe thead th {\n        text-align: right;\n    }\n</style>\n<table border=\"1\" class=\"dataframe\">\n  <thead>\n    <tr style=\"text-align: right;\">\n      <th></th>\n      <th>0</th>\n      <th>1</th>\n      <th>2</th>\n    </tr>\n  </thead>\n  <tbody>\n    <tr>\n      <td>0</td>\n      <td>cat</td>\n      <td>0</td>\n      <td>apple</td>\n    </tr>\n    <tr>\n      <td>1</td>\n      <td>dog</td>\n      <td>1</td>\n      <td>banana</td>\n    </tr>\n  </tbody>\n</table>\n</div>"
     },
     "metadata": {},
     "execution_count": 8
    }
   ],
   "source": [
    "pd.DataFrame([[\"cat\", 0, \"apple\"],[\"dog\", 1, \"banana\"]])"
   ]
  },
  {
   "cell_type": "code",
   "execution_count": 4,
   "metadata": {},
   "outputs": [],
   "source": [
    "data = [{\"col1\":\"cat\", \"col2\":0, \"col3\":\"apple\"},{\"col1\":\"dog\", \"col2\":1, \"col3\":\"banana\"}]"
   ]
  },
  {
   "cell_type": "code",
   "execution_count": 5,
   "metadata": {},
   "outputs": [],
   "source": [
    "tdf = pd.DataFrame.from_records(data)"
   ]
  },
  {
   "cell_type": "code",
   "execution_count": 1,
   "metadata": {},
   "outputs": [],
   "source": [
    "from df_process import get_files"
   ]
  },
  {
   "cell_type": "code",
   "execution_count": 2,
   "metadata": {},
   "outputs": [
    {
     "output_type": "execute_result",
     "data": {
      "text/plain": [
       "['C:\\\\Users\\\\Spencer\\\\Desktop\\\\clean\\\\scraped_2020-10-07_13_52_13_140247.csv']"
      ]
     },
     "metadata": {},
     "execution_count": 2
    }
   ],
   "source": [
    "get_files(\"C:\\\\Users\\\\Spencer\\\\Desktop\\\\clean\", \"csv\")"
   ]
  },
  {
   "cell_type": "code",
   "execution_count": 18,
   "metadata": {},
   "outputs": [],
   "source": [
    "df = pd.DataFrame({'link':['=HYPERLINK(\"scraped_2020-10-07_13_52_13_140247.csv\", \"some website\")']})\n",
    "df.to_excel('test.xlsx')"
   ]
  },
  {
   "cell_type": "code",
   "execution_count": 4,
   "metadata": {},
   "outputs": [],
   "source": [
    "from df_process import get_files"
   ]
  },
  {
   "cell_type": "code",
   "execution_count": 7,
   "metadata": {},
   "outputs": [],
   "source": [
    "files = get_files(\"C:\\\\Users\\\\Spencer\\\\Desktop\\\\clean\\\\pizza_hut_pre_9_30_2020\", \"csv\")"
   ]
  },
  {
   "cell_type": "code",
   "execution_count": 8,
   "metadata": {},
   "outputs": [
    {
     "output_type": "execute_result",
     "data": {
      "text/plain": [
       "['C:\\\\Users\\\\Spencer\\\\Desktop\\\\clean\\\\pizza_hut_pre_9_30_2020\\\\1000804749_pizza_hut.csv',\n",
       " 'C:\\\\Users\\\\Spencer\\\\Desktop\\\\clean\\\\pizza_hut_pre_9_30_2020\\\\1000804750_pizza_hut.csv',\n",
       " 'C:\\\\Users\\\\Spencer\\\\Desktop\\\\clean\\\\pizza_hut_pre_9_30_2020\\\\1000804753_pizza_hut.csv',\n",
       " 'C:\\\\Users\\\\Spencer\\\\Desktop\\\\clean\\\\pizza_hut_pre_9_30_2020\\\\csvspizza_hut_reviews_1000804749.csv',\n",
       " 'C:\\\\Users\\\\Spencer\\\\Desktop\\\\clean\\\\pizza_hut_pre_9_30_2020\\\\csvspizza_hut_reviews_1000804750.csv',\n",
       " 'C:\\\\Users\\\\Spencer\\\\Desktop\\\\clean\\\\pizza_hut_pre_9_30_2020\\\\csvspizza_hut_reviews_1000804753.csv']"
      ]
     },
     "metadata": {},
     "execution_count": 8
    }
   ],
   "source": [
    "files"
   ]
  },
  {
   "cell_type": "code",
   "execution_count": 35,
   "metadata": {},
   "outputs": [],
   "source": [
    "for file in files:\n",
    "    filename = file.split(\"\\\\\")[-1]\n",
    "    df = pd.read_csv(file)\n",
    "    df[\"stars\"] = df[\"Stars\"].apply(lambda x: int(float(x.split(\" \")[0])))\n",
    "    df.to_csv(file, index=False)"
   ]
  },
  {
   "cell_type": "code",
   "execution_count": 1,
   "metadata": {},
   "outputs": [],
   "source": [
    "from df_process import combine_directory"
   ]
  },
  {
   "cell_type": "code",
   "execution_count": 2,
   "metadata": {},
   "outputs": [],
   "source": [
    "import datetime"
   ]
  },
  {
   "cell_type": "code",
   "execution_count": 3,
   "metadata": {},
   "outputs": [],
   "source": [
    "directory_path = \"C:\\\\Users\\\\Spencer\\\\Desktop\\\\clean\\\\pizza_hut_pre_9_30_2020\\\\\"\n",
    "text_directory = \"C:\\\\Users\\\\Spencer\\\\Desktop\\\\clean\\\\pizza_hut_pre_9_30_2020\\\\csvs\"\n",
    "company_name = \"pizza_hut\"\n",
    "address_col = \"Address\"\n",
    "id_rule = \"filename\"\n",
    "time_col_name=\"Publish_date\"\n",
    "current_date = datetime.datetime(2020, 9, 30)\n",
    "date_col_name = \"date\"\n",
    "combine_directory(directory_path=directory_path, \n",
    "                    company_name=company_name, \n",
    "                    text_directory=text_directory, \n",
    "                    address_col=address_col, \n",
    "                    time_col_name=time_col_name,  \n",
    "                    id_rule=id_rule, \n",
    "                    current_date=current_date,\n",
    "                    date_col_name=date_col_name)"
   ]
  },
  {
   "cell_type": "code",
   "execution_count": 6,
   "metadata": {},
   "outputs": [
    {
     "output_type": "execute_result",
     "data": {
      "text/plain": [
       "  col1  col2    col3\n",
       "0  cat     0   apple\n",
       "1  dog     1  banana"
      ],
      "text/html": "<div>\n<style scoped>\n    .dataframe tbody tr th:only-of-type {\n        vertical-align: middle;\n    }\n\n    .dataframe tbody tr th {\n        vertical-align: top;\n    }\n\n    .dataframe thead th {\n        text-align: right;\n    }\n</style>\n<table border=\"1\" class=\"dataframe\">\n  <thead>\n    <tr style=\"text-align: right;\">\n      <th></th>\n      <th>col1</th>\n      <th>col2</th>\n      <th>col3</th>\n    </tr>\n  </thead>\n  <tbody>\n    <tr>\n      <td>0</td>\n      <td>cat</td>\n      <td>0</td>\n      <td>apple</td>\n    </tr>\n    <tr>\n      <td>1</td>\n      <td>dog</td>\n      <td>1</td>\n      <td>banana</td>\n    </tr>\n  </tbody>\n</table>\n</div>"
     },
     "metadata": {},
     "execution_count": 6
    }
   ],
   "source": [
    "tdf"
   ]
  },
  {
   "cell_type": "code",
   "execution_count": 2,
   "metadata": {},
   "outputs": [],
   "source": [
    "import pandas as pd\n",
    "alldata = pd.read_excel(\".\\\\data\\\\data.xlsx\")"
   ]
  },
  {
   "cell_type": "code",
   "execution_count": 3,
   "metadata": {},
   "outputs": [
    {
     "output_type": "execute_result",
     "data": {
      "text/plain": [
       "   Company ID  Industry ID                 Industry Name  \\\n",
       "0  2000626178           51  Locations: Chain Restaurants   \n",
       "1  2000626186           51  Locations: Chain Restaurants   \n",
       "2  2000626189           51  Locations: Chain Restaurants   \n",
       "3  2000626192           51  Locations: Chain Restaurants   \n",
       "4  2000626194           51  Locations: Chain Restaurants   \n",
       "\n",
       "                 Company Name               Address 1       City State  \\\n",
       "0  Anthony's Coal Fired Pizza         984 State Rt 17     RAMSEY    NJ   \n",
       "1  Anthony's Coal Fired Pizza         80 Parsonage Rd     EDISON    NJ   \n",
       "2  Anthony's Coal Fired Pizza       6401 Jericho Tpke    COMMACK    NY   \n",
       "3  Anthony's Coal Fired Pizza  50 East Wynnewood Road  WYNNEWOOD    PA   \n",
       "4  Anthony's Coal Fired Pizza     48 Walkers Brook Dr    READING    MA   \n",
       "\n",
       "          Zip Listing Type                   Country         Phone  \\\n",
       "0  07446-1607     Location  United States of America  2.018183e+09   \n",
       "1  08837-2416     Location  United States of America  7.327442e+09   \n",
       "2  11725-2832     Location  United States of America  6.318583e+09   \n",
       "3       19096     Location  United States of America  6.106455e+09   \n",
       "4  01867-3224     Location  United States of America  7.819448e+09   \n",
       "\n",
       "                                         Google Link  \n",
       "0  https://www.google.com/maps/place/Anthony's+Co...  \n",
       "1  https://www.google.com/maps/place/Anthony's+Co...  \n",
       "2  https://www.google.com/maps/place/Anthony's+Co...  \n",
       "3  https://www.google.com/maps/place/Anthony's+Co...  \n",
       "4  https://www.google.com/maps/place/Anthony's+Co...  "
      ],
      "text/html": "<div>\n<style scoped>\n    .dataframe tbody tr th:only-of-type {\n        vertical-align: middle;\n    }\n\n    .dataframe tbody tr th {\n        vertical-align: top;\n    }\n\n    .dataframe thead th {\n        text-align: right;\n    }\n</style>\n<table border=\"1\" class=\"dataframe\">\n  <thead>\n    <tr style=\"text-align: right;\">\n      <th></th>\n      <th>Company ID</th>\n      <th>Industry ID</th>\n      <th>Industry Name</th>\n      <th>Company Name</th>\n      <th>Address 1</th>\n      <th>City</th>\n      <th>State</th>\n      <th>Zip</th>\n      <th>Listing Type</th>\n      <th>Country</th>\n      <th>Phone</th>\n      <th>Google Link</th>\n    </tr>\n  </thead>\n  <tbody>\n    <tr>\n      <td>0</td>\n      <td>2000626178</td>\n      <td>51</td>\n      <td>Locations: Chain Restaurants</td>\n      <td>Anthony's Coal Fired Pizza</td>\n      <td>984 State Rt 17</td>\n      <td>RAMSEY</td>\n      <td>NJ</td>\n      <td>07446-1607</td>\n      <td>Location</td>\n      <td>United States of America</td>\n      <td>2.018183e+09</td>\n      <td>https://www.google.com/maps/place/Anthony's+Co...</td>\n    </tr>\n    <tr>\n      <td>1</td>\n      <td>2000626186</td>\n      <td>51</td>\n      <td>Locations: Chain Restaurants</td>\n      <td>Anthony's Coal Fired Pizza</td>\n      <td>80 Parsonage Rd</td>\n      <td>EDISON</td>\n      <td>NJ</td>\n      <td>08837-2416</td>\n      <td>Location</td>\n      <td>United States of America</td>\n      <td>7.327442e+09</td>\n      <td>https://www.google.com/maps/place/Anthony's+Co...</td>\n    </tr>\n    <tr>\n      <td>2</td>\n      <td>2000626189</td>\n      <td>51</td>\n      <td>Locations: Chain Restaurants</td>\n      <td>Anthony's Coal Fired Pizza</td>\n      <td>6401 Jericho Tpke</td>\n      <td>COMMACK</td>\n      <td>NY</td>\n      <td>11725-2832</td>\n      <td>Location</td>\n      <td>United States of America</td>\n      <td>6.318583e+09</td>\n      <td>https://www.google.com/maps/place/Anthony's+Co...</td>\n    </tr>\n    <tr>\n      <td>3</td>\n      <td>2000626192</td>\n      <td>51</td>\n      <td>Locations: Chain Restaurants</td>\n      <td>Anthony's Coal Fired Pizza</td>\n      <td>50 East Wynnewood Road</td>\n      <td>WYNNEWOOD</td>\n      <td>PA</td>\n      <td>19096</td>\n      <td>Location</td>\n      <td>United States of America</td>\n      <td>6.106455e+09</td>\n      <td>https://www.google.com/maps/place/Anthony's+Co...</td>\n    </tr>\n    <tr>\n      <td>4</td>\n      <td>2000626194</td>\n      <td>51</td>\n      <td>Locations: Chain Restaurants</td>\n      <td>Anthony's Coal Fired Pizza</td>\n      <td>48 Walkers Brook Dr</td>\n      <td>READING</td>\n      <td>MA</td>\n      <td>01867-3224</td>\n      <td>Location</td>\n      <td>United States of America</td>\n      <td>7.819448e+09</td>\n      <td>https://www.google.com/maps/place/Anthony's+Co...</td>\n    </tr>\n  </tbody>\n</table>\n</div>"
     },
     "metadata": {},
     "execution_count": 3
    }
   ],
   "source": [
    "alldata.head()"
   ]
  },
  {
   "cell_type": "code",
   "execution_count": 4,
   "metadata": {},
   "outputs": [],
   "source": [
    "from utilities import process_company_names"
   ]
  },
  {
   "cell_type": "code",
   "execution_count": 5,
   "metadata": {},
   "outputs": [],
   "source": [
    "process_company_names(alldata, \"Company Name\", \"name\")"
   ]
  },
  {
   "cell_type": "code",
   "execution_count": 11,
   "metadata": {},
   "outputs": [],
   "source": [
    "alldata[\"fulladdr\"] = alldata.iloc[:,3] + \" \" + alldata.iloc[:,4] + \" \" + alldata.iloc[:,5] + \" \" + alldata.iloc[:,6]"
   ]
  },
  {
   "cell_type": "code",
   "execution_count": 12,
   "metadata": {},
   "outputs": [
    {
     "output_type": "execute_result",
     "data": {
      "text/plain": [
       "Pizza Plus 610 Van Hill Rd GREENEVILLE TN                           2\n",
       "Marco's Pizza 5585 South 3500 W ROY UT                              2\n",
       "Domino's 3520 West Vienna Rd CLIO MI                                2\n",
       "Sbarro 100 Twin River Rd LINCOLN RI                                 2\n",
       "Pizza Hut 1606 Navajo Blvd HOLBROOK AZ                              2\n",
       "                                                                   ..\n",
       "Domino's 1300 Brodhead Rd MOON TOWNSHIP PA                          1\n",
       "Papa Murphy's Take 'N' Bake Pizza 4500 S 70th St LINCOLN NE         1\n",
       "Papa Murphy's Take 'N' Bake Pizza 1406 Beltline Rd SW DECATUR AL    1\n",
       "Jet's Pizza 3945 S Telegraph Rd DEARBORN HEIGHTS MI                 1\n",
       "Chuck E. Cheese's 26562 Towne Centre Dr FOOTHILL RANCH CA           1\n",
       "Name: fulladdr, Length: 29008, dtype: int64"
      ]
     },
     "metadata": {},
     "execution_count": 12
    }
   ],
   "source": [
    "alldata[\"fulladdr\"].value_counts()"
   ]
  },
  {
   "cell_type": "code",
   "execution_count": 1,
   "metadata": {},
   "outputs": [],
   "source": [
    "from company_id import add_company_ids"
   ]
  },
  {
   "cell_type": "code",
   "execution_count": 2,
   "metadata": {},
   "outputs": [
    {
     "output_type": "stream",
     "name": "stdout",
     "text": [
      "2\n",
      "File: C:\\Users\\Spencer\\Desktop\\clean\\data\\bananas_11_3_20\\scraped_2020-11-03_10_50_58_759403.csv\n",
      "Saving to C:\\Users\\Spencer\\Desktop\\clean\\data\\test_output_directory\\bananas_2000334388.csv\n",
      "File: C:\\Users\\Spencer\\Desktop\\clean\\data\\bananas_11_3_20\\scraped_2020-11-03_10_51_16_538934.csv\n",
      "Saving to C:\\Users\\Spencer\\Desktop\\clean\\data\\test_output_directory\\bananas_2000303507.csv\n"
     ]
    }
   ],
   "source": [
    "output_directory = \"C:\\\\Users\\\\Spencer\\\\Desktop\\\\clean\\\\data\\\\test_output_directory\"\n",
    "master_df_path = \"C:\\\\Users\\\\Spencer\\\\Desktop\\\\clean\\\\data\\\\data.xlsx\"\n",
    "directory_path = \"C:\\\\Users\\\\Spencer\\\\Desktop\\\\clean\\\\data\\\\bananas_11_3_20\"\n",
    "key_col = \"key\"\n",
    "master_df_key_col = \"Phone\"\n",
    "master_df_id_col = \"Company ID\"\n",
    "id_col_name = master_df_id_col\n",
    "add_company_ids(directory_path=directory_path, \n",
    "                master_df_path=master_df_path, \n",
    "                key_col=key_col, \n",
    "                master_df_key_col=master_df_key_col, \n",
    "                master_df_id_col=master_df_id_col, \n",
    "                id_col_name=id_col_name, \n",
    "                output_directory=output_directory)"
   ]
  },
  {
   "cell_type": "code",
   "execution_count": 3,
   "metadata": {},
   "outputs": [],
   "source": [
    "import pandas as pd\n",
    "master = pd.read_excel(\"C:\\\\Users\\\\Spencer\\\\Desktop\\\\clean\\\\data\\\\data.xlsx\")\n",
    "df = pd.read_csv(\"C:\\\\Users\\\\Spencer\\\\Desktop\\\\clean\\\\data\\\\bananas_11_3_20\\\\scraped_2020-11-03_10_50_58_759403.csv\")"
   ]
  },
  {
   "cell_type": "code",
   "execution_count": 10,
   "metadata": {},
   "outputs": [
    {
     "output_type": "execute_result",
     "data": {
      "text/plain": [
       "'the_office_beer_bar_&_grill'"
      ]
     },
     "metadata": {},
     "execution_count": 10
    }
   ],
   "source": [
    "import re\n",
    "test_string = \"the_office_beer_bar_&_grill_11_3_20\"\n",
    "out_test = re.sub(r\"\\d\", \"\", test_string).strip(\"_\")\n",
    "out_test"
   ]
  },
  {
   "cell_type": "code",
   "execution_count": 13,
   "metadata": {},
   "outputs": [],
   "source": [
    "import pandas as pd \n",
    "import numpy as np\n",
    "df = pd.read_csv(\"C:\\\\Users\\\\Spencer\\\\Box Sync\\\\Scraped\\\\pieology_10_20_2020_NAN_KEYS\\\\scraped_2020-10-20_08_55_29_507904.csv\")"
   ]
  },
  {
   "cell_type": "code",
   "execution_count": 14,
   "metadata": {},
   "outputs": [
    {
     "output_type": "execute_result",
     "data": {
      "text/plain": [
       "True"
      ]
     },
     "metadata": {},
     "execution_count": 14
    }
   ],
   "source": [
    "np.isnan(df[\"key\"][0])"
   ]
  },
  {
   "cell_type": "code",
   "execution_count": 2,
   "metadata": {},
   "outputs": [],
   "source": [
    "import pandas as pd\n",
    "master = pd.read_excel(\"C:\\\\Users\\\\Spencer\\\\Desktop\\\\clean\\\\data\\\\data.xlsx\")"
   ]
  },
  {
   "cell_type": "code",
   "execution_count": 2,
   "metadata": {},
   "outputs": [
    {
     "output_type": "execute_result",
     "data": {
      "text/plain": [
       "   Company ID  Industry ID                 Industry Name  \\\n",
       "0  2000626178           51  Locations: Chain Restaurants   \n",
       "1  2000626186           51  Locations: Chain Restaurants   \n",
       "2  2000626189           51  Locations: Chain Restaurants   \n",
       "3  2000626192           51  Locations: Chain Restaurants   \n",
       "4  2000626194           51  Locations: Chain Restaurants   \n",
       "\n",
       "                 Company Name               Address 1       City State  \\\n",
       "0  Anthony's Coal Fired Pizza         984 State Rt 17     RAMSEY    NJ   \n",
       "1  Anthony's Coal Fired Pizza         80 Parsonage Rd     EDISON    NJ   \n",
       "2  Anthony's Coal Fired Pizza       6401 Jericho Tpke    COMMACK    NY   \n",
       "3  Anthony's Coal Fired Pizza  50 East Wynnewood Road  WYNNEWOOD    PA   \n",
       "4  Anthony's Coal Fired Pizza     48 Walkers Brook Dr    READING    MA   \n",
       "\n",
       "          Zip Listing Type                   Country         Phone  \\\n",
       "0  07446-1607     Location  United States of America  2.018183e+09   \n",
       "1  08837-2416     Location  United States of America  7.327442e+09   \n",
       "2  11725-2832     Location  United States of America  6.318583e+09   \n",
       "3       19096     Location  United States of America  6.106455e+09   \n",
       "4  01867-3224     Location  United States of America  7.819448e+09   \n",
       "\n",
       "                                         Google Link  \n",
       "0  https://www.google.com/maps/place/Anthony's+Co...  \n",
       "1  https://www.google.com/maps/place/Anthony's+Co...  \n",
       "2  https://www.google.com/maps/place/Anthony's+Co...  \n",
       "3  https://www.google.com/maps/place/Anthony's+Co...  \n",
       "4  https://www.google.com/maps/place/Anthony's+Co...  "
      ],
      "text/html": "<div>\n<style scoped>\n    .dataframe tbody tr th:only-of-type {\n        vertical-align: middle;\n    }\n\n    .dataframe tbody tr th {\n        vertical-align: top;\n    }\n\n    .dataframe thead th {\n        text-align: right;\n    }\n</style>\n<table border=\"1\" class=\"dataframe\">\n  <thead>\n    <tr style=\"text-align: right;\">\n      <th></th>\n      <th>Company ID</th>\n      <th>Industry ID</th>\n      <th>Industry Name</th>\n      <th>Company Name</th>\n      <th>Address 1</th>\n      <th>City</th>\n      <th>State</th>\n      <th>Zip</th>\n      <th>Listing Type</th>\n      <th>Country</th>\n      <th>Phone</th>\n      <th>Google Link</th>\n    </tr>\n  </thead>\n  <tbody>\n    <tr>\n      <td>0</td>\n      <td>2000626178</td>\n      <td>51</td>\n      <td>Locations: Chain Restaurants</td>\n      <td>Anthony's Coal Fired Pizza</td>\n      <td>984 State Rt 17</td>\n      <td>RAMSEY</td>\n      <td>NJ</td>\n      <td>07446-1607</td>\n      <td>Location</td>\n      <td>United States of America</td>\n      <td>2.018183e+09</td>\n      <td>https://www.google.com/maps/place/Anthony's+Co...</td>\n    </tr>\n    <tr>\n      <td>1</td>\n      <td>2000626186</td>\n      <td>51</td>\n      <td>Locations: Chain Restaurants</td>\n      <td>Anthony's Coal Fired Pizza</td>\n      <td>80 Parsonage Rd</td>\n      <td>EDISON</td>\n      <td>NJ</td>\n      <td>08837-2416</td>\n      <td>Location</td>\n      <td>United States of America</td>\n      <td>7.327442e+09</td>\n      <td>https://www.google.com/maps/place/Anthony's+Co...</td>\n    </tr>\n    <tr>\n      <td>2</td>\n      <td>2000626189</td>\n      <td>51</td>\n      <td>Locations: Chain Restaurants</td>\n      <td>Anthony's Coal Fired Pizza</td>\n      <td>6401 Jericho Tpke</td>\n      <td>COMMACK</td>\n      <td>NY</td>\n      <td>11725-2832</td>\n      <td>Location</td>\n      <td>United States of America</td>\n      <td>6.318583e+09</td>\n      <td>https://www.google.com/maps/place/Anthony's+Co...</td>\n    </tr>\n    <tr>\n      <td>3</td>\n      <td>2000626192</td>\n      <td>51</td>\n      <td>Locations: Chain Restaurants</td>\n      <td>Anthony's Coal Fired Pizza</td>\n      <td>50 East Wynnewood Road</td>\n      <td>WYNNEWOOD</td>\n      <td>PA</td>\n      <td>19096</td>\n      <td>Location</td>\n      <td>United States of America</td>\n      <td>6.106455e+09</td>\n      <td>https://www.google.com/maps/place/Anthony's+Co...</td>\n    </tr>\n    <tr>\n      <td>4</td>\n      <td>2000626194</td>\n      <td>51</td>\n      <td>Locations: Chain Restaurants</td>\n      <td>Anthony's Coal Fired Pizza</td>\n      <td>48 Walkers Brook Dr</td>\n      <td>READING</td>\n      <td>MA</td>\n      <td>01867-3224</td>\n      <td>Location</td>\n      <td>United States of America</td>\n      <td>7.819448e+09</td>\n      <td>https://www.google.com/maps/place/Anthony's+Co...</td>\n    </tr>\n  </tbody>\n</table>\n</div>"
     },
     "metadata": {},
     "execution_count": 2
    }
   ],
   "source": [
    "master.head()"
   ]
  },
  {
   "cell_type": "code",
   "execution_count": 3,
   "metadata": {},
   "outputs": [],
   "source": [
    "from utilities import process_company_names"
   ]
  },
  {
   "cell_type": "code",
   "execution_count": 4,
   "metadata": {},
   "outputs": [],
   "source": [
    "process_company_names(master, \"Company Name\", \"company_name\")"
   ]
  },
  {
   "cell_type": "code",
   "execution_count": 5,
   "metadata": {},
   "outputs": [
    {
     "output_type": "execute_result",
     "data": {
      "text/plain": [
       "dominos                           5879\n",
       "pizza_hut                         5829\n",
       "little_caesars_pizza              4156\n",
       "papa_johns_pizza                  2995\n",
       "papa_murphys_take_n_bake_pizza    1340\n",
       "                                  ... \n",
       "sukotto                              1\n",
       "the_office_beer_bar_&_grill          1\n",
       "gattiland                            1\n",
       "steelworks_buffett_&_grill           1\n",
       "gattis_pizza_buffet                  1\n",
       "Name: company_name, Length: 93, dtype: int64"
      ]
     },
     "metadata": {},
     "execution_count": 5
    }
   ],
   "source": [
    "master[\"company_name\"].value_counts()"
   ]
  },
  {
   "cell_type": "code",
   "execution_count": 6,
   "metadata": {},
   "outputs": [],
   "source": [
    "companies = [\"donatos_pizza\", \"blaze_pizza\", \"anthonys_coal_fired_pizza\"]"
   ]
  },
  {
   "cell_type": "code",
   "execution_count": 7,
   "metadata": {},
   "outputs": [],
   "source": [
    "sub = master[master[\"company_name\"].isin(companies)]"
   ]
  },
  {
   "cell_type": "code",
   "execution_count": 8,
   "metadata": {},
   "outputs": [],
   "source": [
    "from utilities import process_phone_numbers"
   ]
  },
  {
   "cell_type": "code",
   "execution_count": 9,
   "metadata": {},
   "outputs": [],
   "source": [
    "process_phone_numbers(sub, \"Phone\", \"phone_number\")"
   ]
  },
  {
   "cell_type": "code",
   "execution_count": 18,
   "metadata": {},
   "outputs": [
    {
     "output_type": "execute_result",
     "data": {
      "text/plain": [
       "   Company ID  Industry ID                 Industry Name  \\\n",
       "0  2000626178           51  Locations: Chain Restaurants   \n",
       "1  2000626186           51  Locations: Chain Restaurants   \n",
       "2  2000626189           51  Locations: Chain Restaurants   \n",
       "3  2000626192           51  Locations: Chain Restaurants   \n",
       "4  2000626194           51  Locations: Chain Restaurants   \n",
       "\n",
       "                 Company Name               Address 1       City State  \\\n",
       "0  Anthony's Coal Fired Pizza         984 State Rt 17     RAMSEY    NJ   \n",
       "1  Anthony's Coal Fired Pizza         80 Parsonage Rd     EDISON    NJ   \n",
       "2  Anthony's Coal Fired Pizza       6401 Jericho Tpke    COMMACK    NY   \n",
       "3  Anthony's Coal Fired Pizza  50 East Wynnewood Road  WYNNEWOOD    PA   \n",
       "4  Anthony's Coal Fired Pizza     48 Walkers Brook Dr    READING    MA   \n",
       "\n",
       "          Zip Listing Type                   Country         Phone  \\\n",
       "0  07446-1607     Location  United States of America  2.018183e+09   \n",
       "1  08837-2416     Location  United States of America  7.327442e+09   \n",
       "2  11725-2832     Location  United States of America  6.318583e+09   \n",
       "3       19096     Location  United States of America  6.106455e+09   \n",
       "4  01867-3224     Location  United States of America  7.819448e+09   \n",
       "\n",
       "                                         Google Link  \\\n",
       "0  https://www.google.com/maps/place/Anthony's+Co...   \n",
       "1  https://www.google.com/maps/place/Anthony's+Co...   \n",
       "2  https://www.google.com/maps/place/Anthony's+Co...   \n",
       "3  https://www.google.com/maps/place/Anthony's+Co...   \n",
       "4  https://www.google.com/maps/place/Anthony's+Co...   \n",
       "\n",
       "                company_name    phone_number  \\\n",
       "0  anthonys_coal_fired_pizza  (201) 818-2625   \n",
       "1  anthonys_coal_fired_pizza  (732) 744-1500   \n",
       "2  anthonys_coal_fired_pizza  (631) 858-2625   \n",
       "3  anthonys_coal_fired_pizza  (610) 645-5453   \n",
       "4  anthonys_coal_fired_pizza  (781) 944-8454   \n",
       "\n",
       "                                             anthony  \\\n",
       "0  Anthony's Coal Fired Pizza 984 State Rt 17 RAM...   \n",
       "1  Anthony's Coal Fired Pizza 80 Parsonage Rd EDI...   \n",
       "2  Anthony's Coal Fired Pizza 6401 Jericho Tpke C...   \n",
       "3  Anthony's Coal Fired Pizza 50 East Wynnewood R...   \n",
       "4  Anthony's Coal Fired Pizza 48 Walkers Brook Dr...   \n",
       "\n",
       "                                             donatos  \n",
       "0  Anthony's Coal Fired Pizza 984 State Rt 17 RAM...  \n",
       "1  Anthony's Coal Fired Pizza 80 Parsonage Rd EDI...  \n",
       "2  Anthony's Coal Fired Pizza 6401 Jericho Tpke C...  \n",
       "3  Anthony's Coal Fired Pizza 50 East Wynnewood R...  \n",
       "4  Anthony's Coal Fired Pizza 48 Walkers Brook Dr...  "
      ],
      "text/html": "<div>\n<style scoped>\n    .dataframe tbody tr th:only-of-type {\n        vertical-align: middle;\n    }\n\n    .dataframe tbody tr th {\n        vertical-align: top;\n    }\n\n    .dataframe thead th {\n        text-align: right;\n    }\n</style>\n<table border=\"1\" class=\"dataframe\">\n  <thead>\n    <tr style=\"text-align: right;\">\n      <th></th>\n      <th>Company ID</th>\n      <th>Industry ID</th>\n      <th>Industry Name</th>\n      <th>Company Name</th>\n      <th>Address 1</th>\n      <th>City</th>\n      <th>State</th>\n      <th>Zip</th>\n      <th>Listing Type</th>\n      <th>Country</th>\n      <th>Phone</th>\n      <th>Google Link</th>\n      <th>company_name</th>\n      <th>phone_number</th>\n      <th>anthony</th>\n      <th>donatos</th>\n    </tr>\n  </thead>\n  <tbody>\n    <tr>\n      <td>0</td>\n      <td>2000626178</td>\n      <td>51</td>\n      <td>Locations: Chain Restaurants</td>\n      <td>Anthony's Coal Fired Pizza</td>\n      <td>984 State Rt 17</td>\n      <td>RAMSEY</td>\n      <td>NJ</td>\n      <td>07446-1607</td>\n      <td>Location</td>\n      <td>United States of America</td>\n      <td>2.018183e+09</td>\n      <td>https://www.google.com/maps/place/Anthony's+Co...</td>\n      <td>anthonys_coal_fired_pizza</td>\n      <td>(201) 818-2625</td>\n      <td>Anthony's Coal Fired Pizza 984 State Rt 17 RAM...</td>\n      <td>Anthony's Coal Fired Pizza 984 State Rt 17 RAM...</td>\n    </tr>\n    <tr>\n      <td>1</td>\n      <td>2000626186</td>\n      <td>51</td>\n      <td>Locations: Chain Restaurants</td>\n      <td>Anthony's Coal Fired Pizza</td>\n      <td>80 Parsonage Rd</td>\n      <td>EDISON</td>\n      <td>NJ</td>\n      <td>08837-2416</td>\n      <td>Location</td>\n      <td>United States of America</td>\n      <td>7.327442e+09</td>\n      <td>https://www.google.com/maps/place/Anthony's+Co...</td>\n      <td>anthonys_coal_fired_pizza</td>\n      <td>(732) 744-1500</td>\n      <td>Anthony's Coal Fired Pizza 80 Parsonage Rd EDI...</td>\n      <td>Anthony's Coal Fired Pizza 80 Parsonage Rd EDI...</td>\n    </tr>\n    <tr>\n      <td>2</td>\n      <td>2000626189</td>\n      <td>51</td>\n      <td>Locations: Chain Restaurants</td>\n      <td>Anthony's Coal Fired Pizza</td>\n      <td>6401 Jericho Tpke</td>\n      <td>COMMACK</td>\n      <td>NY</td>\n      <td>11725-2832</td>\n      <td>Location</td>\n      <td>United States of America</td>\n      <td>6.318583e+09</td>\n      <td>https://www.google.com/maps/place/Anthony's+Co...</td>\n      <td>anthonys_coal_fired_pizza</td>\n      <td>(631) 858-2625</td>\n      <td>Anthony's Coal Fired Pizza 6401 Jericho Tpke C...</td>\n      <td>Anthony's Coal Fired Pizza 6401 Jericho Tpke C...</td>\n    </tr>\n    <tr>\n      <td>3</td>\n      <td>2000626192</td>\n      <td>51</td>\n      <td>Locations: Chain Restaurants</td>\n      <td>Anthony's Coal Fired Pizza</td>\n      <td>50 East Wynnewood Road</td>\n      <td>WYNNEWOOD</td>\n      <td>PA</td>\n      <td>19096</td>\n      <td>Location</td>\n      <td>United States of America</td>\n      <td>6.106455e+09</td>\n      <td>https://www.google.com/maps/place/Anthony's+Co...</td>\n      <td>anthonys_coal_fired_pizza</td>\n      <td>(610) 645-5453</td>\n      <td>Anthony's Coal Fired Pizza 50 East Wynnewood R...</td>\n      <td>Anthony's Coal Fired Pizza 50 East Wynnewood R...</td>\n    </tr>\n    <tr>\n      <td>4</td>\n      <td>2000626194</td>\n      <td>51</td>\n      <td>Locations: Chain Restaurants</td>\n      <td>Anthony's Coal Fired Pizza</td>\n      <td>48 Walkers Brook Dr</td>\n      <td>READING</td>\n      <td>MA</td>\n      <td>01867-3224</td>\n      <td>Location</td>\n      <td>United States of America</td>\n      <td>7.819448e+09</td>\n      <td>https://www.google.com/maps/place/Anthony's+Co...</td>\n      <td>anthonys_coal_fired_pizza</td>\n      <td>(781) 944-8454</td>\n      <td>Anthony's Coal Fired Pizza 48 Walkers Brook Dr...</td>\n      <td>Anthony's Coal Fired Pizza 48 Walkers Brook Dr...</td>\n    </tr>\n  </tbody>\n</table>\n</div>"
     },
     "metadata": {},
     "execution_count": 18
    }
   ],
   "source": [
    "sub.head()"
   ]
  },
  {
   "cell_type": "code",
   "execution_count": 11,
   "metadata": {},
   "outputs": [],
   "source": [
    "sub[\"anthony\"] = sub[\"Company Name\"] + \" \" + sub[\"Address 1\"] + \" \" + sub[\"City\"] + \" \" + sub[\"State\"] + \" \" + sub[\"Zip\"].apply(lambda x:str(x)) + \" \" + sub[\"phone_number\"]"
   ]
  },
  {
   "cell_type": "code",
   "execution_count": 17,
   "metadata": {},
   "outputs": [],
   "source": [
    "sub[\"donatos\"] = sub[\"Company Name\"] + \" \" + sub[\"Address 1\"] + \" \" + sub[\"City\"] + \" \" + sub[\"State\"]"
   ]
  },
  {
   "cell_type": "code",
   "execution_count": 20,
   "metadata": {},
   "outputs": [],
   "source": [
    "sub.to_csv(\"data_sub.csv\", index=False)"
   ]
  },
  {
   "cell_type": "code",
   "execution_count": 2,
   "metadata": {},
   "outputs": [],
   "source": [
    "import pandas as pd \n",
    "sub = pd.read_csv(\"C:\\\\Users\\\\Spencer\\\\Desktop\\\\clean\\\\data\\\\data_sub.csv\")"
   ]
  },
  {
   "cell_type": "code",
   "execution_count": 3,
   "metadata": {},
   "outputs": [],
   "source": [
    "blaze = sub[sub[\"company_name\"]==\"blaze_pizza\"]"
   ]
  },
  {
   "cell_type": "code",
   "execution_count": 5,
   "metadata": {},
   "outputs": [],
   "source": [
    "blaze[\"index\"] = range(328)"
   ]
  },
  {
   "cell_type": "code",
   "execution_count": 7,
   "metadata": {},
   "outputs": [],
   "source": [
    "blaze.to_csv(\"data_blaze.csv\", index=False)"
   ]
  },
  {
   "cell_type": "code",
   "execution_count": 2,
   "metadata": {},
   "outputs": [],
   "source": [
    "import re"
   ]
  },
  {
   "cell_type": "code",
   "execution_count": 4,
   "metadata": {},
   "outputs": [
    {
     "output_type": "execute_result",
     "data": {
      "text/plain": [
       "2000626178"
      ]
     },
     "metadata": {},
     "execution_count": 4
    }
   ],
   "source": [
    "sub[\"Company ID\"]"
   ]
  },
  {
   "cell_type": "code",
   "execution_count": 8,
   "metadata": {},
   "outputs": [
    {
     "output_type": "execute_result",
     "data": {
      "text/plain": [
       "\"Anthony's Coal Fired Pizza\""
      ]
     },
     "metadata": {},
     "execution_count": 8
    }
   ],
   "source": [
    "master[master[\"Company ID\"]==2000626180][\"Company Name\"]"
   ]
  },
  {
   "cell_type": "code",
   "execution_count": 2,
   "metadata": {},
   "outputs": [],
   "source": [
    "from utilities import get_files"
   ]
  },
  {
   "cell_type": "code",
   "execution_count": 3,
   "metadata": {},
   "outputs": [
    {
     "output_type": "execute_result",
     "data": {
      "text/plain": [
       "[]"
      ]
     },
     "metadata": {},
     "execution_count": 3
    }
   ],
   "source": [
    "get_files(\"C:\\\\Users\\\\Spencer\\\\Desktop\\\\clean\\\\data\\\\data_with_address\", \"\")"
   ]
  },
  {
   "cell_type": "code",
   "execution_count": 3,
   "metadata": {},
   "outputs": [],
   "source": [
    "import os"
   ]
  },
  {
   "cell_type": "code",
   "execution_count": 4,
   "metadata": {},
   "outputs": [
    {
     "output_type": "execute_result",
     "data": {
      "text/plain": [
       "['anthonys_9_29_2020',\n",
       " 'anthonys_9_30_2020',\n",
       " 'bananas_11_3_20',\n",
       " 'blaze_11_6_20',\n",
       " 'brick_oven_11_3_20',\n",
       " 'brixx_11_2_20',\n",
       " 'california_pizza_kitchen_10_13_2020',\n",
       " 'chanellos_11_2_20',\n",
       " 'cheezies_11_2_20',\n",
       " 'chuck_e_cheese_10_10_2020',\n",
       " 'chuck_e_cheese_10_10_2020_2',\n",
       " 'chuck_e_cheese_10_8_2020',\n",
       " 'chuck_e_cheese_10_9_2020',\n",
       " 'cicis_pizza_10_27_2020',\n",
       " 'cicis_to_go_11_2_20',\n",
       " 'cottage_inn_pizza_11_1_20',\n",
       " 'cpk_asap_11_3_20',\n",
       " 'dangelo_10_30_2020',\n",
       " 'deweys_11_2_20',\n",
       " 'donatos_10_3_2020',\n",
       " 'donatos_9_30_2020',\n",
       " 'extreme_pizza_11_1_20',\n",
       " 'figaros_pizza_11_2_20',\n",
       " 'foxs_10_28_20',\n",
       " 'gattiland_11_3_20',\n",
       " 'gattis_10_31_20',\n",
       " 'gattis_pizza_buffet_11_3_20',\n",
       " 'gattitown_11_3_20',\n",
       " 'giordanos_10_30_20',\n",
       " 'godfathers_10_25_2020',\n",
       " 'green_leafs_11_2_20',\n",
       " 'guilles_11_3_20',\n",
       " 'hungry_howies_pizza_11_3_20',\n",
       " 'jets_10_28_20',\n",
       " 'johnnies_new_york_pizzeria_11_3_20',\n",
       " 'johnnys_new_york_style_pizzeria_11_1_20',\n",
       " 'johnny_bruscos_new_york_style_pizza_11_2_20',\n",
       " 'larosas_10_31_20',\n",
       " 'leto_10_29_20',\n",
       " 'loumalnatis_11_3_20',\n",
       " 'lou_malnatis_pizzeria_11_1_20_part1',\n",
       " 'lou_malnatis_pizzeria_11_1_20_part2',\n",
       " 'marcos_pizza_10_23_2020',\n",
       " 'mellow_mushroom_11_07_20',\n",
       " 'mod_pizza_10_24_2020',\n",
       " 'monicals_10_31_20',\n",
       " 'mountain_mikes_10_28_20',\n",
       " 'nick_n_willys_11_3_20',\n",
       " 'old_chicago_10_30_20',\n",
       " 'original_italian_pie_11_3_20',\n",
       " 'paisanos_11_2_20',\n",
       " 'paisanos_pizza_11_3_20',\n",
       " 'papa_ginos_10_30_20',\n",
       " 'papa_johns_10_21_2020',\n",
       " 'papa_johns_10_22_2020',\n",
       " 'papa_murphys_10_14_2020',\n",
       " 'peter_piper_pizza_10_29_20',\n",
       " 'pieology_10_20_2020',\n",
       " 'pie_five_10_31_20',\n",
       " 'pizzarev_11_2_20',\n",
       " 'pizza_boli_10_30_20',\n",
       " 'pizza_factory_10_29_20',\n",
       " 'pizza_guys_10_31_20',\n",
       " 'pizza_hut_10_1_2020',\n",
       " 'pizza_hut_10_1_2020_2',\n",
       " 'pizza_hut_10_2_2020',\n",
       " 'pizza_hut_10_5_2020',\n",
       " 'pizza_hut_10_5_2020_2',\n",
       " 'pizza_hut_10_6_2020',\n",
       " 'pizza_hut_10_6_2020_2',\n",
       " 'pizza_hut_9_30_2020',\n",
       " 'pizza_hut_pre_9_30_2020',\n",
       " 'pizza_inn_10_29_20',\n",
       " 'pizza_inn_express_11_2_20',\n",
       " 'pizza_italia_11_3_20',\n",
       " 'pizza_plus_10_31_20',\n",
       " 'pizza_pro_10_30_20',\n",
       " 'pizza_ranch_10_12_2020',\n",
       " 'pizza_schmizza_11_3_20',\n",
       " 'pizzeria_locale_11_3_20',\n",
       " 'rosatis_10_28_20',\n",
       " 'round_table_10_20_2020',\n",
       " 'sbarro_10_18_2020',\n",
       " 'schmizza_public_house_11_3_20',\n",
       " 'shakeys_11_1_20',\n",
       " 'simple_simons_10_29_20',\n",
       " 'snappy_11_1_20',\n",
       " 'steelworks_buffett_&_grill_11_3_20',\n",
       " 'straw_hat_grill_11_3_20',\n",
       " 'straw_hat_pizza_11_2_20',\n",
       " 'sukotto_11_3_20',\n",
       " 'the_market_by_villa_11_3_20',\n",
       " 'the_office_beer_bar_&_grill_11_3_20',\n",
       " 'toppers_10_31_20',\n",
       " 'villa_fresh_10_19_2020',\n",
       " 'villa_pizza_10_19_2020',\n",
       " 'vocelli_10_29_20',\n",
       " 'zpizza_11_1_20']"
      ]
     },
     "metadata": {},
     "execution_count": 4
    }
   ],
   "source": [
    "os.listdir(\"C:\\\\Users\\\\Spencer\\\\Desktop\\\\clean\\\\data\\\\data_with_id\")"
   ]
  },
  {
   "cell_type": "code",
   "execution_count": 1,
   "metadata": {},
   "outputs": [],
   "source": [
    "from utilities import replicate_folders"
   ]
  },
  {
   "cell_type": "code",
   "execution_count": 2,
   "metadata": {},
   "outputs": [],
   "source": [
    "replicate_folders(\"C:\\\\Users\\\\Spencer\\\\Desktop\\\\clean\\\\data\\\\data_with_id\", \"C:\\\\Users\\\\Spencer\\\\Desktop\\\\clean\\\\data\\\\data_with_address\")"
   ]
  },
  {
   "cell_type": "code",
   "execution_count": 10,
   "metadata": {},
   "outputs": [],
   "source": [
    "from datetime import datetime"
   ]
  },
  {
   "cell_type": "code",
   "execution_count": 11,
   "metadata": {},
   "outputs": [
    {
     "output_type": "execute_result",
     "data": {
      "text/plain": [
       "datetime.datetime(2020, 9, 23, 0, 0)"
      ]
     },
     "metadata": {},
     "execution_count": 11
    }
   ],
   "source": [
    "datetime(year=2020, month=9, day=23)"
   ]
  },
  {
   "cell_type": "code",
   "execution_count": 16,
   "metadata": {},
   "outputs": [],
   "source": [
    "from date_process import extract_date_underscores, relative_to_date"
   ]
  },
  {
   "cell_type": "code",
   "execution_count": 17,
   "metadata": {},
   "outputs": [],
   "source": [
    "anthonys_current = extract_date_underscores(\"anthonys_9_29_2020\")"
   ]
  },
  {
   "cell_type": "code",
   "execution_count": 24,
   "metadata": {},
   "outputs": [
    {
     "output_type": "execute_result",
     "data": {
      "text/plain": [
       "datetime.datetime(2019, 12, 4, 0, 0)"
      ]
     },
     "metadata": {},
     "execution_count": 24
    }
   ],
   "source": [
    "relative_to_date(\"10 months ago\", anthonys_current)"
   ]
  },
  {
   "cell_type": "code",
   "execution_count": 1,
   "metadata": {},
   "outputs": [],
   "source": [
    "import pandas as pd\n",
    "master = pd.read_excel(\"C:\\\\Users\\\\Spencer\\\\Desktop\\\\clean\\\\data\\\\data.xlsx\")"
   ]
  },
  {
   "cell_type": "code",
   "execution_count": 4,
   "metadata": {},
   "outputs": [
    {
     "output_type": "execute_result",
     "data": {
      "text/plain": [
       "dtype('O')"
      ]
     },
     "metadata": {},
     "execution_count": 4
    }
   ],
   "source": [
    "master[\"City\"].dtypes"
   ]
  },
  {
   "cell_type": "code",
   "execution_count": 1,
   "metadata": {},
   "outputs": [],
   "source": [
    "from utilities import get_files"
   ]
  },
  {
   "cell_type": "code",
   "execution_count": 8,
   "metadata": {},
   "outputs": [],
   "source": [
    "folder = \"C:\\\\Users\\\\Spencer\\\\Desktop\\\\clean\\\\data\\\\data_with_address\\\\pizza_hut_pre_9_30_2020\"\n",
    "files = get_files(folder, \"csv\")\n",
    "outdir = \"C:\\\\Users\\\\Spencer\\\\Desktop\\\\clean\\\\data\\\\data_with_address\\\\pizza_hut_pre_9_30_2020_WITHSTARS\""
   ]
  },
  {
   "cell_type": "code",
   "execution_count": 9,
   "metadata": {},
   "outputs": [],
   "source": [
    "for file in files:\n",
    "    filename = file.split(\"\\\\\")[-1]\n",
    "    df = pd.read_csv(file)\n",
    "    df[\"stars\"] = df[\"Stars\"].apply(lambda x: int(x.split(\" \")[0]))\n",
    "    df.to_csv(outdir + \"\\\\\" + filename)"
   ]
  },
  {
   "cell_type": "code",
   "execution_count": 6,
   "metadata": {},
   "outputs": [],
   "source": [
    "import pandas as pd"
   ]
  },
  {
   "cell_type": "code",
   "execution_count": 7,
   "metadata": {},
   "outputs": [],
   "source": [
    "lmp = pd.read_csv(\"C:\\\\Users\\\\Spencer\\\\Desktop\\\\clean\\\\data\\\\data_with_address\\\\lou_malnatis_pizzeria_11_1_20_part1\\\\lou_malnatis_pizzeria_2000634945.csv\")"
   ]
  },
  {
   "cell_type": "code",
   "execution_count": 8,
   "metadata": {},
   "outputs": [],
   "source": [
    "lmp[\"stars\"] = lmp[\"stars\"].apply(lambda x: int(x.split(\" \")[0]))"
   ]
  },
  {
   "cell_type": "code",
   "execution_count": 10,
   "metadata": {},
   "outputs": [],
   "source": [
    "lmp.to_csv(\"C:\\\\Users\\\\Spencer\\\\Desktop\\\\clean\\\\data\\\\data_with_address\\\\lou_malnatis_pizzeria_11_1_20_part1\\\\lou_malnatis_pizzeria_2000634945.csv\", index=False)"
   ]
  },
  {
   "cell_type": "code",
   "execution_count": 11,
   "metadata": {},
   "outputs": [],
   "source": [
    "folder = \"C:\\\\Users\\\\Spencer\\\\Desktop\\\\clean\\\\data\\\\processed\"\n",
    "files = get_files(folder, \"csv\")"
   ]
  },
  {
   "cell_type": "code",
   "execution_count": 16,
   "metadata": {},
   "outputs": [
    {
     "output_type": "execute_result",
     "data": {
      "text/plain": [
       "   Store Company ID                                      Store Address  \\\n",
       "0        2000626180  Anthony's Coal Fired Pizza 9521 Westview Dr CO...   \n",
       "1        2000626181  Anthony's Coal Fired Pizza 852 State Rt 3 CLIF...   \n",
       "2        2000626182  Anthony's Coal Fired Pizza 851 S Federal Hwy B...   \n",
       "3        2000626183  Anthony's Coal Fired Pizza 8119 Town Center Wa...   \n",
       "4        2000626187  Anthony's Coal Fired Pizza 750 N Krocks Rd ALL...   \n",
       "\n",
       "             Store Chain Name  Mean Rating (2020)  Mean Rating (2019)  \\\n",
       "0  Anthony's Coal Fired Pizza            4.441441            4.404040   \n",
       "1  Anthony's Coal Fired Pizza            4.260870            4.201550   \n",
       "2  Anthony's Coal Fired Pizza            4.044444            4.478992   \n",
       "3  Anthony's Coal Fired Pizza            3.978261            4.314516   \n",
       "4  Anthony's Coal Fired Pizza            3.800000            4.425703   \n",
       "\n",
       "   Mean Rating (2018)  Mean Rating (2017)  Mean Rating (2016)  \\\n",
       "0            4.453782            4.148148            4.437500   \n",
       "1            4.363014            3.944444            3.571429   \n",
       "2            4.329787            4.317073            3.500000   \n",
       "3            4.248227            3.962264            4.227273   \n",
       "4            4.295918            4.181159                 NaN   \n",
       "\n",
       "   Mean Rating (2015)  Mean Rating (2014)  ...  Number of Ratings (2012)  \\\n",
       "0            4.600000                 3.6  ...                         1   \n",
       "1            3.444444                 3.5  ...                         1   \n",
       "2                 NaN                 NaN  ...                         0   \n",
       "3            4.250000                 NaN  ...                         0   \n",
       "4                 NaN                 NaN  ...                         0   \n",
       "\n",
       "                                 Text Ratings (2020)  \\\n",
       "0  =HYPERLINK(\".\\text_reviews\\Anthony's Coal Fire...   \n",
       "1  =HYPERLINK(\".\\text_reviews\\Anthony's Coal Fire...   \n",
       "2  =HYPERLINK(\".\\text_reviews\\Anthony's Coal Fire...   \n",
       "3  =HYPERLINK(\".\\text_reviews\\Anthony's Coal Fire...   \n",
       "4  =HYPERLINK(\".\\text_reviews\\Anthony's Coal Fire...   \n",
       "\n",
       "                                 Text Ratings (2019)  \\\n",
       "0  =HYPERLINK(\".\\text_reviews\\Anthony's Coal Fire...   \n",
       "1  =HYPERLINK(\".\\text_reviews\\Anthony's Coal Fire...   \n",
       "2  =HYPERLINK(\".\\text_reviews\\Anthony's Coal Fire...   \n",
       "3  =HYPERLINK(\".\\text_reviews\\Anthony's Coal Fire...   \n",
       "4  =HYPERLINK(\".\\text_reviews\\Anthony's Coal Fire...   \n",
       "\n",
       "                                 Text Ratings (2018)  \\\n",
       "0  =HYPERLINK(\".\\text_reviews\\Anthony's Coal Fire...   \n",
       "1  =HYPERLINK(\".\\text_reviews\\Anthony's Coal Fire...   \n",
       "2  =HYPERLINK(\".\\text_reviews\\Anthony's Coal Fire...   \n",
       "3  =HYPERLINK(\".\\text_reviews\\Anthony's Coal Fire...   \n",
       "4  =HYPERLINK(\".\\text_reviews\\Anthony's Coal Fire...   \n",
       "\n",
       "                                 Text Ratings (2017)  \\\n",
       "0  =HYPERLINK(\".\\text_reviews\\Anthony's Coal Fire...   \n",
       "1  =HYPERLINK(\".\\text_reviews\\Anthony's Coal Fire...   \n",
       "2  =HYPERLINK(\".\\text_reviews\\Anthony's Coal Fire...   \n",
       "3  =HYPERLINK(\".\\text_reviews\\Anthony's Coal Fire...   \n",
       "4  =HYPERLINK(\".\\text_reviews\\Anthony's Coal Fire...   \n",
       "\n",
       "                                 Text Ratings (2016)  \\\n",
       "0  =HYPERLINK(\".\\text_reviews\\Anthony's Coal Fire...   \n",
       "1  =HYPERLINK(\".\\text_reviews\\Anthony's Coal Fire...   \n",
       "2  =HYPERLINK(\".\\text_reviews\\Anthony's Coal Fire...   \n",
       "3  =HYPERLINK(\".\\text_reviews\\Anthony's Coal Fire...   \n",
       "4  =HYPERLINK(\".\\text_reviews\\Anthony's Coal Fire...   \n",
       "\n",
       "                                 Text Ratings (2015)  \\\n",
       "0  =HYPERLINK(\".\\text_reviews\\Anthony's Coal Fire...   \n",
       "1  =HYPERLINK(\".\\text_reviews\\Anthony's Coal Fire...   \n",
       "2  =HYPERLINK(\".\\text_reviews\\Anthony's Coal Fire...   \n",
       "3  =HYPERLINK(\".\\text_reviews\\Anthony's Coal Fire...   \n",
       "4  =HYPERLINK(\".\\text_reviews\\Anthony's Coal Fire...   \n",
       "\n",
       "                                 Text Ratings (2014)  \\\n",
       "0  =HYPERLINK(\".\\text_reviews\\Anthony's Coal Fire...   \n",
       "1  =HYPERLINK(\".\\text_reviews\\Anthony's Coal Fire...   \n",
       "2  =HYPERLINK(\".\\text_reviews\\Anthony's Coal Fire...   \n",
       "3  =HYPERLINK(\".\\text_reviews\\Anthony's Coal Fire...   \n",
       "4  =HYPERLINK(\".\\text_reviews\\Anthony's Coal Fire...   \n",
       "\n",
       "                                 Text Ratings (2013)  \\\n",
       "0  =HYPERLINK(\".\\text_reviews\\Anthony's Coal Fire...   \n",
       "1  =HYPERLINK(\".\\text_reviews\\Anthony's Coal Fire...   \n",
       "2  =HYPERLINK(\".\\text_reviews\\Anthony's Coal Fire...   \n",
       "3  =HYPERLINK(\".\\text_reviews\\Anthony's Coal Fire...   \n",
       "4  =HYPERLINK(\".\\text_reviews\\Anthony's Coal Fire...   \n",
       "\n",
       "                                 Text Ratings (2012)  \n",
       "0  =HYPERLINK(\".\\text_reviews\\Anthony's Coal Fire...  \n",
       "1  =HYPERLINK(\".\\text_reviews\\Anthony's Coal Fire...  \n",
       "2  =HYPERLINK(\".\\text_reviews\\Anthony's Coal Fire...  \n",
       "3  =HYPERLINK(\".\\text_reviews\\Anthony's Coal Fire...  \n",
       "4  =HYPERLINK(\".\\text_reviews\\Anthony's Coal Fire...  \n",
       "\n",
       "[5 rows x 39 columns]"
      ],
      "text/html": "<div>\n<style scoped>\n    .dataframe tbody tr th:only-of-type {\n        vertical-align: middle;\n    }\n\n    .dataframe tbody tr th {\n        vertical-align: top;\n    }\n\n    .dataframe thead th {\n        text-align: right;\n    }\n</style>\n<table border=\"1\" class=\"dataframe\">\n  <thead>\n    <tr style=\"text-align: right;\">\n      <th></th>\n      <th>Store Company ID</th>\n      <th>Store Address</th>\n      <th>Store Chain Name</th>\n      <th>Mean Rating (2020)</th>\n      <th>Mean Rating (2019)</th>\n      <th>Mean Rating (2018)</th>\n      <th>Mean Rating (2017)</th>\n      <th>Mean Rating (2016)</th>\n      <th>Mean Rating (2015)</th>\n      <th>Mean Rating (2014)</th>\n      <th>...</th>\n      <th>Number of Ratings (2012)</th>\n      <th>Text Ratings (2020)</th>\n      <th>Text Ratings (2019)</th>\n      <th>Text Ratings (2018)</th>\n      <th>Text Ratings (2017)</th>\n      <th>Text Ratings (2016)</th>\n      <th>Text Ratings (2015)</th>\n      <th>Text Ratings (2014)</th>\n      <th>Text Ratings (2013)</th>\n      <th>Text Ratings (2012)</th>\n    </tr>\n  </thead>\n  <tbody>\n    <tr>\n      <td>0</td>\n      <td>2000626180</td>\n      <td>Anthony's Coal Fired Pizza 9521 Westview Dr CO...</td>\n      <td>Anthony's Coal Fired Pizza</td>\n      <td>4.441441</td>\n      <td>4.404040</td>\n      <td>4.453782</td>\n      <td>4.148148</td>\n      <td>4.437500</td>\n      <td>4.600000</td>\n      <td>3.6</td>\n      <td>...</td>\n      <td>1</td>\n      <td>=HYPERLINK(\".\\text_reviews\\Anthony's Coal Fire...</td>\n      <td>=HYPERLINK(\".\\text_reviews\\Anthony's Coal Fire...</td>\n      <td>=HYPERLINK(\".\\text_reviews\\Anthony's Coal Fire...</td>\n      <td>=HYPERLINK(\".\\text_reviews\\Anthony's Coal Fire...</td>\n      <td>=HYPERLINK(\".\\text_reviews\\Anthony's Coal Fire...</td>\n      <td>=HYPERLINK(\".\\text_reviews\\Anthony's Coal Fire...</td>\n      <td>=HYPERLINK(\".\\text_reviews\\Anthony's Coal Fire...</td>\n      <td>=HYPERLINK(\".\\text_reviews\\Anthony's Coal Fire...</td>\n      <td>=HYPERLINK(\".\\text_reviews\\Anthony's Coal Fire...</td>\n    </tr>\n    <tr>\n      <td>1</td>\n      <td>2000626181</td>\n      <td>Anthony's Coal Fired Pizza 852 State Rt 3 CLIF...</td>\n      <td>Anthony's Coal Fired Pizza</td>\n      <td>4.260870</td>\n      <td>4.201550</td>\n      <td>4.363014</td>\n      <td>3.944444</td>\n      <td>3.571429</td>\n      <td>3.444444</td>\n      <td>3.5</td>\n      <td>...</td>\n      <td>1</td>\n      <td>=HYPERLINK(\".\\text_reviews\\Anthony's Coal Fire...</td>\n      <td>=HYPERLINK(\".\\text_reviews\\Anthony's Coal Fire...</td>\n      <td>=HYPERLINK(\".\\text_reviews\\Anthony's Coal Fire...</td>\n      <td>=HYPERLINK(\".\\text_reviews\\Anthony's Coal Fire...</td>\n      <td>=HYPERLINK(\".\\text_reviews\\Anthony's Coal Fire...</td>\n      <td>=HYPERLINK(\".\\text_reviews\\Anthony's Coal Fire...</td>\n      <td>=HYPERLINK(\".\\text_reviews\\Anthony's Coal Fire...</td>\n      <td>=HYPERLINK(\".\\text_reviews\\Anthony's Coal Fire...</td>\n      <td>=HYPERLINK(\".\\text_reviews\\Anthony's Coal Fire...</td>\n    </tr>\n    <tr>\n      <td>2</td>\n      <td>2000626182</td>\n      <td>Anthony's Coal Fired Pizza 851 S Federal Hwy B...</td>\n      <td>Anthony's Coal Fired Pizza</td>\n      <td>4.044444</td>\n      <td>4.478992</td>\n      <td>4.329787</td>\n      <td>4.317073</td>\n      <td>3.500000</td>\n      <td>NaN</td>\n      <td>NaN</td>\n      <td>...</td>\n      <td>0</td>\n      <td>=HYPERLINK(\".\\text_reviews\\Anthony's Coal Fire...</td>\n      <td>=HYPERLINK(\".\\text_reviews\\Anthony's Coal Fire...</td>\n      <td>=HYPERLINK(\".\\text_reviews\\Anthony's Coal Fire...</td>\n      <td>=HYPERLINK(\".\\text_reviews\\Anthony's Coal Fire...</td>\n      <td>=HYPERLINK(\".\\text_reviews\\Anthony's Coal Fire...</td>\n      <td>=HYPERLINK(\".\\text_reviews\\Anthony's Coal Fire...</td>\n      <td>=HYPERLINK(\".\\text_reviews\\Anthony's Coal Fire...</td>\n      <td>=HYPERLINK(\".\\text_reviews\\Anthony's Coal Fire...</td>\n      <td>=HYPERLINK(\".\\text_reviews\\Anthony's Coal Fire...</td>\n    </tr>\n    <tr>\n      <td>3</td>\n      <td>2000626183</td>\n      <td>Anthony's Coal Fired Pizza 8119 Town Center Wa...</td>\n      <td>Anthony's Coal Fired Pizza</td>\n      <td>3.978261</td>\n      <td>4.314516</td>\n      <td>4.248227</td>\n      <td>3.962264</td>\n      <td>4.227273</td>\n      <td>4.250000</td>\n      <td>NaN</td>\n      <td>...</td>\n      <td>0</td>\n      <td>=HYPERLINK(\".\\text_reviews\\Anthony's Coal Fire...</td>\n      <td>=HYPERLINK(\".\\text_reviews\\Anthony's Coal Fire...</td>\n      <td>=HYPERLINK(\".\\text_reviews\\Anthony's Coal Fire...</td>\n      <td>=HYPERLINK(\".\\text_reviews\\Anthony's Coal Fire...</td>\n      <td>=HYPERLINK(\".\\text_reviews\\Anthony's Coal Fire...</td>\n      <td>=HYPERLINK(\".\\text_reviews\\Anthony's Coal Fire...</td>\n      <td>=HYPERLINK(\".\\text_reviews\\Anthony's Coal Fire...</td>\n      <td>=HYPERLINK(\".\\text_reviews\\Anthony's Coal Fire...</td>\n      <td>=HYPERLINK(\".\\text_reviews\\Anthony's Coal Fire...</td>\n    </tr>\n    <tr>\n      <td>4</td>\n      <td>2000626187</td>\n      <td>Anthony's Coal Fired Pizza 750 N Krocks Rd ALL...</td>\n      <td>Anthony's Coal Fired Pizza</td>\n      <td>3.800000</td>\n      <td>4.425703</td>\n      <td>4.295918</td>\n      <td>4.181159</td>\n      <td>NaN</td>\n      <td>NaN</td>\n      <td>NaN</td>\n      <td>...</td>\n      <td>0</td>\n      <td>=HYPERLINK(\".\\text_reviews\\Anthony's Coal Fire...</td>\n      <td>=HYPERLINK(\".\\text_reviews\\Anthony's Coal Fire...</td>\n      <td>=HYPERLINK(\".\\text_reviews\\Anthony's Coal Fire...</td>\n      <td>=HYPERLINK(\".\\text_reviews\\Anthony's Coal Fire...</td>\n      <td>=HYPERLINK(\".\\text_reviews\\Anthony's Coal Fire...</td>\n      <td>=HYPERLINK(\".\\text_reviews\\Anthony's Coal Fire...</td>\n      <td>=HYPERLINK(\".\\text_reviews\\Anthony's Coal Fire...</td>\n      <td>=HYPERLINK(\".\\text_reviews\\Anthony's Coal Fire...</td>\n      <td>=HYPERLINK(\".\\text_reviews\\Anthony's Coal Fire...</td>\n    </tr>\n  </tbody>\n</table>\n<p>5 rows × 39 columns</p>\n</div>"
     },
     "metadata": {},
     "execution_count": 16
    }
   ],
   "source": [
    "df = pd.read_csv(files[0])\n",
    "for i in range(1, len(files)):\n",
    "    ndf = pd.read_csv(files[i])\n",
    "    df = pd.concat([df, ndf], ignore_index=True)\n",
    "df.head()"
   ]
  },
  {
   "cell_type": "code",
   "execution_count": 18,
   "metadata": {},
   "outputs": [],
   "source": [
    "master = pd.read_excel(\"C:\\\\Users\\\\Spencer\\\\Desktop\\\\clean\\\\data\\\\data.xlsx\")"
   ]
  },
  {
   "cell_type": "code",
   "execution_count": 19,
   "metadata": {},
   "outputs": [
    {
     "output_type": "execute_result",
     "data": {
      "text/plain": [
       "   Company ID  Industry ID                 Industry Name  \\\n",
       "0  2000626178           51  Locations: Chain Restaurants   \n",
       "1  2000626186           51  Locations: Chain Restaurants   \n",
       "2  2000626189           51  Locations: Chain Restaurants   \n",
       "3  2000626192           51  Locations: Chain Restaurants   \n",
       "4  2000626194           51  Locations: Chain Restaurants   \n",
       "\n",
       "                 Company Name               Address 1       City State  \\\n",
       "0  Anthony's Coal Fired Pizza         984 State Rt 17     RAMSEY    NJ   \n",
       "1  Anthony's Coal Fired Pizza         80 Parsonage Rd     EDISON    NJ   \n",
       "2  Anthony's Coal Fired Pizza       6401 Jericho Tpke    COMMACK    NY   \n",
       "3  Anthony's Coal Fired Pizza  50 East Wynnewood Road  WYNNEWOOD    PA   \n",
       "4  Anthony's Coal Fired Pizza     48 Walkers Brook Dr    READING    MA   \n",
       "\n",
       "          Zip Listing Type                   Country         Phone  \\\n",
       "0  07446-1607     Location  United States of America  2.018183e+09   \n",
       "1  08837-2416     Location  United States of America  7.327442e+09   \n",
       "2  11725-2832     Location  United States of America  6.318583e+09   \n",
       "3       19096     Location  United States of America  6.106455e+09   \n",
       "4  01867-3224     Location  United States of America  7.819448e+09   \n",
       "\n",
       "                                         Google Link  \n",
       "0  https://www.google.com/maps/place/Anthony's+Co...  \n",
       "1  https://www.google.com/maps/place/Anthony's+Co...  \n",
       "2  https://www.google.com/maps/place/Anthony's+Co...  \n",
       "3  https://www.google.com/maps/place/Anthony's+Co...  \n",
       "4  https://www.google.com/maps/place/Anthony's+Co...  "
      ],
      "text/html": "<div>\n<style scoped>\n    .dataframe tbody tr th:only-of-type {\n        vertical-align: middle;\n    }\n\n    .dataframe tbody tr th {\n        vertical-align: top;\n    }\n\n    .dataframe thead th {\n        text-align: right;\n    }\n</style>\n<table border=\"1\" class=\"dataframe\">\n  <thead>\n    <tr style=\"text-align: right;\">\n      <th></th>\n      <th>Company ID</th>\n      <th>Industry ID</th>\n      <th>Industry Name</th>\n      <th>Company Name</th>\n      <th>Address 1</th>\n      <th>City</th>\n      <th>State</th>\n      <th>Zip</th>\n      <th>Listing Type</th>\n      <th>Country</th>\n      <th>Phone</th>\n      <th>Google Link</th>\n    </tr>\n  </thead>\n  <tbody>\n    <tr>\n      <td>0</td>\n      <td>2000626178</td>\n      <td>51</td>\n      <td>Locations: Chain Restaurants</td>\n      <td>Anthony's Coal Fired Pizza</td>\n      <td>984 State Rt 17</td>\n      <td>RAMSEY</td>\n      <td>NJ</td>\n      <td>07446-1607</td>\n      <td>Location</td>\n      <td>United States of America</td>\n      <td>2.018183e+09</td>\n      <td>https://www.google.com/maps/place/Anthony's+Co...</td>\n    </tr>\n    <tr>\n      <td>1</td>\n      <td>2000626186</td>\n      <td>51</td>\n      <td>Locations: Chain Restaurants</td>\n      <td>Anthony's Coal Fired Pizza</td>\n      <td>80 Parsonage Rd</td>\n      <td>EDISON</td>\n      <td>NJ</td>\n      <td>08837-2416</td>\n      <td>Location</td>\n      <td>United States of America</td>\n      <td>7.327442e+09</td>\n      <td>https://www.google.com/maps/place/Anthony's+Co...</td>\n    </tr>\n    <tr>\n      <td>2</td>\n      <td>2000626189</td>\n      <td>51</td>\n      <td>Locations: Chain Restaurants</td>\n      <td>Anthony's Coal Fired Pizza</td>\n      <td>6401 Jericho Tpke</td>\n      <td>COMMACK</td>\n      <td>NY</td>\n      <td>11725-2832</td>\n      <td>Location</td>\n      <td>United States of America</td>\n      <td>6.318583e+09</td>\n      <td>https://www.google.com/maps/place/Anthony's+Co...</td>\n    </tr>\n    <tr>\n      <td>3</td>\n      <td>2000626192</td>\n      <td>51</td>\n      <td>Locations: Chain Restaurants</td>\n      <td>Anthony's Coal Fired Pizza</td>\n      <td>50 East Wynnewood Road</td>\n      <td>WYNNEWOOD</td>\n      <td>PA</td>\n      <td>19096</td>\n      <td>Location</td>\n      <td>United States of America</td>\n      <td>6.106455e+09</td>\n      <td>https://www.google.com/maps/place/Anthony's+Co...</td>\n    </tr>\n    <tr>\n      <td>4</td>\n      <td>2000626194</td>\n      <td>51</td>\n      <td>Locations: Chain Restaurants</td>\n      <td>Anthony's Coal Fired Pizza</td>\n      <td>48 Walkers Brook Dr</td>\n      <td>READING</td>\n      <td>MA</td>\n      <td>01867-3224</td>\n      <td>Location</td>\n      <td>United States of America</td>\n      <td>7.819448e+09</td>\n      <td>https://www.google.com/maps/place/Anthony's+Co...</td>\n    </tr>\n  </tbody>\n</table>\n</div>"
     },
     "metadata": {},
     "execution_count": 19
    }
   ],
   "source": [
    "master.head()"
   ]
  },
  {
   "cell_type": "code",
   "execution_count": 20,
   "metadata": {},
   "outputs": [
    {
     "output_type": "execute_result",
     "data": {
      "text/plain": [
       "pandas.core.series.Series"
      ]
     },
     "metadata": {},
     "execution_count": 20
    }
   ],
   "source": [
    "type(master[\"Company ID\"])"
   ]
  },
  {
   "cell_type": "code",
   "execution_count": 28,
   "metadata": {},
   "outputs": [],
   "source": [
    "diff = master[~master[\"Company ID\"].isin(df[\"Store Company ID\"])]"
   ]
  },
  {
   "cell_type": "code",
   "execution_count": 29,
   "metadata": {},
   "outputs": [],
   "source": [
    "diff.to_csv(\"diff.csv\", index=False)"
   ]
  },
  {
   "cell_type": "code",
   "execution_count": 31,
   "metadata": {},
   "outputs": [],
   "source": [
    "from utilities import process_company_names"
   ]
  },
  {
   "cell_type": "code",
   "execution_count": 32,
   "metadata": {},
   "outputs": [],
   "source": [
    "process_company_names(diff, \"Company Name\", \"company_name\")"
   ]
  },
  {
   "cell_type": "code",
   "execution_count": 36,
   "metadata": {},
   "outputs": [],
   "source": [
    "scraps = diff[~diff[\"company_name\"].isin([\"dominos\", \"little_caesars_pizza\"])]"
   ]
  },
  {
   "cell_type": "code",
   "execution_count": 37,
   "metadata": {},
   "outputs": [],
   "source": [
    "scraps.to_csv(\"C:\\\\Users\\\\Spencer\\\\Desktop\\\\clean\\\\data\\\\scraps.csv\", index=False)"
   ]
  },
  {
   "cell_type": "code",
   "execution_count": 38,
   "metadata": {},
   "outputs": [],
   "source": [
    "df.to_csv(\"C:\\\\Users\\\\Spencer\\\\Desktop\\\\clean\\\\data\\\\all_processed.csv\", index=False)"
   ]
  },
  {
   "cell_type": "code",
   "execution_count": 1,
   "metadata": {},
   "outputs": [
    {
     "output_type": "execute_result",
     "data": {
      "text/plain": [
       "   Company ID  ...     company_name\n",
       "0  2000634159  ...  blackjack_pizza\n",
       "1  2000634168  ...  blackjack_pizza\n",
       "2  2000634172  ...  blackjack_pizza\n",
       "3  2000634156  ...  blackjack_pizza\n",
       "4  2000634157  ...  blackjack_pizza\n",
       "\n",
       "[5 rows x 13 columns]"
      ],
      "text/html": "<div>\n<style scoped>\n    .dataframe tbody tr th:only-of-type {\n        vertical-align: middle;\n    }\n\n    .dataframe tbody tr th {\n        vertical-align: top;\n    }\n\n    .dataframe thead th {\n        text-align: right;\n    }\n</style>\n<table border=\"1\" class=\"dataframe\">\n  <thead>\n    <tr style=\"text-align: right;\">\n      <th></th>\n      <th>Company ID</th>\n      <th>Industry ID</th>\n      <th>Industry Name</th>\n      <th>Company Name</th>\n      <th>Address 1</th>\n      <th>City</th>\n      <th>State</th>\n      <th>Zip</th>\n      <th>Listing Type</th>\n      <th>Country</th>\n      <th>Phone</th>\n      <th>Google Link</th>\n      <th>company_name</th>\n    </tr>\n  </thead>\n  <tbody>\n    <tr>\n      <td>0</td>\n      <td>2000634159</td>\n      <td>51</td>\n      <td>Locations: Chain Restaurants</td>\n      <td>Blackjack Pizza</td>\n      <td>6225 E 71st Pl</td>\n      <td>COMMERCE CITY</td>\n      <td>CO</td>\n      <td>80022-2066</td>\n      <td>Location</td>\n      <td>United States of America</td>\n      <td>3.032862e+09</td>\n      <td>https://www.google.com/maps/place/Blackjack+Pi...</td>\n      <td>blackjack_pizza</td>\n    </tr>\n    <tr>\n      <td>1</td>\n      <td>2000634168</td>\n      <td>51</td>\n      <td>Locations: Chain Restaurants</td>\n      <td>Blackjack Pizza</td>\n      <td>6450 W 120th Ave</td>\n      <td>BROOMFIELD</td>\n      <td>CO</td>\n      <td>80020-2983</td>\n      <td>Location</td>\n      <td>United States of America</td>\n      <td>3.034695e+09</td>\n      <td>https://www.google.com/maps/place/Blackjack+Pi...</td>\n      <td>blackjack_pizza</td>\n    </tr>\n    <tr>\n      <td>2</td>\n      <td>2000634172</td>\n      <td>51</td>\n      <td>Locations: Chain Restaurants</td>\n      <td>Blackjack Pizza</td>\n      <td>1075 E South Boulder Rd</td>\n      <td>LOUISVILLE</td>\n      <td>CO</td>\n      <td>80027-2560</td>\n      <td>Location</td>\n      <td>United States of America</td>\n      <td>3.036650e+09</td>\n      <td>https://www.google.com/maps/place/Blackjack+Pi...</td>\n      <td>blackjack_pizza</td>\n    </tr>\n    <tr>\n      <td>3</td>\n      <td>2000634156</td>\n      <td>51</td>\n      <td>Locations: Chain Restaurants</td>\n      <td>Blackjack Pizza</td>\n      <td>28245 S Tamiami Trl</td>\n      <td>BONITA SPRINGS</td>\n      <td>FL</td>\n      <td>34134-3221</td>\n      <td>Location</td>\n      <td>United States of America</td>\n      <td>2.394953e+09</td>\n      <td>https://www.google.com/maps/place/Blackjack+Pi...</td>\n      <td>blackjack_pizza</td>\n    </tr>\n    <tr>\n      <td>4</td>\n      <td>2000634157</td>\n      <td>51</td>\n      <td>Locations: Chain Restaurants</td>\n      <td>Blackjack Pizza</td>\n      <td>6465 W Colfax Ave</td>\n      <td>LAKEWOOD</td>\n      <td>CO</td>\n      <td>80214-1801</td>\n      <td>Location</td>\n      <td>United States of America</td>\n      <td>3.032376e+09</td>\n      <td>https://www.google.com/maps/place/Blackjack+Pi...</td>\n      <td>blackjack_pizza</td>\n    </tr>\n  </tbody>\n</table>\n</div>"
     },
     "metadata": {},
     "execution_count": 1
    }
   ],
   "source": [
    "import pandas as pd \n",
    "scraps = pd.read_csv(\"C:\\\\Users\\\\Spencer\\\\Desktop\\\\clean\\\\data\\\\scraps.csv\")\n",
    "scraps.head()"
   ]
  },
  {
   "cell_type": "code",
   "execution_count": 2,
   "metadata": {},
   "outputs": [
    {
     "output_type": "execute_result",
     "data": {
      "text/plain": [
       "   Company ID  Industry ID                 Industry Name  \\\n",
       "0  2000626178           51  Locations: Chain Restaurants   \n",
       "1  2000626186           51  Locations: Chain Restaurants   \n",
       "2  2000626189           51  Locations: Chain Restaurants   \n",
       "3  2000626192           51  Locations: Chain Restaurants   \n",
       "4  2000626194           51  Locations: Chain Restaurants   \n",
       "\n",
       "                 Company Name               Address 1       City State  \\\n",
       "0  Anthony's Coal Fired Pizza         984 State Rt 17     RAMSEY    NJ   \n",
       "1  Anthony's Coal Fired Pizza         80 Parsonage Rd     EDISON    NJ   \n",
       "2  Anthony's Coal Fired Pizza       6401 Jericho Tpke    COMMACK    NY   \n",
       "3  Anthony's Coal Fired Pizza  50 East Wynnewood Road  WYNNEWOOD    PA   \n",
       "4  Anthony's Coal Fired Pizza     48 Walkers Brook Dr    READING    MA   \n",
       "\n",
       "          Zip Listing Type                   Country         Phone  \\\n",
       "0  07446-1607     Location  United States of America  2.018183e+09   \n",
       "1  08837-2416     Location  United States of America  7.327442e+09   \n",
       "2  11725-2832     Location  United States of America  6.318583e+09   \n",
       "3       19096     Location  United States of America  6.106455e+09   \n",
       "4  01867-3224     Location  United States of America  7.819448e+09   \n",
       "\n",
       "                                         Google Link  \n",
       "0  https://www.google.com/maps/place/Anthony's+Co...  \n",
       "1  https://www.google.com/maps/place/Anthony's+Co...  \n",
       "2  https://www.google.com/maps/place/Anthony's+Co...  \n",
       "3  https://www.google.com/maps/place/Anthony's+Co...  \n",
       "4  https://www.google.com/maps/place/Anthony's+Co...  "
      ],
      "text/html": "<div>\n<style scoped>\n    .dataframe tbody tr th:only-of-type {\n        vertical-align: middle;\n    }\n\n    .dataframe tbody tr th {\n        vertical-align: top;\n    }\n\n    .dataframe thead th {\n        text-align: right;\n    }\n</style>\n<table border=\"1\" class=\"dataframe\">\n  <thead>\n    <tr style=\"text-align: right;\">\n      <th></th>\n      <th>Company ID</th>\n      <th>Industry ID</th>\n      <th>Industry Name</th>\n      <th>Company Name</th>\n      <th>Address 1</th>\n      <th>City</th>\n      <th>State</th>\n      <th>Zip</th>\n      <th>Listing Type</th>\n      <th>Country</th>\n      <th>Phone</th>\n      <th>Google Link</th>\n    </tr>\n  </thead>\n  <tbody>\n    <tr>\n      <td>0</td>\n      <td>2000626178</td>\n      <td>51</td>\n      <td>Locations: Chain Restaurants</td>\n      <td>Anthony's Coal Fired Pizza</td>\n      <td>984 State Rt 17</td>\n      <td>RAMSEY</td>\n      <td>NJ</td>\n      <td>07446-1607</td>\n      <td>Location</td>\n      <td>United States of America</td>\n      <td>2.018183e+09</td>\n      <td>https://www.google.com/maps/place/Anthony's+Co...</td>\n    </tr>\n    <tr>\n      <td>1</td>\n      <td>2000626186</td>\n      <td>51</td>\n      <td>Locations: Chain Restaurants</td>\n      <td>Anthony's Coal Fired Pizza</td>\n      <td>80 Parsonage Rd</td>\n      <td>EDISON</td>\n      <td>NJ</td>\n      <td>08837-2416</td>\n      <td>Location</td>\n      <td>United States of America</td>\n      <td>7.327442e+09</td>\n      <td>https://www.google.com/maps/place/Anthony's+Co...</td>\n    </tr>\n    <tr>\n      <td>2</td>\n      <td>2000626189</td>\n      <td>51</td>\n      <td>Locations: Chain Restaurants</td>\n      <td>Anthony's Coal Fired Pizza</td>\n      <td>6401 Jericho Tpke</td>\n      <td>COMMACK</td>\n      <td>NY</td>\n      <td>11725-2832</td>\n      <td>Location</td>\n      <td>United States of America</td>\n      <td>6.318583e+09</td>\n      <td>https://www.google.com/maps/place/Anthony's+Co...</td>\n    </tr>\n    <tr>\n      <td>3</td>\n      <td>2000626192</td>\n      <td>51</td>\n      <td>Locations: Chain Restaurants</td>\n      <td>Anthony's Coal Fired Pizza</td>\n      <td>50 East Wynnewood Road</td>\n      <td>WYNNEWOOD</td>\n      <td>PA</td>\n      <td>19096</td>\n      <td>Location</td>\n      <td>United States of America</td>\n      <td>6.106455e+09</td>\n      <td>https://www.google.com/maps/place/Anthony's+Co...</td>\n    </tr>\n    <tr>\n      <td>4</td>\n      <td>2000626194</td>\n      <td>51</td>\n      <td>Locations: Chain Restaurants</td>\n      <td>Anthony's Coal Fired Pizza</td>\n      <td>48 Walkers Brook Dr</td>\n      <td>READING</td>\n      <td>MA</td>\n      <td>01867-3224</td>\n      <td>Location</td>\n      <td>United States of America</td>\n      <td>7.819448e+09</td>\n      <td>https://www.google.com/maps/place/Anthony's+Co...</td>\n    </tr>\n  </tbody>\n</table>\n</div>"
     },
     "metadata": {},
     "execution_count": 2
    }
   ],
   "source": [
    "master.head()"
   ]
  },
  {
   "cell_type": "code",
   "execution_count": 2,
   "metadata": {},
   "outputs": [],
   "source": [
    "test_subset = master[master[\"Company ID\"].isin([2000626180, 2000626181, 2000626182])]"
   ]
  },
  {
   "cell_type": "code",
   "execution_count": 6,
   "metadata": {},
   "outputs": [],
   "source": [
    "test_subset.to_csv(\"test_subset.csv\", index=False)"
   ]
  },
  {
   "cell_type": "code",
   "execution_count": 4,
   "metadata": {},
   "outputs": [],
   "source": [
    "test_subset = pd.read_csv(\"test_subset.csv\")"
   ]
  },
  {
   "cell_type": "code",
   "execution_count": 4,
   "metadata": {},
   "outputs": [],
   "source": [
    "test_scraped = pd.read_csv(\"C:\\\\Users\\\\Spencer\\\\Desktop\\\\clean\\\\data\\\\processed\\\\anthonys_9_29_2020.csv\")"
   ]
  },
  {
   "cell_type": "code",
   "execution_count": 5,
   "metadata": {},
   "outputs": [],
   "source": [
    "test_subset = test_subset.rename(columns={\"Company ID\":\"Store Company ID\"})"
   ]
  },
  {
   "cell_type": "code",
   "execution_count": 8,
   "metadata": {},
   "outputs": [
    {
     "output_type": "execute_result",
     "data": {
      "text/plain": [
       "    Store Company ID  Industry ID                 Industry Name  \\\n",
       "31        2000626181           51  Locations: Chain Restaurants   \n",
       "32        2000626182           51  Locations: Chain Restaurants   \n",
       "45        2000626180           51  Locations: Chain Restaurants   \n",
       "\n",
       "                  Company Name          Address 1           City State  \\\n",
       "31  Anthony's Coal Fired Pizza     852 State Rt 3        CLIFTON    NJ   \n",
       "32  Anthony's Coal Fired Pizza  851 S Federal Hwy     BOCA RATON    FL   \n",
       "45  Anthony's Coal Fired Pizza   9521 Westview Dr  CORAL SPRINGS    FL   \n",
       "\n",
       "           Zip Listing Type                   Country         Phone  \\\n",
       "31  07012-2343     Location  United States of America  9.734713e+09   \n",
       "32  33432-6165     Location  United States of America  5.613383e+09   \n",
       "45  33076-2512     Location  United States of America  9.543403e+09   \n",
       "\n",
       "                                          Google Link  \n",
       "31  https://www.google.com/maps/place/Anthony's+Co...  \n",
       "32  https://www.google.com/maps/place/Anthony's+Co...  \n",
       "45  https://www.google.com/maps/place/Anthony's+Co...  "
      ],
      "text/html": "<div>\n<style scoped>\n    .dataframe tbody tr th:only-of-type {\n        vertical-align: middle;\n    }\n\n    .dataframe tbody tr th {\n        vertical-align: top;\n    }\n\n    .dataframe thead th {\n        text-align: right;\n    }\n</style>\n<table border=\"1\" class=\"dataframe\">\n  <thead>\n    <tr style=\"text-align: right;\">\n      <th></th>\n      <th>Store Company ID</th>\n      <th>Industry ID</th>\n      <th>Industry Name</th>\n      <th>Company Name</th>\n      <th>Address 1</th>\n      <th>City</th>\n      <th>State</th>\n      <th>Zip</th>\n      <th>Listing Type</th>\n      <th>Country</th>\n      <th>Phone</th>\n      <th>Google Link</th>\n    </tr>\n  </thead>\n  <tbody>\n    <tr>\n      <td>31</td>\n      <td>2000626181</td>\n      <td>51</td>\n      <td>Locations: Chain Restaurants</td>\n      <td>Anthony's Coal Fired Pizza</td>\n      <td>852 State Rt 3</td>\n      <td>CLIFTON</td>\n      <td>NJ</td>\n      <td>07012-2343</td>\n      <td>Location</td>\n      <td>United States of America</td>\n      <td>9.734713e+09</td>\n      <td>https://www.google.com/maps/place/Anthony's+Co...</td>\n    </tr>\n    <tr>\n      <td>32</td>\n      <td>2000626182</td>\n      <td>51</td>\n      <td>Locations: Chain Restaurants</td>\n      <td>Anthony's Coal Fired Pizza</td>\n      <td>851 S Federal Hwy</td>\n      <td>BOCA RATON</td>\n      <td>FL</td>\n      <td>33432-6165</td>\n      <td>Location</td>\n      <td>United States of America</td>\n      <td>5.613383e+09</td>\n      <td>https://www.google.com/maps/place/Anthony's+Co...</td>\n    </tr>\n    <tr>\n      <td>45</td>\n      <td>2000626180</td>\n      <td>51</td>\n      <td>Locations: Chain Restaurants</td>\n      <td>Anthony's Coal Fired Pizza</td>\n      <td>9521 Westview Dr</td>\n      <td>CORAL SPRINGS</td>\n      <td>FL</td>\n      <td>33076-2512</td>\n      <td>Location</td>\n      <td>United States of America</td>\n      <td>9.543403e+09</td>\n      <td>https://www.google.com/maps/place/Anthony's+Co...</td>\n    </tr>\n  </tbody>\n</table>\n</div>"
     },
     "metadata": {},
     "execution_count": 8
    }
   ],
   "source": [
    "test_subset"
   ]
  },
  {
   "cell_type": "code",
   "execution_count": 11,
   "metadata": {},
   "outputs": [],
   "source": [
    "join_test = pd.merge(test_subset, test_scraped, on=[\"Store Company ID\"])\n",
    "join_test.to_csv(\"join_test.csv\", index=False)"
   ]
  },
  {
   "cell_type": "code",
   "execution_count": 18,
   "metadata": {},
   "outputs": [],
   "source": [
    "join_test = pd.read_csv(\"join_test.csv\")"
   ]
  },
  {
   "cell_type": "code",
   "execution_count": 29,
   "metadata": {},
   "outputs": [
    {
     "output_type": "execute_result",
     "data": {
      "text/plain": [
       "0    613\n",
       "1    348\n",
       "2    723\n",
       "Name: Number of Ratings (2020), dtype: int64"
      ]
     },
     "metadata": {},
     "execution_count": 29
    }
   ],
   "source": [
    "total_review_count = 0\n",
    "review_cols = ['Number of Ratings (2020)',\n",
    " 'Number of Ratings (2019)',\n",
    " 'Number of Ratings (2018)',\n",
    " 'Number of Ratings (2017)',\n",
    " 'Number of Ratings (2016)',\n",
    " 'Number of Ratings (2015)',\n",
    " 'Number of Ratings (2014)',\n",
    " 'Number of Ratings (2013)',\n",
    " 'Number of Ratings (2012)']\n",
    "total_review_count = join_test[review_cols[0]].copy()\n",
    "if (len(review_cols) > 1):\n",
    "    for i in range(len(review_cols[1:])):\n",
    "        total_review_count += join_test[review_cols[i]]\n",
    "total_review_count"
   ]
  },
  {
   "cell_type": "code",
   "execution_count": 32,
   "metadata": {},
   "outputs": [
    {
     "output_type": "execute_result",
     "data": {
      "text/plain": [
       "0    545\n",
       "1    303\n",
       "2    613\n",
       "dtype: int64"
      ]
     },
     "metadata": {},
     "execution_count": 32
    }
   ],
   "source": [
    "join_test[list(join_test.columns[range(32, 41)])].sum(axis=1)"
   ]
  },
  {
   "cell_type": "code",
   "execution_count": 30,
   "metadata": {},
   "outputs": [],
   "source": [
    "review_cols = join_test.columns[range(32, 41)]"
   ]
  },
  {
   "cell_type": "code",
   "execution_count": 21,
   "metadata": {},
   "outputs": [
    {
     "output_type": "execute_result",
     "data": {
      "text/plain": [
       "['Number of Ratings (2020)',\n",
       " 'Number of Ratings (2019)',\n",
       " 'Number of Ratings (2018)',\n",
       " 'Number of Ratings (2017)',\n",
       " 'Number of Ratings (2016)',\n",
       " 'Number of Ratings (2015)',\n",
       " 'Number of Ratings (2014)',\n",
       " 'Number of Ratings (2013)',\n",
       " 'Number of Ratings (2012)']"
      ]
     },
     "metadata": {},
     "execution_count": 21
    }
   ],
   "source": [
    "list(review_cols)"
   ]
  },
  {
   "cell_type": "code",
   "execution_count": 1,
   "metadata": {},
   "outputs": [],
   "source": [
    "from evaluate import evaluate_all"
   ]
  },
  {
   "cell_type": "code",
   "execution_count": 2,
   "metadata": {},
   "outputs": [
    {
     "output_type": "stream",
     "name": "stdout",
     "text": [
      "Saved file as C:\\Users\\Spencer\\Desktop\\clean\\data\\evaluations\\anthonys_9_29_2020_evaluation.csv\n",
      "Saved file as C:\\Users\\Spencer\\Desktop\\clean\\data\\evaluations\\anthonys_9_30_2020_evaluation.csv\n",
      "Saved file as C:\\Users\\Spencer\\Desktop\\clean\\data\\evaluations\\bananas_11_3_20_evaluation.csv\n",
      "Saved file as C:\\Users\\Spencer\\Desktop\\clean\\data\\evaluations\\blaze_11_6_20_evaluation.csv\n",
      "Saved file as C:\\Users\\Spencer\\Desktop\\clean\\data\\evaluations\\brick_oven_11_3_20_evaluation.csv\n",
      "Saved file as C:\\Users\\Spencer\\Desktop\\clean\\data\\evaluations\\brixx_11_2_20_evaluation.csv\n",
      "Saved file as C:\\Users\\Spencer\\Desktop\\clean\\data\\evaluations\\california_pizza_kitchen_10_13_2020_evaluation.csv\n",
      "Saved file as C:\\Users\\Spencer\\Desktop\\clean\\data\\evaluations\\chanellos_11_2_20_evaluation.csv\n",
      "Saved file as C:\\Users\\Spencer\\Desktop\\clean\\data\\evaluations\\cheezies_11_2_20_evaluation.csv\n",
      "Saved file as C:\\Users\\Spencer\\Desktop\\clean\\data\\evaluations\\chuck_e_cheese_10_10_2020_evaluation.csv\n",
      "Saved file as C:\\Users\\Spencer\\Desktop\\clean\\data\\evaluations\\chuck_e_cheese_10_10_2020_2_evaluation.csv\n",
      "Saved file as C:\\Users\\Spencer\\Desktop\\clean\\data\\evaluations\\chuck_e_cheese_10_8_2020_evaluation.csv\n",
      "Saved file as C:\\Users\\Spencer\\Desktop\\clean\\data\\evaluations\\chuck_e_cheese_10_9_2020_evaluation.csv\n",
      "Saved file as C:\\Users\\Spencer\\Desktop\\clean\\data\\evaluations\\cicis_pizza_10_27_2020_evaluation.csv\n",
      "Saved file as C:\\Users\\Spencer\\Desktop\\clean\\data\\evaluations\\cicis_to_go_11_2_20_evaluation.csv\n",
      "Saved file as C:\\Users\\Spencer\\Desktop\\clean\\data\\evaluations\\cottage_inn_pizza_11_1_20_evaluation.csv\n",
      "Saved file as C:\\Users\\Spencer\\Desktop\\clean\\data\\evaluations\\cpk_asap_11_3_20_evaluation.csv\n",
      "Saved file as C:\\Users\\Spencer\\Desktop\\clean\\data\\evaluations\\dangelo_10_30_2020_evaluation.csv\n",
      "Saved file as C:\\Users\\Spencer\\Desktop\\clean\\data\\evaluations\\deweys_11_2_20_evaluation.csv\n",
      "Saved file as C:\\Users\\Spencer\\Desktop\\clean\\data\\evaluations\\donatos_10_3_2020_evaluation.csv\n",
      "Saved file as C:\\Users\\Spencer\\Desktop\\clean\\data\\evaluations\\donatos_9_30_2020_evaluation.csv\n",
      "Saved file as C:\\Users\\Spencer\\Desktop\\clean\\data\\evaluations\\extreme_pizza_11_1_20_evaluation.csv\n",
      "Saved file as C:\\Users\\Spencer\\Desktop\\clean\\data\\evaluations\\figaros_pizza_11_2_20_evaluation.csv\n",
      "Saved file as C:\\Users\\Spencer\\Desktop\\clean\\data\\evaluations\\foxs_10_28_20_evaluation.csv\n",
      "Saved file as C:\\Users\\Spencer\\Desktop\\clean\\data\\evaluations\\gattiland_11_3_20_evaluation.csv\n",
      "Saved file as C:\\Users\\Spencer\\Desktop\\clean\\data\\evaluations\\gattis_10_31_20_evaluation.csv\n",
      "Saved file as C:\\Users\\Spencer\\Desktop\\clean\\data\\evaluations\\gattis_pizza_buffet_11_3_20_evaluation.csv\n",
      "Saved file as C:\\Users\\Spencer\\Desktop\\clean\\data\\evaluations\\gattitown_11_3_20_evaluation.csv\n",
      "Saved file as C:\\Users\\Spencer\\Desktop\\clean\\data\\evaluations\\giordanos_10_30_20_evaluation.csv\n",
      "Saved file as C:\\Users\\Spencer\\Desktop\\clean\\data\\evaluations\\godfathers_10_25_2020_evaluation.csv\n",
      "Saved file as C:\\Users\\Spencer\\Desktop\\clean\\data\\evaluations\\green_leafs_11_2_20_evaluation.csv\n",
      "Saved file as C:\\Users\\Spencer\\Desktop\\clean\\data\\evaluations\\guilles_11_3_20_evaluation.csv\n",
      "Saved file as C:\\Users\\Spencer\\Desktop\\clean\\data\\evaluations\\hungry_howies_pizza_11_3_20_evaluation.csv\n",
      "Saved file as C:\\Users\\Spencer\\Desktop\\clean\\data\\evaluations\\jets_10_28_20_evaluation.csv\n",
      "Saved file as C:\\Users\\Spencer\\Desktop\\clean\\data\\evaluations\\johnnies_new_york_pizzeria_11_3_20_evaluation.csv\n",
      "Saved file as C:\\Users\\Spencer\\Desktop\\clean\\data\\evaluations\\johnnys_new_york_style_pizzeria_11_1_20_evaluation.csv\n",
      "Saved file as C:\\Users\\Spencer\\Desktop\\clean\\data\\evaluations\\johnny_bruscos_new_york_style_pizza_11_2_20_evaluation.csv\n",
      "Saved file as C:\\Users\\Spencer\\Desktop\\clean\\data\\evaluations\\larosas_10_31_20_evaluation.csv\n",
      "Saved file as C:\\Users\\Spencer\\Desktop\\clean\\data\\evaluations\\leto_10_29_20_evaluation.csv\n",
      "Saved file as C:\\Users\\Spencer\\Desktop\\clean\\data\\evaluations\\loumalnatis_11_3_20_evaluation.csv\n",
      "Saved file as C:\\Users\\Spencer\\Desktop\\clean\\data\\evaluations\\lou_malnatis_pizzeria_11_1_20_part1_evaluation.csv\n",
      "Saved file as C:\\Users\\Spencer\\Desktop\\clean\\data\\evaluations\\lou_malnatis_pizzeria_11_1_20_part2_evaluation.csv\n",
      "Saved file as C:\\Users\\Spencer\\Desktop\\clean\\data\\evaluations\\marcos_pizza_10_23_2020_evaluation.csv\n",
      "Saved file as C:\\Users\\Spencer\\Desktop\\clean\\data\\evaluations\\mellow_mushroom_11_07_20_evaluation.csv\n",
      "Saved file as C:\\Users\\Spencer\\Desktop\\clean\\data\\evaluations\\mod_pizza_10_24_2020_evaluation.csv\n",
      "Saved file as C:\\Users\\Spencer\\Desktop\\clean\\data\\evaluations\\monicals_10_31_20_evaluation.csv\n",
      "Saved file as C:\\Users\\Spencer\\Desktop\\clean\\data\\evaluations\\mountain_mikes_10_28_20_evaluation.csv\n",
      "Saved file as C:\\Users\\Spencer\\Desktop\\clean\\data\\evaluations\\nick_n_willys_11_3_20_evaluation.csv\n",
      "Saved file as C:\\Users\\Spencer\\Desktop\\clean\\data\\evaluations\\old_chicago_10_30_20_evaluation.csv\n",
      "Saved file as C:\\Users\\Spencer\\Desktop\\clean\\data\\evaluations\\original_italian_pie_11_3_20_evaluation.csv\n",
      "Saved file as C:\\Users\\Spencer\\Desktop\\clean\\data\\evaluations\\paisanos_11_2_20_evaluation.csv\n",
      "Saved file as C:\\Users\\Spencer\\Desktop\\clean\\data\\evaluations\\paisanos_pizza_11_3_20_evaluation.csv\n",
      "Saved file as C:\\Users\\Spencer\\Desktop\\clean\\data\\evaluations\\papa_ginos_10_30_20_evaluation.csv\n",
      "Saved file as C:\\Users\\Spencer\\Desktop\\clean\\data\\evaluations\\papa_johns_10_21_2020_evaluation.csv\n",
      "Saved file as C:\\Users\\Spencer\\Desktop\\clean\\data\\evaluations\\papa_johns_10_22_2020_evaluation.csv\n",
      "Saved file as C:\\Users\\Spencer\\Desktop\\clean\\data\\evaluations\\papa_murphys_10_14_2020_evaluation.csv\n",
      "Saved file as C:\\Users\\Spencer\\Desktop\\clean\\data\\evaluations\\peter_piper_pizza_10_29_20_evaluation.csv\n",
      "Saved file as C:\\Users\\Spencer\\Desktop\\clean\\data\\evaluations\\pieology_10_20_2020_evaluation.csv\n",
      "Saved file as C:\\Users\\Spencer\\Desktop\\clean\\data\\evaluations\\pie_five_10_31_20_evaluation.csv\n",
      "Saved file as C:\\Users\\Spencer\\Desktop\\clean\\data\\evaluations\\pizzarev_11_2_20_evaluation.csv\n",
      "Saved file as C:\\Users\\Spencer\\Desktop\\clean\\data\\evaluations\\pizza_boli_10_30_20_evaluation.csv\n",
      "Saved file as C:\\Users\\Spencer\\Desktop\\clean\\data\\evaluations\\pizza_factory_10_29_20_evaluation.csv\n",
      "Saved file as C:\\Users\\Spencer\\Desktop\\clean\\data\\evaluations\\pizza_guys_10_31_20_evaluation.csv\n",
      "Saved file as C:\\Users\\Spencer\\Desktop\\clean\\data\\evaluations\\pizza_hut_10_1_2020_evaluation.csv\n",
      "Saved file as C:\\Users\\Spencer\\Desktop\\clean\\data\\evaluations\\pizza_hut_10_1_2020_2_evaluation.csv\n",
      "Saved file as C:\\Users\\Spencer\\Desktop\\clean\\data\\evaluations\\pizza_hut_10_2_2020_evaluation.csv\n",
      "Saved file as C:\\Users\\Spencer\\Desktop\\clean\\data\\evaluations\\pizza_hut_10_5_2020_evaluation.csv\n",
      "Saved file as C:\\Users\\Spencer\\Desktop\\clean\\data\\evaluations\\pizza_hut_10_5_2020_2_evaluation.csv\n",
      "Saved file as C:\\Users\\Spencer\\Desktop\\clean\\data\\evaluations\\pizza_hut_10_6_2020_evaluation.csv\n",
      "Saved file as C:\\Users\\Spencer\\Desktop\\clean\\data\\evaluations\\pizza_hut_10_6_2020_2_evaluation.csv\n",
      "Saved file as C:\\Users\\Spencer\\Desktop\\clean\\data\\evaluations\\pizza_hut_9_30_2020_evaluation.csv\n",
      "Saved file as C:\\Users\\Spencer\\Desktop\\clean\\data\\evaluations\\pizza_hut_pre_9_30_2020_WITHSTARS_evaluation.csv\n",
      "Saved file as C:\\Users\\Spencer\\Desktop\\clean\\data\\evaluations\\pizza_inn_10_29_20_evaluation.csv\n",
      "Saved file as C:\\Users\\Spencer\\Desktop\\clean\\data\\evaluations\\pizza_inn_express_11_2_20_evaluation.csv\n",
      "Saved file as C:\\Users\\Spencer\\Desktop\\clean\\data\\evaluations\\pizza_italia_11_3_20_evaluation.csv\n",
      "Saved file as C:\\Users\\Spencer\\Desktop\\clean\\data\\evaluations\\pizza_plus_10_31_20_evaluation.csv\n",
      "Saved file as C:\\Users\\Spencer\\Desktop\\clean\\data\\evaluations\\pizza_pro_10_30_20_evaluation.csv\n",
      "Saved file as C:\\Users\\Spencer\\Desktop\\clean\\data\\evaluations\\pizza_ranch_10_12_2020_evaluation.csv\n",
      "Saved file as C:\\Users\\Spencer\\Desktop\\clean\\data\\evaluations\\pizza_schmizza_11_3_20_evaluation.csv\n",
      "Saved file as C:\\Users\\Spencer\\Desktop\\clean\\data\\evaluations\\pizzeria_locale_11_3_20_evaluation.csv\n",
      "Saved file as C:\\Users\\Spencer\\Desktop\\clean\\data\\evaluations\\rosatis_10_28_20_evaluation.csv\n",
      "Saved file as C:\\Users\\Spencer\\Desktop\\clean\\data\\evaluations\\round_table_10_20_2020_evaluation.csv\n",
      "Saved file as C:\\Users\\Spencer\\Desktop\\clean\\data\\evaluations\\sbarro_10_18_2020_evaluation.csv\n",
      "Saved file as C:\\Users\\Spencer\\Desktop\\clean\\data\\evaluations\\schmizza_public_house_11_3_20_evaluation.csv\n",
      "Saved file as C:\\Users\\Spencer\\Desktop\\clean\\data\\evaluations\\shakeys_11_1_20_evaluation.csv\n",
      "Saved file as C:\\Users\\Spencer\\Desktop\\clean\\data\\evaluations\\simple_simons_10_29_20_evaluation.csv\n",
      "Saved file as C:\\Users\\Spencer\\Desktop\\clean\\data\\evaluations\\snappy_11_1_20_evaluation.csv\n",
      "Saved file as C:\\Users\\Spencer\\Desktop\\clean\\data\\evaluations\\steelworks_buffett_&_grill_11_3_20_evaluation.csv\n",
      "Saved file as C:\\Users\\Spencer\\Desktop\\clean\\data\\evaluations\\straw_hat_grill_11_3_20_evaluation.csv\n",
      "Saved file as C:\\Users\\Spencer\\Desktop\\clean\\data\\evaluations\\straw_hat_pizza_11_2_20_evaluation.csv\n",
      "Saved file as C:\\Users\\Spencer\\Desktop\\clean\\data\\evaluations\\sukotto_11_3_20_evaluation.csv\n",
      "Saved file as C:\\Users\\Spencer\\Desktop\\clean\\data\\evaluations\\the_market_by_villa_11_3_20_evaluation.csv\n",
      "Saved file as C:\\Users\\Spencer\\Desktop\\clean\\data\\evaluations\\the_office_beer_bar_&_grill_11_3_20_evaluation.csv\n",
      "Saved file as C:\\Users\\Spencer\\Desktop\\clean\\data\\evaluations\\toppers_10_31_20_evaluation.csv\n",
      "Saved file as C:\\Users\\Spencer\\Desktop\\clean\\data\\evaluations\\villa_fresh_10_19_2020_evaluation.csv\n",
      "Saved file as C:\\Users\\Spencer\\Desktop\\clean\\data\\evaluations\\villa_pizza_10_19_2020_evaluation.csv\n",
      "Saved file as C:\\Users\\Spencer\\Desktop\\clean\\data\\evaluations\\vocelli_10_29_20_evaluation.csv\n",
      "Saved file as C:\\Users\\Spencer\\Desktop\\clean\\data\\evaluations\\zpizza_11_1_20_evaluation.csv\n"
     ]
    }
   ],
   "source": [
    "data_path = \"C:\\\\Users\\\\Spencer\\\\Desktop\\\\clean\\\\data\\\\data.csv\"\n",
    "scraped_directory_path = \"C:\\\\Users\\\\Spencer\\\\Desktop\\\\clean\\\\data\\\\processed\"\n",
    "output_directory_path = \"C:\\\\Users\\\\Spencer\\\\Desktop\\\\clean\\\\data\\\\evaluations\"\n",
    "counts_output_path = \"C:\\\\Users\\\\Spencer\\\\Desktop\\\\clean\\\\data\\\\review_counts.csv\"\n",
    "id_col = \"Store Company ID\"\n",
    "data_count_cols = ['Number of Ratings (2020)',\n",
    " 'Number of Ratings (2019)',\n",
    " 'Number of Ratings (2018)',\n",
    " 'Number of Ratings (2017)',\n",
    " 'Number of Ratings (2016)',\n",
    " 'Number of Ratings (2015)',\n",
    " 'Number of Ratings (2014)',\n",
    " 'Number of Ratings (2013)',\n",
    " 'Number of Ratings (2012)']\n",
    " \n",
    "search_terms = [\"Company Name\", \"Address 1\", \"City\", \"State\", \"Zip\"]\n",
    "new_url_col = \"urls\"\n",
    "\n",
    "\n",
    "evaluate_all(data_path=data_path, scraped_directory_path=scraped_directory_path, output_directory_path=output_directory_path, counts_output_path=counts_output_path, id_col=id_col, data_count_cols=data_count_cols, search_terms=search_terms, new_url_col=new_url_col)"
   ]
  },
  {
   "cell_type": "code",
   "execution_count": 1,
   "metadata": {},
   "outputs": [],
   "source": [
    "import pandas as pd \n",
    "mrc = pd.read_csv(\"C:\\\\Users\\\\Spencer\\\\Desktop\\\\clean\\\\data\\\\master_review_counts.csv\")"
   ]
  },
  {
   "cell_type": "code",
   "execution_count": 4,
   "metadata": {},
   "outputs": [],
   "source": [
    "ph = mrc[mrc[\"company_name\"]==\"pizza_hut\"]"
   ]
  },
  {
   "cell_type": "code",
   "execution_count": 14,
   "metadata": {},
   "outputs": [],
   "source": [
    "oldph = pd.read_csv(\"C:\\\\Users\\\\Spencer\\\\Desktop\\\\clean\\\\data\\\\processed\\\\pizza_hut_pre_9_30_2020_WITHSTARS.csv\")"
   ]
  },
  {
   "cell_type": "code",
   "execution_count": 17,
   "metadata": {},
   "outputs": [],
   "source": [
    "oldph_full = ph[ph[\"Store Company ID\"].isin(oldph[\"Store Company ID\"])]"
   ]
  },
  {
   "cell_type": "code",
   "execution_count": 33,
   "metadata": {},
   "outputs": [],
   "source": [
    "ph_rescrape = ph[(ph[\"proportion\"] < 0.9) & (ph[\"reviews_scraped\"].apply(lambda x: (x % 10) == 0))]"
   ]
  },
  {
   "cell_type": "code",
   "execution_count": 36,
   "metadata": {},
   "outputs": [],
   "source": [
    "ph_rescrape.to_csv(\"pizza_hut_rescrape.csv\", index=False)"
   ]
  },
  {
   "cell_type": "code",
   "execution_count": 53,
   "metadata": {},
   "outputs": [],
   "source": [
    "low_counts_to_rescrape = mrc[(mrc[\"proportion\"] < 0.9) & (mrc[\"reviews_scraped\"].apply(lambda x: (x % 10) == 0)) & (~mrc[\"review_count\"].isnull()) & (~mrc[\"company_name\"].isin([\"dominos\", \"little_caesars_pizza\", \"pizza_hut\", \"little_caesars\"]))]"
   ]
  },
  {
   "cell_type": "code",
   "execution_count": 54,
   "metadata": {},
   "outputs": [],
   "source": [
    "low_counts_to_rescrape.to_csv(\"low_counts_to_rescrape.csv\", index=False)"
   ]
  },
  {
   "cell_type": "code",
   "execution_count": 55,
   "metadata": {},
   "outputs": [],
   "source": [
    "sm = mrc[(~mrc[\"review_count\"].isnull()) & (~mrc[\"company_name\"].isin([\"dominos\", \"little_caesars_pizza\", \"pizza_hut\", \"little_caesars\"]))].sample(50)"
   ]
  },
  {
   "cell_type": "code",
   "execution_count": 56,
   "metadata": {},
   "outputs": [
    {
     "output_type": "execute_result",
     "data": {
      "text/plain": [
       "       Store Company ID  Industry ID                 Industry Name  \\\n",
       "28822        2000776567           51  Locations: Chain Restaurants   \n",
       "515          2000041118           51  Locations: Chain Restaurants   \n",
       "\n",
       "                   Company Name             Address 1       City State  \\\n",
       "28822                Pizza Plus  State Route 80 South    HONAKER    VA   \n",
       "515    California Pizza Kitchen   1190 Roseville Pkwy  ROSEVILLE    CA   \n",
       "\n",
       "              Zip Listing Type                   Country         Phone  \\\n",
       "28822       24260     Location  United States of America  2.768735e+09   \n",
       "515    95678-6653     Location  United States of America  9.167815e+09   \n",
       "\n",
       "                                             Google Link  reviews_scraped  \\\n",
       "28822  https://www.google.com/maps/place/Pizza+Plus+I...                0   \n",
       "515    https://www.google.com/maps/place/California+P...               50   \n",
       "\n",
       "       difference  proportion  review_count              company_name  \n",
       "28822      -135.0    0.000000         135.0                pizza_plus  \n",
       "515        -404.0    0.110132         454.0  california_pizza_kitchen  "
      ],
      "text/html": "<div>\n<style scoped>\n    .dataframe tbody tr th:only-of-type {\n        vertical-align: middle;\n    }\n\n    .dataframe tbody tr th {\n        vertical-align: top;\n    }\n\n    .dataframe thead th {\n        text-align: right;\n    }\n</style>\n<table border=\"1\" class=\"dataframe\">\n  <thead>\n    <tr style=\"text-align: right;\">\n      <th></th>\n      <th>Store Company ID</th>\n      <th>Industry ID</th>\n      <th>Industry Name</th>\n      <th>Company Name</th>\n      <th>Address 1</th>\n      <th>City</th>\n      <th>State</th>\n      <th>Zip</th>\n      <th>Listing Type</th>\n      <th>Country</th>\n      <th>Phone</th>\n      <th>Google Link</th>\n      <th>reviews_scraped</th>\n      <th>difference</th>\n      <th>proportion</th>\n      <th>review_count</th>\n      <th>company_name</th>\n    </tr>\n  </thead>\n  <tbody>\n    <tr>\n      <td>28822</td>\n      <td>2000776567</td>\n      <td>51</td>\n      <td>Locations: Chain Restaurants</td>\n      <td>Pizza Plus</td>\n      <td>State Route 80 South</td>\n      <td>HONAKER</td>\n      <td>VA</td>\n      <td>24260</td>\n      <td>Location</td>\n      <td>United States of America</td>\n      <td>2.768735e+09</td>\n      <td>https://www.google.com/maps/place/Pizza+Plus+I...</td>\n      <td>0</td>\n      <td>-135.0</td>\n      <td>0.000000</td>\n      <td>135.0</td>\n      <td>pizza_plus</td>\n    </tr>\n    <tr>\n      <td>515</td>\n      <td>2000041118</td>\n      <td>51</td>\n      <td>Locations: Chain Restaurants</td>\n      <td>California Pizza Kitchen</td>\n      <td>1190 Roseville Pkwy</td>\n      <td>ROSEVILLE</td>\n      <td>CA</td>\n      <td>95678-6653</td>\n      <td>Location</td>\n      <td>United States of America</td>\n      <td>9.167815e+09</td>\n      <td>https://www.google.com/maps/place/California+P...</td>\n      <td>50</td>\n      <td>-404.0</td>\n      <td>0.110132</td>\n      <td>454.0</td>\n      <td>california_pizza_kitchen</td>\n    </tr>\n  </tbody>\n</table>\n</div>"
     },
     "metadata": {},
     "execution_count": 56
    }
   ],
   "source": [
    "sm[(mrc[\"proportion\"] < 0.9)]"
   ]
  },
  {
   "cell_type": "code",
   "execution_count": 1,
   "metadata": {},
   "outputs": [],
   "source": [
    "import pandas as pd"
   ]
  },
  {
   "cell_type": "code",
   "execution_count": 2,
   "metadata": {},
   "outputs": [],
   "source": [
    "all_low_counts = pd.read_csv(\"/home/spencer/Documents/Projects/clean/low_counts_to_rescrape.csv\")"
   ]
  },
  {
   "cell_type": "code",
   "execution_count": 3,
   "metadata": {},
   "outputs": [],
   "source": [
    "unscrapable = all_low_counts[(all_low_counts[\"review_count\"]>3000)]\n",
    "scrapable = all_low_counts[(all_low_counts[\"review_count\"]<=3000)]"
   ]
  },
  {
   "cell_type": "code",
   "execution_count": 6,
   "metadata": {},
   "outputs": [],
   "source": [
    "scrapable.to_csv(\"low_rev_scrapable.csv\", index=False)\n",
    "unscrapable.to_csv(\"low_rev_unscrapable.csv\", index=False)"
   ]
  },
  {
   "cell_type": "code",
   "execution_count": 1,
   "metadata": {},
   "outputs": [],
   "source": [
    "from utilities import get_files"
   ]
  },
  {
   "cell_type": "code",
   "execution_count": 2,
   "metadata": {},
   "outputs": [],
   "source": [
    "dir1 = \"C:\\\\Users\\\\Spencer\\\\Desktop\\\\clean\\\\data\\\\rescrape\\\\rescrapes_with_addresses\\\\others_12_07_2020\""
   ]
  },
  {
   "cell_type": "code",
   "execution_count": 4,
   "metadata": {},
   "outputs": [],
   "source": [
    "files1 = get_files(dir1, \"csv\")"
   ]
  },
  {
   "cell_type": "code",
   "execution_count": 3,
   "metadata": {},
   "outputs": [],
   "source": [
    "import os\n",
    "import pandas as pd"
   ]
  },
  {
   "cell_type": "code",
   "execution_count": 7,
   "metadata": {},
   "outputs": [],
   "source": [
    "master = pd.read_csv(\"C:\\\\Users\\\\Spencer\\\\Desktop\\\\clean\\\\data\\\\master_review_counts.csv\")"
   ]
  },
  {
   "cell_type": "code",
   "execution_count": 17,
   "metadata": {},
   "outputs": [
    {
     "output_type": "stream",
     "name": "stdout",
     "text": [
      "2000626208\n",
      "2000747544\n",
      "2000626635\n",
      "2000626735\n",
      "2000626780\n",
      "2000626781\n",
      "2000749217\n",
      "2000749218\n",
      "2000749243\n",
      "2000749254\n",
      "2000749210\n",
      "2000749219\n",
      "2000749238\n",
      "2000626592\n",
      "2000626608\n",
      "2000626657\n",
      "2000626704\n",
      "2000626705\n",
      "2000626683\n",
      "2000626725\n",
      "2000626751\n",
      "2000626763\n",
      "2000626778\n",
      "2000749215\n",
      "2000749227\n",
      "2000758962\n",
      "2000634200\n",
      "2000041104\n",
      "2000041141\n",
      "2000041160\n",
      "2000041219\n",
      "2000041228\n",
      "2000041243\n",
      "2000041279\n",
      "2000041294\n",
      "2000041460\n",
      "2000128191\n",
      "2000390914\n",
      "2000390915\n",
      "2000041125\n",
      "2000041118\n",
      "2000041205\n",
      "2000041265\n",
      "2000041280\n",
      "2000041296\n",
      "2000041180\n",
      "2000041301\n",
      "2000041372\n",
      "2000041379\n",
      "2000610314\n",
      "2000610311\n",
      "2000086845\n",
      "2000503101\n",
      "2000634233\n",
      "1000822857\n",
      "1000830098\n",
      "1000836691\n",
      "1000847061\n",
      "1000850960\n",
      "1000855442\n",
      "1000824861\n",
      "1000855716\n",
      "1000831362\n",
      "1000832356\n",
      "1000871682\n",
      "1000869668\n",
      "1000837746\n",
      "1000873724\n",
      "1000875268\n",
      "1000875995\n",
      "1000849669\n",
      "1000855957\n",
      "1000859646\n",
      "1000866150\n",
      "1000880698\n",
      "1000968819\n",
      "2000254320\n",
      "2000254323\n",
      "1000833840\n",
      "2000225394\n",
      "2000634368\n",
      "2000046306\n",
      "2000046327\n",
      "2000051800\n",
      "2000051758\n",
      "2000051822\n",
      "1000869757\n",
      "2000611027\n",
      "2000049321\n",
      "2000784878\n",
      "2000634972\n",
      "2000788778\n",
      "2000628733\n",
      "2000628711\n",
      "2000628729\n",
      "2000755929\n",
      "2000629385\n",
      "1000932654\n",
      "1000929255\n",
      "1000939923\n",
      "1000950080\n",
      "2000182959\n",
      "2000575045\n",
      "1000890164\n",
      "2000053025\n",
      "2000053069\n",
      "2000251509\n",
      "2000310483\n",
      "2000591730\n",
      "2000134791\n",
      "2000047777\n",
      "2000635622\n",
      "2000743352\n",
      "1000940525\n",
      "1000966657\n",
      "2000787621\n",
      "2000051026\n",
      "2000635705\n",
      "2000635792\n",
      "2000057291\n",
      "2000751815\n",
      "2000614625\n",
      "1000969266\n",
      "2000198833\n",
      "2000634159\n",
      "2000634168\n",
      "2000634172\n",
      "2000634156\n",
      "2000634157\n",
      "2000634163\n",
      "2000634167\n",
      "2000634174\n",
      "2000634175\n",
      "2000634176\n",
      "2000634177\n",
      "2000634181\n",
      "2000634183\n",
      "2000634184\n",
      "2000634186\n",
      "2000634188\n",
      "2000634189\n",
      "2000634193\n",
      "2000634179\n",
      "2000634190\n",
      "2000634194\n",
      "2000634195\n",
      "2000634196\n",
      "2000634158\n",
      "2000634160\n",
      "2000634162\n",
      "2000634164\n",
      "2000634166\n",
      "2000634171\n",
      "2000634178\n",
      "2000634161\n",
      "2000634165\n",
      "2000634170\n",
      "2000634173\n",
      "2000634185\n",
      "2000634187\n",
      "2000634191\n",
      "2000634197\n",
      "2000790991\n",
      "2000626610\n",
      "2000776260\n",
      "2000776266\n",
      "2000776268\n",
      "2000776269\n",
      "2000787539\n",
      "2000776271\n",
      "2000776272\n",
      "2000783630\n"
     ]
    }
   ],
   "source": [
    "for file in files1:\n",
    "    filename = file.split(\"\\\\\")[-1]\n",
    "    filepath = \"\\\\\".join(file.split(\"\\\\\")[:-1])\n",
    "    df = pd.read_csv(file)\n",
    "    company_id = int(df[\"key\"][0])\n",
    "    print(company_id)\n",
    "\n",
    "    company_name = list(master[master[\"Store Company ID\"]==company_id][\"company_name\"])[0]\n",
    "    company_name_dir = filepath + \"\\\\\" + company_name\n",
    "    if not os.path.isdir(company_name_dir):\n",
    "        os.mkdir(company_name_dir)\n",
    "    new_filepath = company_name_dir + \"\\\\\" + filename\n",
    "    df.to_csv(new_filepath, index=False)"
   ]
  },
  {
   "cell_type": "code",
   "execution_count": 18,
   "metadata": {},
   "outputs": [],
   "source": [
    "dir2 = \"C:\\\\Users\\\\Spencer\\\\Desktop\\\\clean\\\\data\\\\rescrape\\\\rescrapes_with_addresses\\\\searchables\"\n",
    "files2 = get_files(dir2, \"csv\")\n",
    "for file in files2:\n",
    "    filename = file.split(\"\\\\\")[-1]\n",
    "    filepath = \"\\\\\".join(file.split(\"\\\\\")[:-1])\n",
    "    df = pd.read_csv(file)\n",
    "    company_id = int(df[\"key\"][0])\n",
    "    company_name = list(master[master[\"Store Company ID\"]==company_id][\"company_name\"])[0]\n",
    "    company_name_dir = filepath + \"\\\\\" + company_name\n",
    "    if not os.path.isdir(company_name_dir):\n",
    "        os.mkdir(company_name_dir)\n",
    "    new_filepath = company_name_dir + \"\\\\\" + filename\n",
    "    df.to_csv(new_filepath, index=False)"
   ]
  },
  {
   "cell_type": "code",
   "execution_count": 1,
   "metadata": {},
   "outputs": [],
   "source": [
    "import os"
   ]
  },
  {
   "cell_type": "code",
   "execution_count": 5,
   "metadata": {},
   "outputs": [],
   "source": [
    "folders1 = [f.path for f in os.scandir(\"C:\\\\Users\\\\Spencer\\\\Desktop\\\\clean\\\\data\\\\rescrape\\\\rescrapes_with_addresses\\\\others_12_07_2020\") if f.is_dir()]"
   ]
  },
  {
   "cell_type": "code",
   "execution_count": 7,
   "metadata": {},
   "outputs": [],
   "source": [
    "testpath = \"C:\\\\Users\\\\Spencer\\\\Desktop\\\\clean\\\\data\\\\rescrape\\\\rescrapes_with_addresses\\\\others_12_07_2020\\\\anthonys_coal_fired_pizza\"\n",
    "outpath = \"C:\\\\Users\\\\Spencer\\\\Desktop\\\\clean\\\\data\\\\rescrape\\\\rescrapes_with_addresses\\\\others_12_07_2020\\\\anthonys_coal_fired_pizza_12_08_2020\""
   ]
  },
  {
   "cell_type": "code",
   "execution_count": 8,
   "metadata": {},
   "outputs": [],
   "source": [
    "os.rename(testpath, outpath)"
   ]
  },
  {
   "cell_type": "code",
   "execution_count": 9,
   "metadata": {},
   "outputs": [],
   "source": [
    "for folder in folders1:\n",
    "    newname = folder + \"_12_08_2020\"\n",
    "    os.rename(folder, newname)"
   ]
  },
  {
   "cell_type": "code",
   "execution_count": 3,
   "metadata": {},
   "outputs": [],
   "source": [
    "from utilities import get_files"
   ]
  },
  {
   "cell_type": "code",
   "execution_count": 11,
   "metadata": {},
   "outputs": [],
   "source": [
    "proc_path = \"C:\\\\Users\\\\Spencer\\\\Desktop\\\\clean\\\\data\\\\processed\"\n",
    "proc_files = get_files(proc_path, \"csv\")"
   ]
  },
  {
   "cell_type": "code",
   "execution_count": 4,
   "metadata": {},
   "outputs": [],
   "source": [
    "import pandas as pd"
   ]
  },
  {
   "cell_type": "code",
   "execution_count": null,
   "metadata": {},
   "outputs": [],
   "source": [
    "base = pd.read_csv(proc_files[0])\n",
    "for f in proc_files[1:]:\n",
    "    "
   ]
  },
  {
   "cell_type": "code",
   "execution_count": 8,
   "metadata": {},
   "outputs": [],
   "source": [
    "dir3 = \"C:\\\\Users\\\\Spencer\\\\Desktop\\\\clean\\\\data\\\\rescrape\\\\rescrapes_with_addresses\\\\temp_data\"\n",
    "files3 = get_files(dir3, \"csv\")\n",
    "for file in files3:\n",
    "    filename = file.split(\"\\\\\")[-1]\n",
    "    filepath = \"\\\\\".join(file.split(\"\\\\\")[:-1])\n",
    "    df = pd.read_csv(file)\n",
    "    company_id = int(df[\"key\"][0])\n",
    "    company_name = list(master[master[\"Store Company ID\"]==company_id][\"company_name\"])[0]\n",
    "    company_name_dir = filepath + \"\\\\\" + company_name\n",
    "    if not os.path.isdir(company_name_dir):\n",
    "        os.mkdir(company_name_dir)\n",
    "    new_filepath = company_name_dir + \"\\\\\" + filename\n",
    "    df.to_csv(new_filepath, index=False)"
   ]
  },
  {
   "cell_type": "code",
   "execution_count": 9,
   "metadata": {},
   "outputs": [],
   "source": [
    "folders3 = [f.path for f in os.scandir(\"C:\\\\Users\\\\Spencer\\\\Desktop\\\\clean\\\\data\\\\rescrape\\\\rescrapes_with_addresses\\\\temp_data\") if f.is_dir()]\n",
    "for folder in folders3:\n",
    "    newname = folder + \"_12_10_2020\"\n",
    "    os.rename(folder, newname)"
   ]
  },
  {
   "cell_type": "code",
   "execution_count": 11,
   "metadata": {},
   "outputs": [],
   "source": [
    "all_scrapes = get_files(\"C:\\\\Users\\\\Spencer\\\\Desktop\\\\clean\\\\data\\\\processed\", \"csv\")\n",
    "dirty_full = pd.read_csv(all_scrapes[0])\n",
    "for csv in all_scrapes[1:]:\n",
    "    df = pd.read_csv(csv)\n",
    "    dirty_full = dirty_full.append(df)\n",
    "dirty_full.to_csv(\"C:\\\\Users\\\\Spencer\\\\Desktop\\\\clean\\\\data\\\\full_data_post_rescrape.csv\", index=False)"
   ]
  },
  {
   "cell_type": "code",
   "execution_count": 24,
   "metadata": {},
   "outputs": [
    {
     "output_type": "execute_result",
     "data": {
      "text/plain": [
       "2000334383    3\n",
       "2000334388    2\n",
       "1000849669    2\n",
       "2000303507    2\n",
       "1000847358    1\n",
       "             ..\n",
       "2000634186    1\n",
       "2000634185    1\n",
       "2000634184    1\n",
       "2000634183    1\n",
       "2000634368    1\n",
       "Name: Store Company ID, Length: 275, dtype: int64"
      ]
     },
     "metadata": {},
     "execution_count": 24
    }
   ],
   "source": [
    "dirty_full[dirty_full[\"Store Company ID\"].duplicated()][\"Store Company ID\"].value_counts()"
   ]
  },
  {
   "cell_type": "code",
   "execution_count": 19,
   "metadata": {},
   "outputs": [],
   "source": [
    "data_count_cols = ['Number of Ratings (2020)',\n",
    " 'Number of Ratings (2019)',\n",
    " 'Number of Ratings (2018)',\n",
    " 'Number of Ratings (2017)',\n",
    " 'Number of Ratings (2016)',\n",
    " 'Number of Ratings (2015)',\n",
    " 'Number of Ratings (2014)',\n",
    " 'Number of Ratings (2013)',\n",
    " 'Number of Ratings (2012)']\n",
    "\n",
    "\n",
    "dirty_full[\"reviews_scraped\"] = dirty_full[data_count_cols].sum(axis=1)"
   ]
  },
  {
   "cell_type": "code",
   "execution_count": 22,
   "metadata": {},
   "outputs": [
    {
     "output_type": "execute_result",
     "data": {
      "text/plain": [
       "280"
      ]
     },
     "metadata": {},
     "execution_count": 22
    }
   ],
   "source": [
    "# getting duplicate rows to drop\n",
    "id_dict = {}\n",
    "rows_to_drop = []\n",
    "for row in dirty_full.iterrows():\n",
    "    company_id = row[1][\"Store Company ID\"]\n",
    "    reviews_scraped = row[1][\"reviews_scraped\"]\n",
    "    if company_id not in id_dict.keys():\n",
    "        id_dict[company_id] = row\n",
    "    else:\n",
    "        old_reviews_scraped = id_dict[company_id][1][\"reviews_scraped\"]\n",
    "        if (reviews_scraped <= old_reviews_scraped):\n",
    "            rows_to_drop.append(row)\n",
    "        else:\n",
    "            rows_to_drop.append(id_dict[company_id])\n",
    "            id_dict[company_id] = row\n",
    "len(rows_to_drop)"
   ]
  },
  {
   "cell_type": "code",
   "execution_count": 25,
   "metadata": {},
   "outputs": [],
   "source": [
    "indices_to_drop = [row[0] for row in rows_to_drop]"
   ]
  },
  {
   "cell_type": "code",
   "execution_count": 27,
   "metadata": {},
   "outputs": [],
   "source": [
    "rescrape_nodupes = dirty_full.drop(indices_to_drop)"
   ]
  },
  {
   "cell_type": "code",
   "execution_count": 31,
   "metadata": {},
   "outputs": [
    {
     "output_type": "execute_result",
     "data": {
      "text/plain": [
       "280"
      ]
     },
     "metadata": {},
     "execution_count": 31
    }
   ],
   "source": [
    "len(indices_to_drop)"
   ]
  },
  {
   "cell_type": "code",
   "execution_count": 30,
   "metadata": {},
   "outputs": [
    {
     "output_type": "execute_result",
     "data": {
      "text/plain": [
       "19072"
      ]
     },
     "metadata": {},
     "execution_count": 30
    }
   ],
   "source": [
    "len(dirty_full)"
   ]
  },
  {
   "cell_type": "code",
   "execution_count": 32,
   "metadata": {},
   "outputs": [
    {
     "output_type": "execute_result",
     "data": {
      "text/plain": [
       "11816"
      ]
     },
     "metadata": {},
     "execution_count": 32
    }
   ],
   "source": [
    "len(rescrape_nodupes)"
   ]
  },
  {
   "cell_type": "code",
   "execution_count": 33,
   "metadata": {},
   "outputs": [
    {
     "output_type": "execute_result",
     "data": {
      "text/plain": [
       "17792"
      ]
     },
     "metadata": {},
     "execution_count": 33
    }
   ],
   "source": [
    "18072-280"
   ]
  },
  {
   "cell_type": "code",
   "execution_count": 35,
   "metadata": {},
   "outputs": [
    {
     "output_type": "execute_result",
     "data": {
      "text/plain": [
       "Int64Index([ 0,  1,  2,  3,  4,  5,  6,  7,  8,  9,\n",
       "            ...\n",
       "            22, 23, 24, 25, 26, 27, 28, 29, 30,  0],\n",
       "           dtype='int64', length=19072)"
      ]
     },
     "metadata": {},
     "execution_count": 35
    }
   ],
   "source": [
    "dirty_full.index"
   ]
  },
  {
   "cell_type": "code",
   "execution_count": 36,
   "metadata": {},
   "outputs": [
    {
     "output_type": "execute_result",
     "data": {
      "text/plain": [
       "6256"
      ]
     },
     "metadata": {},
     "execution_count": 36
    }
   ],
   "source": [
    "18072-11816"
   ]
  },
  {
   "cell_type": "code",
   "execution_count": 39,
   "metadata": {},
   "outputs": [],
   "source": [
    "drop_df = dirty_full.iloc[indices_to_drop, :]"
   ]
  },
  {
   "cell_type": "code",
   "execution_count": 43,
   "metadata": {},
   "outputs": [],
   "source": [
    "rescrape_processed = pd.concat([dirty_full,drop_df]).drop_duplicates(keep=False).drop(\"reviews_scraped\", axis=1)"
   ]
  },
  {
   "cell_type": "code",
   "execution_count": 44,
   "metadata": {},
   "outputs": [],
   "source": [
    "rescrape_processed.to_csv(\"C:\\\\Users\\\\Spencer\\\\Desktop\\\\clean\\\\data\\\\rescrape_processed.csv\", index=False)"
   ]
  },
  {
   "cell_type": "code",
   "execution_count": 45,
   "metadata": {},
   "outputs": [],
   "source": [
    "rescrape_processed_rc = pd.concat([dirty_full,drop_df]).drop_duplicates(keep=False)"
   ]
  },
  {
   "cell_type": "code",
   "execution_count": 46,
   "metadata": {},
   "outputs": [],
   "source": [
    "rescrape_processed_rc.to_csv(\"C:\\\\Users\\\\Spencer\\\\Desktop\\\\clean\\\\data\\\\rescrape_processed_rc.csv\", index=False)"
   ]
  },
  {
   "cell_type": "code",
   "execution_count": 1,
   "metadata": {},
   "outputs": [],
   "source": [
    "import pandas as pd"
   ]
  },
  {
   "cell_type": "code",
   "execution_count": 5,
   "metadata": {},
   "outputs": [],
   "source": [
    "from utilities import get_files"
   ]
  },
  {
   "cell_type": "code",
   "execution_count": 6,
   "metadata": {},
   "outputs": [],
   "source": [
    "csvs = get_files(\"C:\\\\Users\\\\Spencer\\\\Desktop\\\\clean\\\\data\\\\processed\", \"csv\")"
   ]
  },
  {
   "cell_type": "code",
   "execution_count": 8,
   "metadata": {},
   "outputs": [
    {
     "output_type": "execute_result",
     "data": {
      "text/plain": [
       "176"
      ]
     },
     "metadata": {},
     "execution_count": 8
    }
   ],
   "source": [
    "len(csvs)"
   ]
  },
  {
   "cell_type": "code",
   "execution_count": 9,
   "metadata": {},
   "outputs": [],
   "source": [
    "alldata = pd.read_csv(csvs[0])\n",
    "for csv in csvs[1:]:\n",
    "    df = pd.read_csv(csv)\n",
    "    alldata = alldata.append(df)"
   ]
  },
  {
   "cell_type": "code",
   "execution_count": 10,
   "metadata": {},
   "outputs": [
    {
     "output_type": "execute_result",
     "data": {
      "text/plain": [
       "19072"
      ]
     },
     "metadata": {},
     "execution_count": 10
    }
   ],
   "source": [
    "len(alldata)"
   ]
  },
  {
   "cell_type": "code",
   "execution_count": 13,
   "metadata": {},
   "outputs": [],
   "source": [
    "data_count_cols = ['Number of Ratings (2020)',\n",
    " 'Number of Ratings (2019)',\n",
    " 'Number of Ratings (2018)',\n",
    " 'Number of Ratings (2017)',\n",
    " 'Number of Ratings (2016)',\n",
    " 'Number of Ratings (2015)',\n",
    " 'Number of Ratings (2014)',\n",
    " 'Number of Ratings (2013)',\n",
    " 'Number of Ratings (2012)']\n",
    "\n",
    "\n",
    "alldata[\"reviews_scraped\"] = alldata[data_count_cols].sum(axis=1)"
   ]
  },
  {
   "cell_type": "code",
   "execution_count": 24,
   "metadata": {},
   "outputs": [],
   "source": [
    "all_scraped = alldata.sort_values(\"reviews_scraped\").drop_duplicates(\"Store Company ID\", keep='last')"
   ]
  },
  {
   "cell_type": "code",
   "execution_count": 25,
   "metadata": {},
   "outputs": [],
   "source": [
    "all_scraped.to_csv(\"C:\\\\Users\\\\Spencer\\\\Desktop\\\\clean\\\\data\\\\alldata_rescrape_fixed_rc.csv\", index=False)"
   ]
  },
  {
   "cell_type": "code",
   "execution_count": 29,
   "metadata": {},
   "outputs": [],
   "source": [
    "all_scraped.drop(\"reviews_scraped\", axis=1).to_csv(\"alldata_rescrape_fixed.csv\", index=False)"
   ]
  },
  {
   "cell_type": "code",
   "execution_count": 31,
   "metadata": {},
   "outputs": [
    {
     "output_type": "execute_result",
     "data": {
      "text/plain": [
       "280"
      ]
     },
     "metadata": {},
     "execution_count": 31
    }
   ],
   "source": [
    "len(alldata)-len(all_scraped)"
   ]
  },
  {
   "cell_type": "code",
   "execution_count": 36,
   "metadata": {},
   "outputs": [],
   "source": [
    "scraped_prev = pd.read_csv(\"C:\\\\Users\\\\Spencer\\\\Desktop\\\\clean\\\\data\\\\rescrape_processed_rc.csv\")"
   ]
  },
  {
   "cell_type": "code",
   "execution_count": 43,
   "metadata": {},
   "outputs": [],
   "source": [
    "master = pd.read_csv(\"C:\\\\Users\\\\Spencer\\\\Desktop\\\\clean\\\\data\\\\master_review_counts.csv\")"
   ]
  },
  {
   "cell_type": "code",
   "execution_count": 1,
   "metadata": {},
   "outputs": [],
   "source": [
    "import pandas as pd \n",
    "master = pd.read_csv(\"C:\\\\Users\\\\Spencer\\\\Desktop\\\\clean\\\\closed_2019.csv\")"
   ]
  },
  {
   "cell_type": "code",
   "execution_count": 3,
   "metadata": {},
   "outputs": [],
   "source": [
    "from utilities import process_company_names"
   ]
  },
  {
   "cell_type": "code",
   "execution_count": 4,
   "metadata": {},
   "outputs": [],
   "source": [
    "process_company_names(master, \"Company Name\", \"company_name\")"
   ]
  },
  {
   "cell_type": "code",
   "execution_count": 7,
   "metadata": {},
   "outputs": [],
   "source": [
    "master.to_csv(\"closed_2019.csv\", index=False)"
   ]
  },
  {
   "cell_type": "code",
   "execution_count": 1,
   "metadata": {},
   "outputs": [],
   "source": [
    "import pandas as pd"
   ]
  },
  {
   "cell_type": "code",
   "execution_count": 2,
   "metadata": {},
   "outputs": [],
   "source": [
    "closed_2018 = pd.read_excel(\"C:\\\\Users\\\\Spencer\\\\Desktop\\\\clean\\\\data\\\\Closed Locations.xlsx\", sheet_name=\"2018CLOSED\")"
   ]
  },
  {
   "cell_type": "code",
   "execution_count": 3,
   "metadata": {},
   "outputs": [],
   "source": [
    "closed_2018 = closed_2018.rename(columns={\"Company ID\":\"Store Company ID\"})\n",
    "columns_to_drop = ['Parent_ID', 'Parent Name', 'Parent City', 'Parent State', 'Parent Zip',\n",
    "       'Headquarters ID', 'HQ Name', 'HQ City', 'HQ State', 'HQ Zip',\n",
    "       'Store No', 'Store Weekly Volume', 'Type of Food Service', 'Menu Types',\n",
    "       'FIPS', 'FIPS_DESC', 'CBSA', 'CBSA_DESC', 'MSA', 'MSA_DESC', 'PMSA',\n",
    "       'PMSA_DESC', 'Lat', 'Lon', 'GeoLevel', 'Listing Type', 'Industry ID', 'Industry Name']\n",
    "closed_2018 = closed_2018.drop(columns_to_drop, axis=1)"
   ]
  },
  {
   "cell_type": "code",
   "execution_count": 4,
   "metadata": {},
   "outputs": [],
   "source": [
    "from utilities import process_company_names"
   ]
  },
  {
   "cell_type": "code",
   "execution_count": 5,
   "metadata": {},
   "outputs": [],
   "source": [
    "process_company_names(closed_2018, \"Company Name\", \"company_name\")"
   ]
  },
  {
   "cell_type": "code",
   "execution_count": 6,
   "metadata": {},
   "outputs": [],
   "source": [
    "closed_2018.to_csv(\"C:\\\\Users\\\\Spencer\\\\Desktop\\\\clean\\\\data\\\\closed_2018.csv\", index=False)"
   ]
  },
  {
   "cell_type": "code",
   "execution_count": 2,
   "metadata": {},
   "outputs": [],
   "source": [
    "closed_2017 = pd.read_excel(\"C:\\\\Users\\\\Spencer\\\\Desktop\\\\clean\\\\data\\\\Closed Locations.xlsx\", sheet_name=\"2017CLOSED\")"
   ]
  },
  {
   "cell_type": "code",
   "execution_count": 3,
   "metadata": {},
   "outputs": [],
   "source": [
    "closed_2017 = closed_2017.rename(columns={\"Company ID\":\"Store Company ID\"})\n",
    "columns_to_drop = ['Parent_ID', 'Parent Name', 'Parent City', 'Parent State', 'Parent Zip',\n",
    "       'Headquarters ID', 'HQ Name', 'HQ City', 'HQ State', 'HQ Zip',\n",
    "       'Store No', 'Store Weekly Volume', 'Type of Food Service', 'Menu Types',\n",
    "       'FIPS', 'FIPS_DESC', 'CBSA', 'CBSA_DESC', 'MSA', 'MSA_DESC', 'PMSA',\n",
    "       'PMSA_DESC', 'Lat', 'Lon', 'GeoLevel', 'Listing Type', 'Industry ID', 'Industry Name']\n",
    "closed_2017 = closed_2017.drop(columns_to_drop, axis=1)"
   ]
  },
  {
   "cell_type": "code",
   "execution_count": 5,
   "metadata": {},
   "outputs": [],
   "source": [
    "process_company_names(closed_2017, \"Company Name\", \"company_name\")"
   ]
  },
  {
   "cell_type": "code",
   "execution_count": 6,
   "metadata": {},
   "outputs": [],
   "source": [
    "closed_2017.to_csv(\"C:\\\\Users\\\\Spencer\\\\Desktop\\\\clean\\\\data\\\\closed_2017.csv\", index=False)"
   ]
  },
  {
   "cell_type": "code",
   "execution_count": 1,
   "metadata": {},
   "outputs": [],
   "source": [
    "from utilities import extract_year_sheet"
   ]
  },
  {
   "cell_type": "code",
   "execution_count": 2,
   "metadata": {},
   "outputs": [],
   "source": [
    "source_file = \"C:\\\\Users\\\\Spencer\\\\Desktop\\\\clean\\\\data\\\\Closed Locations.xlsx\"\n",
    "output_path = \"C:\\\\Users\\\\Spencer\\\\Desktop\\\\clean\\\\closed_2016.csv\"\n",
    "sheet_name = \"2016CLOSED\"\n",
    "\n",
    "extract_year_sheet(source_file=source_file, output_path=output_path, sheet_name=sheet_name)"
   ]
  },
  {
   "cell_type": "code",
   "execution_count": 3,
   "metadata": {},
   "outputs": [],
   "source": [
    "source_file = \"C:\\\\Users\\\\Spencer\\\\Desktop\\\\clean\\\\data\\\\Closed Locations.xlsx\"\n",
    "output_path = \"C:\\\\Users\\\\Spencer\\\\Desktop\\\\clean\\\\closed_2015.csv\"\n",
    "sheet_name = \"2015CLOSED\"\n",
    "\n",
    "extract_year_sheet(source_file=source_file, output_path=output_path, sheet_name=sheet_name)"
   ]
  },
  {
   "cell_type": "code",
   "execution_count": 4,
   "metadata": {},
   "outputs": [],
   "source": [
    "source_file = \"C:\\\\Users\\\\Spencer\\\\Desktop\\\\clean\\\\data\\\\Closed Locations.xlsx\"\n",
    "output_path = \"C:\\\\Users\\\\Spencer\\\\Desktop\\\\clean\\\\closed_2014.csv\"\n",
    "sheet_name = \"2014CLOSED\"\n",
    "\n",
    "extract_year_sheet(source_file=source_file, output_path=output_path, sheet_name=sheet_name)"
   ]
  },
  {
   "cell_type": "code",
   "execution_count": 5,
   "metadata": {},
   "outputs": [],
   "source": [
    "source_file = \"C:\\\\Users\\\\Spencer\\\\Desktop\\\\clean\\\\data\\\\Closed Locations.xlsx\"\n",
    "output_path = \"C:\\\\Users\\\\Spencer\\\\Desktop\\\\clean\\\\closed_2013.csv\"\n",
    "sheet_name = \"2013CLOSED\"\n",
    "\n",
    "extract_year_sheet(source_file=source_file, output_path=output_path, sheet_name=sheet_name)"
   ]
  },
  {
   "cell_type": "code",
   "execution_count": 6,
   "metadata": {},
   "outputs": [],
   "source": [
    "source_file = \"C:\\\\Users\\\\Spencer\\\\Desktop\\\\clean\\\\data\\\\Closed Locations.xlsx\"\n",
    "output_path = \"C:\\\\Users\\\\Spencer\\\\Desktop\\\\clean\\\\closed_2012.csv\"\n",
    "sheet_name = \"2012CLOSED\"\n",
    "\n",
    "extract_year_sheet(source_file=source_file, output_path=output_path, sheet_name=sheet_name)"
   ]
  },
  {
   "cell_type": "code",
   "execution_count": 3,
   "metadata": {},
   "outputs": [],
   "source": [
    "base = pd.read_csv(\"C:\\\\Users\\\\Spencer\\\\Desktop\\\\clean\\\\closed_2019.csv\")\n",
    "years = [\"2018\", \"2017\", \"2016\", \"2015\", \"2014\", \"2013\", \"2012\"]\n",
    "for year in years:\n",
    "    df = pd.read_csv(\"C:\\\\Users\\\\Spencer\\\\Desktop\\\\clean\\\\closed_\" + year + \".csv\")\n",
    "    base = base.append(df)"
   ]
  },
  {
   "cell_type": "code",
   "execution_count": 4,
   "metadata": {},
   "outputs": [
    {
     "output_type": "execute_result",
     "data": {
      "text/plain": [
       "     Store Company ID          Company Name               Address 1  \\\n",
       "0          1000841652  Papa Gino's Pizzeria          1876 Boston Rd   \n",
       "1          2000015899             Pizza Hut           793 Boston Rd   \n",
       "2          2000172731  Little Caesars Pizza          1762 Boston Rd   \n",
       "3          1000809575             Pizza Hut            180 South St   \n",
       "4          1000862472  Papa Gino's Pizzeria      399 John Fitch Hwy   \n",
       "..                ...                   ...                     ...   \n",
       "971        1000876875     Godfather's Pizza       6700 NE 162nd Ave   \n",
       "972        1000944859                Sbarro            2529 Main St   \n",
       "973        1000949437     Papa John's Pizza  3331 W Indian Trail Rd   \n",
       "974        1000946863     Papa John's Pizza         2905 S Regal St   \n",
       "975        1000868680     Godfather's Pizza           5 Salmon Lndg   \n",
       "\n",
       "            City State         Zip                   Country         Phone  \\\n",
       "0      WILBRAHAM    MA  01095-1003  United States of America  4.135434e+09   \n",
       "1    SPRINGFIELD    MA  01119-1300  United States of America  4.133820e+09   \n",
       "2    SPRINGFIELD    MA  01129-1175  United States of America  4.135439e+09   \n",
       "3     PITTSFIELD    MA  01201-6807  United States of America  4.134427e+09   \n",
       "4      FITCHBURG    MA  01420-4501  United States of America  9.783451e+09   \n",
       "..           ...   ...         ...                       ...           ...   \n",
       "971    VANCOUVER    WA  98682-3858  United States of America  3.602545e+09   \n",
       "972    UNION GAP    WA  98903-1690  United States of America  5.094570e+09   \n",
       "973      SPOKANE    WA  99208-4762  United States of America  5.093257e+09   \n",
       "974      SPOKANE    WA  99223-4822  United States of America  5.095367e+09   \n",
       "975    KETCHIKAN    AK  99901-6567  United States of America  9.072472e+09   \n",
       "\n",
       "             company_name  \n",
       "0     papa_ginos_pizzeria  \n",
       "1               pizza_hut  \n",
       "2    little_caesars_pizza  \n",
       "3               pizza_hut  \n",
       "4     papa_ginos_pizzeria  \n",
       "..                    ...  \n",
       "971      godfathers_pizza  \n",
       "972                sbarro  \n",
       "973      papa_johns_pizza  \n",
       "974      papa_johns_pizza  \n",
       "975      godfathers_pizza  \n",
       "\n",
       "[8972 rows x 9 columns]"
      ],
      "text/html": "<div>\n<style scoped>\n    .dataframe tbody tr th:only-of-type {\n        vertical-align: middle;\n    }\n\n    .dataframe tbody tr th {\n        vertical-align: top;\n    }\n\n    .dataframe thead th {\n        text-align: right;\n    }\n</style>\n<table border=\"1\" class=\"dataframe\">\n  <thead>\n    <tr style=\"text-align: right;\">\n      <th></th>\n      <th>Store Company ID</th>\n      <th>Company Name</th>\n      <th>Address 1</th>\n      <th>City</th>\n      <th>State</th>\n      <th>Zip</th>\n      <th>Country</th>\n      <th>Phone</th>\n      <th>company_name</th>\n    </tr>\n  </thead>\n  <tbody>\n    <tr>\n      <td>0</td>\n      <td>1000841652</td>\n      <td>Papa Gino's Pizzeria</td>\n      <td>1876 Boston Rd</td>\n      <td>WILBRAHAM</td>\n      <td>MA</td>\n      <td>01095-1003</td>\n      <td>United States of America</td>\n      <td>4.135434e+09</td>\n      <td>papa_ginos_pizzeria</td>\n    </tr>\n    <tr>\n      <td>1</td>\n      <td>2000015899</td>\n      <td>Pizza Hut</td>\n      <td>793 Boston Rd</td>\n      <td>SPRINGFIELD</td>\n      <td>MA</td>\n      <td>01119-1300</td>\n      <td>United States of America</td>\n      <td>4.133820e+09</td>\n      <td>pizza_hut</td>\n    </tr>\n    <tr>\n      <td>2</td>\n      <td>2000172731</td>\n      <td>Little Caesars Pizza</td>\n      <td>1762 Boston Rd</td>\n      <td>SPRINGFIELD</td>\n      <td>MA</td>\n      <td>01129-1175</td>\n      <td>United States of America</td>\n      <td>4.135439e+09</td>\n      <td>little_caesars_pizza</td>\n    </tr>\n    <tr>\n      <td>3</td>\n      <td>1000809575</td>\n      <td>Pizza Hut</td>\n      <td>180 South St</td>\n      <td>PITTSFIELD</td>\n      <td>MA</td>\n      <td>01201-6807</td>\n      <td>United States of America</td>\n      <td>4.134427e+09</td>\n      <td>pizza_hut</td>\n    </tr>\n    <tr>\n      <td>4</td>\n      <td>1000862472</td>\n      <td>Papa Gino's Pizzeria</td>\n      <td>399 John Fitch Hwy</td>\n      <td>FITCHBURG</td>\n      <td>MA</td>\n      <td>01420-4501</td>\n      <td>United States of America</td>\n      <td>9.783451e+09</td>\n      <td>papa_ginos_pizzeria</td>\n    </tr>\n    <tr>\n      <td>...</td>\n      <td>...</td>\n      <td>...</td>\n      <td>...</td>\n      <td>...</td>\n      <td>...</td>\n      <td>...</td>\n      <td>...</td>\n      <td>...</td>\n      <td>...</td>\n    </tr>\n    <tr>\n      <td>971</td>\n      <td>1000876875</td>\n      <td>Godfather's Pizza</td>\n      <td>6700 NE 162nd Ave</td>\n      <td>VANCOUVER</td>\n      <td>WA</td>\n      <td>98682-3858</td>\n      <td>United States of America</td>\n      <td>3.602545e+09</td>\n      <td>godfathers_pizza</td>\n    </tr>\n    <tr>\n      <td>972</td>\n      <td>1000944859</td>\n      <td>Sbarro</td>\n      <td>2529 Main St</td>\n      <td>UNION GAP</td>\n      <td>WA</td>\n      <td>98903-1690</td>\n      <td>United States of America</td>\n      <td>5.094570e+09</td>\n      <td>sbarro</td>\n    </tr>\n    <tr>\n      <td>973</td>\n      <td>1000949437</td>\n      <td>Papa John's Pizza</td>\n      <td>3331 W Indian Trail Rd</td>\n      <td>SPOKANE</td>\n      <td>WA</td>\n      <td>99208-4762</td>\n      <td>United States of America</td>\n      <td>5.093257e+09</td>\n      <td>papa_johns_pizza</td>\n    </tr>\n    <tr>\n      <td>974</td>\n      <td>1000946863</td>\n      <td>Papa John's Pizza</td>\n      <td>2905 S Regal St</td>\n      <td>SPOKANE</td>\n      <td>WA</td>\n      <td>99223-4822</td>\n      <td>United States of America</td>\n      <td>5.095367e+09</td>\n      <td>papa_johns_pizza</td>\n    </tr>\n    <tr>\n      <td>975</td>\n      <td>1000868680</td>\n      <td>Godfather's Pizza</td>\n      <td>5 Salmon Lndg</td>\n      <td>KETCHIKAN</td>\n      <td>AK</td>\n      <td>99901-6567</td>\n      <td>United States of America</td>\n      <td>9.072472e+09</td>\n      <td>godfathers_pizza</td>\n    </tr>\n  </tbody>\n</table>\n<p>8972 rows × 9 columns</p>\n</div>"
     },
     "metadata": {},
     "execution_count": 4
    }
   ],
   "source": [
    "base"
   ]
  },
  {
   "cell_type": "code",
   "execution_count": 10,
   "metadata": {},
   "outputs": [],
   "source": [
    "base.to_csv(\"C:\\\\Users\\\\Spencer\\\\Desktop\\\\clean\\\\data\\\\all_closed_locations.csv\", index=False)"
   ]
  },
  {
   "cell_type": "code",
   "execution_count": 6,
   "metadata": {},
   "outputs": [],
   "source": [
    "base[\"company_name\"] = base[\"company_name\"].apply(lambda x: x.replace(\"/\", \"_\"))"
   ]
  },
  {
   "cell_type": "code",
   "execution_count": 9,
   "metadata": {},
   "outputs": [],
   "source": [
    "base[\"Company Name\"] = base[\"Company Name\"].apply(lambda x: x.replace(\"/\", \"_\"))"
   ]
  },
  {
   "cell_type": "code",
   "execution_count": 1,
   "metadata": {},
   "outputs": [],
   "source": [
    "import pandas as pd"
   ]
  },
  {
   "cell_type": "code",
   "execution_count": 2,
   "metadata": {},
   "outputs": [],
   "source": [
    "base_folder = \"C:\\\\Users\\\\Spencer\\\\Desktop\\\\clean\\\\data\\\\Pushpinder\""
   ]
  },
  {
   "cell_type": "code",
   "execution_count": 2,
   "metadata": {},
   "outputs": [],
   "source": [
    "from utilities import get_files"
   ]
  },
  {
   "cell_type": "code",
   "execution_count": 4,
   "metadata": {},
   "outputs": [],
   "source": [
    "files = get_files(base_folder, \"xlsx\")"
   ]
  },
  {
   "cell_type": "code",
   "execution_count": 9,
   "metadata": {},
   "outputs": [],
   "source": [
    "f = files[0]\n",
    "df = pd.read_excel(f)\n",
    "fname = f.split(\"\\\\\")[-1].split(\".\")[0]\n",
    "fpath = \"\\\\\".join(f.split(\"\\\\\")[:-1]) + \"\\\\\"\n",
    "outpath = fpath + \"csvs\\\\\" + fname + \".csv\"\n",
    "print(outpath)"
   ]
  },
  {
   "cell_type": "code",
   "execution_count": 5,
   "metadata": {},
   "outputs": [
    {
     "output_type": "execute_result",
     "data": {
      "text/plain": [
       "'C:\\\\Users\\\\Spencer\\\\Desktop\\\\clean\\\\data\\\\Pushpinder\\\\2020-10-14-10-38-2-222899686024500-Little Caesars 1.xlsx'"
      ]
     },
     "metadata": {},
     "execution_count": 5
    }
   ],
   "source": [
    "for f in files:\n",
    "    df = pd.read_excel(f)\n",
    "    fname = f.split(\"\\\\\")[-1].split(\".\")[0]\n",
    "    fpath = \"\\\\\".join(f.split(\"\\\\\")[:-1]) + \"\\\\\"\n",
    "    outpath = fpath + \"csvs\\\\\" + fname + \".csv\"\n",
    "    df.to_csv(outpath, index=False)"
   ]
  },
  {
   "cell_type": "code",
   "execution_count": 6,
   "metadata": {},
   "outputs": [],
   "source": []
  },
  {
   "cell_type": "code",
   "execution_count": 7,
   "metadata": {},
   "outputs": [],
   "source": [
    "f = files[0]\n",
    "df = pd.read_excel(f)"
   ]
  },
  {
   "cell_type": "code",
   "execution_count": 8,
   "metadata": {},
   "outputs": [
    {
     "output_type": "stream",
     "name": "stdout",
     "text": [
      "C:\\Users\\Spencer\\Desktop\\clean\\data\\Pushpinder\\csvs\\2020-10-14-10-38-2-222899686024500-Little Caesars 1.csv\n"
     ]
    }
   ],
   "source": [
    "fname = f.split(\"\\\\\")[-1].split(\".\")[0]\n",
    "fpath = \"\\\\\".join(f.split(\"\\\\\")[:-1]) + \"\\\\\""
   ]
  },
  {
   "cell_type": "code",
   "execution_count": null,
   "metadata": {},
   "outputs": [],
   "source": [
    "outpath = fpath + \"csvs\\\\\" + fname + \".csv\"\n",
    "print(outpath)"
   ]
  },
  {
   "cell_type": "code",
   "execution_count": null,
   "metadata": {},
   "outputs": [],
   "source": [
    "base_folder = \"C:\\\\Users\\\\Spencer\\\\Desktop\\\\clean\\\\data\\\\Pushpinder\\\\csvs\""
   ]
  },
  {
   "cell_type": "code",
   "execution_count": null,
   "metadata": {},
   "outputs": [],
   "source": [
    "csvs = get_files(base_folder, \"csv\")"
   ]
  },
  {
   "cell_type": "code",
   "execution_count": 5,
   "metadata": {},
   "outputs": [
    {
     "output_type": "execute_result",
     "data": {
      "text/plain": [
       "['C:\\\\Users\\\\Spencer\\\\Desktop\\\\clean\\\\data\\\\Pushpinder\\\\csvs\\\\2020-10-14-10-38-2-222899686024500-Little Caesars 1.csv',\n",
       " 'C:\\\\Users\\\\Spencer\\\\Desktop\\\\clean\\\\data\\\\Pushpinder\\\\csvs\\\\2020-10-14-10-38-2-222899686024500-Little Caesars 1_1.csv',\n",
       " 'C:\\\\Users\\\\Spencer\\\\Desktop\\\\clean\\\\data\\\\Pushpinder\\\\csvs\\\\2020-10-14-10-38-2-222899686024500-Little Caesars 1_2.csv',\n",
       " 'C:\\\\Users\\\\Spencer\\\\Desktop\\\\clean\\\\data\\\\Pushpinder\\\\csvs\\\\2020-10-14-10-38-2-222899686024500-Little Caesars 2.csv',\n",
       " 'C:\\\\Users\\\\Spencer\\\\Desktop\\\\clean\\\\data\\\\Pushpinder\\\\csvs\\\\2020-10-14-10-38-2-222899686024500-Little Caesars 3.csv',\n",
       " \"C:\\\\Users\\\\Spencer\\\\Desktop\\\\clean\\\\data\\\\Pushpinder\\\\csvs\\\\2020-10-7-22-18-21-1160972279318600-Domino's_1_backup.csv\",\n",
       " \"C:\\\\Users\\\\Spencer\\\\Desktop\\\\clean\\\\data\\\\Pushpinder\\\\csvs\\\\2020-10-7-22-18-57-1161008329347200-Domino's_2_backup.csv\",\n",
       " \"C:\\\\Users\\\\Spencer\\\\Desktop\\\\clean\\\\data\\\\Pushpinder\\\\csvs\\\\2020-10-7-22-19-22-1161032979210000-Domino's_3_backup.csv\",\n",
       " \"C:\\\\Users\\\\Spencer\\\\Desktop\\\\clean\\\\data\\\\Pushpinder\\\\csvs\\\\2020-10-7-22-19-22-1161032979210000-Domino's_4_backup.csv\",\n",
       " \"C:\\\\Users\\\\Spencer\\\\Desktop\\\\clean\\\\data\\\\Pushpinder\\\\csvs\\\\2020-10-7-22-19-22-1161032979210000-Domino's_5_backup.csv\",\n",
       " \"C:\\\\Users\\\\Spencer\\\\Desktop\\\\clean\\\\data\\\\Pushpinder\\\\csvs\\\\2020-10-7-22-19-22-1161032979210000-Domino's_6_backup.csv\",\n",
       " \"C:\\\\Users\\\\Spencer\\\\Desktop\\\\clean\\\\data\\\\Pushpinder\\\\csvs\\\\2020-10-7-22-19-22-1161032979210000-Domino's_7_backup.csv\"]"
      ]
     },
     "metadata": {},
     "execution_count": 5
    }
   ],
   "source": [
    "csvs"
   ]
  },
  {
   "cell_type": "code",
   "execution_count": 8,
   "metadata": {},
   "outputs": [],
   "source": [
    "master = pd.read_csv(\"C:\\\\Users\\\\Spencer\\\\Desktop\\\\clean\\\\data\\\\data.csv\")"
   ]
  },
  {
   "cell_type": "code",
   "execution_count": 6,
   "metadata": {},
   "outputs": [],
   "source": [
    "test_df_1 = pd.read_csv('C:\\\\Users\\\\Spencer\\\\Desktop\\\\clean\\\\data\\\\Pushpinder\\\\csvs\\\\2020-10-14-10-38-2-222899686024500-Little Caesars 1.csv')[0:5]"
   ]
  },
  {
   "cell_type": "code",
   "execution_count": 7,
   "metadata": {},
   "outputs": [],
   "source": [
    "test_link_1 = test_df_1[\"Task URL1\"][0]"
   ]
  },
  {
   "cell_type": "code",
   "execution_count": null,
   "metadata": {},
   "outputs": [],
   "source": [
    "from utilities import link_to_id, link_to_id_all"
   ]
  },
  {
   "cell_type": "code",
   "execution_count": 9,
   "metadata": {},
   "outputs": [
    {
     "output_type": "execute_result",
     "data": {
      "text/plain": [
       "2000760012"
      ]
     },
     "metadata": {},
     "execution_count": 9
    }
   ],
   "source": [
    "link_to_id(test_link_1, master)"
   ]
  },
  {
   "cell_type": "code",
   "execution_count": 12,
   "metadata": {},
   "outputs": [],
   "source": [
    "link_to_id_all(master, test_df_1)"
   ]
  },
  {
   "cell_type": "code",
   "execution_count": 13,
   "metadata": {},
   "outputs": [
    {
     "output_type": "execute_result",
     "data": {
      "text/plain": [
       "                                              Field1         Field5  \\\n",
       "0  <span aria-label=\" 5 stars \" role=\"img\" jstcac...     a week ago   \n",
       "1  <span aria-label=\" 5 stars \" role=\"img\" jstcac...     a week ago   \n",
       "2  <span aria-label=\" 5 stars \" role=\"img\" jstcac...   8 months ago   \n",
       "3  <span aria-label=\" 4 stars \" role=\"img\" jstcac...   4 months ago   \n",
       "4  <span aria-label=\" 5 stars \" role=\"img\" jstcac...  11 months ago   \n",
       "\n",
       "                                              Field6  \\\n",
       "0  I love this place, not only for it's amazing p...   \n",
       "1   Fresh food and friendly service. Simple as that.   \n",
       "2   Best cheesy bread and stuffed crust pizzas EVER!   \n",
       "3                    Friendly service, quick pickup.   \n",
       "4  Really good for the price. Our local schools u...   \n",
       "\n",
       "                                           Task URL1  Store Company ID  \n",
       "0  https://www.google.com/maps/place/Little+Caesa...        2000760012  \n",
       "1  https://www.google.com/maps/place/Little+Caesa...        2000760012  \n",
       "2  https://www.google.com/maps/place/Little+Caesa...        2000760012  \n",
       "3  https://www.google.com/maps/place/Little+Caesa...        2000760012  \n",
       "4  https://www.google.com/maps/place/Little+Caesa...        2000760012  "
      ],
      "text/html": "<div>\n<style scoped>\n    .dataframe tbody tr th:only-of-type {\n        vertical-align: middle;\n    }\n\n    .dataframe tbody tr th {\n        vertical-align: top;\n    }\n\n    .dataframe thead th {\n        text-align: right;\n    }\n</style>\n<table border=\"1\" class=\"dataframe\">\n  <thead>\n    <tr style=\"text-align: right;\">\n      <th></th>\n      <th>Field1</th>\n      <th>Field5</th>\n      <th>Field6</th>\n      <th>Task URL1</th>\n      <th>Store Company ID</th>\n    </tr>\n  </thead>\n  <tbody>\n    <tr>\n      <td>0</td>\n      <td>&lt;span aria-label=\" 5 stars \" role=\"img\" jstcac...</td>\n      <td>a week ago</td>\n      <td>I love this place, not only for it's amazing p...</td>\n      <td>https://www.google.com/maps/place/Little+Caesa...</td>\n      <td>2000760012</td>\n    </tr>\n    <tr>\n      <td>1</td>\n      <td>&lt;span aria-label=\" 5 stars \" role=\"img\" jstcac...</td>\n      <td>a week ago</td>\n      <td>Fresh food and friendly service. Simple as that.</td>\n      <td>https://www.google.com/maps/place/Little+Caesa...</td>\n      <td>2000760012</td>\n    </tr>\n    <tr>\n      <td>2</td>\n      <td>&lt;span aria-label=\" 5 stars \" role=\"img\" jstcac...</td>\n      <td>8 months ago</td>\n      <td>Best cheesy bread and stuffed crust pizzas EVER!</td>\n      <td>https://www.google.com/maps/place/Little+Caesa...</td>\n      <td>2000760012</td>\n    </tr>\n    <tr>\n      <td>3</td>\n      <td>&lt;span aria-label=\" 4 stars \" role=\"img\" jstcac...</td>\n      <td>4 months ago</td>\n      <td>Friendly service, quick pickup.</td>\n      <td>https://www.google.com/maps/place/Little+Caesa...</td>\n      <td>2000760012</td>\n    </tr>\n    <tr>\n      <td>4</td>\n      <td>&lt;span aria-label=\" 5 stars \" role=\"img\" jstcac...</td>\n      <td>11 months ago</td>\n      <td>Really good for the price. Our local schools u...</td>\n      <td>https://www.google.com/maps/place/Little+Caesa...</td>\n      <td>2000760012</td>\n    </tr>\n  </tbody>\n</table>\n</div>"
     },
     "metadata": {},
     "execution_count": 13
    }
   ],
   "source": [
    "test_df_1"
   ]
  },
  {
   "cell_type": "code",
   "execution_count": 4,
   "metadata": {},
   "outputs": [],
   "source": [
    "test_df_2 = pd.read_csv(\"C:\\\\Users\\\\Spencer\\\\Desktop\\\\clean\\\\data\\\\Pushpinder\\\\csvs\\\\2020-10-7-22-18-21-1160972279318600-Domino's_1_backup.csv\")[95:110]"
   ]
  },
  {
   "cell_type": "code",
   "execution_count": 5,
   "metadata": {},
   "outputs": [],
   "source": [
    "test_df_2.to_csv(\"C:\\\\Users\\\\Spencer\\\\Desktop\\\\clean\\\\data\\\\test_df_2.csv\", index=False)"
   ]
  },
  {
   "cell_type": "code",
   "execution_count": 3,
   "metadata": {},
   "outputs": [],
   "source": [
    "from df_process import separate_df_by_location"
   ]
  },
  {
   "cell_type": "code",
   "execution_count": 6,
   "metadata": {},
   "outputs": [],
   "source": [
    "test_df_2 = pd.read_csv(\"C:\\\\Users\\\\Spencer\\\\Desktop\\\\clean\\\\data\\\\test_df_2.csv\")"
   ]
  },
  {
   "cell_type": "code",
   "execution_count": 9,
   "metadata": {},
   "outputs": [],
   "source": [
    "link_to_id_all(master, test_df_2)"
   ]
  },
  {
   "cell_type": "code",
   "execution_count": 11,
   "metadata": {},
   "outputs": [],
   "source": [
    "separate_df_by_location(test_df_2, \"C:\\\\Users\\\\Spencer\\\\Desktop\\\\clean\\\\data\\\\Pushpinder\\\\csvs\\\\by_location_test\")"
   ]
  },
  {
   "cell_type": "code",
   "execution_count": 1,
   "metadata": {},
   "outputs": [
    {
     "output_type": "error",
     "ename": "KeyboardInterrupt",
     "evalue": "",
     "traceback": [
      "\u001b[1;31m---------------------------------------------------------------------------\u001b[0m",
      "\u001b[1;31mKeyboardInterrupt\u001b[0m                         Traceback (most recent call last)",
      "\u001b[1;32m<ipython-input-1-ce10fd5af34a>\u001b[0m in \u001b[0;36m<module>\u001b[1;34m\u001b[0m\n\u001b[1;32m----> 1\u001b[1;33m \u001b[1;32mfrom\u001b[0m \u001b[0mutilities\u001b[0m \u001b[1;32mimport\u001b[0m \u001b[0mget_files\u001b[0m\u001b[1;33m\u001b[0m\u001b[0m\n\u001b[0m",
      "\u001b[1;32mc:\\Users\\Spencer\\Desktop\\clean\\utilities.py\u001b[0m in \u001b[0;36m<module>\u001b[1;34m\u001b[0m\n\u001b[1;32m----> 1\u001b[1;33m \u001b[1;32mimport\u001b[0m \u001b[0mpandas\u001b[0m \u001b[1;32mas\u001b[0m \u001b[0mpd\u001b[0m\u001b[1;33m\u001b[0m\u001b[0m\n\u001b[0m\u001b[0;32m      2\u001b[0m \u001b[1;33m\u001b[0m\u001b[0m\n\u001b[0;32m      3\u001b[0m \u001b[1;32mdef\u001b[0m \u001b[0mprocess_company_names\u001b[0m\u001b[1;33m(\u001b[0m\u001b[0mdf\u001b[0m\u001b[1;33m,\u001b[0m \u001b[0mcompany_name_col\u001b[0m\u001b[1;33m,\u001b[0m \u001b[0mnew_col_name\u001b[0m\u001b[1;33m)\u001b[0m\u001b[1;33m:\u001b[0m\u001b[1;33m\u001b[0m\u001b[0m\n\u001b[0;32m      4\u001b[0m     \u001b[0mdf\u001b[0m\u001b[1;33m[\u001b[0m\u001b[0mnew_col_name\u001b[0m\u001b[1;33m]\u001b[0m \u001b[1;33m=\u001b[0m \u001b[0mdf\u001b[0m\u001b[1;33m[\u001b[0m\u001b[0mcompany_name_col\u001b[0m\u001b[1;33m]\u001b[0m\u001b[1;33m.\u001b[0m\u001b[0mapply\u001b[0m\u001b[1;33m(\u001b[0m\u001b[0mname_process\u001b[0m\u001b[1;33m)\u001b[0m\u001b[1;33m\u001b[0m\u001b[0m\n\u001b[0;32m      5\u001b[0m \u001b[1;33m\u001b[0m\u001b[0m\n",
      "\u001b[1;32m~\\AppData\\Local\\Programs\\Python\\Python37-32\\lib\\site-packages\\pandas\\__init__.py\u001b[0m in \u001b[0;36m<module>\u001b[1;34m\u001b[0m\n\u001b[0;32m    145\u001b[0m \u001b[1;32mfrom\u001b[0m \u001b[0mpandas\u001b[0m\u001b[1;33m.\u001b[0m\u001b[0mutil\u001b[0m\u001b[1;33m.\u001b[0m\u001b[0m_print_versions\u001b[0m \u001b[1;32mimport\u001b[0m \u001b[0mshow_versions\u001b[0m\u001b[1;33m\u001b[0m\u001b[0m\n\u001b[0;32m    146\u001b[0m \u001b[1;33m\u001b[0m\u001b[0m\n\u001b[1;32m--> 147\u001b[1;33m from pandas.io.api import (\n\u001b[0m\u001b[0;32m    148\u001b[0m     \u001b[1;31m# excel\u001b[0m\u001b[1;33m\u001b[0m\u001b[1;33m\u001b[0m\u001b[0m\n\u001b[0;32m    149\u001b[0m     \u001b[0mExcelFile\u001b[0m\u001b[1;33m,\u001b[0m\u001b[1;33m\u001b[0m\u001b[0m\n",
      "\u001b[1;32m~\\AppData\\Local\\Programs\\Python\\Python37-32\\lib\\site-packages\\pandas\\io\\api.py\u001b[0m in \u001b[0;36m<module>\u001b[1;34m\u001b[0m\n\u001b[0;32m      6\u001b[0m \u001b[1;33m\u001b[0m\u001b[0m\n\u001b[0;32m      7\u001b[0m \u001b[1;32mfrom\u001b[0m \u001b[0mpandas\u001b[0m\u001b[1;33m.\u001b[0m\u001b[0mio\u001b[0m\u001b[1;33m.\u001b[0m\u001b[0mclipboards\u001b[0m \u001b[1;32mimport\u001b[0m \u001b[0mread_clipboard\u001b[0m\u001b[1;33m\u001b[0m\u001b[0m\n\u001b[1;32m----> 8\u001b[1;33m \u001b[1;32mfrom\u001b[0m \u001b[0mpandas\u001b[0m\u001b[1;33m.\u001b[0m\u001b[0mio\u001b[0m\u001b[1;33m.\u001b[0m\u001b[0mexcel\u001b[0m \u001b[1;32mimport\u001b[0m \u001b[0mExcelFile\u001b[0m\u001b[1;33m,\u001b[0m \u001b[0mExcelWriter\u001b[0m\u001b[1;33m,\u001b[0m \u001b[0mread_excel\u001b[0m\u001b[1;33m\u001b[0m\u001b[0m\n\u001b[0m\u001b[0;32m      9\u001b[0m \u001b[1;32mfrom\u001b[0m \u001b[0mpandas\u001b[0m\u001b[1;33m.\u001b[0m\u001b[0mio\u001b[0m\u001b[1;33m.\u001b[0m\u001b[0mfeather_format\u001b[0m \u001b[1;32mimport\u001b[0m \u001b[0mread_feather\u001b[0m\u001b[1;33m\u001b[0m\u001b[0m\n\u001b[0;32m     10\u001b[0m \u001b[1;32mfrom\u001b[0m \u001b[0mpandas\u001b[0m\u001b[1;33m.\u001b[0m\u001b[0mio\u001b[0m\u001b[1;33m.\u001b[0m\u001b[0mgbq\u001b[0m \u001b[1;32mimport\u001b[0m \u001b[0mread_gbq\u001b[0m\u001b[1;33m\u001b[0m\u001b[0m\n",
      "\u001b[1;32m~\\AppData\\Local\\Programs\\Python\\Python37-32\\lib\\site-packages\\pandas\\io\\excel\\__init__.py\u001b[0m in \u001b[0;36m<module>\u001b[1;34m\u001b[0m\n\u001b[1;32m----> 1\u001b[1;33m \u001b[1;32mfrom\u001b[0m \u001b[0mpandas\u001b[0m\u001b[1;33m.\u001b[0m\u001b[0mio\u001b[0m\u001b[1;33m.\u001b[0m\u001b[0mexcel\u001b[0m\u001b[1;33m.\u001b[0m\u001b[0m_base\u001b[0m \u001b[1;32mimport\u001b[0m \u001b[0mExcelFile\u001b[0m\u001b[1;33m,\u001b[0m \u001b[0mExcelWriter\u001b[0m\u001b[1;33m,\u001b[0m \u001b[0mread_excel\u001b[0m\u001b[1;33m\u001b[0m\u001b[0m\n\u001b[0m\u001b[0;32m      2\u001b[0m \u001b[1;32mfrom\u001b[0m \u001b[0mpandas\u001b[0m\u001b[1;33m.\u001b[0m\u001b[0mio\u001b[0m\u001b[1;33m.\u001b[0m\u001b[0mexcel\u001b[0m\u001b[1;33m.\u001b[0m\u001b[0m_openpyxl\u001b[0m \u001b[1;32mimport\u001b[0m \u001b[0m_OpenpyxlWriter\u001b[0m\u001b[1;33m\u001b[0m\u001b[0m\n\u001b[0;32m      3\u001b[0m \u001b[1;32mfrom\u001b[0m \u001b[0mpandas\u001b[0m\u001b[1;33m.\u001b[0m\u001b[0mio\u001b[0m\u001b[1;33m.\u001b[0m\u001b[0mexcel\u001b[0m\u001b[1;33m.\u001b[0m\u001b[0m_util\u001b[0m \u001b[1;32mimport\u001b[0m \u001b[0mregister_writer\u001b[0m\u001b[1;33m\u001b[0m\u001b[0m\n\u001b[0;32m      4\u001b[0m \u001b[1;32mfrom\u001b[0m \u001b[0mpandas\u001b[0m\u001b[1;33m.\u001b[0m\u001b[0mio\u001b[0m\u001b[1;33m.\u001b[0m\u001b[0mexcel\u001b[0m\u001b[1;33m.\u001b[0m\u001b[0m_xlsxwriter\u001b[0m \u001b[1;32mimport\u001b[0m \u001b[0m_XlsxWriter\u001b[0m\u001b[1;33m\u001b[0m\u001b[0m\n\u001b[0;32m      5\u001b[0m \u001b[1;32mfrom\u001b[0m \u001b[0mpandas\u001b[0m\u001b[1;33m.\u001b[0m\u001b[0mio\u001b[0m\u001b[1;33m.\u001b[0m\u001b[0mexcel\u001b[0m\u001b[1;33m.\u001b[0m\u001b[0m_xlwt\u001b[0m \u001b[1;32mimport\u001b[0m \u001b[0m_XlwtWriter\u001b[0m\u001b[1;33m\u001b[0m\u001b[0m\n",
      "\u001b[1;32m~\\AppData\\Local\\Programs\\Python\\Python37-32\\lib\\site-packages\\pandas\\io\\excel\\_base.py\u001b[0m in \u001b[0;36m<module>\u001b[1;34m\u001b[0m\n\u001b[0;32m     31\u001b[0m )\n\u001b[0;32m     32\u001b[0m \u001b[1;32mfrom\u001b[0m \u001b[0mpandas\u001b[0m\u001b[1;33m.\u001b[0m\u001b[0mio\u001b[0m\u001b[1;33m.\u001b[0m\u001b[0mformats\u001b[0m\u001b[1;33m.\u001b[0m\u001b[0mprinting\u001b[0m \u001b[1;32mimport\u001b[0m \u001b[0mpprint_thing\u001b[0m\u001b[1;33m\u001b[0m\u001b[0m\n\u001b[1;32m---> 33\u001b[1;33m \u001b[1;32mfrom\u001b[0m \u001b[0mpandas\u001b[0m\u001b[1;33m.\u001b[0m\u001b[0mio\u001b[0m\u001b[1;33m.\u001b[0m\u001b[0mparsers\u001b[0m \u001b[1;32mimport\u001b[0m \u001b[0mTextParser\u001b[0m\u001b[1;33m\u001b[0m\u001b[0m\n\u001b[0m\u001b[0;32m     34\u001b[0m \u001b[1;33m\u001b[0m\u001b[0m\n\u001b[0;32m     35\u001b[0m _read_excel_doc = (\n",
      "\u001b[1;32m~\\AppData\\Local\\Programs\\Python\\Python37-32\\lib\\site-packages\\pandas\\io\\parsers.py\u001b[0m in \u001b[0;36m<module>\u001b[1;34m\u001b[0m\n\u001b[0;32m     17\u001b[0m \u001b[1;32mimport\u001b[0m \u001b[0mpandas\u001b[0m\u001b[1;33m.\u001b[0m\u001b[0m_libs\u001b[0m\u001b[1;33m.\u001b[0m\u001b[0mlib\u001b[0m \u001b[1;32mas\u001b[0m \u001b[0mlib\u001b[0m\u001b[1;33m\u001b[0m\u001b[0m\n\u001b[0;32m     18\u001b[0m \u001b[1;32mimport\u001b[0m \u001b[0mpandas\u001b[0m\u001b[1;33m.\u001b[0m\u001b[0m_libs\u001b[0m\u001b[1;33m.\u001b[0m\u001b[0mops\u001b[0m \u001b[1;32mas\u001b[0m \u001b[0mlibops\u001b[0m\u001b[1;33m\u001b[0m\u001b[0m\n\u001b[1;32m---> 19\u001b[1;33m \u001b[1;32mimport\u001b[0m \u001b[0mpandas\u001b[0m\u001b[1;33m.\u001b[0m\u001b[0m_libs\u001b[0m\u001b[1;33m.\u001b[0m\u001b[0mparsers\u001b[0m \u001b[1;32mas\u001b[0m \u001b[0mparsers\u001b[0m\u001b[1;33m\u001b[0m\u001b[0m\n\u001b[0m\u001b[0;32m     20\u001b[0m \u001b[1;32mfrom\u001b[0m \u001b[0mpandas\u001b[0m\u001b[1;33m.\u001b[0m\u001b[0m_libs\u001b[0m\u001b[1;33m.\u001b[0m\u001b[0mtslibs\u001b[0m \u001b[1;32mimport\u001b[0m \u001b[0mparsing\u001b[0m\u001b[1;33m\u001b[0m\u001b[0m\n\u001b[0;32m     21\u001b[0m from pandas.errors import (\n",
      "\u001b[1;32m~\\AppData\\Local\\Programs\\Python\\Python37-32\\lib\\importlib\\_bootstrap.py\u001b[0m in \u001b[0;36mparent\u001b[1;34m(self)\u001b[0m\n",
      "\u001b[1;31mKeyboardInterrupt\u001b[0m: "
     ]
    }
   ],
   "source": [
    "from utilities import get_files"
   ]
  },
  {
   "cell_type": "code",
   "execution_count": 16,
   "metadata": {},
   "outputs": [],
   "source": [
    "for f in csvs:\n",
    "    df = pd.read_csv(f)\n",
    "    link_to_id_all(master, df)\n",
    "    separate_df_by_location(df, \"C:\\\\Users\\\\Spencer\\\\Desktop\\\\clean\\\\data\\\\Pushpinder\\\\csvs\\\\by_location\")"
   ]
  },
  {
   "cell_type": "code",
   "execution_count": 1,
   "metadata": {},
   "outputs": [],
   "source": [
    "from utilities import html_to_stars"
   ]
  },
  {
   "cell_type": "code",
   "execution_count": 1,
   "metadata": {},
   "outputs": [],
   "source": [
    "import pandas as pd"
   ]
  },
  {
   "cell_type": "code",
   "execution_count": 3,
   "metadata": {},
   "outputs": [],
   "source": [
    "test_file = pd.read_csv(\"C:\\\\Users\\\\Spencer\\\\Desktop\\\\clean\\\\data\\\\Pushpinder\\\\csvs\\\\by_location\\\\with_addresses\\\\1000822574.csv\")"
   ]
  },
  {
   "cell_type": "code",
   "execution_count": 4,
   "metadata": {},
   "outputs": [
    {
     "output_type": "execute_result",
     "data": {
      "text/plain": [
       "                                              Field1        Field5  \\\n",
       "0  <span aria-label=\" 1 star \" role=\"img\" jstcach...   a month ago   \n",
       "1  <span aria-label=\" 5 stars \" role=\"img\" jstcac...    a year ago   \n",
       "2  <span aria-label=\" 5 stars \" role=\"img\" jstcac...   3 weeks ago   \n",
       "3  <span aria-label=\" 4 stars \" role=\"img\" jstcac...   3 weeks ago   \n",
       "4  <span aria-label=\" 5 stars \" role=\"img\" jstcac...  7 months ago   \n",
       "\n",
       "                                              Field6  \\\n",
       "0  In the 20+ years I've gone to this Little Caes...   \n",
       "1         Fast service...great pizza and good prices   \n",
       "2  Pizza is good and cheap. Cooked to order is fa...   \n",
       "3       Good cheap pizza. Sometimes you have to wait   \n",
       "4  I love the idea that the pizzas are made while...   \n",
       "\n",
       "                                           Task URL1  Store Company ID  \\\n",
       "0  https://www.google.com/maps/place/Little+Caesa...        1000822574   \n",
       "1  https://www.google.com/maps/place/Little+Caesa...        1000822574   \n",
       "2  https://www.google.com/maps/place/Little+Caesa...        1000822574   \n",
       "3  https://www.google.com/maps/place/Little+Caesa...        1000822574   \n",
       "4  https://www.google.com/maps/place/Little+Caesa...        1000822574   \n",
       "\n",
       "                                        Full Address  \n",
       "0  Little Caesars Pizza 100 E Tabor Ave FAIRFIELD...  \n",
       "1  Little Caesars Pizza 100 E Tabor Ave FAIRFIELD...  \n",
       "2  Little Caesars Pizza 100 E Tabor Ave FAIRFIELD...  \n",
       "3  Little Caesars Pizza 100 E Tabor Ave FAIRFIELD...  \n",
       "4  Little Caesars Pizza 100 E Tabor Ave FAIRFIELD...  "
      ],
      "text/html": "<div>\n<style scoped>\n    .dataframe tbody tr th:only-of-type {\n        vertical-align: middle;\n    }\n\n    .dataframe tbody tr th {\n        vertical-align: top;\n    }\n\n    .dataframe thead th {\n        text-align: right;\n    }\n</style>\n<table border=\"1\" class=\"dataframe\">\n  <thead>\n    <tr style=\"text-align: right;\">\n      <th></th>\n      <th>Field1</th>\n      <th>Field5</th>\n      <th>Field6</th>\n      <th>Task URL1</th>\n      <th>Store Company ID</th>\n      <th>Full Address</th>\n    </tr>\n  </thead>\n  <tbody>\n    <tr>\n      <td>0</td>\n      <td>&lt;span aria-label=\" 1 star \" role=\"img\" jstcach...</td>\n      <td>a month ago</td>\n      <td>In the 20+ years I've gone to this Little Caes...</td>\n      <td>https://www.google.com/maps/place/Little+Caesa...</td>\n      <td>1000822574</td>\n      <td>Little Caesars Pizza 100 E Tabor Ave FAIRFIELD...</td>\n    </tr>\n    <tr>\n      <td>1</td>\n      <td>&lt;span aria-label=\" 5 stars \" role=\"img\" jstcac...</td>\n      <td>a year ago</td>\n      <td>Fast service...great pizza and good prices</td>\n      <td>https://www.google.com/maps/place/Little+Caesa...</td>\n      <td>1000822574</td>\n      <td>Little Caesars Pizza 100 E Tabor Ave FAIRFIELD...</td>\n    </tr>\n    <tr>\n      <td>2</td>\n      <td>&lt;span aria-label=\" 5 stars \" role=\"img\" jstcac...</td>\n      <td>3 weeks ago</td>\n      <td>Pizza is good and cheap. Cooked to order is fa...</td>\n      <td>https://www.google.com/maps/place/Little+Caesa...</td>\n      <td>1000822574</td>\n      <td>Little Caesars Pizza 100 E Tabor Ave FAIRFIELD...</td>\n    </tr>\n    <tr>\n      <td>3</td>\n      <td>&lt;span aria-label=\" 4 stars \" role=\"img\" jstcac...</td>\n      <td>3 weeks ago</td>\n      <td>Good cheap pizza. Sometimes you have to wait</td>\n      <td>https://www.google.com/maps/place/Little+Caesa...</td>\n      <td>1000822574</td>\n      <td>Little Caesars Pizza 100 E Tabor Ave FAIRFIELD...</td>\n    </tr>\n    <tr>\n      <td>4</td>\n      <td>&lt;span aria-label=\" 5 stars \" role=\"img\" jstcac...</td>\n      <td>7 months ago</td>\n      <td>I love the idea that the pizzas are made while...</td>\n      <td>https://www.google.com/maps/place/Little+Caesa...</td>\n      <td>1000822574</td>\n      <td>Little Caesars Pizza 100 E Tabor Ave FAIRFIELD...</td>\n    </tr>\n  </tbody>\n</table>\n</div>"
     },
     "metadata": {},
     "execution_count": 4
    }
   ],
   "source": [
    "test_file.head()"
   ]
  },
  {
   "cell_type": "code",
   "execution_count": 5,
   "metadata": {},
   "outputs": [],
   "source": [
    "test_file[\"stars\"] = test_file[\"Field1\"].apply(html_to_stars)"
   ]
  },
  {
   "cell_type": "code",
   "execution_count": 7,
   "metadata": {},
   "outputs": [
    {
     "output_type": "execute_result",
     "data": {
      "text/plain": [
       "array([1, 5, 4, 2, 3], dtype=int64)"
      ]
     },
     "metadata": {},
     "execution_count": 7
    }
   ],
   "source": [
    "test_file[\"stars\"].unique()"
   ]
  },
  {
   "cell_type": "code",
   "execution_count": 3,
   "metadata": {},
   "outputs": [],
   "source": [
    "master = pd.read_csv(\"C:\\\\Users\\\\Spencer\\\\Desktop\\\\clean\\\\data\\\\master_review_counts.csv\")"
   ]
  },
  {
   "cell_type": "code",
   "execution_count": 5,
   "metadata": {},
   "outputs": [
    {
     "output_type": "execute_result",
     "data": {
      "text/plain": [
       "\"Domino's\""
      ]
     },
     "metadata": {},
     "execution_count": 5
    }
   ],
   "source": [
    "list(master[master[\"Store Company ID\"]==1000908188][\"Company Name\"])[0]"
   ]
  },
  {
   "cell_type": "code",
   "execution_count": 1,
   "metadata": {},
   "outputs": [],
   "source": [
    "from utilities import stack_files"
   ]
  },
  {
   "cell_type": "code",
   "execution_count": 2,
   "metadata": {},
   "outputs": [
    {
     "output_type": "stream",
     "name": "stdout",
     "text": [
      "271 stacked\n"
     ]
    }
   ],
   "source": [
    "output_path = \"C:\\\\Users\\\\Spencer\\\\Desktop\\\\clean\\\\data\\\\final_processed_v1\\\\final_data_v1.csv\"\n",
    "directory_path = \"C:\\\\Users\\\\Spencer\\\\Desktop\\\\clean\\\\data\\\\final_processed_v1\"\n",
    "stack_files(directory_path, output_path)"
   ]
  },
  {
   "cell_type": "code",
   "execution_count": 1,
   "metadata": {},
   "outputs": [],
   "source": [
    "import pandas as pd"
   ]
  },
  {
   "cell_type": "code",
   "execution_count": 20,
   "metadata": {},
   "outputs": [],
   "source": [
    "base_master = pd.read_csv(\"C:\\\\Users\\\\Spencer\\\\Desktop\\\\clean\\\\data\\\\master_review_counts.csv\")"
   ]
  },
  {
   "cell_type": "code",
   "execution_count": 21,
   "metadata": {},
   "outputs": [
    {
     "output_type": "execute_result",
     "data": {
      "text/plain": [
       "   Store Company ID  Industry ID                 Industry Name  \\\n",
       "0        2000626178           51  Locations: Chain Restaurants   \n",
       "1        2000626186           51  Locations: Chain Restaurants   \n",
       "2        2000626189           51  Locations: Chain Restaurants   \n",
       "3        2000626192           51  Locations: Chain Restaurants   \n",
       "4        2000626194           51  Locations: Chain Restaurants   \n",
       "\n",
       "                 Company Name               Address 1       City State  \\\n",
       "0  Anthony's Coal Fired Pizza         984 State Rt 17     RAMSEY    NJ   \n",
       "1  Anthony's Coal Fired Pizza         80 Parsonage Rd     EDISON    NJ   \n",
       "2  Anthony's Coal Fired Pizza       6401 Jericho Tpke    COMMACK    NY   \n",
       "3  Anthony's Coal Fired Pizza  50 East Wynnewood Road  WYNNEWOOD    PA   \n",
       "4  Anthony's Coal Fired Pizza     48 Walkers Brook Dr    READING    MA   \n",
       "\n",
       "          Zip Listing Type                   Country         Phone  \\\n",
       "0  07446-1607     Location  United States of America  2.018183e+09   \n",
       "1  08837-2416     Location  United States of America  7.327442e+09   \n",
       "2  11725-2832     Location  United States of America  6.318583e+09   \n",
       "3       19096     Location  United States of America  6.106455e+09   \n",
       "4  01867-3224     Location  United States of America  7.819448e+09   \n",
       "\n",
       "                                         Google Link  reviews_scraped  \\\n",
       "0  https://www.google.com/maps/place/Anthony's+Co...              385   \n",
       "1  https://www.google.com/maps/place/Anthony's+Co...              799   \n",
       "2  https://www.google.com/maps/place/Anthony's+Co...              388   \n",
       "3  https://www.google.com/maps/place/Anthony's+Co...              322   \n",
       "4  https://www.google.com/maps/place/Anthony's+Co...              203   \n",
       "\n",
       "   difference  proportion  review_count               company_name  \n",
       "0       -10.0    0.974684         395.0  anthonys_coal_fired_pizza  \n",
       "1       -25.0    0.969660         824.0  anthonys_coal_fired_pizza  \n",
       "2       -10.0    0.974874         398.0  anthonys_coal_fired_pizza  \n",
       "3       -10.0    0.969880         332.0  anthonys_coal_fired_pizza  \n",
       "4        -9.0    0.957547         212.0  anthonys_coal_fired_pizza  "
      ],
      "text/html": "<div>\n<style scoped>\n    .dataframe tbody tr th:only-of-type {\n        vertical-align: middle;\n    }\n\n    .dataframe tbody tr th {\n        vertical-align: top;\n    }\n\n    .dataframe thead th {\n        text-align: right;\n    }\n</style>\n<table border=\"1\" class=\"dataframe\">\n  <thead>\n    <tr style=\"text-align: right;\">\n      <th></th>\n      <th>Store Company ID</th>\n      <th>Industry ID</th>\n      <th>Industry Name</th>\n      <th>Company Name</th>\n      <th>Address 1</th>\n      <th>City</th>\n      <th>State</th>\n      <th>Zip</th>\n      <th>Listing Type</th>\n      <th>Country</th>\n      <th>Phone</th>\n      <th>Google Link</th>\n      <th>reviews_scraped</th>\n      <th>difference</th>\n      <th>proportion</th>\n      <th>review_count</th>\n      <th>company_name</th>\n    </tr>\n  </thead>\n  <tbody>\n    <tr>\n      <td>0</td>\n      <td>2000626178</td>\n      <td>51</td>\n      <td>Locations: Chain Restaurants</td>\n      <td>Anthony's Coal Fired Pizza</td>\n      <td>984 State Rt 17</td>\n      <td>RAMSEY</td>\n      <td>NJ</td>\n      <td>07446-1607</td>\n      <td>Location</td>\n      <td>United States of America</td>\n      <td>2.018183e+09</td>\n      <td>https://www.google.com/maps/place/Anthony's+Co...</td>\n      <td>385</td>\n      <td>-10.0</td>\n      <td>0.974684</td>\n      <td>395.0</td>\n      <td>anthonys_coal_fired_pizza</td>\n    </tr>\n    <tr>\n      <td>1</td>\n      <td>2000626186</td>\n      <td>51</td>\n      <td>Locations: Chain Restaurants</td>\n      <td>Anthony's Coal Fired Pizza</td>\n      <td>80 Parsonage Rd</td>\n      <td>EDISON</td>\n      <td>NJ</td>\n      <td>08837-2416</td>\n      <td>Location</td>\n      <td>United States of America</td>\n      <td>7.327442e+09</td>\n      <td>https://www.google.com/maps/place/Anthony's+Co...</td>\n      <td>799</td>\n      <td>-25.0</td>\n      <td>0.969660</td>\n      <td>824.0</td>\n      <td>anthonys_coal_fired_pizza</td>\n    </tr>\n    <tr>\n      <td>2</td>\n      <td>2000626189</td>\n      <td>51</td>\n      <td>Locations: Chain Restaurants</td>\n      <td>Anthony's Coal Fired Pizza</td>\n      <td>6401 Jericho Tpke</td>\n      <td>COMMACK</td>\n      <td>NY</td>\n      <td>11725-2832</td>\n      <td>Location</td>\n      <td>United States of America</td>\n      <td>6.318583e+09</td>\n      <td>https://www.google.com/maps/place/Anthony's+Co...</td>\n      <td>388</td>\n      <td>-10.0</td>\n      <td>0.974874</td>\n      <td>398.0</td>\n      <td>anthonys_coal_fired_pizza</td>\n    </tr>\n    <tr>\n      <td>3</td>\n      <td>2000626192</td>\n      <td>51</td>\n      <td>Locations: Chain Restaurants</td>\n      <td>Anthony's Coal Fired Pizza</td>\n      <td>50 East Wynnewood Road</td>\n      <td>WYNNEWOOD</td>\n      <td>PA</td>\n      <td>19096</td>\n      <td>Location</td>\n      <td>United States of America</td>\n      <td>6.106455e+09</td>\n      <td>https://www.google.com/maps/place/Anthony's+Co...</td>\n      <td>322</td>\n      <td>-10.0</td>\n      <td>0.969880</td>\n      <td>332.0</td>\n      <td>anthonys_coal_fired_pizza</td>\n    </tr>\n    <tr>\n      <td>4</td>\n      <td>2000626194</td>\n      <td>51</td>\n      <td>Locations: Chain Restaurants</td>\n      <td>Anthony's Coal Fired Pizza</td>\n      <td>48 Walkers Brook Dr</td>\n      <td>READING</td>\n      <td>MA</td>\n      <td>01867-3224</td>\n      <td>Location</td>\n      <td>United States of America</td>\n      <td>7.819448e+09</td>\n      <td>https://www.google.com/maps/place/Anthony's+Co...</td>\n      <td>203</td>\n      <td>-9.0</td>\n      <td>0.957547</td>\n      <td>212.0</td>\n      <td>anthonys_coal_fired_pizza</td>\n    </tr>\n  </tbody>\n</table>\n</div>"
     },
     "metadata": {},
     "execution_count": 21
    }
   ],
   "source": [
    "base_master.head()"
   ]
  },
  {
   "cell_type": "code",
   "execution_count": 6,
   "metadata": {},
   "outputs": [],
   "source": [
    "closed = pd.read_csv(\"C:\\\\Users\\\\Spencer\\\\Desktop\\\\clean\\\\data\\\\all_closed_locations.csv\")"
   ]
  },
  {
   "cell_type": "code",
   "execution_count": 7,
   "metadata": {},
   "outputs": [
    {
     "output_type": "execute_result",
     "data": {
      "text/plain": [
       "   Store Company ID          Company Name           Address 1         City  \\\n",
       "0        1000841652  Papa Gino's Pizzeria      1876 Boston Rd    WILBRAHAM   \n",
       "1        2000015899             Pizza Hut       793 Boston Rd  SPRINGFIELD   \n",
       "2        2000172731  Little Caesars Pizza      1762 Boston Rd  SPRINGFIELD   \n",
       "3        1000809575             Pizza Hut        180 South St   PITTSFIELD   \n",
       "4        1000862472  Papa Gino's Pizzeria  399 John Fitch Hwy    FITCHBURG   \n",
       "\n",
       "  State         Zip                   Country         Phone  \\\n",
       "0    MA  01095-1003  United States of America  4.135434e+09   \n",
       "1    MA  01119-1300  United States of America  4.133820e+09   \n",
       "2    MA  01129-1175  United States of America  4.135439e+09   \n",
       "3    MA  01201-6807  United States of America  4.134427e+09   \n",
       "4    MA  01420-4501  United States of America  9.783451e+09   \n",
       "\n",
       "           company_name  \n",
       "0   papa_ginos_pizzeria  \n",
       "1             pizza_hut  \n",
       "2  little_caesars_pizza  \n",
       "3             pizza_hut  \n",
       "4   papa_ginos_pizzeria  "
      ],
      "text/html": "<div>\n<style scoped>\n    .dataframe tbody tr th:only-of-type {\n        vertical-align: middle;\n    }\n\n    .dataframe tbody tr th {\n        vertical-align: top;\n    }\n\n    .dataframe thead th {\n        text-align: right;\n    }\n</style>\n<table border=\"1\" class=\"dataframe\">\n  <thead>\n    <tr style=\"text-align: right;\">\n      <th></th>\n      <th>Store Company ID</th>\n      <th>Company Name</th>\n      <th>Address 1</th>\n      <th>City</th>\n      <th>State</th>\n      <th>Zip</th>\n      <th>Country</th>\n      <th>Phone</th>\n      <th>company_name</th>\n    </tr>\n  </thead>\n  <tbody>\n    <tr>\n      <td>0</td>\n      <td>1000841652</td>\n      <td>Papa Gino's Pizzeria</td>\n      <td>1876 Boston Rd</td>\n      <td>WILBRAHAM</td>\n      <td>MA</td>\n      <td>01095-1003</td>\n      <td>United States of America</td>\n      <td>4.135434e+09</td>\n      <td>papa_ginos_pizzeria</td>\n    </tr>\n    <tr>\n      <td>1</td>\n      <td>2000015899</td>\n      <td>Pizza Hut</td>\n      <td>793 Boston Rd</td>\n      <td>SPRINGFIELD</td>\n      <td>MA</td>\n      <td>01119-1300</td>\n      <td>United States of America</td>\n      <td>4.133820e+09</td>\n      <td>pizza_hut</td>\n    </tr>\n    <tr>\n      <td>2</td>\n      <td>2000172731</td>\n      <td>Little Caesars Pizza</td>\n      <td>1762 Boston Rd</td>\n      <td>SPRINGFIELD</td>\n      <td>MA</td>\n      <td>01129-1175</td>\n      <td>United States of America</td>\n      <td>4.135439e+09</td>\n      <td>little_caesars_pizza</td>\n    </tr>\n    <tr>\n      <td>3</td>\n      <td>1000809575</td>\n      <td>Pizza Hut</td>\n      <td>180 South St</td>\n      <td>PITTSFIELD</td>\n      <td>MA</td>\n      <td>01201-6807</td>\n      <td>United States of America</td>\n      <td>4.134427e+09</td>\n      <td>pizza_hut</td>\n    </tr>\n    <tr>\n      <td>4</td>\n      <td>1000862472</td>\n      <td>Papa Gino's Pizzeria</td>\n      <td>399 John Fitch Hwy</td>\n      <td>FITCHBURG</td>\n      <td>MA</td>\n      <td>01420-4501</td>\n      <td>United States of America</td>\n      <td>9.783451e+09</td>\n      <td>papa_ginos_pizzeria</td>\n    </tr>\n  </tbody>\n</table>\n</div>"
     },
     "metadata": {},
     "execution_count": 7
    }
   ],
   "source": [
    "closed.head()"
   ]
  },
  {
   "cell_type": "code",
   "execution_count": 19,
   "metadata": {},
   "outputs": [],
   "source": [
    "base_master = base_master.iloc[:,[0, 3, 4, 5, 6, 7, 9, 10, 16]]"
   ]
  },
  {
   "cell_type": "code",
   "execution_count": 32,
   "metadata": {},
   "outputs": [],
   "source": [
    "large = base_master[base_master[\"review_count\"] > 2000]"
   ]
  },
  {
   "cell_type": "code",
   "execution_count": 25,
   "metadata": {},
   "outputs": [],
   "source": [
    "final = pd.read_csv(\"C:\\\\Users\\\\Spencer\\\\Box Sync\\\\final_data_v1\\\\final_data_v1.csv\")"
   ]
  },
  {
   "cell_type": "code",
   "execution_count": 28,
   "metadata": {},
   "outputs": [],
   "source": [
    "scraped_ids = list(final[\"Store Company ID\"])"
   ]
  },
  {
   "cell_type": "code",
   "execution_count": 33,
   "metadata": {},
   "outputs": [
    {
     "output_type": "execute_result",
     "data": {
      "text/plain": [
       "       Store Company ID  Industry ID                 Industry Name  \\\n",
       "16423        1000869386           51  Locations: Chain Restaurants   \n",
       "16425        1000879884           51  Locations: Chain Restaurants   \n",
       "27064        2000634988           51  Locations: Chain Restaurants   \n",
       "27065        2000634943           51  Locations: Chain Restaurants   \n",
       "27076        2000628658           51  Locations: Chain Restaurants   \n",
       "27077        2000628667           51  Locations: Chain Restaurants   \n",
       "27160        2000614256           51  Locations: Chain Restaurants   \n",
       "28883        2000182576           51  Locations: Chain Restaurants   \n",
       "28891        1000928136           51  Locations: Chain Restaurants   \n",
       "28893        1000937920           51  Locations: Chain Restaurants   \n",
       "\n",
       "                Company Name                                  Address 1  \\\n",
       "16423           CiCi's Pizza           5035 W Irlo Bronson Memorial Hwy   \n",
       "16425           CiCi's Pizza                      7437 International Dr   \n",
       "27064  Lou Malnatis Pizzeria                             1 S Roselle Rd   \n",
       "27065  Lou Malnatis Pizzeria                            1120 N State St   \n",
       "27076        Mellow Mushroom                      2630 Gulf To Bay Blvd   \n",
       "27077        Mellow Mushroom                               2485 Parkway   \n",
       "27160         Pie Five Pizza  Baltimorewashington International Airport   \n",
       "28883                 Sbarro                     5800 Tri State Toll Rd   \n",
       "28891                 Sbarro                           400 Bald Hill Rd   \n",
       "28893                 Sbarro                       1700 W New Haven Ave   \n",
       "\n",
       "               City State         Zip Listing Type                   Country  \\\n",
       "16423     KISSIMMEE    FL  34746-5345     Location  United States of America   \n",
       "16425       ORLANDO    FL  32819-8248     Location  United States of America   \n",
       "27064    SCHAUMBURG    IL  60193-1638     Location  United States of America   \n",
       "27065       CHICAGO    IL  60610-2718     Location  United States of America   \n",
       "27076    CLEARWATER    FL  33759-3901     Location  United States of America   \n",
       "27077  PIGEON FORGE    TN  37863-3228     Location  United States of America   \n",
       "27160     BALTIMORE    MD  21240-2005     Location  United States of America   \n",
       "28883      HINSDALE    IL  60521-5801     Location  United States of America   \n",
       "28891       WARWICK    RI  02886-1617     Location  United States of America   \n",
       "28893     MELBOURNE    FL  32904-3971     Location  United States of America   \n",
       "\n",
       "              Phone                                        Google Link  \\\n",
       "16423  4.073909e+09  https://www.google.com/maps/place/Cicis+Pizza/...   \n",
       "16425  4.072270e+09  https://www.google.com/maps/place/Cicis+Pizza/...   \n",
       "27064  8.479852e+09  https://www.google.com/maps/place/Lou+Malnati'...   \n",
       "27065  3.127258e+09  https://www.google.com/maps/place/Lou+Malnati'...   \n",
       "27076  7.277232e+09  https://www.google.com/maps/place/Mellow+Mushr...   \n",
       "27077  8.652862e+09  https://www.google.com/maps/place/Mellow+Mushr...   \n",
       "27160  4.108509e+09  https://www.google.com/maps/place/Baltimore%2F...   \n",
       "28883  6.303219e+09  https://www.google.com/maps/place/Sbarro/@41.7...   \n",
       "28891  4.016815e+09  https://www.google.com/maps/place/Sbarro/@41.8...   \n",
       "28893  3.215864e+09  https://www.google.com/maps/place/Sbarro/@28.0...   \n",
       "\n",
       "       reviews_scraped  difference  proportion  review_count  \\\n",
       "16423                0     -2585.0         0.0        2585.0   \n",
       "16425                0     -3119.0         0.0        3119.0   \n",
       "27064                0     -3153.0         0.0        3153.0   \n",
       "27065                0     -3889.0         0.0        3889.0   \n",
       "27076                0     -2628.0         0.0        2628.0   \n",
       "27077                0     -3781.0         0.0        3781.0   \n",
       "27160                0     -4583.0         0.0        4583.0   \n",
       "28883                0     -5465.0         0.0        5465.0   \n",
       "28891                0     -4815.0         0.0        4815.0   \n",
       "28893                0     -4541.0         0.0        4541.0   \n",
       "\n",
       "                company_name  \n",
       "16423            cicis_pizza  \n",
       "16425            cicis_pizza  \n",
       "27064  lou_malnatis_pizzeria  \n",
       "27065  lou_malnatis_pizzeria  \n",
       "27076        mellow_mushroom  \n",
       "27077        mellow_mushroom  \n",
       "27160         pie_five_pizza  \n",
       "28883                 sbarro  \n",
       "28891                 sbarro  \n",
       "28893                 sbarro  "
      ],
      "text/html": "<div>\n<style scoped>\n    .dataframe tbody tr th:only-of-type {\n        vertical-align: middle;\n    }\n\n    .dataframe tbody tr th {\n        vertical-align: top;\n    }\n\n    .dataframe thead th {\n        text-align: right;\n    }\n</style>\n<table border=\"1\" class=\"dataframe\">\n  <thead>\n    <tr style=\"text-align: right;\">\n      <th></th>\n      <th>Store Company ID</th>\n      <th>Industry ID</th>\n      <th>Industry Name</th>\n      <th>Company Name</th>\n      <th>Address 1</th>\n      <th>City</th>\n      <th>State</th>\n      <th>Zip</th>\n      <th>Listing Type</th>\n      <th>Country</th>\n      <th>Phone</th>\n      <th>Google Link</th>\n      <th>reviews_scraped</th>\n      <th>difference</th>\n      <th>proportion</th>\n      <th>review_count</th>\n      <th>company_name</th>\n    </tr>\n  </thead>\n  <tbody>\n    <tr>\n      <td>16423</td>\n      <td>1000869386</td>\n      <td>51</td>\n      <td>Locations: Chain Restaurants</td>\n      <td>CiCi's Pizza</td>\n      <td>5035 W Irlo Bronson Memorial Hwy</td>\n      <td>KISSIMMEE</td>\n      <td>FL</td>\n      <td>34746-5345</td>\n      <td>Location</td>\n      <td>United States of America</td>\n      <td>4.073909e+09</td>\n      <td>https://www.google.com/maps/place/Cicis+Pizza/...</td>\n      <td>0</td>\n      <td>-2585.0</td>\n      <td>0.0</td>\n      <td>2585.0</td>\n      <td>cicis_pizza</td>\n    </tr>\n    <tr>\n      <td>16425</td>\n      <td>1000879884</td>\n      <td>51</td>\n      <td>Locations: Chain Restaurants</td>\n      <td>CiCi's Pizza</td>\n      <td>7437 International Dr</td>\n      <td>ORLANDO</td>\n      <td>FL</td>\n      <td>32819-8248</td>\n      <td>Location</td>\n      <td>United States of America</td>\n      <td>4.072270e+09</td>\n      <td>https://www.google.com/maps/place/Cicis+Pizza/...</td>\n      <td>0</td>\n      <td>-3119.0</td>\n      <td>0.0</td>\n      <td>3119.0</td>\n      <td>cicis_pizza</td>\n    </tr>\n    <tr>\n      <td>27064</td>\n      <td>2000634988</td>\n      <td>51</td>\n      <td>Locations: Chain Restaurants</td>\n      <td>Lou Malnatis Pizzeria</td>\n      <td>1 S Roselle Rd</td>\n      <td>SCHAUMBURG</td>\n      <td>IL</td>\n      <td>60193-1638</td>\n      <td>Location</td>\n      <td>United States of America</td>\n      <td>8.479852e+09</td>\n      <td>https://www.google.com/maps/place/Lou+Malnati'...</td>\n      <td>0</td>\n      <td>-3153.0</td>\n      <td>0.0</td>\n      <td>3153.0</td>\n      <td>lou_malnatis_pizzeria</td>\n    </tr>\n    <tr>\n      <td>27065</td>\n      <td>2000634943</td>\n      <td>51</td>\n      <td>Locations: Chain Restaurants</td>\n      <td>Lou Malnatis Pizzeria</td>\n      <td>1120 N State St</td>\n      <td>CHICAGO</td>\n      <td>IL</td>\n      <td>60610-2718</td>\n      <td>Location</td>\n      <td>United States of America</td>\n      <td>3.127258e+09</td>\n      <td>https://www.google.com/maps/place/Lou+Malnati'...</td>\n      <td>0</td>\n      <td>-3889.0</td>\n      <td>0.0</td>\n      <td>3889.0</td>\n      <td>lou_malnatis_pizzeria</td>\n    </tr>\n    <tr>\n      <td>27076</td>\n      <td>2000628658</td>\n      <td>51</td>\n      <td>Locations: Chain Restaurants</td>\n      <td>Mellow Mushroom</td>\n      <td>2630 Gulf To Bay Blvd</td>\n      <td>CLEARWATER</td>\n      <td>FL</td>\n      <td>33759-3901</td>\n      <td>Location</td>\n      <td>United States of America</td>\n      <td>7.277232e+09</td>\n      <td>https://www.google.com/maps/place/Mellow+Mushr...</td>\n      <td>0</td>\n      <td>-2628.0</td>\n      <td>0.0</td>\n      <td>2628.0</td>\n      <td>mellow_mushroom</td>\n    </tr>\n    <tr>\n      <td>27077</td>\n      <td>2000628667</td>\n      <td>51</td>\n      <td>Locations: Chain Restaurants</td>\n      <td>Mellow Mushroom</td>\n      <td>2485 Parkway</td>\n      <td>PIGEON FORGE</td>\n      <td>TN</td>\n      <td>37863-3228</td>\n      <td>Location</td>\n      <td>United States of America</td>\n      <td>8.652862e+09</td>\n      <td>https://www.google.com/maps/place/Mellow+Mushr...</td>\n      <td>0</td>\n      <td>-3781.0</td>\n      <td>0.0</td>\n      <td>3781.0</td>\n      <td>mellow_mushroom</td>\n    </tr>\n    <tr>\n      <td>27160</td>\n      <td>2000614256</td>\n      <td>51</td>\n      <td>Locations: Chain Restaurants</td>\n      <td>Pie Five Pizza</td>\n      <td>Baltimorewashington International Airport</td>\n      <td>BALTIMORE</td>\n      <td>MD</td>\n      <td>21240-2005</td>\n      <td>Location</td>\n      <td>United States of America</td>\n      <td>4.108509e+09</td>\n      <td>https://www.google.com/maps/place/Baltimore%2F...</td>\n      <td>0</td>\n      <td>-4583.0</td>\n      <td>0.0</td>\n      <td>4583.0</td>\n      <td>pie_five_pizza</td>\n    </tr>\n    <tr>\n      <td>28883</td>\n      <td>2000182576</td>\n      <td>51</td>\n      <td>Locations: Chain Restaurants</td>\n      <td>Sbarro</td>\n      <td>5800 Tri State Toll Rd</td>\n      <td>HINSDALE</td>\n      <td>IL</td>\n      <td>60521-5801</td>\n      <td>Location</td>\n      <td>United States of America</td>\n      <td>6.303219e+09</td>\n      <td>https://www.google.com/maps/place/Sbarro/@41.7...</td>\n      <td>0</td>\n      <td>-5465.0</td>\n      <td>0.0</td>\n      <td>5465.0</td>\n      <td>sbarro</td>\n    </tr>\n    <tr>\n      <td>28891</td>\n      <td>1000928136</td>\n      <td>51</td>\n      <td>Locations: Chain Restaurants</td>\n      <td>Sbarro</td>\n      <td>400 Bald Hill Rd</td>\n      <td>WARWICK</td>\n      <td>RI</td>\n      <td>02886-1617</td>\n      <td>Location</td>\n      <td>United States of America</td>\n      <td>4.016815e+09</td>\n      <td>https://www.google.com/maps/place/Sbarro/@41.8...</td>\n      <td>0</td>\n      <td>-4815.0</td>\n      <td>0.0</td>\n      <td>4815.0</td>\n      <td>sbarro</td>\n    </tr>\n    <tr>\n      <td>28893</td>\n      <td>1000937920</td>\n      <td>51</td>\n      <td>Locations: Chain Restaurants</td>\n      <td>Sbarro</td>\n      <td>1700 W New Haven Ave</td>\n      <td>MELBOURNE</td>\n      <td>FL</td>\n      <td>32904-3971</td>\n      <td>Location</td>\n      <td>United States of America</td>\n      <td>3.215864e+09</td>\n      <td>https://www.google.com/maps/place/Sbarro/@28.0...</td>\n      <td>0</td>\n      <td>-4541.0</td>\n      <td>0.0</td>\n      <td>4541.0</td>\n      <td>sbarro</td>\n    </tr>\n  </tbody>\n</table>\n</div>"
     },
     "metadata": {},
     "execution_count": 33
    }
   ],
   "source": [
    "large[~large[\"Store Company ID\"].isin(scraped_ids)]"
   ]
  },
  {
   "cell_type": "code",
   "execution_count": null,
   "metadata": {},
   "outputs": [],
   "source": []
  }
 ]
}