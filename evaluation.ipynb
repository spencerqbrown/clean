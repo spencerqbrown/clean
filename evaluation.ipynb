{
 "metadata": {
  "language_info": {
   "codemirror_mode": {
    "name": "ipython",
    "version": 3
   },
   "file_extension": ".py",
   "mimetype": "text/x-python",
   "name": "python",
   "nbconvert_exporter": "python",
   "pygments_lexer": "ipython3",
   "version": "3.7.0-final"
  },
  "orig_nbformat": 2,
  "kernelspec": {
   "name": "python3",
   "display_name": "Python 3"
  }
 },
 "nbformat": 4,
 "nbformat_minor": 2,
 "cells": [
  {
   "cell_type": "code",
   "execution_count": 1,
   "metadata": {},
   "outputs": [],
   "source": [
    "from evaluate import generate_google_link, add_url_column"
   ]
  },
  {
   "cell_type": "code",
   "execution_count": 2,
   "metadata": {},
   "outputs": [
    {
     "output_type": "execute_result",
     "data": {
      "text/plain": [
       "   Company ID  Industry ID                 Industry Name  \\\n",
       "0  2000626178           51  Locations: Chain Restaurants   \n",
       "1  2000626186           51  Locations: Chain Restaurants   \n",
       "2  2000626189           51  Locations: Chain Restaurants   \n",
       "3  2000626192           51  Locations: Chain Restaurants   \n",
       "4  2000626194           51  Locations: Chain Restaurants   \n",
       "\n",
       "                 Company Name               Address 1       City State  \\\n",
       "0  Anthony's Coal Fired Pizza         984 State Rt 17     RAMSEY    NJ   \n",
       "1  Anthony's Coal Fired Pizza         80 Parsonage Rd     EDISON    NJ   \n",
       "2  Anthony's Coal Fired Pizza       6401 Jericho Tpke    COMMACK    NY   \n",
       "3  Anthony's Coal Fired Pizza  50 East Wynnewood Road  WYNNEWOOD    PA   \n",
       "4  Anthony's Coal Fired Pizza     48 Walkers Brook Dr    READING    MA   \n",
       "\n",
       "          Zip Listing Type                   Country         Phone  \\\n",
       "0  07446-1607     Location  United States of America  2.018183e+09   \n",
       "1  08837-2416     Location  United States of America  7.327442e+09   \n",
       "2  11725-2832     Location  United States of America  6.318583e+09   \n",
       "3       19096     Location  United States of America  6.106455e+09   \n",
       "4  01867-3224     Location  United States of America  7.819448e+09   \n",
       "\n",
       "                                         Google Link  \n",
       "0  https://www.google.com/maps/place/Anthony's+Co...  \n",
       "1  https://www.google.com/maps/place/Anthony's+Co...  \n",
       "2  https://www.google.com/maps/place/Anthony's+Co...  \n",
       "3  https://www.google.com/maps/place/Anthony's+Co...  \n",
       "4  https://www.google.com/maps/place/Anthony's+Co...  "
      ],
      "text/html": "<div>\n<style scoped>\n    .dataframe tbody tr th:only-of-type {\n        vertical-align: middle;\n    }\n\n    .dataframe tbody tr th {\n        vertical-align: top;\n    }\n\n    .dataframe thead th {\n        text-align: right;\n    }\n</style>\n<table border=\"1\" class=\"dataframe\">\n  <thead>\n    <tr style=\"text-align: right;\">\n      <th></th>\n      <th>Company ID</th>\n      <th>Industry ID</th>\n      <th>Industry Name</th>\n      <th>Company Name</th>\n      <th>Address 1</th>\n      <th>City</th>\n      <th>State</th>\n      <th>Zip</th>\n      <th>Listing Type</th>\n      <th>Country</th>\n      <th>Phone</th>\n      <th>Google Link</th>\n    </tr>\n  </thead>\n  <tbody>\n    <tr>\n      <td>0</td>\n      <td>2000626178</td>\n      <td>51</td>\n      <td>Locations: Chain Restaurants</td>\n      <td>Anthony's Coal Fired Pizza</td>\n      <td>984 State Rt 17</td>\n      <td>RAMSEY</td>\n      <td>NJ</td>\n      <td>07446-1607</td>\n      <td>Location</td>\n      <td>United States of America</td>\n      <td>2.018183e+09</td>\n      <td>https://www.google.com/maps/place/Anthony's+Co...</td>\n    </tr>\n    <tr>\n      <td>1</td>\n      <td>2000626186</td>\n      <td>51</td>\n      <td>Locations: Chain Restaurants</td>\n      <td>Anthony's Coal Fired Pizza</td>\n      <td>80 Parsonage Rd</td>\n      <td>EDISON</td>\n      <td>NJ</td>\n      <td>08837-2416</td>\n      <td>Location</td>\n      <td>United States of America</td>\n      <td>7.327442e+09</td>\n      <td>https://www.google.com/maps/place/Anthony's+Co...</td>\n    </tr>\n    <tr>\n      <td>2</td>\n      <td>2000626189</td>\n      <td>51</td>\n      <td>Locations: Chain Restaurants</td>\n      <td>Anthony's Coal Fired Pizza</td>\n      <td>6401 Jericho Tpke</td>\n      <td>COMMACK</td>\n      <td>NY</td>\n      <td>11725-2832</td>\n      <td>Location</td>\n      <td>United States of America</td>\n      <td>6.318583e+09</td>\n      <td>https://www.google.com/maps/place/Anthony's+Co...</td>\n    </tr>\n    <tr>\n      <td>3</td>\n      <td>2000626192</td>\n      <td>51</td>\n      <td>Locations: Chain Restaurants</td>\n      <td>Anthony's Coal Fired Pizza</td>\n      <td>50 East Wynnewood Road</td>\n      <td>WYNNEWOOD</td>\n      <td>PA</td>\n      <td>19096</td>\n      <td>Location</td>\n      <td>United States of America</td>\n      <td>6.106455e+09</td>\n      <td>https://www.google.com/maps/place/Anthony's+Co...</td>\n    </tr>\n    <tr>\n      <td>4</td>\n      <td>2000626194</td>\n      <td>51</td>\n      <td>Locations: Chain Restaurants</td>\n      <td>Anthony's Coal Fired Pizza</td>\n      <td>48 Walkers Brook Dr</td>\n      <td>READING</td>\n      <td>MA</td>\n      <td>01867-3224</td>\n      <td>Location</td>\n      <td>United States of America</td>\n      <td>7.819448e+09</td>\n      <td>https://www.google.com/maps/place/Anthony's+Co...</td>\n    </tr>\n  </tbody>\n</table>\n</div>"
     },
     "metadata": {},
     "execution_count": 2
    }
   ],
   "source": [
    "import pandas as pd \n",
    "test = pd.read_excel(\"C:\\\\Users\\\\Spencer\\\\Desktop\\\\clean\\\\data\\\\data.xlsx\")\n",
    "test.head()"
   ]
  },
  {
   "cell_type": "code",
   "execution_count": 4,
   "metadata": {},
   "outputs": [
    {
     "output_type": "execute_result",
     "data": {
      "text/plain": [
       "\"https://www.google.com/search?q=Anthony's Coal Fired Pizza+984 State Rt 17+RAMSEY+NJ+07446-1607\""
      ]
     },
     "metadata": {},
     "execution_count": 4
    }
   ],
   "source": [
    "test.loc[:, [\"Company Name\", \"Address 1\", \"City\", \"State\", \"Zip\"]].apply(generate_google_link, axis=1)[0]"
   ]
  },
  {
   "cell_type": "code",
   "execution_count": 3,
   "metadata": {},
   "outputs": [],
   "source": [
    "add_url_column(test, [\"Company Name\", \"Address 1\", \"City\", \"State\", \"Zip\"], \"url\")"
   ]
  },
  {
   "cell_type": "code",
   "execution_count": 1,
   "metadata": {},
   "outputs": [],
   "source": [
    "from evaluate import evaluate_locations"
   ]
  },
  {
   "cell_type": "code",
   "execution_count": 2,
   "metadata": {},
   "outputs": [
    {
     "output_type": "stream",
     "name": "stdout",
     "text": [
      "160 Google reviews\n",
      "132 Google reviews\n"
     ]
    },
    {
     "output_type": "error",
     "ename": "WebDriverException",
     "evalue": "Message: chrome not reachable\n  (Session info: chrome=86.0.4240.198)\n",
     "traceback": [
      "\u001b[1;31m---------------------------------------------------------------------------\u001b[0m",
      "\u001b[1;31mWebDriverException\u001b[0m                        Traceback (most recent call last)",
      "\u001b[1;32m<ipython-input-2-7e81d29198a6>\u001b[0m in \u001b[0;36m<module>\u001b[1;34m\u001b[0m\n\u001b[0;32m      5\u001b[0m \u001b[0mnew_url_col\u001b[0m \u001b[1;33m=\u001b[0m \u001b[1;34m\"url\"\u001b[0m\u001b[1;33m\u001b[0m\u001b[0m\n\u001b[0;32m      6\u001b[0m \u001b[1;33m\u001b[0m\u001b[0m\n\u001b[1;32m----> 7\u001b[1;33m \u001b[0mevaluate_locations\u001b[0m\u001b[1;33m(\u001b[0m\u001b[0mdata_path\u001b[0m\u001b[1;33m=\u001b[0m\u001b[0mdata_path\u001b[0m\u001b[1;33m,\u001b[0m \u001b[0moutput_path\u001b[0m\u001b[1;33m=\u001b[0m\u001b[0moutput_path\u001b[0m\u001b[1;33m,\u001b[0m \u001b[0mid_col\u001b[0m\u001b[1;33m=\u001b[0m\u001b[0mid_col\u001b[0m\u001b[1;33m,\u001b[0m \u001b[0msearch_terms\u001b[0m\u001b[1;33m=\u001b[0m\u001b[0msearch_terms\u001b[0m\u001b[1;33m,\u001b[0m \u001b[0mnew_url_col\u001b[0m\u001b[1;33m=\u001b[0m\u001b[0mnew_url_col\u001b[0m\u001b[1;33m)\u001b[0m\u001b[1;33m\u001b[0m\u001b[0m\n\u001b[0m",
      "\u001b[1;32mc:\\Users\\Spencer\\Desktop\\clean\\evaluate.py\u001b[0m in \u001b[0;36mevaluate_locations\u001b[1;34m(data_path, output_path, id_col, wait, url_col, search_terms, new_url_col)\u001b[0m\n\u001b[0;32m     49\u001b[0m         \u001b[0mkeep_going\u001b[0m \u001b[1;33m=\u001b[0m \u001b[1;32mTrue\u001b[0m\u001b[1;33m\u001b[0m\u001b[0m\n\u001b[0;32m     50\u001b[0m         \u001b[1;32mwhile\u001b[0m \u001b[1;33m(\u001b[0m\u001b[0mkeep_going\u001b[0m\u001b[1;33m)\u001b[0m\u001b[1;33m:\u001b[0m\u001b[1;33m\u001b[0m\u001b[0m\n\u001b[1;32m---> 51\u001b[1;33m             \u001b[0mbutton\u001b[0m \u001b[1;33m=\u001b[0m \u001b[0mdriver\u001b[0m\u001b[1;33m.\u001b[0m\u001b[0mfind_elements_by_xpath\u001b[0m\u001b[1;33m(\u001b[0m\u001b[1;34m\"//span[@class='hqzQac']//a[@role='button']\"\u001b[0m\u001b[1;33m)\u001b[0m\u001b[1;33m\u001b[0m\u001b[0m\n\u001b[0m\u001b[0;32m     52\u001b[0m             \u001b[1;32mif\u001b[0m \u001b[1;33m(\u001b[0m\u001b[0mlen\u001b[0m\u001b[1;33m(\u001b[0m\u001b[0mbutton\u001b[0m\u001b[1;33m)\u001b[0m \u001b[1;33m>\u001b[0m \u001b[1;36m0\u001b[0m\u001b[1;33m)\u001b[0m\u001b[1;33m:\u001b[0m\u001b[1;33m\u001b[0m\u001b[0m\n\u001b[0;32m     53\u001b[0m                 \u001b[1;31m# button found\u001b[0m\u001b[1;33m\u001b[0m\u001b[1;33m\u001b[0m\u001b[0m\n",
      "\u001b[1;32m~\\AppData\\Local\\Programs\\Python\\Python37-32\\lib\\site-packages\\selenium\\webdriver\\remote\\webdriver.py\u001b[0m in \u001b[0;36mfind_elements_by_xpath\u001b[1;34m(self, xpath)\u001b[0m\n\u001b[0;32m    408\u001b[0m             \u001b[0melements\u001b[0m \u001b[1;33m=\u001b[0m \u001b[0mdriver\u001b[0m\u001b[1;33m.\u001b[0m\u001b[0mfind_elements_by_xpath\u001b[0m\u001b[1;33m(\u001b[0m\u001b[1;34m\"//div[contains(@class, 'foo')]\"\u001b[0m\u001b[1;33m)\u001b[0m\u001b[1;33m\u001b[0m\u001b[0m\n\u001b[0;32m    409\u001b[0m         \"\"\"\n\u001b[1;32m--> 410\u001b[1;33m         \u001b[1;32mreturn\u001b[0m \u001b[0mself\u001b[0m\u001b[1;33m.\u001b[0m\u001b[0mfind_elements\u001b[0m\u001b[1;33m(\u001b[0m\u001b[0mby\u001b[0m\u001b[1;33m=\u001b[0m\u001b[0mBy\u001b[0m\u001b[1;33m.\u001b[0m\u001b[0mXPATH\u001b[0m\u001b[1;33m,\u001b[0m \u001b[0mvalue\u001b[0m\u001b[1;33m=\u001b[0m\u001b[0mxpath\u001b[0m\u001b[1;33m)\u001b[0m\u001b[1;33m\u001b[0m\u001b[0m\n\u001b[0m\u001b[0;32m    411\u001b[0m \u001b[1;33m\u001b[0m\u001b[0m\n\u001b[0;32m    412\u001b[0m     \u001b[1;32mdef\u001b[0m \u001b[0mfind_element_by_link_text\u001b[0m\u001b[1;33m(\u001b[0m\u001b[0mself\u001b[0m\u001b[1;33m,\u001b[0m \u001b[0mlink_text\u001b[0m\u001b[1;33m)\u001b[0m\u001b[1;33m:\u001b[0m\u001b[1;33m\u001b[0m\u001b[0m\n",
      "\u001b[1;32m~\\AppData\\Local\\Programs\\Python\\Python37-32\\lib\\site-packages\\selenium\\webdriver\\remote\\webdriver.py\u001b[0m in \u001b[0;36mfind_elements\u001b[1;34m(self, by, value)\u001b[0m\n\u001b[0;32m   1005\u001b[0m         return self.execute(Command.FIND_ELEMENTS, {\n\u001b[0;32m   1006\u001b[0m             \u001b[1;34m'using'\u001b[0m\u001b[1;33m:\u001b[0m \u001b[0mby\u001b[0m\u001b[1;33m,\u001b[0m\u001b[1;33m\u001b[0m\u001b[0m\n\u001b[1;32m-> 1007\u001b[1;33m             'value': value})['value'] or []\n\u001b[0m\u001b[0;32m   1008\u001b[0m \u001b[1;33m\u001b[0m\u001b[0m\n\u001b[0;32m   1009\u001b[0m     \u001b[1;33m@\u001b[0m\u001b[0mproperty\u001b[0m\u001b[1;33m\u001b[0m\u001b[0m\n",
      "\u001b[1;32m~\\AppData\\Local\\Programs\\Python\\Python37-32\\lib\\site-packages\\selenium\\webdriver\\remote\\webdriver.py\u001b[0m in \u001b[0;36mexecute\u001b[1;34m(self, driver_command, params)\u001b[0m\n\u001b[0;32m    319\u001b[0m         \u001b[0mresponse\u001b[0m \u001b[1;33m=\u001b[0m \u001b[0mself\u001b[0m\u001b[1;33m.\u001b[0m\u001b[0mcommand_executor\u001b[0m\u001b[1;33m.\u001b[0m\u001b[0mexecute\u001b[0m\u001b[1;33m(\u001b[0m\u001b[0mdriver_command\u001b[0m\u001b[1;33m,\u001b[0m \u001b[0mparams\u001b[0m\u001b[1;33m)\u001b[0m\u001b[1;33m\u001b[0m\u001b[0m\n\u001b[0;32m    320\u001b[0m         \u001b[1;32mif\u001b[0m \u001b[0mresponse\u001b[0m\u001b[1;33m:\u001b[0m\u001b[1;33m\u001b[0m\u001b[0m\n\u001b[1;32m--> 321\u001b[1;33m             \u001b[0mself\u001b[0m\u001b[1;33m.\u001b[0m\u001b[0merror_handler\u001b[0m\u001b[1;33m.\u001b[0m\u001b[0mcheck_response\u001b[0m\u001b[1;33m(\u001b[0m\u001b[0mresponse\u001b[0m\u001b[1;33m)\u001b[0m\u001b[1;33m\u001b[0m\u001b[0m\n\u001b[0m\u001b[0;32m    322\u001b[0m             response['value'] = self._unwrap_value(\n\u001b[0;32m    323\u001b[0m                 response.get('value', None))\n",
      "\u001b[1;32m~\\AppData\\Local\\Programs\\Python\\Python37-32\\lib\\site-packages\\selenium\\webdriver\\remote\\errorhandler.py\u001b[0m in \u001b[0;36mcheck_response\u001b[1;34m(self, response)\u001b[0m\n\u001b[0;32m    240\u001b[0m                 \u001b[0malert_text\u001b[0m \u001b[1;33m=\u001b[0m \u001b[0mvalue\u001b[0m\u001b[1;33m[\u001b[0m\u001b[1;34m'alert'\u001b[0m\u001b[1;33m]\u001b[0m\u001b[1;33m.\u001b[0m\u001b[0mget\u001b[0m\u001b[1;33m(\u001b[0m\u001b[1;34m'text'\u001b[0m\u001b[1;33m)\u001b[0m\u001b[1;33m\u001b[0m\u001b[0m\n\u001b[0;32m    241\u001b[0m             \u001b[1;32mraise\u001b[0m \u001b[0mexception_class\u001b[0m\u001b[1;33m(\u001b[0m\u001b[0mmessage\u001b[0m\u001b[1;33m,\u001b[0m \u001b[0mscreen\u001b[0m\u001b[1;33m,\u001b[0m \u001b[0mstacktrace\u001b[0m\u001b[1;33m,\u001b[0m \u001b[0malert_text\u001b[0m\u001b[1;33m)\u001b[0m\u001b[1;33m\u001b[0m\u001b[0m\n\u001b[1;32m--> 242\u001b[1;33m         \u001b[1;32mraise\u001b[0m \u001b[0mexception_class\u001b[0m\u001b[1;33m(\u001b[0m\u001b[0mmessage\u001b[0m\u001b[1;33m,\u001b[0m \u001b[0mscreen\u001b[0m\u001b[1;33m,\u001b[0m \u001b[0mstacktrace\u001b[0m\u001b[1;33m)\u001b[0m\u001b[1;33m\u001b[0m\u001b[0m\n\u001b[0m\u001b[0;32m    243\u001b[0m \u001b[1;33m\u001b[0m\u001b[0m\n\u001b[0;32m    244\u001b[0m     \u001b[1;32mdef\u001b[0m \u001b[0m_value_or_default\u001b[0m\u001b[1;33m(\u001b[0m\u001b[0mself\u001b[0m\u001b[1;33m,\u001b[0m \u001b[0mobj\u001b[0m\u001b[1;33m,\u001b[0m \u001b[0mkey\u001b[0m\u001b[1;33m,\u001b[0m \u001b[0mdefault\u001b[0m\u001b[1;33m)\u001b[0m\u001b[1;33m:\u001b[0m\u001b[1;33m\u001b[0m\u001b[0m\n",
      "\u001b[1;31mWebDriverException\u001b[0m: Message: chrome not reachable\n  (Session info: chrome=86.0.4240.198)\n"
     ]
    }
   ],
   "source": [
    "data_path = \"C:\\\\Users\\\\Spencer\\\\Desktop\\\\clean\\\\data\\\\scraps.csv\"\n",
    "output_path = \"C:\\\\Users\\\\Spencer\\\\Desktop\\\\clean\\\\data\\\\review_counts.csv\"\n",
    "id_col = \"Company ID\"\n",
    "search_terms = [\"Company Name\", \"Address 1\", \"City\", \"State\", \"Zip\"]\n",
    "new_url_col = \"url\"\n",
    "\n",
    "evaluate_locations(data_path=data_path, output_path=output_path, id_col=id_col, search_terms=search_terms, new_url_col=new_url_col)"
   ]
  },
  {
   "cell_type": "code",
   "execution_count": null,
   "metadata": {},
   "outputs": [],
   "source": []
  }
 ]
}