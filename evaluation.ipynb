{
 "metadata": {
  "language_info": {
   "codemirror_mode": {
    "name": "ipython",
    "version": 3
   },
   "file_extension": ".py",
   "mimetype": "text/x-python",
   "name": "python",
   "nbconvert_exporter": "python",
   "pygments_lexer": "ipython3",
   "version": "3.7.0-final"
  },
  "orig_nbformat": 2,
  "kernelspec": {
   "name": "python3",
   "display_name": "Python 3",
   "language": "python"
  }
 },
 "nbformat": 4,
 "nbformat_minor": 2,
 "cells": [
  {
   "cell_type": "code",
   "execution_count": 1,
   "metadata": {},
   "outputs": [],
   "source": [
    "import pandas as pd"
   ]
  },
  {
   "cell_type": "code",
   "execution_count": 1,
   "metadata": {},
   "outputs": [],
   "source": [
    "from evaluate import generate_google_link, add_url_column"
   ]
  },
  {
   "cell_type": "code",
   "execution_count": 2,
   "metadata": {},
   "outputs": [
    {
     "output_type": "execute_result",
     "data": {
      "text/plain": [
       "   Company ID  Industry ID                 Industry Name  \\\n",
       "0  2000626178           51  Locations: Chain Restaurants   \n",
       "1  2000626186           51  Locations: Chain Restaurants   \n",
       "2  2000626189           51  Locations: Chain Restaurants   \n",
       "3  2000626192           51  Locations: Chain Restaurants   \n",
       "4  2000626194           51  Locations: Chain Restaurants   \n",
       "\n",
       "                 Company Name               Address 1       City State  \\\n",
       "0  Anthony's Coal Fired Pizza         984 State Rt 17     RAMSEY    NJ   \n",
       "1  Anthony's Coal Fired Pizza         80 Parsonage Rd     EDISON    NJ   \n",
       "2  Anthony's Coal Fired Pizza       6401 Jericho Tpke    COMMACK    NY   \n",
       "3  Anthony's Coal Fired Pizza  50 East Wynnewood Road  WYNNEWOOD    PA   \n",
       "4  Anthony's Coal Fired Pizza     48 Walkers Brook Dr    READING    MA   \n",
       "\n",
       "          Zip Listing Type                   Country         Phone  \\\n",
       "0  07446-1607     Location  United States of America  2.018183e+09   \n",
       "1  08837-2416     Location  United States of America  7.327442e+09   \n",
       "2  11725-2832     Location  United States of America  6.318583e+09   \n",
       "3       19096     Location  United States of America  6.106455e+09   \n",
       "4  01867-3224     Location  United States of America  7.819448e+09   \n",
       "\n",
       "                                         Google Link  \n",
       "0  https://www.google.com/maps/place/Anthony's+Co...  \n",
       "1  https://www.google.com/maps/place/Anthony's+Co...  \n",
       "2  https://www.google.com/maps/place/Anthony's+Co...  \n",
       "3  https://www.google.com/maps/place/Anthony's+Co...  \n",
       "4  https://www.google.com/maps/place/Anthony's+Co...  "
      ],
      "text/html": "<div>\n<style scoped>\n    .dataframe tbody tr th:only-of-type {\n        vertical-align: middle;\n    }\n\n    .dataframe tbody tr th {\n        vertical-align: top;\n    }\n\n    .dataframe thead th {\n        text-align: right;\n    }\n</style>\n<table border=\"1\" class=\"dataframe\">\n  <thead>\n    <tr style=\"text-align: right;\">\n      <th></th>\n      <th>Company ID</th>\n      <th>Industry ID</th>\n      <th>Industry Name</th>\n      <th>Company Name</th>\n      <th>Address 1</th>\n      <th>City</th>\n      <th>State</th>\n      <th>Zip</th>\n      <th>Listing Type</th>\n      <th>Country</th>\n      <th>Phone</th>\n      <th>Google Link</th>\n    </tr>\n  </thead>\n  <tbody>\n    <tr>\n      <td>0</td>\n      <td>2000626178</td>\n      <td>51</td>\n      <td>Locations: Chain Restaurants</td>\n      <td>Anthony's Coal Fired Pizza</td>\n      <td>984 State Rt 17</td>\n      <td>RAMSEY</td>\n      <td>NJ</td>\n      <td>07446-1607</td>\n      <td>Location</td>\n      <td>United States of America</td>\n      <td>2.018183e+09</td>\n      <td>https://www.google.com/maps/place/Anthony's+Co...</td>\n    </tr>\n    <tr>\n      <td>1</td>\n      <td>2000626186</td>\n      <td>51</td>\n      <td>Locations: Chain Restaurants</td>\n      <td>Anthony's Coal Fired Pizza</td>\n      <td>80 Parsonage Rd</td>\n      <td>EDISON</td>\n      <td>NJ</td>\n      <td>08837-2416</td>\n      <td>Location</td>\n      <td>United States of America</td>\n      <td>7.327442e+09</td>\n      <td>https://www.google.com/maps/place/Anthony's+Co...</td>\n    </tr>\n    <tr>\n      <td>2</td>\n      <td>2000626189</td>\n      <td>51</td>\n      <td>Locations: Chain Restaurants</td>\n      <td>Anthony's Coal Fired Pizza</td>\n      <td>6401 Jericho Tpke</td>\n      <td>COMMACK</td>\n      <td>NY</td>\n      <td>11725-2832</td>\n      <td>Location</td>\n      <td>United States of America</td>\n      <td>6.318583e+09</td>\n      <td>https://www.google.com/maps/place/Anthony's+Co...</td>\n    </tr>\n    <tr>\n      <td>3</td>\n      <td>2000626192</td>\n      <td>51</td>\n      <td>Locations: Chain Restaurants</td>\n      <td>Anthony's Coal Fired Pizza</td>\n      <td>50 East Wynnewood Road</td>\n      <td>WYNNEWOOD</td>\n      <td>PA</td>\n      <td>19096</td>\n      <td>Location</td>\n      <td>United States of America</td>\n      <td>6.106455e+09</td>\n      <td>https://www.google.com/maps/place/Anthony's+Co...</td>\n    </tr>\n    <tr>\n      <td>4</td>\n      <td>2000626194</td>\n      <td>51</td>\n      <td>Locations: Chain Restaurants</td>\n      <td>Anthony's Coal Fired Pizza</td>\n      <td>48 Walkers Brook Dr</td>\n      <td>READING</td>\n      <td>MA</td>\n      <td>01867-3224</td>\n      <td>Location</td>\n      <td>United States of America</td>\n      <td>7.819448e+09</td>\n      <td>https://www.google.com/maps/place/Anthony's+Co...</td>\n    </tr>\n  </tbody>\n</table>\n</div>"
     },
     "metadata": {},
     "execution_count": 2
    }
   ],
   "source": [
    "import pandas as pd \n",
    "test = pd.read_excel(\"C:\\\\Users\\\\Spencer\\\\Desktop\\\\clean\\\\data\\\\data.xlsx\")\n",
    "test.head()"
   ]
  },
  {
   "cell_type": "code",
   "execution_count": 4,
   "metadata": {},
   "outputs": [
    {
     "output_type": "execute_result",
     "data": {
      "text/plain": [
       "\"https://www.google.com/search?q=Anthony's Coal Fired Pizza+984 State Rt 17+RAMSEY+NJ+07446-1607\""
      ]
     },
     "metadata": {},
     "execution_count": 4
    }
   ],
   "source": [
    "test.loc[:, [\"Company Name\", \"Address 1\", \"City\", \"State\", \"Zip\"]].apply(generate_google_link, axis=1)[0]"
   ]
  },
  {
   "cell_type": "code",
   "execution_count": 3,
   "metadata": {},
   "outputs": [],
   "source": [
    "add_url_column(test, [\"Company Name\", \"Address 1\", \"City\", \"State\", \"Zip\"], \"url\")"
   ]
  },
  {
   "cell_type": "code",
   "execution_count": 1,
   "metadata": {},
   "outputs": [],
   "source": [
    "from evaluate import evaluate_locations"
   ]
  },
  {
   "cell_type": "code",
   "execution_count": 2,
   "metadata": {},
   "outputs": [
    {
     "output_type": "stream",
     "name": "stdout",
     "text": [
      "160 Google reviews\n",
      "132 Google reviews\n"
     ]
    },
    {
     "output_type": "error",
     "ename": "WebDriverException",
     "evalue": "Message: chrome not reachable\n  (Session info: chrome=86.0.4240.198)\n",
     "traceback": [
      "\u001b[1;31m---------------------------------------------------------------------------\u001b[0m",
      "\u001b[1;31mWebDriverException\u001b[0m                        Traceback (most recent call last)",
      "\u001b[1;32m<ipython-input-2-7e81d29198a6>\u001b[0m in \u001b[0;36m<module>\u001b[1;34m\u001b[0m\n\u001b[0;32m      5\u001b[0m \u001b[0mnew_url_col\u001b[0m \u001b[1;33m=\u001b[0m \u001b[1;34m\"url\"\u001b[0m\u001b[1;33m\u001b[0m\u001b[0m\n\u001b[0;32m      6\u001b[0m \u001b[1;33m\u001b[0m\u001b[0m\n\u001b[1;32m----> 7\u001b[1;33m \u001b[0mevaluate_locations\u001b[0m\u001b[1;33m(\u001b[0m\u001b[0mdata_path\u001b[0m\u001b[1;33m=\u001b[0m\u001b[0mdata_path\u001b[0m\u001b[1;33m,\u001b[0m \u001b[0moutput_path\u001b[0m\u001b[1;33m=\u001b[0m\u001b[0moutput_path\u001b[0m\u001b[1;33m,\u001b[0m \u001b[0mid_col\u001b[0m\u001b[1;33m=\u001b[0m\u001b[0mid_col\u001b[0m\u001b[1;33m,\u001b[0m \u001b[0msearch_terms\u001b[0m\u001b[1;33m=\u001b[0m\u001b[0msearch_terms\u001b[0m\u001b[1;33m,\u001b[0m \u001b[0mnew_url_col\u001b[0m\u001b[1;33m=\u001b[0m\u001b[0mnew_url_col\u001b[0m\u001b[1;33m)\u001b[0m\u001b[1;33m\u001b[0m\u001b[0m\n\u001b[0m",
      "\u001b[1;32mc:\\Users\\Spencer\\Desktop\\clean\\evaluate.py\u001b[0m in \u001b[0;36mevaluate_locations\u001b[1;34m(data_path, output_path, id_col, wait, url_col, search_terms, new_url_col)\u001b[0m\n\u001b[0;32m     49\u001b[0m         \u001b[0mkeep_going\u001b[0m \u001b[1;33m=\u001b[0m \u001b[1;32mTrue\u001b[0m\u001b[1;33m\u001b[0m\u001b[0m\n\u001b[0;32m     50\u001b[0m         \u001b[1;32mwhile\u001b[0m \u001b[1;33m(\u001b[0m\u001b[0mkeep_going\u001b[0m\u001b[1;33m)\u001b[0m\u001b[1;33m:\u001b[0m\u001b[1;33m\u001b[0m\u001b[0m\n\u001b[1;32m---> 51\u001b[1;33m             \u001b[0mbutton\u001b[0m \u001b[1;33m=\u001b[0m \u001b[0mdriver\u001b[0m\u001b[1;33m.\u001b[0m\u001b[0mfind_elements_by_xpath\u001b[0m\u001b[1;33m(\u001b[0m\u001b[1;34m\"//span[@class='hqzQac']//a[@role='button']\"\u001b[0m\u001b[1;33m)\u001b[0m\u001b[1;33m\u001b[0m\u001b[0m\n\u001b[0m\u001b[0;32m     52\u001b[0m             \u001b[1;32mif\u001b[0m \u001b[1;33m(\u001b[0m\u001b[0mlen\u001b[0m\u001b[1;33m(\u001b[0m\u001b[0mbutton\u001b[0m\u001b[1;33m)\u001b[0m \u001b[1;33m>\u001b[0m \u001b[1;36m0\u001b[0m\u001b[1;33m)\u001b[0m\u001b[1;33m:\u001b[0m\u001b[1;33m\u001b[0m\u001b[0m\n\u001b[0;32m     53\u001b[0m                 \u001b[1;31m# button found\u001b[0m\u001b[1;33m\u001b[0m\u001b[1;33m\u001b[0m\u001b[0m\n",
      "\u001b[1;32m~\\AppData\\Local\\Programs\\Python\\Python37-32\\lib\\site-packages\\selenium\\webdriver\\remote\\webdriver.py\u001b[0m in \u001b[0;36mfind_elements_by_xpath\u001b[1;34m(self, xpath)\u001b[0m\n\u001b[0;32m    408\u001b[0m             \u001b[0melements\u001b[0m \u001b[1;33m=\u001b[0m \u001b[0mdriver\u001b[0m\u001b[1;33m.\u001b[0m\u001b[0mfind_elements_by_xpath\u001b[0m\u001b[1;33m(\u001b[0m\u001b[1;34m\"//div[contains(@class, 'foo')]\"\u001b[0m\u001b[1;33m)\u001b[0m\u001b[1;33m\u001b[0m\u001b[0m\n\u001b[0;32m    409\u001b[0m         \"\"\"\n\u001b[1;32m--> 410\u001b[1;33m         \u001b[1;32mreturn\u001b[0m \u001b[0mself\u001b[0m\u001b[1;33m.\u001b[0m\u001b[0mfind_elements\u001b[0m\u001b[1;33m(\u001b[0m\u001b[0mby\u001b[0m\u001b[1;33m=\u001b[0m\u001b[0mBy\u001b[0m\u001b[1;33m.\u001b[0m\u001b[0mXPATH\u001b[0m\u001b[1;33m,\u001b[0m \u001b[0mvalue\u001b[0m\u001b[1;33m=\u001b[0m\u001b[0mxpath\u001b[0m\u001b[1;33m)\u001b[0m\u001b[1;33m\u001b[0m\u001b[0m\n\u001b[0m\u001b[0;32m    411\u001b[0m \u001b[1;33m\u001b[0m\u001b[0m\n\u001b[0;32m    412\u001b[0m     \u001b[1;32mdef\u001b[0m \u001b[0mfind_element_by_link_text\u001b[0m\u001b[1;33m(\u001b[0m\u001b[0mself\u001b[0m\u001b[1;33m,\u001b[0m \u001b[0mlink_text\u001b[0m\u001b[1;33m)\u001b[0m\u001b[1;33m:\u001b[0m\u001b[1;33m\u001b[0m\u001b[0m\n",
      "\u001b[1;32m~\\AppData\\Local\\Programs\\Python\\Python37-32\\lib\\site-packages\\selenium\\webdriver\\remote\\webdriver.py\u001b[0m in \u001b[0;36mfind_elements\u001b[1;34m(self, by, value)\u001b[0m\n\u001b[0;32m   1005\u001b[0m         return self.execute(Command.FIND_ELEMENTS, {\n\u001b[0;32m   1006\u001b[0m             \u001b[1;34m'using'\u001b[0m\u001b[1;33m:\u001b[0m \u001b[0mby\u001b[0m\u001b[1;33m,\u001b[0m\u001b[1;33m\u001b[0m\u001b[0m\n\u001b[1;32m-> 1007\u001b[1;33m             'value': value})['value'] or []\n\u001b[0m\u001b[0;32m   1008\u001b[0m \u001b[1;33m\u001b[0m\u001b[0m\n\u001b[0;32m   1009\u001b[0m     \u001b[1;33m@\u001b[0m\u001b[0mproperty\u001b[0m\u001b[1;33m\u001b[0m\u001b[0m\n",
      "\u001b[1;32m~\\AppData\\Local\\Programs\\Python\\Python37-32\\lib\\site-packages\\selenium\\webdriver\\remote\\webdriver.py\u001b[0m in \u001b[0;36mexecute\u001b[1;34m(self, driver_command, params)\u001b[0m\n\u001b[0;32m    319\u001b[0m         \u001b[0mresponse\u001b[0m \u001b[1;33m=\u001b[0m \u001b[0mself\u001b[0m\u001b[1;33m.\u001b[0m\u001b[0mcommand_executor\u001b[0m\u001b[1;33m.\u001b[0m\u001b[0mexecute\u001b[0m\u001b[1;33m(\u001b[0m\u001b[0mdriver_command\u001b[0m\u001b[1;33m,\u001b[0m \u001b[0mparams\u001b[0m\u001b[1;33m)\u001b[0m\u001b[1;33m\u001b[0m\u001b[0m\n\u001b[0;32m    320\u001b[0m         \u001b[1;32mif\u001b[0m \u001b[0mresponse\u001b[0m\u001b[1;33m:\u001b[0m\u001b[1;33m\u001b[0m\u001b[0m\n\u001b[1;32m--> 321\u001b[1;33m             \u001b[0mself\u001b[0m\u001b[1;33m.\u001b[0m\u001b[0merror_handler\u001b[0m\u001b[1;33m.\u001b[0m\u001b[0mcheck_response\u001b[0m\u001b[1;33m(\u001b[0m\u001b[0mresponse\u001b[0m\u001b[1;33m)\u001b[0m\u001b[1;33m\u001b[0m\u001b[0m\n\u001b[0m\u001b[0;32m    322\u001b[0m             response['value'] = self._unwrap_value(\n\u001b[0;32m    323\u001b[0m                 response.get('value', None))\n",
      "\u001b[1;32m~\\AppData\\Local\\Programs\\Python\\Python37-32\\lib\\site-packages\\selenium\\webdriver\\remote\\errorhandler.py\u001b[0m in \u001b[0;36mcheck_response\u001b[1;34m(self, response)\u001b[0m\n\u001b[0;32m    240\u001b[0m                 \u001b[0malert_text\u001b[0m \u001b[1;33m=\u001b[0m \u001b[0mvalue\u001b[0m\u001b[1;33m[\u001b[0m\u001b[1;34m'alert'\u001b[0m\u001b[1;33m]\u001b[0m\u001b[1;33m.\u001b[0m\u001b[0mget\u001b[0m\u001b[1;33m(\u001b[0m\u001b[1;34m'text'\u001b[0m\u001b[1;33m)\u001b[0m\u001b[1;33m\u001b[0m\u001b[0m\n\u001b[0;32m    241\u001b[0m             \u001b[1;32mraise\u001b[0m \u001b[0mexception_class\u001b[0m\u001b[1;33m(\u001b[0m\u001b[0mmessage\u001b[0m\u001b[1;33m,\u001b[0m \u001b[0mscreen\u001b[0m\u001b[1;33m,\u001b[0m \u001b[0mstacktrace\u001b[0m\u001b[1;33m,\u001b[0m \u001b[0malert_text\u001b[0m\u001b[1;33m)\u001b[0m\u001b[1;33m\u001b[0m\u001b[0m\n\u001b[1;32m--> 242\u001b[1;33m         \u001b[1;32mraise\u001b[0m \u001b[0mexception_class\u001b[0m\u001b[1;33m(\u001b[0m\u001b[0mmessage\u001b[0m\u001b[1;33m,\u001b[0m \u001b[0mscreen\u001b[0m\u001b[1;33m,\u001b[0m \u001b[0mstacktrace\u001b[0m\u001b[1;33m)\u001b[0m\u001b[1;33m\u001b[0m\u001b[0m\n\u001b[0m\u001b[0;32m    243\u001b[0m \u001b[1;33m\u001b[0m\u001b[0m\n\u001b[0;32m    244\u001b[0m     \u001b[1;32mdef\u001b[0m \u001b[0m_value_or_default\u001b[0m\u001b[1;33m(\u001b[0m\u001b[0mself\u001b[0m\u001b[1;33m,\u001b[0m \u001b[0mobj\u001b[0m\u001b[1;33m,\u001b[0m \u001b[0mkey\u001b[0m\u001b[1;33m,\u001b[0m \u001b[0mdefault\u001b[0m\u001b[1;33m)\u001b[0m\u001b[1;33m:\u001b[0m\u001b[1;33m\u001b[0m\u001b[0m\n",
      "\u001b[1;31mWebDriverException\u001b[0m: Message: chrome not reachable\n  (Session info: chrome=86.0.4240.198)\n"
     ]
    }
   ],
   "source": [
    "data_path = \"C:\\\\Users\\\\Spencer\\\\Desktop\\\\clean\\\\data\\\\scraps.csv\"\n",
    "output_path = \"C:\\\\Users\\\\Spencer\\\\Desktop\\\\clean\\\\data\\\\review_counts.csv\"\n",
    "id_col = \"Company ID\"\n",
    "search_terms = [\"Company Name\", \"Address 1\", \"City\", \"State\", \"Zip\"]\n",
    "new_url_col = \"url\"\n",
    "\n",
    "evaluate_locations(data_path=data_path, output_path=output_path, id_col=id_col, search_terms=search_terms, new_url_col=new_url_col)"
   ]
  },
  {
   "cell_type": "code",
   "execution_count": 2,
   "metadata": {},
   "outputs": [],
   "source": [
    "import pandas as pd \n",
    "from utilities import get_files\n",
    "files = get_files(\"C:\\\\Users\\\\Spencer\\\\Desktop\\\\clean\\\\data\\\\evaluations\", \"csv\")"
   ]
  },
  {
   "cell_type": "code",
   "execution_count": 4,
   "metadata": {},
   "outputs": [],
   "source": [
    "evaluations = pd.read_csv(files[0])\n",
    "for file in files[1:]:\n",
    "    evaluations = pd.concat([evaluations, pd.read_csv(file)], ignore_index=True)"
   ]
  },
  {
   "cell_type": "code",
   "execution_count": 5,
   "metadata": {},
   "outputs": [
    {
     "output_type": "execute_result",
     "data": {
      "text/plain": [
       "   Store Company ID  reviews_scraped  difference  proportion  review_count\n",
       "0        2000626213              293       -15.0    0.951299         308.0\n",
       "1        2000626218              626       -16.0    0.975078         642.0\n",
       "2        2000626221              889       -16.0    0.982320         905.0\n",
       "3        2000626224              728       -13.0    0.982456         741.0\n",
       "4        2000626226              333        -5.0    0.985207         338.0"
      ],
      "text/html": "<div>\n<style scoped>\n    .dataframe tbody tr th:only-of-type {\n        vertical-align: middle;\n    }\n\n    .dataframe tbody tr th {\n        vertical-align: top;\n    }\n\n    .dataframe thead th {\n        text-align: right;\n    }\n</style>\n<table border=\"1\" class=\"dataframe\">\n  <thead>\n    <tr style=\"text-align: right;\">\n      <th></th>\n      <th>Store Company ID</th>\n      <th>reviews_scraped</th>\n      <th>difference</th>\n      <th>proportion</th>\n      <th>review_count</th>\n    </tr>\n  </thead>\n  <tbody>\n    <tr>\n      <td>0</td>\n      <td>2000626213</td>\n      <td>293</td>\n      <td>-15.0</td>\n      <td>0.951299</td>\n      <td>308.0</td>\n    </tr>\n    <tr>\n      <td>1</td>\n      <td>2000626218</td>\n      <td>626</td>\n      <td>-16.0</td>\n      <td>0.975078</td>\n      <td>642.0</td>\n    </tr>\n    <tr>\n      <td>2</td>\n      <td>2000626221</td>\n      <td>889</td>\n      <td>-16.0</td>\n      <td>0.982320</td>\n      <td>905.0</td>\n    </tr>\n    <tr>\n      <td>3</td>\n      <td>2000626224</td>\n      <td>728</td>\n      <td>-13.0</td>\n      <td>0.982456</td>\n      <td>741.0</td>\n    </tr>\n    <tr>\n      <td>4</td>\n      <td>2000626226</td>\n      <td>333</td>\n      <td>-5.0</td>\n      <td>0.985207</td>\n      <td>338.0</td>\n    </tr>\n  </tbody>\n</table>\n</div>"
     },
     "metadata": {},
     "execution_count": 5
    }
   ],
   "source": [
    "evaluations.head()"
   ]
  },
  {
   "cell_type": "code",
   "execution_count": 6,
   "metadata": {},
   "outputs": [
    {
     "output_type": "execute_result",
     "data": {
      "text/plain": [
       "16385"
      ]
     },
     "metadata": {},
     "execution_count": 6
    }
   ],
   "source": [
    "len(evaluations)"
   ]
  },
  {
   "cell_type": "code",
   "execution_count": 7,
   "metadata": {},
   "outputs": [],
   "source": [
    "master = pd.read_csv(\"C:\\\\Users\\\\Spencer\\\\Desktop\\\\clean\\\\data\\\\data.csv\")"
   ]
  },
  {
   "cell_type": "code",
   "execution_count": 36,
   "metadata": {},
   "outputs": [],
   "source": [
    "scraped_master = master[master[\"Store Company ID\"].isin(evaluations[\"Store Company ID\"])]"
   ]
  },
  {
   "cell_type": "code",
   "execution_count": 45,
   "metadata": {},
   "outputs": [],
   "source": [
    "diff = pd.read_csv(\"C:\\\\Users\\\\Spencer\\\\Desktop\\\\clean\\\\data\\\\diff.csv\")"
   ]
  },
  {
   "cell_type": "code",
   "execution_count": 19,
   "metadata": {},
   "outputs": [],
   "source": [
    "diff = diff.rename(columns={\"Company ID\":\"Store Company ID\"})"
   ]
  },
  {
   "cell_type": "code",
   "execution_count": 20,
   "metadata": {},
   "outputs": [],
   "source": [
    "diff.to_csv(\"diff.csv\", index=False)"
   ]
  },
  {
   "cell_type": "code",
   "execution_count": 59,
   "metadata": {},
   "outputs": [
    {
     "output_type": "execute_result",
     "data": {
      "text/plain": [
       "       Store Company ID  reviews_scraped  difference  proportion  review_count\n",
       "25           2000626208               80      -684.0    0.104712         764.0\n",
       "39           2000747544               20      -340.0    0.055556         360.0\n",
       "86           2000626635              880      -733.0    0.545567        1613.0\n",
       "116          2000626735              640      -324.0    0.663900         964.0\n",
       "147          2000626780              450      -130.0    0.775862         580.0\n",
       "...                 ...              ...         ...         ...           ...\n",
       "16227        2000198833               10       -63.0    0.136986          73.0\n",
       "16241        1000889791                8        -1.0    0.888889           9.0\n",
       "16314        2000060509               69        -8.0    0.896104          77.0\n",
       "16360        2000632581               26       -54.0    0.325000          80.0\n",
       "16378        2000632550               17      -208.0    0.075556         225.0\n",
       "\n",
       "[566 rows x 5 columns]"
      ],
      "text/html": "<div>\n<style scoped>\n    .dataframe tbody tr th:only-of-type {\n        vertical-align: middle;\n    }\n\n    .dataframe tbody tr th {\n        vertical-align: top;\n    }\n\n    .dataframe thead th {\n        text-align: right;\n    }\n</style>\n<table border=\"1\" class=\"dataframe\">\n  <thead>\n    <tr style=\"text-align: right;\">\n      <th></th>\n      <th>Store Company ID</th>\n      <th>reviews_scraped</th>\n      <th>difference</th>\n      <th>proportion</th>\n      <th>review_count</th>\n    </tr>\n  </thead>\n  <tbody>\n    <tr>\n      <td>25</td>\n      <td>2000626208</td>\n      <td>80</td>\n      <td>-684.0</td>\n      <td>0.104712</td>\n      <td>764.0</td>\n    </tr>\n    <tr>\n      <td>39</td>\n      <td>2000747544</td>\n      <td>20</td>\n      <td>-340.0</td>\n      <td>0.055556</td>\n      <td>360.0</td>\n    </tr>\n    <tr>\n      <td>86</td>\n      <td>2000626635</td>\n      <td>880</td>\n      <td>-733.0</td>\n      <td>0.545567</td>\n      <td>1613.0</td>\n    </tr>\n    <tr>\n      <td>116</td>\n      <td>2000626735</td>\n      <td>640</td>\n      <td>-324.0</td>\n      <td>0.663900</td>\n      <td>964.0</td>\n    </tr>\n    <tr>\n      <td>147</td>\n      <td>2000626780</td>\n      <td>450</td>\n      <td>-130.0</td>\n      <td>0.775862</td>\n      <td>580.0</td>\n    </tr>\n    <tr>\n      <td>...</td>\n      <td>...</td>\n      <td>...</td>\n      <td>...</td>\n      <td>...</td>\n      <td>...</td>\n    </tr>\n    <tr>\n      <td>16227</td>\n      <td>2000198833</td>\n      <td>10</td>\n      <td>-63.0</td>\n      <td>0.136986</td>\n      <td>73.0</td>\n    </tr>\n    <tr>\n      <td>16241</td>\n      <td>1000889791</td>\n      <td>8</td>\n      <td>-1.0</td>\n      <td>0.888889</td>\n      <td>9.0</td>\n    </tr>\n    <tr>\n      <td>16314</td>\n      <td>2000060509</td>\n      <td>69</td>\n      <td>-8.0</td>\n      <td>0.896104</td>\n      <td>77.0</td>\n    </tr>\n    <tr>\n      <td>16360</td>\n      <td>2000632581</td>\n      <td>26</td>\n      <td>-54.0</td>\n      <td>0.325000</td>\n      <td>80.0</td>\n    </tr>\n    <tr>\n      <td>16378</td>\n      <td>2000632550</td>\n      <td>17</td>\n      <td>-208.0</td>\n      <td>0.075556</td>\n      <td>225.0</td>\n    </tr>\n  </tbody>\n</table>\n<p>566 rows × 5 columns</p>\n</div>"
     },
     "metadata": {},
     "execution_count": 59
    }
   ],
   "source": [
    "evaluations[(evaluations[\"proportion\"] < 0.9)]"
   ]
  },
  {
   "cell_type": "code",
   "execution_count": 43,
   "metadata": {},
   "outputs": [],
   "source": [
    "scraped_evals = pd.merge(scraped_master, evaluations, on=[\"Store Company ID\"])"
   ]
  },
  {
   "cell_type": "code",
   "execution_count": 54,
   "metadata": {},
   "outputs": [],
   "source": [
    "rc = pd.read_csv(\"C:\\\\Users\\\\Spencer\\\\Desktop\\\\clean\\\\data\\\\review_counts.csv\")"
   ]
  },
  {
   "cell_type": "code",
   "execution_count": 60,
   "metadata": {},
   "outputs": [],
   "source": [
    "diff_rc = pd.merge(diff, rc, on=[\"Store Company ID\"])"
   ]
  },
  {
   "cell_type": "code",
   "execution_count": 62,
   "metadata": {},
   "outputs": [],
   "source": [
    "diff_rc[\"difference\"] = -diff_rc[\"review_count\"]"
   ]
  },
  {
   "cell_type": "code",
   "execution_count": 71,
   "metadata": {},
   "outputs": [],
   "source": [
    "master_rc = pd.concat([scraped_evals, diff_rc], ignore_index=True)"
   ]
  },
  {
   "cell_type": "code",
   "execution_count": 98,
   "metadata": {},
   "outputs": [],
   "source": [
    "evals2 = evaluations.drop_duplicates()"
   ]
  },
  {
   "cell_type": "code",
   "execution_count": 108,
   "metadata": {},
   "outputs": [],
   "source": [
    "eval_dupes = evals2[evals2[\"Store Company ID\"].duplicated()]"
   ]
  },
  {
   "cell_type": "code",
   "execution_count": 109,
   "metadata": {},
   "outputs": [
    {
     "output_type": "execute_result",
     "data": {
      "text/plain": [
       "2000334388    3\n",
       "2000334383    3\n",
       "2000303507    3\n",
       "2000303518    2\n",
       "2000303505    2\n",
       "             ..\n",
       "2000629327    1\n",
       "1000813431    1\n",
       "1000947277    1\n",
       "2000588363    1\n",
       "1000964096    1\n",
       "Name: Store Company ID, Length: 16325, dtype: int64"
      ]
     },
     "metadata": {},
     "execution_count": 109
    }
   ],
   "source": [
    "evals2[\"Store Company ID\"].value_counts()"
   ]
  },
  {
   "cell_type": "code",
   "execution_count": 122,
   "metadata": {},
   "outputs": [],
   "source": [
    "evals_with_dupes = evals2[evals2[\"Store Company ID\"].isin(eval_dupes[\"Store Company ID\"])]"
   ]
  },
  {
   "cell_type": "code",
   "execution_count": 138,
   "metadata": {},
   "outputs": [
    {
     "output_type": "execute_result",
     "data": {
      "text/plain": [
       "[(1117, Store Company ID    1.000847e+09\n",
       "  reviews_scraped     1.000000e+01\n",
       "  difference         -9.450000e+02\n",
       "  proportion          1.047120e-02\n",
       "  review_count        9.550000e+02\n",
       "  Name: 1117, dtype: float64), (65, Store Company ID    2.000334e+09\n",
       "  reviews_scraped     8.000000e+00\n",
       "  difference          0.000000e+00\n",
       "  proportion          1.000000e+00\n",
       "  review_count        8.000000e+00\n",
       "  Name: 65, dtype: float64), (66, Store Company ID    2.000304e+09\n",
       "  reviews_scraped     4.800000e+01\n",
       "  difference          5.000000e+00\n",
       "  proportion          1.116279e+00\n",
       "  review_count        4.300000e+01\n",
       "  Name: 66, dtype: float64), (1613, Store Company ID    1.000855e+09\n",
       "  reviews_scraped     1.030000e+02\n",
       "  difference         -2.000000e+00\n",
       "  proportion          9.809524e-01\n",
       "  review_count        1.050000e+02\n",
       "  Name: 1613, dtype: float64), (1635, Store Company ID    1.000970e+09\n",
       "  reviews_scraped     5.900000e+01\n",
       "  difference         -3.000000e+00\n",
       "  proportion          9.516129e-01\n",
       "  review_count        6.200000e+01\n",
       "  Name: 1635, dtype: float64), (1650, Store Company ID    1.000969e+09\n",
       "  reviews_scraped     6.300000e+01\n",
       "  difference          0.000000e+00\n",
       "  proportion          1.000000e+00\n",
       "  review_count        6.300000e+01\n",
       "  Name: 1650, dtype: float64), (1657, Store Company ID    1.000871e+09\n",
       "  reviews_scraped     4.900000e+01\n",
       "  difference          0.000000e+00\n",
       "  proportion          1.000000e+00\n",
       "  review_count        4.900000e+01\n",
       "  Name: 1657, dtype: float64), (5294, Store Company ID    1.000833e+09\n",
       "  reviews_scraped     4.800000e+01\n",
       "  difference         -1.000000e+01\n",
       "  proportion          8.275862e-01\n",
       "  review_count        5.800000e+01\n",
       "  Name: 5294, dtype: float64), (1668, Store Company ID    2.000225e+09\n",
       "  reviews_scraped     1.300000e+01\n",
       "  difference          0.000000e+00\n",
       "  proportion          1.000000e+00\n",
       "  review_count        1.300000e+01\n",
       "  Name: 1668, dtype: float64), (5296, Store Company ID    2.000225e+09\n",
       "  reviews_scraped     3.100000e+01\n",
       "  difference         -7.000000e+00\n",
       "  proportion          8.157895e-01\n",
       "  review_count        3.800000e+01\n",
       "  Name: 5296, dtype: float64), (1681, Store Company ID    1.000881e+09\n",
       "  reviews_scraped     5.800000e+01\n",
       "  difference          0.000000e+00\n",
       "  proportion          1.000000e+00\n",
       "  review_count        5.800000e+01\n",
       "  Name: 1681, dtype: float64), (14546, Store Company ID    2.000334e+09\n",
       "  reviews_scraped     7.000000e+00\n",
       "  difference                   NaN\n",
       "  proportion                   NaN\n",
       "  review_count                 NaN\n",
       "  Name: 14546, dtype: float64), (14602, Store Company ID    2.000341e+09\n",
       "  reviews_scraped     3.000000e+00\n",
       "  difference          2.000000e+00\n",
       "  proportion          3.000000e+00\n",
       "  review_count        1.000000e+00\n",
       "  Name: 14602, dtype: float64), (16044, Store Company ID    2.000334e+09\n",
       "  reviews_scraped     1.000000e+00\n",
       "  difference                   NaN\n",
       "  proportion                   NaN\n",
       "  review_count                 NaN\n",
       "  Name: 16044, dtype: float64), (16109, Store Company ID    2.000334e+09\n",
       "  reviews_scraped     6.000000e+00\n",
       "  difference         -2.000000e+00\n",
       "  proportion          7.500000e-01\n",
       "  review_count        8.000000e+00\n",
       "  Name: 16109, dtype: float64), (16110, Store Company ID    2.000304e+09\n",
       "  reviews_scraped     6.600000e+01\n",
       "  difference          2.300000e+01\n",
       "  proportion          1.534884e+00\n",
       "  review_count        4.300000e+01\n",
       "  Name: 16110, dtype: float64), (16112, Store Company ID    2.000334e+09\n",
       "  reviews_scraped     2.000000e+01\n",
       "  difference                   NaN\n",
       "  proportion                   NaN\n",
       "  review_count                 NaN\n",
       "  Name: 16112, dtype: float64), (16113, Store Company ID    2.000325e+09\n",
       "  reviews_scraped     4.000000e+01\n",
       "  difference                   NaN\n",
       "  proportion                   NaN\n",
       "  review_count                 NaN\n",
       "  Name: 16113, dtype: float64), (16114, Store Company ID    2.000304e+09\n",
       "  reviews_scraped     4.100000e+01\n",
       "  difference                   NaN\n",
       "  proportion                   NaN\n",
       "  review_count                 NaN\n",
       "  Name: 16114, dtype: float64), (16115, Store Company ID    2.000334e+09\n",
       "  reviews_scraped     6.500000e+01\n",
       "  difference                   NaN\n",
       "  proportion                   NaN\n",
       "  review_count                 NaN\n",
       "  Name: 16115, dtype: float64), (16116, Store Company ID    2.000304e+09\n",
       "  reviews_scraped     2.000000e+01\n",
       "  difference                   NaN\n",
       "  proportion                   NaN\n",
       "  review_count                 NaN\n",
       "  Name: 16116, dtype: float64), (16043, Store Company ID    2.000304e+09\n",
       "  reviews_scraped     6.200000e+01\n",
       "  difference                   NaN\n",
       "  proportion                   NaN\n",
       "  review_count                 NaN\n",
       "  Name: 16043, dtype: float64), (16254, Store Company ID    2.000304e+09\n",
       "  reviews_scraped     4.300000e+01\n",
       "  difference                   NaN\n",
       "  proportion                   NaN\n",
       "  review_count                 NaN\n",
       "  Name: 16254, dtype: float64)]"
      ]
     },
     "metadata": {},
     "execution_count": 138
    }
   ],
   "source": [
    "id_dict = {}\n",
    "rows_to_drop = []\n",
    "for row in evals_with_dupes.iterrows():\n",
    "    company_id = row[1][\"Store Company ID\"]\n",
    "    reviews_scraped = row[1][\"reviews_scraped\"]\n",
    "    if company_id not in id_dict.keys():\n",
    "        id_dict[company_id] = row\n",
    "    else:\n",
    "        old_reviews_scraped = id_dict[company_id][1][\"reviews_scraped\"]\n",
    "        if (reviews_scraped <= old_reviews_scraped):\n",
    "            rows_to_drop.append(row)\n",
    "        else:\n",
    "            rows_to_drop.append(id_dict[company_id])\n",
    "            id_dict[company_id] = row\n",
    "rows_to_drop"
   ]
  },
  {
   "cell_type": "code",
   "execution_count": 137,
   "metadata": {},
   "outputs": [
    {
     "output_type": "execute_result",
     "data": {
      "text/plain": [
       "2000303508.0"
      ]
     },
     "metadata": {},
     "execution_count": 137
    }
   ],
   "source": [
    "d[1][\"Store Company ID\"]"
   ]
  },
  {
   "cell_type": "code",
   "execution_count": 146,
   "metadata": {},
   "outputs": [
    {
     "output_type": "execute_result",
     "data": {
      "text/plain": [
       "23"
      ]
     },
     "metadata": {},
     "execution_count": 146
    }
   ],
   "source": [
    "sum([x-1 for x in list(evals2[\"Store Company ID\"].value_counts())])"
   ]
  },
  {
   "cell_type": "code",
   "execution_count": 147,
   "metadata": {},
   "outputs": [
    {
     "output_type": "execute_result",
     "data": {
      "text/plain": [
       "23"
      ]
     },
     "metadata": {},
     "execution_count": 147
    }
   ],
   "source": [
    "len(rows_to_drop)"
   ]
  },
  {
   "cell_type": "code",
   "execution_count": 149,
   "metadata": {},
   "outputs": [],
   "source": [
    "indices_to_drop = [row[0] for row in rows_to_drop]"
   ]
  },
  {
   "cell_type": "code",
   "execution_count": 170,
   "metadata": {},
   "outputs": [
    {
     "output_type": "execute_result",
     "data": {
      "text/plain": [
       "[1123,\n",
       " 65,\n",
       " 66,\n",
       " 1619,\n",
       " 1641,\n",
       " 1656,\n",
       " 1663,\n",
       " 5300,\n",
       " 1674,\n",
       " 5302,\n",
       " 1687,\n",
       " 14552,\n",
       " 14608,\n",
       " 16080,\n",
       " 16146,\n",
       " 16147,\n",
       " 16149,\n",
       " 16150,\n",
       " 16151,\n",
       " 16152,\n",
       " 16153,\n",
       " 16079,\n",
       " 16291]"
      ]
     },
     "metadata": {},
     "execution_count": 170
    }
   ],
   "source": [
    "list(evals2.iloc[indices_to_drop].index)"
   ]
  },
  {
   "cell_type": "code",
   "execution_count": 172,
   "metadata": {},
   "outputs": [
    {
     "output_type": "execute_result",
     "data": {
      "text/plain": [
       "       Store Company ID  reviews_scraped  difference  proportion  review_count\n",
       "0            2000626213              293       -15.0    0.951299         308.0\n",
       "1            2000626218              626       -16.0    0.975078         642.0\n",
       "2            2000626221              889       -16.0    0.982320         905.0\n",
       "3            2000626224              728       -13.0    0.982456         741.0\n",
       "4            2000626226              333        -5.0    0.985207         338.0\n",
       "...                 ...              ...         ...         ...           ...\n",
       "16380        2000632587              212        -5.0    0.976959         217.0\n",
       "16381        2000632589              281        -4.0    0.985965         285.0\n",
       "16382        2000632595               89        -1.0    0.988889          90.0\n",
       "16383        2000745550               10         0.0    1.000000          10.0\n",
       "16384        2000745553               78        -2.0    0.975000          80.0\n",
       "\n",
       "[16325 rows x 5 columns]"
      ],
      "text/html": "<div>\n<style scoped>\n    .dataframe tbody tr th:only-of-type {\n        vertical-align: middle;\n    }\n\n    .dataframe tbody tr th {\n        vertical-align: top;\n    }\n\n    .dataframe thead th {\n        text-align: right;\n    }\n</style>\n<table border=\"1\" class=\"dataframe\">\n  <thead>\n    <tr style=\"text-align: right;\">\n      <th></th>\n      <th>Store Company ID</th>\n      <th>reviews_scraped</th>\n      <th>difference</th>\n      <th>proportion</th>\n      <th>review_count</th>\n    </tr>\n  </thead>\n  <tbody>\n    <tr>\n      <td>0</td>\n      <td>2000626213</td>\n      <td>293</td>\n      <td>-15.0</td>\n      <td>0.951299</td>\n      <td>308.0</td>\n    </tr>\n    <tr>\n      <td>1</td>\n      <td>2000626218</td>\n      <td>626</td>\n      <td>-16.0</td>\n      <td>0.975078</td>\n      <td>642.0</td>\n    </tr>\n    <tr>\n      <td>2</td>\n      <td>2000626221</td>\n      <td>889</td>\n      <td>-16.0</td>\n      <td>0.982320</td>\n      <td>905.0</td>\n    </tr>\n    <tr>\n      <td>3</td>\n      <td>2000626224</td>\n      <td>728</td>\n      <td>-13.0</td>\n      <td>0.982456</td>\n      <td>741.0</td>\n    </tr>\n    <tr>\n      <td>4</td>\n      <td>2000626226</td>\n      <td>333</td>\n      <td>-5.0</td>\n      <td>0.985207</td>\n      <td>338.0</td>\n    </tr>\n    <tr>\n      <td>...</td>\n      <td>...</td>\n      <td>...</td>\n      <td>...</td>\n      <td>...</td>\n      <td>...</td>\n    </tr>\n    <tr>\n      <td>16380</td>\n      <td>2000632587</td>\n      <td>212</td>\n      <td>-5.0</td>\n      <td>0.976959</td>\n      <td>217.0</td>\n    </tr>\n    <tr>\n      <td>16381</td>\n      <td>2000632589</td>\n      <td>281</td>\n      <td>-4.0</td>\n      <td>0.985965</td>\n      <td>285.0</td>\n    </tr>\n    <tr>\n      <td>16382</td>\n      <td>2000632595</td>\n      <td>89</td>\n      <td>-1.0</td>\n      <td>0.988889</td>\n      <td>90.0</td>\n    </tr>\n    <tr>\n      <td>16383</td>\n      <td>2000745550</td>\n      <td>10</td>\n      <td>0.0</td>\n      <td>1.000000</td>\n      <td>10.0</td>\n    </tr>\n    <tr>\n      <td>16384</td>\n      <td>2000745553</td>\n      <td>78</td>\n      <td>-2.0</td>\n      <td>0.975000</td>\n      <td>80.0</td>\n    </tr>\n  </tbody>\n</table>\n<p>16325 rows × 5 columns</p>\n</div>"
     },
     "metadata": {},
     "execution_count": 172
    }
   ],
   "source": [
    "evals2[~evals2.index.isin(list(evals2.iloc[indices_to_drop].index))]"
   ]
  },
  {
   "cell_type": "code",
   "execution_count": 173,
   "metadata": {},
   "outputs": [
    {
     "output_type": "execute_result",
     "data": {
      "text/plain": [
       "Store Company ID    1.000851e+09\n",
       "reviews_scraped     3.330000e+02\n",
       "difference          0.000000e+00\n",
       "proportion          1.000000e+00\n",
       "review_count        3.330000e+02\n",
       "Name: 1123, dtype: float64"
      ]
     },
     "metadata": {},
     "execution_count": 173
    }
   ],
   "source": [
    "evals2.iloc[1117]"
   ]
  },
  {
   "cell_type": "code",
   "execution_count": 177,
   "metadata": {},
   "outputs": [],
   "source": [
    "evals_nodupes = evals2.drop(indices_to_drop)"
   ]
  },
  {
   "cell_type": "code",
   "execution_count": 179,
   "metadata": {},
   "outputs": [
    {
     "output_type": "execute_result",
     "data": {
      "text/plain": [
       "Empty DataFrame\n",
       "Columns: [Store Company ID, reviews_scraped, difference, proportion, review_count]\n",
       "Index: []"
      ],
      "text/html": "<div>\n<style scoped>\n    .dataframe tbody tr th:only-of-type {\n        vertical-align: middle;\n    }\n\n    .dataframe tbody tr th {\n        vertical-align: top;\n    }\n\n    .dataframe thead th {\n        text-align: right;\n    }\n</style>\n<table border=\"1\" class=\"dataframe\">\n  <thead>\n    <tr style=\"text-align: right;\">\n      <th></th>\n      <th>Store Company ID</th>\n      <th>reviews_scraped</th>\n      <th>difference</th>\n      <th>proportion</th>\n      <th>review_count</th>\n    </tr>\n  </thead>\n  <tbody>\n  </tbody>\n</table>\n</div>"
     },
     "metadata": {},
     "execution_count": 179
    }
   ],
   "source": [
    "evals_nodupes[evals_nodupes[\"Store Company ID\"].duplicated()]"
   ]
  },
  {
   "cell_type": "code",
   "execution_count": 187,
   "metadata": {},
   "outputs": [],
   "source": [
    "master_nodupes = pd.merge(scraped_master, evals_nodupes, on=[\"Store Company ID\"])"
   ]
  },
  {
   "cell_type": "code",
   "execution_count": 191,
   "metadata": {},
   "outputs": [],
   "source": [
    "master_rc_nodupes = pd.concat([master_nodupes, diff_rc], ignore_index=True)"
   ]
  },
  {
   "cell_type": "code",
   "execution_count": 192,
   "metadata": {},
   "outputs": [
    {
     "output_type": "execute_result",
     "data": {
      "text/plain": [
       "       Store Company ID  Industry ID                 Industry Name  \\\n",
       "0            2000626178           51  Locations: Chain Restaurants   \n",
       "1            2000626186           51  Locations: Chain Restaurants   \n",
       "2            2000626189           51  Locations: Chain Restaurants   \n",
       "3            2000626192           51  Locations: Chain Restaurants   \n",
       "4            2000626194           51  Locations: Chain Restaurants   \n",
       "...                 ...          ...                           ...   \n",
       "29018        2000743484           51  Locations: Chain Restaurants   \n",
       "29019        2000479267           51  Locations: Chain Restaurants   \n",
       "29020        2000479270           51  Locations: Chain Restaurants   \n",
       "29021        2000745554           51  Locations: Chain Restaurants   \n",
       "29022        2000745557           51  Locations: Chain Restaurants   \n",
       "\n",
       "                     Company Name                 Address 1            City  \\\n",
       "0      Anthony's Coal Fired Pizza           984 State Rt 17          RAMSEY   \n",
       "1      Anthony's Coal Fired Pizza           80 Parsonage Rd          EDISON   \n",
       "2      Anthony's Coal Fired Pizza         6401 Jericho Tpke         COMMACK   \n",
       "3      Anthony's Coal Fired Pizza    50 East Wynnewood Road       WYNNEWOOD   \n",
       "4      Anthony's Coal Fired Pizza       48 Walkers Brook Dr         READING   \n",
       "...                           ...                       ...             ...   \n",
       "29018               VOCELLI PIZZA          5025 LINDBERG ST         LINCOLN   \n",
       "29019               Vocelli Pizza         617 Warrendale Rd        GIBSONIA   \n",
       "29020               Vocelli Pizza  1605 Jefferson Davis Hwy  FREDERICKSBURG   \n",
       "29021                      zpizza               650 LINCOLN        COLUMBIA   \n",
       "29022                      zpizza     DAY STREET EUCALYPTUS   MORENO VALLEY   \n",
       "\n",
       "      State         Zip Listing Type                   Country         Phone  \\\n",
       "0        NJ  07446-1607     Location  United States of America  2.018183e+09   \n",
       "1        NJ  08837-2416     Location  United States of America  7.327442e+09   \n",
       "2        NY  11725-2832     Location  United States of America  6.318583e+09   \n",
       "3        PA       19096     Location  United States of America  6.106455e+09   \n",
       "4        MA  01867-3224     Location  United States of America  7.819448e+09   \n",
       "...     ...         ...          ...                       ...           ...   \n",
       "29018    NE       68516     Location  United States of America           NaN   \n",
       "29019    PA  15044-8044     Location  United States of America           NaN   \n",
       "29020    VA  22401-4651     Location  United States of America  5.403694e+09   \n",
       "29021    SC       29201     Location  United States of America  8.038887e+09   \n",
       "29022    CA       92553     Location  United States of America           NaN   \n",
       "\n",
       "                                             Google Link  reviews_scraped  \\\n",
       "0      https://www.google.com/maps/place/Anthony's+Co...              385   \n",
       "1      https://www.google.com/maps/place/Anthony's+Co...              799   \n",
       "2      https://www.google.com/maps/place/Anthony's+Co...              388   \n",
       "3      https://www.google.com/maps/place/Anthony's+Co...              322   \n",
       "4      https://www.google.com/maps/place/Anthony's+Co...              203   \n",
       "...                                                  ...              ...   \n",
       "29018                                                NaN                0   \n",
       "29019                                                NaN                0   \n",
       "29020  https://www.google.com/maps/place/Vocelli+Pizz...                0   \n",
       "29021  https://www.google.com/maps/place/650+Lincoln/...                0   \n",
       "29022  https://www.google.com/maps/place/zpizza+Tap+R...                0   \n",
       "\n",
       "       difference  proportion  review_count  \n",
       "0           -10.0    0.974684         395.0  \n",
       "1           -25.0    0.969660         824.0  \n",
       "2           -10.0    0.974874         398.0  \n",
       "3           -10.0    0.969880         332.0  \n",
       "4            -9.0    0.957547         212.0  \n",
       "...           ...         ...           ...  \n",
       "29018         NaN    0.000000           NaN  \n",
       "29019       -38.0    0.000000          38.0  \n",
       "29020         NaN    0.000000           NaN  \n",
       "29021        -3.0    0.000000           3.0  \n",
       "29022         NaN    0.000000           NaN  \n",
       "\n",
       "[29023 rows x 16 columns]"
      ],
      "text/html": "<div>\n<style scoped>\n    .dataframe tbody tr th:only-of-type {\n        vertical-align: middle;\n    }\n\n    .dataframe tbody tr th {\n        vertical-align: top;\n    }\n\n    .dataframe thead th {\n        text-align: right;\n    }\n</style>\n<table border=\"1\" class=\"dataframe\">\n  <thead>\n    <tr style=\"text-align: right;\">\n      <th></th>\n      <th>Store Company ID</th>\n      <th>Industry ID</th>\n      <th>Industry Name</th>\n      <th>Company Name</th>\n      <th>Address 1</th>\n      <th>City</th>\n      <th>State</th>\n      <th>Zip</th>\n      <th>Listing Type</th>\n      <th>Country</th>\n      <th>Phone</th>\n      <th>Google Link</th>\n      <th>reviews_scraped</th>\n      <th>difference</th>\n      <th>proportion</th>\n      <th>review_count</th>\n    </tr>\n  </thead>\n  <tbody>\n    <tr>\n      <td>0</td>\n      <td>2000626178</td>\n      <td>51</td>\n      <td>Locations: Chain Restaurants</td>\n      <td>Anthony's Coal Fired Pizza</td>\n      <td>984 State Rt 17</td>\n      <td>RAMSEY</td>\n      <td>NJ</td>\n      <td>07446-1607</td>\n      <td>Location</td>\n      <td>United States of America</td>\n      <td>2.018183e+09</td>\n      <td>https://www.google.com/maps/place/Anthony's+Co...</td>\n      <td>385</td>\n      <td>-10.0</td>\n      <td>0.974684</td>\n      <td>395.0</td>\n    </tr>\n    <tr>\n      <td>1</td>\n      <td>2000626186</td>\n      <td>51</td>\n      <td>Locations: Chain Restaurants</td>\n      <td>Anthony's Coal Fired Pizza</td>\n      <td>80 Parsonage Rd</td>\n      <td>EDISON</td>\n      <td>NJ</td>\n      <td>08837-2416</td>\n      <td>Location</td>\n      <td>United States of America</td>\n      <td>7.327442e+09</td>\n      <td>https://www.google.com/maps/place/Anthony's+Co...</td>\n      <td>799</td>\n      <td>-25.0</td>\n      <td>0.969660</td>\n      <td>824.0</td>\n    </tr>\n    <tr>\n      <td>2</td>\n      <td>2000626189</td>\n      <td>51</td>\n      <td>Locations: Chain Restaurants</td>\n      <td>Anthony's Coal Fired Pizza</td>\n      <td>6401 Jericho Tpke</td>\n      <td>COMMACK</td>\n      <td>NY</td>\n      <td>11725-2832</td>\n      <td>Location</td>\n      <td>United States of America</td>\n      <td>6.318583e+09</td>\n      <td>https://www.google.com/maps/place/Anthony's+Co...</td>\n      <td>388</td>\n      <td>-10.0</td>\n      <td>0.974874</td>\n      <td>398.0</td>\n    </tr>\n    <tr>\n      <td>3</td>\n      <td>2000626192</td>\n      <td>51</td>\n      <td>Locations: Chain Restaurants</td>\n      <td>Anthony's Coal Fired Pizza</td>\n      <td>50 East Wynnewood Road</td>\n      <td>WYNNEWOOD</td>\n      <td>PA</td>\n      <td>19096</td>\n      <td>Location</td>\n      <td>United States of America</td>\n      <td>6.106455e+09</td>\n      <td>https://www.google.com/maps/place/Anthony's+Co...</td>\n      <td>322</td>\n      <td>-10.0</td>\n      <td>0.969880</td>\n      <td>332.0</td>\n    </tr>\n    <tr>\n      <td>4</td>\n      <td>2000626194</td>\n      <td>51</td>\n      <td>Locations: Chain Restaurants</td>\n      <td>Anthony's Coal Fired Pizza</td>\n      <td>48 Walkers Brook Dr</td>\n      <td>READING</td>\n      <td>MA</td>\n      <td>01867-3224</td>\n      <td>Location</td>\n      <td>United States of America</td>\n      <td>7.819448e+09</td>\n      <td>https://www.google.com/maps/place/Anthony's+Co...</td>\n      <td>203</td>\n      <td>-9.0</td>\n      <td>0.957547</td>\n      <td>212.0</td>\n    </tr>\n    <tr>\n      <td>...</td>\n      <td>...</td>\n      <td>...</td>\n      <td>...</td>\n      <td>...</td>\n      <td>...</td>\n      <td>...</td>\n      <td>...</td>\n      <td>...</td>\n      <td>...</td>\n      <td>...</td>\n      <td>...</td>\n      <td>...</td>\n      <td>...</td>\n      <td>...</td>\n      <td>...</td>\n      <td>...</td>\n    </tr>\n    <tr>\n      <td>29018</td>\n      <td>2000743484</td>\n      <td>51</td>\n      <td>Locations: Chain Restaurants</td>\n      <td>VOCELLI PIZZA</td>\n      <td>5025 LINDBERG ST</td>\n      <td>LINCOLN</td>\n      <td>NE</td>\n      <td>68516</td>\n      <td>Location</td>\n      <td>United States of America</td>\n      <td>NaN</td>\n      <td>NaN</td>\n      <td>0</td>\n      <td>NaN</td>\n      <td>0.000000</td>\n      <td>NaN</td>\n    </tr>\n    <tr>\n      <td>29019</td>\n      <td>2000479267</td>\n      <td>51</td>\n      <td>Locations: Chain Restaurants</td>\n      <td>Vocelli Pizza</td>\n      <td>617 Warrendale Rd</td>\n      <td>GIBSONIA</td>\n      <td>PA</td>\n      <td>15044-8044</td>\n      <td>Location</td>\n      <td>United States of America</td>\n      <td>NaN</td>\n      <td>NaN</td>\n      <td>0</td>\n      <td>-38.0</td>\n      <td>0.000000</td>\n      <td>38.0</td>\n    </tr>\n    <tr>\n      <td>29020</td>\n      <td>2000479270</td>\n      <td>51</td>\n      <td>Locations: Chain Restaurants</td>\n      <td>Vocelli Pizza</td>\n      <td>1605 Jefferson Davis Hwy</td>\n      <td>FREDERICKSBURG</td>\n      <td>VA</td>\n      <td>22401-4651</td>\n      <td>Location</td>\n      <td>United States of America</td>\n      <td>5.403694e+09</td>\n      <td>https://www.google.com/maps/place/Vocelli+Pizz...</td>\n      <td>0</td>\n      <td>NaN</td>\n      <td>0.000000</td>\n      <td>NaN</td>\n    </tr>\n    <tr>\n      <td>29021</td>\n      <td>2000745554</td>\n      <td>51</td>\n      <td>Locations: Chain Restaurants</td>\n      <td>zpizza</td>\n      <td>650 LINCOLN</td>\n      <td>COLUMBIA</td>\n      <td>SC</td>\n      <td>29201</td>\n      <td>Location</td>\n      <td>United States of America</td>\n      <td>8.038887e+09</td>\n      <td>https://www.google.com/maps/place/650+Lincoln/...</td>\n      <td>0</td>\n      <td>-3.0</td>\n      <td>0.000000</td>\n      <td>3.0</td>\n    </tr>\n    <tr>\n      <td>29022</td>\n      <td>2000745557</td>\n      <td>51</td>\n      <td>Locations: Chain Restaurants</td>\n      <td>zpizza</td>\n      <td>DAY STREET EUCALYPTUS</td>\n      <td>MORENO VALLEY</td>\n      <td>CA</td>\n      <td>92553</td>\n      <td>Location</td>\n      <td>United States of America</td>\n      <td>NaN</td>\n      <td>https://www.google.com/maps/place/zpizza+Tap+R...</td>\n      <td>0</td>\n      <td>NaN</td>\n      <td>0.000000</td>\n      <td>NaN</td>\n    </tr>\n  </tbody>\n</table>\n<p>29023 rows × 16 columns</p>\n</div>"
     },
     "metadata": {},
     "execution_count": 192
    }
   ],
   "source": [
    "master_rc_nodupes"
   ]
  },
  {
   "cell_type": "code",
   "execution_count": 195,
   "metadata": {},
   "outputs": [],
   "source": [
    "master_rc_nodupes.to_csv(\"master_review_counts.csv\")"
   ]
  },
  {
   "cell_type": "code",
   "execution_count": 9,
   "metadata": {},
   "outputs": [],
   "source": [
    "rev_counts = pd.read_csv(\"C:\\\\Users\\\\Spencer\\\\Desktop\\\\clean\\\\data\\\\master_review_counts.csv\")"
   ]
  },
  {
   "cell_type": "code",
   "execution_count": 6,
   "metadata": {},
   "outputs": [],
   "source": [
    "from utilities import process_company_names"
   ]
  },
  {
   "cell_type": "code",
   "execution_count": 26,
   "metadata": {},
   "outputs": [],
   "source": [
    "process_company_names(rev_counts, \"Company Name\", \"company_name\")"
   ]
  },
  {
   "cell_type": "code",
   "execution_count": 23,
   "metadata": {},
   "outputs": [],
   "source": [
    "rev_counts = rev_counts.drop(\"Unnamed: 0\", axis=1)"
   ]
  },
  {
   "cell_type": "code",
   "execution_count": 27,
   "metadata": {},
   "outputs": [],
   "source": [
    "rev_counts.to_csv(\"master_review_counts.csv\", index=False)"
   ]
  },
  {
   "cell_type": "code",
   "execution_count": 32,
   "metadata": {},
   "outputs": [],
   "source": [
    "scraped_companies = rev_counts[rev_counts[\"reviews_scraped\"]!=0][\"company_name\"].unique()"
   ]
  },
  {
   "cell_type": "code",
   "execution_count": 35,
   "metadata": {},
   "outputs": [],
   "source": [
    "unscraped_company_locations = rev_counts[rev_counts[\"reviews_scraped\"]==0][~rev_counts[\"company_name\"].isin(scraped_companies)]"
   ]
  },
  {
   "cell_type": "code",
   "execution_count": 36,
   "metadata": {},
   "outputs": [
    {
     "output_type": "execute_result",
     "data": {
      "text/plain": [
       "array(['blackjack_pizza',\n",
       "       'bostons_the_gourmet_pizza_restaurant_&_sports_bar', 'cobalt',\n",
       "       'dominos', 'hungry_howies_pizza_&_subs', 'little_caesars',\n",
       "       'little_caesars_pizza', 'pizza_italia', 'schmizza_pub_&_grub',\n",
       "       'south_philly_steaks_&_fries', 'the_market', 'the_market_by_villa'],\n",
       "      dtype=object)"
      ]
     },
     "metadata": {},
     "execution_count": 36
    }
   ],
   "source": [
    "unscraped_company_locations[\"company_name\"].unique()"
   ]
  },
  {
   "cell_type": "code",
   "execution_count": 39,
   "metadata": {},
   "outputs": [],
   "source": [
    "final_unscraped_company_locations = unscraped_company_locations[~unscraped_company_locations[\"company_name\"].isin([\"dominos\", \"little_caesars\", \"little_caesars_pizza\"])]"
   ]
  },
  {
   "cell_type": "code",
   "execution_count": 41,
   "metadata": {},
   "outputs": [],
   "source": [
    "final_unscraped_company_locations.to_csv(\"C:\\\\Users\\\\Spencer\\\\Desktop\\\\clean\\\\data\\\\unscraped_company_locations.csv\", index=False)"
   ]
  },
  {
   "cell_type": "code",
   "execution_count": 43,
   "metadata": {},
   "outputs": [],
   "source": [
    "unsearchable_locations = final_unscraped_company_locations[final_unscraped_company_locations[\"review_count\"].isnull()]"
   ]
  },
  {
   "cell_type": "code",
   "execution_count": 46,
   "metadata": {},
   "outputs": [
    {
     "output_type": "execute_result",
     "data": {
      "text/plain": [
       "array(['cobalt', 'hungry_howies_pizza_&_subs', 'pizza_italia',\n",
       "       'schmizza_pub_&_grub', 'south_philly_steaks_&_fries', 'the_market'],\n",
       "      dtype=object)"
      ]
     },
     "metadata": {},
     "execution_count": 46
    }
   ],
   "source": [
    "unsearchable_locations[\"company_name\"].unique()"
   ]
  },
  {
   "cell_type": "code",
   "execution_count": 47,
   "metadata": {},
   "outputs": [],
   "source": [
    "searchable_locations = final_unscraped_company_locations[~final_unscraped_company_locations[\"review_count\"].isnull()]"
   ]
  },
  {
   "cell_type": "code",
   "execution_count": 48,
   "metadata": {},
   "outputs": [
    {
     "output_type": "execute_result",
     "data": {
      "text/plain": [
       "array(['blackjack_pizza',\n",
       "       'bostons_the_gourmet_pizza_restaurant_&_sports_bar',\n",
       "       'the_market_by_villa'], dtype=object)"
      ]
     },
     "metadata": {},
     "execution_count": 48
    }
   ],
   "source": [
    "searchable_locations[\"company_name\"].unique()"
   ]
  },
  {
   "cell_type": "code",
   "execution_count": 52,
   "metadata": {},
   "outputs": [],
   "source": [
    "searchable_locations_final = searchable_locations[searchable_locations[\"company_name\"]!=\"the_market_by_villa\"]"
   ]
  },
  {
   "cell_type": "code",
   "execution_count": 53,
   "metadata": {},
   "outputs": [],
   "source": [
    "searchable_locations_final.to_csv(\"unscraped_searchable.csv\", index=False)"
   ]
  },
  {
   "cell_type": "code",
   "execution_count": 57,
   "metadata": {},
   "outputs": [],
   "source": [
    "unsearchable_locations_final = unsearchable_locations[~unsearchable_locations[\"company_name\"].isin([\"pizza_italia\"])]"
   ]
  },
  {
   "cell_type": "code",
   "execution_count": 58,
   "metadata": {},
   "outputs": [
    {
     "output_type": "execute_result",
     "data": {
      "text/plain": [
       "array(['cobalt', 'hungry_howies_pizza_&_subs', 'schmizza_pub_&_grub',\n",
       "       'south_philly_steaks_&_fries', 'the_market'], dtype=object)"
      ]
     },
     "metadata": {},
     "execution_count": 58
    }
   ],
   "source": [
    "unsearchable_locations_final[\"company_name\"].unique()"
   ]
  },
  {
   "cell_type": "code",
   "execution_count": 59,
   "metadata": {},
   "outputs": [
    {
     "output_type": "execute_result",
     "data": {
      "text/plain": [
       "array(['blackjack_pizza',\n",
       "       'bostons_the_gourmet_pizza_restaurant_&_sports_bar'], dtype=object)"
      ]
     },
     "metadata": {},
     "execution_count": 59
    }
   ],
   "source": [
    "searchable_locations_final[\"company_name\"].unique()"
   ]
  },
  {
   "cell_type": "code",
   "execution_count": 60,
   "metadata": {},
   "outputs": [],
   "source": [
    "unsearchable_locations_final.to_csv(\"unscraped_unsearchable.csv\", index=False)"
   ]
  },
  {
   "cell_type": "code",
   "execution_count": 1,
   "metadata": {},
   "outputs": [],
   "source": [
    "from evaluate import evaluate_all"
   ]
  },
  {
   "cell_type": "code",
   "execution_count": null,
   "metadata": {},
   "outputs": [],
   "source": [
    "data_path = \"C:\\\\Users\\\\Spencer\\\\Desktop\\\\clean\\\\data\\\\scraps.csv\"\n",
    "output_path = \"C:\\\\Users\\\\Spencer\\\\Desktop\\\\clean\\\\data\\\\review_counts_closed_2019.csv\"\n",
    "id_col = \"Company ID\"\n",
    "search_terms = [\"Company Name\", \"Address 1\", \"City\", \"State\", \"Zip\"]\n",
    "new_url_col = \"url\"\n",
    "\n",
    "evaluate_locations(data_path=data_path, output_path=output_path, id_col=id_col, search_terms=search_terms, new_url_col=new_url_col)"
   ]
  }
 ]
}