{
 "metadata": {
  "language_info": {
   "codemirror_mode": {
    "name": "ipython",
    "version": 3
   },
   "file_extension": ".py",
   "mimetype": "text/x-python",
   "name": "python",
   "nbconvert_exporter": "python",
   "pygments_lexer": "ipython3",
   "version": "3.7.0-final"
  },
  "orig_nbformat": 2,
  "kernelspec": {
   "name": "python3",
   "display_name": "Python 3"
  }
 },
 "nbformat": 4,
 "nbformat_minor": 2,
 "cells": [
  {
   "cell_type": "code",
   "execution_count": 1,
   "metadata": {},
   "outputs": [],
   "source": [
    "from company_id import add_company_ids"
   ]
  },
  {
   "cell_type": "code",
   "execution_count": 2,
   "metadata": {
    "tags": [
     "outputPrepend"
    ]
   },
   "outputs": [
    {
     "output_type": "stream",
     "name": "stdout",
     "text": [
      "chen_2000041229.csv\n",
      "Saving to C:\\Users\\Spencer\\Desktop\\clean\\data\\data_with_id\\california_pizza_kitchen_10_13_2020\\california_pizza_kitchen_2000041243.csv\n",
      "Saving to C:\\Users\\Spencer\\Desktop\\clean\\data\\data_with_id\\california_pizza_kitchen_10_13_2020\\california_pizza_kitchen_2000041267.csv\n",
      "Saving to C:\\Users\\Spencer\\Desktop\\clean\\data\\data_with_id\\california_pizza_kitchen_10_13_2020\\california_pizza_kitchen_2000041251.csv\n",
      "Saving to C:\\Users\\Spencer\\Desktop\\clean\\data\\data_with_id\\california_pizza_kitchen_10_13_2020\\california_pizza_kitchen_2000041257.csv\n",
      "Saving to C:\\Users\\Spencer\\Desktop\\clean\\data\\data_with_id\\california_pizza_kitchen_10_13_2020\\california_pizza_kitchen_2000041274.csv\n",
      "Saving to C:\\Users\\Spencer\\Desktop\\clean\\data\\data_with_id\\california_pizza_kitchen_10_13_2020\\california_pizza_kitchen_2000041279.csv\n",
      "Saving to C:\\Users\\Spencer\\Desktop\\clean\\data\\data_with_id\\california_pizza_kitchen_10_13_2020\\california_pizza_kitchen_2000041287.csv\n",
      "Saving to C:\\Users\\Spencer\\Desktop\\clean\\data\\data_with_id\\california_pizza_kitchen_10_13_2020\\california_pizza_kitchen_2000041288.csv\n",
      "Saving to C:\\Users\\Spencer\\Desktop\\clean\\data\\data_with_id\\california_pizza_kitchen_10_13_2020\\california_pizza_kitchen_2000041294.csv\n",
      "Saving to C:\\Users\\Spencer\\Desktop\\clean\\data\\data_with_id\\california_pizza_kitchen_10_13_2020\\california_pizza_kitchen_2000041310.csv\n",
      "Saving to C:\\Users\\Spencer\\Desktop\\clean\\data\\data_with_id\\california_pizza_kitchen_10_13_2020\\california_pizza_kitchen_2000041317.csv\n",
      "Saving to C:\\Users\\Spencer\\Desktop\\clean\\data\\data_with_id\\california_pizza_kitchen_10_13_2020\\california_pizza_kitchen_2000041327.csv\n",
      "Saving to C:\\Users\\Spencer\\Desktop\\clean\\data\\data_with_id\\california_pizza_kitchen_10_13_2020\\california_pizza_kitchen_2000041339.csv\n",
      "Saving to C:\\Users\\Spencer\\Desktop\\clean\\data\\data_with_id\\california_pizza_kitchen_10_13_2020\\california_pizza_kitchen_2000041347.csv\n",
      "Saving to C:\\Users\\Spencer\\Desktop\\clean\\data\\data_with_id\\california_pizza_kitchen_10_13_2020\\california_pizza_kitchen_2000041356.csv\n",
      "Saving to C:\\Users\\Spencer\\Desktop\\clean\\data\\data_with_id\\california_pizza_kitchen_10_13_2020\\california_pizza_kitchen_2000041361.csv\n",
      "Saving to C:\\Users\\Spencer\\Desktop\\clean\\data\\data_with_id\\california_pizza_kitchen_10_13_2020\\california_pizza_kitchen_2000041369.csv\n",
      "Saving to C:\\Users\\Spencer\\Desktop\\clean\\data\\data_with_id\\california_pizza_kitchen_10_13_2020\\california_pizza_kitchen_2000041373.csv\n",
      "Saving to C:\\Users\\Spencer\\Desktop\\clean\\data\\data_with_id\\california_pizza_kitchen_10_13_2020\\california_pizza_kitchen_2000041384.csv\n",
      "Saving to C:\\Users\\Spencer\\Desktop\\clean\\data\\data_with_id\\california_pizza_kitchen_10_13_2020\\california_pizza_kitchen_2000041387.csv\n",
      "Saving to C:\\Users\\Spencer\\Desktop\\clean\\data\\data_with_id\\california_pizza_kitchen_10_13_2020\\california_pizza_kitchen_2000041388.csv\n",
      "Saving to C:\\Users\\Spencer\\Desktop\\clean\\data\\data_with_id\\california_pizza_kitchen_10_13_2020\\california_pizza_kitchen_2000041394.csv\n",
      "Saving to C:\\Users\\Spencer\\Desktop\\clean\\data\\data_with_id\\california_pizza_kitchen_10_13_2020\\california_pizza_kitchen_2000041400.csv\n",
      "Saving to C:\\Users\\Spencer\\Desktop\\clean\\data\\data_with_id\\california_pizza_kitchen_10_13_2020\\california_pizza_kitchen_2000041412.csv\n",
      "Saving to C:\\Users\\Spencer\\Desktop\\clean\\data\\data_with_id\\california_pizza_kitchen_10_13_2020\\california_pizza_kitchen_2000041413.csv\n",
      "Saving to C:\\Users\\Spencer\\Desktop\\clean\\data\\data_with_id\\california_pizza_kitchen_10_13_2020\\california_pizza_kitchen_2000041426.csv\n",
      "Saving to C:\\Users\\Spencer\\Desktop\\clean\\data\\data_with_id\\california_pizza_kitchen_10_13_2020\\california_pizza_kitchen_2000041433.csv\n",
      "Saving to C:\\Users\\Spencer\\Desktop\\clean\\data\\data_with_id\\california_pizza_kitchen_10_13_2020\\california_pizza_kitchen_2000041451.csv\n",
      "Saving to C:\\Users\\Spencer\\Desktop\\clean\\data\\data_with_id\\california_pizza_kitchen_10_13_2020\\california_pizza_kitchen_2000041460.csv\n",
      "Saving to C:\\Users\\Spencer\\Desktop\\clean\\data\\data_with_id\\california_pizza_kitchen_10_13_2020\\california_pizza_kitchen_2000041283.csv\n",
      "Saving to C:\\Users\\Spencer\\Desktop\\clean\\data\\data_with_id\\california_pizza_kitchen_10_13_2020\\california_pizza_kitchen_2000041314.csv\n",
      "Saving to C:\\Users\\Spencer\\Desktop\\clean\\data\\data_with_id\\california_pizza_kitchen_10_13_2020\\california_pizza_kitchen_2000041338.csv\n",
      "Saving to C:\\Users\\Spencer\\Desktop\\clean\\data\\data_with_id\\california_pizza_kitchen_10_13_2020\\california_pizza_kitchen_2000041343.csv\n",
      "Saving to C:\\Users\\Spencer\\Desktop\\clean\\data\\data_with_id\\california_pizza_kitchen_10_13_2020\\california_pizza_kitchen_2000041354.csv\n",
      "Saving to C:\\Users\\Spencer\\Desktop\\clean\\data\\data_with_id\\california_pizza_kitchen_10_13_2020\\california_pizza_kitchen_2000041378.csv\n",
      "Saving to C:\\Users\\Spencer\\Desktop\\clean\\data\\data_with_id\\california_pizza_kitchen_10_13_2020\\california_pizza_kitchen_2000041385.csv\n",
      "Saving to C:\\Users\\Spencer\\Desktop\\clean\\data\\data_with_id\\california_pizza_kitchen_10_13_2020\\california_pizza_kitchen_2000041396.csv\n",
      "Saving to C:\\Users\\Spencer\\Desktop\\clean\\data\\data_with_id\\california_pizza_kitchen_10_13_2020\\california_pizza_kitchen_2000041398.csv\n",
      "Saving to C:\\Users\\Spencer\\Desktop\\clean\\data\\data_with_id\\california_pizza_kitchen_10_13_2020\\california_pizza_kitchen_2000041411.csv\n",
      "Saving to C:\\Users\\Spencer\\Desktop\\clean\\data\\data_with_id\\california_pizza_kitchen_10_13_2020\\california_pizza_kitchen_2000041452.csv\n",
      "Saving to C:\\Users\\Spencer\\Desktop\\clean\\data\\data_with_id\\california_pizza_kitchen_10_13_2020\\california_pizza_kitchen_2000092261.csv\n",
      "Saving to C:\\Users\\Spencer\\Desktop\\clean\\data\\data_with_id\\california_pizza_kitchen_10_13_2020\\california_pizza_kitchen_2000074422.csv\n",
      "Saving to C:\\Users\\Spencer\\Desktop\\clean\\data\\data_with_id\\california_pizza_kitchen_10_13_2020\\california_pizza_kitchen_2000086846.csv\n",
      "Saving to C:\\Users\\Spencer\\Desktop\\clean\\data\\data_with_id\\california_pizza_kitchen_10_13_2020\\california_pizza_kitchen_2000116966.csv\n",
      "Saving to C:\\Users\\Spencer\\Desktop\\clean\\data\\data_with_id\\california_pizza_kitchen_10_13_2020\\california_pizza_kitchen_2000128191.csv\n",
      "Saving to C:\\Users\\Spencer\\Desktop\\clean\\data\\data_with_id\\california_pizza_kitchen_10_13_2020\\california_pizza_kitchen_2000196125.csv\n",
      "Saving to C:\\Users\\Spencer\\Desktop\\clean\\data\\data_with_id\\california_pizza_kitchen_10_13_2020\\california_pizza_kitchen_2000390914.csv\n",
      "Saving to C:\\Users\\Spencer\\Desktop\\clean\\data\\data_with_id\\california_pizza_kitchen_10_13_2020\\california_pizza_kitchen_2000390913.csv\n",
      "Saving to C:\\Users\\Spencer\\Desktop\\clean\\data\\data_with_id\\california_pizza_kitchen_10_13_2020\\california_pizza_kitchen_2000390915.csv\n",
      "Saving to C:\\Users\\Spencer\\Desktop\\clean\\data\\data_with_id\\california_pizza_kitchen_10_13_2020\\california_pizza_kitchen_2000041078.csv\n",
      "Saving to C:\\Users\\Spencer\\Desktop\\clean\\data\\data_with_id\\california_pizza_kitchen_10_13_2020\\california_pizza_kitchen_2000041079.csv\n",
      "Saving to C:\\Users\\Spencer\\Desktop\\clean\\data\\data_with_id\\california_pizza_kitchen_10_13_2020\\california_pizza_kitchen_2000041092.csv\n",
      "Saving to C:\\Users\\Spencer\\Desktop\\clean\\data\\data_with_id\\california_pizza_kitchen_10_13_2020\\california_pizza_kitchen_2000041103.csv\n",
      "Saving to C:\\Users\\Spencer\\Desktop\\clean\\data\\data_with_id\\california_pizza_kitchen_10_13_2020\\california_pizza_kitchen_2000041106.csv\n",
      "Saving to C:\\Users\\Spencer\\Desktop\\clean\\data\\data_with_id\\california_pizza_kitchen_10_13_2020\\california_pizza_kitchen_2000041116.csv\n",
      "Saving to C:\\Users\\Spencer\\Desktop\\clean\\data\\data_with_id\\california_pizza_kitchen_10_13_2020\\california_pizza_kitchen_2000041117.csv\n",
      "Saving to C:\\Users\\Spencer\\Desktop\\clean\\data\\data_with_id\\california_pizza_kitchen_10_13_2020\\california_pizza_kitchen_2000041125.csv\n",
      "Saving to C:\\Users\\Spencer\\Desktop\\clean\\data\\data_with_id\\california_pizza_kitchen_10_13_2020\\california_pizza_kitchen_2000041134.csv\n",
      "Saving to C:\\Users\\Spencer\\Desktop\\clean\\data\\data_with_id\\california_pizza_kitchen_10_13_2020\\california_pizza_kitchen_2000041067.csv\n",
      "Saving to C:\\Users\\Spencer\\Desktop\\clean\\data\\data_with_id\\california_pizza_kitchen_10_13_2020\\california_pizza_kitchen_2000041094.csv\n",
      "Saving to C:\\Users\\Spencer\\Desktop\\clean\\data\\data_with_id\\california_pizza_kitchen_10_13_2020\\california_pizza_kitchen_2000041100.csv\n",
      "Saving to C:\\Users\\Spencer\\Desktop\\clean\\data\\data_with_id\\california_pizza_kitchen_10_13_2020\\california_pizza_kitchen_2000041107.csv\n",
      "Saving to C:\\Users\\Spencer\\Desktop\\clean\\data\\data_with_id\\california_pizza_kitchen_10_13_2020\\california_pizza_kitchen_2000041114.csv\n",
      "Saving to C:\\Users\\Spencer\\Desktop\\clean\\data\\data_with_id\\california_pizza_kitchen_10_13_2020\\california_pizza_kitchen_2000041115.csv\n",
      "Saving to C:\\Users\\Spencer\\Desktop\\clean\\data\\data_with_id\\california_pizza_kitchen_10_13_2020\\california_pizza_kitchen_2000041118.csv\n",
      "Saving to C:\\Users\\Spencer\\Desktop\\clean\\data\\data_with_id\\california_pizza_kitchen_10_13_2020\\california_pizza_kitchen_2000041121.csv\n",
      "Saving to C:\\Users\\Spencer\\Desktop\\clean\\data\\data_with_id\\california_pizza_kitchen_10_13_2020\\california_pizza_kitchen_2000041122.csv\n",
      "Saving to C:\\Users\\Spencer\\Desktop\\clean\\data\\data_with_id\\california_pizza_kitchen_10_13_2020\\california_pizza_kitchen_2000041128.csv\n",
      "Saving to C:\\Users\\Spencer\\Desktop\\clean\\data\\data_with_id\\california_pizza_kitchen_10_13_2020\\california_pizza_kitchen_2000041152.csv\n",
      "Saving to C:\\Users\\Spencer\\Desktop\\clean\\data\\data_with_id\\california_pizza_kitchen_10_13_2020\\california_pizza_kitchen_2000041155.csv\n",
      "Saving to C:\\Users\\Spencer\\Desktop\\clean\\data\\data_with_id\\california_pizza_kitchen_10_13_2020\\california_pizza_kitchen_2000041190.csv\n",
      "Saving to C:\\Users\\Spencer\\Desktop\\clean\\data\\data_with_id\\california_pizza_kitchen_10_13_2020\\california_pizza_kitchen_2000041200.csv\n",
      "Saving to C:\\Users\\Spencer\\Desktop\\clean\\data\\data_with_id\\california_pizza_kitchen_10_13_2020\\california_pizza_kitchen_2000041205.csv\n",
      "Saving to C:\\Users\\Spencer\\Desktop\\clean\\data\\data_with_id\\california_pizza_kitchen_10_13_2020\\california_pizza_kitchen_2000041235.csv\n",
      "Saving to C:\\Users\\Spencer\\Desktop\\clean\\data\\data_with_id\\california_pizza_kitchen_10_13_2020\\california_pizza_kitchen_2000041248.csv\n",
      "Saving to C:\\Users\\Spencer\\Desktop\\clean\\data\\data_with_id\\california_pizza_kitchen_10_13_2020\\california_pizza_kitchen_2000041260.csv\n",
      "Saving to C:\\Users\\Spencer\\Desktop\\clean\\data\\data_with_id\\california_pizza_kitchen_10_13_2020\\california_pizza_kitchen_2000041265.csv\n",
      "Saving to C:\\Users\\Spencer\\Desktop\\clean\\data\\data_with_id\\california_pizza_kitchen_10_13_2020\\california_pizza_kitchen_2000041266.csv\n",
      "Saving to C:\\Users\\Spencer\\Desktop\\clean\\data\\data_with_id\\california_pizza_kitchen_10_13_2020\\california_pizza_kitchen_2000041270.csv\n",
      "Saving to C:\\Users\\Spencer\\Desktop\\clean\\data\\data_with_id\\california_pizza_kitchen_10_13_2020\\california_pizza_kitchen_2000041277.csv\n",
      "Saving to C:\\Users\\Spencer\\Desktop\\clean\\data\\data_with_id\\california_pizza_kitchen_10_13_2020\\california_pizza_kitchen_2000041280.csv\n",
      "Saving to C:\\Users\\Spencer\\Desktop\\clean\\data\\data_with_id\\california_pizza_kitchen_10_13_2020\\california_pizza_kitchen_2000041285.csv\n",
      "Saving to C:\\Users\\Spencer\\Desktop\\clean\\data\\data_with_id\\california_pizza_kitchen_10_13_2020\\california_pizza_kitchen_2000041295.csv\n",
      "Saving to C:\\Users\\Spencer\\Desktop\\clean\\data\\data_with_id\\california_pizza_kitchen_10_13_2020\\california_pizza_kitchen_2000041296.csv\n",
      "Saving to C:\\Users\\Spencer\\Desktop\\clean\\data\\data_with_id\\california_pizza_kitchen_10_13_2020\\california_pizza_kitchen_2000041312.csv\n",
      "Saving to C:\\Users\\Spencer\\Desktop\\clean\\data\\data_with_id\\california_pizza_kitchen_10_13_2020\\california_pizza_kitchen_2000041142.csv\n",
      "Saving to C:\\Users\\Spencer\\Desktop\\clean\\data\\data_with_id\\california_pizza_kitchen_10_13_2020\\california_pizza_kitchen_2000041150.csv\n",
      "Saving to C:\\Users\\Spencer\\Desktop\\clean\\data\\data_with_id\\california_pizza_kitchen_10_13_2020\\california_pizza_kitchen_2000041159.csv\n",
      "Saving to C:\\Users\\Spencer\\Desktop\\clean\\data\\data_with_id\\california_pizza_kitchen_10_13_2020\\california_pizza_kitchen_2000041163.csv\n",
      "Saving to C:\\Users\\Spencer\\Desktop\\clean\\data\\data_with_id\\california_pizza_kitchen_10_13_2020\\california_pizza_kitchen_2000041165.csv\n",
      "Saving to C:\\Users\\Spencer\\Desktop\\clean\\data\\data_with_id\\california_pizza_kitchen_10_13_2020\\california_pizza_kitchen_2000041170.csv\n",
      "Saving to C:\\Users\\Spencer\\Desktop\\clean\\data\\data_with_id\\california_pizza_kitchen_10_13_2020\\california_pizza_kitchen_2000041316.csv\n",
      "Saving to C:\\Users\\Spencer\\Desktop\\clean\\data\\data_with_id\\california_pizza_kitchen_10_13_2020\\california_pizza_kitchen_2000041353.csv\n",
      "Saving to C:\\Users\\Spencer\\Desktop\\clean\\data\\data_with_id\\california_pizza_kitchen_10_13_2020\\california_pizza_kitchen_2000041358.csv\n",
      "Saving to C:\\Users\\Spencer\\Desktop\\clean\\data\\data_with_id\\california_pizza_kitchen_10_13_2020\\california_pizza_kitchen_2000041173.csv\n",
      "Saving to C:\\Users\\Spencer\\Desktop\\clean\\data\\data_with_id\\california_pizza_kitchen_10_13_2020\\california_pizza_kitchen_2000041180.csv\n",
      "Saving to C:\\Users\\Spencer\\Desktop\\clean\\data\\data_with_id\\california_pizza_kitchen_10_13_2020\\california_pizza_kitchen_2000041181.csv\n",
      "Saving to C:\\Users\\Spencer\\Desktop\\clean\\data\\data_with_id\\california_pizza_kitchen_10_13_2020\\california_pizza_kitchen_2000041185.csv\n",
      "Saving to C:\\Users\\Spencer\\Desktop\\clean\\data\\data_with_id\\california_pizza_kitchen_10_13_2020\\california_pizza_kitchen_2000041196.csv\n",
      "Saving to C:\\Users\\Spencer\\Desktop\\clean\\data\\data_with_id\\california_pizza_kitchen_10_13_2020\\california_pizza_kitchen_2000041202.csv\n",
      "Saving to C:\\Users\\Spencer\\Desktop\\clean\\data\\data_with_id\\california_pizza_kitchen_10_13_2020\\california_pizza_kitchen_2000041206.csv\n",
      "Saving to C:\\Users\\Spencer\\Desktop\\clean\\data\\data_with_id\\california_pizza_kitchen_10_13_2020\\california_pizza_kitchen_2000041214.csv\n",
      "Saving to C:\\Users\\Spencer\\Desktop\\clean\\data\\data_with_id\\california_pizza_kitchen_10_13_2020\\california_pizza_kitchen_2000041221.csv\n",
      "Saving to C:\\Users\\Spencer\\Desktop\\clean\\data\\data_with_id\\california_pizza_kitchen_10_13_2020\\california_pizza_kitchen_2000041236.csv\n",
      "Saving to C:\\Users\\Spencer\\Desktop\\clean\\data\\data_with_id\\california_pizza_kitchen_10_13_2020\\california_pizza_kitchen_2000041263.csv\n",
      "Saving to C:\\Users\\Spencer\\Desktop\\clean\\data\\data_with_id\\california_pizza_kitchen_10_13_2020\\california_pizza_kitchen_2000041275.csv\n",
      "Saving to C:\\Users\\Spencer\\Desktop\\clean\\data\\data_with_id\\california_pizza_kitchen_10_13_2020\\california_pizza_kitchen_2000041276.csv\n",
      "Saving to C:\\Users\\Spencer\\Desktop\\clean\\data\\data_with_id\\california_pizza_kitchen_10_13_2020\\california_pizza_kitchen_2000041290.csv\n",
      "Saving to C:\\Users\\Spencer\\Desktop\\clean\\data\\data_with_id\\california_pizza_kitchen_10_13_2020\\california_pizza_kitchen_2000041291.csv\n",
      "Saving to C:\\Users\\Spencer\\Desktop\\clean\\data\\data_with_id\\california_pizza_kitchen_10_13_2020\\california_pizza_kitchen_2000041301.csv\n",
      "Saving to C:\\Users\\Spencer\\Desktop\\clean\\data\\data_with_id\\california_pizza_kitchen_10_13_2020\\california_pizza_kitchen_2000041306.csv\n",
      "Saving to C:\\Users\\Spencer\\Desktop\\clean\\data\\data_with_id\\california_pizza_kitchen_10_13_2020\\california_pizza_kitchen_2000041315.csv\n",
      "Saving to C:\\Users\\Spencer\\Desktop\\clean\\data\\data_with_id\\california_pizza_kitchen_10_13_2020\\california_pizza_kitchen_2000041320.csv\n",
      "Saving to C:\\Users\\Spencer\\Desktop\\clean\\data\\data_with_id\\california_pizza_kitchen_10_13_2020\\california_pizza_kitchen_2000041335.csv\n",
      "Saving to C:\\Users\\Spencer\\Desktop\\clean\\data\\data_with_id\\california_pizza_kitchen_10_13_2020\\california_pizza_kitchen_2000041344.csv\n",
      "Saving to C:\\Users\\Spencer\\Desktop\\clean\\data\\data_with_id\\california_pizza_kitchen_10_13_2020\\california_pizza_kitchen_2000041357.csv\n",
      "Saving to C:\\Users\\Spencer\\Desktop\\clean\\data\\data_with_id\\california_pizza_kitchen_10_13_2020\\california_pizza_kitchen_2000041370.csv\n",
      "Saving to C:\\Users\\Spencer\\Desktop\\clean\\data\\data_with_id\\california_pizza_kitchen_10_13_2020\\california_pizza_kitchen_2000041372.csv\n",
      "Saving to C:\\Users\\Spencer\\Desktop\\clean\\data\\data_with_id\\california_pizza_kitchen_10_13_2020\\california_pizza_kitchen_2000041375.csv\n",
      "Saving to C:\\Users\\Spencer\\Desktop\\clean\\data\\data_with_id\\california_pizza_kitchen_10_13_2020\\california_pizza_kitchen_2000041376.csv\n",
      "Saving to C:\\Users\\Spencer\\Desktop\\clean\\data\\data_with_id\\california_pizza_kitchen_10_13_2020\\california_pizza_kitchen_2000041379.csv\n",
      "Saving to C:\\Users\\Spencer\\Desktop\\clean\\data\\data_with_id\\california_pizza_kitchen_10_13_2020\\california_pizza_kitchen_2000041383.csv\n",
      "Saving to C:\\Users\\Spencer\\Desktop\\clean\\data\\data_with_id\\california_pizza_kitchen_10_13_2020\\california_pizza_kitchen_2000041392.csv\n",
      "Saving to C:\\Users\\Spencer\\Desktop\\clean\\data\\data_with_id\\california_pizza_kitchen_10_13_2020\\california_pizza_kitchen_2000041395.csv\n",
      "Saving to C:\\Users\\Spencer\\Desktop\\clean\\data\\data_with_id\\california_pizza_kitchen_10_13_2020\\california_pizza_kitchen_2000041401.csv\n",
      "Saving to C:\\Users\\Spencer\\Desktop\\clean\\data\\data_with_id\\california_pizza_kitchen_10_13_2020\\california_pizza_kitchen_2000041409.csv\n",
      "Saving to C:\\Users\\Spencer\\Desktop\\clean\\data\\data_with_id\\california_pizza_kitchen_10_13_2020\\california_pizza_kitchen_2000041360.csv\n",
      "Saving to C:\\Users\\Spencer\\Desktop\\clean\\data\\data_with_id\\california_pizza_kitchen_10_13_2020\\california_pizza_kitchen_2000041415.csv\n",
      "Saving to C:\\Users\\Spencer\\Desktop\\clean\\data\\data_with_id\\california_pizza_kitchen_10_13_2020\\california_pizza_kitchen_2000041432.csv\n",
      "Saving to C:\\Users\\Spencer\\Desktop\\clean\\data\\data_with_id\\california_pizza_kitchen_10_13_2020\\california_pizza_kitchen_2000041442.csv\n",
      "Saving to C:\\Users\\Spencer\\Desktop\\clean\\data\\data_with_id\\california_pizza_kitchen_10_13_2020\\california_pizza_kitchen_2000041443.csv\n",
      "Saving to C:\\Users\\Spencer\\Desktop\\clean\\data\\data_with_id\\california_pizza_kitchen_10_13_2020\\california_pizza_kitchen_2000503102.csv\n",
      "Saving to C:\\Users\\Spencer\\Desktop\\clean\\data\\data_with_id\\california_pizza_kitchen_10_13_2020\\california_pizza_kitchen_2000610313.csv\n",
      "Saving to C:\\Users\\Spencer\\Desktop\\clean\\data\\data_with_id\\california_pizza_kitchen_10_13_2020\\california_pizza_kitchen_2000610314.csv\n",
      "Saving to C:\\Users\\Spencer\\Desktop\\clean\\data\\data_with_id\\california_pizza_kitchen_10_13_2020\\california_pizza_kitchen_2000610311.csv\n",
      "Saving to C:\\Users\\Spencer\\Desktop\\clean\\data\\data_with_id\\california_pizza_kitchen_10_13_2020\\california_pizza_kitchen_2000086845.csv\n",
      "Saving to C:\\Users\\Spencer\\Desktop\\clean\\data\\data_with_id\\california_pizza_kitchen_10_13_2020\\california_pizza_kitchen_2000129870.csv\n",
      "Saving to C:\\Users\\Spencer\\Desktop\\clean\\data\\data_with_id\\california_pizza_kitchen_10_13_2020\\california_pizza_kitchen_2000074629.csv\n",
      "Saving to C:\\Users\\Spencer\\Desktop\\clean\\data\\data_with_id\\california_pizza_kitchen_10_13_2020\\california_pizza_kitchen_2000155380.csv\n",
      "Saving to C:\\Users\\Spencer\\Desktop\\clean\\data\\data_with_id\\california_pizza_kitchen_10_13_2020\\california_pizza_kitchen_2000756867.csv\n",
      "Saving to C:\\Users\\Spencer\\Desktop\\clean\\data\\data_with_id\\california_pizza_kitchen_10_13_2020\\california_pizza_kitchen_2000756869.csv\n",
      "Saving to C:\\Users\\Spencer\\Desktop\\clean\\data\\data_with_id\\california_pizza_kitchen_10_13_2020\\california_pizza_kitchen_2000790196.csv\n",
      "Saving to C:\\Users\\Spencer\\Desktop\\clean\\data\\data_with_id\\california_pizza_kitchen_10_13_2020\\california_pizza_kitchen_2000503101.csv\n",
      "Saving to C:\\Users\\Spencer\\Desktop\\clean\\data\\data_with_id\\california_pizza_kitchen_10_13_2020\\california_pizza_kitchen_2000503103.csv\n",
      "Saving to C:\\Users\\Spencer\\Desktop\\clean\\data\\data_with_id\\california_pizza_kitchen_10_13_2020\\california_pizza_kitchen_2000610312.csv\n",
      "Saving to C:\\Users\\Spencer\\Desktop\\clean\\data\\data_with_id\\california_pizza_kitchen_10_13_2020\\california_pizza_kitchen_2000640305.csv\n",
      "Saving to C:\\Users\\Spencer\\Desktop\\clean\\data\\data_with_id\\california_pizza_kitchen_10_13_2020\\california_pizza_kitchen_2000640306.csv\n",
      "Saving to C:\\Users\\Spencer\\Desktop\\clean\\data\\data_with_id\\california_pizza_kitchen_10_13_2020\\california_pizza_kitchen_2000756870.csv\n"
     ]
    }
   ],
   "source": [
    "output_directory = \"C:\\\\Users\\\\Spencer\\\\Desktop\\\\clean\\\\data\\\\data_with_id\\\\california_pizza_kitchen_10_13_2020\"\n",
    "master_df_path = \"C:\\\\Users\\\\Spencer\\\\Desktop\\\\clean\\\\data\\\\data.xlsx\"\n",
    "directory_path = \"C:\\\\Users\\\\Spencer\\\\Box Sync\\\\Scraped\\\\california_pizza_kitchen_10_13_2020\"\n",
    "key_col = \"key\"\n",
    "master_df_key_col = \"Phone\"\n",
    "master_df_id_col = \"Company ID\"\n",
    "id_col_name = master_df_id_col\n",
    "add_company_ids(directory_path=directory_path, \n",
    "                master_df_path=master_df_path, \n",
    "                key_col=key_col, \n",
    "                master_df_key_col=master_df_key_col, \n",
    "                master_df_id_col=master_df_id_col, \n",
    "                id_col_name=id_col_name, \n",
    "                output_directory=output_directory)"
   ]
  },
  {
   "cell_type": "code",
   "execution_count": 3,
   "metadata": {
    "tags": [
     "outputPrepend"
    ]
   },
   "outputs": [
    {
     "output_type": "stream",
     "name": "stdout",
     "text": [
      "_e_cheese_10_8_2020\\chuck_e_cheese_1000859475.csv\n",
      "Saving to C:\\Users\\Spencer\\Desktop\\clean\\data\\data_with_id\\chuck_e_cheese_10_8_2020\\chuck_e_cheese_1000859653.csv\n",
      "Saving to C:\\Users\\Spencer\\Desktop\\clean\\data\\data_with_id\\chuck_e_cheese_10_8_2020\\chuck_e_cheese_1000860073.csv\n",
      "Saving to C:\\Users\\Spencer\\Desktop\\clean\\data\\data_with_id\\chuck_e_cheese_10_8_2020\\chuck_e_cheese_1000860859.csv\n",
      "Saving to C:\\Users\\Spencer\\Desktop\\clean\\data\\data_with_id\\chuck_e_cheese_10_8_2020\\chuck_e_cheese_1000861024.csv\n",
      "Saving to C:\\Users\\Spencer\\Desktop\\clean\\data\\data_with_id\\chuck_e_cheese_10_8_2020\\chuck_e_cheese_1000861517.csv\n",
      "Saving to C:\\Users\\Spencer\\Desktop\\clean\\data\\data_with_id\\chuck_e_cheese_10_8_2020\\chuck_e_cheese_1000861891.csv\n",
      "Saving to C:\\Users\\Spencer\\Desktop\\clean\\data\\data_with_id\\chuck_e_cheese_10_8_2020\\chuck_e_cheese_1000862007.csv\n",
      "Saving to C:\\Users\\Spencer\\Desktop\\clean\\data\\data_with_id\\chuck_e_cheese_10_8_2020\\chuck_e_cheese_1000860260.csv\n",
      "Saving to C:\\Users\\Spencer\\Desktop\\clean\\data\\data_with_id\\chuck_e_cheese_10_8_2020\\chuck_e_cheese_1000860313.csv\n",
      "Saving to C:\\Users\\Spencer\\Desktop\\clean\\data\\data_with_id\\chuck_e_cheese_10_8_2020\\chuck_e_cheese_1000860520.csv\n",
      "Saving to C:\\Users\\Spencer\\Desktop\\clean\\data\\data_with_id\\chuck_e_cheese_10_8_2020\\chuck_e_cheese_1000831362.csv\n",
      "Saving to C:\\Users\\Spencer\\Desktop\\clean\\data\\data_with_id\\chuck_e_cheese_10_8_2020\\chuck_e_cheese_1000831396.csv\n",
      "Saving to C:\\Users\\Spencer\\Desktop\\clean\\data\\data_with_id\\chuck_e_cheese_10_8_2020\\chuck_e_cheese_1000831643.csv\n",
      "Saving to C:\\Users\\Spencer\\Desktop\\clean\\data\\data_with_id\\chuck_e_cheese_10_8_2020\\chuck_e_cheese_1000831771.csv\n",
      "Saving to C:\\Users\\Spencer\\Desktop\\clean\\data\\data_with_id\\chuck_e_cheese_10_8_2020\\chuck_e_cheese_1000832356.csv\n",
      "Saving to C:\\Users\\Spencer\\Desktop\\clean\\data\\data_with_id\\chuck_e_cheese_10_8_2020\\chuck_e_cheese_1000832665.csv\n",
      "Saving to C:\\Users\\Spencer\\Desktop\\clean\\data\\data_with_id\\chuck_e_cheese_10_8_2020\\chuck_e_cheese_1000831224.csv\n",
      "Saving to C:\\Users\\Spencer\\Desktop\\clean\\data\\data_with_id\\chuck_e_cheese_10_8_2020\\chuck_e_cheese_1000831288.csv\n",
      "Saving to C:\\Users\\Spencer\\Desktop\\clean\\data\\data_with_id\\chuck_e_cheese_10_8_2020\\chuck_e_cheese_1000831319.csv\n",
      "Saving to C:\\Users\\Spencer\\Desktop\\clean\\data\\data_with_id\\chuck_e_cheese_10_8_2020\\chuck_e_cheese_1000833389.csv\n",
      "Saving to C:\\Users\\Spencer\\Desktop\\clean\\data\\data_with_id\\chuck_e_cheese_10_8_2020\\chuck_e_cheese_1000833588.csv\n",
      "Saving to C:\\Users\\Spencer\\Desktop\\clean\\data\\data_with_id\\chuck_e_cheese_10_8_2020\\chuck_e_cheese_1000860635.csv\n",
      "Saving to C:\\Users\\Spencer\\Desktop\\clean\\data\\data_with_id\\chuck_e_cheese_10_8_2020\\chuck_e_cheese_1000861461.csv\n",
      "Saving to C:\\Users\\Spencer\\Desktop\\clean\\data\\data_with_id\\chuck_e_cheese_10_8_2020\\chuck_e_cheese_1000863266.csv\n",
      "Saving to C:\\Users\\Spencer\\Desktop\\clean\\data\\data_with_id\\chuck_e_cheese_10_8_2020\\chuck_e_cheese_1000862450.csv\n",
      "Saving to C:\\Users\\Spencer\\Desktop\\clean\\data\\data_with_id\\chuck_e_cheese_10_8_2020\\chuck_e_cheese_1000864295.csv\n",
      "Saving to C:\\Users\\Spencer\\Desktop\\clean\\data\\data_with_id\\chuck_e_cheese_10_8_2020\\chuck_e_cheese_1000831471.csv\n",
      "Saving to C:\\Users\\Spencer\\Desktop\\clean\\data\\data_with_id\\chuck_e_cheese_10_8_2020\\chuck_e_cheese_1000832240.csv\n",
      "Saving to C:\\Users\\Spencer\\Desktop\\clean\\data\\data_with_id\\chuck_e_cheese_10_8_2020\\chuck_e_cheese_1000832436.csv\n",
      "Saving to C:\\Users\\Spencer\\Desktop\\clean\\data\\data_with_id\\chuck_e_cheese_10_8_2020\\chuck_e_cheese_1000865595.csv\n",
      "Saving to C:\\Users\\Spencer\\Desktop\\clean\\data\\data_with_id\\chuck_e_cheese_10_8_2020\\chuck_e_cheese_1000832837.csv\n",
      "Saving to C:\\Users\\Spencer\\Desktop\\clean\\data\\data_with_id\\chuck_e_cheese_10_8_2020\\chuck_e_cheese_1000832945.csv\n",
      "Saving to C:\\Users\\Spencer\\Desktop\\clean\\data\\data_with_id\\chuck_e_cheese_10_8_2020\\chuck_e_cheese_1000863021.csv\n",
      "Saving to C:\\Users\\Spencer\\Desktop\\clean\\data\\data_with_id\\chuck_e_cheese_10_8_2020\\chuck_e_cheese_1000833899.csv\n",
      "Saving to C:\\Users\\Spencer\\Desktop\\clean\\data\\data_with_id\\chuck_e_cheese_10_8_2020\\chuck_e_cheese_1000834024.csv\n",
      "Saving to C:\\Users\\Spencer\\Desktop\\clean\\data\\data_with_id\\chuck_e_cheese_10_8_2020\\chuck_e_cheese_1000865643.csv\n",
      "Saving to C:\\Users\\Spencer\\Desktop\\clean\\data\\data_with_id\\chuck_e_cheese_10_8_2020\\chuck_e_cheese_1000866052.csv\n",
      "Saving to C:\\Users\\Spencer\\Desktop\\clean\\data\\data_with_id\\chuck_e_cheese_10_8_2020\\chuck_e_cheese_1000834641.csv\n",
      "Saving to C:\\Users\\Spencer\\Desktop\\clean\\data\\data_with_id\\chuck_e_cheese_10_8_2020\\chuck_e_cheese_1000864468.csv\n",
      "Saving to C:\\Users\\Spencer\\Desktop\\clean\\data\\data_with_id\\chuck_e_cheese_10_8_2020\\chuck_e_cheese_1000864626.csv\n",
      "Saving to C:\\Users\\Spencer\\Desktop\\clean\\data\\data_with_id\\chuck_e_cheese_10_8_2020\\chuck_e_cheese_1000835061.csv\n",
      "Saving to C:\\Users\\Spencer\\Desktop\\clean\\data\\data_with_id\\chuck_e_cheese_10_8_2020\\chuck_e_cheese_1000835085.csv\n",
      "Saving to C:\\Users\\Spencer\\Desktop\\clean\\data\\data_with_id\\chuck_e_cheese_10_8_2020\\chuck_e_cheese_1000867441.csv\n",
      "Saving to C:\\Users\\Spencer\\Desktop\\clean\\data\\data_with_id\\chuck_e_cheese_10_8_2020\\chuck_e_cheese_1000865226.csv\n",
      "Saving to C:\\Users\\Spencer\\Desktop\\clean\\data\\data_with_id\\chuck_e_cheese_10_8_2020\\chuck_e_cheese_1000865831.csv\n",
      "Saving to C:\\Users\\Spencer\\Desktop\\clean\\data\\data_with_id\\chuck_e_cheese_10_8_2020\\chuck_e_cheese_1000866212.csv\n",
      "Saving to C:\\Users\\Spencer\\Desktop\\clean\\data\\data_with_id\\chuck_e_cheese_10_8_2020\\chuck_e_cheese_1000833590.csv\n",
      "Saving to C:\\Users\\Spencer\\Desktop\\clean\\data\\data_with_id\\chuck_e_cheese_10_8_2020\\chuck_e_cheese_1000834885.csv\n",
      "Saving to C:\\Users\\Spencer\\Desktop\\clean\\data\\data_with_id\\chuck_e_cheese_10_8_2020\\chuck_e_cheese_1000868050.csv\n",
      "Saving to C:\\Users\\Spencer\\Desktop\\clean\\data\\data_with_id\\chuck_e_cheese_10_8_2020\\chuck_e_cheese_1000868611.csv\n",
      "Saving to C:\\Users\\Spencer\\Desktop\\clean\\data\\data_with_id\\chuck_e_cheese_10_8_2020\\chuck_e_cheese_1000835714.csv\n",
      "Saving to C:\\Users\\Spencer\\Desktop\\clean\\data\\data_with_id\\chuck_e_cheese_10_8_2020\\chuck_e_cheese_1000835752.csv\n",
      "Saving to C:\\Users\\Spencer\\Desktop\\clean\\data\\data_with_id\\chuck_e_cheese_10_8_2020\\chuck_e_cheese_1000868686.csv\n",
      "Saving to C:\\Users\\Spencer\\Desktop\\clean\\data\\data_with_id\\chuck_e_cheese_10_8_2020\\chuck_e_cheese_1000867185.csv\n",
      "Saving to C:\\Users\\Spencer\\Desktop\\clean\\data\\data_with_id\\chuck_e_cheese_10_8_2020\\chuck_e_cheese_1000867325.csv\n",
      "Saving to C:\\Users\\Spencer\\Desktop\\clean\\data\\data_with_id\\chuck_e_cheese_10_8_2020\\chuck_e_cheese_1000836705.csv\n",
      "Saving to C:\\Users\\Spencer\\Desktop\\clean\\data\\data_with_id\\chuck_e_cheese_10_8_2020\\chuck_e_cheese_1000870011.csv\n",
      "Saving to C:\\Users\\Spencer\\Desktop\\clean\\data\\data_with_id\\chuck_e_cheese_10_8_2020\\chuck_e_cheese_1000870239.csv\n",
      "Saving to C:\\Users\\Spencer\\Desktop\\clean\\data\\data_with_id\\chuck_e_cheese_10_8_2020\\chuck_e_cheese_1000870783.csv\n",
      "Saving to C:\\Users\\Spencer\\Desktop\\clean\\data\\data_with_id\\chuck_e_cheese_10_8_2020\\chuck_e_cheese_1000871077.csv\n",
      "Saving to C:\\Users\\Spencer\\Desktop\\clean\\data\\data_with_id\\chuck_e_cheese_10_8_2020\\chuck_e_cheese_1000871645.csv\n",
      "Saving to C:\\Users\\Spencer\\Desktop\\clean\\data\\data_with_id\\chuck_e_cheese_10_8_2020\\chuck_e_cheese_1000871682.csv\n",
      "Saving to C:\\Users\\Spencer\\Desktop\\clean\\data\\data_with_id\\chuck_e_cheese_10_8_2020\\chuck_e_cheese_1000868866.csv\n",
      "Saving to C:\\Users\\Spencer\\Desktop\\clean\\data\\data_with_id\\chuck_e_cheese_10_8_2020\\chuck_e_cheese_1000869358.csv\n",
      "Saving to C:\\Users\\Spencer\\Desktop\\clean\\data\\data_with_id\\chuck_e_cheese_10_8_2020\\chuck_e_cheese_1000869668.csv\n",
      "Saving to C:\\Users\\Spencer\\Desktop\\clean\\data\\data_with_id\\chuck_e_cheese_10_8_2020\\chuck_e_cheese_1000869680.csv\n",
      "Saving to C:\\Users\\Spencer\\Desktop\\clean\\data\\data_with_id\\chuck_e_cheese_10_8_2020\\chuck_e_cheese_1000836800.csv\n",
      "Saving to C:\\Users\\Spencer\\Desktop\\clean\\data\\data_with_id\\chuck_e_cheese_10_8_2020\\chuck_e_cheese_1000836920.csv\n",
      "Saving to C:\\Users\\Spencer\\Desktop\\clean\\data\\data_with_id\\chuck_e_cheese_10_8_2020\\chuck_e_cheese_1000837746.csv\n",
      "Saving to C:\\Users\\Spencer\\Desktop\\clean\\data\\data_with_id\\chuck_e_cheese_10_8_2020\\chuck_e_cheese_1000869927.csv\n",
      "Saving to C:\\Users\\Spencer\\Desktop\\clean\\data\\data_with_id\\chuck_e_cheese_10_8_2020\\chuck_e_cheese_1000869955.csv\n",
      "Saving to C:\\Users\\Spencer\\Desktop\\clean\\data\\data_with_id\\chuck_e_cheese_10_8_2020\\chuck_e_cheese_1000870255.csv\n",
      "Saving to C:\\Users\\Spencer\\Desktop\\clean\\data\\data_with_id\\chuck_e_cheese_10_8_2020\\chuck_e_cheese_1000872216.csv\n",
      "Saving to C:\\Users\\Spencer\\Desktop\\clean\\data\\data_with_id\\chuck_e_cheese_10_8_2020\\chuck_e_cheese_1000872353.csv\n",
      "Saving to C:\\Users\\Spencer\\Desktop\\clean\\data\\data_with_id\\chuck_e_cheese_10_8_2020\\chuck_e_cheese_1000873396.csv\n",
      "Saving to C:\\Users\\Spencer\\Desktop\\clean\\data\\data_with_id\\chuck_e_cheese_10_8_2020\\chuck_e_cheese_1000870441.csv\n",
      "Saving to C:\\Users\\Spencer\\Desktop\\clean\\data\\data_with_id\\chuck_e_cheese_10_8_2020\\chuck_e_cheese_1000871850.csv\n",
      "Saving to C:\\Users\\Spencer\\Desktop\\clean\\data\\data_with_id\\chuck_e_cheese_10_8_2020\\chuck_e_cheese_1000872277.csv\n",
      "Saving to C:\\Users\\Spencer\\Desktop\\clean\\data\\data_with_id\\chuck_e_cheese_10_8_2020\\chuck_e_cheese_1000872349.csv\n",
      "Saving to C:\\Users\\Spencer\\Desktop\\clean\\data\\data_with_id\\chuck_e_cheese_10_8_2020\\chuck_e_cheese_1000837870.csv\n",
      "Saving to C:\\Users\\Spencer\\Desktop\\clean\\data\\data_with_id\\chuck_e_cheese_10_8_2020\\chuck_e_cheese_1000837945.csv\n",
      "Saving to C:\\Users\\Spencer\\Desktop\\clean\\data\\data_with_id\\chuck_e_cheese_10_8_2020\\chuck_e_cheese_1000838092.csv\n",
      "Saving to C:\\Users\\Spencer\\Desktop\\clean\\data\\data_with_id\\chuck_e_cheese_10_8_2020\\chuck_e_cheese_1000837789.csv\n",
      "Saving to C:\\Users\\Spencer\\Desktop\\clean\\data\\data_with_id\\chuck_e_cheese_10_8_2020\\chuck_e_cheese_1000838236.csv\n",
      "Saving to C:\\Users\\Spencer\\Desktop\\clean\\data\\data_with_id\\chuck_e_cheese_10_8_2020\\chuck_e_cheese_1000873394.csv\n",
      "Saving to C:\\Users\\Spencer\\Desktop\\clean\\data\\data_with_id\\chuck_e_cheese_10_8_2020\\chuck_e_cheese_1000873413.csv\n",
      "Saving to C:\\Users\\Spencer\\Desktop\\clean\\data\\data_with_id\\chuck_e_cheese_10_8_2020\\chuck_e_cheese_1000873724.csv\n",
      "Saving to C:\\Users\\Spencer\\Desktop\\clean\\data\\data_with_id\\chuck_e_cheese_10_8_2020\\chuck_e_cheese_1000873866.csv\n",
      "Saving to C:\\Users\\Spencer\\Desktop\\clean\\data\\data_with_id\\chuck_e_cheese_10_8_2020\\chuck_e_cheese_1000873952.csv\n",
      "Saving to C:\\Users\\Spencer\\Desktop\\clean\\data\\data_with_id\\chuck_e_cheese_10_8_2020\\chuck_e_cheese_1000873973.csv\n",
      "Saving to C:\\Users\\Spencer\\Desktop\\clean\\data\\data_with_id\\chuck_e_cheese_10_8_2020\\chuck_e_cheese_1000875054.csv\n",
      "Saving to C:\\Users\\Spencer\\Desktop\\clean\\data\\data_with_id\\chuck_e_cheese_10_8_2020\\chuck_e_cheese_1000875221.csv\n",
      "Saving to C:\\Users\\Spencer\\Desktop\\clean\\data\\data_with_id\\chuck_e_cheese_10_8_2020\\chuck_e_cheese_1000876689.csv\n",
      "Saving to C:\\Users\\Spencer\\Desktop\\clean\\data\\data_with_id\\chuck_e_cheese_10_8_2020\\chuck_e_cheese_1000874691.csv\n",
      "Saving to C:\\Users\\Spencer\\Desktop\\clean\\data\\data_with_id\\chuck_e_cheese_10_8_2020\\chuck_e_cheese_1000838718.csv\n",
      "Saving to C:\\Users\\Spencer\\Desktop\\clean\\data\\data_with_id\\chuck_e_cheese_10_8_2020\\chuck_e_cheese_1000838845.csv\n",
      "Saving to C:\\Users\\Spencer\\Desktop\\clean\\data\\data_with_id\\chuck_e_cheese_10_8_2020\\chuck_e_cheese_1000838850.csv\n",
      "Saving to C:\\Users\\Spencer\\Desktop\\clean\\data\\data_with_id\\chuck_e_cheese_10_8_2020\\chuck_e_cheese_1000839101.csv\n",
      "Saving to C:\\Users\\Spencer\\Desktop\\clean\\data\\data_with_id\\chuck_e_cheese_10_8_2020\\chuck_e_cheese_1000875268.csv\n",
      "Saving to C:\\Users\\Spencer\\Desktop\\clean\\data\\data_with_id\\chuck_e_cheese_10_8_2020\\chuck_e_cheese_1000877096.csv\n",
      "Saving to C:\\Users\\Spencer\\Desktop\\clean\\data\\data_with_id\\chuck_e_cheese_10_8_2020\\chuck_e_cheese_1000877912.csv\n",
      "Saving to C:\\Users\\Spencer\\Desktop\\clean\\data\\data_with_id\\chuck_e_cheese_10_8_2020\\chuck_e_cheese_1000877992.csv\n",
      "Saving to C:\\Users\\Spencer\\Desktop\\clean\\data\\data_with_id\\chuck_e_cheese_10_8_2020\\chuck_e_cheese_1000878194.csv\n",
      "Saving to C:\\Users\\Spencer\\Desktop\\clean\\data\\data_with_id\\chuck_e_cheese_10_8_2020\\chuck_e_cheese_1000875995.csv\n",
      "Saving to C:\\Users\\Spencer\\Desktop\\clean\\data\\data_with_id\\chuck_e_cheese_10_8_2020\\chuck_e_cheese_1000876151.csv\n",
      "Saving to C:\\Users\\Spencer\\Desktop\\clean\\data\\data_with_id\\chuck_e_cheese_10_8_2020\\chuck_e_cheese_1000878794.csv\n",
      "Saving to C:\\Users\\Spencer\\Desktop\\clean\\data\\data_with_id\\chuck_e_cheese_10_8_2020\\chuck_e_cheese_1000879048.csv\n",
      "Saving to C:\\Users\\Spencer\\Desktop\\clean\\data\\data_with_id\\chuck_e_cheese_10_8_2020\\chuck_e_cheese_1000877129.csv\n",
      "Saving to C:\\Users\\Spencer\\Desktop\\clean\\data\\data_with_id\\chuck_e_cheese_10_8_2020\\chuck_e_cheese_1000877274.csv\n",
      "Saving to C:\\Users\\Spencer\\Desktop\\clean\\data\\data_with_id\\chuck_e_cheese_10_8_2020\\chuck_e_cheese_1000877410.csv\n",
      "Saving to C:\\Users\\Spencer\\Desktop\\clean\\data\\data_with_id\\chuck_e_cheese_10_8_2020\\chuck_e_cheese_1000877503.csv\n",
      "Saving to C:\\Users\\Spencer\\Desktop\\clean\\data\\data_with_id\\chuck_e_cheese_10_8_2020\\chuck_e_cheese_1000877943.csv\n",
      "Saving to C:\\Users\\Spencer\\Desktop\\clean\\data\\data_with_id\\chuck_e_cheese_10_8_2020\\chuck_e_cheese_1000879279.csv\n",
      "Saving to C:\\Users\\Spencer\\Desktop\\clean\\data\\data_with_id\\chuck_e_cheese_10_8_2020\\chuck_e_cheese_1000879697.csv\n",
      "Saving to C:\\Users\\Spencer\\Desktop\\clean\\data\\data_with_id\\chuck_e_cheese_10_8_2020\\chuck_e_cheese_1000879932.csv\n",
      "Saving to C:\\Users\\Spencer\\Desktop\\clean\\data\\data_with_id\\chuck_e_cheese_10_8_2020\\chuck_e_cheese_1000840046.csv\n",
      "Saving to C:\\Users\\Spencer\\Desktop\\clean\\data\\data_with_id\\chuck_e_cheese_10_8_2020\\chuck_e_cheese_1000840230.csv\n",
      "Saving to C:\\Users\\Spencer\\Desktop\\clean\\data\\data_with_id\\chuck_e_cheese_10_8_2020\\chuck_e_cheese_1000879284.csv\n",
      "Saving to C:\\Users\\Spencer\\Desktop\\clean\\data\\data_with_id\\chuck_e_cheese_10_8_2020\\chuck_e_cheese_1000879567.csv\n",
      "Saving to C:\\Users\\Spencer\\Desktop\\clean\\data\\data_with_id\\chuck_e_cheese_10_8_2020\\chuck_e_cheese_1000879787.csv\n",
      "Saving to C:\\Users\\Spencer\\Desktop\\clean\\data\\data_with_id\\chuck_e_cheese_10_8_2020\\chuck_e_cheese_1000880118.csv\n",
      "Saving to C:\\Users\\Spencer\\Desktop\\clean\\data\\data_with_id\\chuck_e_cheese_10_8_2020\\chuck_e_cheese_1000880144.csv\n",
      "Saving to C:\\Users\\Spencer\\Desktop\\clean\\data\\data_with_id\\chuck_e_cheese_10_8_2020\\chuck_e_cheese_1000881363.csv\n",
      "Saving to C:\\Users\\Spencer\\Desktop\\clean\\data\\data_with_id\\chuck_e_cheese_10_8_2020\\chuck_e_cheese_1000881702.csv\n",
      "Saving to C:\\Users\\Spencer\\Desktop\\clean\\data\\data_with_id\\chuck_e_cheese_10_8_2020\\chuck_e_cheese_1000840219.csv\n",
      "Saving to C:\\Users\\Spencer\\Desktop\\clean\\data\\data_with_id\\chuck_e_cheese_10_8_2020\\chuck_e_cheese_1000880408.csv\n",
      "Saving to C:\\Users\\Spencer\\Desktop\\clean\\data\\data_with_id\\chuck_e_cheese_10_8_2020\\chuck_e_cheese_1000880412.csv\n",
      "Saving to C:\\Users\\Spencer\\Desktop\\clean\\data\\data_with_id\\chuck_e_cheese_10_8_2020\\chuck_e_cheese_1000880510.csv\n",
      "Saving to C:\\Users\\Spencer\\Desktop\\clean\\data\\data_with_id\\chuck_e_cheese_10_8_2020\\chuck_e_cheese_1000880859.csv\n",
      "Saving to C:\\Users\\Spencer\\Desktop\\clean\\data\\data_with_id\\chuck_e_cheese_10_8_2020\\chuck_e_cheese_1000880885.csv\n",
      "Saving to C:\\Users\\Spencer\\Desktop\\clean\\data\\data_with_id\\chuck_e_cheese_10_8_2020\\chuck_e_cheese_1000880959.csv\n",
      "Saving to C:\\Users\\Spencer\\Desktop\\clean\\data\\data_with_id\\chuck_e_cheese_10_8_2020\\chuck_e_cheese_1000840600.csv\n",
      "Saving to C:\\Users\\Spencer\\Desktop\\clean\\data\\data_with_id\\chuck_e_cheese_10_8_2020\\chuck_e_cheese_1000841487.csv\n",
      "Saving to C:\\Users\\Spencer\\Desktop\\clean\\data\\data_with_id\\chuck_e_cheese_10_8_2020\\chuck_e_cheese_1000841538.csv\n",
      "Saving to C:\\Users\\Spencer\\Desktop\\clean\\data\\data_with_id\\chuck_e_cheese_10_8_2020\\chuck_e_cheese_1000841944.csv\n",
      "Saving to C:\\Users\\Spencer\\Desktop\\clean\\data\\data_with_id\\chuck_e_cheese_10_8_2020\\chuck_e_cheese_1000881961.csv\n",
      "Saving to C:\\Users\\Spencer\\Desktop\\clean\\data\\data_with_id\\chuck_e_cheese_10_8_2020\\chuck_e_cheese_1000881930.csv\n",
      "Saving to C:\\Users\\Spencer\\Desktop\\clean\\data\\data_with_id\\chuck_e_cheese_10_8_2020\\chuck_e_cheese_1000882652.csv\n",
      "Saving to C:\\Users\\Spencer\\Desktop\\clean\\data\\data_with_id\\chuck_e_cheese_10_8_2020\\chuck_e_cheese_1000882805.csv\n",
      "Saving to C:\\Users\\Spencer\\Desktop\\clean\\data\\data_with_id\\chuck_e_cheese_10_8_2020\\chuck_e_cheese_1000883635.csv\n",
      "Saving to C:\\Users\\Spencer\\Desktop\\clean\\data\\data_with_id\\chuck_e_cheese_10_8_2020\\chuck_e_cheese_1000882198.csv\n",
      "Saving to C:\\Users\\Spencer\\Desktop\\clean\\data\\data_with_id\\chuck_e_cheese_10_8_2020\\chuck_e_cheese_1000882261.csv\n",
      "Saving to C:\\Users\\Spencer\\Desktop\\clean\\data\\data_with_id\\chuck_e_cheese_10_8_2020\\chuck_e_cheese_1000882278.csv\n",
      "Saving to C:\\Users\\Spencer\\Desktop\\clean\\data\\data_with_id\\chuck_e_cheese_10_8_2020\\chuck_e_cheese_1000841154.csv\n",
      "Saving to C:\\Users\\Spencer\\Desktop\\clean\\data\\data_with_id\\chuck_e_cheese_10_8_2020\\chuck_e_cheese_1000882651.csv\n",
      "Saving to C:\\Users\\Spencer\\Desktop\\clean\\data\\data_with_id\\chuck_e_cheese_10_8_2020\\chuck_e_cheese_1000842270.csv\n",
      "Saving to C:\\Users\\Spencer\\Desktop\\clean\\data\\data_with_id\\chuck_e_cheese_10_8_2020\\chuck_e_cheese_1000883791.csv\n",
      "Saving to C:\\Users\\Spencer\\Desktop\\clean\\data\\data_with_id\\chuck_e_cheese_10_8_2020\\chuck_e_cheese_1000842199.csv\n",
      "Saving to C:\\Users\\Spencer\\Desktop\\clean\\data\\data_with_id\\chuck_e_cheese_10_8_2020\\chuck_e_cheese_1000842355.csv\n",
      "Saving to C:\\Users\\Spencer\\Desktop\\clean\\data\\data_with_id\\chuck_e_cheese_10_8_2020\\chuck_e_cheese_1000843087.csv\n",
      "Saving to C:\\Users\\Spencer\\Desktop\\clean\\data\\data_with_id\\chuck_e_cheese_10_8_2020\\chuck_e_cheese_1000843762.csv\n",
      "Saving to C:\\Users\\Spencer\\Desktop\\clean\\data\\data_with_id\\chuck_e_cheese_10_8_2020\\chuck_e_cheese_1000884677.csv\n",
      "Saving to C:\\Users\\Spencer\\Desktop\\clean\\data\\data_with_id\\chuck_e_cheese_10_8_2020\\chuck_e_cheese_1000884793.csv\n",
      "Saving to C:\\Users\\Spencer\\Desktop\\clean\\data\\data_with_id\\chuck_e_cheese_10_8_2020\\chuck_e_cheese_1000885192.csv\n",
      "Saving to C:\\Users\\Spencer\\Desktop\\clean\\data\\data_with_id\\chuck_e_cheese_10_8_2020\\chuck_e_cheese_1000845022.csv\n",
      "Saving to C:\\Users\\Spencer\\Desktop\\clean\\data\\data_with_id\\chuck_e_cheese_10_8_2020\\chuck_e_cheese_1000845037.csv\n",
      "Saving to C:\\Users\\Spencer\\Desktop\\clean\\data\\data_with_id\\chuck_e_cheese_10_8_2020\\chuck_e_cheese_1000845177.csv\n",
      "Saving to C:\\Users\\Spencer\\Desktop\\clean\\data\\data_with_id\\chuck_e_cheese_10_8_2020\\chuck_e_cheese_1000845181.csv\n",
      "Saving to C:\\Users\\Spencer\\Desktop\\clean\\data\\data_with_id\\chuck_e_cheese_10_8_2020\\chuck_e_cheese_1000886860.csv\n",
      "Saving to C:\\Users\\Spencer\\Desktop\\clean\\data\\data_with_id\\chuck_e_cheese_10_8_2020\\chuck_e_cheese_1000843684.csv\n",
      "Saving to C:\\Users\\Spencer\\Desktop\\clean\\data\\data_with_id\\chuck_e_cheese_10_8_2020\\chuck_e_cheese_1000887454.csv\n",
      "Saving to C:\\Users\\Spencer\\Desktop\\clean\\data\\data_with_id\\chuck_e_cheese_10_8_2020\\chuck_e_cheese_1000885969.csv\n",
      "Saving to C:\\Users\\Spencer\\Desktop\\clean\\data\\data_with_id\\chuck_e_cheese_10_8_2020\\chuck_e_cheese_1000886311.csv\n",
      "Saving to C:\\Users\\Spencer\\Desktop\\clean\\data\\data_with_id\\chuck_e_cheese_10_8_2020\\chuck_e_cheese_1000886983.csv\n",
      "Saving to C:\\Users\\Spencer\\Desktop\\clean\\data\\data_with_id\\chuck_e_cheese_10_8_2020\\chuck_e_cheese_1000844283.csv\n",
      "Saving to C:\\Users\\Spencer\\Desktop\\clean\\data\\data_with_id\\chuck_e_cheese_10_8_2020\\chuck_e_cheese_1000844343.csv\n",
      "Saving to C:\\Users\\Spencer\\Desktop\\clean\\data\\data_with_id\\chuck_e_cheese_10_8_2020\\chuck_e_cheese_1000887377.csv\n",
      "Saving to C:\\Users\\Spencer\\Desktop\\clean\\data\\data_with_id\\chuck_e_cheese_10_8_2020\\chuck_e_cheese_1000847859.csv\n",
      "Saving to C:\\Users\\Spencer\\Desktop\\clean\\data\\data_with_id\\chuck_e_cheese_10_8_2020\\chuck_e_cheese_1000847994.csv\n",
      "Saving to C:\\Users\\Spencer\\Desktop\\clean\\data\\data_with_id\\chuck_e_cheese_10_8_2020\\chuck_e_cheese_1000848334.csv\n",
      "Saving to C:\\Users\\Spencer\\Desktop\\clean\\data\\data_with_id\\chuck_e_cheese_10_8_2020\\chuck_e_cheese_1000847358.csv\n",
      "Saving to C:\\Users\\Spencer\\Desktop\\clean\\data\\data_with_id\\chuck_e_cheese_10_8_2020\\chuck_e_cheese_1000848887.csv\n",
      "Saving to C:\\Users\\Spencer\\Desktop\\clean\\data\\data_with_id\\chuck_e_cheese_10_8_2020\\chuck_e_cheese_1000848640.csv\n",
      "Saving to C:\\Users\\Spencer\\Desktop\\clean\\data\\data_with_id\\chuck_e_cheese_10_8_2020\\chuck_e_cheese_1000849669.csv\n",
      "Saving to C:\\Users\\Spencer\\Desktop\\clean\\data\\data_with_id\\chuck_e_cheese_10_8_2020\\chuck_e_cheese_1000849995.csv\n"
     ]
    }
   ],
   "source": [
    "output_directory = \"C:\\\\Users\\\\Spencer\\\\Desktop\\\\clean\\\\data\\\\data_with_id\\\\chuck_e_cheese_10_8_2020\"\n",
    "master_df_path = \"C:\\\\Users\\\\Spencer\\\\Desktop\\\\clean\\\\data\\\\data.xlsx\"\n",
    "directory_path = \"C:\\\\Users\\\\Spencer\\\\Box Sync\\\\Scraped\\\\chuck_e_cheese_10_8_2020\"\n",
    "key_col = \"key\"\n",
    "master_df_key_col = \"Phone\"\n",
    "master_df_id_col = \"Company ID\"\n",
    "id_col_name = master_df_id_col\n",
    "add_company_ids(directory_path=directory_path, \n",
    "                master_df_path=master_df_path, \n",
    "                key_col=key_col, \n",
    "                master_df_key_col=master_df_key_col, \n",
    "                master_df_id_col=master_df_id_col, \n",
    "                id_col_name=id_col_name, \n",
    "                output_directory=output_directory)"
   ]
  },
  {
   "cell_type": "code",
   "execution_count": 3,
   "metadata": {},
   "outputs": [
    {
     "output_type": "stream",
     "name": "stdout",
     "text": [
      "51 files found in directory\n"
     ]
    }
   ],
   "source": [
    "output_directory = \"C:\\\\Users\\\\Spencer\\\\Desktop\\\\clean\\\\data\\\\data_with_id\\\\chuck_e_cheese_10_9_2020\"\n",
    "master_df_path = \"C:\\\\Users\\\\Spencer\\\\Desktop\\\\clean\\\\data\\\\data.xlsx\"\n",
    "directory_path = \"C:\\\\Users\\\\Spencer\\\\Box Sync\\\\Scraped\\\\chuck_e_cheese_10_9_2020\"\n",
    "key_col = \"key\"\n",
    "master_df_key_col = \"Phone\"\n",
    "master_df_id_col = \"Company ID\"\n",
    "id_col_name = master_df_id_col\n",
    "add_company_ids(directory_path=directory_path, \n",
    "                master_df_path=master_df_path, \n",
    "                key_col=key_col, \n",
    "                master_df_key_col=master_df_key_col, \n",
    "                master_df_id_col=master_df_id_col, \n",
    "                id_col_name=id_col_name, \n",
    "                output_directory=output_directory)"
   ]
  },
  {
   "cell_type": "code",
   "execution_count": 4,
   "metadata": {},
   "outputs": [
    {
     "output_type": "stream",
     "name": "stdout",
     "text": [
      "68 files found in directory\n"
     ]
    }
   ],
   "source": [
    "output_directory = \"C:\\\\Users\\\\Spencer\\\\Desktop\\\\clean\\\\data\\\\data_with_id\\\\chuck_e_cheese_10_10_2020\"\n",
    "master_df_path = \"C:\\\\Users\\\\Spencer\\\\Desktop\\\\clean\\\\data\\\\data.xlsx\"\n",
    "directory_path = \"C:\\\\Users\\\\Spencer\\\\Box Sync\\\\Scraped\\\\chuck_e_cheese_10_10_2020\"\n",
    "key_col = \"key\"\n",
    "master_df_key_col = \"Phone\"\n",
    "master_df_id_col = \"Company ID\"\n",
    "id_col_name = master_df_id_col\n",
    "add_company_ids(directory_path=directory_path, \n",
    "                master_df_path=master_df_path, \n",
    "                key_col=key_col, \n",
    "                master_df_key_col=master_df_key_col, \n",
    "                master_df_id_col=master_df_id_col, \n",
    "                id_col_name=id_col_name, \n",
    "                output_directory=output_directory)"
   ]
  },
  {
   "cell_type": "code",
   "execution_count": 5,
   "metadata": {},
   "outputs": [
    {
     "output_type": "stream",
     "name": "stdout",
     "text": [
      "98 files found in directory\n"
     ]
    }
   ],
   "source": [
    "output_directory = \"C:\\\\Users\\\\Spencer\\\\Desktop\\\\clean\\\\data\\\\data_with_id\\\\chuck_e_cheese_10_10_2020_2\"\n",
    "master_df_path = \"C:\\\\Users\\\\Spencer\\\\Desktop\\\\clean\\\\data\\\\data.xlsx\"\n",
    "directory_path = \"C:\\\\Users\\\\Spencer\\\\Box Sync\\\\Scraped\\\\chuck_e_cheese_10_10_2020_2\"\n",
    "key_col = \"key\"\n",
    "master_df_key_col = \"Phone\"\n",
    "master_df_id_col = \"Company ID\"\n",
    "id_col_name = master_df_id_col\n",
    "add_company_ids(directory_path=directory_path, \n",
    "                master_df_path=master_df_path, \n",
    "                key_col=key_col, \n",
    "                master_df_key_col=master_df_key_col, \n",
    "                master_df_id_col=master_df_id_col, \n",
    "                id_col_name=id_col_name, \n",
    "                output_directory=output_directory)"
   ]
  },
  {
   "cell_type": "code",
   "execution_count": 6,
   "metadata": {},
   "outputs": [
    {
     "output_type": "stream",
     "name": "stdout",
     "text": [
      "413 files found in directory\n"
     ]
    }
   ],
   "source": [
    "output_directory = \"C:\\\\Users\\\\Spencer\\\\Desktop\\\\clean\\\\data\\\\data_with_id\\\\godfathers_10_25_2020\"\n",
    "master_df_path = \"C:\\\\Users\\\\Spencer\\\\Desktop\\\\clean\\\\data\\\\data.xlsx\"\n",
    "directory_path = \"C:\\\\Users\\\\Spencer\\\\Box Sync\\\\Scraped\\\\godfathers_10_25_2020\"\n",
    "key_col = \"key\"\n",
    "master_df_key_col = \"Phone\"\n",
    "master_df_id_col = \"Company ID\"\n",
    "id_col_name = master_df_id_col\n",
    "add_company_ids(directory_path=directory_path, \n",
    "                master_df_path=master_df_path, \n",
    "                key_col=key_col, \n",
    "                master_df_key_col=master_df_key_col, \n",
    "                master_df_id_col=master_df_id_col, \n",
    "                id_col_name=id_col_name, \n",
    "                output_directory=output_directory)"
   ]
  },
  {
   "cell_type": "code",
   "execution_count": 7,
   "metadata": {},
   "outputs": [
    {
     "output_type": "stream",
     "name": "stdout",
     "text": [
      "1327 files found in directory\n"
     ]
    }
   ],
   "source": [
    "output_directory = \"C:\\\\Users\\\\Spencer\\\\Desktop\\\\clean\\\\data\\\\data_with_id\\\\papa_murphys_10_14_2020\"\n",
    "master_df_path = \"C:\\\\Users\\\\Spencer\\\\Desktop\\\\clean\\\\data\\\\data.xlsx\"\n",
    "directory_path = \"C:\\\\Users\\\\Spencer\\\\Box Sync\\\\Scraped\\\\papa_murphys_10_14_2020\"\n",
    "key_col = \"key\"\n",
    "master_df_key_col = \"Phone\"\n",
    "master_df_id_col = \"Company ID\"\n",
    "id_col_name = master_df_id_col\n",
    "add_company_ids(directory_path=directory_path, \n",
    "                master_df_path=master_df_path, \n",
    "                key_col=key_col, \n",
    "                master_df_key_col=master_df_key_col, \n",
    "                master_df_id_col=master_df_id_col, \n",
    "                id_col_name=id_col_name, \n",
    "                output_directory=output_directory)"
   ]
  },
  {
   "cell_type": "code",
   "execution_count": 8,
   "metadata": {},
   "outputs": [
    {
     "output_type": "stream",
     "name": "stdout",
     "text": [
      "891 files found in directory\n"
     ]
    }
   ],
   "source": [
    "output_directory = \"C:\\\\Users\\\\Spencer\\\\Desktop\\\\clean\\\\data\\\\data_with_id\\\\marcos_pizza_10_23_2020\"\n",
    "master_df_path = \"C:\\\\Users\\\\Spencer\\\\Desktop\\\\clean\\\\data\\\\data.xlsx\"\n",
    "directory_path = \"C:\\\\Users\\\\Spencer\\\\Box Sync\\\\Scraped\\\\marcos_pizza_10_23_2020\"\n",
    "key_col = \"key\"\n",
    "master_df_key_col = \"Phone\"\n",
    "master_df_id_col = \"Company ID\"\n",
    "id_col_name = master_df_id_col\n",
    "add_company_ids(directory_path=directory_path, \n",
    "                master_df_path=master_df_path, \n",
    "                key_col=key_col, \n",
    "                master_df_key_col=master_df_key_col, \n",
    "                master_df_id_col=master_df_id_col, \n",
    "                id_col_name=id_col_name, \n",
    "                output_directory=output_directory)"
   ]
  },
  {
   "cell_type": "code",
   "execution_count": 9,
   "metadata": {},
   "outputs": [
    {
     "output_type": "stream",
     "name": "stdout",
     "text": [
      "413 files found in directory\n"
     ]
    }
   ],
   "source": [
    "output_directory = \"C:\\\\Users\\\\Spencer\\\\Desktop\\\\clean\\\\data\\\\data_with_id\\\\round_table_10_20_2020\"\n",
    "master_df_path = \"C:\\\\Users\\\\Spencer\\\\Desktop\\\\clean\\\\data\\\\data.xlsx\"\n",
    "directory_path = \"C:\\\\Users\\\\Spencer\\\\Box Sync\\\\Scraped\\\\round_table_10_20_2020\"\n",
    "key_col = \"key\"\n",
    "master_df_key_col = \"Phone\"\n",
    "master_df_id_col = \"Company ID\"\n",
    "id_col_name = master_df_id_col\n",
    "add_company_ids(directory_path=directory_path, \n",
    "                master_df_path=master_df_path, \n",
    "                key_col=key_col, \n",
    "                master_df_key_col=master_df_key_col, \n",
    "                master_df_id_col=master_df_id_col, \n",
    "                id_col_name=id_col_name, \n",
    "                output_directory=output_directory)"
   ]
  },
  {
   "cell_type": "code",
   "execution_count": 2,
   "metadata": {},
   "outputs": [
    {
     "output_type": "stream",
     "name": "stdout",
     "text": [
      "384 files found in directory\n"
     ]
    }
   ],
   "source": [
    "output_directory = \"C:\\\\Users\\\\Spencer\\\\Desktop\\\\clean\\\\data\\\\data_with_id\\\\cicis_pizza_10_27_2020\"\n",
    "master_df_path = \"C:\\\\Users\\\\Spencer\\\\Desktop\\\\clean\\\\data\\\\data.xlsx\"\n",
    "directory_path = \"C:\\\\Users\\\\Spencer\\\\Box Sync\\\\Scraped\\\\cicis_pizza_10_27_2020\"\n",
    "key_col = \"key\"\n",
    "master_df_key_col = \"Phone\"\n",
    "master_df_id_col = \"Company ID\"\n",
    "id_col_name = master_df_id_col\n",
    "add_company_ids(directory_path=directory_path, \n",
    "                master_df_path=master_df_path, \n",
    "                key_col=key_col, \n",
    "                master_df_key_col=master_df_key_col, \n",
    "                master_df_id_col=master_df_id_col, \n",
    "                id_col_name=id_col_name, \n",
    "                output_directory=output_directory)"
   ]
  },
  {
   "cell_type": "code",
   "execution_count": 3,
   "metadata": {},
   "outputs": [
    {
     "output_type": "stream",
     "name": "stdout",
     "text": [
      "208 files found in directory\n"
     ]
    }
   ],
   "source": [
    "output_directory = \"C:\\\\Users\\\\Spencer\\\\Desktop\\\\clean\\\\data\\\\data_with_id\\\\foxs_10_28_20\"\n",
    "master_df_path = \"C:\\\\Users\\\\Spencer\\\\Desktop\\\\clean\\\\data\\\\data.xlsx\"\n",
    "directory_path = \"C:\\\\Users\\\\Spencer\\\\Box Sync\\\\Scraped\\\\foxs_10_28_20\"\n",
    "key_col = \"key\"\n",
    "master_df_key_col = \"Phone\"\n",
    "master_df_id_col = \"Company ID\"\n",
    "id_col_name = master_df_id_col\n",
    "add_company_ids(directory_path=directory_path, \n",
    "                master_df_path=master_df_path, \n",
    "                key_col=key_col, \n",
    "                master_df_key_col=master_df_key_col, \n",
    "                master_df_id_col=master_df_id_col, \n",
    "                id_col_name=id_col_name, \n",
    "                output_directory=output_directory)"
   ]
  },
  {
   "cell_type": "code",
   "execution_count": 4,
   "metadata": {},
   "outputs": [
    {
     "output_type": "stream",
     "name": "stdout",
     "text": [
      "598 files found in directory\n"
     ]
    }
   ],
   "source": [
    "output_directory = \"C:\\\\Users\\\\Spencer\\\\Desktop\\\\clean\\\\data\\\\data_with_id\\\\papa_johns_10_22_2020\"\n",
    "master_df_path = \"C:\\\\Users\\\\Spencer\\\\Desktop\\\\clean\\\\data\\\\data.xlsx\"\n",
    "directory_path = \"C:\\\\Users\\\\Spencer\\\\Box Sync\\\\Scraped\\\\papa_johns_10_22_2020\"\n",
    "key_col = \"key\"\n",
    "master_df_key_col = \"Phone\"\n",
    "master_df_id_col = \"Company ID\"\n",
    "id_col_name = master_df_id_col\n",
    "add_company_ids(directory_path=directory_path, \n",
    "                master_df_path=master_df_path, \n",
    "                key_col=key_col, \n",
    "                master_df_key_col=master_df_key_col, \n",
    "                master_df_id_col=master_df_id_col, \n",
    "                id_col_name=id_col_name, \n",
    "                output_directory=output_directory)"
   ]
  },
  {
   "cell_type": "code",
   "execution_count": 5,
   "metadata": {},
   "outputs": [
    {
     "output_type": "stream",
     "name": "stdout",
     "text": [
      "461 files found in directory\n"
     ]
    }
   ],
   "source": [
    "output_directory = \"C:\\\\Users\\\\Spencer\\\\Desktop\\\\clean\\\\data\\\\data_with_id\\\\mod_pizza_10_24_2020\"\n",
    "master_df_path = \"C:\\\\Users\\\\Spencer\\\\Desktop\\\\clean\\\\data\\\\data.xlsx\"\n",
    "directory_path = \"C:\\\\Users\\\\Spencer\\\\Box Sync\\\\Scraped\\\\mod_pizza_10_24_2020\"\n",
    "key_col = \"key\"\n",
    "master_df_key_col = \"Phone\"\n",
    "master_df_id_col = \"Company ID\"\n",
    "id_col_name = master_df_id_col\n",
    "add_company_ids(directory_path=directory_path, \n",
    "                master_df_path=master_df_path, \n",
    "                key_col=key_col, \n",
    "                master_df_key_col=master_df_key_col, \n",
    "                master_df_id_col=master_df_id_col, \n",
    "                id_col_name=id_col_name, \n",
    "                output_directory=output_directory)\n",
    "\n",
    "# THIS IS MISSING A LOT"
   ]
  },
  {
   "cell_type": "code",
   "execution_count": 6,
   "metadata": {},
   "outputs": [
    {
     "output_type": "stream",
     "name": "stdout",
     "text": [
      "384 files found in directory\n"
     ]
    }
   ],
   "source": [
    "output_directory = \"C:\\\\Users\\\\Spencer\\\\Desktop\\\\clean\\\\data\\\\data_with_id\\\\jets_10_28_20\"\n",
    "master_df_path = \"C:\\\\Users\\\\Spencer\\\\Desktop\\\\clean\\\\data\\\\data.xlsx\"\n",
    "directory_path = \"C:\\\\Users\\\\Spencer\\\\Box Sync\\\\Scraped\\\\jets_10_28_20\"\n",
    "key_col = \"key\"\n",
    "master_df_key_col = \"Phone\"\n",
    "master_df_id_col = \"Company ID\"\n",
    "id_col_name = master_df_id_col\n",
    "add_company_ids(directory_path=directory_path, \n",
    "                master_df_path=master_df_path, \n",
    "                key_col=key_col, \n",
    "                master_df_key_col=master_df_key_col, \n",
    "                master_df_id_col=master_df_id_col, \n",
    "                id_col_name=id_col_name, \n",
    "                output_directory=output_directory)"
   ]
  },
  {
   "cell_type": "code",
   "execution_count": 7,
   "metadata": {},
   "outputs": [
    {
     "output_type": "stream",
     "name": "stdout",
     "text": [
      "215 files found in directory\n"
     ]
    }
   ],
   "source": [
    "output_directory = \"C:\\\\Users\\\\Spencer\\\\Desktop\\\\clean\\\\data\\\\data_with_id\\\\rosatis_10_28_20\"\n",
    "master_df_path = \"C:\\\\Users\\\\Spencer\\\\Desktop\\\\clean\\\\data\\\\data.xlsx\"\n",
    "directory_path = \"C:\\\\Users\\\\Spencer\\\\Box Sync\\\\Scraped\\\\rosatis_10_28_20\"\n",
    "key_col = \"key\"\n",
    "master_df_key_col = \"Phone\"\n",
    "master_df_id_col = \"Company ID\"\n",
    "id_col_name = master_df_id_col\n",
    "add_company_ids(directory_path=directory_path, \n",
    "                master_df_path=master_df_path, \n",
    "                key_col=key_col, \n",
    "                master_df_key_col=master_df_key_col, \n",
    "                master_df_id_col=master_df_id_col, \n",
    "                id_col_name=id_col_name, \n",
    "                output_directory=output_directory)"
   ]
  },
  {
   "cell_type": "code",
   "execution_count": null,
   "metadata": {},
   "outputs": [],
   "source": []
  }
 ]
}