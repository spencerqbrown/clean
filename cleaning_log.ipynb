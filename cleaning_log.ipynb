{
 "metadata": {
  "language_info": {
   "codemirror_mode": {
    "name": "ipython",
    "version": 3
   },
   "file_extension": ".py",
   "mimetype": "text/x-python",
   "name": "python",
   "nbconvert_exporter": "python",
   "pygments_lexer": "ipython3",
   "version": "3.7.0-final"
  },
  "orig_nbformat": 2,
  "kernelspec": {
   "name": "python3",
   "display_name": "Python 3"
  }
 },
 "nbformat": 4,
 "nbformat_minor": 2,
 "cells": [
  {
   "cell_type": "code",
   "execution_count": 1,
   "metadata": {},
   "outputs": [],
   "source": [
    "from company_id import add_company_ids"
   ]
  },
  {
   "cell_type": "code",
   "execution_count": 2,
   "metadata": {
    "tags": [
     "outputPrepend"
    ]
   },
   "outputs": [
    {
     "output_type": "stream",
     "name": "stdout",
     "text": [
      "chen_2000041229.csv\n",
      "Saving to C:\\Users\\Spencer\\Desktop\\clean\\data\\data_with_id\\california_pizza_kitchen_10_13_2020\\california_pizza_kitchen_2000041243.csv\n",
      "Saving to C:\\Users\\Spencer\\Desktop\\clean\\data\\data_with_id\\california_pizza_kitchen_10_13_2020\\california_pizza_kitchen_2000041267.csv\n",
      "Saving to C:\\Users\\Spencer\\Desktop\\clean\\data\\data_with_id\\california_pizza_kitchen_10_13_2020\\california_pizza_kitchen_2000041251.csv\n",
      "Saving to C:\\Users\\Spencer\\Desktop\\clean\\data\\data_with_id\\california_pizza_kitchen_10_13_2020\\california_pizza_kitchen_2000041257.csv\n",
      "Saving to C:\\Users\\Spencer\\Desktop\\clean\\data\\data_with_id\\california_pizza_kitchen_10_13_2020\\california_pizza_kitchen_2000041274.csv\n",
      "Saving to C:\\Users\\Spencer\\Desktop\\clean\\data\\data_with_id\\california_pizza_kitchen_10_13_2020\\california_pizza_kitchen_2000041279.csv\n",
      "Saving to C:\\Users\\Spencer\\Desktop\\clean\\data\\data_with_id\\california_pizza_kitchen_10_13_2020\\california_pizza_kitchen_2000041287.csv\n",
      "Saving to C:\\Users\\Spencer\\Desktop\\clean\\data\\data_with_id\\california_pizza_kitchen_10_13_2020\\california_pizza_kitchen_2000041288.csv\n",
      "Saving to C:\\Users\\Spencer\\Desktop\\clean\\data\\data_with_id\\california_pizza_kitchen_10_13_2020\\california_pizza_kitchen_2000041294.csv\n",
      "Saving to C:\\Users\\Spencer\\Desktop\\clean\\data\\data_with_id\\california_pizza_kitchen_10_13_2020\\california_pizza_kitchen_2000041310.csv\n",
      "Saving to C:\\Users\\Spencer\\Desktop\\clean\\data\\data_with_id\\california_pizza_kitchen_10_13_2020\\california_pizza_kitchen_2000041317.csv\n",
      "Saving to C:\\Users\\Spencer\\Desktop\\clean\\data\\data_with_id\\california_pizza_kitchen_10_13_2020\\california_pizza_kitchen_2000041327.csv\n",
      "Saving to C:\\Users\\Spencer\\Desktop\\clean\\data\\data_with_id\\california_pizza_kitchen_10_13_2020\\california_pizza_kitchen_2000041339.csv\n",
      "Saving to C:\\Users\\Spencer\\Desktop\\clean\\data\\data_with_id\\california_pizza_kitchen_10_13_2020\\california_pizza_kitchen_2000041347.csv\n",
      "Saving to C:\\Users\\Spencer\\Desktop\\clean\\data\\data_with_id\\california_pizza_kitchen_10_13_2020\\california_pizza_kitchen_2000041356.csv\n",
      "Saving to C:\\Users\\Spencer\\Desktop\\clean\\data\\data_with_id\\california_pizza_kitchen_10_13_2020\\california_pizza_kitchen_2000041361.csv\n",
      "Saving to C:\\Users\\Spencer\\Desktop\\clean\\data\\data_with_id\\california_pizza_kitchen_10_13_2020\\california_pizza_kitchen_2000041369.csv\n",
      "Saving to C:\\Users\\Spencer\\Desktop\\clean\\data\\data_with_id\\california_pizza_kitchen_10_13_2020\\california_pizza_kitchen_2000041373.csv\n",
      "Saving to C:\\Users\\Spencer\\Desktop\\clean\\data\\data_with_id\\california_pizza_kitchen_10_13_2020\\california_pizza_kitchen_2000041384.csv\n",
      "Saving to C:\\Users\\Spencer\\Desktop\\clean\\data\\data_with_id\\california_pizza_kitchen_10_13_2020\\california_pizza_kitchen_2000041387.csv\n",
      "Saving to C:\\Users\\Spencer\\Desktop\\clean\\data\\data_with_id\\california_pizza_kitchen_10_13_2020\\california_pizza_kitchen_2000041388.csv\n",
      "Saving to C:\\Users\\Spencer\\Desktop\\clean\\data\\data_with_id\\california_pizza_kitchen_10_13_2020\\california_pizza_kitchen_2000041394.csv\n",
      "Saving to C:\\Users\\Spencer\\Desktop\\clean\\data\\data_with_id\\california_pizza_kitchen_10_13_2020\\california_pizza_kitchen_2000041400.csv\n",
      "Saving to C:\\Users\\Spencer\\Desktop\\clean\\data\\data_with_id\\california_pizza_kitchen_10_13_2020\\california_pizza_kitchen_2000041412.csv\n",
      "Saving to C:\\Users\\Spencer\\Desktop\\clean\\data\\data_with_id\\california_pizza_kitchen_10_13_2020\\california_pizza_kitchen_2000041413.csv\n",
      "Saving to C:\\Users\\Spencer\\Desktop\\clean\\data\\data_with_id\\california_pizza_kitchen_10_13_2020\\california_pizza_kitchen_2000041426.csv\n",
      "Saving to C:\\Users\\Spencer\\Desktop\\clean\\data\\data_with_id\\california_pizza_kitchen_10_13_2020\\california_pizza_kitchen_2000041433.csv\n",
      "Saving to C:\\Users\\Spencer\\Desktop\\clean\\data\\data_with_id\\california_pizza_kitchen_10_13_2020\\california_pizza_kitchen_2000041451.csv\n",
      "Saving to C:\\Users\\Spencer\\Desktop\\clean\\data\\data_with_id\\california_pizza_kitchen_10_13_2020\\california_pizza_kitchen_2000041460.csv\n",
      "Saving to C:\\Users\\Spencer\\Desktop\\clean\\data\\data_with_id\\california_pizza_kitchen_10_13_2020\\california_pizza_kitchen_2000041283.csv\n",
      "Saving to C:\\Users\\Spencer\\Desktop\\clean\\data\\data_with_id\\california_pizza_kitchen_10_13_2020\\california_pizza_kitchen_2000041314.csv\n",
      "Saving to C:\\Users\\Spencer\\Desktop\\clean\\data\\data_with_id\\california_pizza_kitchen_10_13_2020\\california_pizza_kitchen_2000041338.csv\n",
      "Saving to C:\\Users\\Spencer\\Desktop\\clean\\data\\data_with_id\\california_pizza_kitchen_10_13_2020\\california_pizza_kitchen_2000041343.csv\n",
      "Saving to C:\\Users\\Spencer\\Desktop\\clean\\data\\data_with_id\\california_pizza_kitchen_10_13_2020\\california_pizza_kitchen_2000041354.csv\n",
      "Saving to C:\\Users\\Spencer\\Desktop\\clean\\data\\data_with_id\\california_pizza_kitchen_10_13_2020\\california_pizza_kitchen_2000041378.csv\n",
      "Saving to C:\\Users\\Spencer\\Desktop\\clean\\data\\data_with_id\\california_pizza_kitchen_10_13_2020\\california_pizza_kitchen_2000041385.csv\n",
      "Saving to C:\\Users\\Spencer\\Desktop\\clean\\data\\data_with_id\\california_pizza_kitchen_10_13_2020\\california_pizza_kitchen_2000041396.csv\n",
      "Saving to C:\\Users\\Spencer\\Desktop\\clean\\data\\data_with_id\\california_pizza_kitchen_10_13_2020\\california_pizza_kitchen_2000041398.csv\n",
      "Saving to C:\\Users\\Spencer\\Desktop\\clean\\data\\data_with_id\\california_pizza_kitchen_10_13_2020\\california_pizza_kitchen_2000041411.csv\n",
      "Saving to C:\\Users\\Spencer\\Desktop\\clean\\data\\data_with_id\\california_pizza_kitchen_10_13_2020\\california_pizza_kitchen_2000041452.csv\n",
      "Saving to C:\\Users\\Spencer\\Desktop\\clean\\data\\data_with_id\\california_pizza_kitchen_10_13_2020\\california_pizza_kitchen_2000092261.csv\n",
      "Saving to C:\\Users\\Spencer\\Desktop\\clean\\data\\data_with_id\\california_pizza_kitchen_10_13_2020\\california_pizza_kitchen_2000074422.csv\n",
      "Saving to C:\\Users\\Spencer\\Desktop\\clean\\data\\data_with_id\\california_pizza_kitchen_10_13_2020\\california_pizza_kitchen_2000086846.csv\n",
      "Saving to C:\\Users\\Spencer\\Desktop\\clean\\data\\data_with_id\\california_pizza_kitchen_10_13_2020\\california_pizza_kitchen_2000116966.csv\n",
      "Saving to C:\\Users\\Spencer\\Desktop\\clean\\data\\data_with_id\\california_pizza_kitchen_10_13_2020\\california_pizza_kitchen_2000128191.csv\n",
      "Saving to C:\\Users\\Spencer\\Desktop\\clean\\data\\data_with_id\\california_pizza_kitchen_10_13_2020\\california_pizza_kitchen_2000196125.csv\n",
      "Saving to C:\\Users\\Spencer\\Desktop\\clean\\data\\data_with_id\\california_pizza_kitchen_10_13_2020\\california_pizza_kitchen_2000390914.csv\n",
      "Saving to C:\\Users\\Spencer\\Desktop\\clean\\data\\data_with_id\\california_pizza_kitchen_10_13_2020\\california_pizza_kitchen_2000390913.csv\n",
      "Saving to C:\\Users\\Spencer\\Desktop\\clean\\data\\data_with_id\\california_pizza_kitchen_10_13_2020\\california_pizza_kitchen_2000390915.csv\n",
      "Saving to C:\\Users\\Spencer\\Desktop\\clean\\data\\data_with_id\\california_pizza_kitchen_10_13_2020\\california_pizza_kitchen_2000041078.csv\n",
      "Saving to C:\\Users\\Spencer\\Desktop\\clean\\data\\data_with_id\\california_pizza_kitchen_10_13_2020\\california_pizza_kitchen_2000041079.csv\n",
      "Saving to C:\\Users\\Spencer\\Desktop\\clean\\data\\data_with_id\\california_pizza_kitchen_10_13_2020\\california_pizza_kitchen_2000041092.csv\n",
      "Saving to C:\\Users\\Spencer\\Desktop\\clean\\data\\data_with_id\\california_pizza_kitchen_10_13_2020\\california_pizza_kitchen_2000041103.csv\n",
      "Saving to C:\\Users\\Spencer\\Desktop\\clean\\data\\data_with_id\\california_pizza_kitchen_10_13_2020\\california_pizza_kitchen_2000041106.csv\n",
      "Saving to C:\\Users\\Spencer\\Desktop\\clean\\data\\data_with_id\\california_pizza_kitchen_10_13_2020\\california_pizza_kitchen_2000041116.csv\n",
      "Saving to C:\\Users\\Spencer\\Desktop\\clean\\data\\data_with_id\\california_pizza_kitchen_10_13_2020\\california_pizza_kitchen_2000041117.csv\n",
      "Saving to C:\\Users\\Spencer\\Desktop\\clean\\data\\data_with_id\\california_pizza_kitchen_10_13_2020\\california_pizza_kitchen_2000041125.csv\n",
      "Saving to C:\\Users\\Spencer\\Desktop\\clean\\data\\data_with_id\\california_pizza_kitchen_10_13_2020\\california_pizza_kitchen_2000041134.csv\n",
      "Saving to C:\\Users\\Spencer\\Desktop\\clean\\data\\data_with_id\\california_pizza_kitchen_10_13_2020\\california_pizza_kitchen_2000041067.csv\n",
      "Saving to C:\\Users\\Spencer\\Desktop\\clean\\data\\data_with_id\\california_pizza_kitchen_10_13_2020\\california_pizza_kitchen_2000041094.csv\n",
      "Saving to C:\\Users\\Spencer\\Desktop\\clean\\data\\data_with_id\\california_pizza_kitchen_10_13_2020\\california_pizza_kitchen_2000041100.csv\n",
      "Saving to C:\\Users\\Spencer\\Desktop\\clean\\data\\data_with_id\\california_pizza_kitchen_10_13_2020\\california_pizza_kitchen_2000041107.csv\n",
      "Saving to C:\\Users\\Spencer\\Desktop\\clean\\data\\data_with_id\\california_pizza_kitchen_10_13_2020\\california_pizza_kitchen_2000041114.csv\n",
      "Saving to C:\\Users\\Spencer\\Desktop\\clean\\data\\data_with_id\\california_pizza_kitchen_10_13_2020\\california_pizza_kitchen_2000041115.csv\n",
      "Saving to C:\\Users\\Spencer\\Desktop\\clean\\data\\data_with_id\\california_pizza_kitchen_10_13_2020\\california_pizza_kitchen_2000041118.csv\n",
      "Saving to C:\\Users\\Spencer\\Desktop\\clean\\data\\data_with_id\\california_pizza_kitchen_10_13_2020\\california_pizza_kitchen_2000041121.csv\n",
      "Saving to C:\\Users\\Spencer\\Desktop\\clean\\data\\data_with_id\\california_pizza_kitchen_10_13_2020\\california_pizza_kitchen_2000041122.csv\n",
      "Saving to C:\\Users\\Spencer\\Desktop\\clean\\data\\data_with_id\\california_pizza_kitchen_10_13_2020\\california_pizza_kitchen_2000041128.csv\n",
      "Saving to C:\\Users\\Spencer\\Desktop\\clean\\data\\data_with_id\\california_pizza_kitchen_10_13_2020\\california_pizza_kitchen_2000041152.csv\n",
      "Saving to C:\\Users\\Spencer\\Desktop\\clean\\data\\data_with_id\\california_pizza_kitchen_10_13_2020\\california_pizza_kitchen_2000041155.csv\n",
      "Saving to C:\\Users\\Spencer\\Desktop\\clean\\data\\data_with_id\\california_pizza_kitchen_10_13_2020\\california_pizza_kitchen_2000041190.csv\n",
      "Saving to C:\\Users\\Spencer\\Desktop\\clean\\data\\data_with_id\\california_pizza_kitchen_10_13_2020\\california_pizza_kitchen_2000041200.csv\n",
      "Saving to C:\\Users\\Spencer\\Desktop\\clean\\data\\data_with_id\\california_pizza_kitchen_10_13_2020\\california_pizza_kitchen_2000041205.csv\n",
      "Saving to C:\\Users\\Spencer\\Desktop\\clean\\data\\data_with_id\\california_pizza_kitchen_10_13_2020\\california_pizza_kitchen_2000041235.csv\n",
      "Saving to C:\\Users\\Spencer\\Desktop\\clean\\data\\data_with_id\\california_pizza_kitchen_10_13_2020\\california_pizza_kitchen_2000041248.csv\n",
      "Saving to C:\\Users\\Spencer\\Desktop\\clean\\data\\data_with_id\\california_pizza_kitchen_10_13_2020\\california_pizza_kitchen_2000041260.csv\n",
      "Saving to C:\\Users\\Spencer\\Desktop\\clean\\data\\data_with_id\\california_pizza_kitchen_10_13_2020\\california_pizza_kitchen_2000041265.csv\n",
      "Saving to C:\\Users\\Spencer\\Desktop\\clean\\data\\data_with_id\\california_pizza_kitchen_10_13_2020\\california_pizza_kitchen_2000041266.csv\n",
      "Saving to C:\\Users\\Spencer\\Desktop\\clean\\data\\data_with_id\\california_pizza_kitchen_10_13_2020\\california_pizza_kitchen_2000041270.csv\n",
      "Saving to C:\\Users\\Spencer\\Desktop\\clean\\data\\data_with_id\\california_pizza_kitchen_10_13_2020\\california_pizza_kitchen_2000041277.csv\n",
      "Saving to C:\\Users\\Spencer\\Desktop\\clean\\data\\data_with_id\\california_pizza_kitchen_10_13_2020\\california_pizza_kitchen_2000041280.csv\n",
      "Saving to C:\\Users\\Spencer\\Desktop\\clean\\data\\data_with_id\\california_pizza_kitchen_10_13_2020\\california_pizza_kitchen_2000041285.csv\n",
      "Saving to C:\\Users\\Spencer\\Desktop\\clean\\data\\data_with_id\\california_pizza_kitchen_10_13_2020\\california_pizza_kitchen_2000041295.csv\n",
      "Saving to C:\\Users\\Spencer\\Desktop\\clean\\data\\data_with_id\\california_pizza_kitchen_10_13_2020\\california_pizza_kitchen_2000041296.csv\n",
      "Saving to C:\\Users\\Spencer\\Desktop\\clean\\data\\data_with_id\\california_pizza_kitchen_10_13_2020\\california_pizza_kitchen_2000041312.csv\n",
      "Saving to C:\\Users\\Spencer\\Desktop\\clean\\data\\data_with_id\\california_pizza_kitchen_10_13_2020\\california_pizza_kitchen_2000041142.csv\n",
      "Saving to C:\\Users\\Spencer\\Desktop\\clean\\data\\data_with_id\\california_pizza_kitchen_10_13_2020\\california_pizza_kitchen_2000041150.csv\n",
      "Saving to C:\\Users\\Spencer\\Desktop\\clean\\data\\data_with_id\\california_pizza_kitchen_10_13_2020\\california_pizza_kitchen_2000041159.csv\n",
      "Saving to C:\\Users\\Spencer\\Desktop\\clean\\data\\data_with_id\\california_pizza_kitchen_10_13_2020\\california_pizza_kitchen_2000041163.csv\n",
      "Saving to C:\\Users\\Spencer\\Desktop\\clean\\data\\data_with_id\\california_pizza_kitchen_10_13_2020\\california_pizza_kitchen_2000041165.csv\n",
      "Saving to C:\\Users\\Spencer\\Desktop\\clean\\data\\data_with_id\\california_pizza_kitchen_10_13_2020\\california_pizza_kitchen_2000041170.csv\n",
      "Saving to C:\\Users\\Spencer\\Desktop\\clean\\data\\data_with_id\\california_pizza_kitchen_10_13_2020\\california_pizza_kitchen_2000041316.csv\n",
      "Saving to C:\\Users\\Spencer\\Desktop\\clean\\data\\data_with_id\\california_pizza_kitchen_10_13_2020\\california_pizza_kitchen_2000041353.csv\n",
      "Saving to C:\\Users\\Spencer\\Desktop\\clean\\data\\data_with_id\\california_pizza_kitchen_10_13_2020\\california_pizza_kitchen_2000041358.csv\n",
      "Saving to C:\\Users\\Spencer\\Desktop\\clean\\data\\data_with_id\\california_pizza_kitchen_10_13_2020\\california_pizza_kitchen_2000041173.csv\n",
      "Saving to C:\\Users\\Spencer\\Desktop\\clean\\data\\data_with_id\\california_pizza_kitchen_10_13_2020\\california_pizza_kitchen_2000041180.csv\n",
      "Saving to C:\\Users\\Spencer\\Desktop\\clean\\data\\data_with_id\\california_pizza_kitchen_10_13_2020\\california_pizza_kitchen_2000041181.csv\n",
      "Saving to C:\\Users\\Spencer\\Desktop\\clean\\data\\data_with_id\\california_pizza_kitchen_10_13_2020\\california_pizza_kitchen_2000041185.csv\n",
      "Saving to C:\\Users\\Spencer\\Desktop\\clean\\data\\data_with_id\\california_pizza_kitchen_10_13_2020\\california_pizza_kitchen_2000041196.csv\n",
      "Saving to C:\\Users\\Spencer\\Desktop\\clean\\data\\data_with_id\\california_pizza_kitchen_10_13_2020\\california_pizza_kitchen_2000041202.csv\n",
      "Saving to C:\\Users\\Spencer\\Desktop\\clean\\data\\data_with_id\\california_pizza_kitchen_10_13_2020\\california_pizza_kitchen_2000041206.csv\n",
      "Saving to C:\\Users\\Spencer\\Desktop\\clean\\data\\data_with_id\\california_pizza_kitchen_10_13_2020\\california_pizza_kitchen_2000041214.csv\n",
      "Saving to C:\\Users\\Spencer\\Desktop\\clean\\data\\data_with_id\\california_pizza_kitchen_10_13_2020\\california_pizza_kitchen_2000041221.csv\n",
      "Saving to C:\\Users\\Spencer\\Desktop\\clean\\data\\data_with_id\\california_pizza_kitchen_10_13_2020\\california_pizza_kitchen_2000041236.csv\n",
      "Saving to C:\\Users\\Spencer\\Desktop\\clean\\data\\data_with_id\\california_pizza_kitchen_10_13_2020\\california_pizza_kitchen_2000041263.csv\n",
      "Saving to C:\\Users\\Spencer\\Desktop\\clean\\data\\data_with_id\\california_pizza_kitchen_10_13_2020\\california_pizza_kitchen_2000041275.csv\n",
      "Saving to C:\\Users\\Spencer\\Desktop\\clean\\data\\data_with_id\\california_pizza_kitchen_10_13_2020\\california_pizza_kitchen_2000041276.csv\n",
      "Saving to C:\\Users\\Spencer\\Desktop\\clean\\data\\data_with_id\\california_pizza_kitchen_10_13_2020\\california_pizza_kitchen_2000041290.csv\n",
      "Saving to C:\\Users\\Spencer\\Desktop\\clean\\data\\data_with_id\\california_pizza_kitchen_10_13_2020\\california_pizza_kitchen_2000041291.csv\n",
      "Saving to C:\\Users\\Spencer\\Desktop\\clean\\data\\data_with_id\\california_pizza_kitchen_10_13_2020\\california_pizza_kitchen_2000041301.csv\n",
      "Saving to C:\\Users\\Spencer\\Desktop\\clean\\data\\data_with_id\\california_pizza_kitchen_10_13_2020\\california_pizza_kitchen_2000041306.csv\n",
      "Saving to C:\\Users\\Spencer\\Desktop\\clean\\data\\data_with_id\\california_pizza_kitchen_10_13_2020\\california_pizza_kitchen_2000041315.csv\n",
      "Saving to C:\\Users\\Spencer\\Desktop\\clean\\data\\data_with_id\\california_pizza_kitchen_10_13_2020\\california_pizza_kitchen_2000041320.csv\n",
      "Saving to C:\\Users\\Spencer\\Desktop\\clean\\data\\data_with_id\\california_pizza_kitchen_10_13_2020\\california_pizza_kitchen_2000041335.csv\n",
      "Saving to C:\\Users\\Spencer\\Desktop\\clean\\data\\data_with_id\\california_pizza_kitchen_10_13_2020\\california_pizza_kitchen_2000041344.csv\n",
      "Saving to C:\\Users\\Spencer\\Desktop\\clean\\data\\data_with_id\\california_pizza_kitchen_10_13_2020\\california_pizza_kitchen_2000041357.csv\n",
      "Saving to C:\\Users\\Spencer\\Desktop\\clean\\data\\data_with_id\\california_pizza_kitchen_10_13_2020\\california_pizza_kitchen_2000041370.csv\n",
      "Saving to C:\\Users\\Spencer\\Desktop\\clean\\data\\data_with_id\\california_pizza_kitchen_10_13_2020\\california_pizza_kitchen_2000041372.csv\n",
      "Saving to C:\\Users\\Spencer\\Desktop\\clean\\data\\data_with_id\\california_pizza_kitchen_10_13_2020\\california_pizza_kitchen_2000041375.csv\n",
      "Saving to C:\\Users\\Spencer\\Desktop\\clean\\data\\data_with_id\\california_pizza_kitchen_10_13_2020\\california_pizza_kitchen_2000041376.csv\n",
      "Saving to C:\\Users\\Spencer\\Desktop\\clean\\data\\data_with_id\\california_pizza_kitchen_10_13_2020\\california_pizza_kitchen_2000041379.csv\n",
      "Saving to C:\\Users\\Spencer\\Desktop\\clean\\data\\data_with_id\\california_pizza_kitchen_10_13_2020\\california_pizza_kitchen_2000041383.csv\n",
      "Saving to C:\\Users\\Spencer\\Desktop\\clean\\data\\data_with_id\\california_pizza_kitchen_10_13_2020\\california_pizza_kitchen_2000041392.csv\n",
      "Saving to C:\\Users\\Spencer\\Desktop\\clean\\data\\data_with_id\\california_pizza_kitchen_10_13_2020\\california_pizza_kitchen_2000041395.csv\n",
      "Saving to C:\\Users\\Spencer\\Desktop\\clean\\data\\data_with_id\\california_pizza_kitchen_10_13_2020\\california_pizza_kitchen_2000041401.csv\n",
      "Saving to C:\\Users\\Spencer\\Desktop\\clean\\data\\data_with_id\\california_pizza_kitchen_10_13_2020\\california_pizza_kitchen_2000041409.csv\n",
      "Saving to C:\\Users\\Spencer\\Desktop\\clean\\data\\data_with_id\\california_pizza_kitchen_10_13_2020\\california_pizza_kitchen_2000041360.csv\n",
      "Saving to C:\\Users\\Spencer\\Desktop\\clean\\data\\data_with_id\\california_pizza_kitchen_10_13_2020\\california_pizza_kitchen_2000041415.csv\n",
      "Saving to C:\\Users\\Spencer\\Desktop\\clean\\data\\data_with_id\\california_pizza_kitchen_10_13_2020\\california_pizza_kitchen_2000041432.csv\n",
      "Saving to C:\\Users\\Spencer\\Desktop\\clean\\data\\data_with_id\\california_pizza_kitchen_10_13_2020\\california_pizza_kitchen_2000041442.csv\n",
      "Saving to C:\\Users\\Spencer\\Desktop\\clean\\data\\data_with_id\\california_pizza_kitchen_10_13_2020\\california_pizza_kitchen_2000041443.csv\n",
      "Saving to C:\\Users\\Spencer\\Desktop\\clean\\data\\data_with_id\\california_pizza_kitchen_10_13_2020\\california_pizza_kitchen_2000503102.csv\n",
      "Saving to C:\\Users\\Spencer\\Desktop\\clean\\data\\data_with_id\\california_pizza_kitchen_10_13_2020\\california_pizza_kitchen_2000610313.csv\n",
      "Saving to C:\\Users\\Spencer\\Desktop\\clean\\data\\data_with_id\\california_pizza_kitchen_10_13_2020\\california_pizza_kitchen_2000610314.csv\n",
      "Saving to C:\\Users\\Spencer\\Desktop\\clean\\data\\data_with_id\\california_pizza_kitchen_10_13_2020\\california_pizza_kitchen_2000610311.csv\n",
      "Saving to C:\\Users\\Spencer\\Desktop\\clean\\data\\data_with_id\\california_pizza_kitchen_10_13_2020\\california_pizza_kitchen_2000086845.csv\n",
      "Saving to C:\\Users\\Spencer\\Desktop\\clean\\data\\data_with_id\\california_pizza_kitchen_10_13_2020\\california_pizza_kitchen_2000129870.csv\n",
      "Saving to C:\\Users\\Spencer\\Desktop\\clean\\data\\data_with_id\\california_pizza_kitchen_10_13_2020\\california_pizza_kitchen_2000074629.csv\n",
      "Saving to C:\\Users\\Spencer\\Desktop\\clean\\data\\data_with_id\\california_pizza_kitchen_10_13_2020\\california_pizza_kitchen_2000155380.csv\n",
      "Saving to C:\\Users\\Spencer\\Desktop\\clean\\data\\data_with_id\\california_pizza_kitchen_10_13_2020\\california_pizza_kitchen_2000756867.csv\n",
      "Saving to C:\\Users\\Spencer\\Desktop\\clean\\data\\data_with_id\\california_pizza_kitchen_10_13_2020\\california_pizza_kitchen_2000756869.csv\n",
      "Saving to C:\\Users\\Spencer\\Desktop\\clean\\data\\data_with_id\\california_pizza_kitchen_10_13_2020\\california_pizza_kitchen_2000790196.csv\n",
      "Saving to C:\\Users\\Spencer\\Desktop\\clean\\data\\data_with_id\\california_pizza_kitchen_10_13_2020\\california_pizza_kitchen_2000503101.csv\n",
      "Saving to C:\\Users\\Spencer\\Desktop\\clean\\data\\data_with_id\\california_pizza_kitchen_10_13_2020\\california_pizza_kitchen_2000503103.csv\n",
      "Saving to C:\\Users\\Spencer\\Desktop\\clean\\data\\data_with_id\\california_pizza_kitchen_10_13_2020\\california_pizza_kitchen_2000610312.csv\n",
      "Saving to C:\\Users\\Spencer\\Desktop\\clean\\data\\data_with_id\\california_pizza_kitchen_10_13_2020\\california_pizza_kitchen_2000640305.csv\n",
      "Saving to C:\\Users\\Spencer\\Desktop\\clean\\data\\data_with_id\\california_pizza_kitchen_10_13_2020\\california_pizza_kitchen_2000640306.csv\n",
      "Saving to C:\\Users\\Spencer\\Desktop\\clean\\data\\data_with_id\\california_pizza_kitchen_10_13_2020\\california_pizza_kitchen_2000756870.csv\n"
     ]
    }
   ],
   "source": [
    "output_directory = \"C:\\\\Users\\\\Spencer\\\\Desktop\\\\clean\\\\data\\\\data_with_id\\\\california_pizza_kitchen_10_13_2020\"\n",
    "master_df_path = \"C:\\\\Users\\\\Spencer\\\\Desktop\\\\clean\\\\data\\\\data.xlsx\"\n",
    "directory_path = \"C:\\\\Users\\\\Spencer\\\\Box Sync\\\\Scraped\\\\california_pizza_kitchen_10_13_2020\"\n",
    "key_col = \"key\"\n",
    "master_df_key_col = \"Phone\"\n",
    "master_df_id_col = \"Company ID\"\n",
    "id_col_name = master_df_id_col\n",
    "add_company_ids(directory_path=directory_path, \n",
    "                master_df_path=master_df_path, \n",
    "                key_col=key_col, \n",
    "                master_df_key_col=master_df_key_col, \n",
    "                master_df_id_col=master_df_id_col, \n",
    "                id_col_name=id_col_name, \n",
    "                output_directory=output_directory)"
   ]
  },
  {
   "cell_type": "code",
   "execution_count": 3,
   "metadata": {
    "tags": [
     "outputPrepend"
    ]
   },
   "outputs": [
    {
     "output_type": "stream",
     "name": "stdout",
     "text": [
      "_e_cheese_10_8_2020\\chuck_e_cheese_1000859475.csv\n",
      "Saving to C:\\Users\\Spencer\\Desktop\\clean\\data\\data_with_id\\chuck_e_cheese_10_8_2020\\chuck_e_cheese_1000859653.csv\n",
      "Saving to C:\\Users\\Spencer\\Desktop\\clean\\data\\data_with_id\\chuck_e_cheese_10_8_2020\\chuck_e_cheese_1000860073.csv\n",
      "Saving to C:\\Users\\Spencer\\Desktop\\clean\\data\\data_with_id\\chuck_e_cheese_10_8_2020\\chuck_e_cheese_1000860859.csv\n",
      "Saving to C:\\Users\\Spencer\\Desktop\\clean\\data\\data_with_id\\chuck_e_cheese_10_8_2020\\chuck_e_cheese_1000861024.csv\n",
      "Saving to C:\\Users\\Spencer\\Desktop\\clean\\data\\data_with_id\\chuck_e_cheese_10_8_2020\\chuck_e_cheese_1000861517.csv\n",
      "Saving to C:\\Users\\Spencer\\Desktop\\clean\\data\\data_with_id\\chuck_e_cheese_10_8_2020\\chuck_e_cheese_1000861891.csv\n",
      "Saving to C:\\Users\\Spencer\\Desktop\\clean\\data\\data_with_id\\chuck_e_cheese_10_8_2020\\chuck_e_cheese_1000862007.csv\n",
      "Saving to C:\\Users\\Spencer\\Desktop\\clean\\data\\data_with_id\\chuck_e_cheese_10_8_2020\\chuck_e_cheese_1000860260.csv\n",
      "Saving to C:\\Users\\Spencer\\Desktop\\clean\\data\\data_with_id\\chuck_e_cheese_10_8_2020\\chuck_e_cheese_1000860313.csv\n",
      "Saving to C:\\Users\\Spencer\\Desktop\\clean\\data\\data_with_id\\chuck_e_cheese_10_8_2020\\chuck_e_cheese_1000860520.csv\n",
      "Saving to C:\\Users\\Spencer\\Desktop\\clean\\data\\data_with_id\\chuck_e_cheese_10_8_2020\\chuck_e_cheese_1000831362.csv\n",
      "Saving to C:\\Users\\Spencer\\Desktop\\clean\\data\\data_with_id\\chuck_e_cheese_10_8_2020\\chuck_e_cheese_1000831396.csv\n",
      "Saving to C:\\Users\\Spencer\\Desktop\\clean\\data\\data_with_id\\chuck_e_cheese_10_8_2020\\chuck_e_cheese_1000831643.csv\n",
      "Saving to C:\\Users\\Spencer\\Desktop\\clean\\data\\data_with_id\\chuck_e_cheese_10_8_2020\\chuck_e_cheese_1000831771.csv\n",
      "Saving to C:\\Users\\Spencer\\Desktop\\clean\\data\\data_with_id\\chuck_e_cheese_10_8_2020\\chuck_e_cheese_1000832356.csv\n",
      "Saving to C:\\Users\\Spencer\\Desktop\\clean\\data\\data_with_id\\chuck_e_cheese_10_8_2020\\chuck_e_cheese_1000832665.csv\n",
      "Saving to C:\\Users\\Spencer\\Desktop\\clean\\data\\data_with_id\\chuck_e_cheese_10_8_2020\\chuck_e_cheese_1000831224.csv\n",
      "Saving to C:\\Users\\Spencer\\Desktop\\clean\\data\\data_with_id\\chuck_e_cheese_10_8_2020\\chuck_e_cheese_1000831288.csv\n",
      "Saving to C:\\Users\\Spencer\\Desktop\\clean\\data\\data_with_id\\chuck_e_cheese_10_8_2020\\chuck_e_cheese_1000831319.csv\n",
      "Saving to C:\\Users\\Spencer\\Desktop\\clean\\data\\data_with_id\\chuck_e_cheese_10_8_2020\\chuck_e_cheese_1000833389.csv\n",
      "Saving to C:\\Users\\Spencer\\Desktop\\clean\\data\\data_with_id\\chuck_e_cheese_10_8_2020\\chuck_e_cheese_1000833588.csv\n",
      "Saving to C:\\Users\\Spencer\\Desktop\\clean\\data\\data_with_id\\chuck_e_cheese_10_8_2020\\chuck_e_cheese_1000860635.csv\n",
      "Saving to C:\\Users\\Spencer\\Desktop\\clean\\data\\data_with_id\\chuck_e_cheese_10_8_2020\\chuck_e_cheese_1000861461.csv\n",
      "Saving to C:\\Users\\Spencer\\Desktop\\clean\\data\\data_with_id\\chuck_e_cheese_10_8_2020\\chuck_e_cheese_1000863266.csv\n",
      "Saving to C:\\Users\\Spencer\\Desktop\\clean\\data\\data_with_id\\chuck_e_cheese_10_8_2020\\chuck_e_cheese_1000862450.csv\n",
      "Saving to C:\\Users\\Spencer\\Desktop\\clean\\data\\data_with_id\\chuck_e_cheese_10_8_2020\\chuck_e_cheese_1000864295.csv\n",
      "Saving to C:\\Users\\Spencer\\Desktop\\clean\\data\\data_with_id\\chuck_e_cheese_10_8_2020\\chuck_e_cheese_1000831471.csv\n",
      "Saving to C:\\Users\\Spencer\\Desktop\\clean\\data\\data_with_id\\chuck_e_cheese_10_8_2020\\chuck_e_cheese_1000832240.csv\n",
      "Saving to C:\\Users\\Spencer\\Desktop\\clean\\data\\data_with_id\\chuck_e_cheese_10_8_2020\\chuck_e_cheese_1000832436.csv\n",
      "Saving to C:\\Users\\Spencer\\Desktop\\clean\\data\\data_with_id\\chuck_e_cheese_10_8_2020\\chuck_e_cheese_1000865595.csv\n",
      "Saving to C:\\Users\\Spencer\\Desktop\\clean\\data\\data_with_id\\chuck_e_cheese_10_8_2020\\chuck_e_cheese_1000832837.csv\n",
      "Saving to C:\\Users\\Spencer\\Desktop\\clean\\data\\data_with_id\\chuck_e_cheese_10_8_2020\\chuck_e_cheese_1000832945.csv\n",
      "Saving to C:\\Users\\Spencer\\Desktop\\clean\\data\\data_with_id\\chuck_e_cheese_10_8_2020\\chuck_e_cheese_1000863021.csv\n",
      "Saving to C:\\Users\\Spencer\\Desktop\\clean\\data\\data_with_id\\chuck_e_cheese_10_8_2020\\chuck_e_cheese_1000833899.csv\n",
      "Saving to C:\\Users\\Spencer\\Desktop\\clean\\data\\data_with_id\\chuck_e_cheese_10_8_2020\\chuck_e_cheese_1000834024.csv\n",
      "Saving to C:\\Users\\Spencer\\Desktop\\clean\\data\\data_with_id\\chuck_e_cheese_10_8_2020\\chuck_e_cheese_1000865643.csv\n",
      "Saving to C:\\Users\\Spencer\\Desktop\\clean\\data\\data_with_id\\chuck_e_cheese_10_8_2020\\chuck_e_cheese_1000866052.csv\n",
      "Saving to C:\\Users\\Spencer\\Desktop\\clean\\data\\data_with_id\\chuck_e_cheese_10_8_2020\\chuck_e_cheese_1000834641.csv\n",
      "Saving to C:\\Users\\Spencer\\Desktop\\clean\\data\\data_with_id\\chuck_e_cheese_10_8_2020\\chuck_e_cheese_1000864468.csv\n",
      "Saving to C:\\Users\\Spencer\\Desktop\\clean\\data\\data_with_id\\chuck_e_cheese_10_8_2020\\chuck_e_cheese_1000864626.csv\n",
      "Saving to C:\\Users\\Spencer\\Desktop\\clean\\data\\data_with_id\\chuck_e_cheese_10_8_2020\\chuck_e_cheese_1000835061.csv\n",
      "Saving to C:\\Users\\Spencer\\Desktop\\clean\\data\\data_with_id\\chuck_e_cheese_10_8_2020\\chuck_e_cheese_1000835085.csv\n",
      "Saving to C:\\Users\\Spencer\\Desktop\\clean\\data\\data_with_id\\chuck_e_cheese_10_8_2020\\chuck_e_cheese_1000867441.csv\n",
      "Saving to C:\\Users\\Spencer\\Desktop\\clean\\data\\data_with_id\\chuck_e_cheese_10_8_2020\\chuck_e_cheese_1000865226.csv\n",
      "Saving to C:\\Users\\Spencer\\Desktop\\clean\\data\\data_with_id\\chuck_e_cheese_10_8_2020\\chuck_e_cheese_1000865831.csv\n",
      "Saving to C:\\Users\\Spencer\\Desktop\\clean\\data\\data_with_id\\chuck_e_cheese_10_8_2020\\chuck_e_cheese_1000866212.csv\n",
      "Saving to C:\\Users\\Spencer\\Desktop\\clean\\data\\data_with_id\\chuck_e_cheese_10_8_2020\\chuck_e_cheese_1000833590.csv\n",
      "Saving to C:\\Users\\Spencer\\Desktop\\clean\\data\\data_with_id\\chuck_e_cheese_10_8_2020\\chuck_e_cheese_1000834885.csv\n",
      "Saving to C:\\Users\\Spencer\\Desktop\\clean\\data\\data_with_id\\chuck_e_cheese_10_8_2020\\chuck_e_cheese_1000868050.csv\n",
      "Saving to C:\\Users\\Spencer\\Desktop\\clean\\data\\data_with_id\\chuck_e_cheese_10_8_2020\\chuck_e_cheese_1000868611.csv\n",
      "Saving to C:\\Users\\Spencer\\Desktop\\clean\\data\\data_with_id\\chuck_e_cheese_10_8_2020\\chuck_e_cheese_1000835714.csv\n",
      "Saving to C:\\Users\\Spencer\\Desktop\\clean\\data\\data_with_id\\chuck_e_cheese_10_8_2020\\chuck_e_cheese_1000835752.csv\n",
      "Saving to C:\\Users\\Spencer\\Desktop\\clean\\data\\data_with_id\\chuck_e_cheese_10_8_2020\\chuck_e_cheese_1000868686.csv\n",
      "Saving to C:\\Users\\Spencer\\Desktop\\clean\\data\\data_with_id\\chuck_e_cheese_10_8_2020\\chuck_e_cheese_1000867185.csv\n",
      "Saving to C:\\Users\\Spencer\\Desktop\\clean\\data\\data_with_id\\chuck_e_cheese_10_8_2020\\chuck_e_cheese_1000867325.csv\n",
      "Saving to C:\\Users\\Spencer\\Desktop\\clean\\data\\data_with_id\\chuck_e_cheese_10_8_2020\\chuck_e_cheese_1000836705.csv\n",
      "Saving to C:\\Users\\Spencer\\Desktop\\clean\\data\\data_with_id\\chuck_e_cheese_10_8_2020\\chuck_e_cheese_1000870011.csv\n",
      "Saving to C:\\Users\\Spencer\\Desktop\\clean\\data\\data_with_id\\chuck_e_cheese_10_8_2020\\chuck_e_cheese_1000870239.csv\n",
      "Saving to C:\\Users\\Spencer\\Desktop\\clean\\data\\data_with_id\\chuck_e_cheese_10_8_2020\\chuck_e_cheese_1000870783.csv\n",
      "Saving to C:\\Users\\Spencer\\Desktop\\clean\\data\\data_with_id\\chuck_e_cheese_10_8_2020\\chuck_e_cheese_1000871077.csv\n",
      "Saving to C:\\Users\\Spencer\\Desktop\\clean\\data\\data_with_id\\chuck_e_cheese_10_8_2020\\chuck_e_cheese_1000871645.csv\n",
      "Saving to C:\\Users\\Spencer\\Desktop\\clean\\data\\data_with_id\\chuck_e_cheese_10_8_2020\\chuck_e_cheese_1000871682.csv\n",
      "Saving to C:\\Users\\Spencer\\Desktop\\clean\\data\\data_with_id\\chuck_e_cheese_10_8_2020\\chuck_e_cheese_1000868866.csv\n",
      "Saving to C:\\Users\\Spencer\\Desktop\\clean\\data\\data_with_id\\chuck_e_cheese_10_8_2020\\chuck_e_cheese_1000869358.csv\n",
      "Saving to C:\\Users\\Spencer\\Desktop\\clean\\data\\data_with_id\\chuck_e_cheese_10_8_2020\\chuck_e_cheese_1000869668.csv\n",
      "Saving to C:\\Users\\Spencer\\Desktop\\clean\\data\\data_with_id\\chuck_e_cheese_10_8_2020\\chuck_e_cheese_1000869680.csv\n",
      "Saving to C:\\Users\\Spencer\\Desktop\\clean\\data\\data_with_id\\chuck_e_cheese_10_8_2020\\chuck_e_cheese_1000836800.csv\n",
      "Saving to C:\\Users\\Spencer\\Desktop\\clean\\data\\data_with_id\\chuck_e_cheese_10_8_2020\\chuck_e_cheese_1000836920.csv\n",
      "Saving to C:\\Users\\Spencer\\Desktop\\clean\\data\\data_with_id\\chuck_e_cheese_10_8_2020\\chuck_e_cheese_1000837746.csv\n",
      "Saving to C:\\Users\\Spencer\\Desktop\\clean\\data\\data_with_id\\chuck_e_cheese_10_8_2020\\chuck_e_cheese_1000869927.csv\n",
      "Saving to C:\\Users\\Spencer\\Desktop\\clean\\data\\data_with_id\\chuck_e_cheese_10_8_2020\\chuck_e_cheese_1000869955.csv\n",
      "Saving to C:\\Users\\Spencer\\Desktop\\clean\\data\\data_with_id\\chuck_e_cheese_10_8_2020\\chuck_e_cheese_1000870255.csv\n",
      "Saving to C:\\Users\\Spencer\\Desktop\\clean\\data\\data_with_id\\chuck_e_cheese_10_8_2020\\chuck_e_cheese_1000872216.csv\n",
      "Saving to C:\\Users\\Spencer\\Desktop\\clean\\data\\data_with_id\\chuck_e_cheese_10_8_2020\\chuck_e_cheese_1000872353.csv\n",
      "Saving to C:\\Users\\Spencer\\Desktop\\clean\\data\\data_with_id\\chuck_e_cheese_10_8_2020\\chuck_e_cheese_1000873396.csv\n",
      "Saving to C:\\Users\\Spencer\\Desktop\\clean\\data\\data_with_id\\chuck_e_cheese_10_8_2020\\chuck_e_cheese_1000870441.csv\n",
      "Saving to C:\\Users\\Spencer\\Desktop\\clean\\data\\data_with_id\\chuck_e_cheese_10_8_2020\\chuck_e_cheese_1000871850.csv\n",
      "Saving to C:\\Users\\Spencer\\Desktop\\clean\\data\\data_with_id\\chuck_e_cheese_10_8_2020\\chuck_e_cheese_1000872277.csv\n",
      "Saving to C:\\Users\\Spencer\\Desktop\\clean\\data\\data_with_id\\chuck_e_cheese_10_8_2020\\chuck_e_cheese_1000872349.csv\n",
      "Saving to C:\\Users\\Spencer\\Desktop\\clean\\data\\data_with_id\\chuck_e_cheese_10_8_2020\\chuck_e_cheese_1000837870.csv\n",
      "Saving to C:\\Users\\Spencer\\Desktop\\clean\\data\\data_with_id\\chuck_e_cheese_10_8_2020\\chuck_e_cheese_1000837945.csv\n",
      "Saving to C:\\Users\\Spencer\\Desktop\\clean\\data\\data_with_id\\chuck_e_cheese_10_8_2020\\chuck_e_cheese_1000838092.csv\n",
      "Saving to C:\\Users\\Spencer\\Desktop\\clean\\data\\data_with_id\\chuck_e_cheese_10_8_2020\\chuck_e_cheese_1000837789.csv\n",
      "Saving to C:\\Users\\Spencer\\Desktop\\clean\\data\\data_with_id\\chuck_e_cheese_10_8_2020\\chuck_e_cheese_1000838236.csv\n",
      "Saving to C:\\Users\\Spencer\\Desktop\\clean\\data\\data_with_id\\chuck_e_cheese_10_8_2020\\chuck_e_cheese_1000873394.csv\n",
      "Saving to C:\\Users\\Spencer\\Desktop\\clean\\data\\data_with_id\\chuck_e_cheese_10_8_2020\\chuck_e_cheese_1000873413.csv\n",
      "Saving to C:\\Users\\Spencer\\Desktop\\clean\\data\\data_with_id\\chuck_e_cheese_10_8_2020\\chuck_e_cheese_1000873724.csv\n",
      "Saving to C:\\Users\\Spencer\\Desktop\\clean\\data\\data_with_id\\chuck_e_cheese_10_8_2020\\chuck_e_cheese_1000873866.csv\n",
      "Saving to C:\\Users\\Spencer\\Desktop\\clean\\data\\data_with_id\\chuck_e_cheese_10_8_2020\\chuck_e_cheese_1000873952.csv\n",
      "Saving to C:\\Users\\Spencer\\Desktop\\clean\\data\\data_with_id\\chuck_e_cheese_10_8_2020\\chuck_e_cheese_1000873973.csv\n",
      "Saving to C:\\Users\\Spencer\\Desktop\\clean\\data\\data_with_id\\chuck_e_cheese_10_8_2020\\chuck_e_cheese_1000875054.csv\n",
      "Saving to C:\\Users\\Spencer\\Desktop\\clean\\data\\data_with_id\\chuck_e_cheese_10_8_2020\\chuck_e_cheese_1000875221.csv\n",
      "Saving to C:\\Users\\Spencer\\Desktop\\clean\\data\\data_with_id\\chuck_e_cheese_10_8_2020\\chuck_e_cheese_1000876689.csv\n",
      "Saving to C:\\Users\\Spencer\\Desktop\\clean\\data\\data_with_id\\chuck_e_cheese_10_8_2020\\chuck_e_cheese_1000874691.csv\n",
      "Saving to C:\\Users\\Spencer\\Desktop\\clean\\data\\data_with_id\\chuck_e_cheese_10_8_2020\\chuck_e_cheese_1000838718.csv\n",
      "Saving to C:\\Users\\Spencer\\Desktop\\clean\\data\\data_with_id\\chuck_e_cheese_10_8_2020\\chuck_e_cheese_1000838845.csv\n",
      "Saving to C:\\Users\\Spencer\\Desktop\\clean\\data\\data_with_id\\chuck_e_cheese_10_8_2020\\chuck_e_cheese_1000838850.csv\n",
      "Saving to C:\\Users\\Spencer\\Desktop\\clean\\data\\data_with_id\\chuck_e_cheese_10_8_2020\\chuck_e_cheese_1000839101.csv\n",
      "Saving to C:\\Users\\Spencer\\Desktop\\clean\\data\\data_with_id\\chuck_e_cheese_10_8_2020\\chuck_e_cheese_1000875268.csv\n",
      "Saving to C:\\Users\\Spencer\\Desktop\\clean\\data\\data_with_id\\chuck_e_cheese_10_8_2020\\chuck_e_cheese_1000877096.csv\n",
      "Saving to C:\\Users\\Spencer\\Desktop\\clean\\data\\data_with_id\\chuck_e_cheese_10_8_2020\\chuck_e_cheese_1000877912.csv\n",
      "Saving to C:\\Users\\Spencer\\Desktop\\clean\\data\\data_with_id\\chuck_e_cheese_10_8_2020\\chuck_e_cheese_1000877992.csv\n",
      "Saving to C:\\Users\\Spencer\\Desktop\\clean\\data\\data_with_id\\chuck_e_cheese_10_8_2020\\chuck_e_cheese_1000878194.csv\n",
      "Saving to C:\\Users\\Spencer\\Desktop\\clean\\data\\data_with_id\\chuck_e_cheese_10_8_2020\\chuck_e_cheese_1000875995.csv\n",
      "Saving to C:\\Users\\Spencer\\Desktop\\clean\\data\\data_with_id\\chuck_e_cheese_10_8_2020\\chuck_e_cheese_1000876151.csv\n",
      "Saving to C:\\Users\\Spencer\\Desktop\\clean\\data\\data_with_id\\chuck_e_cheese_10_8_2020\\chuck_e_cheese_1000878794.csv\n",
      "Saving to C:\\Users\\Spencer\\Desktop\\clean\\data\\data_with_id\\chuck_e_cheese_10_8_2020\\chuck_e_cheese_1000879048.csv\n",
      "Saving to C:\\Users\\Spencer\\Desktop\\clean\\data\\data_with_id\\chuck_e_cheese_10_8_2020\\chuck_e_cheese_1000877129.csv\n",
      "Saving to C:\\Users\\Spencer\\Desktop\\clean\\data\\data_with_id\\chuck_e_cheese_10_8_2020\\chuck_e_cheese_1000877274.csv\n",
      "Saving to C:\\Users\\Spencer\\Desktop\\clean\\data\\data_with_id\\chuck_e_cheese_10_8_2020\\chuck_e_cheese_1000877410.csv\n",
      "Saving to C:\\Users\\Spencer\\Desktop\\clean\\data\\data_with_id\\chuck_e_cheese_10_8_2020\\chuck_e_cheese_1000877503.csv\n",
      "Saving to C:\\Users\\Spencer\\Desktop\\clean\\data\\data_with_id\\chuck_e_cheese_10_8_2020\\chuck_e_cheese_1000877943.csv\n",
      "Saving to C:\\Users\\Spencer\\Desktop\\clean\\data\\data_with_id\\chuck_e_cheese_10_8_2020\\chuck_e_cheese_1000879279.csv\n",
      "Saving to C:\\Users\\Spencer\\Desktop\\clean\\data\\data_with_id\\chuck_e_cheese_10_8_2020\\chuck_e_cheese_1000879697.csv\n",
      "Saving to C:\\Users\\Spencer\\Desktop\\clean\\data\\data_with_id\\chuck_e_cheese_10_8_2020\\chuck_e_cheese_1000879932.csv\n",
      "Saving to C:\\Users\\Spencer\\Desktop\\clean\\data\\data_with_id\\chuck_e_cheese_10_8_2020\\chuck_e_cheese_1000840046.csv\n",
      "Saving to C:\\Users\\Spencer\\Desktop\\clean\\data\\data_with_id\\chuck_e_cheese_10_8_2020\\chuck_e_cheese_1000840230.csv\n",
      "Saving to C:\\Users\\Spencer\\Desktop\\clean\\data\\data_with_id\\chuck_e_cheese_10_8_2020\\chuck_e_cheese_1000879284.csv\n",
      "Saving to C:\\Users\\Spencer\\Desktop\\clean\\data\\data_with_id\\chuck_e_cheese_10_8_2020\\chuck_e_cheese_1000879567.csv\n",
      "Saving to C:\\Users\\Spencer\\Desktop\\clean\\data\\data_with_id\\chuck_e_cheese_10_8_2020\\chuck_e_cheese_1000879787.csv\n",
      "Saving to C:\\Users\\Spencer\\Desktop\\clean\\data\\data_with_id\\chuck_e_cheese_10_8_2020\\chuck_e_cheese_1000880118.csv\n",
      "Saving to C:\\Users\\Spencer\\Desktop\\clean\\data\\data_with_id\\chuck_e_cheese_10_8_2020\\chuck_e_cheese_1000880144.csv\n",
      "Saving to C:\\Users\\Spencer\\Desktop\\clean\\data\\data_with_id\\chuck_e_cheese_10_8_2020\\chuck_e_cheese_1000881363.csv\n",
      "Saving to C:\\Users\\Spencer\\Desktop\\clean\\data\\data_with_id\\chuck_e_cheese_10_8_2020\\chuck_e_cheese_1000881702.csv\n",
      "Saving to C:\\Users\\Spencer\\Desktop\\clean\\data\\data_with_id\\chuck_e_cheese_10_8_2020\\chuck_e_cheese_1000840219.csv\n",
      "Saving to C:\\Users\\Spencer\\Desktop\\clean\\data\\data_with_id\\chuck_e_cheese_10_8_2020\\chuck_e_cheese_1000880408.csv\n",
      "Saving to C:\\Users\\Spencer\\Desktop\\clean\\data\\data_with_id\\chuck_e_cheese_10_8_2020\\chuck_e_cheese_1000880412.csv\n",
      "Saving to C:\\Users\\Spencer\\Desktop\\clean\\data\\data_with_id\\chuck_e_cheese_10_8_2020\\chuck_e_cheese_1000880510.csv\n",
      "Saving to C:\\Users\\Spencer\\Desktop\\clean\\data\\data_with_id\\chuck_e_cheese_10_8_2020\\chuck_e_cheese_1000880859.csv\n",
      "Saving to C:\\Users\\Spencer\\Desktop\\clean\\data\\data_with_id\\chuck_e_cheese_10_8_2020\\chuck_e_cheese_1000880885.csv\n",
      "Saving to C:\\Users\\Spencer\\Desktop\\clean\\data\\data_with_id\\chuck_e_cheese_10_8_2020\\chuck_e_cheese_1000880959.csv\n",
      "Saving to C:\\Users\\Spencer\\Desktop\\clean\\data\\data_with_id\\chuck_e_cheese_10_8_2020\\chuck_e_cheese_1000840600.csv\n",
      "Saving to C:\\Users\\Spencer\\Desktop\\clean\\data\\data_with_id\\chuck_e_cheese_10_8_2020\\chuck_e_cheese_1000841487.csv\n",
      "Saving to C:\\Users\\Spencer\\Desktop\\clean\\data\\data_with_id\\chuck_e_cheese_10_8_2020\\chuck_e_cheese_1000841538.csv\n",
      "Saving to C:\\Users\\Spencer\\Desktop\\clean\\data\\data_with_id\\chuck_e_cheese_10_8_2020\\chuck_e_cheese_1000841944.csv\n",
      "Saving to C:\\Users\\Spencer\\Desktop\\clean\\data\\data_with_id\\chuck_e_cheese_10_8_2020\\chuck_e_cheese_1000881961.csv\n",
      "Saving to C:\\Users\\Spencer\\Desktop\\clean\\data\\data_with_id\\chuck_e_cheese_10_8_2020\\chuck_e_cheese_1000881930.csv\n",
      "Saving to C:\\Users\\Spencer\\Desktop\\clean\\data\\data_with_id\\chuck_e_cheese_10_8_2020\\chuck_e_cheese_1000882652.csv\n",
      "Saving to C:\\Users\\Spencer\\Desktop\\clean\\data\\data_with_id\\chuck_e_cheese_10_8_2020\\chuck_e_cheese_1000882805.csv\n",
      "Saving to C:\\Users\\Spencer\\Desktop\\clean\\data\\data_with_id\\chuck_e_cheese_10_8_2020\\chuck_e_cheese_1000883635.csv\n",
      "Saving to C:\\Users\\Spencer\\Desktop\\clean\\data\\data_with_id\\chuck_e_cheese_10_8_2020\\chuck_e_cheese_1000882198.csv\n",
      "Saving to C:\\Users\\Spencer\\Desktop\\clean\\data\\data_with_id\\chuck_e_cheese_10_8_2020\\chuck_e_cheese_1000882261.csv\n",
      "Saving to C:\\Users\\Spencer\\Desktop\\clean\\data\\data_with_id\\chuck_e_cheese_10_8_2020\\chuck_e_cheese_1000882278.csv\n",
      "Saving to C:\\Users\\Spencer\\Desktop\\clean\\data\\data_with_id\\chuck_e_cheese_10_8_2020\\chuck_e_cheese_1000841154.csv\n",
      "Saving to C:\\Users\\Spencer\\Desktop\\clean\\data\\data_with_id\\chuck_e_cheese_10_8_2020\\chuck_e_cheese_1000882651.csv\n",
      "Saving to C:\\Users\\Spencer\\Desktop\\clean\\data\\data_with_id\\chuck_e_cheese_10_8_2020\\chuck_e_cheese_1000842270.csv\n",
      "Saving to C:\\Users\\Spencer\\Desktop\\clean\\data\\data_with_id\\chuck_e_cheese_10_8_2020\\chuck_e_cheese_1000883791.csv\n",
      "Saving to C:\\Users\\Spencer\\Desktop\\clean\\data\\data_with_id\\chuck_e_cheese_10_8_2020\\chuck_e_cheese_1000842199.csv\n",
      "Saving to C:\\Users\\Spencer\\Desktop\\clean\\data\\data_with_id\\chuck_e_cheese_10_8_2020\\chuck_e_cheese_1000842355.csv\n",
      "Saving to C:\\Users\\Spencer\\Desktop\\clean\\data\\data_with_id\\chuck_e_cheese_10_8_2020\\chuck_e_cheese_1000843087.csv\n",
      "Saving to C:\\Users\\Spencer\\Desktop\\clean\\data\\data_with_id\\chuck_e_cheese_10_8_2020\\chuck_e_cheese_1000843762.csv\n",
      "Saving to C:\\Users\\Spencer\\Desktop\\clean\\data\\data_with_id\\chuck_e_cheese_10_8_2020\\chuck_e_cheese_1000884677.csv\n",
      "Saving to C:\\Users\\Spencer\\Desktop\\clean\\data\\data_with_id\\chuck_e_cheese_10_8_2020\\chuck_e_cheese_1000884793.csv\n",
      "Saving to C:\\Users\\Spencer\\Desktop\\clean\\data\\data_with_id\\chuck_e_cheese_10_8_2020\\chuck_e_cheese_1000885192.csv\n",
      "Saving to C:\\Users\\Spencer\\Desktop\\clean\\data\\data_with_id\\chuck_e_cheese_10_8_2020\\chuck_e_cheese_1000845022.csv\n",
      "Saving to C:\\Users\\Spencer\\Desktop\\clean\\data\\data_with_id\\chuck_e_cheese_10_8_2020\\chuck_e_cheese_1000845037.csv\n",
      "Saving to C:\\Users\\Spencer\\Desktop\\clean\\data\\data_with_id\\chuck_e_cheese_10_8_2020\\chuck_e_cheese_1000845177.csv\n",
      "Saving to C:\\Users\\Spencer\\Desktop\\clean\\data\\data_with_id\\chuck_e_cheese_10_8_2020\\chuck_e_cheese_1000845181.csv\n",
      "Saving to C:\\Users\\Spencer\\Desktop\\clean\\data\\data_with_id\\chuck_e_cheese_10_8_2020\\chuck_e_cheese_1000886860.csv\n",
      "Saving to C:\\Users\\Spencer\\Desktop\\clean\\data\\data_with_id\\chuck_e_cheese_10_8_2020\\chuck_e_cheese_1000843684.csv\n",
      "Saving to C:\\Users\\Spencer\\Desktop\\clean\\data\\data_with_id\\chuck_e_cheese_10_8_2020\\chuck_e_cheese_1000887454.csv\n",
      "Saving to C:\\Users\\Spencer\\Desktop\\clean\\data\\data_with_id\\chuck_e_cheese_10_8_2020\\chuck_e_cheese_1000885969.csv\n",
      "Saving to C:\\Users\\Spencer\\Desktop\\clean\\data\\data_with_id\\chuck_e_cheese_10_8_2020\\chuck_e_cheese_1000886311.csv\n",
      "Saving to C:\\Users\\Spencer\\Desktop\\clean\\data\\data_with_id\\chuck_e_cheese_10_8_2020\\chuck_e_cheese_1000886983.csv\n",
      "Saving to C:\\Users\\Spencer\\Desktop\\clean\\data\\data_with_id\\chuck_e_cheese_10_8_2020\\chuck_e_cheese_1000844283.csv\n",
      "Saving to C:\\Users\\Spencer\\Desktop\\clean\\data\\data_with_id\\chuck_e_cheese_10_8_2020\\chuck_e_cheese_1000844343.csv\n",
      "Saving to C:\\Users\\Spencer\\Desktop\\clean\\data\\data_with_id\\chuck_e_cheese_10_8_2020\\chuck_e_cheese_1000887377.csv\n",
      "Saving to C:\\Users\\Spencer\\Desktop\\clean\\data\\data_with_id\\chuck_e_cheese_10_8_2020\\chuck_e_cheese_1000847859.csv\n",
      "Saving to C:\\Users\\Spencer\\Desktop\\clean\\data\\data_with_id\\chuck_e_cheese_10_8_2020\\chuck_e_cheese_1000847994.csv\n",
      "Saving to C:\\Users\\Spencer\\Desktop\\clean\\data\\data_with_id\\chuck_e_cheese_10_8_2020\\chuck_e_cheese_1000848334.csv\n",
      "Saving to C:\\Users\\Spencer\\Desktop\\clean\\data\\data_with_id\\chuck_e_cheese_10_8_2020\\chuck_e_cheese_1000847358.csv\n",
      "Saving to C:\\Users\\Spencer\\Desktop\\clean\\data\\data_with_id\\chuck_e_cheese_10_8_2020\\chuck_e_cheese_1000848887.csv\n",
      "Saving to C:\\Users\\Spencer\\Desktop\\clean\\data\\data_with_id\\chuck_e_cheese_10_8_2020\\chuck_e_cheese_1000848640.csv\n",
      "Saving to C:\\Users\\Spencer\\Desktop\\clean\\data\\data_with_id\\chuck_e_cheese_10_8_2020\\chuck_e_cheese_1000849669.csv\n",
      "Saving to C:\\Users\\Spencer\\Desktop\\clean\\data\\data_with_id\\chuck_e_cheese_10_8_2020\\chuck_e_cheese_1000849995.csv\n"
     ]
    }
   ],
   "source": [
    "output_directory = \"C:\\\\Users\\\\Spencer\\\\Desktop\\\\clean\\\\data\\\\data_with_id\\\\chuck_e_cheese_10_8_2020\"\n",
    "master_df_path = \"C:\\\\Users\\\\Spencer\\\\Desktop\\\\clean\\\\data\\\\data.xlsx\"\n",
    "directory_path = \"C:\\\\Users\\\\Spencer\\\\Box Sync\\\\Scraped\\\\chuck_e_cheese_10_8_2020\"\n",
    "key_col = \"key\"\n",
    "master_df_key_col = \"Phone\"\n",
    "master_df_id_col = \"Company ID\"\n",
    "id_col_name = master_df_id_col\n",
    "add_company_ids(directory_path=directory_path, \n",
    "                master_df_path=master_df_path, \n",
    "                key_col=key_col, \n",
    "                master_df_key_col=master_df_key_col, \n",
    "                master_df_id_col=master_df_id_col, \n",
    "                id_col_name=id_col_name, \n",
    "                output_directory=output_directory)"
   ]
  },
  {
   "cell_type": "code",
   "execution_count": 3,
   "metadata": {},
   "outputs": [
    {
     "output_type": "stream",
     "name": "stdout",
     "text": [
      "51 files found in directory\n"
     ]
    }
   ],
   "source": [
    "output_directory = \"C:\\\\Users\\\\Spencer\\\\Desktop\\\\clean\\\\data\\\\data_with_id\\\\chuck_e_cheese_10_9_2020\"\n",
    "master_df_path = \"C:\\\\Users\\\\Spencer\\\\Desktop\\\\clean\\\\data\\\\data.xlsx\"\n",
    "directory_path = \"C:\\\\Users\\\\Spencer\\\\Box Sync\\\\Scraped\\\\chuck_e_cheese_10_9_2020\"\n",
    "key_col = \"key\"\n",
    "master_df_key_col = \"Phone\"\n",
    "master_df_id_col = \"Company ID\"\n",
    "id_col_name = master_df_id_col\n",
    "add_company_ids(directory_path=directory_path, \n",
    "                master_df_path=master_df_path, \n",
    "                key_col=key_col, \n",
    "                master_df_key_col=master_df_key_col, \n",
    "                master_df_id_col=master_df_id_col, \n",
    "                id_col_name=id_col_name, \n",
    "                output_directory=output_directory)"
   ]
  },
  {
   "cell_type": "code",
   "execution_count": 4,
   "metadata": {},
   "outputs": [
    {
     "output_type": "stream",
     "name": "stdout",
     "text": [
      "68 files found in directory\n"
     ]
    }
   ],
   "source": [
    "output_directory = \"C:\\\\Users\\\\Spencer\\\\Desktop\\\\clean\\\\data\\\\data_with_id\\\\chuck_e_cheese_10_10_2020\"\n",
    "master_df_path = \"C:\\\\Users\\\\Spencer\\\\Desktop\\\\clean\\\\data\\\\data.xlsx\"\n",
    "directory_path = \"C:\\\\Users\\\\Spencer\\\\Box Sync\\\\Scraped\\\\chuck_e_cheese_10_10_2020\"\n",
    "key_col = \"key\"\n",
    "master_df_key_col = \"Phone\"\n",
    "master_df_id_col = \"Company ID\"\n",
    "id_col_name = master_df_id_col\n",
    "add_company_ids(directory_path=directory_path, \n",
    "                master_df_path=master_df_path, \n",
    "                key_col=key_col, \n",
    "                master_df_key_col=master_df_key_col, \n",
    "                master_df_id_col=master_df_id_col, \n",
    "                id_col_name=id_col_name, \n",
    "                output_directory=output_directory)"
   ]
  },
  {
   "cell_type": "code",
   "execution_count": 5,
   "metadata": {},
   "outputs": [
    {
     "output_type": "stream",
     "name": "stdout",
     "text": [
      "98 files found in directory\n"
     ]
    }
   ],
   "source": [
    "output_directory = \"C:\\\\Users\\\\Spencer\\\\Desktop\\\\clean\\\\data\\\\data_with_id\\\\chuck_e_cheese_10_10_2020_2\"\n",
    "master_df_path = \"C:\\\\Users\\\\Spencer\\\\Desktop\\\\clean\\\\data\\\\data.xlsx\"\n",
    "directory_path = \"C:\\\\Users\\\\Spencer\\\\Box Sync\\\\Scraped\\\\chuck_e_cheese_10_10_2020_2\"\n",
    "key_col = \"key\"\n",
    "master_df_key_col = \"Phone\"\n",
    "master_df_id_col = \"Company ID\"\n",
    "id_col_name = master_df_id_col\n",
    "add_company_ids(directory_path=directory_path, \n",
    "                master_df_path=master_df_path, \n",
    "                key_col=key_col, \n",
    "                master_df_key_col=master_df_key_col, \n",
    "                master_df_id_col=master_df_id_col, \n",
    "                id_col_name=id_col_name, \n",
    "                output_directory=output_directory)"
   ]
  },
  {
   "cell_type": "code",
   "execution_count": 6,
   "metadata": {},
   "outputs": [
    {
     "output_type": "stream",
     "name": "stdout",
     "text": [
      "413 files found in directory\n"
     ]
    }
   ],
   "source": [
    "output_directory = \"C:\\\\Users\\\\Spencer\\\\Desktop\\\\clean\\\\data\\\\data_with_id\\\\godfathers_10_25_2020\"\n",
    "master_df_path = \"C:\\\\Users\\\\Spencer\\\\Desktop\\\\clean\\\\data\\\\data.xlsx\"\n",
    "directory_path = \"C:\\\\Users\\\\Spencer\\\\Box Sync\\\\Scraped\\\\godfathers_10_25_2020\"\n",
    "key_col = \"key\"\n",
    "master_df_key_col = \"Phone\"\n",
    "master_df_id_col = \"Company ID\"\n",
    "id_col_name = master_df_id_col\n",
    "add_company_ids(directory_path=directory_path, \n",
    "                master_df_path=master_df_path, \n",
    "                key_col=key_col, \n",
    "                master_df_key_col=master_df_key_col, \n",
    "                master_df_id_col=master_df_id_col, \n",
    "                id_col_name=id_col_name, \n",
    "                output_directory=output_directory)"
   ]
  },
  {
   "cell_type": "code",
   "execution_count": 7,
   "metadata": {},
   "outputs": [
    {
     "output_type": "stream",
     "name": "stdout",
     "text": [
      "1327 files found in directory\n"
     ]
    }
   ],
   "source": [
    "output_directory = \"C:\\\\Users\\\\Spencer\\\\Desktop\\\\clean\\\\data\\\\data_with_id\\\\papa_murphys_10_14_2020\"\n",
    "master_df_path = \"C:\\\\Users\\\\Spencer\\\\Desktop\\\\clean\\\\data\\\\data.xlsx\"\n",
    "directory_path = \"C:\\\\Users\\\\Spencer\\\\Box Sync\\\\Scraped\\\\papa_murphys_10_14_2020\"\n",
    "key_col = \"key\"\n",
    "master_df_key_col = \"Phone\"\n",
    "master_df_id_col = \"Company ID\"\n",
    "id_col_name = master_df_id_col\n",
    "add_company_ids(directory_path=directory_path, \n",
    "                master_df_path=master_df_path, \n",
    "                key_col=key_col, \n",
    "                master_df_key_col=master_df_key_col, \n",
    "                master_df_id_col=master_df_id_col, \n",
    "                id_col_name=id_col_name, \n",
    "                output_directory=output_directory)"
   ]
  },
  {
   "cell_type": "code",
   "execution_count": 8,
   "metadata": {},
   "outputs": [
    {
     "output_type": "stream",
     "name": "stdout",
     "text": [
      "891 files found in directory\n"
     ]
    }
   ],
   "source": [
    "output_directory = \"C:\\\\Users\\\\Spencer\\\\Desktop\\\\clean\\\\data\\\\data_with_id\\\\marcos_pizza_10_23_2020\"\n",
    "master_df_path = \"C:\\\\Users\\\\Spencer\\\\Desktop\\\\clean\\\\data\\\\data.xlsx\"\n",
    "directory_path = \"C:\\\\Users\\\\Spencer\\\\Box Sync\\\\Scraped\\\\marcos_pizza_10_23_2020\"\n",
    "key_col = \"key\"\n",
    "master_df_key_col = \"Phone\"\n",
    "master_df_id_col = \"Company ID\"\n",
    "id_col_name = master_df_id_col\n",
    "add_company_ids(directory_path=directory_path, \n",
    "                master_df_path=master_df_path, \n",
    "                key_col=key_col, \n",
    "                master_df_key_col=master_df_key_col, \n",
    "                master_df_id_col=master_df_id_col, \n",
    "                id_col_name=id_col_name, \n",
    "                output_directory=output_directory)"
   ]
  },
  {
   "cell_type": "code",
   "execution_count": 9,
   "metadata": {},
   "outputs": [
    {
     "output_type": "stream",
     "name": "stdout",
     "text": [
      "413 files found in directory\n"
     ]
    }
   ],
   "source": [
    "output_directory = \"C:\\\\Users\\\\Spencer\\\\Desktop\\\\clean\\\\data\\\\data_with_id\\\\round_table_10_20_2020\"\n",
    "master_df_path = \"C:\\\\Users\\\\Spencer\\\\Desktop\\\\clean\\\\data\\\\data.xlsx\"\n",
    "directory_path = \"C:\\\\Users\\\\Spencer\\\\Box Sync\\\\Scraped\\\\round_table_10_20_2020\"\n",
    "key_col = \"key\"\n",
    "master_df_key_col = \"Phone\"\n",
    "master_df_id_col = \"Company ID\"\n",
    "id_col_name = master_df_id_col\n",
    "add_company_ids(directory_path=directory_path, \n",
    "                master_df_path=master_df_path, \n",
    "                key_col=key_col, \n",
    "                master_df_key_col=master_df_key_col, \n",
    "                master_df_id_col=master_df_id_col, \n",
    "                id_col_name=id_col_name, \n",
    "                output_directory=output_directory)"
   ]
  },
  {
   "cell_type": "code",
   "execution_count": 2,
   "metadata": {},
   "outputs": [
    {
     "output_type": "stream",
     "name": "stdout",
     "text": [
      "384 files found in directory\n"
     ]
    }
   ],
   "source": [
    "output_directory = \"C:\\\\Users\\\\Spencer\\\\Desktop\\\\clean\\\\data\\\\data_with_id\\\\cicis_pizza_10_27_2020\"\n",
    "master_df_path = \"C:\\\\Users\\\\Spencer\\\\Desktop\\\\clean\\\\data\\\\data.xlsx\"\n",
    "directory_path = \"C:\\\\Users\\\\Spencer\\\\Box Sync\\\\Scraped\\\\cicis_pizza_10_27_2020\"\n",
    "key_col = \"key\"\n",
    "master_df_key_col = \"Phone\"\n",
    "master_df_id_col = \"Company ID\"\n",
    "id_col_name = master_df_id_col\n",
    "add_company_ids(directory_path=directory_path, \n",
    "                master_df_path=master_df_path, \n",
    "                key_col=key_col, \n",
    "                master_df_key_col=master_df_key_col, \n",
    "                master_df_id_col=master_df_id_col, \n",
    "                id_col_name=id_col_name, \n",
    "                output_directory=output_directory)"
   ]
  },
  {
   "cell_type": "code",
   "execution_count": 3,
   "metadata": {},
   "outputs": [
    {
     "output_type": "stream",
     "name": "stdout",
     "text": [
      "208 files found in directory\n"
     ]
    }
   ],
   "source": [
    "output_directory = \"C:\\\\Users\\\\Spencer\\\\Desktop\\\\clean\\\\data\\\\data_with_id\\\\foxs_10_28_20\"\n",
    "master_df_path = \"C:\\\\Users\\\\Spencer\\\\Desktop\\\\clean\\\\data\\\\data.xlsx\"\n",
    "directory_path = \"C:\\\\Users\\\\Spencer\\\\Box Sync\\\\Scraped\\\\foxs_10_28_20\"\n",
    "key_col = \"key\"\n",
    "master_df_key_col = \"Phone\"\n",
    "master_df_id_col = \"Company ID\"\n",
    "id_col_name = master_df_id_col\n",
    "add_company_ids(directory_path=directory_path, \n",
    "                master_df_path=master_df_path, \n",
    "                key_col=key_col, \n",
    "                master_df_key_col=master_df_key_col, \n",
    "                master_df_id_col=master_df_id_col, \n",
    "                id_col_name=id_col_name, \n",
    "                output_directory=output_directory)"
   ]
  },
  {
   "cell_type": "code",
   "execution_count": 4,
   "metadata": {},
   "outputs": [
    {
     "output_type": "stream",
     "name": "stdout",
     "text": [
      "598 files found in directory\n"
     ]
    }
   ],
   "source": [
    "output_directory = \"C:\\\\Users\\\\Spencer\\\\Desktop\\\\clean\\\\data\\\\data_with_id\\\\papa_johns_10_22_2020\"\n",
    "master_df_path = \"C:\\\\Users\\\\Spencer\\\\Desktop\\\\clean\\\\data\\\\data.xlsx\"\n",
    "directory_path = \"C:\\\\Users\\\\Spencer\\\\Box Sync\\\\Scraped\\\\papa_johns_10_22_2020\"\n",
    "key_col = \"key\"\n",
    "master_df_key_col = \"Phone\"\n",
    "master_df_id_col = \"Company ID\"\n",
    "id_col_name = master_df_id_col\n",
    "add_company_ids(directory_path=directory_path, \n",
    "                master_df_path=master_df_path, \n",
    "                key_col=key_col, \n",
    "                master_df_key_col=master_df_key_col, \n",
    "                master_df_id_col=master_df_id_col, \n",
    "                id_col_name=id_col_name, \n",
    "                output_directory=output_directory)"
   ]
  },
  {
   "cell_type": "code",
   "execution_count": 5,
   "metadata": {},
   "outputs": [
    {
     "output_type": "stream",
     "name": "stdout",
     "text": [
      "461 files found in directory\n"
     ]
    }
   ],
   "source": [
    "output_directory = \"C:\\\\Users\\\\Spencer\\\\Desktop\\\\clean\\\\data\\\\data_with_id\\\\mod_pizza_10_24_2020\"\n",
    "master_df_path = \"C:\\\\Users\\\\Spencer\\\\Desktop\\\\clean\\\\data\\\\data.xlsx\"\n",
    "directory_path = \"C:\\\\Users\\\\Spencer\\\\Box Sync\\\\Scraped\\\\mod_pizza_10_24_2020\"\n",
    "key_col = \"key\"\n",
    "master_df_key_col = \"Phone\"\n",
    "master_df_id_col = \"Company ID\"\n",
    "id_col_name = master_df_id_col\n",
    "add_company_ids(directory_path=directory_path, \n",
    "                master_df_path=master_df_path, \n",
    "                key_col=key_col, \n",
    "                master_df_key_col=master_df_key_col, \n",
    "                master_df_id_col=master_df_id_col, \n",
    "                id_col_name=id_col_name, \n",
    "                output_directory=output_directory)\n",
    "\n",
    "# THIS IS MISSING A LOT"
   ]
  },
  {
   "cell_type": "code",
   "execution_count": 6,
   "metadata": {},
   "outputs": [
    {
     "output_type": "stream",
     "name": "stdout",
     "text": [
      "384 files found in directory\n"
     ]
    }
   ],
   "source": [
    "output_directory = \"C:\\\\Users\\\\Spencer\\\\Desktop\\\\clean\\\\data\\\\data_with_id\\\\jets_10_28_20\"\n",
    "master_df_path = \"C:\\\\Users\\\\Spencer\\\\Desktop\\\\clean\\\\data\\\\data.xlsx\"\n",
    "directory_path = \"C:\\\\Users\\\\Spencer\\\\Box Sync\\\\Scraped\\\\jets_10_28_20\"\n",
    "key_col = \"key\"\n",
    "master_df_key_col = \"Phone\"\n",
    "master_df_id_col = \"Company ID\"\n",
    "id_col_name = master_df_id_col\n",
    "add_company_ids(directory_path=directory_path, \n",
    "                master_df_path=master_df_path, \n",
    "                key_col=key_col, \n",
    "                master_df_key_col=master_df_key_col, \n",
    "                master_df_id_col=master_df_id_col, \n",
    "                id_col_name=id_col_name, \n",
    "                output_directory=output_directory)"
   ]
  },
  {
   "cell_type": "code",
   "execution_count": 7,
   "metadata": {},
   "outputs": [
    {
     "output_type": "stream",
     "name": "stdout",
     "text": [
      "215 files found in directory\n"
     ]
    }
   ],
   "source": [
    "output_directory = \"C:\\\\Users\\\\Spencer\\\\Desktop\\\\clean\\\\data\\\\data_with_id\\\\rosatis_10_28_20\"\n",
    "master_df_path = \"C:\\\\Users\\\\Spencer\\\\Desktop\\\\clean\\\\data\\\\data.xlsx\"\n",
    "directory_path = \"C:\\\\Users\\\\Spencer\\\\Box Sync\\\\Scraped\\\\rosatis_10_28_20\"\n",
    "key_col = \"key\"\n",
    "master_df_key_col = \"Phone\"\n",
    "master_df_id_col = \"Company ID\"\n",
    "id_col_name = master_df_id_col\n",
    "add_company_ids(directory_path=directory_path, \n",
    "                master_df_path=master_df_path, \n",
    "                key_col=key_col, \n",
    "                master_df_key_col=master_df_key_col, \n",
    "                master_df_id_col=master_df_id_col, \n",
    "                id_col_name=id_col_name, \n",
    "                output_directory=output_directory)"
   ]
  },
  {
   "cell_type": "code",
   "execution_count": 2,
   "metadata": {},
   "outputs": [
    {
     "output_type": "stream",
     "name": "stdout",
     "text": [
      "185 files found in directory\n"
     ]
    }
   ],
   "source": [
    "output_directory = \"C:\\\\Users\\\\Spencer\\\\Desktop\\\\clean\\\\data\\\\data_with_id\\\\mellow_mushroom_11_07_20\"\n",
    "master_df_path = \"C:\\\\Users\\\\Spencer\\\\Desktop\\\\clean\\\\data\\\\data.xlsx\"\n",
    "directory_path = \"C:\\\\Users\\\\Spencer\\\\Box Sync\\\\Scraped\\\\mellow_mushroom_11_07_20\"\n",
    "key_col = \"key\"\n",
    "master_df_key_col = \"Phone\"\n",
    "master_df_id_col = \"Company ID\"\n",
    "id_col_name = master_df_id_col\n",
    "add_company_ids(directory_path=directory_path, \n",
    "                master_df_path=master_df_path, \n",
    "                key_col=key_col, \n",
    "                master_df_key_col=master_df_key_col, \n",
    "                master_df_id_col=master_df_id_col, \n",
    "                id_col_name=id_col_name, \n",
    "                output_directory=output_directory)"
   ]
  },
  {
   "cell_type": "code",
   "execution_count": 3,
   "metadata": {},
   "outputs": [
    {
     "output_type": "stream",
     "name": "stdout",
     "text": [
      "67 files found in directory\n"
     ]
    }
   ],
   "source": [
    "output_directory = \"C:\\\\Users\\\\Spencer\\\\Desktop\\\\clean\\\\data\\\\data_with_id\\\\giordanos_10_30_20\"\n",
    "master_df_path = \"C:\\\\Users\\\\Spencer\\\\Desktop\\\\clean\\\\data\\\\data.xlsx\"\n",
    "directory_path = \"C:\\\\Users\\\\Spencer\\\\Box Sync\\\\Scraped\\\\giordanos_10_30_20\"\n",
    "key_col = \"key\"\n",
    "master_df_key_col = \"Phone\"\n",
    "master_df_id_col = \"Company ID\"\n",
    "id_col_name = master_df_id_col\n",
    "add_company_ids(directory_path=directory_path, \n",
    "                master_df_path=master_df_path, \n",
    "                key_col=key_col, \n",
    "                master_df_key_col=master_df_key_col, \n",
    "                master_df_id_col=master_df_id_col, \n",
    "                id_col_name=id_col_name, \n",
    "                output_directory=output_directory)"
   ]
  },
  {
   "cell_type": "code",
   "execution_count": 2,
   "metadata": {},
   "outputs": [
    {
     "output_type": "stream",
     "name": "stdout",
     "text": [
      "29 files found in directory\n"
     ]
    }
   ],
   "source": [
    "output_directory = \"C:\\\\Users\\\\Spencer\\\\Desktop\\\\clean\\\\data\\\\data_with_id\\\\chanellos_11_2_20\"\n",
    "master_df_path = \"C:\\\\Users\\\\Spencer\\\\Desktop\\\\clean\\\\data\\\\data.xlsx\"\n",
    "directory_path = \"C:\\\\Users\\\\Spencer\\\\Box Sync\\\\Scraped\\\\chanellos_11_2_20\"\n",
    "key_col = \"key\"\n",
    "master_df_key_col = \"Google Link\"\n",
    "master_df_id_col = \"Company ID\"\n",
    "id_col_name = master_df_id_col\n",
    "add_company_ids(directory_path=directory_path, \n",
    "                master_df_path=master_df_path, \n",
    "                key_col=key_col, \n",
    "                master_df_key_col=master_df_key_col, \n",
    "                master_df_id_col=master_df_id_col, \n",
    "                id_col_name=id_col_name, \n",
    "                output_directory=output_directory)"
   ]
  },
  {
   "cell_type": "code",
   "execution_count": 3,
   "metadata": {},
   "outputs": [
    {
     "output_type": "stream",
     "name": "stdout",
     "text": [
      "53 files found in directory\n"
     ]
    }
   ],
   "source": [
    "output_directory = \"C:\\\\Users\\\\Spencer\\\\Desktop\\\\clean\\\\data\\\\data_with_id\\\\cottage_inn_pizza_11_1_20\"\n",
    "master_df_path = \"C:\\\\Users\\\\Spencer\\\\Desktop\\\\clean\\\\data\\\\data.xlsx\"\n",
    "directory_path = \"C:\\\\Users\\\\Spencer\\\\Box Sync\\\\Scraped\\\\cottage_inn_pizza_11_1_20\"\n",
    "key_col = \"key\"\n",
    "master_df_key_col = \"Phone\"\n",
    "master_df_id_col = \"Company ID\"\n",
    "id_col_name = master_df_id_col\n",
    "add_company_ids(directory_path=directory_path, \n",
    "                master_df_path=master_df_path, \n",
    "                key_col=key_col, \n",
    "                master_df_key_col=master_df_key_col, \n",
    "                master_df_id_col=master_df_id_col, \n",
    "                id_col_name=id_col_name, \n",
    "                output_directory=output_directory)"
   ]
  },
  {
   "cell_type": "code",
   "execution_count": 4,
   "metadata": {},
   "outputs": [
    {
     "output_type": "stream",
     "name": "stdout",
     "text": [
      "23 files found in directory\n"
     ]
    }
   ],
   "source": [
    "output_directory = \"C:\\\\Users\\\\Spencer\\\\Desktop\\\\clean\\\\data\\\\data_with_id\\\\deweys_11_2_20\"\n",
    "master_df_path = \"C:\\\\Users\\\\Spencer\\\\Desktop\\\\clean\\\\data\\\\data.xlsx\"\n",
    "directory_path = \"C:\\\\Users\\\\Spencer\\\\Box Sync\\\\Scraped\\\\deweys_11_2_20\"\n",
    "key_col = \"key\"\n",
    "master_df_key_col = \"Phone\"\n",
    "master_df_id_col = \"Company ID\"\n",
    "id_col_name = master_df_id_col\n",
    "add_company_ids(directory_path=directory_path, \n",
    "                master_df_path=master_df_path, \n",
    "                key_col=key_col, \n",
    "                master_df_key_col=master_df_key_col, \n",
    "                master_df_id_col=master_df_id_col, \n",
    "                id_col_name=id_col_name, \n",
    "                output_directory=output_directory)"
   ]
  },
  {
   "cell_type": "code",
   "execution_count": 5,
   "metadata": {},
   "outputs": [
    {
     "output_type": "stream",
     "name": "stdout",
     "text": [
      "36 files found in directory\n"
     ]
    }
   ],
   "source": [
    "output_directory = \"C:\\\\Users\\\\Spencer\\\\Desktop\\\\clean\\\\data\\\\data_with_id\\\\extreme_pizza_11_1_20\"\n",
    "master_df_path = \"C:\\\\Users\\\\Spencer\\\\Desktop\\\\clean\\\\data\\\\data.xlsx\"\n",
    "directory_path = \"C:\\\\Users\\\\Spencer\\\\Box Sync\\\\Scraped\\\\extreme_pizza_11_1_20\"\n",
    "key_col = \"key\"\n",
    "master_df_key_col = \"Phone\"\n",
    "master_df_id_col = \"Company ID\"\n",
    "id_col_name = master_df_id_col\n",
    "add_company_ids(directory_path=directory_path, \n",
    "                master_df_path=master_df_path, \n",
    "                key_col=key_col, \n",
    "                master_df_key_col=master_df_key_col, \n",
    "                master_df_id_col=master_df_id_col, \n",
    "                id_col_name=id_col_name, \n",
    "                output_directory=output_directory)"
   ]
  },
  {
   "cell_type": "code",
   "execution_count": 6,
   "metadata": {},
   "outputs": [
    {
     "output_type": "stream",
     "name": "stdout",
     "text": [
      "31 files found in directory\n"
     ]
    }
   ],
   "source": [
    "output_directory = \"C:\\\\Users\\\\Spencer\\\\Desktop\\\\clean\\\\data\\\\data_with_id\\\\figaros_pizza_11_2_20\"\n",
    "master_df_path = \"C:\\\\Users\\\\Spencer\\\\Desktop\\\\clean\\\\data\\\\data.xlsx\"\n",
    "directory_path = \"C:\\\\Users\\\\Spencer\\\\Box Sync\\\\Scraped\\\\figaros_pizza_11_2_20\"\n",
    "key_col = \"key\"\n",
    "master_df_key_col = \"Phone\"\n",
    "master_df_id_col = \"Company ID\"\n",
    "id_col_name = master_df_id_col\n",
    "add_company_ids(directory_path=directory_path, \n",
    "                master_df_path=master_df_path, \n",
    "                key_col=key_col, \n",
    "                master_df_key_col=master_df_key_col, \n",
    "                master_df_id_col=master_df_id_col, \n",
    "                id_col_name=id_col_name, \n",
    "                output_directory=output_directory)"
   ]
  },
  {
   "cell_type": "code",
   "execution_count": 7,
   "metadata": {},
   "outputs": [
    {
     "output_type": "stream",
     "name": "stdout",
     "text": [
      "83 files found in directory\n"
     ]
    }
   ],
   "source": [
    "output_directory = \"C:\\\\Users\\\\Spencer\\\\Desktop\\\\clean\\\\data\\\\data_with_id\\\\dangelo_10_30_2020\"\n",
    "master_df_path = \"C:\\\\Users\\\\Spencer\\\\Desktop\\\\clean\\\\data\\\\data.xlsx\"\n",
    "directory_path = \"C:\\\\Users\\\\Spencer\\\\Box Sync\\\\Scraped\\\\dangelo_10_30_2020\"\n",
    "key_col = \"key\"\n",
    "master_df_key_col = \"Phone\"\n",
    "master_df_id_col = \"Company ID\"\n",
    "id_col_name = master_df_id_col\n",
    "add_company_ids(directory_path=directory_path, \n",
    "                master_df_path=master_df_path, \n",
    "                key_col=key_col, \n",
    "                master_df_key_col=master_df_key_col, \n",
    "                master_df_id_col=master_df_id_col, \n",
    "                id_col_name=id_col_name, \n",
    "                output_directory=output_directory)"
   ]
  },
  {
   "cell_type": "code",
   "execution_count": 8,
   "metadata": {},
   "outputs": [
    {
     "output_type": "stream",
     "name": "stdout",
     "text": [
      "100 files found in directory\n"
     ]
    }
   ],
   "source": [
    "output_directory = \"C:\\\\Users\\\\Spencer\\\\Desktop\\\\clean\\\\data\\\\data_with_id\\\\leto_10_29_20\"\n",
    "master_df_path = \"C:\\\\Users\\\\Spencer\\\\Desktop\\\\clean\\\\data\\\\data.xlsx\"\n",
    "directory_path = \"C:\\\\Users\\\\Spencer\\\\Box Sync\\\\Scraped\\\\leto_10_29_20\"\n",
    "key_col = \"key\"\n",
    "master_df_key_col = \"Phone\"\n",
    "master_df_id_col = \"Company ID\"\n",
    "id_col_name = master_df_id_col\n",
    "add_company_ids(directory_path=directory_path, \n",
    "                master_df_path=master_df_path, \n",
    "                key_col=key_col, \n",
    "                master_df_key_col=master_df_key_col, \n",
    "                master_df_id_col=master_df_id_col, \n",
    "                id_col_name=id_col_name, \n",
    "                output_directory=output_directory)"
   ]
  },
  {
   "cell_type": "code",
   "execution_count": 9,
   "metadata": {},
   "outputs": [
    {
     "output_type": "stream",
     "name": "stdout",
     "text": [
      "83 files found in directory\n"
     ]
    }
   ],
   "source": [
    "output_directory = \"C:\\\\Users\\\\Spencer\\\\Desktop\\\\clean\\\\data\\\\data_with_id\\\\old_chicago_10_30_20\"\n",
    "master_df_path = \"C:\\\\Users\\\\Spencer\\\\Desktop\\\\clean\\\\data\\\\data.xlsx\"\n",
    "directory_path = \"C:\\\\Users\\\\Spencer\\\\Box Sync\\\\Scraped\\\\old_chicago_10_30_20\"\n",
    "key_col = \"key\"\n",
    "master_df_key_col = \"Phone\"\n",
    "master_df_id_col = \"Company ID\"\n",
    "id_col_name = master_df_id_col\n",
    "add_company_ids(directory_path=directory_path, \n",
    "                master_df_path=master_df_path, \n",
    "                key_col=key_col, \n",
    "                master_df_key_col=master_df_key_col, \n",
    "                master_df_id_col=master_df_id_col, \n",
    "                id_col_name=id_col_name, \n",
    "                output_directory=output_directory)"
   ]
  },
  {
   "cell_type": "code",
   "execution_count": 10,
   "metadata": {},
   "outputs": [
    {
     "output_type": "stream",
     "name": "stdout",
     "text": [
      "62 files found in directory\n"
     ]
    }
   ],
   "source": [
    "output_directory = \"C:\\\\Users\\\\Spencer\\\\Desktop\\\\clean\\\\data\\\\data_with_id\\\\monicals_10_31_20\"\n",
    "master_df_path = \"C:\\\\Users\\\\Spencer\\\\Desktop\\\\clean\\\\data\\\\data.xlsx\"\n",
    "directory_path = \"C:\\\\Users\\\\Spencer\\\\Box Sync\\\\Scraped\\\\monicals_10_31_20\"\n",
    "key_col = \"key\"\n",
    "master_df_key_col = \"Phone\"\n",
    "master_df_id_col = \"Company ID\"\n",
    "id_col_name = master_df_id_col\n",
    "add_company_ids(directory_path=directory_path, \n",
    "                master_df_path=master_df_path, \n",
    "                key_col=key_col, \n",
    "                master_df_key_col=master_df_key_col, \n",
    "                master_df_id_col=master_df_id_col, \n",
    "                id_col_name=id_col_name, \n",
    "                output_directory=output_directory)"
   ]
  },
  {
   "cell_type": "code",
   "execution_count": 11,
   "metadata": {},
   "outputs": [
    {
     "output_type": "stream",
     "name": "stdout",
     "text": [
      "65 files found in directory\n"
     ]
    }
   ],
   "source": [
    "output_directory = \"C:\\\\Users\\\\Spencer\\\\Desktop\\\\clean\\\\data\\\\data_with_id\\\\larosas_10_31_20\"\n",
    "master_df_path = \"C:\\\\Users\\\\Spencer\\\\Desktop\\\\clean\\\\data\\\\data.xlsx\"\n",
    "directory_path = \"C:\\\\Users\\\\Spencer\\\\Box Sync\\\\Scraped\\\\larosas_10_31_20\"\n",
    "key_col = \"key\"\n",
    "master_df_key_col = \"Google Link\"\n",
    "master_df_id_col = \"Company ID\"\n",
    "id_col_name = master_df_id_col\n",
    "add_company_ids(directory_path=directory_path, \n",
    "                master_df_path=master_df_path, \n",
    "                key_col=key_col, \n",
    "                master_df_key_col=master_df_key_col, \n",
    "                master_df_id_col=master_df_id_col, \n",
    "                id_col_name=id_col_name, \n",
    "                output_directory=output_directory)"
   ]
  },
  {
   "cell_type": "code",
   "execution_count": 12,
   "metadata": {},
   "outputs": [
    {
     "output_type": "stream",
     "name": "stdout",
     "text": [
      "87 files found in directory\n"
     ]
    }
   ],
   "source": [
    "output_directory = \"C:\\\\Users\\\\Spencer\\\\Desktop\\\\clean\\\\data\\\\data_with_id\\\\papa_ginos_10_30_20\"\n",
    "master_df_path = \"C:\\\\Users\\\\Spencer\\\\Desktop\\\\clean\\\\data\\\\data.xlsx\"\n",
    "directory_path = \"C:\\\\Users\\\\Spencer\\\\Box Sync\\\\Scraped\\\\papa_ginos_10_30_20\"\n",
    "key_col = \"key\"\n",
    "master_df_key_col = \"Phone\"\n",
    "master_df_id_col = \"Company ID\"\n",
    "id_col_name = master_df_id_col\n",
    "add_company_ids(directory_path=directory_path, \n",
    "                master_df_path=master_df_path, \n",
    "                key_col=key_col, \n",
    "                master_df_key_col=master_df_key_col, \n",
    "                master_df_id_col=master_df_id_col, \n",
    "                id_col_name=id_col_name, \n",
    "                output_directory=output_directory)"
   ]
  },
  {
   "cell_type": "code",
   "execution_count": 13,
   "metadata": {},
   "outputs": [
    {
     "output_type": "stream",
     "name": "stdout",
     "text": [
      "210 files found in directory\n"
     ]
    }
   ],
   "source": [
    "output_directory = \"C:\\\\Users\\\\Spencer\\\\Desktop\\\\clean\\\\data\\\\data_with_id\\\\mountain_mikes_10_28_20\"\n",
    "master_df_path = \"C:\\\\Users\\\\Spencer\\\\Desktop\\\\clean\\\\data\\\\data.xlsx\"\n",
    "directory_path = \"C:\\\\Users\\\\Spencer\\\\Box Sync\\\\Scraped\\\\mountain_mikes_10_28_20\"\n",
    "key_col = \"key\"\n",
    "master_df_key_col = \"Phone\"\n",
    "master_df_id_col = \"Company ID\"\n",
    "id_col_name = master_df_id_col\n",
    "add_company_ids(directory_path=directory_path, \n",
    "                master_df_path=master_df_path, \n",
    "                key_col=key_col, \n",
    "                master_df_key_col=master_df_key_col, \n",
    "                master_df_id_col=master_df_id_col, \n",
    "                id_col_name=id_col_name, \n",
    "                output_directory=output_directory)"
   ]
  },
  {
   "cell_type": "code",
   "execution_count": 14,
   "metadata": {},
   "outputs": [
    {
     "output_type": "stream",
     "name": "stdout",
     "text": [
      "33 files found in directory\n"
     ]
    }
   ],
   "source": [
    "output_directory = \"C:\\\\Users\\\\Spencer\\\\Desktop\\\\clean\\\\data\\\\data_with_id\\\\paisanos_11_2_20\"\n",
    "master_df_path = \"C:\\\\Users\\\\Spencer\\\\Desktop\\\\clean\\\\data\\\\data.xlsx\"\n",
    "directory_path = \"C:\\\\Users\\\\Spencer\\\\Box Sync\\\\Scraped\\\\paisanos_11_2_20\"\n",
    "key_col = \"key\"\n",
    "master_df_key_col = \"Phone\"\n",
    "master_df_id_col = \"Company ID\"\n",
    "id_col_name = master_df_id_col\n",
    "add_company_ids(directory_path=directory_path, \n",
    "                master_df_path=master_df_path, \n",
    "                key_col=key_col, \n",
    "                master_df_key_col=master_df_key_col, \n",
    "                master_df_id_col=master_df_id_col, \n",
    "                id_col_name=id_col_name, \n",
    "                output_directory=output_directory)"
   ]
  },
  {
   "cell_type": "code",
   "execution_count": 15,
   "metadata": {},
   "outputs": [
    {
     "output_type": "stream",
     "name": "stdout",
     "text": [
      "54 files found in directory\n"
     ]
    }
   ],
   "source": [
    "output_directory = \"C:\\\\Users\\\\Spencer\\\\Desktop\\\\clean\\\\data\\\\data_with_id\\\\pie_five_10_31_20\"\n",
    "master_df_path = \"C:\\\\Users\\\\Spencer\\\\Desktop\\\\clean\\\\data\\\\data.xlsx\"\n",
    "directory_path = \"C:\\\\Users\\\\Spencer\\\\Box Sync\\\\Scraped\\\\pie_five_10_31_20\"\n",
    "key_col = \"key\"\n",
    "master_df_key_col = \"Phone\"\n",
    "master_df_id_col = \"Company ID\"\n",
    "id_col_name = master_df_id_col\n",
    "add_company_ids(directory_path=directory_path, \n",
    "                master_df_path=master_df_path, \n",
    "                key_col=key_col, \n",
    "                master_df_key_col=master_df_key_col, \n",
    "                master_df_id_col=master_df_id_col, \n",
    "                id_col_name=id_col_name, \n",
    "                output_directory=output_directory)"
   ]
  },
  {
   "cell_type": "code",
   "execution_count": 16,
   "metadata": {},
   "outputs": [
    {
     "output_type": "stream",
     "name": "stdout",
     "text": [
      "29 files found in directory\n"
     ]
    }
   ],
   "source": [
    "output_directory = \"C:\\\\Users\\\\Spencer\\\\Desktop\\\\clean\\\\data\\\\data_with_id\\\\brixx_11_2_20\"\n",
    "master_df_path = \"C:\\\\Users\\\\Spencer\\\\Desktop\\\\clean\\\\data\\\\data.xlsx\"\n",
    "directory_path = \"C:\\\\Users\\\\Spencer\\\\Box Sync\\\\Scraped\\\\brixx_11_2_20\"\n",
    "key_col = \"key\"\n",
    "master_df_key_col = \"Phone\"\n",
    "master_df_id_col = \"Company ID\"\n",
    "id_col_name = master_df_id_col\n",
    "add_company_ids(directory_path=directory_path, \n",
    "                master_df_path=master_df_path, \n",
    "                key_col=key_col, \n",
    "                master_df_key_col=master_df_key_col, \n",
    "                master_df_id_col=master_df_id_col, \n",
    "                id_col_name=id_col_name, \n",
    "                output_directory=output_directory)"
   ]
  },
  {
   "cell_type": "code",
   "execution_count": 17,
   "metadata": {},
   "outputs": [
    {
     "output_type": "stream",
     "name": "stdout",
     "text": [
      "14 files found in directory\n"
     ]
    }
   ],
   "source": [
    "output_directory = \"C:\\\\Users\\\\Spencer\\\\Desktop\\\\clean\\\\data\\\\data_with_id\\\\green_leafs_11_2_20\"\n",
    "master_df_path = \"C:\\\\Users\\\\Spencer\\\\Desktop\\\\clean\\\\data\\\\data.xlsx\"\n",
    "directory_path = \"C:\\\\Users\\\\Spencer\\\\Box Sync\\\\Scraped\\\\green_leafs_11_2_20\"\n",
    "key_col = \"key\"\n",
    "master_df_key_col = \"Phone\"\n",
    "master_df_id_col = \"Company ID\"\n",
    "id_col_name = master_df_id_col\n",
    "add_company_ids(directory_path=directory_path, \n",
    "                master_df_path=master_df_path, \n",
    "                key_col=key_col, \n",
    "                master_df_key_col=master_df_key_col, \n",
    "                master_df_id_col=master_df_id_col, \n",
    "                id_col_name=id_col_name, \n",
    "                output_directory=output_directory)"
   ]
  },
  {
   "cell_type": "code",
   "execution_count": 18,
   "metadata": {},
   "outputs": [
    {
     "output_type": "stream",
     "name": "stdout",
     "text": [
      "2375 files found in directory\n"
     ]
    }
   ],
   "source": [
    "output_directory = \"C:\\\\Users\\\\Spencer\\\\Desktop\\\\clean\\\\data\\\\data_with_id\\\\papa_johns_10_21_2020\"\n",
    "master_df_path = \"C:\\\\Users\\\\Spencer\\\\Desktop\\\\clean\\\\data\\\\data.xlsx\"\n",
    "directory_path = \"C:\\\\Users\\\\Spencer\\\\Box Sync\\\\Scraped\\\\papa_johns_10_21_2020\"\n",
    "key_col = \"key\"\n",
    "master_df_key_col = \"Phone\"\n",
    "master_df_id_col = \"Company ID\"\n",
    "id_col_name = master_df_id_col\n",
    "add_company_ids(directory_path=directory_path, \n",
    "                master_df_path=master_df_path, \n",
    "                key_col=key_col, \n",
    "                master_df_key_col=master_df_key_col, \n",
    "                master_df_id_col=master_df_id_col, \n",
    "                id_col_name=id_col_name, \n",
    "                output_directory=output_directory)"
   ]
  },
  {
   "cell_type": "code",
   "execution_count": 19,
   "metadata": {},
   "outputs": [
    {
     "output_type": "stream",
     "name": "stdout",
     "text": [
      "102 files found in directory\n"
     ]
    }
   ],
   "source": [
    "output_directory = \"C:\\\\Users\\\\Spencer\\\\Desktop\\\\clean\\\\data\\\\data_with_id\\\\pizza_factory_10_29_20\"\n",
    "master_df_path = \"C:\\\\Users\\\\Spencer\\\\Desktop\\\\clean\\\\data\\\\data.xlsx\"\n",
    "directory_path = \"C:\\\\Users\\\\Spencer\\\\Box Sync\\\\Scraped\\\\pizza_factory_10_29_20\"\n",
    "key_col = \"key\"\n",
    "master_df_key_col = \"Phone\"\n",
    "master_df_id_col = \"Company ID\"\n",
    "id_col_name = master_df_id_col\n",
    "add_company_ids(directory_path=directory_path, \n",
    "                master_df_path=master_df_path, \n",
    "                key_col=key_col, \n",
    "                master_df_key_col=master_df_key_col, \n",
    "                master_df_id_col=master_df_id_col, \n",
    "                id_col_name=id_col_name, \n",
    "                output_directory=output_directory)"
   ]
  },
  {
   "cell_type": "code",
   "execution_count": 20,
   "metadata": {},
   "outputs": [
    {
     "output_type": "stream",
     "name": "stdout",
     "text": [
      "79 files found in directory\n"
     ]
    }
   ],
   "source": [
    "output_directory = \"C:\\\\Users\\\\Spencer\\\\Desktop\\\\clean\\\\data\\\\data_with_id\\\\pizza_boli_10_30_20\"\n",
    "master_df_path = \"C:\\\\Users\\\\Spencer\\\\Desktop\\\\clean\\\\data\\\\data.xlsx\"\n",
    "directory_path = \"C:\\\\Users\\\\Spencer\\\\Box Sync\\\\Scraped\\\\pizza_boli_10_30_20\"\n",
    "key_col = \"key\"\n",
    "master_df_key_col = \"Phone\"\n",
    "master_df_id_col = \"Company ID\"\n",
    "id_col_name = master_df_id_col\n",
    "add_company_ids(directory_path=directory_path, \n",
    "                master_df_path=master_df_path, \n",
    "                key_col=key_col, \n",
    "                master_df_key_col=master_df_key_col, \n",
    "                master_df_id_col=master_df_id_col, \n",
    "                id_col_name=id_col_name, \n",
    "                output_directory=output_directory)"
   ]
  },
  {
   "cell_type": "code",
   "execution_count": 21,
   "metadata": {},
   "outputs": [
    {
     "output_type": "stream",
     "name": "stdout",
     "text": [
      "60 files found in directory\n"
     ]
    }
   ],
   "source": [
    "output_directory = \"C:\\\\Users\\\\Spencer\\\\Desktop\\\\clean\\\\data\\\\data_with_id\\\\gattis_10_31_20\"\n",
    "master_df_path = \"C:\\\\Users\\\\Spencer\\\\Desktop\\\\clean\\\\data\\\\data.xlsx\"\n",
    "directory_path = \"C:\\\\Users\\\\Spencer\\\\Box Sync\\\\Scraped\\\\gattis_10_31_20\"\n",
    "key_col = \"key\"\n",
    "master_df_key_col = \"Google Link\"\n",
    "master_df_id_col = \"Company ID\"\n",
    "id_col_name = master_df_id_col\n",
    "add_company_ids(directory_path=directory_path, \n",
    "                master_df_path=master_df_path, \n",
    "                key_col=key_col, \n",
    "                master_df_key_col=master_df_key_col, \n",
    "                master_df_id_col=master_df_id_col, \n",
    "                id_col_name=id_col_name, \n",
    "                output_directory=output_directory)"
   ]
  },
  {
   "cell_type": "code",
   "execution_count": 22,
   "metadata": {},
   "outputs": [
    {
     "output_type": "stream",
     "name": "stdout",
     "text": [
      "50 files found in directory\n"
     ]
    }
   ],
   "source": [
    "output_directory = \"C:\\\\Users\\\\Spencer\\\\Desktop\\\\clean\\\\data\\\\data_with_id\\\\johnnys_new_york_style_pizzeria_11_1_20\"\n",
    "master_df_path = \"C:\\\\Users\\\\Spencer\\\\Desktop\\\\clean\\\\data\\\\data.xlsx\"\n",
    "directory_path = \"C:\\\\Users\\\\Spencer\\\\Box Sync\\\\Scraped\\\\johnnys_new_york_style_pizzeria_11_1_20\"\n",
    "key_col = \"key\"\n",
    "master_df_key_col = \"Phone\"\n",
    "master_df_id_col = \"Company ID\"\n",
    "id_col_name = master_df_id_col\n",
    "add_company_ids(directory_path=directory_path, \n",
    "                master_df_path=master_df_path, \n",
    "                key_col=key_col, \n",
    "                master_df_key_col=master_df_key_col, \n",
    "                master_df_id_col=master_df_id_col, \n",
    "                id_col_name=id_col_name, \n",
    "                output_directory=output_directory)"
   ]
  },
  {
   "cell_type": "code",
   "execution_count": 23,
   "metadata": {},
   "outputs": [
    {
     "output_type": "stream",
     "name": "stdout",
     "text": [
      "38 files found in directory\n"
     ]
    }
   ],
   "source": [
    "output_directory = \"C:\\\\Users\\\\Spencer\\\\Desktop\\\\clean\\\\data\\\\data_with_id\\\\lou_malnatis_pizzeria_11_1_20_part2\"\n",
    "master_df_path = \"C:\\\\Users\\\\Spencer\\\\Desktop\\\\clean\\\\data\\\\data.xlsx\"\n",
    "directory_path = \"C:\\\\Users\\\\Spencer\\\\Box Sync\\\\Scraped\\\\lou_malnatis_pizzeria_11_1_20_part2\"\n",
    "key_col = \"key\"\n",
    "master_df_key_col = \"Phone\"\n",
    "master_df_id_col = \"Company ID\"\n",
    "id_col_name = master_df_id_col\n",
    "add_company_ids(directory_path=directory_path, \n",
    "                master_df_path=master_df_path, \n",
    "                key_col=key_col, \n",
    "                master_df_key_col=master_df_key_col, \n",
    "                master_df_id_col=master_df_id_col, \n",
    "                id_col_name=id_col_name, \n",
    "                output_directory=output_directory)"
   ]
  },
  {
   "cell_type": "code",
   "execution_count": 24,
   "metadata": {},
   "outputs": [
    {
     "output_type": "stream",
     "name": "stdout",
     "text": [
      "98 files found in directory\n"
     ]
    }
   ],
   "source": [
    "output_directory = \"C:\\\\Users\\\\Spencer\\\\Desktop\\\\clean\\\\data\\\\data_with_id\\\\peter_piper_pizza_10_29_20\"\n",
    "master_df_path = \"C:\\\\Users\\\\Spencer\\\\Desktop\\\\clean\\\\data\\\\data.xlsx\"\n",
    "directory_path = \"C:\\\\Users\\\\Spencer\\\\Box Sync\\\\Scraped\\\\peter_piper_pizza_10_29_20\"\n",
    "key_col = \"key\"\n",
    "master_df_key_col = \"Phone\"\n",
    "master_df_id_col = \"Company ID\"\n",
    "id_col_name = master_df_id_col\n",
    "add_company_ids(directory_path=directory_path, \n",
    "                master_df_path=master_df_path, \n",
    "                key_col=key_col, \n",
    "                master_df_key_col=master_df_key_col, \n",
    "                master_df_id_col=master_df_id_col, \n",
    "                id_col_name=id_col_name, \n",
    "                output_directory=output_directory)"
   ]
  },
  {
   "cell_type": "code",
   "execution_count": 25,
   "metadata": {},
   "outputs": [
    {
     "output_type": "stream",
     "name": "stdout",
     "text": [
      "66 files found in directory\n"
     ]
    }
   ],
   "source": [
    "output_directory = \"C:\\\\Users\\\\Spencer\\\\Desktop\\\\clean\\\\data\\\\data_with_id\\\\pizza_guys_10_31_20\"\n",
    "master_df_path = \"C:\\\\Users\\\\Spencer\\\\Desktop\\\\clean\\\\data\\\\data.xlsx\"\n",
    "directory_path = \"C:\\\\Users\\\\Spencer\\\\Box Sync\\\\Scraped\\\\pizza_guys_10_31_20\"\n",
    "key_col = \"key\"\n",
    "master_df_key_col = \"Phone\"\n",
    "master_df_id_col = \"Company ID\"\n",
    "id_col_name = master_df_id_col\n",
    "add_company_ids(directory_path=directory_path, \n",
    "                master_df_path=master_df_path, \n",
    "                key_col=key_col, \n",
    "                master_df_key_col=master_df_key_col, \n",
    "                master_df_id_col=master_df_id_col, \n",
    "                id_col_name=id_col_name, \n",
    "                output_directory=output_directory)"
   ]
  },
  {
   "cell_type": "code",
   "execution_count": 27,
   "metadata": {},
   "outputs": [
    {
     "output_type": "stream",
     "name": "stdout",
     "text": [
      "248 files found in directory\n"
     ]
    }
   ],
   "source": [
    "output_directory = \"C:\\\\Users\\\\Spencer\\\\Desktop\\\\clean\\\\data\\\\data_with_id\\\\pizza_hut_9_30_2020\"\n",
    "master_df_path = \"C:\\\\Users\\\\Spencer\\\\Desktop\\\\clean\\\\data\\\\data.xlsx\"\n",
    "directory_path = \"C:\\\\Users\\\\Spencer\\\\Box Sync\\\\Scraped\\\\pizza_hut_9_30_2020\"\n",
    "key_col = \"key\"\n",
    "master_df_key_col = \"Company ID\"\n",
    "master_df_id_col = \"Company ID\"\n",
    "id_col_name = master_df_id_col\n",
    "add_company_ids(directory_path=directory_path, \n",
    "                master_df_path=master_df_path, \n",
    "                key_col=key_col, \n",
    "                master_df_key_col=master_df_key_col, \n",
    "                master_df_id_col=master_df_id_col, \n",
    "                id_col_name=id_col_name, \n",
    "                output_directory=output_directory)"
   ]
  },
  {
   "cell_type": "code",
   "execution_count": 40,
   "metadata": {},
   "outputs": [
    {
     "output_type": "stream",
     "name": "stdout",
     "text": [
      "452 files found in directory\n"
     ]
    }
   ],
   "source": [
    "output_directory = \"C:\\\\Users\\\\Spencer\\\\Desktop\\\\clean\\\\data\\\\data_with_id\\\\pizza_hut_10_1_2020\"\n",
    "master_df_path = \"C:\\\\Users\\\\Spencer\\\\Desktop\\\\clean\\\\data\\\\data.xlsx\"\n",
    "directory_path = \"C:\\\\Users\\\\Spencer\\\\Box Sync\\\\Scraped\\\\pizza_hut_10_1_2020\"\n",
    "key_col = \"key\"\n",
    "master_df_key_col = \"Company ID\"\n",
    "master_df_id_col = \"Company ID\"\n",
    "id_col_name = master_df_id_col\n",
    "add_company_ids(directory_path=directory_path, \n",
    "                master_df_path=master_df_path, \n",
    "                key_col=key_col, \n",
    "                master_df_key_col=master_df_key_col, \n",
    "                master_df_id_col=master_df_id_col, \n",
    "                id_col_name=id_col_name, \n",
    "                output_directory=output_directory)"
   ]
  },
  {
   "cell_type": "code",
   "execution_count": 41,
   "metadata": {},
   "outputs": [
    {
     "output_type": "stream",
     "name": "stdout",
     "text": [
      "440 files found in directory\n"
     ]
    }
   ],
   "source": [
    "output_directory = \"C:\\\\Users\\\\Spencer\\\\Desktop\\\\clean\\\\data\\\\data_with_id\\\\pizza_hut_10_1_2020_2\"\n",
    "master_df_path = \"C:\\\\Users\\\\Spencer\\\\Desktop\\\\clean\\\\data\\\\data.xlsx\"\n",
    "directory_path = \"C:\\\\Users\\\\Spencer\\\\Box Sync\\\\Scraped\\\\pizza_hut_10_1_2020_2\"\n",
    "key_col = \"key\"\n",
    "master_df_key_col = \"Company ID\"\n",
    "master_df_id_col = \"Company ID\"\n",
    "id_col_name = master_df_id_col\n",
    "add_company_ids(directory_path=directory_path, \n",
    "                master_df_path=master_df_path, \n",
    "                key_col=key_col, \n",
    "                master_df_key_col=master_df_key_col, \n",
    "                master_df_id_col=master_df_id_col, \n",
    "                id_col_name=id_col_name, \n",
    "                output_directory=output_directory)"
   ]
  },
  {
   "cell_type": "code",
   "execution_count": 42,
   "metadata": {},
   "outputs": [
    {
     "output_type": "stream",
     "name": "stdout",
     "text": [
      "454 files found in directory\n"
     ]
    }
   ],
   "source": [
    "output_directory = \"C:\\\\Users\\\\Spencer\\\\Desktop\\\\clean\\\\data\\\\data_with_id\\\\pizza_hut_10_2_2020\"\n",
    "master_df_path = \"C:\\\\Users\\\\Spencer\\\\Desktop\\\\clean\\\\data\\\\data.xlsx\"\n",
    "directory_path = \"C:\\\\Users\\\\Spencer\\\\Box Sync\\\\Scraped\\\\pizza_hut_10_2_2020\"\n",
    "key_col = \"key\"\n",
    "master_df_key_col = \"Company ID\"\n",
    "master_df_id_col = \"Company ID\"\n",
    "id_col_name = master_df_id_col\n",
    "add_company_ids(directory_path=directory_path, \n",
    "                master_df_path=master_df_path, \n",
    "                key_col=key_col, \n",
    "                master_df_key_col=master_df_key_col, \n",
    "                master_df_id_col=master_df_id_col, \n",
    "                id_col_name=id_col_name, \n",
    "                output_directory=output_directory)"
   ]
  },
  {
   "cell_type": "code",
   "execution_count": 43,
   "metadata": {},
   "outputs": [
    {
     "output_type": "stream",
     "name": "stdout",
     "text": [
      "467 files found in directory\n"
     ]
    }
   ],
   "source": [
    "output_directory = \"C:\\\\Users\\\\Spencer\\\\Desktop\\\\clean\\\\data\\\\data_with_id\\\\pizza_hut_10_5_2020\"\n",
    "master_df_path = \"C:\\\\Users\\\\Spencer\\\\Desktop\\\\clean\\\\data\\\\data.xlsx\"\n",
    "directory_path = \"C:\\\\Users\\\\Spencer\\\\Box Sync\\\\Scraped\\\\pizza_hut_10_5_2020\"\n",
    "key_col = \"key\"\n",
    "master_df_key_col = \"Company ID\"\n",
    "master_df_id_col = \"Company ID\"\n",
    "id_col_name = master_df_id_col\n",
    "add_company_ids(directory_path=directory_path, \n",
    "                master_df_path=master_df_path, \n",
    "                key_col=key_col, \n",
    "                master_df_key_col=master_df_key_col, \n",
    "                master_df_id_col=master_df_id_col, \n",
    "                id_col_name=id_col_name, \n",
    "                output_directory=output_directory)"
   ]
  },
  {
   "cell_type": "code",
   "execution_count": 44,
   "metadata": {},
   "outputs": [
    {
     "output_type": "stream",
     "name": "stdout",
     "text": [
      "454 files found in directory\n"
     ]
    }
   ],
   "source": [
    "output_directory = \"C:\\\\Users\\\\Spencer\\\\Desktop\\\\clean\\\\data\\\\data_with_id\\\\pizza_hut_10_5_2020_2\"\n",
    "master_df_path = \"C:\\\\Users\\\\Spencer\\\\Desktop\\\\clean\\\\data\\\\data.xlsx\"\n",
    "directory_path = \"C:\\\\Users\\\\Spencer\\\\Box Sync\\\\Scraped\\\\pizza_hut_10_5_2020_2\"\n",
    "key_col = \"key\"\n",
    "master_df_key_col = \"Company ID\"\n",
    "master_df_id_col = \"Company ID\"\n",
    "id_col_name = master_df_id_col\n",
    "add_company_ids(directory_path=directory_path, \n",
    "                master_df_path=master_df_path, \n",
    "                key_col=key_col, \n",
    "                master_df_key_col=master_df_key_col, \n",
    "                master_df_id_col=master_df_id_col, \n",
    "                id_col_name=id_col_name, \n",
    "                output_directory=output_directory)"
   ]
  },
  {
   "cell_type": "code",
   "execution_count": 45,
   "metadata": {},
   "outputs": [
    {
     "output_type": "stream",
     "name": "stdout",
     "text": [
      "474 files found in directory\n"
     ]
    }
   ],
   "source": [
    "output_directory = \"C:\\\\Users\\\\Spencer\\\\Desktop\\\\clean\\\\data\\\\data_with_id\\\\pizza_hut_10_6_2020\"\n",
    "master_df_path = \"C:\\\\Users\\\\Spencer\\\\Desktop\\\\clean\\\\data\\\\data.xlsx\"\n",
    "directory_path = \"C:\\\\Users\\\\Spencer\\\\Box Sync\\\\Scraped\\\\pizza_hut_10_6_2020\"\n",
    "key_col = \"key\"\n",
    "master_df_key_col = \"Company ID\"\n",
    "master_df_id_col = \"Company ID\"\n",
    "id_col_name = master_df_id_col\n",
    "add_company_ids(directory_path=directory_path, \n",
    "                master_df_path=master_df_path, \n",
    "                key_col=key_col, \n",
    "                master_df_key_col=master_df_key_col, \n",
    "                master_df_id_col=master_df_id_col, \n",
    "                id_col_name=id_col_name, \n",
    "                output_directory=output_directory)"
   ]
  },
  {
   "cell_type": "code",
   "execution_count": 46,
   "metadata": {},
   "outputs": [
    {
     "output_type": "stream",
     "name": "stdout",
     "text": [
      "476 files found in directory\n"
     ]
    }
   ],
   "source": [
    "output_directory = \"C:\\\\Users\\\\Spencer\\\\Desktop\\\\clean\\\\data\\\\data_with_id\\\\pizza_hut_10_6_2020_2\"\n",
    "master_df_path = \"C:\\\\Users\\\\Spencer\\\\Desktop\\\\clean\\\\data\\\\data.xlsx\"\n",
    "directory_path = \"C:\\\\Users\\\\Spencer\\\\Box Sync\\\\Scraped\\\\pizza_hut_10_6_2020_2\"\n",
    "key_col = \"key\"\n",
    "master_df_key_col = \"Company ID\"\n",
    "master_df_id_col = \"Company ID\"\n",
    "id_col_name = master_df_id_col\n",
    "add_company_ids(directory_path=directory_path, \n",
    "                master_df_path=master_df_path, \n",
    "                key_col=key_col, \n",
    "                master_df_key_col=master_df_key_col, \n",
    "                master_df_id_col=master_df_id_col, \n",
    "                id_col_name=id_col_name, \n",
    "                output_directory=output_directory)"
   ]
  },
  {
   "cell_type": "code",
   "execution_count": 47,
   "metadata": {},
   "outputs": [
    {
     "output_type": "stream",
     "name": "stdout",
     "text": [
      "199 files found in directory\n"
     ]
    }
   ],
   "source": [
    "output_directory = \"C:\\\\Users\\\\Spencer\\\\Desktop\\\\clean\\\\data\\\\data_with_id\\\\pizza_ranch_10_12_2020\"\n",
    "master_df_path = \"C:\\\\Users\\\\Spencer\\\\Desktop\\\\clean\\\\data\\\\data.xlsx\"\n",
    "directory_path = \"C:\\\\Users\\\\Spencer\\\\Box Sync\\\\Scraped\\\\pizza_ranch_10_12_2020\"\n",
    "key_col = \"key\"\n",
    "master_df_key_col = \"Phone\"\n",
    "master_df_id_col = \"Company ID\"\n",
    "id_col_name = master_df_id_col\n",
    "add_company_ids(directory_path=directory_path, \n",
    "                master_df_path=master_df_path, \n",
    "                key_col=key_col, \n",
    "                master_df_key_col=master_df_key_col, \n",
    "                master_df_id_col=master_df_id_col, \n",
    "                id_col_name=id_col_name, \n",
    "                output_directory=output_directory)"
   ]
  },
  {
   "cell_type": "code",
   "execution_count": 48,
   "metadata": {},
   "outputs": [
    {
     "output_type": "stream",
     "name": "stdout",
     "text": [
      "58 files found in directory\n"
     ]
    }
   ],
   "source": [
    "output_directory = \"C:\\\\Users\\\\Spencer\\\\Desktop\\\\clean\\\\data\\\\data_with_id\\\\pizza_pro_10_30_20\"\n",
    "master_df_path = \"C:\\\\Users\\\\Spencer\\\\Desktop\\\\clean\\\\data\\\\data.xlsx\"\n",
    "directory_path = \"C:\\\\Users\\\\Spencer\\\\Box Sync\\\\Scraped\\\\pizza_pro_10_30_20\"\n",
    "key_col = \"key\"\n",
    "master_df_key_col = \"Phone\"\n",
    "master_df_id_col = \"Company ID\"\n",
    "id_col_name = master_df_id_col\n",
    "add_company_ids(directory_path=directory_path, \n",
    "                master_df_path=master_df_path, \n",
    "                key_col=key_col, \n",
    "                master_df_key_col=master_df_key_col, \n",
    "                master_df_id_col=master_df_id_col, \n",
    "                id_col_name=id_col_name, \n",
    "                output_directory=output_directory)"
   ]
  },
  {
   "cell_type": "code",
   "execution_count": 49,
   "metadata": {},
   "outputs": [
    {
     "output_type": "stream",
     "name": "stdout",
     "text": [
      "55 files found in directory\n"
     ]
    }
   ],
   "source": [
    "output_directory = \"C:\\\\Users\\\\Spencer\\\\Desktop\\\\clean\\\\data\\\\data_with_id\\\\pizza_plus_10_31_20\"\n",
    "master_df_path = \"C:\\\\Users\\\\Spencer\\\\Desktop\\\\clean\\\\data\\\\data.xlsx\"\n",
    "directory_path = \"C:\\\\Users\\\\Spencer\\\\Box Sync\\\\Scraped\\\\pizza_plus_10_31_20\"\n",
    "key_col = \"key\"\n",
    "master_df_key_col = \"Google Link\"\n",
    "master_df_id_col = \"Company ID\"\n",
    "id_col_name = master_df_id_col\n",
    "add_company_ids(directory_path=directory_path, \n",
    "                master_df_path=master_df_path, \n",
    "                key_col=key_col, \n",
    "                master_df_key_col=master_df_key_col, \n",
    "                master_df_id_col=master_df_id_col, \n",
    "                id_col_name=id_col_name, \n",
    "                output_directory=output_directory)"
   ]
  },
  {
   "cell_type": "code",
   "execution_count": 50,
   "metadata": {},
   "outputs": [
    {
     "output_type": "stream",
     "name": "stdout",
     "text": [
      "30 files found in directory\n"
     ]
    }
   ],
   "source": [
    "output_directory = \"C:\\\\Users\\\\Spencer\\\\Desktop\\\\clean\\\\data\\\\data_with_id\\\\pizzarev_11_2_20\"\n",
    "master_df_path = \"C:\\\\Users\\\\Spencer\\\\Desktop\\\\clean\\\\data\\\\data.xlsx\"\n",
    "directory_path = \"C:\\\\Users\\\\Spencer\\\\Box Sync\\\\Scraped\\\\pizzarev_11_2_20\"\n",
    "key_col = \"key\"\n",
    "master_df_key_col = \"Phone\"\n",
    "master_df_id_col = \"Company ID\"\n",
    "id_col_name = master_df_id_col\n",
    "add_company_ids(directory_path=directory_path, \n",
    "                master_df_path=master_df_path, \n",
    "                key_col=key_col, \n",
    "                master_df_key_col=master_df_key_col, \n",
    "                master_df_id_col=master_df_id_col, \n",
    "                id_col_name=id_col_name, \n",
    "                output_directory=output_directory)"
   ]
  },
  {
   "cell_type": "code",
   "execution_count": 52,
   "metadata": {},
   "outputs": [
    {
     "output_type": "stream",
     "name": "stdout",
     "text": [
      "31 files found in directory\n"
     ]
    }
   ],
   "source": [
    "output_directory = \"C:\\\\Users\\\\Spencer\\\\Desktop\\\\clean\\\\data\\\\data_with_id\\\\zpizza_11_1_20\"\n",
    "master_df_path = \"C:\\\\Users\\\\Spencer\\\\Desktop\\\\clean\\\\data\\\\data.xlsx\"\n",
    "directory_path = \"C:\\\\Users\\\\Spencer\\\\Box Sync\\\\Scraped\\\\zpizza_11_1_20\"\n",
    "key_col = \"key\"\n",
    "master_df_key_col = \"Phone\"\n",
    "master_df_id_col = \"Company ID\"\n",
    "id_col_name = master_df_id_col\n",
    "add_company_ids(directory_path=directory_path, \n",
    "                master_df_path=master_df_path, \n",
    "                key_col=key_col, \n",
    "                master_df_key_col=master_df_key_col, \n",
    "                master_df_id_col=master_df_id_col, \n",
    "                id_col_name=id_col_name, \n",
    "                output_directory=output_directory)"
   ]
  },
  {
   "cell_type": "code",
   "execution_count": 53,
   "metadata": {},
   "outputs": [
    {
     "output_type": "stream",
     "name": "stdout",
     "text": [
      "86 files found in directory\n"
     ]
    }
   ],
   "source": [
    "output_directory = \"C:\\\\Users\\\\Spencer\\\\Desktop\\\\clean\\\\data\\\\data_with_id\\\\vocelli_10_29_20\"\n",
    "master_df_path = \"C:\\\\Users\\\\Spencer\\\\Desktop\\\\clean\\\\data\\\\data.xlsx\"\n",
    "directory_path = \"C:\\\\Users\\\\Spencer\\\\Box Sync\\\\Scraped\\\\vocelli_10_29_20\"\n",
    "key_col = \"key\"\n",
    "master_df_key_col = \"Phone\"\n",
    "master_df_id_col = \"Company ID\"\n",
    "id_col_name = master_df_id_col\n",
    "add_company_ids(directory_path=directory_path, \n",
    "                master_df_path=master_df_path, \n",
    "                key_col=key_col, \n",
    "                master_df_key_col=master_df_key_col, \n",
    "                master_df_id_col=master_df_id_col, \n",
    "                id_col_name=id_col_name, \n",
    "                output_directory=output_directory)"
   ]
  },
  {
   "cell_type": "code",
   "execution_count": 55,
   "metadata": {},
   "outputs": [
    {
     "output_type": "stream",
     "name": "stdout",
     "text": [
      "22 files found in directory\n"
     ]
    }
   ],
   "source": [
    "output_directory = \"C:\\\\Users\\\\Spencer\\\\Desktop\\\\clean\\\\data\\\\data_with_id\\\\straw_hat_pizza_11_2_20\"\n",
    "master_df_path = \"C:\\\\Users\\\\Spencer\\\\Desktop\\\\clean\\\\data\\\\data.xlsx\"\n",
    "directory_path = \"C:\\\\Users\\\\Spencer\\\\Box Sync\\\\Scraped\\\\straw_hat_pizza_11_2_20\"\n",
    "key_col = \"key\"\n",
    "master_df_key_col = \"Phone\"\n",
    "master_df_id_col = \"Company ID\"\n",
    "id_col_name = master_df_id_col\n",
    "add_company_ids(directory_path=directory_path, \n",
    "                master_df_path=master_df_path, \n",
    "                key_col=key_col, \n",
    "                master_df_key_col=master_df_key_col, \n",
    "                master_df_id_col=master_df_id_col, \n",
    "                id_col_name=id_col_name, \n",
    "                output_directory=output_directory)"
   ]
  },
  {
   "cell_type": "code",
   "execution_count": 56,
   "metadata": {},
   "outputs": [
    {
     "output_type": "stream",
     "name": "stdout",
     "text": [
      "46 files found in directory\n"
     ]
    }
   ],
   "source": [
    "output_directory = \"C:\\\\Users\\\\Spencer\\\\Desktop\\\\clean\\\\data\\\\data_with_id\\\\snappy_11_1_20\"\n",
    "master_df_path = \"C:\\\\Users\\\\Spencer\\\\Desktop\\\\clean\\\\data\\\\data.xlsx\"\n",
    "directory_path = \"C:\\\\Users\\\\Spencer\\\\Box Sync\\\\Scraped\\\\snappy_11_1_20\"\n",
    "key_col = \"key\"\n",
    "master_df_key_col = \"Phone\"\n",
    "master_df_id_col = \"Company ID\"\n",
    "id_col_name = master_df_id_col\n",
    "add_company_ids(directory_path=directory_path, \n",
    "                master_df_path=master_df_path, \n",
    "                key_col=key_col, \n",
    "                master_df_key_col=master_df_key_col, \n",
    "                master_df_id_col=master_df_id_col, \n",
    "                id_col_name=id_col_name, \n",
    "                output_directory=output_directory)"
   ]
  },
  {
   "cell_type": "code",
   "execution_count": 57,
   "metadata": {},
   "outputs": [
    {
     "output_type": "stream",
     "name": "stdout",
     "text": [
      "141 files found in directory\n"
     ]
    }
   ],
   "source": [
    "output_directory = \"C:\\\\Users\\\\Spencer\\\\Desktop\\\\clean\\\\data\\\\data_with_id\\\\simple_simons_10_29_20\"\n",
    "master_df_path = \"C:\\\\Users\\\\Spencer\\\\Desktop\\\\clean\\\\data\\\\data.xlsx\"\n",
    "directory_path = \"C:\\\\Users\\\\Spencer\\\\Box Sync\\\\Scraped\\\\simple_simons_10_29_20\"\n",
    "key_col = \"key\"\n",
    "master_df_key_col = \"Phone\"\n",
    "master_df_id_col = \"Company ID\"\n",
    "id_col_name = master_df_id_col\n",
    "add_company_ids(directory_path=directory_path, \n",
    "                master_df_path=master_df_path, \n",
    "                key_col=key_col, \n",
    "                master_df_key_col=master_df_key_col, \n",
    "                master_df_id_col=master_df_id_col, \n",
    "                id_col_name=id_col_name, \n",
    "                output_directory=output_directory)"
   ]
  },
  {
   "cell_type": "code",
   "execution_count": 58,
   "metadata": {},
   "outputs": [
    {
     "output_type": "stream",
     "name": "stdout",
     "text": [
      "133 files found in directory\n"
     ]
    }
   ],
   "source": [
    "output_directory = \"C:\\\\Users\\\\Spencer\\\\Desktop\\\\clean\\\\data\\\\data_with_id\\\\pizza_inn_10_29_20\"\n",
    "master_df_path = \"C:\\\\Users\\\\Spencer\\\\Desktop\\\\clean\\\\data\\\\data.xlsx\"\n",
    "directory_path = \"C:\\\\Users\\\\Spencer\\\\Box Sync\\\\Scraped\\\\pizza_inn_10_29_20\"\n",
    "key_col = \"key\"\n",
    "master_df_key_col = \"Phone\"\n",
    "master_df_id_col = \"Company ID\"\n",
    "id_col_name = master_df_id_col\n",
    "add_company_ids(directory_path=directory_path, \n",
    "                master_df_path=master_df_path, \n",
    "                key_col=key_col, \n",
    "                master_df_key_col=master_df_key_col, \n",
    "                master_df_id_col=master_df_id_col, \n",
    "                id_col_name=id_col_name, \n",
    "                output_directory=output_directory)"
   ]
  },
  {
   "cell_type": "code",
   "execution_count": 59,
   "metadata": {},
   "outputs": [
    {
     "output_type": "stream",
     "name": "stdout",
     "text": [
      "52 files found in directory\n"
     ]
    }
   ],
   "source": [
    "output_directory = \"C:\\\\Users\\\\Spencer\\\\Desktop\\\\clean\\\\data\\\\data_with_id\\\\shakeys_11_1_20\"\n",
    "master_df_path = \"C:\\\\Users\\\\Spencer\\\\Desktop\\\\clean\\\\data\\\\data.xlsx\"\n",
    "directory_path = \"C:\\\\Users\\\\Spencer\\\\Box Sync\\\\Scraped\\\\shakeys_11_1_20\"\n",
    "key_col = \"key\"\n",
    "master_df_key_col = \"Phone\"\n",
    "master_df_id_col = \"Company ID\"\n",
    "id_col_name = master_df_id_col\n",
    "add_company_ids(directory_path=directory_path, \n",
    "                master_df_path=master_df_path, \n",
    "                key_col=key_col, \n",
    "                master_df_key_col=master_df_key_col, \n",
    "                master_df_id_col=master_df_id_col, \n",
    "                id_col_name=id_col_name, \n",
    "                output_directory=output_directory)"
   ]
  },
  {
   "cell_type": "code",
   "execution_count": 60,
   "metadata": {},
   "outputs": [
    {
     "output_type": "stream",
     "name": "stdout",
     "text": [
      "64 files found in directory\n"
     ]
    }
   ],
   "source": [
    "output_directory = \"C:\\\\Users\\\\Spencer\\\\Desktop\\\\clean\\\\data\\\\data_with_id\\\\toppers_10_31_20\"\n",
    "master_df_path = \"C:\\\\Users\\\\Spencer\\\\Desktop\\\\clean\\\\data\\\\data.xlsx\"\n",
    "directory_path = \"C:\\\\Users\\\\Spencer\\\\Box Sync\\\\Scraped\\\\toppers_10_31_20\"\n",
    "key_col = \"key\"\n",
    "master_df_key_col = \"Phone\"\n",
    "master_df_id_col = \"Company ID\"\n",
    "id_col_name = master_df_id_col\n",
    "add_company_ids(directory_path=directory_path, \n",
    "                master_df_path=master_df_path, \n",
    "                key_col=key_col, \n",
    "                master_df_key_col=master_df_key_col, \n",
    "                master_df_id_col=master_df_id_col, \n",
    "                id_col_name=id_col_name, \n",
    "                output_directory=output_directory)"
   ]
  },
  {
   "cell_type": "code",
   "execution_count": 61,
   "metadata": {},
   "outputs": [
    {
     "output_type": "stream",
     "name": "stdout",
     "text": [
      "124 files found in directory\n"
     ]
    }
   ],
   "source": [
    "output_directory = \"C:\\\\Users\\\\Spencer\\\\Desktop\\\\clean\\\\data\\\\data_with_id\\\\pieology_10_20_2020\"\n",
    "master_df_path = \"C:\\\\Users\\\\Spencer\\\\Desktop\\\\clean\\\\data\\\\data.xlsx\"\n",
    "directory_path = \"C:\\\\Users\\\\Spencer\\\\Box Sync\\\\Scraped\\\\pieology_10_20_2020\"\n",
    "key_col = \"key\"\n",
    "master_df_key_col = \"Phone\"\n",
    "master_df_id_col = \"Company ID\"\n",
    "id_col_name = master_df_id_col\n",
    "add_company_ids(directory_path=directory_path, \n",
    "                master_df_path=master_df_path, \n",
    "                key_col=key_col, \n",
    "                master_df_key_col=master_df_key_col, \n",
    "                master_df_id_col=master_df_id_col, \n",
    "                id_col_name=id_col_name, \n",
    "                output_directory=output_directory)"
   ]
  },
  {
   "cell_type": "code",
   "execution_count": 62,
   "metadata": {},
   "outputs": [
    {
     "output_type": "stream",
     "name": "stdout",
     "text": [
      "290 files found in directory\n"
     ]
    }
   ],
   "source": [
    "output_directory = \"C:\\\\Users\\\\Spencer\\\\Desktop\\\\clean\\\\data\\\\data_with_id\\\\sbarro_10_18_2020\"\n",
    "master_df_path = \"C:\\\\Users\\\\Spencer\\\\Desktop\\\\clean\\\\data\\\\data.xlsx\"\n",
    "directory_path = \"C:\\\\Users\\\\Spencer\\\\Box Sync\\\\Scraped\\\\sbarro_10_18_2020\"\n",
    "key_col = \"key\"\n",
    "master_df_key_col = \"Phone\"\n",
    "master_df_id_col = \"Company ID\"\n",
    "id_col_name = master_df_id_col\n",
    "add_company_ids(directory_path=directory_path, \n",
    "                master_df_path=master_df_path, \n",
    "                key_col=key_col, \n",
    "                master_df_key_col=master_df_key_col, \n",
    "                master_df_id_col=master_df_id_col, \n",
    "                id_col_name=id_col_name, \n",
    "                output_directory=output_directory)"
   ]
  },
  {
   "cell_type": "code",
   "execution_count": 63,
   "metadata": {},
   "outputs": [
    {
     "output_type": "stream",
     "name": "stdout",
     "text": [
      "311 files found in directory\n"
     ]
    }
   ],
   "source": [
    "output_directory = \"C:\\\\Users\\\\Spencer\\\\Desktop\\\\clean\\\\data\\\\data_with_id\\\\blaze_10_16_2020\"\n",
    "master_df_path = \"C:\\\\Users\\\\Spencer\\\\Desktop\\\\clean\\\\data\\\\data.xlsx\"\n",
    "directory_path = \"C:\\\\Users\\\\Spencer\\\\Box Sync\\\\Scraped\\\\blaze_10_16_2020\"\n",
    "key_col = \"key\"\n",
    "master_df_key_col = \"Phone\"\n",
    "master_df_id_col = \"Company ID\"\n",
    "id_col_name = master_df_id_col\n",
    "add_company_ids(directory_path=directory_path, \n",
    "                master_df_path=master_df_path, \n",
    "                key_col=key_col, \n",
    "                master_df_key_col=master_df_key_col, \n",
    "                master_df_id_col=master_df_id_col, \n",
    "                id_col_name=id_col_name, \n",
    "                output_directory=output_directory)"
   ]
  },
  {
   "cell_type": "code",
   "execution_count": 64,
   "metadata": {},
   "outputs": [
    {
     "output_type": "stream",
     "name": "stdout",
     "text": [
      "3 files found in directory\n"
     ]
    }
   ],
   "source": [
    "output_directory = \"C:\\\\Users\\\\Spencer\\\\Desktop\\\\clean\\\\data\\\\data_with_id\\\\brick_oven_11_3_20\"\n",
    "master_df_path = \"C:\\\\Users\\\\Spencer\\\\Desktop\\\\clean\\\\data\\\\data.xlsx\"\n",
    "directory_path = \"C:\\\\Users\\\\Spencer\\\\Box Sync\\\\Scraped\\\\brick_oven_11_3_20\"\n",
    "key_col = \"key\"\n",
    "master_df_key_col = \"Phone\"\n",
    "master_df_id_col = \"Company ID\"\n",
    "id_col_name = master_df_id_col\n",
    "add_company_ids(directory_path=directory_path, \n",
    "                master_df_path=master_df_path, \n",
    "                key_col=key_col, \n",
    "                master_df_key_col=master_df_key_col, \n",
    "                master_df_id_col=master_df_id_col, \n",
    "                id_col_name=id_col_name, \n",
    "                output_directory=output_directory)"
   ]
  },
  {
   "cell_type": "code",
   "execution_count": 65,
   "metadata": {},
   "outputs": [
    {
     "output_type": "stream",
     "name": "stdout",
     "text": [
      "9 files found in directory\n"
     ]
    }
   ],
   "source": [
    "output_directory = \"C:\\\\Users\\\\Spencer\\\\Desktop\\\\clean\\\\data\\\\data_with_id\\\\cheezies_11_2_20\"\n",
    "master_df_path = \"C:\\\\Users\\\\Spencer\\\\Desktop\\\\clean\\\\data\\\\data.xlsx\"\n",
    "directory_path = \"C:\\\\Users\\\\Spencer\\\\Box Sync\\\\Scraped\\\\cheezies_11_2_20\"\n",
    "key_col = \"key\"\n",
    "master_df_key_col = \"Phone\"\n",
    "master_df_id_col = \"Company ID\"\n",
    "id_col_name = master_df_id_col\n",
    "add_company_ids(directory_path=directory_path, \n",
    "                master_df_path=master_df_path, \n",
    "                key_col=key_col, \n",
    "                master_df_key_col=master_df_key_col, \n",
    "                master_df_id_col=master_df_id_col, \n",
    "                id_col_name=id_col_name, \n",
    "                output_directory=output_directory)"
   ]
  },
  {
   "cell_type": "code",
   "execution_count": 66,
   "metadata": {},
   "outputs": [
    {
     "output_type": "stream",
     "name": "stdout",
     "text": [
      "9 files found in directory\n"
     ]
    }
   ],
   "source": [
    "output_directory = \"C:\\\\Users\\\\Spencer\\\\Desktop\\\\clean\\\\data\\\\data_with_id\\\\cicis_to_go_11_2_20\"\n",
    "master_df_path = \"C:\\\\Users\\\\Spencer\\\\Desktop\\\\clean\\\\data\\\\data.xlsx\"\n",
    "directory_path = \"C:\\\\Users\\\\Spencer\\\\Box Sync\\\\Scraped\\\\cicis_to_go_11_2_20\"\n",
    "key_col = \"key\"\n",
    "master_df_key_col = \"Phone\"\n",
    "master_df_id_col = \"Company ID\"\n",
    "id_col_name = master_df_id_col\n",
    "add_company_ids(directory_path=directory_path, \n",
    "                master_df_path=master_df_path, \n",
    "                key_col=key_col, \n",
    "                master_df_key_col=master_df_key_col, \n",
    "                master_df_id_col=master_df_id_col, \n",
    "                id_col_name=id_col_name, \n",
    "                output_directory=output_directory)"
   ]
  },
  {
   "cell_type": "code",
   "execution_count": 67,
   "metadata": {},
   "outputs": [
    {
     "output_type": "stream",
     "name": "stdout",
     "text": [
      "2 files found in directory\n"
     ]
    }
   ],
   "source": [
    "output_directory = \"C:\\\\Users\\\\Spencer\\\\Desktop\\\\clean\\\\data\\\\data_with_id\\\\cpk_asap_11_3_20\"\n",
    "master_df_path = \"C:\\\\Users\\\\Spencer\\\\Desktop\\\\clean\\\\data\\\\data.xlsx\"\n",
    "directory_path = \"C:\\\\Users\\\\Spencer\\\\Box Sync\\\\Scraped\\\\cpk_asap_11_3_20\"\n",
    "key_col = \"key\"\n",
    "master_df_key_col = \"Phone\"\n",
    "master_df_id_col = \"Company ID\"\n",
    "id_col_name = master_df_id_col\n",
    "add_company_ids(directory_path=directory_path, \n",
    "                master_df_path=master_df_path, \n",
    "                key_col=key_col, \n",
    "                master_df_key_col=master_df_key_col, \n",
    "                master_df_id_col=master_df_id_col, \n",
    "                id_col_name=id_col_name, \n",
    "                output_directory=output_directory)"
   ]
  },
  {
   "cell_type": "code",
   "execution_count": 68,
   "metadata": {},
   "outputs": [
    {
     "output_type": "stream",
     "name": "stdout",
     "text": [
      "1 files found in directory\n"
     ]
    }
   ],
   "source": [
    "output_directory = \"C:\\\\Users\\\\Spencer\\\\Desktop\\\\clean\\\\data\\\\data_with_id\\\\gattiland_11_3_20\"\n",
    "master_df_path = \"C:\\\\Users\\\\Spencer\\\\Desktop\\\\clean\\\\data\\\\data.xlsx\"\n",
    "directory_path = \"C:\\\\Users\\\\Spencer\\\\Box Sync\\\\Scraped\\\\gattiland_11_3_20\"\n",
    "key_col = \"key\"\n",
    "master_df_key_col = \"Phone\"\n",
    "master_df_id_col = \"Company ID\"\n",
    "id_col_name = master_df_id_col\n",
    "add_company_ids(directory_path=directory_path, \n",
    "                master_df_path=master_df_path, \n",
    "                key_col=key_col, \n",
    "                master_df_key_col=master_df_key_col, \n",
    "                master_df_id_col=master_df_id_col, \n",
    "                id_col_name=id_col_name, \n",
    "                output_directory=output_directory)"
   ]
  },
  {
   "cell_type": "code",
   "execution_count": 69,
   "metadata": {},
   "outputs": [
    {
     "output_type": "stream",
     "name": "stdout",
     "text": [
      "1 files found in directory\n"
     ]
    }
   ],
   "source": [
    "output_directory = \"C:\\\\Users\\\\Spencer\\\\Desktop\\\\clean\\\\data\\\\data_with_id\\\\gattis_pizza_buffet_11_3_20\"\n",
    "master_df_path = \"C:\\\\Users\\\\Spencer\\\\Desktop\\\\clean\\\\data\\\\data.xlsx\"\n",
    "directory_path = \"C:\\\\Users\\\\Spencer\\\\Box Sync\\\\Scraped\\\\gattis_pizza_buffet_11_3_20\"\n",
    "key_col = \"key\"\n",
    "master_df_key_col = \"Phone\"\n",
    "master_df_id_col = \"Company ID\"\n",
    "id_col_name = master_df_id_col\n",
    "add_company_ids(directory_path=directory_path, \n",
    "                master_df_path=master_df_path, \n",
    "                key_col=key_col, \n",
    "                master_df_key_col=master_df_key_col, \n",
    "                master_df_id_col=master_df_id_col, \n",
    "                id_col_name=id_col_name, \n",
    "                output_directory=output_directory)"
   ]
  },
  {
   "cell_type": "code",
   "execution_count": 70,
   "metadata": {},
   "outputs": [
    {
     "output_type": "stream",
     "name": "stdout",
     "text": [
      "4 files found in directory\n"
     ]
    }
   ],
   "source": [
    "output_directory = \"C:\\\\Users\\\\Spencer\\\\Desktop\\\\clean\\\\data\\\\data_with_id\\\\gattitown_11_3_20\"\n",
    "master_df_path = \"C:\\\\Users\\\\Spencer\\\\Desktop\\\\clean\\\\data\\\\data.xlsx\"\n",
    "directory_path = \"C:\\\\Users\\\\Spencer\\\\Box Sync\\\\Scraped\\\\gattitown_11_3_20\"\n",
    "key_col = \"key\"\n",
    "master_df_key_col = \"Phone\"\n",
    "master_df_id_col = \"Company ID\"\n",
    "id_col_name = master_df_id_col\n",
    "add_company_ids(directory_path=directory_path, \n",
    "                master_df_path=master_df_path, \n",
    "                key_col=key_col, \n",
    "                master_df_key_col=master_df_key_col, \n",
    "                master_df_id_col=master_df_id_col, \n",
    "                id_col_name=id_col_name, \n",
    "                output_directory=output_directory)"
   ]
  },
  {
   "cell_type": "code",
   "execution_count": 71,
   "metadata": {},
   "outputs": [
    {
     "output_type": "stream",
     "name": "stdout",
     "text": [
      "1 files found in directory\n"
     ]
    }
   ],
   "source": [
    "output_directory = \"C:\\\\Users\\\\Spencer\\\\Desktop\\\\clean\\\\data\\\\data_with_id\\\\guilles_11_3_20\"\n",
    "master_df_path = \"C:\\\\Users\\\\Spencer\\\\Desktop\\\\clean\\\\data\\\\data.xlsx\"\n",
    "directory_path = \"C:\\\\Users\\\\Spencer\\\\Box Sync\\\\Scraped\\\\guilles_11_3_20\"\n",
    "key_col = \"key\"\n",
    "master_df_key_col = \"Phone\"\n",
    "master_df_id_col = \"Company ID\"\n",
    "id_col_name = master_df_id_col\n",
    "add_company_ids(directory_path=directory_path, \n",
    "                master_df_path=master_df_path, \n",
    "                key_col=key_col, \n",
    "                master_df_key_col=master_df_key_col, \n",
    "                master_df_id_col=master_df_id_col, \n",
    "                id_col_name=id_col_name, \n",
    "                output_directory=output_directory)"
   ]
  },
  {
   "cell_type": "code",
   "execution_count": 72,
   "metadata": {},
   "outputs": [
    {
     "output_type": "stream",
     "name": "stdout",
     "text": [
      "5 files found in directory\n"
     ]
    }
   ],
   "source": [
    "output_directory = \"C:\\\\Users\\\\Spencer\\\\Desktop\\\\clean\\\\data\\\\data_with_id\\\\hungry_howies_pizza_11_3_20\"\n",
    "master_df_path = \"C:\\\\Users\\\\Spencer\\\\Desktop\\\\clean\\\\data\\\\data.xlsx\"\n",
    "directory_path = \"C:\\\\Users\\\\Spencer\\\\Box Sync\\\\Scraped\\\\hungry_howies_pizza_11_3_20\"\n",
    "key_col = \"key\"\n",
    "master_df_key_col = \"Phone\"\n",
    "master_df_id_col = \"Company ID\"\n",
    "id_col_name = master_df_id_col\n",
    "add_company_ids(directory_path=directory_path, \n",
    "                master_df_path=master_df_path, \n",
    "                key_col=key_col, \n",
    "                master_df_key_col=master_df_key_col, \n",
    "                master_df_id_col=master_df_id_col, \n",
    "                id_col_name=id_col_name, \n",
    "                output_directory=output_directory)"
   ]
  },
  {
   "cell_type": "code",
   "execution_count": 73,
   "metadata": {},
   "outputs": [
    {
     "output_type": "stream",
     "name": "stdout",
     "text": [
      "4 files found in directory\n"
     ]
    }
   ],
   "source": [
    "output_directory = \"C:\\\\Users\\\\Spencer\\\\Desktop\\\\clean\\\\data\\\\data_with_id\\\\johnnies_new_york_pizzeria_11_3_20\"\n",
    "master_df_path = \"C:\\\\Users\\\\Spencer\\\\Desktop\\\\clean\\\\data\\\\data.xlsx\"\n",
    "directory_path = \"C:\\\\Users\\\\Spencer\\\\Box Sync\\\\Scraped\\\\johnnies_new_york_pizzeria_11_3_20\"\n",
    "key_col = \"key\"\n",
    "master_df_key_col = \"Phone\"\n",
    "master_df_id_col = \"Company ID\"\n",
    "id_col_name = master_df_id_col\n",
    "add_company_ids(directory_path=directory_path, \n",
    "                master_df_path=master_df_path, \n",
    "                key_col=key_col, \n",
    "                master_df_key_col=master_df_key_col, \n",
    "                master_df_id_col=master_df_id_col, \n",
    "                id_col_name=id_col_name, \n",
    "                output_directory=output_directory)"
   ]
  },
  {
   "cell_type": "code",
   "execution_count": 74,
   "metadata": {},
   "outputs": [
    {
     "output_type": "stream",
     "name": "stdout",
     "text": [
      "16 files found in directory\n"
     ]
    }
   ],
   "source": [
    "output_directory = \"C:\\\\Users\\\\Spencer\\\\Desktop\\\\clean\\\\data\\\\data_with_id\\\\johnny_bruscos_new_york_style_pizza_11_2_20\"\n",
    "master_df_path = \"C:\\\\Users\\\\Spencer\\\\Desktop\\\\clean\\\\data\\\\data.xlsx\"\n",
    "directory_path = \"C:\\\\Users\\\\Spencer\\\\Box Sync\\\\Scraped\\\\johnny_bruscos_new_york_style_pizza_11_2_20\"\n",
    "key_col = \"key\"\n",
    "master_df_key_col = \"Google Link\"\n",
    "master_df_id_col = \"Company ID\"\n",
    "id_col_name = master_df_id_col\n",
    "add_company_ids(directory_path=directory_path, \n",
    "                master_df_path=master_df_path, \n",
    "                key_col=key_col, \n",
    "                master_df_key_col=master_df_key_col, \n",
    "                master_df_id_col=master_df_id_col, \n",
    "                id_col_name=id_col_name, \n",
    "                output_directory=output_directory)"
   ]
  },
  {
   "cell_type": "code",
   "execution_count": 75,
   "metadata": {},
   "outputs": [
    {
     "output_type": "stream",
     "name": "stdout",
     "text": [
      "2 files found in directory\n"
     ]
    }
   ],
   "source": [
    "output_directory = \"C:\\\\Users\\\\Spencer\\\\Desktop\\\\clean\\\\data\\\\data_with_id\\\\loumalnatis_11_3_20\"\n",
    "master_df_path = \"C:\\\\Users\\\\Spencer\\\\Desktop\\\\clean\\\\data\\\\data.xlsx\"\n",
    "directory_path = \"C:\\\\Users\\\\Spencer\\\\Box Sync\\\\Scraped\\\\loumalnatis_11_3_20\"\n",
    "key_col = \"key\"\n",
    "master_df_key_col = \"Google Link\"\n",
    "master_df_id_col = \"Company ID\"\n",
    "id_col_name = master_df_id_col\n",
    "add_company_ids(directory_path=directory_path, \n",
    "                master_df_path=master_df_path, \n",
    "                key_col=key_col, \n",
    "                master_df_key_col=master_df_key_col, \n",
    "                master_df_id_col=master_df_id_col, \n",
    "                id_col_name=id_col_name, \n",
    "                output_directory=output_directory)"
   ]
  },
  {
   "cell_type": "code",
   "execution_count": 76,
   "metadata": {},
   "outputs": [
    {
     "output_type": "stream",
     "name": "stdout",
     "text": [
      "3 files found in directory\n"
     ]
    }
   ],
   "source": [
    "output_directory = \"C:\\\\Users\\\\Spencer\\\\Desktop\\\\clean\\\\data\\\\data_with_id\\\\nick_n_willys_11_3_20\"\n",
    "master_df_path = \"C:\\\\Users\\\\Spencer\\\\Desktop\\\\clean\\\\data\\\\data.xlsx\"\n",
    "directory_path = \"C:\\\\Users\\\\Spencer\\\\Box Sync\\\\Scraped\\\\nick_n_willys_11_3_20\"\n",
    "key_col = \"key\"\n",
    "master_df_key_col = \"Phone\"\n",
    "master_df_id_col = \"Company ID\"\n",
    "id_col_name = master_df_id_col\n",
    "add_company_ids(directory_path=directory_path, \n",
    "                master_df_path=master_df_path, \n",
    "                key_col=key_col, \n",
    "                master_df_key_col=master_df_key_col, \n",
    "                master_df_id_col=master_df_id_col, \n",
    "                id_col_name=id_col_name, \n",
    "                output_directory=output_directory)"
   ]
  },
  {
   "cell_type": "code",
   "execution_count": 77,
   "metadata": {},
   "outputs": [
    {
     "output_type": "stream",
     "name": "stdout",
     "text": [
      "6 files found in directory\n"
     ]
    }
   ],
   "source": [
    "output_directory = \"C:\\\\Users\\\\Spencer\\\\Desktop\\\\clean\\\\data\\\\data_with_id\\\\original_italian_pie_11_3_20\"\n",
    "master_df_path = \"C:\\\\Users\\\\Spencer\\\\Desktop\\\\clean\\\\data\\\\data.xlsx\"\n",
    "directory_path = \"C:\\\\Users\\\\Spencer\\\\Box Sync\\\\Scraped\\\\original_italian_pie_11_3_20\"\n",
    "key_col = \"key\"\n",
    "master_df_key_col = \"Phone\"\n",
    "master_df_id_col = \"Company ID\"\n",
    "id_col_name = master_df_id_col\n",
    "add_company_ids(directory_path=directory_path, \n",
    "                master_df_path=master_df_path, \n",
    "                key_col=key_col, \n",
    "                master_df_key_col=master_df_key_col, \n",
    "                master_df_id_col=master_df_id_col, \n",
    "                id_col_name=id_col_name, \n",
    "                output_directory=output_directory)"
   ]
  },
  {
   "cell_type": "code",
   "execution_count": 78,
   "metadata": {},
   "outputs": [
    {
     "output_type": "stream",
     "name": "stdout",
     "text": [
      "4 files found in directory\n"
     ]
    }
   ],
   "source": [
    "output_directory = \"C:\\\\Users\\\\Spencer\\\\Desktop\\\\clean\\\\data\\\\data_with_id\\\\paisanos_pizza_11_3_20\"\n",
    "master_df_path = \"C:\\\\Users\\\\Spencer\\\\Desktop\\\\clean\\\\data\\\\data.xlsx\"\n",
    "directory_path = \"C:\\\\Users\\\\Spencer\\\\Box Sync\\\\Scraped\\\\paisanos_pizza_11_3_20\"\n",
    "key_col = \"key\"\n",
    "master_df_key_col = \"Phone\"\n",
    "master_df_id_col = \"Company ID\"\n",
    "id_col_name = master_df_id_col\n",
    "add_company_ids(directory_path=directory_path, \n",
    "                master_df_path=master_df_path, \n",
    "                key_col=key_col, \n",
    "                master_df_key_col=master_df_key_col, \n",
    "                master_df_id_col=master_df_id_col, \n",
    "                id_col_name=id_col_name, \n",
    "                output_directory=output_directory)"
   ]
  },
  {
   "cell_type": "code",
   "execution_count": 79,
   "metadata": {},
   "outputs": [
    {
     "output_type": "stream",
     "name": "stdout",
     "text": [
      "6 files found in directory\n"
     ]
    }
   ],
   "source": [
    "output_directory = \"C:\\\\Users\\\\Spencer\\\\Desktop\\\\clean\\\\data\\\\data_with_id\\\\pizza_inn_express_11_2_20\"\n",
    "master_df_path = \"C:\\\\Users\\\\Spencer\\\\Desktop\\\\clean\\\\data\\\\data.xlsx\"\n",
    "directory_path = \"C:\\\\Users\\\\Spencer\\\\Box Sync\\\\Scraped\\\\pizza_inn_express_11_2_20\"\n",
    "key_col = \"key\"\n",
    "master_df_key_col = \"Phone\"\n",
    "master_df_id_col = \"Company ID\"\n",
    "id_col_name = master_df_id_col\n",
    "add_company_ids(directory_path=directory_path, \n",
    "                master_df_path=master_df_path, \n",
    "                key_col=key_col, \n",
    "                master_df_key_col=master_df_key_col, \n",
    "                master_df_id_col=master_df_id_col, \n",
    "                id_col_name=id_col_name, \n",
    "                output_directory=output_directory)"
   ]
  },
  {
   "cell_type": "code",
   "execution_count": 80,
   "metadata": {},
   "outputs": [
    {
     "output_type": "stream",
     "name": "stdout",
     "text": [
      "1 files found in directory\n"
     ]
    }
   ],
   "source": [
    "output_directory = \"C:\\\\Users\\\\Spencer\\\\Desktop\\\\clean\\\\data\\\\data_with_id\\\\pizza_italia_11_3_20\"\n",
    "master_df_path = \"C:\\\\Users\\\\Spencer\\\\Desktop\\\\clean\\\\data\\\\data.xlsx\"\n",
    "directory_path = \"C:\\\\Users\\\\Spencer\\\\Box Sync\\\\Scraped\\\\pizza_italia_11_3_20\"\n",
    "key_col = \"key\"\n",
    "master_df_key_col = \"Phone\"\n",
    "master_df_id_col = \"Company ID\"\n",
    "id_col_name = master_df_id_col\n",
    "add_company_ids(directory_path=directory_path, \n",
    "                master_df_path=master_df_path, \n",
    "                key_col=key_col, \n",
    "                master_df_key_col=master_df_key_col, \n",
    "                master_df_id_col=master_df_id_col, \n",
    "                id_col_name=id_col_name, \n",
    "                output_directory=output_directory)"
   ]
  },
  {
   "cell_type": "code",
   "execution_count": 81,
   "metadata": {},
   "outputs": [
    {
     "output_type": "stream",
     "name": "stdout",
     "text": [
      "8 files found in directory\n"
     ]
    }
   ],
   "source": [
    "output_directory = \"C:\\\\Users\\\\Spencer\\\\Desktop\\\\clean\\\\data\\\\data_with_id\\\\pizza_schmizza_11_3_20\"\n",
    "master_df_path = \"C:\\\\Users\\\\Spencer\\\\Desktop\\\\clean\\\\data\\\\data.xlsx\"\n",
    "directory_path = \"C:\\\\Users\\\\Spencer\\\\Box Sync\\\\Scraped\\\\pizza_schmizza_11_3_20\"\n",
    "key_col = \"key\"\n",
    "master_df_key_col = \"Phone\"\n",
    "master_df_id_col = \"Company ID\"\n",
    "id_col_name = master_df_id_col\n",
    "add_company_ids(directory_path=directory_path, \n",
    "                master_df_path=master_df_path, \n",
    "                key_col=key_col, \n",
    "                master_df_key_col=master_df_key_col, \n",
    "                master_df_id_col=master_df_id_col, \n",
    "                id_col_name=id_col_name, \n",
    "                output_directory=output_directory)"
   ]
  },
  {
   "cell_type": "code",
   "execution_count": 82,
   "metadata": {},
   "outputs": [
    {
     "output_type": "stream",
     "name": "stdout",
     "text": [
      "2 files found in directory\n"
     ]
    }
   ],
   "source": [
    "output_directory = \"C:\\\\Users\\\\Spencer\\\\Desktop\\\\clean\\\\data\\\\data_with_id\\\\pizzeria_locale_11_3_20\"\n",
    "master_df_path = \"C:\\\\Users\\\\Spencer\\\\Desktop\\\\clean\\\\data\\\\data.xlsx\"\n",
    "directory_path = \"C:\\\\Users\\\\Spencer\\\\Box Sync\\\\Scraped\\\\pizzeria_locale_11_3_20\"\n",
    "key_col = \"key\"\n",
    "master_df_key_col = \"Phone\"\n",
    "master_df_id_col = \"Company ID\"\n",
    "id_col_name = master_df_id_col\n",
    "add_company_ids(directory_path=directory_path, \n",
    "                master_df_path=master_df_path, \n",
    "                key_col=key_col, \n",
    "                master_df_key_col=master_df_key_col, \n",
    "                master_df_id_col=master_df_id_col, \n",
    "                id_col_name=id_col_name, \n",
    "                output_directory=output_directory)"
   ]
  },
  {
   "cell_type": "code",
   "execution_count": 83,
   "metadata": {},
   "outputs": [
    {
     "output_type": "stream",
     "name": "stdout",
     "text": [
      "2 files found in directory\n"
     ]
    }
   ],
   "source": [
    "output_directory = \"C:\\\\Users\\\\Spencer\\\\Desktop\\\\clean\\\\data\\\\data_with_id\\\\schmizza_public_house_11_3_20\"\n",
    "master_df_path = \"C:\\\\Users\\\\Spencer\\\\Desktop\\\\clean\\\\data\\\\data.xlsx\"\n",
    "directory_path = \"C:\\\\Users\\\\Spencer\\\\Box Sync\\\\Scraped\\\\schmizza_public_house_11_3_20\"\n",
    "key_col = \"key\"\n",
    "master_df_key_col = \"Phone\"\n",
    "master_df_id_col = \"Company ID\"\n",
    "id_col_name = master_df_id_col\n",
    "add_company_ids(directory_path=directory_path, \n",
    "                master_df_path=master_df_path, \n",
    "                key_col=key_col, \n",
    "                master_df_key_col=master_df_key_col, \n",
    "                master_df_id_col=master_df_id_col, \n",
    "                id_col_name=id_col_name, \n",
    "                output_directory=output_directory)"
   ]
  },
  {
   "cell_type": "code",
   "execution_count": 84,
   "metadata": {},
   "outputs": [
    {
     "output_type": "stream",
     "name": "stdout",
     "text": [
      "1 files found in directory\n"
     ]
    }
   ],
   "source": [
    "output_directory = \"C:\\\\Users\\\\Spencer\\\\Desktop\\\\clean\\\\data\\\\data_with_id\\\\steelworks_buffett_&_grill_11_3_20\"\n",
    "master_df_path = \"C:\\\\Users\\\\Spencer\\\\Desktop\\\\clean\\\\data\\\\data.xlsx\"\n",
    "directory_path = \"C:\\\\Users\\\\Spencer\\\\Box Sync\\\\Scraped\\\\steelworks_buffett_&_grill_11_3_20\"\n",
    "key_col = \"key\"\n",
    "master_df_key_col = \"Phone\"\n",
    "master_df_id_col = \"Company ID\"\n",
    "id_col_name = master_df_id_col\n",
    "add_company_ids(directory_path=directory_path, \n",
    "                master_df_path=master_df_path, \n",
    "                key_col=key_col, \n",
    "                master_df_key_col=master_df_key_col, \n",
    "                master_df_id_col=master_df_id_col, \n",
    "                id_col_name=id_col_name, \n",
    "                output_directory=output_directory)"
   ]
  },
  {
   "cell_type": "code",
   "execution_count": 86,
   "metadata": {},
   "outputs": [
    {
     "output_type": "stream",
     "name": "stdout",
     "text": [
      "1 files found in directory\n"
     ]
    }
   ],
   "source": [
    "output_directory = \"C:\\\\Users\\\\Spencer\\\\Desktop\\\\clean\\\\data\\\\data_with_id\\\\sukotto_11_3_20\"\n",
    "master_df_path = \"C:\\\\Users\\\\Spencer\\\\Desktop\\\\clean\\\\data\\\\data.xlsx\"\n",
    "directory_path = \"C:\\\\Users\\\\Spencer\\\\Box Sync\\\\Scraped\\\\sukotto_11_3_20\"\n",
    "key_col = \"key\"\n",
    "master_df_key_col = \"Phone\"\n",
    "master_df_id_col = \"Company ID\"\n",
    "id_col_name = master_df_id_col\n",
    "add_company_ids(directory_path=directory_path, \n",
    "                master_df_path=master_df_path, \n",
    "                key_col=key_col, \n",
    "                master_df_key_col=master_df_key_col, \n",
    "                master_df_id_col=master_df_id_col, \n",
    "                id_col_name=id_col_name, \n",
    "                output_directory=output_directory)"
   ]
  },
  {
   "cell_type": "code",
   "execution_count": 87,
   "metadata": {},
   "outputs": [
    {
     "output_type": "stream",
     "name": "stdout",
     "text": [
      "1 files found in directory\n"
     ]
    }
   ],
   "source": [
    "output_directory = \"C:\\\\Users\\\\Spencer\\\\Desktop\\\\clean\\\\data\\\\data_with_id\\\\the_market_by_villa_11_3_20\"\n",
    "master_df_path = \"C:\\\\Users\\\\Spencer\\\\Desktop\\\\clean\\\\data\\\\data.xlsx\"\n",
    "directory_path = \"C:\\\\Users\\\\Spencer\\\\Box Sync\\\\Scraped\\\\the_market_by_villa_11_3_20\"\n",
    "key_col = \"key\"\n",
    "master_df_key_col = \"Phone\"\n",
    "master_df_id_col = \"Company ID\"\n",
    "id_col_name = master_df_id_col\n",
    "add_company_ids(directory_path=directory_path, \n",
    "                master_df_path=master_df_path, \n",
    "                key_col=key_col, \n",
    "                master_df_key_col=master_df_key_col, \n",
    "                master_df_id_col=master_df_id_col, \n",
    "                id_col_name=id_col_name, \n",
    "                output_directory=output_directory)"
   ]
  },
  {
   "cell_type": "code",
   "execution_count": 88,
   "metadata": {},
   "outputs": [
    {
     "output_type": "stream",
     "name": "stdout",
     "text": [
      "1 files found in directory\n"
     ]
    }
   ],
   "source": [
    "output_directory = \"C:\\\\Users\\\\Spencer\\\\Desktop\\\\clean\\\\data\\\\data_with_id\\\\the_office_beer_bar_&_grill_11_3_20\"\n",
    "master_df_path = \"C:\\\\Users\\\\Spencer\\\\Desktop\\\\clean\\\\data\\\\data.xlsx\"\n",
    "directory_path = \"C:\\\\Users\\\\Spencer\\\\Box Sync\\\\Scraped\\\\the_office_beer_bar_&_grill_11_3_20\"\n",
    "key_col = \"key\"\n",
    "master_df_key_col = \"Phone\"\n",
    "master_df_id_col = \"Company ID\"\n",
    "id_col_name = master_df_id_col\n",
    "add_company_ids(directory_path=directory_path, \n",
    "                master_df_path=master_df_path, \n",
    "                key_col=key_col, \n",
    "                master_df_key_col=master_df_key_col, \n",
    "                master_df_id_col=master_df_id_col, \n",
    "                id_col_name=id_col_name, \n",
    "                output_directory=output_directory)"
   ]
  },
  {
   "cell_type": "code",
   "execution_count": 89,
   "metadata": {},
   "outputs": [
    {
     "output_type": "stream",
     "name": "stdout",
     "text": [
      "145 files found in directory\n"
     ]
    }
   ],
   "source": [
    "output_directory = \"C:\\\\Users\\\\Spencer\\\\Desktop\\\\clean\\\\data\\\\data_with_id\\\\villa_fresh_10_19_2020\"\n",
    "master_df_path = \"C:\\\\Users\\\\Spencer\\\\Desktop\\\\clean\\\\data\\\\data.xlsx\"\n",
    "directory_path = \"C:\\\\Users\\\\Spencer\\\\Box Sync\\\\Scraped\\\\villa_fresh_10_19_2020\"\n",
    "key_col = \"key\"\n",
    "master_df_key_col = \"Phone\"\n",
    "master_df_id_col = \"Company ID\"\n",
    "id_col_name = master_df_id_col\n",
    "add_company_ids(directory_path=directory_path, \n",
    "                master_df_path=master_df_path, \n",
    "                key_col=key_col, \n",
    "                master_df_key_col=master_df_key_col, \n",
    "                master_df_id_col=master_df_id_col, \n",
    "                id_col_name=id_col_name, \n",
    "                output_directory=output_directory)"
   ]
  },
  {
   "cell_type": "code",
   "execution_count": 90,
   "metadata": {},
   "outputs": [
    {
     "output_type": "stream",
     "name": "stdout",
     "text": [
      "14 files found in directory\n"
     ]
    }
   ],
   "source": [
    "output_directory = \"C:\\\\Users\\\\Spencer\\\\Desktop\\\\clean\\\\data\\\\data_with_id\\\\villa_pizza_10_19_2020\"\n",
    "master_df_path = \"C:\\\\Users\\\\Spencer\\\\Desktop\\\\clean\\\\data\\\\data.xlsx\"\n",
    "directory_path = \"C:\\\\Users\\\\Spencer\\\\Box Sync\\\\Scraped\\\\villa_pizza_10_19_2020\"\n",
    "key_col = \"key\"\n",
    "master_df_key_col = \"Phone\"\n",
    "master_df_id_col = \"Company ID\"\n",
    "id_col_name = master_df_id_col\n",
    "add_company_ids(directory_path=directory_path, \n",
    "                master_df_path=master_df_path, \n",
    "                key_col=key_col, \n",
    "                master_df_key_col=master_df_key_col, \n",
    "                master_df_id_col=master_df_id_col, \n",
    "                id_col_name=id_col_name, \n",
    "                output_directory=output_directory)"
   ]
  },
  {
   "cell_type": "code",
   "execution_count": 91,
   "metadata": {},
   "outputs": [
    {
     "output_type": "stream",
     "name": "stdout",
     "text": [
      "2 files found in directory\n"
     ]
    }
   ],
   "source": [
    "output_directory = \"C:\\\\Users\\\\Spencer\\\\Desktop\\\\clean\\\\data\\\\data_with_id\\\\bananas_11_3_20\"\n",
    "master_df_path = \"C:\\\\Users\\\\Spencer\\\\Desktop\\\\clean\\\\data\\\\data.xlsx\"\n",
    "directory_path = \"C:\\\\Users\\\\Spencer\\\\Box Sync\\\\Scraped\\\\bananas_11_3_20\"\n",
    "key_col = \"key\"\n",
    "master_df_key_col = \"Phone\"\n",
    "master_df_id_col = \"Company ID\"\n",
    "id_col_name = master_df_id_col\n",
    "add_company_ids(directory_path=directory_path, \n",
    "                master_df_path=master_df_path, \n",
    "                key_col=key_col, \n",
    "                master_df_key_col=master_df_key_col, \n",
    "                master_df_id_col=master_df_id_col, \n",
    "                id_col_name=id_col_name, \n",
    "                output_directory=output_directory)"
   ]
  },
  {
   "cell_type": "code",
   "execution_count": 2,
   "metadata": {},
   "outputs": [
    {
     "output_type": "stream",
     "name": "stdout",
     "text": [
      "12 files found in directory\n"
     ]
    }
   ],
   "source": [
    "output_directory = \"C:\\\\Users\\\\Spencer\\\\Desktop\\\\clean\\\\data\\\\data_with_id\\\\lou_malnatis_pizzeria_11_1_20_part1\"\n",
    "master_df_path = \"C:\\\\Users\\\\Spencer\\\\Desktop\\\\clean\\\\data\\\\data.xlsx\"\n",
    "directory_path = \"C:\\\\Users\\\\Spencer\\\\Box Sync\\\\Scraped\\\\lou_malnatis_pizzeria_11_1_20_part1\"\n",
    "key_col = \"key\"\n",
    "master_df_key_col = \"Phone\"\n",
    "master_df_id_col = \"Company ID\"\n",
    "id_col_name = master_df_id_col\n",
    "add_company_ids(directory_path=directory_path, \n",
    "                master_df_path=master_df_path, \n",
    "                key_col=key_col, \n",
    "                master_df_key_col=master_df_key_col, \n",
    "                master_df_id_col=master_df_id_col, \n",
    "                id_col_name=id_col_name, \n",
    "                output_directory=output_directory)"
   ]
  },
  {
   "cell_type": "code",
   "execution_count": 2,
   "metadata": {},
   "outputs": [
    {
     "output_type": "stream",
     "name": "stdout",
     "text": [
      "40 files found in directory\n"
     ]
    }
   ],
   "source": [
    "output_directory = \"C:\\\\Users\\\\Spencer\\\\Desktop\\\\clean\\\\data\\\\data_with_id\\\\anthonys_9_29_2020\"\n",
    "master_df_path = \"C:\\\\Users\\\\Spencer\\\\Desktop\\\\clean\\\\data\\\\data_sub.csv\"\n",
    "directory_path = \"C:\\\\Users\\\\Spencer\\\\Box Sync\\\\Scraped\\\\anthonys_9_29_2020\"\n",
    "key_col = \"key\"\n",
    "master_df_key_col = \"anthony\"\n",
    "master_df_id_col = \"Company ID\"\n",
    "id_col_name = master_df_id_col\n",
    "add_company_ids(directory_path=directory_path, \n",
    "                master_df_path=master_df_path, \n",
    "                key_col=key_col, \n",
    "                master_df_key_col=master_df_key_col, \n",
    "                master_df_id_col=master_df_id_col, \n",
    "                id_col_name=id_col_name, \n",
    "                output_directory=output_directory)"
   ]
  },
  {
   "cell_type": "code",
   "execution_count": 3,
   "metadata": {},
   "outputs": [
    {
     "output_type": "stream",
     "name": "stdout",
     "text": [
      "25 files found in directory\n"
     ]
    }
   ],
   "source": [
    "output_directory = \"C:\\\\Users\\\\Spencer\\\\Desktop\\\\clean\\\\data\\\\data_with_id\\\\anthonys_9_30_2020\"\n",
    "master_df_path = \"C:\\\\Users\\\\Spencer\\\\Desktop\\\\clean\\\\data\\\\data_sub.csv\"\n",
    "directory_path = \"C:\\\\Users\\\\Spencer\\\\Box Sync\\\\Scraped\\\\anthonys_9_30_2020\"\n",
    "key_col = \"key\"\n",
    "master_df_key_col = \"anthony\"\n",
    "master_df_id_col = \"Company ID\"\n",
    "id_col_name = master_df_id_col\n",
    "add_company_ids(directory_path=directory_path, \n",
    "                master_df_path=master_df_path, \n",
    "                key_col=key_col, \n",
    "                master_df_key_col=master_df_key_col, \n",
    "                master_df_id_col=master_df_id_col, \n",
    "                id_col_name=id_col_name, \n",
    "                output_directory=output_directory)"
   ]
  },
  {
   "cell_type": "code",
   "execution_count": 4,
   "metadata": {},
   "outputs": [
    {
     "output_type": "stream",
     "name": "stdout",
     "text": [
      "136 files found in directory\n"
     ]
    }
   ],
   "source": [
    "output_directory = \"C:\\\\Users\\\\Spencer\\\\Desktop\\\\clean\\\\data\\\\data_with_id\\\\donatos_9_30_2020\"\n",
    "master_df_path = \"C:\\\\Users\\\\Spencer\\\\Desktop\\\\clean\\\\data\\\\data_sub.csv\"\n",
    "directory_path = \"C:\\\\Users\\\\Spencer\\\\Box Sync\\\\Scraped\\\\donatos_9_30_2020\"\n",
    "key_col = \"key\"\n",
    "master_df_key_col = \"donatos\"\n",
    "master_df_id_col = \"Company ID\"\n",
    "id_col_name = master_df_id_col\n",
    "add_company_ids(directory_path=directory_path, \n",
    "                master_df_path=master_df_path, \n",
    "                key_col=key_col, \n",
    "                master_df_key_col=master_df_key_col, \n",
    "                master_df_id_col=master_df_id_col, \n",
    "                id_col_name=id_col_name, \n",
    "                output_directory=output_directory)"
   ]
  },
  {
   "cell_type": "code",
   "execution_count": 5,
   "metadata": {},
   "outputs": [
    {
     "output_type": "stream",
     "name": "stdout",
     "text": [
      "19 files found in directory\n"
     ]
    }
   ],
   "source": [
    "output_directory = \"C:\\\\Users\\\\Spencer\\\\Desktop\\\\clean\\\\data\\\\data_with_id\\\\donatos_10_3_2020\"\n",
    "master_df_path = \"C:\\\\Users\\\\Spencer\\\\Desktop\\\\clean\\\\data\\\\data_sub.csv\"\n",
    "directory_path = \"C:\\\\Users\\\\Spencer\\\\Box Sync\\\\Scraped\\\\donatos_10_3_2020\"\n",
    "key_col = \"key\"\n",
    "master_df_key_col = \"donatos\"\n",
    "master_df_id_col = \"Company ID\"\n",
    "id_col_name = master_df_id_col\n",
    "add_company_ids(directory_path=directory_path, \n",
    "                master_df_path=master_df_path, \n",
    "                key_col=key_col, \n",
    "                master_df_key_col=master_df_key_col, \n",
    "                master_df_id_col=master_df_id_col, \n",
    "                id_col_name=id_col_name, \n",
    "                output_directory=output_directory)"
   ]
  },
  {
   "cell_type": "code",
   "execution_count": 6,
   "metadata": {},
   "outputs": [
    {
     "output_type": "stream",
     "name": "stdout",
     "text": [
      "319 files found in directory\n"
     ]
    }
   ],
   "source": [
    "output_directory = \"C:\\\\Users\\\\Spencer\\\\Desktop\\\\clean\\\\data\\\\data_with_id\\\\blaze_11_6_20\"\n",
    "master_df_path = \"C:\\\\Users\\\\Spencer\\\\Desktop\\\\clean\\\\data\\\\data_blaze.csv\"\n",
    "directory_path = \"C:\\\\Users\\\\Spencer\\\\Box Sync\\\\Scraped\\\\blaze_11_6_20\"\n",
    "key_col = \"key\"\n",
    "master_df_key_col = \"index\"\n",
    "master_df_id_col = \"Company ID\"\n",
    "id_col_name = master_df_id_col\n",
    "add_company_ids(directory_path=directory_path, \n",
    "                master_df_path=master_df_path, \n",
    "                key_col=key_col, \n",
    "                master_df_key_col=master_df_key_col, \n",
    "                master_df_id_col=master_df_id_col, \n",
    "                id_col_name=id_col_name, \n",
    "                output_directory=output_directory)"
   ]
  },
  {
   "cell_type": "code",
   "execution_count": 1,
   "metadata": {},
   "outputs": [],
   "source": [
    "from df_process import add_addresses"
   ]
  },
  {
   "cell_type": "code",
   "execution_count": 2,
   "metadata": {},
   "outputs": [
    {
     "output_type": "stream",
     "name": "stdout",
     "text": [
      "40 files found in directory\n"
     ]
    }
   ],
   "source": [
    "directory_path = \"C:\\\\Users\\\\Spencer\\\\Desktop\\\\clean\\\\data\\\\data_with_id\\\\anthonys_9_29_2020\"\n",
    "output_directory = \"C:\\\\Users\\\\Spencer\\\\Desktop\\\\clean\\\\data\\\\data_with_address\\\\anthonys_9_29_2020\"\n",
    "master_df_path = \"C:\\\\Users\\\\Spencer\\\\Desktop\\\\clean\\\\data\\\\data.xlsx\"\n",
    "master_df_id_col = \"Company ID\"\n",
    "master_df_address_cols = [\"Company Name\", \"Address 1\", \"City\", \"State\", \"Zip\"]\n",
    "new_address_col_name = \"Full Address\"\n",
    "add_addresses(directory_path, \n",
    "                master_df_path=master_df_path, \n",
    "                master_df_id_col=master_df_id_col, \n",
    "                master_df_address_cols=master_df_address_cols, \n",
    "                output_directory=output_directory, \n",
    "                new_address_col_name=new_address_col_name)"
   ]
  },
  {
   "cell_type": "code",
   "execution_count": 3,
   "metadata": {},
   "outputs": [
    {
     "output_type": "stream",
     "name": "stdout",
     "text": [
      "25 files found in directory\n"
     ]
    }
   ],
   "source": [
    "directory_path = \"C:\\\\Users\\\\Spencer\\\\Desktop\\\\clean\\\\data\\\\data_with_id\\\\anthonys_9_30_2020\"\n",
    "output_directory = \"C:\\\\Users\\\\Spencer\\\\Desktop\\\\clean\\\\data\\\\data_with_address\\\\anthonys_9_30_2020\"\n",
    "master_df_path = \"C:\\\\Users\\\\Spencer\\\\Desktop\\\\clean\\\\data\\\\data.xlsx\"\n",
    "master_df_id_col = \"Company ID\"\n",
    "master_df_address_cols = [\"Company Name\", \"Address 1\", \"City\", \"State\", \"Zip\"]\n",
    "new_address_col_name = \"Full Address\"\n",
    "add_addresses(directory_path, \n",
    "                master_df_path=master_df_path, \n",
    "                master_df_id_col=master_df_id_col, \n",
    "                master_df_address_cols=master_df_address_cols, \n",
    "                output_directory=output_directory, \n",
    "                new_address_col_name=new_address_col_name)"
   ]
  },
  {
   "cell_type": "code",
   "execution_count": 4,
   "metadata": {},
   "outputs": [
    {
     "output_type": "stream",
     "name": "stdout",
     "text": [
      "2 files found in directory\n"
     ]
    }
   ],
   "source": [
    "directory_path = \"C:\\\\Users\\\\Spencer\\\\Desktop\\\\clean\\\\data\\\\data_with_id\\\\bananas_11_3_20\"\n",
    "output_directory = \"C:\\\\Users\\\\Spencer\\\\Desktop\\\\clean\\\\data\\\\data_with_address\\\\bananas_11_3_20\"\n",
    "master_df_path = \"C:\\\\Users\\\\Spencer\\\\Desktop\\\\clean\\\\data\\\\data.xlsx\"\n",
    "master_df_id_col = \"Company ID\"\n",
    "master_df_address_cols = [\"Company Name\", \"Address 1\", \"City\", \"State\", \"Zip\"]\n",
    "new_address_col_name = \"Full Address\"\n",
    "add_addresses(directory_path, \n",
    "                master_df_path=master_df_path, \n",
    "                master_df_id_col=master_df_id_col, \n",
    "                master_df_address_cols=master_df_address_cols, \n",
    "                output_directory=output_directory, \n",
    "                new_address_col_name=new_address_col_name)"
   ]
  },
  {
   "cell_type": "code",
   "execution_count": 5,
   "metadata": {},
   "outputs": [
    {
     "output_type": "stream",
     "name": "stdout",
     "text": [
      "319 files found in directory\n"
     ]
    }
   ],
   "source": [
    "directory_path = \"C:\\\\Users\\\\Spencer\\\\Desktop\\\\clean\\\\data\\\\data_with_id\\\\blaze_11_6_20\"\n",
    "output_directory = \"C:\\\\Users\\\\Spencer\\\\Desktop\\\\clean\\\\data\\\\data_with_address\\\\blaze_11_6_20\"\n",
    "master_df_path = \"C:\\\\Users\\\\Spencer\\\\Desktop\\\\clean\\\\data\\\\data.xlsx\"\n",
    "master_df_id_col = \"Company ID\"\n",
    "master_df_address_cols = [\"Company Name\", \"Address 1\", \"City\", \"State\", \"Zip\"]\n",
    "new_address_col_name = \"Full Address\"\n",
    "add_addresses(directory_path, \n",
    "                master_df_path=master_df_path, \n",
    "                master_df_id_col=master_df_id_col, \n",
    "                master_df_address_cols=master_df_address_cols, \n",
    "                output_directory=output_directory, \n",
    "                new_address_col_name=new_address_col_name)"
   ]
  },
  {
   "cell_type": "code",
   "execution_count": null,
   "metadata": {},
   "outputs": [],
   "source": [
    "directory_path = \"C:\\\\Users\\\\Spencer\\\\Desktop\\\\clean\\\\data\\\\data_with_id\\\\brick_oven_11_3_20\"\n",
    "output_directory = \"C:\\\\Users\\\\Spencer\\\\Desktop\\\\clean\\\\data\\\\data_with_address\\\\brick_oven_11_3_20\"\n",
    "master_df_path = \"C:\\\\Users\\\\Spencer\\\\Desktop\\\\clean\\\\data\\\\data.xlsx\"\n",
    "master_df_id_col = \"Company ID\"\n",
    "master_df_address_cols = [\"Company Name\", \"Address 1\", \"City\", \"State\", \"Zip\"]\n",
    "new_address_col_name = \"Full Address\"\n",
    "add_addresses(directory_path, \n",
    "                master_df_path=master_df_path, \n",
    "                master_df_id_col=master_df_id_col, \n",
    "                master_df_address_cols=master_df_address_cols, \n",
    "                output_directory=output_directory, \n",
    "                new_address_col_name=new_address_col_name)"
   ]
  },
  {
   "cell_type": "code",
   "execution_count": 1,
   "metadata": {},
   "outputs": [],
   "source": [
    "from df_process import do_all_addresses"
   ]
  },
  {
   "cell_type": "code",
   "execution_count": 2,
   "metadata": {},
   "outputs": [
    {
     "output_type": "stream",
     "name": "stdout",
     "text": [
      "40 files found in directory\n",
      "25 files found in directory\n",
      "2 files found in directory\n",
      "319 files found in directory\n",
      "3 files found in directory\n",
      "29 files found in directory\n",
      "181 files found in directory\n",
      "29 files found in directory\n",
      "9 files found in directory\n",
      "68 files found in directory\n",
      "98 files found in directory\n",
      "312 files found in directory\n",
      "51 files found in directory\n",
      "383 files found in directory\n",
      "9 files found in directory\n",
      "53 files found in directory\n",
      "2 files found in directory\n",
      "83 files found in directory\n",
      "23 files found in directory\n",
      "19 files found in directory\n",
      "136 files found in directory\n",
      "36 files found in directory\n",
      "31 files found in directory\n",
      "208 files found in directory\n",
      "1 files found in directory\n",
      "60 files found in directory\n",
      "1 files found in directory\n",
      "4 files found in directory\n",
      "67 files found in directory\n",
      "412 files found in directory\n",
      "14 files found in directory\n",
      "1 files found in directory\n",
      "5 files found in directory\n",
      "384 files found in directory\n",
      "4 files found in directory\n",
      "50 files found in directory\n",
      "16 files found in directory\n",
      "65 files found in directory\n",
      "99 files found in directory\n",
      "2 files found in directory\n",
      "13 files found in directory\n",
      "38 files found in directory\n",
      "891 files found in directory\n",
      "185 files found in directory\n",
      "434 files found in directory\n",
      "62 files found in directory\n",
      "204 files found in directory\n",
      "3 files found in directory\n",
      "83 files found in directory\n",
      "6 files found in directory\n",
      "33 files found in directory\n",
      "4 files found in directory\n",
      "86 files found in directory\n",
      "2375 files found in directory\n",
      "598 files found in directory\n",
      "1327 files found in directory\n",
      "98 files found in directory\n",
      "118 files found in directory\n",
      "54 files found in directory\n",
      "30 files found in directory\n",
      "79 files found in directory\n",
      "101 files found in directory\n",
      "66 files found in directory\n",
      "452 files found in directory\n",
      "440 files found in directory\n",
      "454 files found in directory\n",
      "467 files found in directory\n",
      "454 files found in directory\n",
      "474 files found in directory\n",
      "476 files found in directory\n",
      "248 files found in directory\n",
      "720 files found in directory\n",
      "133 files found in directory\n",
      "6 files found in directory\n",
      "1 files found in directory\n",
      "55 files found in directory\n",
      "58 files found in directory\n",
      "199 files found in directory\n",
      "8 files found in directory\n",
      "2 files found in directory\n",
      "209 files found in directory\n",
      "413 files found in directory\n",
      "288 files found in directory\n",
      "2 files found in directory\n",
      "52 files found in directory\n",
      "141 files found in directory\n",
      "45 files found in directory\n",
      "1 files found in directory\n",
      "1 files found in directory\n",
      "22 files found in directory\n",
      "1 files found in directory\n",
      "1 files found in directory\n",
      "1 files found in directory\n",
      "63 files found in directory\n",
      "145 files found in directory\n",
      "14 files found in directory\n",
      "86 files found in directory\n",
      "31 files found in directory\n"
     ]
    }
   ],
   "source": [
    "greater_directory = \"C:\\\\Users\\\\Spencer\\\\Desktop\\\\clean\\\\data\\\\data_with_id\"\n",
    "output_directory = \"C:\\\\Users\\\\Spencer\\\\Desktop\\\\clean\\\\data\\\\data_with_address\"\n",
    "master_df_path = \"C:\\\\Users\\\\Spencer\\\\Desktop\\\\clean\\\\data\\\\data.xlsx\"\n",
    "master_df_id_col = \"Company ID\"\n",
    "master_df_address_cols = [\"Company Name\", \"Address 1\", \"City\", \"State\", \"Zip\"]\n",
    "new_address_col_name = \"Full Address\"\n",
    "do_all_addresses(greater_directory=greater_directory,  \n",
    "                master_df_path=master_df_path, \n",
    "                master_df_id_col=master_df_id_col, \n",
    "                master_df_address_cols=master_df_address_cols, \n",
    "                output_directory=output_directory, \n",
    "                new_address_col_name=new_address_col_name)"
   ]
  },
  {
   "cell_type": "code",
   "execution_count": 1,
   "metadata": {},
   "outputs": [],
   "source": [
    "from df_process import combine_directory"
   ]
  },
  {
   "cell_type": "code",
   "execution_count": 2,
   "metadata": {},
   "outputs": [],
   "source": [
    "directory_path = \"C:\\\\Users\\\\Spencer\\\\Desktop\\\\clean\\\\data\\\\data_with_address\\\\anthonys_9_29_2020\"\n",
    "text_directory = \"C:\\\\Users\\\\Spencer\\\\Desktop\\\\clean\\\\data\\\\processed\\\\text_reviews\"\n",
    "text_directory_relative = \".\\\\text_reviews\"\n",
    "output_directory = \"C:\\\\Users\\\\Spencer\\\\Desktop\\\\clean\\\\data\\\\processed\"\n",
    "address_col = \"Full Address\"\n",
    "time_col_name = \"timeSince\"\n",
    "combine_directory(directory_path=directory_path, \n",
    "                    text_directory=text_directory,\n",
    "                    text_directory_relative=text_directory_relative,\n",
    "                    output_directory=output_directory, \n",
    "                    address_col=address_col, \n",
    "                    time_col_name=time_col_name, \n",
    "                    company_name=\"Anthony's Coal Fired Pizza\"\n",
    "                    )"
   ]
  },
  {
   "cell_type": "code",
   "execution_count": 3,
   "metadata": {},
   "outputs": [],
   "source": [
    "directory_path = \"C:\\\\Users\\\\Spencer\\\\Desktop\\\\clean\\\\data\\\\data_with_address\\\\anthonys_9_30_2020\"\n",
    "text_directory = \"C:\\\\Users\\\\Spencer\\\\Desktop\\\\clean\\\\data\\\\processed\\\\text_reviews\"\n",
    "text_directory_relative = \".\\\\text_reviews\"\n",
    "output_directory = \"C:\\\\Users\\\\Spencer\\\\Desktop\\\\clean\\\\data\\\\processed\"\n",
    "address_col = \"Full Address\"\n",
    "time_col_name = \"timeSince\"\n",
    "combine_directory(directory_path=directory_path, \n",
    "                    text_directory=text_directory,\n",
    "                    text_directory_relative=text_directory_relative,\n",
    "                    output_directory=output_directory, \n",
    "                    address_col=address_col, \n",
    "                    time_col_name=time_col_name, \n",
    "                    company_name=\"Anthony's Coal Fired Pizza\"\n",
    "                    )"
   ]
  },
  {
   "cell_type": "code",
   "execution_count": null,
   "metadata": {},
   "outputs": [],
   "source": []
  }
 ]
}