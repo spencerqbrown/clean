{
 "metadata": {
  "language_info": {
   "codemirror_mode": {
    "name": "ipython",
    "version": 3
   },
   "file_extension": ".py",
   "mimetype": "text/x-python",
   "name": "python",
   "nbconvert_exporter": "python",
   "pygments_lexer": "ipython3",
   "version": "3.7.0-final"
  },
  "orig_nbformat": 2,
  "kernelspec": {
   "name": "python3",
   "display_name": "Python 3",
   "language": "python"
  }
 },
 "nbformat": 4,
 "nbformat_minor": 2,
 "cells": [
  {
   "cell_type": "code",
   "execution_count": 1,
   "metadata": {},
   "outputs": [],
   "source": [
    "from company_id import add_company_ids"
   ]
  },
  {
   "cell_type": "code",
   "execution_count": 2,
   "metadata": {
    "tags": [
     "outputPrepend"
    ]
   },
   "outputs": [
    {
     "output_type": "stream",
     "name": "stdout",
     "text": [
      "chen_2000041229.csv\n",
      "Saving to C:\\Users\\Spencer\\Desktop\\clean\\data\\data_with_id\\california_pizza_kitchen_10_13_2020\\california_pizza_kitchen_2000041243.csv\n",
      "Saving to C:\\Users\\Spencer\\Desktop\\clean\\data\\data_with_id\\california_pizza_kitchen_10_13_2020\\california_pizza_kitchen_2000041267.csv\n",
      "Saving to C:\\Users\\Spencer\\Desktop\\clean\\data\\data_with_id\\california_pizza_kitchen_10_13_2020\\california_pizza_kitchen_2000041251.csv\n",
      "Saving to C:\\Users\\Spencer\\Desktop\\clean\\data\\data_with_id\\california_pizza_kitchen_10_13_2020\\california_pizza_kitchen_2000041257.csv\n",
      "Saving to C:\\Users\\Spencer\\Desktop\\clean\\data\\data_with_id\\california_pizza_kitchen_10_13_2020\\california_pizza_kitchen_2000041274.csv\n",
      "Saving to C:\\Users\\Spencer\\Desktop\\clean\\data\\data_with_id\\california_pizza_kitchen_10_13_2020\\california_pizza_kitchen_2000041279.csv\n",
      "Saving to C:\\Users\\Spencer\\Desktop\\clean\\data\\data_with_id\\california_pizza_kitchen_10_13_2020\\california_pizza_kitchen_2000041287.csv\n",
      "Saving to C:\\Users\\Spencer\\Desktop\\clean\\data\\data_with_id\\california_pizza_kitchen_10_13_2020\\california_pizza_kitchen_2000041288.csv\n",
      "Saving to C:\\Users\\Spencer\\Desktop\\clean\\data\\data_with_id\\california_pizza_kitchen_10_13_2020\\california_pizza_kitchen_2000041294.csv\n",
      "Saving to C:\\Users\\Spencer\\Desktop\\clean\\data\\data_with_id\\california_pizza_kitchen_10_13_2020\\california_pizza_kitchen_2000041310.csv\n",
      "Saving to C:\\Users\\Spencer\\Desktop\\clean\\data\\data_with_id\\california_pizza_kitchen_10_13_2020\\california_pizza_kitchen_2000041317.csv\n",
      "Saving to C:\\Users\\Spencer\\Desktop\\clean\\data\\data_with_id\\california_pizza_kitchen_10_13_2020\\california_pizza_kitchen_2000041327.csv\n",
      "Saving to C:\\Users\\Spencer\\Desktop\\clean\\data\\data_with_id\\california_pizza_kitchen_10_13_2020\\california_pizza_kitchen_2000041339.csv\n",
      "Saving to C:\\Users\\Spencer\\Desktop\\clean\\data\\data_with_id\\california_pizza_kitchen_10_13_2020\\california_pizza_kitchen_2000041347.csv\n",
      "Saving to C:\\Users\\Spencer\\Desktop\\clean\\data\\data_with_id\\california_pizza_kitchen_10_13_2020\\california_pizza_kitchen_2000041356.csv\n",
      "Saving to C:\\Users\\Spencer\\Desktop\\clean\\data\\data_with_id\\california_pizza_kitchen_10_13_2020\\california_pizza_kitchen_2000041361.csv\n",
      "Saving to C:\\Users\\Spencer\\Desktop\\clean\\data\\data_with_id\\california_pizza_kitchen_10_13_2020\\california_pizza_kitchen_2000041369.csv\n",
      "Saving to C:\\Users\\Spencer\\Desktop\\clean\\data\\data_with_id\\california_pizza_kitchen_10_13_2020\\california_pizza_kitchen_2000041373.csv\n",
      "Saving to C:\\Users\\Spencer\\Desktop\\clean\\data\\data_with_id\\california_pizza_kitchen_10_13_2020\\california_pizza_kitchen_2000041384.csv\n",
      "Saving to C:\\Users\\Spencer\\Desktop\\clean\\data\\data_with_id\\california_pizza_kitchen_10_13_2020\\california_pizza_kitchen_2000041387.csv\n",
      "Saving to C:\\Users\\Spencer\\Desktop\\clean\\data\\data_with_id\\california_pizza_kitchen_10_13_2020\\california_pizza_kitchen_2000041388.csv\n",
      "Saving to C:\\Users\\Spencer\\Desktop\\clean\\data\\data_with_id\\california_pizza_kitchen_10_13_2020\\california_pizza_kitchen_2000041394.csv\n",
      "Saving to C:\\Users\\Spencer\\Desktop\\clean\\data\\data_with_id\\california_pizza_kitchen_10_13_2020\\california_pizza_kitchen_2000041400.csv\n",
      "Saving to C:\\Users\\Spencer\\Desktop\\clean\\data\\data_with_id\\california_pizza_kitchen_10_13_2020\\california_pizza_kitchen_2000041412.csv\n",
      "Saving to C:\\Users\\Spencer\\Desktop\\clean\\data\\data_with_id\\california_pizza_kitchen_10_13_2020\\california_pizza_kitchen_2000041413.csv\n",
      "Saving to C:\\Users\\Spencer\\Desktop\\clean\\data\\data_with_id\\california_pizza_kitchen_10_13_2020\\california_pizza_kitchen_2000041426.csv\n",
      "Saving to C:\\Users\\Spencer\\Desktop\\clean\\data\\data_with_id\\california_pizza_kitchen_10_13_2020\\california_pizza_kitchen_2000041433.csv\n",
      "Saving to C:\\Users\\Spencer\\Desktop\\clean\\data\\data_with_id\\california_pizza_kitchen_10_13_2020\\california_pizza_kitchen_2000041451.csv\n",
      "Saving to C:\\Users\\Spencer\\Desktop\\clean\\data\\data_with_id\\california_pizza_kitchen_10_13_2020\\california_pizza_kitchen_2000041460.csv\n",
      "Saving to C:\\Users\\Spencer\\Desktop\\clean\\data\\data_with_id\\california_pizza_kitchen_10_13_2020\\california_pizza_kitchen_2000041283.csv\n",
      "Saving to C:\\Users\\Spencer\\Desktop\\clean\\data\\data_with_id\\california_pizza_kitchen_10_13_2020\\california_pizza_kitchen_2000041314.csv\n",
      "Saving to C:\\Users\\Spencer\\Desktop\\clean\\data\\data_with_id\\california_pizza_kitchen_10_13_2020\\california_pizza_kitchen_2000041338.csv\n",
      "Saving to C:\\Users\\Spencer\\Desktop\\clean\\data\\data_with_id\\california_pizza_kitchen_10_13_2020\\california_pizza_kitchen_2000041343.csv\n",
      "Saving to C:\\Users\\Spencer\\Desktop\\clean\\data\\data_with_id\\california_pizza_kitchen_10_13_2020\\california_pizza_kitchen_2000041354.csv\n",
      "Saving to C:\\Users\\Spencer\\Desktop\\clean\\data\\data_with_id\\california_pizza_kitchen_10_13_2020\\california_pizza_kitchen_2000041378.csv\n",
      "Saving to C:\\Users\\Spencer\\Desktop\\clean\\data\\data_with_id\\california_pizza_kitchen_10_13_2020\\california_pizza_kitchen_2000041385.csv\n",
      "Saving to C:\\Users\\Spencer\\Desktop\\clean\\data\\data_with_id\\california_pizza_kitchen_10_13_2020\\california_pizza_kitchen_2000041396.csv\n",
      "Saving to C:\\Users\\Spencer\\Desktop\\clean\\data\\data_with_id\\california_pizza_kitchen_10_13_2020\\california_pizza_kitchen_2000041398.csv\n",
      "Saving to C:\\Users\\Spencer\\Desktop\\clean\\data\\data_with_id\\california_pizza_kitchen_10_13_2020\\california_pizza_kitchen_2000041411.csv\n",
      "Saving to C:\\Users\\Spencer\\Desktop\\clean\\data\\data_with_id\\california_pizza_kitchen_10_13_2020\\california_pizza_kitchen_2000041452.csv\n",
      "Saving to C:\\Users\\Spencer\\Desktop\\clean\\data\\data_with_id\\california_pizza_kitchen_10_13_2020\\california_pizza_kitchen_2000092261.csv\n",
      "Saving to C:\\Users\\Spencer\\Desktop\\clean\\data\\data_with_id\\california_pizza_kitchen_10_13_2020\\california_pizza_kitchen_2000074422.csv\n",
      "Saving to C:\\Users\\Spencer\\Desktop\\clean\\data\\data_with_id\\california_pizza_kitchen_10_13_2020\\california_pizza_kitchen_2000086846.csv\n",
      "Saving to C:\\Users\\Spencer\\Desktop\\clean\\data\\data_with_id\\california_pizza_kitchen_10_13_2020\\california_pizza_kitchen_2000116966.csv\n",
      "Saving to C:\\Users\\Spencer\\Desktop\\clean\\data\\data_with_id\\california_pizza_kitchen_10_13_2020\\california_pizza_kitchen_2000128191.csv\n",
      "Saving to C:\\Users\\Spencer\\Desktop\\clean\\data\\data_with_id\\california_pizza_kitchen_10_13_2020\\california_pizza_kitchen_2000196125.csv\n",
      "Saving to C:\\Users\\Spencer\\Desktop\\clean\\data\\data_with_id\\california_pizza_kitchen_10_13_2020\\california_pizza_kitchen_2000390914.csv\n",
      "Saving to C:\\Users\\Spencer\\Desktop\\clean\\data\\data_with_id\\california_pizza_kitchen_10_13_2020\\california_pizza_kitchen_2000390913.csv\n",
      "Saving to C:\\Users\\Spencer\\Desktop\\clean\\data\\data_with_id\\california_pizza_kitchen_10_13_2020\\california_pizza_kitchen_2000390915.csv\n",
      "Saving to C:\\Users\\Spencer\\Desktop\\clean\\data\\data_with_id\\california_pizza_kitchen_10_13_2020\\california_pizza_kitchen_2000041078.csv\n",
      "Saving to C:\\Users\\Spencer\\Desktop\\clean\\data\\data_with_id\\california_pizza_kitchen_10_13_2020\\california_pizza_kitchen_2000041079.csv\n",
      "Saving to C:\\Users\\Spencer\\Desktop\\clean\\data\\data_with_id\\california_pizza_kitchen_10_13_2020\\california_pizza_kitchen_2000041092.csv\n",
      "Saving to C:\\Users\\Spencer\\Desktop\\clean\\data\\data_with_id\\california_pizza_kitchen_10_13_2020\\california_pizza_kitchen_2000041103.csv\n",
      "Saving to C:\\Users\\Spencer\\Desktop\\clean\\data\\data_with_id\\california_pizza_kitchen_10_13_2020\\california_pizza_kitchen_2000041106.csv\n",
      "Saving to C:\\Users\\Spencer\\Desktop\\clean\\data\\data_with_id\\california_pizza_kitchen_10_13_2020\\california_pizza_kitchen_2000041116.csv\n",
      "Saving to C:\\Users\\Spencer\\Desktop\\clean\\data\\data_with_id\\california_pizza_kitchen_10_13_2020\\california_pizza_kitchen_2000041117.csv\n",
      "Saving to C:\\Users\\Spencer\\Desktop\\clean\\data\\data_with_id\\california_pizza_kitchen_10_13_2020\\california_pizza_kitchen_2000041125.csv\n",
      "Saving to C:\\Users\\Spencer\\Desktop\\clean\\data\\data_with_id\\california_pizza_kitchen_10_13_2020\\california_pizza_kitchen_2000041134.csv\n",
      "Saving to C:\\Users\\Spencer\\Desktop\\clean\\data\\data_with_id\\california_pizza_kitchen_10_13_2020\\california_pizza_kitchen_2000041067.csv\n",
      "Saving to C:\\Users\\Spencer\\Desktop\\clean\\data\\data_with_id\\california_pizza_kitchen_10_13_2020\\california_pizza_kitchen_2000041094.csv\n",
      "Saving to C:\\Users\\Spencer\\Desktop\\clean\\data\\data_with_id\\california_pizza_kitchen_10_13_2020\\california_pizza_kitchen_2000041100.csv\n",
      "Saving to C:\\Users\\Spencer\\Desktop\\clean\\data\\data_with_id\\california_pizza_kitchen_10_13_2020\\california_pizza_kitchen_2000041107.csv\n",
      "Saving to C:\\Users\\Spencer\\Desktop\\clean\\data\\data_with_id\\california_pizza_kitchen_10_13_2020\\california_pizza_kitchen_2000041114.csv\n",
      "Saving to C:\\Users\\Spencer\\Desktop\\clean\\data\\data_with_id\\california_pizza_kitchen_10_13_2020\\california_pizza_kitchen_2000041115.csv\n",
      "Saving to C:\\Users\\Spencer\\Desktop\\clean\\data\\data_with_id\\california_pizza_kitchen_10_13_2020\\california_pizza_kitchen_2000041118.csv\n",
      "Saving to C:\\Users\\Spencer\\Desktop\\clean\\data\\data_with_id\\california_pizza_kitchen_10_13_2020\\california_pizza_kitchen_2000041121.csv\n",
      "Saving to C:\\Users\\Spencer\\Desktop\\clean\\data\\data_with_id\\california_pizza_kitchen_10_13_2020\\california_pizza_kitchen_2000041122.csv\n",
      "Saving to C:\\Users\\Spencer\\Desktop\\clean\\data\\data_with_id\\california_pizza_kitchen_10_13_2020\\california_pizza_kitchen_2000041128.csv\n",
      "Saving to C:\\Users\\Spencer\\Desktop\\clean\\data\\data_with_id\\california_pizza_kitchen_10_13_2020\\california_pizza_kitchen_2000041152.csv\n",
      "Saving to C:\\Users\\Spencer\\Desktop\\clean\\data\\data_with_id\\california_pizza_kitchen_10_13_2020\\california_pizza_kitchen_2000041155.csv\n",
      "Saving to C:\\Users\\Spencer\\Desktop\\clean\\data\\data_with_id\\california_pizza_kitchen_10_13_2020\\california_pizza_kitchen_2000041190.csv\n",
      "Saving to C:\\Users\\Spencer\\Desktop\\clean\\data\\data_with_id\\california_pizza_kitchen_10_13_2020\\california_pizza_kitchen_2000041200.csv\n",
      "Saving to C:\\Users\\Spencer\\Desktop\\clean\\data\\data_with_id\\california_pizza_kitchen_10_13_2020\\california_pizza_kitchen_2000041205.csv\n",
      "Saving to C:\\Users\\Spencer\\Desktop\\clean\\data\\data_with_id\\california_pizza_kitchen_10_13_2020\\california_pizza_kitchen_2000041235.csv\n",
      "Saving to C:\\Users\\Spencer\\Desktop\\clean\\data\\data_with_id\\california_pizza_kitchen_10_13_2020\\california_pizza_kitchen_2000041248.csv\n",
      "Saving to C:\\Users\\Spencer\\Desktop\\clean\\data\\data_with_id\\california_pizza_kitchen_10_13_2020\\california_pizza_kitchen_2000041260.csv\n",
      "Saving to C:\\Users\\Spencer\\Desktop\\clean\\data\\data_with_id\\california_pizza_kitchen_10_13_2020\\california_pizza_kitchen_2000041265.csv\n",
      "Saving to C:\\Users\\Spencer\\Desktop\\clean\\data\\data_with_id\\california_pizza_kitchen_10_13_2020\\california_pizza_kitchen_2000041266.csv\n",
      "Saving to C:\\Users\\Spencer\\Desktop\\clean\\data\\data_with_id\\california_pizza_kitchen_10_13_2020\\california_pizza_kitchen_2000041270.csv\n",
      "Saving to C:\\Users\\Spencer\\Desktop\\clean\\data\\data_with_id\\california_pizza_kitchen_10_13_2020\\california_pizza_kitchen_2000041277.csv\n",
      "Saving to C:\\Users\\Spencer\\Desktop\\clean\\data\\data_with_id\\california_pizza_kitchen_10_13_2020\\california_pizza_kitchen_2000041280.csv\n",
      "Saving to C:\\Users\\Spencer\\Desktop\\clean\\data\\data_with_id\\california_pizza_kitchen_10_13_2020\\california_pizza_kitchen_2000041285.csv\n",
      "Saving to C:\\Users\\Spencer\\Desktop\\clean\\data\\data_with_id\\california_pizza_kitchen_10_13_2020\\california_pizza_kitchen_2000041295.csv\n",
      "Saving to C:\\Users\\Spencer\\Desktop\\clean\\data\\data_with_id\\california_pizza_kitchen_10_13_2020\\california_pizza_kitchen_2000041296.csv\n",
      "Saving to C:\\Users\\Spencer\\Desktop\\clean\\data\\data_with_id\\california_pizza_kitchen_10_13_2020\\california_pizza_kitchen_2000041312.csv\n",
      "Saving to C:\\Users\\Spencer\\Desktop\\clean\\data\\data_with_id\\california_pizza_kitchen_10_13_2020\\california_pizza_kitchen_2000041142.csv\n",
      "Saving to C:\\Users\\Spencer\\Desktop\\clean\\data\\data_with_id\\california_pizza_kitchen_10_13_2020\\california_pizza_kitchen_2000041150.csv\n",
      "Saving to C:\\Users\\Spencer\\Desktop\\clean\\data\\data_with_id\\california_pizza_kitchen_10_13_2020\\california_pizza_kitchen_2000041159.csv\n",
      "Saving to C:\\Users\\Spencer\\Desktop\\clean\\data\\data_with_id\\california_pizza_kitchen_10_13_2020\\california_pizza_kitchen_2000041163.csv\n",
      "Saving to C:\\Users\\Spencer\\Desktop\\clean\\data\\data_with_id\\california_pizza_kitchen_10_13_2020\\california_pizza_kitchen_2000041165.csv\n",
      "Saving to C:\\Users\\Spencer\\Desktop\\clean\\data\\data_with_id\\california_pizza_kitchen_10_13_2020\\california_pizza_kitchen_2000041170.csv\n",
      "Saving to C:\\Users\\Spencer\\Desktop\\clean\\data\\data_with_id\\california_pizza_kitchen_10_13_2020\\california_pizza_kitchen_2000041316.csv\n",
      "Saving to C:\\Users\\Spencer\\Desktop\\clean\\data\\data_with_id\\california_pizza_kitchen_10_13_2020\\california_pizza_kitchen_2000041353.csv\n",
      "Saving to C:\\Users\\Spencer\\Desktop\\clean\\data\\data_with_id\\california_pizza_kitchen_10_13_2020\\california_pizza_kitchen_2000041358.csv\n",
      "Saving to C:\\Users\\Spencer\\Desktop\\clean\\data\\data_with_id\\california_pizza_kitchen_10_13_2020\\california_pizza_kitchen_2000041173.csv\n",
      "Saving to C:\\Users\\Spencer\\Desktop\\clean\\data\\data_with_id\\california_pizza_kitchen_10_13_2020\\california_pizza_kitchen_2000041180.csv\n",
      "Saving to C:\\Users\\Spencer\\Desktop\\clean\\data\\data_with_id\\california_pizza_kitchen_10_13_2020\\california_pizza_kitchen_2000041181.csv\n",
      "Saving to C:\\Users\\Spencer\\Desktop\\clean\\data\\data_with_id\\california_pizza_kitchen_10_13_2020\\california_pizza_kitchen_2000041185.csv\n",
      "Saving to C:\\Users\\Spencer\\Desktop\\clean\\data\\data_with_id\\california_pizza_kitchen_10_13_2020\\california_pizza_kitchen_2000041196.csv\n",
      "Saving to C:\\Users\\Spencer\\Desktop\\clean\\data\\data_with_id\\california_pizza_kitchen_10_13_2020\\california_pizza_kitchen_2000041202.csv\n",
      "Saving to C:\\Users\\Spencer\\Desktop\\clean\\data\\data_with_id\\california_pizza_kitchen_10_13_2020\\california_pizza_kitchen_2000041206.csv\n",
      "Saving to C:\\Users\\Spencer\\Desktop\\clean\\data\\data_with_id\\california_pizza_kitchen_10_13_2020\\california_pizza_kitchen_2000041214.csv\n",
      "Saving to C:\\Users\\Spencer\\Desktop\\clean\\data\\data_with_id\\california_pizza_kitchen_10_13_2020\\california_pizza_kitchen_2000041221.csv\n",
      "Saving to C:\\Users\\Spencer\\Desktop\\clean\\data\\data_with_id\\california_pizza_kitchen_10_13_2020\\california_pizza_kitchen_2000041236.csv\n",
      "Saving to C:\\Users\\Spencer\\Desktop\\clean\\data\\data_with_id\\california_pizza_kitchen_10_13_2020\\california_pizza_kitchen_2000041263.csv\n",
      "Saving to C:\\Users\\Spencer\\Desktop\\clean\\data\\data_with_id\\california_pizza_kitchen_10_13_2020\\california_pizza_kitchen_2000041275.csv\n",
      "Saving to C:\\Users\\Spencer\\Desktop\\clean\\data\\data_with_id\\california_pizza_kitchen_10_13_2020\\california_pizza_kitchen_2000041276.csv\n",
      "Saving to C:\\Users\\Spencer\\Desktop\\clean\\data\\data_with_id\\california_pizza_kitchen_10_13_2020\\california_pizza_kitchen_2000041290.csv\n",
      "Saving to C:\\Users\\Spencer\\Desktop\\clean\\data\\data_with_id\\california_pizza_kitchen_10_13_2020\\california_pizza_kitchen_2000041291.csv\n",
      "Saving to C:\\Users\\Spencer\\Desktop\\clean\\data\\data_with_id\\california_pizza_kitchen_10_13_2020\\california_pizza_kitchen_2000041301.csv\n",
      "Saving to C:\\Users\\Spencer\\Desktop\\clean\\data\\data_with_id\\california_pizza_kitchen_10_13_2020\\california_pizza_kitchen_2000041306.csv\n",
      "Saving to C:\\Users\\Spencer\\Desktop\\clean\\data\\data_with_id\\california_pizza_kitchen_10_13_2020\\california_pizza_kitchen_2000041315.csv\n",
      "Saving to C:\\Users\\Spencer\\Desktop\\clean\\data\\data_with_id\\california_pizza_kitchen_10_13_2020\\california_pizza_kitchen_2000041320.csv\n",
      "Saving to C:\\Users\\Spencer\\Desktop\\clean\\data\\data_with_id\\california_pizza_kitchen_10_13_2020\\california_pizza_kitchen_2000041335.csv\n",
      "Saving to C:\\Users\\Spencer\\Desktop\\clean\\data\\data_with_id\\california_pizza_kitchen_10_13_2020\\california_pizza_kitchen_2000041344.csv\n",
      "Saving to C:\\Users\\Spencer\\Desktop\\clean\\data\\data_with_id\\california_pizza_kitchen_10_13_2020\\california_pizza_kitchen_2000041357.csv\n",
      "Saving to C:\\Users\\Spencer\\Desktop\\clean\\data\\data_with_id\\california_pizza_kitchen_10_13_2020\\california_pizza_kitchen_2000041370.csv\n",
      "Saving to C:\\Users\\Spencer\\Desktop\\clean\\data\\data_with_id\\california_pizza_kitchen_10_13_2020\\california_pizza_kitchen_2000041372.csv\n",
      "Saving to C:\\Users\\Spencer\\Desktop\\clean\\data\\data_with_id\\california_pizza_kitchen_10_13_2020\\california_pizza_kitchen_2000041375.csv\n",
      "Saving to C:\\Users\\Spencer\\Desktop\\clean\\data\\data_with_id\\california_pizza_kitchen_10_13_2020\\california_pizza_kitchen_2000041376.csv\n",
      "Saving to C:\\Users\\Spencer\\Desktop\\clean\\data\\data_with_id\\california_pizza_kitchen_10_13_2020\\california_pizza_kitchen_2000041379.csv\n",
      "Saving to C:\\Users\\Spencer\\Desktop\\clean\\data\\data_with_id\\california_pizza_kitchen_10_13_2020\\california_pizza_kitchen_2000041383.csv\n",
      "Saving to C:\\Users\\Spencer\\Desktop\\clean\\data\\data_with_id\\california_pizza_kitchen_10_13_2020\\california_pizza_kitchen_2000041392.csv\n",
      "Saving to C:\\Users\\Spencer\\Desktop\\clean\\data\\data_with_id\\california_pizza_kitchen_10_13_2020\\california_pizza_kitchen_2000041395.csv\n",
      "Saving to C:\\Users\\Spencer\\Desktop\\clean\\data\\data_with_id\\california_pizza_kitchen_10_13_2020\\california_pizza_kitchen_2000041401.csv\n",
      "Saving to C:\\Users\\Spencer\\Desktop\\clean\\data\\data_with_id\\california_pizza_kitchen_10_13_2020\\california_pizza_kitchen_2000041409.csv\n",
      "Saving to C:\\Users\\Spencer\\Desktop\\clean\\data\\data_with_id\\california_pizza_kitchen_10_13_2020\\california_pizza_kitchen_2000041360.csv\n",
      "Saving to C:\\Users\\Spencer\\Desktop\\clean\\data\\data_with_id\\california_pizza_kitchen_10_13_2020\\california_pizza_kitchen_2000041415.csv\n",
      "Saving to C:\\Users\\Spencer\\Desktop\\clean\\data\\data_with_id\\california_pizza_kitchen_10_13_2020\\california_pizza_kitchen_2000041432.csv\n",
      "Saving to C:\\Users\\Spencer\\Desktop\\clean\\data\\data_with_id\\california_pizza_kitchen_10_13_2020\\california_pizza_kitchen_2000041442.csv\n",
      "Saving to C:\\Users\\Spencer\\Desktop\\clean\\data\\data_with_id\\california_pizza_kitchen_10_13_2020\\california_pizza_kitchen_2000041443.csv\n",
      "Saving to C:\\Users\\Spencer\\Desktop\\clean\\data\\data_with_id\\california_pizza_kitchen_10_13_2020\\california_pizza_kitchen_2000503102.csv\n",
      "Saving to C:\\Users\\Spencer\\Desktop\\clean\\data\\data_with_id\\california_pizza_kitchen_10_13_2020\\california_pizza_kitchen_2000610313.csv\n",
      "Saving to C:\\Users\\Spencer\\Desktop\\clean\\data\\data_with_id\\california_pizza_kitchen_10_13_2020\\california_pizza_kitchen_2000610314.csv\n",
      "Saving to C:\\Users\\Spencer\\Desktop\\clean\\data\\data_with_id\\california_pizza_kitchen_10_13_2020\\california_pizza_kitchen_2000610311.csv\n",
      "Saving to C:\\Users\\Spencer\\Desktop\\clean\\data\\data_with_id\\california_pizza_kitchen_10_13_2020\\california_pizza_kitchen_2000086845.csv\n",
      "Saving to C:\\Users\\Spencer\\Desktop\\clean\\data\\data_with_id\\california_pizza_kitchen_10_13_2020\\california_pizza_kitchen_2000129870.csv\n",
      "Saving to C:\\Users\\Spencer\\Desktop\\clean\\data\\data_with_id\\california_pizza_kitchen_10_13_2020\\california_pizza_kitchen_2000074629.csv\n",
      "Saving to C:\\Users\\Spencer\\Desktop\\clean\\data\\data_with_id\\california_pizza_kitchen_10_13_2020\\california_pizza_kitchen_2000155380.csv\n",
      "Saving to C:\\Users\\Spencer\\Desktop\\clean\\data\\data_with_id\\california_pizza_kitchen_10_13_2020\\california_pizza_kitchen_2000756867.csv\n",
      "Saving to C:\\Users\\Spencer\\Desktop\\clean\\data\\data_with_id\\california_pizza_kitchen_10_13_2020\\california_pizza_kitchen_2000756869.csv\n",
      "Saving to C:\\Users\\Spencer\\Desktop\\clean\\data\\data_with_id\\california_pizza_kitchen_10_13_2020\\california_pizza_kitchen_2000790196.csv\n",
      "Saving to C:\\Users\\Spencer\\Desktop\\clean\\data\\data_with_id\\california_pizza_kitchen_10_13_2020\\california_pizza_kitchen_2000503101.csv\n",
      "Saving to C:\\Users\\Spencer\\Desktop\\clean\\data\\data_with_id\\california_pizza_kitchen_10_13_2020\\california_pizza_kitchen_2000503103.csv\n",
      "Saving to C:\\Users\\Spencer\\Desktop\\clean\\data\\data_with_id\\california_pizza_kitchen_10_13_2020\\california_pizza_kitchen_2000610312.csv\n",
      "Saving to C:\\Users\\Spencer\\Desktop\\clean\\data\\data_with_id\\california_pizza_kitchen_10_13_2020\\california_pizza_kitchen_2000640305.csv\n",
      "Saving to C:\\Users\\Spencer\\Desktop\\clean\\data\\data_with_id\\california_pizza_kitchen_10_13_2020\\california_pizza_kitchen_2000640306.csv\n",
      "Saving to C:\\Users\\Spencer\\Desktop\\clean\\data\\data_with_id\\california_pizza_kitchen_10_13_2020\\california_pizza_kitchen_2000756870.csv\n"
     ]
    }
   ],
   "source": [
    "output_directory = \"C:\\\\Users\\\\Spencer\\\\Desktop\\\\clean\\\\data\\\\data_with_id\\\\california_pizza_kitchen_10_13_2020\"\n",
    "master_df_path = \"C:\\\\Users\\\\Spencer\\\\Desktop\\\\clean\\\\data\\\\data.xlsx\"\n",
    "directory_path = \"C:\\\\Users\\\\Spencer\\\\Box Sync\\\\Scraped\\\\california_pizza_kitchen_10_13_2020\"\n",
    "key_col = \"key\"\n",
    "master_df_key_col = \"Phone\"\n",
    "master_df_id_col = \"Company ID\"\n",
    "id_col_name = master_df_id_col\n",
    "add_company_ids(directory_path=directory_path, \n",
    "                master_df_path=master_df_path, \n",
    "                key_col=key_col, \n",
    "                master_df_key_col=master_df_key_col, \n",
    "                master_df_id_col=master_df_id_col, \n",
    "                id_col_name=id_col_name, \n",
    "                output_directory=output_directory)"
   ]
  },
  {
   "cell_type": "code",
   "execution_count": 3,
   "metadata": {
    "tags": [
     "outputPrepend"
    ]
   },
   "outputs": [
    {
     "output_type": "stream",
     "name": "stdout",
     "text": [
      "_e_cheese_10_8_2020\\chuck_e_cheese_1000859475.csv\n",
      "Saving to C:\\Users\\Spencer\\Desktop\\clean\\data\\data_with_id\\chuck_e_cheese_10_8_2020\\chuck_e_cheese_1000859653.csv\n",
      "Saving to C:\\Users\\Spencer\\Desktop\\clean\\data\\data_with_id\\chuck_e_cheese_10_8_2020\\chuck_e_cheese_1000860073.csv\n",
      "Saving to C:\\Users\\Spencer\\Desktop\\clean\\data\\data_with_id\\chuck_e_cheese_10_8_2020\\chuck_e_cheese_1000860859.csv\n",
      "Saving to C:\\Users\\Spencer\\Desktop\\clean\\data\\data_with_id\\chuck_e_cheese_10_8_2020\\chuck_e_cheese_1000861024.csv\n",
      "Saving to C:\\Users\\Spencer\\Desktop\\clean\\data\\data_with_id\\chuck_e_cheese_10_8_2020\\chuck_e_cheese_1000861517.csv\n",
      "Saving to C:\\Users\\Spencer\\Desktop\\clean\\data\\data_with_id\\chuck_e_cheese_10_8_2020\\chuck_e_cheese_1000861891.csv\n",
      "Saving to C:\\Users\\Spencer\\Desktop\\clean\\data\\data_with_id\\chuck_e_cheese_10_8_2020\\chuck_e_cheese_1000862007.csv\n",
      "Saving to C:\\Users\\Spencer\\Desktop\\clean\\data\\data_with_id\\chuck_e_cheese_10_8_2020\\chuck_e_cheese_1000860260.csv\n",
      "Saving to C:\\Users\\Spencer\\Desktop\\clean\\data\\data_with_id\\chuck_e_cheese_10_8_2020\\chuck_e_cheese_1000860313.csv\n",
      "Saving to C:\\Users\\Spencer\\Desktop\\clean\\data\\data_with_id\\chuck_e_cheese_10_8_2020\\chuck_e_cheese_1000860520.csv\n",
      "Saving to C:\\Users\\Spencer\\Desktop\\clean\\data\\data_with_id\\chuck_e_cheese_10_8_2020\\chuck_e_cheese_1000831362.csv\n",
      "Saving to C:\\Users\\Spencer\\Desktop\\clean\\data\\data_with_id\\chuck_e_cheese_10_8_2020\\chuck_e_cheese_1000831396.csv\n",
      "Saving to C:\\Users\\Spencer\\Desktop\\clean\\data\\data_with_id\\chuck_e_cheese_10_8_2020\\chuck_e_cheese_1000831643.csv\n",
      "Saving to C:\\Users\\Spencer\\Desktop\\clean\\data\\data_with_id\\chuck_e_cheese_10_8_2020\\chuck_e_cheese_1000831771.csv\n",
      "Saving to C:\\Users\\Spencer\\Desktop\\clean\\data\\data_with_id\\chuck_e_cheese_10_8_2020\\chuck_e_cheese_1000832356.csv\n",
      "Saving to C:\\Users\\Spencer\\Desktop\\clean\\data\\data_with_id\\chuck_e_cheese_10_8_2020\\chuck_e_cheese_1000832665.csv\n",
      "Saving to C:\\Users\\Spencer\\Desktop\\clean\\data\\data_with_id\\chuck_e_cheese_10_8_2020\\chuck_e_cheese_1000831224.csv\n",
      "Saving to C:\\Users\\Spencer\\Desktop\\clean\\data\\data_with_id\\chuck_e_cheese_10_8_2020\\chuck_e_cheese_1000831288.csv\n",
      "Saving to C:\\Users\\Spencer\\Desktop\\clean\\data\\data_with_id\\chuck_e_cheese_10_8_2020\\chuck_e_cheese_1000831319.csv\n",
      "Saving to C:\\Users\\Spencer\\Desktop\\clean\\data\\data_with_id\\chuck_e_cheese_10_8_2020\\chuck_e_cheese_1000833389.csv\n",
      "Saving to C:\\Users\\Spencer\\Desktop\\clean\\data\\data_with_id\\chuck_e_cheese_10_8_2020\\chuck_e_cheese_1000833588.csv\n",
      "Saving to C:\\Users\\Spencer\\Desktop\\clean\\data\\data_with_id\\chuck_e_cheese_10_8_2020\\chuck_e_cheese_1000860635.csv\n",
      "Saving to C:\\Users\\Spencer\\Desktop\\clean\\data\\data_with_id\\chuck_e_cheese_10_8_2020\\chuck_e_cheese_1000861461.csv\n",
      "Saving to C:\\Users\\Spencer\\Desktop\\clean\\data\\data_with_id\\chuck_e_cheese_10_8_2020\\chuck_e_cheese_1000863266.csv\n",
      "Saving to C:\\Users\\Spencer\\Desktop\\clean\\data\\data_with_id\\chuck_e_cheese_10_8_2020\\chuck_e_cheese_1000862450.csv\n",
      "Saving to C:\\Users\\Spencer\\Desktop\\clean\\data\\data_with_id\\chuck_e_cheese_10_8_2020\\chuck_e_cheese_1000864295.csv\n",
      "Saving to C:\\Users\\Spencer\\Desktop\\clean\\data\\data_with_id\\chuck_e_cheese_10_8_2020\\chuck_e_cheese_1000831471.csv\n",
      "Saving to C:\\Users\\Spencer\\Desktop\\clean\\data\\data_with_id\\chuck_e_cheese_10_8_2020\\chuck_e_cheese_1000832240.csv\n",
      "Saving to C:\\Users\\Spencer\\Desktop\\clean\\data\\data_with_id\\chuck_e_cheese_10_8_2020\\chuck_e_cheese_1000832436.csv\n",
      "Saving to C:\\Users\\Spencer\\Desktop\\clean\\data\\data_with_id\\chuck_e_cheese_10_8_2020\\chuck_e_cheese_1000865595.csv\n",
      "Saving to C:\\Users\\Spencer\\Desktop\\clean\\data\\data_with_id\\chuck_e_cheese_10_8_2020\\chuck_e_cheese_1000832837.csv\n",
      "Saving to C:\\Users\\Spencer\\Desktop\\clean\\data\\data_with_id\\chuck_e_cheese_10_8_2020\\chuck_e_cheese_1000832945.csv\n",
      "Saving to C:\\Users\\Spencer\\Desktop\\clean\\data\\data_with_id\\chuck_e_cheese_10_8_2020\\chuck_e_cheese_1000863021.csv\n",
      "Saving to C:\\Users\\Spencer\\Desktop\\clean\\data\\data_with_id\\chuck_e_cheese_10_8_2020\\chuck_e_cheese_1000833899.csv\n",
      "Saving to C:\\Users\\Spencer\\Desktop\\clean\\data\\data_with_id\\chuck_e_cheese_10_8_2020\\chuck_e_cheese_1000834024.csv\n",
      "Saving to C:\\Users\\Spencer\\Desktop\\clean\\data\\data_with_id\\chuck_e_cheese_10_8_2020\\chuck_e_cheese_1000865643.csv\n",
      "Saving to C:\\Users\\Spencer\\Desktop\\clean\\data\\data_with_id\\chuck_e_cheese_10_8_2020\\chuck_e_cheese_1000866052.csv\n",
      "Saving to C:\\Users\\Spencer\\Desktop\\clean\\data\\data_with_id\\chuck_e_cheese_10_8_2020\\chuck_e_cheese_1000834641.csv\n",
      "Saving to C:\\Users\\Spencer\\Desktop\\clean\\data\\data_with_id\\chuck_e_cheese_10_8_2020\\chuck_e_cheese_1000864468.csv\n",
      "Saving to C:\\Users\\Spencer\\Desktop\\clean\\data\\data_with_id\\chuck_e_cheese_10_8_2020\\chuck_e_cheese_1000864626.csv\n",
      "Saving to C:\\Users\\Spencer\\Desktop\\clean\\data\\data_with_id\\chuck_e_cheese_10_8_2020\\chuck_e_cheese_1000835061.csv\n",
      "Saving to C:\\Users\\Spencer\\Desktop\\clean\\data\\data_with_id\\chuck_e_cheese_10_8_2020\\chuck_e_cheese_1000835085.csv\n",
      "Saving to C:\\Users\\Spencer\\Desktop\\clean\\data\\data_with_id\\chuck_e_cheese_10_8_2020\\chuck_e_cheese_1000867441.csv\n",
      "Saving to C:\\Users\\Spencer\\Desktop\\clean\\data\\data_with_id\\chuck_e_cheese_10_8_2020\\chuck_e_cheese_1000865226.csv\n",
      "Saving to C:\\Users\\Spencer\\Desktop\\clean\\data\\data_with_id\\chuck_e_cheese_10_8_2020\\chuck_e_cheese_1000865831.csv\n",
      "Saving to C:\\Users\\Spencer\\Desktop\\clean\\data\\data_with_id\\chuck_e_cheese_10_8_2020\\chuck_e_cheese_1000866212.csv\n",
      "Saving to C:\\Users\\Spencer\\Desktop\\clean\\data\\data_with_id\\chuck_e_cheese_10_8_2020\\chuck_e_cheese_1000833590.csv\n",
      "Saving to C:\\Users\\Spencer\\Desktop\\clean\\data\\data_with_id\\chuck_e_cheese_10_8_2020\\chuck_e_cheese_1000834885.csv\n",
      "Saving to C:\\Users\\Spencer\\Desktop\\clean\\data\\data_with_id\\chuck_e_cheese_10_8_2020\\chuck_e_cheese_1000868050.csv\n",
      "Saving to C:\\Users\\Spencer\\Desktop\\clean\\data\\data_with_id\\chuck_e_cheese_10_8_2020\\chuck_e_cheese_1000868611.csv\n",
      "Saving to C:\\Users\\Spencer\\Desktop\\clean\\data\\data_with_id\\chuck_e_cheese_10_8_2020\\chuck_e_cheese_1000835714.csv\n",
      "Saving to C:\\Users\\Spencer\\Desktop\\clean\\data\\data_with_id\\chuck_e_cheese_10_8_2020\\chuck_e_cheese_1000835752.csv\n",
      "Saving to C:\\Users\\Spencer\\Desktop\\clean\\data\\data_with_id\\chuck_e_cheese_10_8_2020\\chuck_e_cheese_1000868686.csv\n",
      "Saving to C:\\Users\\Spencer\\Desktop\\clean\\data\\data_with_id\\chuck_e_cheese_10_8_2020\\chuck_e_cheese_1000867185.csv\n",
      "Saving to C:\\Users\\Spencer\\Desktop\\clean\\data\\data_with_id\\chuck_e_cheese_10_8_2020\\chuck_e_cheese_1000867325.csv\n",
      "Saving to C:\\Users\\Spencer\\Desktop\\clean\\data\\data_with_id\\chuck_e_cheese_10_8_2020\\chuck_e_cheese_1000836705.csv\n",
      "Saving to C:\\Users\\Spencer\\Desktop\\clean\\data\\data_with_id\\chuck_e_cheese_10_8_2020\\chuck_e_cheese_1000870011.csv\n",
      "Saving to C:\\Users\\Spencer\\Desktop\\clean\\data\\data_with_id\\chuck_e_cheese_10_8_2020\\chuck_e_cheese_1000870239.csv\n",
      "Saving to C:\\Users\\Spencer\\Desktop\\clean\\data\\data_with_id\\chuck_e_cheese_10_8_2020\\chuck_e_cheese_1000870783.csv\n",
      "Saving to C:\\Users\\Spencer\\Desktop\\clean\\data\\data_with_id\\chuck_e_cheese_10_8_2020\\chuck_e_cheese_1000871077.csv\n",
      "Saving to C:\\Users\\Spencer\\Desktop\\clean\\data\\data_with_id\\chuck_e_cheese_10_8_2020\\chuck_e_cheese_1000871645.csv\n",
      "Saving to C:\\Users\\Spencer\\Desktop\\clean\\data\\data_with_id\\chuck_e_cheese_10_8_2020\\chuck_e_cheese_1000871682.csv\n",
      "Saving to C:\\Users\\Spencer\\Desktop\\clean\\data\\data_with_id\\chuck_e_cheese_10_8_2020\\chuck_e_cheese_1000868866.csv\n",
      "Saving to C:\\Users\\Spencer\\Desktop\\clean\\data\\data_with_id\\chuck_e_cheese_10_8_2020\\chuck_e_cheese_1000869358.csv\n",
      "Saving to C:\\Users\\Spencer\\Desktop\\clean\\data\\data_with_id\\chuck_e_cheese_10_8_2020\\chuck_e_cheese_1000869668.csv\n",
      "Saving to C:\\Users\\Spencer\\Desktop\\clean\\data\\data_with_id\\chuck_e_cheese_10_8_2020\\chuck_e_cheese_1000869680.csv\n",
      "Saving to C:\\Users\\Spencer\\Desktop\\clean\\data\\data_with_id\\chuck_e_cheese_10_8_2020\\chuck_e_cheese_1000836800.csv\n",
      "Saving to C:\\Users\\Spencer\\Desktop\\clean\\data\\data_with_id\\chuck_e_cheese_10_8_2020\\chuck_e_cheese_1000836920.csv\n",
      "Saving to C:\\Users\\Spencer\\Desktop\\clean\\data\\data_with_id\\chuck_e_cheese_10_8_2020\\chuck_e_cheese_1000837746.csv\n",
      "Saving to C:\\Users\\Spencer\\Desktop\\clean\\data\\data_with_id\\chuck_e_cheese_10_8_2020\\chuck_e_cheese_1000869927.csv\n",
      "Saving to C:\\Users\\Spencer\\Desktop\\clean\\data\\data_with_id\\chuck_e_cheese_10_8_2020\\chuck_e_cheese_1000869955.csv\n",
      "Saving to C:\\Users\\Spencer\\Desktop\\clean\\data\\data_with_id\\chuck_e_cheese_10_8_2020\\chuck_e_cheese_1000870255.csv\n",
      "Saving to C:\\Users\\Spencer\\Desktop\\clean\\data\\data_with_id\\chuck_e_cheese_10_8_2020\\chuck_e_cheese_1000872216.csv\n",
      "Saving to C:\\Users\\Spencer\\Desktop\\clean\\data\\data_with_id\\chuck_e_cheese_10_8_2020\\chuck_e_cheese_1000872353.csv\n",
      "Saving to C:\\Users\\Spencer\\Desktop\\clean\\data\\data_with_id\\chuck_e_cheese_10_8_2020\\chuck_e_cheese_1000873396.csv\n",
      "Saving to C:\\Users\\Spencer\\Desktop\\clean\\data\\data_with_id\\chuck_e_cheese_10_8_2020\\chuck_e_cheese_1000870441.csv\n",
      "Saving to C:\\Users\\Spencer\\Desktop\\clean\\data\\data_with_id\\chuck_e_cheese_10_8_2020\\chuck_e_cheese_1000871850.csv\n",
      "Saving to C:\\Users\\Spencer\\Desktop\\clean\\data\\data_with_id\\chuck_e_cheese_10_8_2020\\chuck_e_cheese_1000872277.csv\n",
      "Saving to C:\\Users\\Spencer\\Desktop\\clean\\data\\data_with_id\\chuck_e_cheese_10_8_2020\\chuck_e_cheese_1000872349.csv\n",
      "Saving to C:\\Users\\Spencer\\Desktop\\clean\\data\\data_with_id\\chuck_e_cheese_10_8_2020\\chuck_e_cheese_1000837870.csv\n",
      "Saving to C:\\Users\\Spencer\\Desktop\\clean\\data\\data_with_id\\chuck_e_cheese_10_8_2020\\chuck_e_cheese_1000837945.csv\n",
      "Saving to C:\\Users\\Spencer\\Desktop\\clean\\data\\data_with_id\\chuck_e_cheese_10_8_2020\\chuck_e_cheese_1000838092.csv\n",
      "Saving to C:\\Users\\Spencer\\Desktop\\clean\\data\\data_with_id\\chuck_e_cheese_10_8_2020\\chuck_e_cheese_1000837789.csv\n",
      "Saving to C:\\Users\\Spencer\\Desktop\\clean\\data\\data_with_id\\chuck_e_cheese_10_8_2020\\chuck_e_cheese_1000838236.csv\n",
      "Saving to C:\\Users\\Spencer\\Desktop\\clean\\data\\data_with_id\\chuck_e_cheese_10_8_2020\\chuck_e_cheese_1000873394.csv\n",
      "Saving to C:\\Users\\Spencer\\Desktop\\clean\\data\\data_with_id\\chuck_e_cheese_10_8_2020\\chuck_e_cheese_1000873413.csv\n",
      "Saving to C:\\Users\\Spencer\\Desktop\\clean\\data\\data_with_id\\chuck_e_cheese_10_8_2020\\chuck_e_cheese_1000873724.csv\n",
      "Saving to C:\\Users\\Spencer\\Desktop\\clean\\data\\data_with_id\\chuck_e_cheese_10_8_2020\\chuck_e_cheese_1000873866.csv\n",
      "Saving to C:\\Users\\Spencer\\Desktop\\clean\\data\\data_with_id\\chuck_e_cheese_10_8_2020\\chuck_e_cheese_1000873952.csv\n",
      "Saving to C:\\Users\\Spencer\\Desktop\\clean\\data\\data_with_id\\chuck_e_cheese_10_8_2020\\chuck_e_cheese_1000873973.csv\n",
      "Saving to C:\\Users\\Spencer\\Desktop\\clean\\data\\data_with_id\\chuck_e_cheese_10_8_2020\\chuck_e_cheese_1000875054.csv\n",
      "Saving to C:\\Users\\Spencer\\Desktop\\clean\\data\\data_with_id\\chuck_e_cheese_10_8_2020\\chuck_e_cheese_1000875221.csv\n",
      "Saving to C:\\Users\\Spencer\\Desktop\\clean\\data\\data_with_id\\chuck_e_cheese_10_8_2020\\chuck_e_cheese_1000876689.csv\n",
      "Saving to C:\\Users\\Spencer\\Desktop\\clean\\data\\data_with_id\\chuck_e_cheese_10_8_2020\\chuck_e_cheese_1000874691.csv\n",
      "Saving to C:\\Users\\Spencer\\Desktop\\clean\\data\\data_with_id\\chuck_e_cheese_10_8_2020\\chuck_e_cheese_1000838718.csv\n",
      "Saving to C:\\Users\\Spencer\\Desktop\\clean\\data\\data_with_id\\chuck_e_cheese_10_8_2020\\chuck_e_cheese_1000838845.csv\n",
      "Saving to C:\\Users\\Spencer\\Desktop\\clean\\data\\data_with_id\\chuck_e_cheese_10_8_2020\\chuck_e_cheese_1000838850.csv\n",
      "Saving to C:\\Users\\Spencer\\Desktop\\clean\\data\\data_with_id\\chuck_e_cheese_10_8_2020\\chuck_e_cheese_1000839101.csv\n",
      "Saving to C:\\Users\\Spencer\\Desktop\\clean\\data\\data_with_id\\chuck_e_cheese_10_8_2020\\chuck_e_cheese_1000875268.csv\n",
      "Saving to C:\\Users\\Spencer\\Desktop\\clean\\data\\data_with_id\\chuck_e_cheese_10_8_2020\\chuck_e_cheese_1000877096.csv\n",
      "Saving to C:\\Users\\Spencer\\Desktop\\clean\\data\\data_with_id\\chuck_e_cheese_10_8_2020\\chuck_e_cheese_1000877912.csv\n",
      "Saving to C:\\Users\\Spencer\\Desktop\\clean\\data\\data_with_id\\chuck_e_cheese_10_8_2020\\chuck_e_cheese_1000877992.csv\n",
      "Saving to C:\\Users\\Spencer\\Desktop\\clean\\data\\data_with_id\\chuck_e_cheese_10_8_2020\\chuck_e_cheese_1000878194.csv\n",
      "Saving to C:\\Users\\Spencer\\Desktop\\clean\\data\\data_with_id\\chuck_e_cheese_10_8_2020\\chuck_e_cheese_1000875995.csv\n",
      "Saving to C:\\Users\\Spencer\\Desktop\\clean\\data\\data_with_id\\chuck_e_cheese_10_8_2020\\chuck_e_cheese_1000876151.csv\n",
      "Saving to C:\\Users\\Spencer\\Desktop\\clean\\data\\data_with_id\\chuck_e_cheese_10_8_2020\\chuck_e_cheese_1000878794.csv\n",
      "Saving to C:\\Users\\Spencer\\Desktop\\clean\\data\\data_with_id\\chuck_e_cheese_10_8_2020\\chuck_e_cheese_1000879048.csv\n",
      "Saving to C:\\Users\\Spencer\\Desktop\\clean\\data\\data_with_id\\chuck_e_cheese_10_8_2020\\chuck_e_cheese_1000877129.csv\n",
      "Saving to C:\\Users\\Spencer\\Desktop\\clean\\data\\data_with_id\\chuck_e_cheese_10_8_2020\\chuck_e_cheese_1000877274.csv\n",
      "Saving to C:\\Users\\Spencer\\Desktop\\clean\\data\\data_with_id\\chuck_e_cheese_10_8_2020\\chuck_e_cheese_1000877410.csv\n",
      "Saving to C:\\Users\\Spencer\\Desktop\\clean\\data\\data_with_id\\chuck_e_cheese_10_8_2020\\chuck_e_cheese_1000877503.csv\n",
      "Saving to C:\\Users\\Spencer\\Desktop\\clean\\data\\data_with_id\\chuck_e_cheese_10_8_2020\\chuck_e_cheese_1000877943.csv\n",
      "Saving to C:\\Users\\Spencer\\Desktop\\clean\\data\\data_with_id\\chuck_e_cheese_10_8_2020\\chuck_e_cheese_1000879279.csv\n",
      "Saving to C:\\Users\\Spencer\\Desktop\\clean\\data\\data_with_id\\chuck_e_cheese_10_8_2020\\chuck_e_cheese_1000879697.csv\n",
      "Saving to C:\\Users\\Spencer\\Desktop\\clean\\data\\data_with_id\\chuck_e_cheese_10_8_2020\\chuck_e_cheese_1000879932.csv\n",
      "Saving to C:\\Users\\Spencer\\Desktop\\clean\\data\\data_with_id\\chuck_e_cheese_10_8_2020\\chuck_e_cheese_1000840046.csv\n",
      "Saving to C:\\Users\\Spencer\\Desktop\\clean\\data\\data_with_id\\chuck_e_cheese_10_8_2020\\chuck_e_cheese_1000840230.csv\n",
      "Saving to C:\\Users\\Spencer\\Desktop\\clean\\data\\data_with_id\\chuck_e_cheese_10_8_2020\\chuck_e_cheese_1000879284.csv\n",
      "Saving to C:\\Users\\Spencer\\Desktop\\clean\\data\\data_with_id\\chuck_e_cheese_10_8_2020\\chuck_e_cheese_1000879567.csv\n",
      "Saving to C:\\Users\\Spencer\\Desktop\\clean\\data\\data_with_id\\chuck_e_cheese_10_8_2020\\chuck_e_cheese_1000879787.csv\n",
      "Saving to C:\\Users\\Spencer\\Desktop\\clean\\data\\data_with_id\\chuck_e_cheese_10_8_2020\\chuck_e_cheese_1000880118.csv\n",
      "Saving to C:\\Users\\Spencer\\Desktop\\clean\\data\\data_with_id\\chuck_e_cheese_10_8_2020\\chuck_e_cheese_1000880144.csv\n",
      "Saving to C:\\Users\\Spencer\\Desktop\\clean\\data\\data_with_id\\chuck_e_cheese_10_8_2020\\chuck_e_cheese_1000881363.csv\n",
      "Saving to C:\\Users\\Spencer\\Desktop\\clean\\data\\data_with_id\\chuck_e_cheese_10_8_2020\\chuck_e_cheese_1000881702.csv\n",
      "Saving to C:\\Users\\Spencer\\Desktop\\clean\\data\\data_with_id\\chuck_e_cheese_10_8_2020\\chuck_e_cheese_1000840219.csv\n",
      "Saving to C:\\Users\\Spencer\\Desktop\\clean\\data\\data_with_id\\chuck_e_cheese_10_8_2020\\chuck_e_cheese_1000880408.csv\n",
      "Saving to C:\\Users\\Spencer\\Desktop\\clean\\data\\data_with_id\\chuck_e_cheese_10_8_2020\\chuck_e_cheese_1000880412.csv\n",
      "Saving to C:\\Users\\Spencer\\Desktop\\clean\\data\\data_with_id\\chuck_e_cheese_10_8_2020\\chuck_e_cheese_1000880510.csv\n",
      "Saving to C:\\Users\\Spencer\\Desktop\\clean\\data\\data_with_id\\chuck_e_cheese_10_8_2020\\chuck_e_cheese_1000880859.csv\n",
      "Saving to C:\\Users\\Spencer\\Desktop\\clean\\data\\data_with_id\\chuck_e_cheese_10_8_2020\\chuck_e_cheese_1000880885.csv\n",
      "Saving to C:\\Users\\Spencer\\Desktop\\clean\\data\\data_with_id\\chuck_e_cheese_10_8_2020\\chuck_e_cheese_1000880959.csv\n",
      "Saving to C:\\Users\\Spencer\\Desktop\\clean\\data\\data_with_id\\chuck_e_cheese_10_8_2020\\chuck_e_cheese_1000840600.csv\n",
      "Saving to C:\\Users\\Spencer\\Desktop\\clean\\data\\data_with_id\\chuck_e_cheese_10_8_2020\\chuck_e_cheese_1000841487.csv\n",
      "Saving to C:\\Users\\Spencer\\Desktop\\clean\\data\\data_with_id\\chuck_e_cheese_10_8_2020\\chuck_e_cheese_1000841538.csv\n",
      "Saving to C:\\Users\\Spencer\\Desktop\\clean\\data\\data_with_id\\chuck_e_cheese_10_8_2020\\chuck_e_cheese_1000841944.csv\n",
      "Saving to C:\\Users\\Spencer\\Desktop\\clean\\data\\data_with_id\\chuck_e_cheese_10_8_2020\\chuck_e_cheese_1000881961.csv\n",
      "Saving to C:\\Users\\Spencer\\Desktop\\clean\\data\\data_with_id\\chuck_e_cheese_10_8_2020\\chuck_e_cheese_1000881930.csv\n",
      "Saving to C:\\Users\\Spencer\\Desktop\\clean\\data\\data_with_id\\chuck_e_cheese_10_8_2020\\chuck_e_cheese_1000882652.csv\n",
      "Saving to C:\\Users\\Spencer\\Desktop\\clean\\data\\data_with_id\\chuck_e_cheese_10_8_2020\\chuck_e_cheese_1000882805.csv\n",
      "Saving to C:\\Users\\Spencer\\Desktop\\clean\\data\\data_with_id\\chuck_e_cheese_10_8_2020\\chuck_e_cheese_1000883635.csv\n",
      "Saving to C:\\Users\\Spencer\\Desktop\\clean\\data\\data_with_id\\chuck_e_cheese_10_8_2020\\chuck_e_cheese_1000882198.csv\n",
      "Saving to C:\\Users\\Spencer\\Desktop\\clean\\data\\data_with_id\\chuck_e_cheese_10_8_2020\\chuck_e_cheese_1000882261.csv\n",
      "Saving to C:\\Users\\Spencer\\Desktop\\clean\\data\\data_with_id\\chuck_e_cheese_10_8_2020\\chuck_e_cheese_1000882278.csv\n",
      "Saving to C:\\Users\\Spencer\\Desktop\\clean\\data\\data_with_id\\chuck_e_cheese_10_8_2020\\chuck_e_cheese_1000841154.csv\n",
      "Saving to C:\\Users\\Spencer\\Desktop\\clean\\data\\data_with_id\\chuck_e_cheese_10_8_2020\\chuck_e_cheese_1000882651.csv\n",
      "Saving to C:\\Users\\Spencer\\Desktop\\clean\\data\\data_with_id\\chuck_e_cheese_10_8_2020\\chuck_e_cheese_1000842270.csv\n",
      "Saving to C:\\Users\\Spencer\\Desktop\\clean\\data\\data_with_id\\chuck_e_cheese_10_8_2020\\chuck_e_cheese_1000883791.csv\n",
      "Saving to C:\\Users\\Spencer\\Desktop\\clean\\data\\data_with_id\\chuck_e_cheese_10_8_2020\\chuck_e_cheese_1000842199.csv\n",
      "Saving to C:\\Users\\Spencer\\Desktop\\clean\\data\\data_with_id\\chuck_e_cheese_10_8_2020\\chuck_e_cheese_1000842355.csv\n",
      "Saving to C:\\Users\\Spencer\\Desktop\\clean\\data\\data_with_id\\chuck_e_cheese_10_8_2020\\chuck_e_cheese_1000843087.csv\n",
      "Saving to C:\\Users\\Spencer\\Desktop\\clean\\data\\data_with_id\\chuck_e_cheese_10_8_2020\\chuck_e_cheese_1000843762.csv\n",
      "Saving to C:\\Users\\Spencer\\Desktop\\clean\\data\\data_with_id\\chuck_e_cheese_10_8_2020\\chuck_e_cheese_1000884677.csv\n",
      "Saving to C:\\Users\\Spencer\\Desktop\\clean\\data\\data_with_id\\chuck_e_cheese_10_8_2020\\chuck_e_cheese_1000884793.csv\n",
      "Saving to C:\\Users\\Spencer\\Desktop\\clean\\data\\data_with_id\\chuck_e_cheese_10_8_2020\\chuck_e_cheese_1000885192.csv\n",
      "Saving to C:\\Users\\Spencer\\Desktop\\clean\\data\\data_with_id\\chuck_e_cheese_10_8_2020\\chuck_e_cheese_1000845022.csv\n",
      "Saving to C:\\Users\\Spencer\\Desktop\\clean\\data\\data_with_id\\chuck_e_cheese_10_8_2020\\chuck_e_cheese_1000845037.csv\n",
      "Saving to C:\\Users\\Spencer\\Desktop\\clean\\data\\data_with_id\\chuck_e_cheese_10_8_2020\\chuck_e_cheese_1000845177.csv\n",
      "Saving to C:\\Users\\Spencer\\Desktop\\clean\\data\\data_with_id\\chuck_e_cheese_10_8_2020\\chuck_e_cheese_1000845181.csv\n",
      "Saving to C:\\Users\\Spencer\\Desktop\\clean\\data\\data_with_id\\chuck_e_cheese_10_8_2020\\chuck_e_cheese_1000886860.csv\n",
      "Saving to C:\\Users\\Spencer\\Desktop\\clean\\data\\data_with_id\\chuck_e_cheese_10_8_2020\\chuck_e_cheese_1000843684.csv\n",
      "Saving to C:\\Users\\Spencer\\Desktop\\clean\\data\\data_with_id\\chuck_e_cheese_10_8_2020\\chuck_e_cheese_1000887454.csv\n",
      "Saving to C:\\Users\\Spencer\\Desktop\\clean\\data\\data_with_id\\chuck_e_cheese_10_8_2020\\chuck_e_cheese_1000885969.csv\n",
      "Saving to C:\\Users\\Spencer\\Desktop\\clean\\data\\data_with_id\\chuck_e_cheese_10_8_2020\\chuck_e_cheese_1000886311.csv\n",
      "Saving to C:\\Users\\Spencer\\Desktop\\clean\\data\\data_with_id\\chuck_e_cheese_10_8_2020\\chuck_e_cheese_1000886983.csv\n",
      "Saving to C:\\Users\\Spencer\\Desktop\\clean\\data\\data_with_id\\chuck_e_cheese_10_8_2020\\chuck_e_cheese_1000844283.csv\n",
      "Saving to C:\\Users\\Spencer\\Desktop\\clean\\data\\data_with_id\\chuck_e_cheese_10_8_2020\\chuck_e_cheese_1000844343.csv\n",
      "Saving to C:\\Users\\Spencer\\Desktop\\clean\\data\\data_with_id\\chuck_e_cheese_10_8_2020\\chuck_e_cheese_1000887377.csv\n",
      "Saving to C:\\Users\\Spencer\\Desktop\\clean\\data\\data_with_id\\chuck_e_cheese_10_8_2020\\chuck_e_cheese_1000847859.csv\n",
      "Saving to C:\\Users\\Spencer\\Desktop\\clean\\data\\data_with_id\\chuck_e_cheese_10_8_2020\\chuck_e_cheese_1000847994.csv\n",
      "Saving to C:\\Users\\Spencer\\Desktop\\clean\\data\\data_with_id\\chuck_e_cheese_10_8_2020\\chuck_e_cheese_1000848334.csv\n",
      "Saving to C:\\Users\\Spencer\\Desktop\\clean\\data\\data_with_id\\chuck_e_cheese_10_8_2020\\chuck_e_cheese_1000847358.csv\n",
      "Saving to C:\\Users\\Spencer\\Desktop\\clean\\data\\data_with_id\\chuck_e_cheese_10_8_2020\\chuck_e_cheese_1000848887.csv\n",
      "Saving to C:\\Users\\Spencer\\Desktop\\clean\\data\\data_with_id\\chuck_e_cheese_10_8_2020\\chuck_e_cheese_1000848640.csv\n",
      "Saving to C:\\Users\\Spencer\\Desktop\\clean\\data\\data_with_id\\chuck_e_cheese_10_8_2020\\chuck_e_cheese_1000849669.csv\n",
      "Saving to C:\\Users\\Spencer\\Desktop\\clean\\data\\data_with_id\\chuck_e_cheese_10_8_2020\\chuck_e_cheese_1000849995.csv\n"
     ]
    }
   ],
   "source": [
    "output_directory = \"C:\\\\Users\\\\Spencer\\\\Desktop\\\\clean\\\\data\\\\data_with_id\\\\chuck_e_cheese_10_8_2020\"\n",
    "master_df_path = \"C:\\\\Users\\\\Spencer\\\\Desktop\\\\clean\\\\data\\\\data.xlsx\"\n",
    "directory_path = \"C:\\\\Users\\\\Spencer\\\\Box Sync\\\\Scraped\\\\chuck_e_cheese_10_8_2020\"\n",
    "key_col = \"key\"\n",
    "master_df_key_col = \"Phone\"\n",
    "master_df_id_col = \"Company ID\"\n",
    "id_col_name = master_df_id_col\n",
    "add_company_ids(directory_path=directory_path, \n",
    "                master_df_path=master_df_path, \n",
    "                key_col=key_col, \n",
    "                master_df_key_col=master_df_key_col, \n",
    "                master_df_id_col=master_df_id_col, \n",
    "                id_col_name=id_col_name, \n",
    "                output_directory=output_directory)"
   ]
  },
  {
   "cell_type": "code",
   "execution_count": 3,
   "metadata": {},
   "outputs": [
    {
     "output_type": "stream",
     "name": "stdout",
     "text": [
      "51 files found in directory\n"
     ]
    }
   ],
   "source": [
    "output_directory = \"C:\\\\Users\\\\Spencer\\\\Desktop\\\\clean\\\\data\\\\data_with_id\\\\chuck_e_cheese_10_9_2020\"\n",
    "master_df_path = \"C:\\\\Users\\\\Spencer\\\\Desktop\\\\clean\\\\data\\\\data.xlsx\"\n",
    "directory_path = \"C:\\\\Users\\\\Spencer\\\\Box Sync\\\\Scraped\\\\chuck_e_cheese_10_9_2020\"\n",
    "key_col = \"key\"\n",
    "master_df_key_col = \"Phone\"\n",
    "master_df_id_col = \"Company ID\"\n",
    "id_col_name = master_df_id_col\n",
    "add_company_ids(directory_path=directory_path, \n",
    "                master_df_path=master_df_path, \n",
    "                key_col=key_col, \n",
    "                master_df_key_col=master_df_key_col, \n",
    "                master_df_id_col=master_df_id_col, \n",
    "                id_col_name=id_col_name, \n",
    "                output_directory=output_directory)"
   ]
  },
  {
   "cell_type": "code",
   "execution_count": 4,
   "metadata": {},
   "outputs": [
    {
     "output_type": "stream",
     "name": "stdout",
     "text": [
      "68 files found in directory\n"
     ]
    }
   ],
   "source": [
    "output_directory = \"C:\\\\Users\\\\Spencer\\\\Desktop\\\\clean\\\\data\\\\data_with_id\\\\chuck_e_cheese_10_10_2020\"\n",
    "master_df_path = \"C:\\\\Users\\\\Spencer\\\\Desktop\\\\clean\\\\data\\\\data.xlsx\"\n",
    "directory_path = \"C:\\\\Users\\\\Spencer\\\\Box Sync\\\\Scraped\\\\chuck_e_cheese_10_10_2020\"\n",
    "key_col = \"key\"\n",
    "master_df_key_col = \"Phone\"\n",
    "master_df_id_col = \"Company ID\"\n",
    "id_col_name = master_df_id_col\n",
    "add_company_ids(directory_path=directory_path, \n",
    "                master_df_path=master_df_path, \n",
    "                key_col=key_col, \n",
    "                master_df_key_col=master_df_key_col, \n",
    "                master_df_id_col=master_df_id_col, \n",
    "                id_col_name=id_col_name, \n",
    "                output_directory=output_directory)"
   ]
  },
  {
   "cell_type": "code",
   "execution_count": 5,
   "metadata": {},
   "outputs": [
    {
     "output_type": "stream",
     "name": "stdout",
     "text": [
      "98 files found in directory\n"
     ]
    }
   ],
   "source": [
    "output_directory = \"C:\\\\Users\\\\Spencer\\\\Desktop\\\\clean\\\\data\\\\data_with_id\\\\chuck_e_cheese_10_10_2020_2\"\n",
    "master_df_path = \"C:\\\\Users\\\\Spencer\\\\Desktop\\\\clean\\\\data\\\\data.xlsx\"\n",
    "directory_path = \"C:\\\\Users\\\\Spencer\\\\Box Sync\\\\Scraped\\\\chuck_e_cheese_10_10_2020_2\"\n",
    "key_col = \"key\"\n",
    "master_df_key_col = \"Phone\"\n",
    "master_df_id_col = \"Company ID\"\n",
    "id_col_name = master_df_id_col\n",
    "add_company_ids(directory_path=directory_path, \n",
    "                master_df_path=master_df_path, \n",
    "                key_col=key_col, \n",
    "                master_df_key_col=master_df_key_col, \n",
    "                master_df_id_col=master_df_id_col, \n",
    "                id_col_name=id_col_name, \n",
    "                output_directory=output_directory)"
   ]
  },
  {
   "cell_type": "code",
   "execution_count": 6,
   "metadata": {},
   "outputs": [
    {
     "output_type": "stream",
     "name": "stdout",
     "text": [
      "413 files found in directory\n"
     ]
    }
   ],
   "source": [
    "output_directory = \"C:\\\\Users\\\\Spencer\\\\Desktop\\\\clean\\\\data\\\\data_with_id\\\\godfathers_10_25_2020\"\n",
    "master_df_path = \"C:\\\\Users\\\\Spencer\\\\Desktop\\\\clean\\\\data\\\\data.xlsx\"\n",
    "directory_path = \"C:\\\\Users\\\\Spencer\\\\Box Sync\\\\Scraped\\\\godfathers_10_25_2020\"\n",
    "key_col = \"key\"\n",
    "master_df_key_col = \"Phone\"\n",
    "master_df_id_col = \"Company ID\"\n",
    "id_col_name = master_df_id_col\n",
    "add_company_ids(directory_path=directory_path, \n",
    "                master_df_path=master_df_path, \n",
    "                key_col=key_col, \n",
    "                master_df_key_col=master_df_key_col, \n",
    "                master_df_id_col=master_df_id_col, \n",
    "                id_col_name=id_col_name, \n",
    "                output_directory=output_directory)"
   ]
  },
  {
   "cell_type": "code",
   "execution_count": 7,
   "metadata": {},
   "outputs": [
    {
     "output_type": "stream",
     "name": "stdout",
     "text": [
      "1327 files found in directory\n"
     ]
    }
   ],
   "source": [
    "output_directory = \"C:\\\\Users\\\\Spencer\\\\Desktop\\\\clean\\\\data\\\\data_with_id\\\\papa_murphys_10_14_2020\"\n",
    "master_df_path = \"C:\\\\Users\\\\Spencer\\\\Desktop\\\\clean\\\\data\\\\data.xlsx\"\n",
    "directory_path = \"C:\\\\Users\\\\Spencer\\\\Box Sync\\\\Scraped\\\\papa_murphys_10_14_2020\"\n",
    "key_col = \"key\"\n",
    "master_df_key_col = \"Phone\"\n",
    "master_df_id_col = \"Company ID\"\n",
    "id_col_name = master_df_id_col\n",
    "add_company_ids(directory_path=directory_path, \n",
    "                master_df_path=master_df_path, \n",
    "                key_col=key_col, \n",
    "                master_df_key_col=master_df_key_col, \n",
    "                master_df_id_col=master_df_id_col, \n",
    "                id_col_name=id_col_name, \n",
    "                output_directory=output_directory)"
   ]
  },
  {
   "cell_type": "code",
   "execution_count": 8,
   "metadata": {},
   "outputs": [
    {
     "output_type": "stream",
     "name": "stdout",
     "text": [
      "891 files found in directory\n"
     ]
    }
   ],
   "source": [
    "output_directory = \"C:\\\\Users\\\\Spencer\\\\Desktop\\\\clean\\\\data\\\\data_with_id\\\\marcos_pizza_10_23_2020\"\n",
    "master_df_path = \"C:\\\\Users\\\\Spencer\\\\Desktop\\\\clean\\\\data\\\\data.xlsx\"\n",
    "directory_path = \"C:\\\\Users\\\\Spencer\\\\Box Sync\\\\Scraped\\\\marcos_pizza_10_23_2020\"\n",
    "key_col = \"key\"\n",
    "master_df_key_col = \"Phone\"\n",
    "master_df_id_col = \"Company ID\"\n",
    "id_col_name = master_df_id_col\n",
    "add_company_ids(directory_path=directory_path, \n",
    "                master_df_path=master_df_path, \n",
    "                key_col=key_col, \n",
    "                master_df_key_col=master_df_key_col, \n",
    "                master_df_id_col=master_df_id_col, \n",
    "                id_col_name=id_col_name, \n",
    "                output_directory=output_directory)"
   ]
  },
  {
   "cell_type": "code",
   "execution_count": 9,
   "metadata": {},
   "outputs": [
    {
     "output_type": "stream",
     "name": "stdout",
     "text": [
      "413 files found in directory\n"
     ]
    }
   ],
   "source": [
    "output_directory = \"C:\\\\Users\\\\Spencer\\\\Desktop\\\\clean\\\\data\\\\data_with_id\\\\round_table_10_20_2020\"\n",
    "master_df_path = \"C:\\\\Users\\\\Spencer\\\\Desktop\\\\clean\\\\data\\\\data.xlsx\"\n",
    "directory_path = \"C:\\\\Users\\\\Spencer\\\\Box Sync\\\\Scraped\\\\round_table_10_20_2020\"\n",
    "key_col = \"key\"\n",
    "master_df_key_col = \"Phone\"\n",
    "master_df_id_col = \"Company ID\"\n",
    "id_col_name = master_df_id_col\n",
    "add_company_ids(directory_path=directory_path, \n",
    "                master_df_path=master_df_path, \n",
    "                key_col=key_col, \n",
    "                master_df_key_col=master_df_key_col, \n",
    "                master_df_id_col=master_df_id_col, \n",
    "                id_col_name=id_col_name, \n",
    "                output_directory=output_directory)"
   ]
  },
  {
   "cell_type": "code",
   "execution_count": 2,
   "metadata": {},
   "outputs": [
    {
     "output_type": "stream",
     "name": "stdout",
     "text": [
      "384 files found in directory\n"
     ]
    }
   ],
   "source": [
    "output_directory = \"C:\\\\Users\\\\Spencer\\\\Desktop\\\\clean\\\\data\\\\data_with_id\\\\cicis_pizza_10_27_2020\"\n",
    "master_df_path = \"C:\\\\Users\\\\Spencer\\\\Desktop\\\\clean\\\\data\\\\data.xlsx\"\n",
    "directory_path = \"C:\\\\Users\\\\Spencer\\\\Box Sync\\\\Scraped\\\\cicis_pizza_10_27_2020\"\n",
    "key_col = \"key\"\n",
    "master_df_key_col = \"Phone\"\n",
    "master_df_id_col = \"Company ID\"\n",
    "id_col_name = master_df_id_col\n",
    "add_company_ids(directory_path=directory_path, \n",
    "                master_df_path=master_df_path, \n",
    "                key_col=key_col, \n",
    "                master_df_key_col=master_df_key_col, \n",
    "                master_df_id_col=master_df_id_col, \n",
    "                id_col_name=id_col_name, \n",
    "                output_directory=output_directory)"
   ]
  },
  {
   "cell_type": "code",
   "execution_count": 3,
   "metadata": {},
   "outputs": [
    {
     "output_type": "stream",
     "name": "stdout",
     "text": [
      "208 files found in directory\n"
     ]
    }
   ],
   "source": [
    "output_directory = \"C:\\\\Users\\\\Spencer\\\\Desktop\\\\clean\\\\data\\\\data_with_id\\\\foxs_10_28_20\"\n",
    "master_df_path = \"C:\\\\Users\\\\Spencer\\\\Desktop\\\\clean\\\\data\\\\data.xlsx\"\n",
    "directory_path = \"C:\\\\Users\\\\Spencer\\\\Box Sync\\\\Scraped\\\\foxs_10_28_20\"\n",
    "key_col = \"key\"\n",
    "master_df_key_col = \"Phone\"\n",
    "master_df_id_col = \"Company ID\"\n",
    "id_col_name = master_df_id_col\n",
    "add_company_ids(directory_path=directory_path, \n",
    "                master_df_path=master_df_path, \n",
    "                key_col=key_col, \n",
    "                master_df_key_col=master_df_key_col, \n",
    "                master_df_id_col=master_df_id_col, \n",
    "                id_col_name=id_col_name, \n",
    "                output_directory=output_directory)"
   ]
  },
  {
   "cell_type": "code",
   "execution_count": 4,
   "metadata": {},
   "outputs": [
    {
     "output_type": "stream",
     "name": "stdout",
     "text": [
      "598 files found in directory\n"
     ]
    }
   ],
   "source": [
    "output_directory = \"C:\\\\Users\\\\Spencer\\\\Desktop\\\\clean\\\\data\\\\data_with_id\\\\papa_johns_10_22_2020\"\n",
    "master_df_path = \"C:\\\\Users\\\\Spencer\\\\Desktop\\\\clean\\\\data\\\\data.xlsx\"\n",
    "directory_path = \"C:\\\\Users\\\\Spencer\\\\Box Sync\\\\Scraped\\\\papa_johns_10_22_2020\"\n",
    "key_col = \"key\"\n",
    "master_df_key_col = \"Phone\"\n",
    "master_df_id_col = \"Company ID\"\n",
    "id_col_name = master_df_id_col\n",
    "add_company_ids(directory_path=directory_path, \n",
    "                master_df_path=master_df_path, \n",
    "                key_col=key_col, \n",
    "                master_df_key_col=master_df_key_col, \n",
    "                master_df_id_col=master_df_id_col, \n",
    "                id_col_name=id_col_name, \n",
    "                output_directory=output_directory)"
   ]
  },
  {
   "cell_type": "code",
   "execution_count": 5,
   "metadata": {},
   "outputs": [
    {
     "output_type": "stream",
     "name": "stdout",
     "text": [
      "461 files found in directory\n"
     ]
    }
   ],
   "source": [
    "output_directory = \"C:\\\\Users\\\\Spencer\\\\Desktop\\\\clean\\\\data\\\\data_with_id\\\\mod_pizza_10_24_2020\"\n",
    "master_df_path = \"C:\\\\Users\\\\Spencer\\\\Desktop\\\\clean\\\\data\\\\data.xlsx\"\n",
    "directory_path = \"C:\\\\Users\\\\Spencer\\\\Box Sync\\\\Scraped\\\\mod_pizza_10_24_2020\"\n",
    "key_col = \"key\"\n",
    "master_df_key_col = \"Phone\"\n",
    "master_df_id_col = \"Company ID\"\n",
    "id_col_name = master_df_id_col\n",
    "add_company_ids(directory_path=directory_path, \n",
    "                master_df_path=master_df_path, \n",
    "                key_col=key_col, \n",
    "                master_df_key_col=master_df_key_col, \n",
    "                master_df_id_col=master_df_id_col, \n",
    "                id_col_name=id_col_name, \n",
    "                output_directory=output_directory)\n",
    "\n",
    "# THIS IS MISSING A LOT"
   ]
  },
  {
   "cell_type": "code",
   "execution_count": 6,
   "metadata": {},
   "outputs": [
    {
     "output_type": "stream",
     "name": "stdout",
     "text": [
      "384 files found in directory\n"
     ]
    }
   ],
   "source": [
    "output_directory = \"C:\\\\Users\\\\Spencer\\\\Desktop\\\\clean\\\\data\\\\data_with_id\\\\jets_10_28_20\"\n",
    "master_df_path = \"C:\\\\Users\\\\Spencer\\\\Desktop\\\\clean\\\\data\\\\data.xlsx\"\n",
    "directory_path = \"C:\\\\Users\\\\Spencer\\\\Box Sync\\\\Scraped\\\\jets_10_28_20\"\n",
    "key_col = \"key\"\n",
    "master_df_key_col = \"Phone\"\n",
    "master_df_id_col = \"Company ID\"\n",
    "id_col_name = master_df_id_col\n",
    "add_company_ids(directory_path=directory_path, \n",
    "                master_df_path=master_df_path, \n",
    "                key_col=key_col, \n",
    "                master_df_key_col=master_df_key_col, \n",
    "                master_df_id_col=master_df_id_col, \n",
    "                id_col_name=id_col_name, \n",
    "                output_directory=output_directory)"
   ]
  },
  {
   "cell_type": "code",
   "execution_count": 7,
   "metadata": {},
   "outputs": [
    {
     "output_type": "stream",
     "name": "stdout",
     "text": [
      "215 files found in directory\n"
     ]
    }
   ],
   "source": [
    "output_directory = \"C:\\\\Users\\\\Spencer\\\\Desktop\\\\clean\\\\data\\\\data_with_id\\\\rosatis_10_28_20\"\n",
    "master_df_path = \"C:\\\\Users\\\\Spencer\\\\Desktop\\\\clean\\\\data\\\\data.xlsx\"\n",
    "directory_path = \"C:\\\\Users\\\\Spencer\\\\Box Sync\\\\Scraped\\\\rosatis_10_28_20\"\n",
    "key_col = \"key\"\n",
    "master_df_key_col = \"Phone\"\n",
    "master_df_id_col = \"Company ID\"\n",
    "id_col_name = master_df_id_col\n",
    "add_company_ids(directory_path=directory_path, \n",
    "                master_df_path=master_df_path, \n",
    "                key_col=key_col, \n",
    "                master_df_key_col=master_df_key_col, \n",
    "                master_df_id_col=master_df_id_col, \n",
    "                id_col_name=id_col_name, \n",
    "                output_directory=output_directory)"
   ]
  },
  {
   "cell_type": "code",
   "execution_count": 2,
   "metadata": {},
   "outputs": [
    {
     "output_type": "stream",
     "name": "stdout",
     "text": [
      "185 files found in directory\n"
     ]
    }
   ],
   "source": [
    "output_directory = \"C:\\\\Users\\\\Spencer\\\\Desktop\\\\clean\\\\data\\\\data_with_id\\\\mellow_mushroom_11_07_20\"\n",
    "master_df_path = \"C:\\\\Users\\\\Spencer\\\\Desktop\\\\clean\\\\data\\\\data.xlsx\"\n",
    "directory_path = \"C:\\\\Users\\\\Spencer\\\\Box Sync\\\\Scraped\\\\mellow_mushroom_11_07_20\"\n",
    "key_col = \"key\"\n",
    "master_df_key_col = \"Phone\"\n",
    "master_df_id_col = \"Company ID\"\n",
    "id_col_name = master_df_id_col\n",
    "add_company_ids(directory_path=directory_path, \n",
    "                master_df_path=master_df_path, \n",
    "                key_col=key_col, \n",
    "                master_df_key_col=master_df_key_col, \n",
    "                master_df_id_col=master_df_id_col, \n",
    "                id_col_name=id_col_name, \n",
    "                output_directory=output_directory)"
   ]
  },
  {
   "cell_type": "code",
   "execution_count": 3,
   "metadata": {},
   "outputs": [
    {
     "output_type": "stream",
     "name": "stdout",
     "text": [
      "67 files found in directory\n"
     ]
    }
   ],
   "source": [
    "output_directory = \"C:\\\\Users\\\\Spencer\\\\Desktop\\\\clean\\\\data\\\\data_with_id\\\\giordanos_10_30_20\"\n",
    "master_df_path = \"C:\\\\Users\\\\Spencer\\\\Desktop\\\\clean\\\\data\\\\data.xlsx\"\n",
    "directory_path = \"C:\\\\Users\\\\Spencer\\\\Box Sync\\\\Scraped\\\\giordanos_10_30_20\"\n",
    "key_col = \"key\"\n",
    "master_df_key_col = \"Phone\"\n",
    "master_df_id_col = \"Company ID\"\n",
    "id_col_name = master_df_id_col\n",
    "add_company_ids(directory_path=directory_path, \n",
    "                master_df_path=master_df_path, \n",
    "                key_col=key_col, \n",
    "                master_df_key_col=master_df_key_col, \n",
    "                master_df_id_col=master_df_id_col, \n",
    "                id_col_name=id_col_name, \n",
    "                output_directory=output_directory)"
   ]
  },
  {
   "cell_type": "code",
   "execution_count": 2,
   "metadata": {},
   "outputs": [
    {
     "output_type": "stream",
     "name": "stdout",
     "text": [
      "29 files found in directory\n"
     ]
    }
   ],
   "source": [
    "output_directory = \"C:\\\\Users\\\\Spencer\\\\Desktop\\\\clean\\\\data\\\\data_with_id\\\\chanellos_11_2_20\"\n",
    "master_df_path = \"C:\\\\Users\\\\Spencer\\\\Desktop\\\\clean\\\\data\\\\data.xlsx\"\n",
    "directory_path = \"C:\\\\Users\\\\Spencer\\\\Box Sync\\\\Scraped\\\\chanellos_11_2_20\"\n",
    "key_col = \"key\"\n",
    "master_df_key_col = \"Google Link\"\n",
    "master_df_id_col = \"Company ID\"\n",
    "id_col_name = master_df_id_col\n",
    "add_company_ids(directory_path=directory_path, \n",
    "                master_df_path=master_df_path, \n",
    "                key_col=key_col, \n",
    "                master_df_key_col=master_df_key_col, \n",
    "                master_df_id_col=master_df_id_col, \n",
    "                id_col_name=id_col_name, \n",
    "                output_directory=output_directory)"
   ]
  },
  {
   "cell_type": "code",
   "execution_count": 3,
   "metadata": {},
   "outputs": [
    {
     "output_type": "stream",
     "name": "stdout",
     "text": [
      "53 files found in directory\n"
     ]
    }
   ],
   "source": [
    "output_directory = \"C:\\\\Users\\\\Spencer\\\\Desktop\\\\clean\\\\data\\\\data_with_id\\\\cottage_inn_pizza_11_1_20\"\n",
    "master_df_path = \"C:\\\\Users\\\\Spencer\\\\Desktop\\\\clean\\\\data\\\\data.xlsx\"\n",
    "directory_path = \"C:\\\\Users\\\\Spencer\\\\Box Sync\\\\Scraped\\\\cottage_inn_pizza_11_1_20\"\n",
    "key_col = \"key\"\n",
    "master_df_key_col = \"Phone\"\n",
    "master_df_id_col = \"Company ID\"\n",
    "id_col_name = master_df_id_col\n",
    "add_company_ids(directory_path=directory_path, \n",
    "                master_df_path=master_df_path, \n",
    "                key_col=key_col, \n",
    "                master_df_key_col=master_df_key_col, \n",
    "                master_df_id_col=master_df_id_col, \n",
    "                id_col_name=id_col_name, \n",
    "                output_directory=output_directory)"
   ]
  },
  {
   "cell_type": "code",
   "execution_count": 4,
   "metadata": {},
   "outputs": [
    {
     "output_type": "stream",
     "name": "stdout",
     "text": [
      "23 files found in directory\n"
     ]
    }
   ],
   "source": [
    "output_directory = \"C:\\\\Users\\\\Spencer\\\\Desktop\\\\clean\\\\data\\\\data_with_id\\\\deweys_11_2_20\"\n",
    "master_df_path = \"C:\\\\Users\\\\Spencer\\\\Desktop\\\\clean\\\\data\\\\data.xlsx\"\n",
    "directory_path = \"C:\\\\Users\\\\Spencer\\\\Box Sync\\\\Scraped\\\\deweys_11_2_20\"\n",
    "key_col = \"key\"\n",
    "master_df_key_col = \"Phone\"\n",
    "master_df_id_col = \"Company ID\"\n",
    "id_col_name = master_df_id_col\n",
    "add_company_ids(directory_path=directory_path, \n",
    "                master_df_path=master_df_path, \n",
    "                key_col=key_col, \n",
    "                master_df_key_col=master_df_key_col, \n",
    "                master_df_id_col=master_df_id_col, \n",
    "                id_col_name=id_col_name, \n",
    "                output_directory=output_directory)"
   ]
  },
  {
   "cell_type": "code",
   "execution_count": 5,
   "metadata": {},
   "outputs": [
    {
     "output_type": "stream",
     "name": "stdout",
     "text": [
      "36 files found in directory\n"
     ]
    }
   ],
   "source": [
    "output_directory = \"C:\\\\Users\\\\Spencer\\\\Desktop\\\\clean\\\\data\\\\data_with_id\\\\extreme_pizza_11_1_20\"\n",
    "master_df_path = \"C:\\\\Users\\\\Spencer\\\\Desktop\\\\clean\\\\data\\\\data.xlsx\"\n",
    "directory_path = \"C:\\\\Users\\\\Spencer\\\\Box Sync\\\\Scraped\\\\extreme_pizza_11_1_20\"\n",
    "key_col = \"key\"\n",
    "master_df_key_col = \"Phone\"\n",
    "master_df_id_col = \"Company ID\"\n",
    "id_col_name = master_df_id_col\n",
    "add_company_ids(directory_path=directory_path, \n",
    "                master_df_path=master_df_path, \n",
    "                key_col=key_col, \n",
    "                master_df_key_col=master_df_key_col, \n",
    "                master_df_id_col=master_df_id_col, \n",
    "                id_col_name=id_col_name, \n",
    "                output_directory=output_directory)"
   ]
  },
  {
   "cell_type": "code",
   "execution_count": 6,
   "metadata": {},
   "outputs": [
    {
     "output_type": "stream",
     "name": "stdout",
     "text": [
      "31 files found in directory\n"
     ]
    }
   ],
   "source": [
    "output_directory = \"C:\\\\Users\\\\Spencer\\\\Desktop\\\\clean\\\\data\\\\data_with_id\\\\figaros_pizza_11_2_20\"\n",
    "master_df_path = \"C:\\\\Users\\\\Spencer\\\\Desktop\\\\clean\\\\data\\\\data.xlsx\"\n",
    "directory_path = \"C:\\\\Users\\\\Spencer\\\\Box Sync\\\\Scraped\\\\figaros_pizza_11_2_20\"\n",
    "key_col = \"key\"\n",
    "master_df_key_col = \"Phone\"\n",
    "master_df_id_col = \"Company ID\"\n",
    "id_col_name = master_df_id_col\n",
    "add_company_ids(directory_path=directory_path, \n",
    "                master_df_path=master_df_path, \n",
    "                key_col=key_col, \n",
    "                master_df_key_col=master_df_key_col, \n",
    "                master_df_id_col=master_df_id_col, \n",
    "                id_col_name=id_col_name, \n",
    "                output_directory=output_directory)"
   ]
  },
  {
   "cell_type": "code",
   "execution_count": 7,
   "metadata": {},
   "outputs": [
    {
     "output_type": "stream",
     "name": "stdout",
     "text": [
      "83 files found in directory\n"
     ]
    }
   ],
   "source": [
    "output_directory = \"C:\\\\Users\\\\Spencer\\\\Desktop\\\\clean\\\\data\\\\data_with_id\\\\dangelo_10_30_2020\"\n",
    "master_df_path = \"C:\\\\Users\\\\Spencer\\\\Desktop\\\\clean\\\\data\\\\data.xlsx\"\n",
    "directory_path = \"C:\\\\Users\\\\Spencer\\\\Box Sync\\\\Scraped\\\\dangelo_10_30_2020\"\n",
    "key_col = \"key\"\n",
    "master_df_key_col = \"Phone\"\n",
    "master_df_id_col = \"Company ID\"\n",
    "id_col_name = master_df_id_col\n",
    "add_company_ids(directory_path=directory_path, \n",
    "                master_df_path=master_df_path, \n",
    "                key_col=key_col, \n",
    "                master_df_key_col=master_df_key_col, \n",
    "                master_df_id_col=master_df_id_col, \n",
    "                id_col_name=id_col_name, \n",
    "                output_directory=output_directory)"
   ]
  },
  {
   "cell_type": "code",
   "execution_count": 8,
   "metadata": {},
   "outputs": [
    {
     "output_type": "stream",
     "name": "stdout",
     "text": [
      "100 files found in directory\n"
     ]
    }
   ],
   "source": [
    "output_directory = \"C:\\\\Users\\\\Spencer\\\\Desktop\\\\clean\\\\data\\\\data_with_id\\\\leto_10_29_20\"\n",
    "master_df_path = \"C:\\\\Users\\\\Spencer\\\\Desktop\\\\clean\\\\data\\\\data.xlsx\"\n",
    "directory_path = \"C:\\\\Users\\\\Spencer\\\\Box Sync\\\\Scraped\\\\leto_10_29_20\"\n",
    "key_col = \"key\"\n",
    "master_df_key_col = \"Phone\"\n",
    "master_df_id_col = \"Company ID\"\n",
    "id_col_name = master_df_id_col\n",
    "add_company_ids(directory_path=directory_path, \n",
    "                master_df_path=master_df_path, \n",
    "                key_col=key_col, \n",
    "                master_df_key_col=master_df_key_col, \n",
    "                master_df_id_col=master_df_id_col, \n",
    "                id_col_name=id_col_name, \n",
    "                output_directory=output_directory)"
   ]
  },
  {
   "cell_type": "code",
   "execution_count": 9,
   "metadata": {},
   "outputs": [
    {
     "output_type": "stream",
     "name": "stdout",
     "text": [
      "83 files found in directory\n"
     ]
    }
   ],
   "source": [
    "output_directory = \"C:\\\\Users\\\\Spencer\\\\Desktop\\\\clean\\\\data\\\\data_with_id\\\\old_chicago_10_30_20\"\n",
    "master_df_path = \"C:\\\\Users\\\\Spencer\\\\Desktop\\\\clean\\\\data\\\\data.xlsx\"\n",
    "directory_path = \"C:\\\\Users\\\\Spencer\\\\Box Sync\\\\Scraped\\\\old_chicago_10_30_20\"\n",
    "key_col = \"key\"\n",
    "master_df_key_col = \"Phone\"\n",
    "master_df_id_col = \"Company ID\"\n",
    "id_col_name = master_df_id_col\n",
    "add_company_ids(directory_path=directory_path, \n",
    "                master_df_path=master_df_path, \n",
    "                key_col=key_col, \n",
    "                master_df_key_col=master_df_key_col, \n",
    "                master_df_id_col=master_df_id_col, \n",
    "                id_col_name=id_col_name, \n",
    "                output_directory=output_directory)"
   ]
  },
  {
   "cell_type": "code",
   "execution_count": 10,
   "metadata": {},
   "outputs": [
    {
     "output_type": "stream",
     "name": "stdout",
     "text": [
      "62 files found in directory\n"
     ]
    }
   ],
   "source": [
    "output_directory = \"C:\\\\Users\\\\Spencer\\\\Desktop\\\\clean\\\\data\\\\data_with_id\\\\monicals_10_31_20\"\n",
    "master_df_path = \"C:\\\\Users\\\\Spencer\\\\Desktop\\\\clean\\\\data\\\\data.xlsx\"\n",
    "directory_path = \"C:\\\\Users\\\\Spencer\\\\Box Sync\\\\Scraped\\\\monicals_10_31_20\"\n",
    "key_col = \"key\"\n",
    "master_df_key_col = \"Phone\"\n",
    "master_df_id_col = \"Company ID\"\n",
    "id_col_name = master_df_id_col\n",
    "add_company_ids(directory_path=directory_path, \n",
    "                master_df_path=master_df_path, \n",
    "                key_col=key_col, \n",
    "                master_df_key_col=master_df_key_col, \n",
    "                master_df_id_col=master_df_id_col, \n",
    "                id_col_name=id_col_name, \n",
    "                output_directory=output_directory)"
   ]
  },
  {
   "cell_type": "code",
   "execution_count": 11,
   "metadata": {},
   "outputs": [
    {
     "output_type": "stream",
     "name": "stdout",
     "text": [
      "65 files found in directory\n"
     ]
    }
   ],
   "source": [
    "output_directory = \"C:\\\\Users\\\\Spencer\\\\Desktop\\\\clean\\\\data\\\\data_with_id\\\\larosas_10_31_20\"\n",
    "master_df_path = \"C:\\\\Users\\\\Spencer\\\\Desktop\\\\clean\\\\data\\\\data.xlsx\"\n",
    "directory_path = \"C:\\\\Users\\\\Spencer\\\\Box Sync\\\\Scraped\\\\larosas_10_31_20\"\n",
    "key_col = \"key\"\n",
    "master_df_key_col = \"Google Link\"\n",
    "master_df_id_col = \"Company ID\"\n",
    "id_col_name = master_df_id_col\n",
    "add_company_ids(directory_path=directory_path, \n",
    "                master_df_path=master_df_path, \n",
    "                key_col=key_col, \n",
    "                master_df_key_col=master_df_key_col, \n",
    "                master_df_id_col=master_df_id_col, \n",
    "                id_col_name=id_col_name, \n",
    "                output_directory=output_directory)"
   ]
  },
  {
   "cell_type": "code",
   "execution_count": 12,
   "metadata": {},
   "outputs": [
    {
     "output_type": "stream",
     "name": "stdout",
     "text": [
      "87 files found in directory\n"
     ]
    }
   ],
   "source": [
    "output_directory = \"C:\\\\Users\\\\Spencer\\\\Desktop\\\\clean\\\\data\\\\data_with_id\\\\papa_ginos_10_30_20\"\n",
    "master_df_path = \"C:\\\\Users\\\\Spencer\\\\Desktop\\\\clean\\\\data\\\\data.xlsx\"\n",
    "directory_path = \"C:\\\\Users\\\\Spencer\\\\Box Sync\\\\Scraped\\\\papa_ginos_10_30_20\"\n",
    "key_col = \"key\"\n",
    "master_df_key_col = \"Phone\"\n",
    "master_df_id_col = \"Company ID\"\n",
    "id_col_name = master_df_id_col\n",
    "add_company_ids(directory_path=directory_path, \n",
    "                master_df_path=master_df_path, \n",
    "                key_col=key_col, \n",
    "                master_df_key_col=master_df_key_col, \n",
    "                master_df_id_col=master_df_id_col, \n",
    "                id_col_name=id_col_name, \n",
    "                output_directory=output_directory)"
   ]
  },
  {
   "cell_type": "code",
   "execution_count": 13,
   "metadata": {},
   "outputs": [
    {
     "output_type": "stream",
     "name": "stdout",
     "text": [
      "210 files found in directory\n"
     ]
    }
   ],
   "source": [
    "output_directory = \"C:\\\\Users\\\\Spencer\\\\Desktop\\\\clean\\\\data\\\\data_with_id\\\\mountain_mikes_10_28_20\"\n",
    "master_df_path = \"C:\\\\Users\\\\Spencer\\\\Desktop\\\\clean\\\\data\\\\data.xlsx\"\n",
    "directory_path = \"C:\\\\Users\\\\Spencer\\\\Box Sync\\\\Scraped\\\\mountain_mikes_10_28_20\"\n",
    "key_col = \"key\"\n",
    "master_df_key_col = \"Phone\"\n",
    "master_df_id_col = \"Company ID\"\n",
    "id_col_name = master_df_id_col\n",
    "add_company_ids(directory_path=directory_path, \n",
    "                master_df_path=master_df_path, \n",
    "                key_col=key_col, \n",
    "                master_df_key_col=master_df_key_col, \n",
    "                master_df_id_col=master_df_id_col, \n",
    "                id_col_name=id_col_name, \n",
    "                output_directory=output_directory)"
   ]
  },
  {
   "cell_type": "code",
   "execution_count": 14,
   "metadata": {},
   "outputs": [
    {
     "output_type": "stream",
     "name": "stdout",
     "text": [
      "33 files found in directory\n"
     ]
    }
   ],
   "source": [
    "output_directory = \"C:\\\\Users\\\\Spencer\\\\Desktop\\\\clean\\\\data\\\\data_with_id\\\\paisanos_11_2_20\"\n",
    "master_df_path = \"C:\\\\Users\\\\Spencer\\\\Desktop\\\\clean\\\\data\\\\data.xlsx\"\n",
    "directory_path = \"C:\\\\Users\\\\Spencer\\\\Box Sync\\\\Scraped\\\\paisanos_11_2_20\"\n",
    "key_col = \"key\"\n",
    "master_df_key_col = \"Phone\"\n",
    "master_df_id_col = \"Company ID\"\n",
    "id_col_name = master_df_id_col\n",
    "add_company_ids(directory_path=directory_path, \n",
    "                master_df_path=master_df_path, \n",
    "                key_col=key_col, \n",
    "                master_df_key_col=master_df_key_col, \n",
    "                master_df_id_col=master_df_id_col, \n",
    "                id_col_name=id_col_name, \n",
    "                output_directory=output_directory)"
   ]
  },
  {
   "cell_type": "code",
   "execution_count": 15,
   "metadata": {},
   "outputs": [
    {
     "output_type": "stream",
     "name": "stdout",
     "text": [
      "54 files found in directory\n"
     ]
    }
   ],
   "source": [
    "output_directory = \"C:\\\\Users\\\\Spencer\\\\Desktop\\\\clean\\\\data\\\\data_with_id\\\\pie_five_10_31_20\"\n",
    "master_df_path = \"C:\\\\Users\\\\Spencer\\\\Desktop\\\\clean\\\\data\\\\data.xlsx\"\n",
    "directory_path = \"C:\\\\Users\\\\Spencer\\\\Box Sync\\\\Scraped\\\\pie_five_10_31_20\"\n",
    "key_col = \"key\"\n",
    "master_df_key_col = \"Phone\"\n",
    "master_df_id_col = \"Company ID\"\n",
    "id_col_name = master_df_id_col\n",
    "add_company_ids(directory_path=directory_path, \n",
    "                master_df_path=master_df_path, \n",
    "                key_col=key_col, \n",
    "                master_df_key_col=master_df_key_col, \n",
    "                master_df_id_col=master_df_id_col, \n",
    "                id_col_name=id_col_name, \n",
    "                output_directory=output_directory)"
   ]
  },
  {
   "cell_type": "code",
   "execution_count": 16,
   "metadata": {},
   "outputs": [
    {
     "output_type": "stream",
     "name": "stdout",
     "text": [
      "29 files found in directory\n"
     ]
    }
   ],
   "source": [
    "output_directory = \"C:\\\\Users\\\\Spencer\\\\Desktop\\\\clean\\\\data\\\\data_with_id\\\\brixx_11_2_20\"\n",
    "master_df_path = \"C:\\\\Users\\\\Spencer\\\\Desktop\\\\clean\\\\data\\\\data.xlsx\"\n",
    "directory_path = \"C:\\\\Users\\\\Spencer\\\\Box Sync\\\\Scraped\\\\brixx_11_2_20\"\n",
    "key_col = \"key\"\n",
    "master_df_key_col = \"Phone\"\n",
    "master_df_id_col = \"Company ID\"\n",
    "id_col_name = master_df_id_col\n",
    "add_company_ids(directory_path=directory_path, \n",
    "                master_df_path=master_df_path, \n",
    "                key_col=key_col, \n",
    "                master_df_key_col=master_df_key_col, \n",
    "                master_df_id_col=master_df_id_col, \n",
    "                id_col_name=id_col_name, \n",
    "                output_directory=output_directory)"
   ]
  },
  {
   "cell_type": "code",
   "execution_count": 17,
   "metadata": {},
   "outputs": [
    {
     "output_type": "stream",
     "name": "stdout",
     "text": [
      "14 files found in directory\n"
     ]
    }
   ],
   "source": [
    "output_directory = \"C:\\\\Users\\\\Spencer\\\\Desktop\\\\clean\\\\data\\\\data_with_id\\\\green_leafs_11_2_20\"\n",
    "master_df_path = \"C:\\\\Users\\\\Spencer\\\\Desktop\\\\clean\\\\data\\\\data.xlsx\"\n",
    "directory_path = \"C:\\\\Users\\\\Spencer\\\\Box Sync\\\\Scraped\\\\green_leafs_11_2_20\"\n",
    "key_col = \"key\"\n",
    "master_df_key_col = \"Phone\"\n",
    "master_df_id_col = \"Company ID\"\n",
    "id_col_name = master_df_id_col\n",
    "add_company_ids(directory_path=directory_path, \n",
    "                master_df_path=master_df_path, \n",
    "                key_col=key_col, \n",
    "                master_df_key_col=master_df_key_col, \n",
    "                master_df_id_col=master_df_id_col, \n",
    "                id_col_name=id_col_name, \n",
    "                output_directory=output_directory)"
   ]
  },
  {
   "cell_type": "code",
   "execution_count": 18,
   "metadata": {},
   "outputs": [
    {
     "output_type": "stream",
     "name": "stdout",
     "text": [
      "2375 files found in directory\n"
     ]
    }
   ],
   "source": [
    "output_directory = \"C:\\\\Users\\\\Spencer\\\\Desktop\\\\clean\\\\data\\\\data_with_id\\\\papa_johns_10_21_2020\"\n",
    "master_df_path = \"C:\\\\Users\\\\Spencer\\\\Desktop\\\\clean\\\\data\\\\data.xlsx\"\n",
    "directory_path = \"C:\\\\Users\\\\Spencer\\\\Box Sync\\\\Scraped\\\\papa_johns_10_21_2020\"\n",
    "key_col = \"key\"\n",
    "master_df_key_col = \"Phone\"\n",
    "master_df_id_col = \"Company ID\"\n",
    "id_col_name = master_df_id_col\n",
    "add_company_ids(directory_path=directory_path, \n",
    "                master_df_path=master_df_path, \n",
    "                key_col=key_col, \n",
    "                master_df_key_col=master_df_key_col, \n",
    "                master_df_id_col=master_df_id_col, \n",
    "                id_col_name=id_col_name, \n",
    "                output_directory=output_directory)"
   ]
  },
  {
   "cell_type": "code",
   "execution_count": 19,
   "metadata": {},
   "outputs": [
    {
     "output_type": "stream",
     "name": "stdout",
     "text": [
      "102 files found in directory\n"
     ]
    }
   ],
   "source": [
    "output_directory = \"C:\\\\Users\\\\Spencer\\\\Desktop\\\\clean\\\\data\\\\data_with_id\\\\pizza_factory_10_29_20\"\n",
    "master_df_path = \"C:\\\\Users\\\\Spencer\\\\Desktop\\\\clean\\\\data\\\\data.xlsx\"\n",
    "directory_path = \"C:\\\\Users\\\\Spencer\\\\Box Sync\\\\Scraped\\\\pizza_factory_10_29_20\"\n",
    "key_col = \"key\"\n",
    "master_df_key_col = \"Phone\"\n",
    "master_df_id_col = \"Company ID\"\n",
    "id_col_name = master_df_id_col\n",
    "add_company_ids(directory_path=directory_path, \n",
    "                master_df_path=master_df_path, \n",
    "                key_col=key_col, \n",
    "                master_df_key_col=master_df_key_col, \n",
    "                master_df_id_col=master_df_id_col, \n",
    "                id_col_name=id_col_name, \n",
    "                output_directory=output_directory)"
   ]
  },
  {
   "cell_type": "code",
   "execution_count": 20,
   "metadata": {},
   "outputs": [
    {
     "output_type": "stream",
     "name": "stdout",
     "text": [
      "79 files found in directory\n"
     ]
    }
   ],
   "source": [
    "output_directory = \"C:\\\\Users\\\\Spencer\\\\Desktop\\\\clean\\\\data\\\\data_with_id\\\\pizza_boli_10_30_20\"\n",
    "master_df_path = \"C:\\\\Users\\\\Spencer\\\\Desktop\\\\clean\\\\data\\\\data.xlsx\"\n",
    "directory_path = \"C:\\\\Users\\\\Spencer\\\\Box Sync\\\\Scraped\\\\pizza_boli_10_30_20\"\n",
    "key_col = \"key\"\n",
    "master_df_key_col = \"Phone\"\n",
    "master_df_id_col = \"Company ID\"\n",
    "id_col_name = master_df_id_col\n",
    "add_company_ids(directory_path=directory_path, \n",
    "                master_df_path=master_df_path, \n",
    "                key_col=key_col, \n",
    "                master_df_key_col=master_df_key_col, \n",
    "                master_df_id_col=master_df_id_col, \n",
    "                id_col_name=id_col_name, \n",
    "                output_directory=output_directory)"
   ]
  },
  {
   "cell_type": "code",
   "execution_count": 21,
   "metadata": {},
   "outputs": [
    {
     "output_type": "stream",
     "name": "stdout",
     "text": [
      "60 files found in directory\n"
     ]
    }
   ],
   "source": [
    "output_directory = \"C:\\\\Users\\\\Spencer\\\\Desktop\\\\clean\\\\data\\\\data_with_id\\\\gattis_10_31_20\"\n",
    "master_df_path = \"C:\\\\Users\\\\Spencer\\\\Desktop\\\\clean\\\\data\\\\data.xlsx\"\n",
    "directory_path = \"C:\\\\Users\\\\Spencer\\\\Box Sync\\\\Scraped\\\\gattis_10_31_20\"\n",
    "key_col = \"key\"\n",
    "master_df_key_col = \"Google Link\"\n",
    "master_df_id_col = \"Company ID\"\n",
    "id_col_name = master_df_id_col\n",
    "add_company_ids(directory_path=directory_path, \n",
    "                master_df_path=master_df_path, \n",
    "                key_col=key_col, \n",
    "                master_df_key_col=master_df_key_col, \n",
    "                master_df_id_col=master_df_id_col, \n",
    "                id_col_name=id_col_name, \n",
    "                output_directory=output_directory)"
   ]
  },
  {
   "cell_type": "code",
   "execution_count": 22,
   "metadata": {},
   "outputs": [
    {
     "output_type": "stream",
     "name": "stdout",
     "text": [
      "50 files found in directory\n"
     ]
    }
   ],
   "source": [
    "output_directory = \"C:\\\\Users\\\\Spencer\\\\Desktop\\\\clean\\\\data\\\\data_with_id\\\\johnnys_new_york_style_pizzeria_11_1_20\"\n",
    "master_df_path = \"C:\\\\Users\\\\Spencer\\\\Desktop\\\\clean\\\\data\\\\data.xlsx\"\n",
    "directory_path = \"C:\\\\Users\\\\Spencer\\\\Box Sync\\\\Scraped\\\\johnnys_new_york_style_pizzeria_11_1_20\"\n",
    "key_col = \"key\"\n",
    "master_df_key_col = \"Phone\"\n",
    "master_df_id_col = \"Company ID\"\n",
    "id_col_name = master_df_id_col\n",
    "add_company_ids(directory_path=directory_path, \n",
    "                master_df_path=master_df_path, \n",
    "                key_col=key_col, \n",
    "                master_df_key_col=master_df_key_col, \n",
    "                master_df_id_col=master_df_id_col, \n",
    "                id_col_name=id_col_name, \n",
    "                output_directory=output_directory)"
   ]
  },
  {
   "cell_type": "code",
   "execution_count": 23,
   "metadata": {},
   "outputs": [
    {
     "output_type": "stream",
     "name": "stdout",
     "text": [
      "38 files found in directory\n"
     ]
    }
   ],
   "source": [
    "output_directory = \"C:\\\\Users\\\\Spencer\\\\Desktop\\\\clean\\\\data\\\\data_with_id\\\\lou_malnatis_pizzeria_11_1_20_part2\"\n",
    "master_df_path = \"C:\\\\Users\\\\Spencer\\\\Desktop\\\\clean\\\\data\\\\data.xlsx\"\n",
    "directory_path = \"C:\\\\Users\\\\Spencer\\\\Box Sync\\\\Scraped\\\\lou_malnatis_pizzeria_11_1_20_part2\"\n",
    "key_col = \"key\"\n",
    "master_df_key_col = \"Phone\"\n",
    "master_df_id_col = \"Company ID\"\n",
    "id_col_name = master_df_id_col\n",
    "add_company_ids(directory_path=directory_path, \n",
    "                master_df_path=master_df_path, \n",
    "                key_col=key_col, \n",
    "                master_df_key_col=master_df_key_col, \n",
    "                master_df_id_col=master_df_id_col, \n",
    "                id_col_name=id_col_name, \n",
    "                output_directory=output_directory)"
   ]
  },
  {
   "cell_type": "code",
   "execution_count": 24,
   "metadata": {},
   "outputs": [
    {
     "output_type": "stream",
     "name": "stdout",
     "text": [
      "98 files found in directory\n"
     ]
    }
   ],
   "source": [
    "output_directory = \"C:\\\\Users\\\\Spencer\\\\Desktop\\\\clean\\\\data\\\\data_with_id\\\\peter_piper_pizza_10_29_20\"\n",
    "master_df_path = \"C:\\\\Users\\\\Spencer\\\\Desktop\\\\clean\\\\data\\\\data.xlsx\"\n",
    "directory_path = \"C:\\\\Users\\\\Spencer\\\\Box Sync\\\\Scraped\\\\peter_piper_pizza_10_29_20\"\n",
    "key_col = \"key\"\n",
    "master_df_key_col = \"Phone\"\n",
    "master_df_id_col = \"Company ID\"\n",
    "id_col_name = master_df_id_col\n",
    "add_company_ids(directory_path=directory_path, \n",
    "                master_df_path=master_df_path, \n",
    "                key_col=key_col, \n",
    "                master_df_key_col=master_df_key_col, \n",
    "                master_df_id_col=master_df_id_col, \n",
    "                id_col_name=id_col_name, \n",
    "                output_directory=output_directory)"
   ]
  },
  {
   "cell_type": "code",
   "execution_count": 25,
   "metadata": {},
   "outputs": [
    {
     "output_type": "stream",
     "name": "stdout",
     "text": [
      "66 files found in directory\n"
     ]
    }
   ],
   "source": [
    "output_directory = \"C:\\\\Users\\\\Spencer\\\\Desktop\\\\clean\\\\data\\\\data_with_id\\\\pizza_guys_10_31_20\"\n",
    "master_df_path = \"C:\\\\Users\\\\Spencer\\\\Desktop\\\\clean\\\\data\\\\data.xlsx\"\n",
    "directory_path = \"C:\\\\Users\\\\Spencer\\\\Box Sync\\\\Scraped\\\\pizza_guys_10_31_20\"\n",
    "key_col = \"key\"\n",
    "master_df_key_col = \"Phone\"\n",
    "master_df_id_col = \"Company ID\"\n",
    "id_col_name = master_df_id_col\n",
    "add_company_ids(directory_path=directory_path, \n",
    "                master_df_path=master_df_path, \n",
    "                key_col=key_col, \n",
    "                master_df_key_col=master_df_key_col, \n",
    "                master_df_id_col=master_df_id_col, \n",
    "                id_col_name=id_col_name, \n",
    "                output_directory=output_directory)"
   ]
  },
  {
   "cell_type": "code",
   "execution_count": 27,
   "metadata": {},
   "outputs": [
    {
     "output_type": "stream",
     "name": "stdout",
     "text": [
      "248 files found in directory\n"
     ]
    }
   ],
   "source": [
    "output_directory = \"C:\\\\Users\\\\Spencer\\\\Desktop\\\\clean\\\\data\\\\data_with_id\\\\pizza_hut_9_30_2020\"\n",
    "master_df_path = \"C:\\\\Users\\\\Spencer\\\\Desktop\\\\clean\\\\data\\\\data.xlsx\"\n",
    "directory_path = \"C:\\\\Users\\\\Spencer\\\\Box Sync\\\\Scraped\\\\pizza_hut_9_30_2020\"\n",
    "key_col = \"key\"\n",
    "master_df_key_col = \"Company ID\"\n",
    "master_df_id_col = \"Company ID\"\n",
    "id_col_name = master_df_id_col\n",
    "add_company_ids(directory_path=directory_path, \n",
    "                master_df_path=master_df_path, \n",
    "                key_col=key_col, \n",
    "                master_df_key_col=master_df_key_col, \n",
    "                master_df_id_col=master_df_id_col, \n",
    "                id_col_name=id_col_name, \n",
    "                output_directory=output_directory)"
   ]
  },
  {
   "cell_type": "code",
   "execution_count": 40,
   "metadata": {},
   "outputs": [
    {
     "output_type": "stream",
     "name": "stdout",
     "text": [
      "452 files found in directory\n"
     ]
    }
   ],
   "source": [
    "output_directory = \"C:\\\\Users\\\\Spencer\\\\Desktop\\\\clean\\\\data\\\\data_with_id\\\\pizza_hut_10_1_2020\"\n",
    "master_df_path = \"C:\\\\Users\\\\Spencer\\\\Desktop\\\\clean\\\\data\\\\data.xlsx\"\n",
    "directory_path = \"C:\\\\Users\\\\Spencer\\\\Box Sync\\\\Scraped\\\\pizza_hut_10_1_2020\"\n",
    "key_col = \"key\"\n",
    "master_df_key_col = \"Company ID\"\n",
    "master_df_id_col = \"Company ID\"\n",
    "id_col_name = master_df_id_col\n",
    "add_company_ids(directory_path=directory_path, \n",
    "                master_df_path=master_df_path, \n",
    "                key_col=key_col, \n",
    "                master_df_key_col=master_df_key_col, \n",
    "                master_df_id_col=master_df_id_col, \n",
    "                id_col_name=id_col_name, \n",
    "                output_directory=output_directory)"
   ]
  },
  {
   "cell_type": "code",
   "execution_count": 41,
   "metadata": {},
   "outputs": [
    {
     "output_type": "stream",
     "name": "stdout",
     "text": [
      "440 files found in directory\n"
     ]
    }
   ],
   "source": [
    "output_directory = \"C:\\\\Users\\\\Spencer\\\\Desktop\\\\clean\\\\data\\\\data_with_id\\\\pizza_hut_10_1_2020_2\"\n",
    "master_df_path = \"C:\\\\Users\\\\Spencer\\\\Desktop\\\\clean\\\\data\\\\data.xlsx\"\n",
    "directory_path = \"C:\\\\Users\\\\Spencer\\\\Box Sync\\\\Scraped\\\\pizza_hut_10_1_2020_2\"\n",
    "key_col = \"key\"\n",
    "master_df_key_col = \"Company ID\"\n",
    "master_df_id_col = \"Company ID\"\n",
    "id_col_name = master_df_id_col\n",
    "add_company_ids(directory_path=directory_path, \n",
    "                master_df_path=master_df_path, \n",
    "                key_col=key_col, \n",
    "                master_df_key_col=master_df_key_col, \n",
    "                master_df_id_col=master_df_id_col, \n",
    "                id_col_name=id_col_name, \n",
    "                output_directory=output_directory)"
   ]
  },
  {
   "cell_type": "code",
   "execution_count": 42,
   "metadata": {},
   "outputs": [
    {
     "output_type": "stream",
     "name": "stdout",
     "text": [
      "454 files found in directory\n"
     ]
    }
   ],
   "source": [
    "output_directory = \"C:\\\\Users\\\\Spencer\\\\Desktop\\\\clean\\\\data\\\\data_with_id\\\\pizza_hut_10_2_2020\"\n",
    "master_df_path = \"C:\\\\Users\\\\Spencer\\\\Desktop\\\\clean\\\\data\\\\data.xlsx\"\n",
    "directory_path = \"C:\\\\Users\\\\Spencer\\\\Box Sync\\\\Scraped\\\\pizza_hut_10_2_2020\"\n",
    "key_col = \"key\"\n",
    "master_df_key_col = \"Company ID\"\n",
    "master_df_id_col = \"Company ID\"\n",
    "id_col_name = master_df_id_col\n",
    "add_company_ids(directory_path=directory_path, \n",
    "                master_df_path=master_df_path, \n",
    "                key_col=key_col, \n",
    "                master_df_key_col=master_df_key_col, \n",
    "                master_df_id_col=master_df_id_col, \n",
    "                id_col_name=id_col_name, \n",
    "                output_directory=output_directory)"
   ]
  },
  {
   "cell_type": "code",
   "execution_count": 43,
   "metadata": {},
   "outputs": [
    {
     "output_type": "stream",
     "name": "stdout",
     "text": [
      "467 files found in directory\n"
     ]
    }
   ],
   "source": [
    "output_directory = \"C:\\\\Users\\\\Spencer\\\\Desktop\\\\clean\\\\data\\\\data_with_id\\\\pizza_hut_10_5_2020\"\n",
    "master_df_path = \"C:\\\\Users\\\\Spencer\\\\Desktop\\\\clean\\\\data\\\\data.xlsx\"\n",
    "directory_path = \"C:\\\\Users\\\\Spencer\\\\Box Sync\\\\Scraped\\\\pizza_hut_10_5_2020\"\n",
    "key_col = \"key\"\n",
    "master_df_key_col = \"Company ID\"\n",
    "master_df_id_col = \"Company ID\"\n",
    "id_col_name = master_df_id_col\n",
    "add_company_ids(directory_path=directory_path, \n",
    "                master_df_path=master_df_path, \n",
    "                key_col=key_col, \n",
    "                master_df_key_col=master_df_key_col, \n",
    "                master_df_id_col=master_df_id_col, \n",
    "                id_col_name=id_col_name, \n",
    "                output_directory=output_directory)"
   ]
  },
  {
   "cell_type": "code",
   "execution_count": 44,
   "metadata": {},
   "outputs": [
    {
     "output_type": "stream",
     "name": "stdout",
     "text": [
      "454 files found in directory\n"
     ]
    }
   ],
   "source": [
    "output_directory = \"C:\\\\Users\\\\Spencer\\\\Desktop\\\\clean\\\\data\\\\data_with_id\\\\pizza_hut_10_5_2020_2\"\n",
    "master_df_path = \"C:\\\\Users\\\\Spencer\\\\Desktop\\\\clean\\\\data\\\\data.xlsx\"\n",
    "directory_path = \"C:\\\\Users\\\\Spencer\\\\Box Sync\\\\Scraped\\\\pizza_hut_10_5_2020_2\"\n",
    "key_col = \"key\"\n",
    "master_df_key_col = \"Company ID\"\n",
    "master_df_id_col = \"Company ID\"\n",
    "id_col_name = master_df_id_col\n",
    "add_company_ids(directory_path=directory_path, \n",
    "                master_df_path=master_df_path, \n",
    "                key_col=key_col, \n",
    "                master_df_key_col=master_df_key_col, \n",
    "                master_df_id_col=master_df_id_col, \n",
    "                id_col_name=id_col_name, \n",
    "                output_directory=output_directory)"
   ]
  },
  {
   "cell_type": "code",
   "execution_count": 45,
   "metadata": {},
   "outputs": [
    {
     "output_type": "stream",
     "name": "stdout",
     "text": [
      "474 files found in directory\n"
     ]
    }
   ],
   "source": [
    "output_directory = \"C:\\\\Users\\\\Spencer\\\\Desktop\\\\clean\\\\data\\\\data_with_id\\\\pizza_hut_10_6_2020\"\n",
    "master_df_path = \"C:\\\\Users\\\\Spencer\\\\Desktop\\\\clean\\\\data\\\\data.xlsx\"\n",
    "directory_path = \"C:\\\\Users\\\\Spencer\\\\Box Sync\\\\Scraped\\\\pizza_hut_10_6_2020\"\n",
    "key_col = \"key\"\n",
    "master_df_key_col = \"Company ID\"\n",
    "master_df_id_col = \"Company ID\"\n",
    "id_col_name = master_df_id_col\n",
    "add_company_ids(directory_path=directory_path, \n",
    "                master_df_path=master_df_path, \n",
    "                key_col=key_col, \n",
    "                master_df_key_col=master_df_key_col, \n",
    "                master_df_id_col=master_df_id_col, \n",
    "                id_col_name=id_col_name, \n",
    "                output_directory=output_directory)"
   ]
  },
  {
   "cell_type": "code",
   "execution_count": 46,
   "metadata": {},
   "outputs": [
    {
     "output_type": "stream",
     "name": "stdout",
     "text": [
      "476 files found in directory\n"
     ]
    }
   ],
   "source": [
    "output_directory = \"C:\\\\Users\\\\Spencer\\\\Desktop\\\\clean\\\\data\\\\data_with_id\\\\pizza_hut_10_6_2020_2\"\n",
    "master_df_path = \"C:\\\\Users\\\\Spencer\\\\Desktop\\\\clean\\\\data\\\\data.xlsx\"\n",
    "directory_path = \"C:\\\\Users\\\\Spencer\\\\Box Sync\\\\Scraped\\\\pizza_hut_10_6_2020_2\"\n",
    "key_col = \"key\"\n",
    "master_df_key_col = \"Company ID\"\n",
    "master_df_id_col = \"Company ID\"\n",
    "id_col_name = master_df_id_col\n",
    "add_company_ids(directory_path=directory_path, \n",
    "                master_df_path=master_df_path, \n",
    "                key_col=key_col, \n",
    "                master_df_key_col=master_df_key_col, \n",
    "                master_df_id_col=master_df_id_col, \n",
    "                id_col_name=id_col_name, \n",
    "                output_directory=output_directory)"
   ]
  },
  {
   "cell_type": "code",
   "execution_count": 47,
   "metadata": {},
   "outputs": [
    {
     "output_type": "stream",
     "name": "stdout",
     "text": [
      "199 files found in directory\n"
     ]
    }
   ],
   "source": [
    "output_directory = \"C:\\\\Users\\\\Spencer\\\\Desktop\\\\clean\\\\data\\\\data_with_id\\\\pizza_ranch_10_12_2020\"\n",
    "master_df_path = \"C:\\\\Users\\\\Spencer\\\\Desktop\\\\clean\\\\data\\\\data.xlsx\"\n",
    "directory_path = \"C:\\\\Users\\\\Spencer\\\\Box Sync\\\\Scraped\\\\pizza_ranch_10_12_2020\"\n",
    "key_col = \"key\"\n",
    "master_df_key_col = \"Phone\"\n",
    "master_df_id_col = \"Company ID\"\n",
    "id_col_name = master_df_id_col\n",
    "add_company_ids(directory_path=directory_path, \n",
    "                master_df_path=master_df_path, \n",
    "                key_col=key_col, \n",
    "                master_df_key_col=master_df_key_col, \n",
    "                master_df_id_col=master_df_id_col, \n",
    "                id_col_name=id_col_name, \n",
    "                output_directory=output_directory)"
   ]
  },
  {
   "cell_type": "code",
   "execution_count": 48,
   "metadata": {},
   "outputs": [
    {
     "output_type": "stream",
     "name": "stdout",
     "text": [
      "58 files found in directory\n"
     ]
    }
   ],
   "source": [
    "output_directory = \"C:\\\\Users\\\\Spencer\\\\Desktop\\\\clean\\\\data\\\\data_with_id\\\\pizza_pro_10_30_20\"\n",
    "master_df_path = \"C:\\\\Users\\\\Spencer\\\\Desktop\\\\clean\\\\data\\\\data.xlsx\"\n",
    "directory_path = \"C:\\\\Users\\\\Spencer\\\\Box Sync\\\\Scraped\\\\pizza_pro_10_30_20\"\n",
    "key_col = \"key\"\n",
    "master_df_key_col = \"Phone\"\n",
    "master_df_id_col = \"Company ID\"\n",
    "id_col_name = master_df_id_col\n",
    "add_company_ids(directory_path=directory_path, \n",
    "                master_df_path=master_df_path, \n",
    "                key_col=key_col, \n",
    "                master_df_key_col=master_df_key_col, \n",
    "                master_df_id_col=master_df_id_col, \n",
    "                id_col_name=id_col_name, \n",
    "                output_directory=output_directory)"
   ]
  },
  {
   "cell_type": "code",
   "execution_count": 49,
   "metadata": {},
   "outputs": [
    {
     "output_type": "stream",
     "name": "stdout",
     "text": [
      "55 files found in directory\n"
     ]
    }
   ],
   "source": [
    "output_directory = \"C:\\\\Users\\\\Spencer\\\\Desktop\\\\clean\\\\data\\\\data_with_id\\\\pizza_plus_10_31_20\"\n",
    "master_df_path = \"C:\\\\Users\\\\Spencer\\\\Desktop\\\\clean\\\\data\\\\data.xlsx\"\n",
    "directory_path = \"C:\\\\Users\\\\Spencer\\\\Box Sync\\\\Scraped\\\\pizza_plus_10_31_20\"\n",
    "key_col = \"key\"\n",
    "master_df_key_col = \"Google Link\"\n",
    "master_df_id_col = \"Company ID\"\n",
    "id_col_name = master_df_id_col\n",
    "add_company_ids(directory_path=directory_path, \n",
    "                master_df_path=master_df_path, \n",
    "                key_col=key_col, \n",
    "                master_df_key_col=master_df_key_col, \n",
    "                master_df_id_col=master_df_id_col, \n",
    "                id_col_name=id_col_name, \n",
    "                output_directory=output_directory)"
   ]
  },
  {
   "cell_type": "code",
   "execution_count": 50,
   "metadata": {},
   "outputs": [
    {
     "output_type": "stream",
     "name": "stdout",
     "text": [
      "30 files found in directory\n"
     ]
    }
   ],
   "source": [
    "output_directory = \"C:\\\\Users\\\\Spencer\\\\Desktop\\\\clean\\\\data\\\\data_with_id\\\\pizzarev_11_2_20\"\n",
    "master_df_path = \"C:\\\\Users\\\\Spencer\\\\Desktop\\\\clean\\\\data\\\\data.xlsx\"\n",
    "directory_path = \"C:\\\\Users\\\\Spencer\\\\Box Sync\\\\Scraped\\\\pizzarev_11_2_20\"\n",
    "key_col = \"key\"\n",
    "master_df_key_col = \"Phone\"\n",
    "master_df_id_col = \"Company ID\"\n",
    "id_col_name = master_df_id_col\n",
    "add_company_ids(directory_path=directory_path, \n",
    "                master_df_path=master_df_path, \n",
    "                key_col=key_col, \n",
    "                master_df_key_col=master_df_key_col, \n",
    "                master_df_id_col=master_df_id_col, \n",
    "                id_col_name=id_col_name, \n",
    "                output_directory=output_directory)"
   ]
  },
  {
   "cell_type": "code",
   "execution_count": 52,
   "metadata": {},
   "outputs": [
    {
     "output_type": "stream",
     "name": "stdout",
     "text": [
      "31 files found in directory\n"
     ]
    }
   ],
   "source": [
    "output_directory = \"C:\\\\Users\\\\Spencer\\\\Desktop\\\\clean\\\\data\\\\data_with_id\\\\zpizza_11_1_20\"\n",
    "master_df_path = \"C:\\\\Users\\\\Spencer\\\\Desktop\\\\clean\\\\data\\\\data.xlsx\"\n",
    "directory_path = \"C:\\\\Users\\\\Spencer\\\\Box Sync\\\\Scraped\\\\zpizza_11_1_20\"\n",
    "key_col = \"key\"\n",
    "master_df_key_col = \"Phone\"\n",
    "master_df_id_col = \"Company ID\"\n",
    "id_col_name = master_df_id_col\n",
    "add_company_ids(directory_path=directory_path, \n",
    "                master_df_path=master_df_path, \n",
    "                key_col=key_col, \n",
    "                master_df_key_col=master_df_key_col, \n",
    "                master_df_id_col=master_df_id_col, \n",
    "                id_col_name=id_col_name, \n",
    "                output_directory=output_directory)"
   ]
  },
  {
   "cell_type": "code",
   "execution_count": 53,
   "metadata": {},
   "outputs": [
    {
     "output_type": "stream",
     "name": "stdout",
     "text": [
      "86 files found in directory\n"
     ]
    }
   ],
   "source": [
    "output_directory = \"C:\\\\Users\\\\Spencer\\\\Desktop\\\\clean\\\\data\\\\data_with_id\\\\vocelli_10_29_20\"\n",
    "master_df_path = \"C:\\\\Users\\\\Spencer\\\\Desktop\\\\clean\\\\data\\\\data.xlsx\"\n",
    "directory_path = \"C:\\\\Users\\\\Spencer\\\\Box Sync\\\\Scraped\\\\vocelli_10_29_20\"\n",
    "key_col = \"key\"\n",
    "master_df_key_col = \"Phone\"\n",
    "master_df_id_col = \"Company ID\"\n",
    "id_col_name = master_df_id_col\n",
    "add_company_ids(directory_path=directory_path, \n",
    "                master_df_path=master_df_path, \n",
    "                key_col=key_col, \n",
    "                master_df_key_col=master_df_key_col, \n",
    "                master_df_id_col=master_df_id_col, \n",
    "                id_col_name=id_col_name, \n",
    "                output_directory=output_directory)"
   ]
  },
  {
   "cell_type": "code",
   "execution_count": 55,
   "metadata": {},
   "outputs": [
    {
     "output_type": "stream",
     "name": "stdout",
     "text": [
      "22 files found in directory\n"
     ]
    }
   ],
   "source": [
    "output_directory = \"C:\\\\Users\\\\Spencer\\\\Desktop\\\\clean\\\\data\\\\data_with_id\\\\straw_hat_pizza_11_2_20\"\n",
    "master_df_path = \"C:\\\\Users\\\\Spencer\\\\Desktop\\\\clean\\\\data\\\\data.xlsx\"\n",
    "directory_path = \"C:\\\\Users\\\\Spencer\\\\Box Sync\\\\Scraped\\\\straw_hat_pizza_11_2_20\"\n",
    "key_col = \"key\"\n",
    "master_df_key_col = \"Phone\"\n",
    "master_df_id_col = \"Company ID\"\n",
    "id_col_name = master_df_id_col\n",
    "add_company_ids(directory_path=directory_path, \n",
    "                master_df_path=master_df_path, \n",
    "                key_col=key_col, \n",
    "                master_df_key_col=master_df_key_col, \n",
    "                master_df_id_col=master_df_id_col, \n",
    "                id_col_name=id_col_name, \n",
    "                output_directory=output_directory)"
   ]
  },
  {
   "cell_type": "code",
   "execution_count": 56,
   "metadata": {},
   "outputs": [
    {
     "output_type": "stream",
     "name": "stdout",
     "text": [
      "46 files found in directory\n"
     ]
    }
   ],
   "source": [
    "output_directory = \"C:\\\\Users\\\\Spencer\\\\Desktop\\\\clean\\\\data\\\\data_with_id\\\\snappy_11_1_20\"\n",
    "master_df_path = \"C:\\\\Users\\\\Spencer\\\\Desktop\\\\clean\\\\data\\\\data.xlsx\"\n",
    "directory_path = \"C:\\\\Users\\\\Spencer\\\\Box Sync\\\\Scraped\\\\snappy_11_1_20\"\n",
    "key_col = \"key\"\n",
    "master_df_key_col = \"Phone\"\n",
    "master_df_id_col = \"Company ID\"\n",
    "id_col_name = master_df_id_col\n",
    "add_company_ids(directory_path=directory_path, \n",
    "                master_df_path=master_df_path, \n",
    "                key_col=key_col, \n",
    "                master_df_key_col=master_df_key_col, \n",
    "                master_df_id_col=master_df_id_col, \n",
    "                id_col_name=id_col_name, \n",
    "                output_directory=output_directory)"
   ]
  },
  {
   "cell_type": "code",
   "execution_count": 57,
   "metadata": {},
   "outputs": [
    {
     "output_type": "stream",
     "name": "stdout",
     "text": [
      "141 files found in directory\n"
     ]
    }
   ],
   "source": [
    "output_directory = \"C:\\\\Users\\\\Spencer\\\\Desktop\\\\clean\\\\data\\\\data_with_id\\\\simple_simons_10_29_20\"\n",
    "master_df_path = \"C:\\\\Users\\\\Spencer\\\\Desktop\\\\clean\\\\data\\\\data.xlsx\"\n",
    "directory_path = \"C:\\\\Users\\\\Spencer\\\\Box Sync\\\\Scraped\\\\simple_simons_10_29_20\"\n",
    "key_col = \"key\"\n",
    "master_df_key_col = \"Phone\"\n",
    "master_df_id_col = \"Company ID\"\n",
    "id_col_name = master_df_id_col\n",
    "add_company_ids(directory_path=directory_path, \n",
    "                master_df_path=master_df_path, \n",
    "                key_col=key_col, \n",
    "                master_df_key_col=master_df_key_col, \n",
    "                master_df_id_col=master_df_id_col, \n",
    "                id_col_name=id_col_name, \n",
    "                output_directory=output_directory)"
   ]
  },
  {
   "cell_type": "code",
   "execution_count": 58,
   "metadata": {},
   "outputs": [
    {
     "output_type": "stream",
     "name": "stdout",
     "text": [
      "133 files found in directory\n"
     ]
    }
   ],
   "source": [
    "output_directory = \"C:\\\\Users\\\\Spencer\\\\Desktop\\\\clean\\\\data\\\\data_with_id\\\\pizza_inn_10_29_20\"\n",
    "master_df_path = \"C:\\\\Users\\\\Spencer\\\\Desktop\\\\clean\\\\data\\\\data.xlsx\"\n",
    "directory_path = \"C:\\\\Users\\\\Spencer\\\\Box Sync\\\\Scraped\\\\pizza_inn_10_29_20\"\n",
    "key_col = \"key\"\n",
    "master_df_key_col = \"Phone\"\n",
    "master_df_id_col = \"Company ID\"\n",
    "id_col_name = master_df_id_col\n",
    "add_company_ids(directory_path=directory_path, \n",
    "                master_df_path=master_df_path, \n",
    "                key_col=key_col, \n",
    "                master_df_key_col=master_df_key_col, \n",
    "                master_df_id_col=master_df_id_col, \n",
    "                id_col_name=id_col_name, \n",
    "                output_directory=output_directory)"
   ]
  },
  {
   "cell_type": "code",
   "execution_count": 59,
   "metadata": {},
   "outputs": [
    {
     "output_type": "stream",
     "name": "stdout",
     "text": [
      "52 files found in directory\n"
     ]
    }
   ],
   "source": [
    "output_directory = \"C:\\\\Users\\\\Spencer\\\\Desktop\\\\clean\\\\data\\\\data_with_id\\\\shakeys_11_1_20\"\n",
    "master_df_path = \"C:\\\\Users\\\\Spencer\\\\Desktop\\\\clean\\\\data\\\\data.xlsx\"\n",
    "directory_path = \"C:\\\\Users\\\\Spencer\\\\Box Sync\\\\Scraped\\\\shakeys_11_1_20\"\n",
    "key_col = \"key\"\n",
    "master_df_key_col = \"Phone\"\n",
    "master_df_id_col = \"Company ID\"\n",
    "id_col_name = master_df_id_col\n",
    "add_company_ids(directory_path=directory_path, \n",
    "                master_df_path=master_df_path, \n",
    "                key_col=key_col, \n",
    "                master_df_key_col=master_df_key_col, \n",
    "                master_df_id_col=master_df_id_col, \n",
    "                id_col_name=id_col_name, \n",
    "                output_directory=output_directory)"
   ]
  },
  {
   "cell_type": "code",
   "execution_count": 60,
   "metadata": {},
   "outputs": [
    {
     "output_type": "stream",
     "name": "stdout",
     "text": [
      "64 files found in directory\n"
     ]
    }
   ],
   "source": [
    "output_directory = \"C:\\\\Users\\\\Spencer\\\\Desktop\\\\clean\\\\data\\\\data_with_id\\\\toppers_10_31_20\"\n",
    "master_df_path = \"C:\\\\Users\\\\Spencer\\\\Desktop\\\\clean\\\\data\\\\data.xlsx\"\n",
    "directory_path = \"C:\\\\Users\\\\Spencer\\\\Box Sync\\\\Scraped\\\\toppers_10_31_20\"\n",
    "key_col = \"key\"\n",
    "master_df_key_col = \"Phone\"\n",
    "master_df_id_col = \"Company ID\"\n",
    "id_col_name = master_df_id_col\n",
    "add_company_ids(directory_path=directory_path, \n",
    "                master_df_path=master_df_path, \n",
    "                key_col=key_col, \n",
    "                master_df_key_col=master_df_key_col, \n",
    "                master_df_id_col=master_df_id_col, \n",
    "                id_col_name=id_col_name, \n",
    "                output_directory=output_directory)"
   ]
  },
  {
   "cell_type": "code",
   "execution_count": 61,
   "metadata": {},
   "outputs": [
    {
     "output_type": "stream",
     "name": "stdout",
     "text": [
      "124 files found in directory\n"
     ]
    }
   ],
   "source": [
    "output_directory = \"C:\\\\Users\\\\Spencer\\\\Desktop\\\\clean\\\\data\\\\data_with_id\\\\pieology_10_20_2020\"\n",
    "master_df_path = \"C:\\\\Users\\\\Spencer\\\\Desktop\\\\clean\\\\data\\\\data.xlsx\"\n",
    "directory_path = \"C:\\\\Users\\\\Spencer\\\\Box Sync\\\\Scraped\\\\pieology_10_20_2020\"\n",
    "key_col = \"key\"\n",
    "master_df_key_col = \"Phone\"\n",
    "master_df_id_col = \"Company ID\"\n",
    "id_col_name = master_df_id_col\n",
    "add_company_ids(directory_path=directory_path, \n",
    "                master_df_path=master_df_path, \n",
    "                key_col=key_col, \n",
    "                master_df_key_col=master_df_key_col, \n",
    "                master_df_id_col=master_df_id_col, \n",
    "                id_col_name=id_col_name, \n",
    "                output_directory=output_directory)"
   ]
  },
  {
   "cell_type": "code",
   "execution_count": 62,
   "metadata": {},
   "outputs": [
    {
     "output_type": "stream",
     "name": "stdout",
     "text": [
      "290 files found in directory\n"
     ]
    }
   ],
   "source": [
    "output_directory = \"C:\\\\Users\\\\Spencer\\\\Desktop\\\\clean\\\\data\\\\data_with_id\\\\sbarro_10_18_2020\"\n",
    "master_df_path = \"C:\\\\Users\\\\Spencer\\\\Desktop\\\\clean\\\\data\\\\data.xlsx\"\n",
    "directory_path = \"C:\\\\Users\\\\Spencer\\\\Box Sync\\\\Scraped\\\\sbarro_10_18_2020\"\n",
    "key_col = \"key\"\n",
    "master_df_key_col = \"Phone\"\n",
    "master_df_id_col = \"Company ID\"\n",
    "id_col_name = master_df_id_col\n",
    "add_company_ids(directory_path=directory_path, \n",
    "                master_df_path=master_df_path, \n",
    "                key_col=key_col, \n",
    "                master_df_key_col=master_df_key_col, \n",
    "                master_df_id_col=master_df_id_col, \n",
    "                id_col_name=id_col_name, \n",
    "                output_directory=output_directory)"
   ]
  },
  {
   "cell_type": "code",
   "execution_count": 63,
   "metadata": {},
   "outputs": [
    {
     "output_type": "stream",
     "name": "stdout",
     "text": [
      "311 files found in directory\n"
     ]
    }
   ],
   "source": [
    "output_directory = \"C:\\\\Users\\\\Spencer\\\\Desktop\\\\clean\\\\data\\\\data_with_id\\\\blaze_10_16_2020\"\n",
    "master_df_path = \"C:\\\\Users\\\\Spencer\\\\Desktop\\\\clean\\\\data\\\\data.xlsx\"\n",
    "directory_path = \"C:\\\\Users\\\\Spencer\\\\Box Sync\\\\Scraped\\\\blaze_10_16_2020\"\n",
    "key_col = \"key\"\n",
    "master_df_key_col = \"Phone\"\n",
    "master_df_id_col = \"Company ID\"\n",
    "id_col_name = master_df_id_col\n",
    "add_company_ids(directory_path=directory_path, \n",
    "                master_df_path=master_df_path, \n",
    "                key_col=key_col, \n",
    "                master_df_key_col=master_df_key_col, \n",
    "                master_df_id_col=master_df_id_col, \n",
    "                id_col_name=id_col_name, \n",
    "                output_directory=output_directory)"
   ]
  },
  {
   "cell_type": "code",
   "execution_count": 64,
   "metadata": {},
   "outputs": [
    {
     "output_type": "stream",
     "name": "stdout",
     "text": [
      "3 files found in directory\n"
     ]
    }
   ],
   "source": [
    "output_directory = \"C:\\\\Users\\\\Spencer\\\\Desktop\\\\clean\\\\data\\\\data_with_id\\\\brick_oven_11_3_20\"\n",
    "master_df_path = \"C:\\\\Users\\\\Spencer\\\\Desktop\\\\clean\\\\data\\\\data.xlsx\"\n",
    "directory_path = \"C:\\\\Users\\\\Spencer\\\\Box Sync\\\\Scraped\\\\brick_oven_11_3_20\"\n",
    "key_col = \"key\"\n",
    "master_df_key_col = \"Phone\"\n",
    "master_df_id_col = \"Company ID\"\n",
    "id_col_name = master_df_id_col\n",
    "add_company_ids(directory_path=directory_path, \n",
    "                master_df_path=master_df_path, \n",
    "                key_col=key_col, \n",
    "                master_df_key_col=master_df_key_col, \n",
    "                master_df_id_col=master_df_id_col, \n",
    "                id_col_name=id_col_name, \n",
    "                output_directory=output_directory)"
   ]
  },
  {
   "cell_type": "code",
   "execution_count": 65,
   "metadata": {},
   "outputs": [
    {
     "output_type": "stream",
     "name": "stdout",
     "text": [
      "9 files found in directory\n"
     ]
    }
   ],
   "source": [
    "output_directory = \"C:\\\\Users\\\\Spencer\\\\Desktop\\\\clean\\\\data\\\\data_with_id\\\\cheezies_11_2_20\"\n",
    "master_df_path = \"C:\\\\Users\\\\Spencer\\\\Desktop\\\\clean\\\\data\\\\data.xlsx\"\n",
    "directory_path = \"C:\\\\Users\\\\Spencer\\\\Box Sync\\\\Scraped\\\\cheezies_11_2_20\"\n",
    "key_col = \"key\"\n",
    "master_df_key_col = \"Phone\"\n",
    "master_df_id_col = \"Company ID\"\n",
    "id_col_name = master_df_id_col\n",
    "add_company_ids(directory_path=directory_path, \n",
    "                master_df_path=master_df_path, \n",
    "                key_col=key_col, \n",
    "                master_df_key_col=master_df_key_col, \n",
    "                master_df_id_col=master_df_id_col, \n",
    "                id_col_name=id_col_name, \n",
    "                output_directory=output_directory)"
   ]
  },
  {
   "cell_type": "code",
   "execution_count": 66,
   "metadata": {},
   "outputs": [
    {
     "output_type": "stream",
     "name": "stdout",
     "text": [
      "9 files found in directory\n"
     ]
    }
   ],
   "source": [
    "output_directory = \"C:\\\\Users\\\\Spencer\\\\Desktop\\\\clean\\\\data\\\\data_with_id\\\\cicis_to_go_11_2_20\"\n",
    "master_df_path = \"C:\\\\Users\\\\Spencer\\\\Desktop\\\\clean\\\\data\\\\data.xlsx\"\n",
    "directory_path = \"C:\\\\Users\\\\Spencer\\\\Box Sync\\\\Scraped\\\\cicis_to_go_11_2_20\"\n",
    "key_col = \"key\"\n",
    "master_df_key_col = \"Phone\"\n",
    "master_df_id_col = \"Company ID\"\n",
    "id_col_name = master_df_id_col\n",
    "add_company_ids(directory_path=directory_path, \n",
    "                master_df_path=master_df_path, \n",
    "                key_col=key_col, \n",
    "                master_df_key_col=master_df_key_col, \n",
    "                master_df_id_col=master_df_id_col, \n",
    "                id_col_name=id_col_name, \n",
    "                output_directory=output_directory)"
   ]
  },
  {
   "cell_type": "code",
   "execution_count": 67,
   "metadata": {},
   "outputs": [
    {
     "output_type": "stream",
     "name": "stdout",
     "text": [
      "2 files found in directory\n"
     ]
    }
   ],
   "source": [
    "output_directory = \"C:\\\\Users\\\\Spencer\\\\Desktop\\\\clean\\\\data\\\\data_with_id\\\\cpk_asap_11_3_20\"\n",
    "master_df_path = \"C:\\\\Users\\\\Spencer\\\\Desktop\\\\clean\\\\data\\\\data.xlsx\"\n",
    "directory_path = \"C:\\\\Users\\\\Spencer\\\\Box Sync\\\\Scraped\\\\cpk_asap_11_3_20\"\n",
    "key_col = \"key\"\n",
    "master_df_key_col = \"Phone\"\n",
    "master_df_id_col = \"Company ID\"\n",
    "id_col_name = master_df_id_col\n",
    "add_company_ids(directory_path=directory_path, \n",
    "                master_df_path=master_df_path, \n",
    "                key_col=key_col, \n",
    "                master_df_key_col=master_df_key_col, \n",
    "                master_df_id_col=master_df_id_col, \n",
    "                id_col_name=id_col_name, \n",
    "                output_directory=output_directory)"
   ]
  },
  {
   "cell_type": "code",
   "execution_count": 68,
   "metadata": {},
   "outputs": [
    {
     "output_type": "stream",
     "name": "stdout",
     "text": [
      "1 files found in directory\n"
     ]
    }
   ],
   "source": [
    "output_directory = \"C:\\\\Users\\\\Spencer\\\\Desktop\\\\clean\\\\data\\\\data_with_id\\\\gattiland_11_3_20\"\n",
    "master_df_path = \"C:\\\\Users\\\\Spencer\\\\Desktop\\\\clean\\\\data\\\\data.xlsx\"\n",
    "directory_path = \"C:\\\\Users\\\\Spencer\\\\Box Sync\\\\Scraped\\\\gattiland_11_3_20\"\n",
    "key_col = \"key\"\n",
    "master_df_key_col = \"Phone\"\n",
    "master_df_id_col = \"Company ID\"\n",
    "id_col_name = master_df_id_col\n",
    "add_company_ids(directory_path=directory_path, \n",
    "                master_df_path=master_df_path, \n",
    "                key_col=key_col, \n",
    "                master_df_key_col=master_df_key_col, \n",
    "                master_df_id_col=master_df_id_col, \n",
    "                id_col_name=id_col_name, \n",
    "                output_directory=output_directory)"
   ]
  },
  {
   "cell_type": "code",
   "execution_count": 69,
   "metadata": {},
   "outputs": [
    {
     "output_type": "stream",
     "name": "stdout",
     "text": [
      "1 files found in directory\n"
     ]
    }
   ],
   "source": [
    "output_directory = \"C:\\\\Users\\\\Spencer\\\\Desktop\\\\clean\\\\data\\\\data_with_id\\\\gattis_pizza_buffet_11_3_20\"\n",
    "master_df_path = \"C:\\\\Users\\\\Spencer\\\\Desktop\\\\clean\\\\data\\\\data.xlsx\"\n",
    "directory_path = \"C:\\\\Users\\\\Spencer\\\\Box Sync\\\\Scraped\\\\gattis_pizza_buffet_11_3_20\"\n",
    "key_col = \"key\"\n",
    "master_df_key_col = \"Phone\"\n",
    "master_df_id_col = \"Company ID\"\n",
    "id_col_name = master_df_id_col\n",
    "add_company_ids(directory_path=directory_path, \n",
    "                master_df_path=master_df_path, \n",
    "                key_col=key_col, \n",
    "                master_df_key_col=master_df_key_col, \n",
    "                master_df_id_col=master_df_id_col, \n",
    "                id_col_name=id_col_name, \n",
    "                output_directory=output_directory)"
   ]
  },
  {
   "cell_type": "code",
   "execution_count": 70,
   "metadata": {},
   "outputs": [
    {
     "output_type": "stream",
     "name": "stdout",
     "text": [
      "4 files found in directory\n"
     ]
    }
   ],
   "source": [
    "output_directory = \"C:\\\\Users\\\\Spencer\\\\Desktop\\\\clean\\\\data\\\\data_with_id\\\\gattitown_11_3_20\"\n",
    "master_df_path = \"C:\\\\Users\\\\Spencer\\\\Desktop\\\\clean\\\\data\\\\data.xlsx\"\n",
    "directory_path = \"C:\\\\Users\\\\Spencer\\\\Box Sync\\\\Scraped\\\\gattitown_11_3_20\"\n",
    "key_col = \"key\"\n",
    "master_df_key_col = \"Phone\"\n",
    "master_df_id_col = \"Company ID\"\n",
    "id_col_name = master_df_id_col\n",
    "add_company_ids(directory_path=directory_path, \n",
    "                master_df_path=master_df_path, \n",
    "                key_col=key_col, \n",
    "                master_df_key_col=master_df_key_col, \n",
    "                master_df_id_col=master_df_id_col, \n",
    "                id_col_name=id_col_name, \n",
    "                output_directory=output_directory)"
   ]
  },
  {
   "cell_type": "code",
   "execution_count": 71,
   "metadata": {},
   "outputs": [
    {
     "output_type": "stream",
     "name": "stdout",
     "text": [
      "1 files found in directory\n"
     ]
    }
   ],
   "source": [
    "output_directory = \"C:\\\\Users\\\\Spencer\\\\Desktop\\\\clean\\\\data\\\\data_with_id\\\\guilles_11_3_20\"\n",
    "master_df_path = \"C:\\\\Users\\\\Spencer\\\\Desktop\\\\clean\\\\data\\\\data.xlsx\"\n",
    "directory_path = \"C:\\\\Users\\\\Spencer\\\\Box Sync\\\\Scraped\\\\guilles_11_3_20\"\n",
    "key_col = \"key\"\n",
    "master_df_key_col = \"Phone\"\n",
    "master_df_id_col = \"Company ID\"\n",
    "id_col_name = master_df_id_col\n",
    "add_company_ids(directory_path=directory_path, \n",
    "                master_df_path=master_df_path, \n",
    "                key_col=key_col, \n",
    "                master_df_key_col=master_df_key_col, \n",
    "                master_df_id_col=master_df_id_col, \n",
    "                id_col_name=id_col_name, \n",
    "                output_directory=output_directory)"
   ]
  },
  {
   "cell_type": "code",
   "execution_count": 72,
   "metadata": {},
   "outputs": [
    {
     "output_type": "stream",
     "name": "stdout",
     "text": [
      "5 files found in directory\n"
     ]
    }
   ],
   "source": [
    "output_directory = \"C:\\\\Users\\\\Spencer\\\\Desktop\\\\clean\\\\data\\\\data_with_id\\\\hungry_howies_pizza_11_3_20\"\n",
    "master_df_path = \"C:\\\\Users\\\\Spencer\\\\Desktop\\\\clean\\\\data\\\\data.xlsx\"\n",
    "directory_path = \"C:\\\\Users\\\\Spencer\\\\Box Sync\\\\Scraped\\\\hungry_howies_pizza_11_3_20\"\n",
    "key_col = \"key\"\n",
    "master_df_key_col = \"Phone\"\n",
    "master_df_id_col = \"Company ID\"\n",
    "id_col_name = master_df_id_col\n",
    "add_company_ids(directory_path=directory_path, \n",
    "                master_df_path=master_df_path, \n",
    "                key_col=key_col, \n",
    "                master_df_key_col=master_df_key_col, \n",
    "                master_df_id_col=master_df_id_col, \n",
    "                id_col_name=id_col_name, \n",
    "                output_directory=output_directory)"
   ]
  },
  {
   "cell_type": "code",
   "execution_count": 73,
   "metadata": {},
   "outputs": [
    {
     "output_type": "stream",
     "name": "stdout",
     "text": [
      "4 files found in directory\n"
     ]
    }
   ],
   "source": [
    "output_directory = \"C:\\\\Users\\\\Spencer\\\\Desktop\\\\clean\\\\data\\\\data_with_id\\\\johnnies_new_york_pizzeria_11_3_20\"\n",
    "master_df_path = \"C:\\\\Users\\\\Spencer\\\\Desktop\\\\clean\\\\data\\\\data.xlsx\"\n",
    "directory_path = \"C:\\\\Users\\\\Spencer\\\\Box Sync\\\\Scraped\\\\johnnies_new_york_pizzeria_11_3_20\"\n",
    "key_col = \"key\"\n",
    "master_df_key_col = \"Phone\"\n",
    "master_df_id_col = \"Company ID\"\n",
    "id_col_name = master_df_id_col\n",
    "add_company_ids(directory_path=directory_path, \n",
    "                master_df_path=master_df_path, \n",
    "                key_col=key_col, \n",
    "                master_df_key_col=master_df_key_col, \n",
    "                master_df_id_col=master_df_id_col, \n",
    "                id_col_name=id_col_name, \n",
    "                output_directory=output_directory)"
   ]
  },
  {
   "cell_type": "code",
   "execution_count": 74,
   "metadata": {},
   "outputs": [
    {
     "output_type": "stream",
     "name": "stdout",
     "text": [
      "16 files found in directory\n"
     ]
    }
   ],
   "source": [
    "output_directory = \"C:\\\\Users\\\\Spencer\\\\Desktop\\\\clean\\\\data\\\\data_with_id\\\\johnny_bruscos_new_york_style_pizza_11_2_20\"\n",
    "master_df_path = \"C:\\\\Users\\\\Spencer\\\\Desktop\\\\clean\\\\data\\\\data.xlsx\"\n",
    "directory_path = \"C:\\\\Users\\\\Spencer\\\\Box Sync\\\\Scraped\\\\johnny_bruscos_new_york_style_pizza_11_2_20\"\n",
    "key_col = \"key\"\n",
    "master_df_key_col = \"Google Link\"\n",
    "master_df_id_col = \"Company ID\"\n",
    "id_col_name = master_df_id_col\n",
    "add_company_ids(directory_path=directory_path, \n",
    "                master_df_path=master_df_path, \n",
    "                key_col=key_col, \n",
    "                master_df_key_col=master_df_key_col, \n",
    "                master_df_id_col=master_df_id_col, \n",
    "                id_col_name=id_col_name, \n",
    "                output_directory=output_directory)"
   ]
  },
  {
   "cell_type": "code",
   "execution_count": 75,
   "metadata": {},
   "outputs": [
    {
     "output_type": "stream",
     "name": "stdout",
     "text": [
      "2 files found in directory\n"
     ]
    }
   ],
   "source": [
    "output_directory = \"C:\\\\Users\\\\Spencer\\\\Desktop\\\\clean\\\\data\\\\data_with_id\\\\loumalnatis_11_3_20\"\n",
    "master_df_path = \"C:\\\\Users\\\\Spencer\\\\Desktop\\\\clean\\\\data\\\\data.xlsx\"\n",
    "directory_path = \"C:\\\\Users\\\\Spencer\\\\Box Sync\\\\Scraped\\\\loumalnatis_11_3_20\"\n",
    "key_col = \"key\"\n",
    "master_df_key_col = \"Google Link\"\n",
    "master_df_id_col = \"Company ID\"\n",
    "id_col_name = master_df_id_col\n",
    "add_company_ids(directory_path=directory_path, \n",
    "                master_df_path=master_df_path, \n",
    "                key_col=key_col, \n",
    "                master_df_key_col=master_df_key_col, \n",
    "                master_df_id_col=master_df_id_col, \n",
    "                id_col_name=id_col_name, \n",
    "                output_directory=output_directory)"
   ]
  },
  {
   "cell_type": "code",
   "execution_count": 76,
   "metadata": {},
   "outputs": [
    {
     "output_type": "stream",
     "name": "stdout",
     "text": [
      "3 files found in directory\n"
     ]
    }
   ],
   "source": [
    "output_directory = \"C:\\\\Users\\\\Spencer\\\\Desktop\\\\clean\\\\data\\\\data_with_id\\\\nick_n_willys_11_3_20\"\n",
    "master_df_path = \"C:\\\\Users\\\\Spencer\\\\Desktop\\\\clean\\\\data\\\\data.xlsx\"\n",
    "directory_path = \"C:\\\\Users\\\\Spencer\\\\Box Sync\\\\Scraped\\\\nick_n_willys_11_3_20\"\n",
    "key_col = \"key\"\n",
    "master_df_key_col = \"Phone\"\n",
    "master_df_id_col = \"Company ID\"\n",
    "id_col_name = master_df_id_col\n",
    "add_company_ids(directory_path=directory_path, \n",
    "                master_df_path=master_df_path, \n",
    "                key_col=key_col, \n",
    "                master_df_key_col=master_df_key_col, \n",
    "                master_df_id_col=master_df_id_col, \n",
    "                id_col_name=id_col_name, \n",
    "                output_directory=output_directory)"
   ]
  },
  {
   "cell_type": "code",
   "execution_count": 77,
   "metadata": {},
   "outputs": [
    {
     "output_type": "stream",
     "name": "stdout",
     "text": [
      "6 files found in directory\n"
     ]
    }
   ],
   "source": [
    "output_directory = \"C:\\\\Users\\\\Spencer\\\\Desktop\\\\clean\\\\data\\\\data_with_id\\\\original_italian_pie_11_3_20\"\n",
    "master_df_path = \"C:\\\\Users\\\\Spencer\\\\Desktop\\\\clean\\\\data\\\\data.xlsx\"\n",
    "directory_path = \"C:\\\\Users\\\\Spencer\\\\Box Sync\\\\Scraped\\\\original_italian_pie_11_3_20\"\n",
    "key_col = \"key\"\n",
    "master_df_key_col = \"Phone\"\n",
    "master_df_id_col = \"Company ID\"\n",
    "id_col_name = master_df_id_col\n",
    "add_company_ids(directory_path=directory_path, \n",
    "                master_df_path=master_df_path, \n",
    "                key_col=key_col, \n",
    "                master_df_key_col=master_df_key_col, \n",
    "                master_df_id_col=master_df_id_col, \n",
    "                id_col_name=id_col_name, \n",
    "                output_directory=output_directory)"
   ]
  },
  {
   "cell_type": "code",
   "execution_count": 78,
   "metadata": {},
   "outputs": [
    {
     "output_type": "stream",
     "name": "stdout",
     "text": [
      "4 files found in directory\n"
     ]
    }
   ],
   "source": [
    "output_directory = \"C:\\\\Users\\\\Spencer\\\\Desktop\\\\clean\\\\data\\\\data_with_id\\\\paisanos_pizza_11_3_20\"\n",
    "master_df_path = \"C:\\\\Users\\\\Spencer\\\\Desktop\\\\clean\\\\data\\\\data.xlsx\"\n",
    "directory_path = \"C:\\\\Users\\\\Spencer\\\\Box Sync\\\\Scraped\\\\paisanos_pizza_11_3_20\"\n",
    "key_col = \"key\"\n",
    "master_df_key_col = \"Phone\"\n",
    "master_df_id_col = \"Company ID\"\n",
    "id_col_name = master_df_id_col\n",
    "add_company_ids(directory_path=directory_path, \n",
    "                master_df_path=master_df_path, \n",
    "                key_col=key_col, \n",
    "                master_df_key_col=master_df_key_col, \n",
    "                master_df_id_col=master_df_id_col, \n",
    "                id_col_name=id_col_name, \n",
    "                output_directory=output_directory)"
   ]
  },
  {
   "cell_type": "code",
   "execution_count": 79,
   "metadata": {},
   "outputs": [
    {
     "output_type": "stream",
     "name": "stdout",
     "text": [
      "6 files found in directory\n"
     ]
    }
   ],
   "source": [
    "output_directory = \"C:\\\\Users\\\\Spencer\\\\Desktop\\\\clean\\\\data\\\\data_with_id\\\\pizza_inn_express_11_2_20\"\n",
    "master_df_path = \"C:\\\\Users\\\\Spencer\\\\Desktop\\\\clean\\\\data\\\\data.xlsx\"\n",
    "directory_path = \"C:\\\\Users\\\\Spencer\\\\Box Sync\\\\Scraped\\\\pizza_inn_express_11_2_20\"\n",
    "key_col = \"key\"\n",
    "master_df_key_col = \"Phone\"\n",
    "master_df_id_col = \"Company ID\"\n",
    "id_col_name = master_df_id_col\n",
    "add_company_ids(directory_path=directory_path, \n",
    "                master_df_path=master_df_path, \n",
    "                key_col=key_col, \n",
    "                master_df_key_col=master_df_key_col, \n",
    "                master_df_id_col=master_df_id_col, \n",
    "                id_col_name=id_col_name, \n",
    "                output_directory=output_directory)"
   ]
  },
  {
   "cell_type": "code",
   "execution_count": 80,
   "metadata": {},
   "outputs": [
    {
     "output_type": "stream",
     "name": "stdout",
     "text": [
      "1 files found in directory\n"
     ]
    }
   ],
   "source": [
    "output_directory = \"C:\\\\Users\\\\Spencer\\\\Desktop\\\\clean\\\\data\\\\data_with_id\\\\pizza_italia_11_3_20\"\n",
    "master_df_path = \"C:\\\\Users\\\\Spencer\\\\Desktop\\\\clean\\\\data\\\\data.xlsx\"\n",
    "directory_path = \"C:\\\\Users\\\\Spencer\\\\Box Sync\\\\Scraped\\\\pizza_italia_11_3_20\"\n",
    "key_col = \"key\"\n",
    "master_df_key_col = \"Phone\"\n",
    "master_df_id_col = \"Company ID\"\n",
    "id_col_name = master_df_id_col\n",
    "add_company_ids(directory_path=directory_path, \n",
    "                master_df_path=master_df_path, \n",
    "                key_col=key_col, \n",
    "                master_df_key_col=master_df_key_col, \n",
    "                master_df_id_col=master_df_id_col, \n",
    "                id_col_name=id_col_name, \n",
    "                output_directory=output_directory)"
   ]
  },
  {
   "cell_type": "code",
   "execution_count": 81,
   "metadata": {},
   "outputs": [
    {
     "output_type": "stream",
     "name": "stdout",
     "text": [
      "8 files found in directory\n"
     ]
    }
   ],
   "source": [
    "output_directory = \"C:\\\\Users\\\\Spencer\\\\Desktop\\\\clean\\\\data\\\\data_with_id\\\\pizza_schmizza_11_3_20\"\n",
    "master_df_path = \"C:\\\\Users\\\\Spencer\\\\Desktop\\\\clean\\\\data\\\\data.xlsx\"\n",
    "directory_path = \"C:\\\\Users\\\\Spencer\\\\Box Sync\\\\Scraped\\\\pizza_schmizza_11_3_20\"\n",
    "key_col = \"key\"\n",
    "master_df_key_col = \"Phone\"\n",
    "master_df_id_col = \"Company ID\"\n",
    "id_col_name = master_df_id_col\n",
    "add_company_ids(directory_path=directory_path, \n",
    "                master_df_path=master_df_path, \n",
    "                key_col=key_col, \n",
    "                master_df_key_col=master_df_key_col, \n",
    "                master_df_id_col=master_df_id_col, \n",
    "                id_col_name=id_col_name, \n",
    "                output_directory=output_directory)"
   ]
  },
  {
   "cell_type": "code",
   "execution_count": 82,
   "metadata": {},
   "outputs": [
    {
     "output_type": "stream",
     "name": "stdout",
     "text": [
      "2 files found in directory\n"
     ]
    }
   ],
   "source": [
    "output_directory = \"C:\\\\Users\\\\Spencer\\\\Desktop\\\\clean\\\\data\\\\data_with_id\\\\pizzeria_locale_11_3_20\"\n",
    "master_df_path = \"C:\\\\Users\\\\Spencer\\\\Desktop\\\\clean\\\\data\\\\data.xlsx\"\n",
    "directory_path = \"C:\\\\Users\\\\Spencer\\\\Box Sync\\\\Scraped\\\\pizzeria_locale_11_3_20\"\n",
    "key_col = \"key\"\n",
    "master_df_key_col = \"Phone\"\n",
    "master_df_id_col = \"Company ID\"\n",
    "id_col_name = master_df_id_col\n",
    "add_company_ids(directory_path=directory_path, \n",
    "                master_df_path=master_df_path, \n",
    "                key_col=key_col, \n",
    "                master_df_key_col=master_df_key_col, \n",
    "                master_df_id_col=master_df_id_col, \n",
    "                id_col_name=id_col_name, \n",
    "                output_directory=output_directory)"
   ]
  },
  {
   "cell_type": "code",
   "execution_count": 83,
   "metadata": {},
   "outputs": [
    {
     "output_type": "stream",
     "name": "stdout",
     "text": [
      "2 files found in directory\n"
     ]
    }
   ],
   "source": [
    "output_directory = \"C:\\\\Users\\\\Spencer\\\\Desktop\\\\clean\\\\data\\\\data_with_id\\\\schmizza_public_house_11_3_20\"\n",
    "master_df_path = \"C:\\\\Users\\\\Spencer\\\\Desktop\\\\clean\\\\data\\\\data.xlsx\"\n",
    "directory_path = \"C:\\\\Users\\\\Spencer\\\\Box Sync\\\\Scraped\\\\schmizza_public_house_11_3_20\"\n",
    "key_col = \"key\"\n",
    "master_df_key_col = \"Phone\"\n",
    "master_df_id_col = \"Company ID\"\n",
    "id_col_name = master_df_id_col\n",
    "add_company_ids(directory_path=directory_path, \n",
    "                master_df_path=master_df_path, \n",
    "                key_col=key_col, \n",
    "                master_df_key_col=master_df_key_col, \n",
    "                master_df_id_col=master_df_id_col, \n",
    "                id_col_name=id_col_name, \n",
    "                output_directory=output_directory)"
   ]
  },
  {
   "cell_type": "code",
   "execution_count": 84,
   "metadata": {},
   "outputs": [
    {
     "output_type": "stream",
     "name": "stdout",
     "text": [
      "1 files found in directory\n"
     ]
    }
   ],
   "source": [
    "output_directory = \"C:\\\\Users\\\\Spencer\\\\Desktop\\\\clean\\\\data\\\\data_with_id\\\\steelworks_buffett_&_grill_11_3_20\"\n",
    "master_df_path = \"C:\\\\Users\\\\Spencer\\\\Desktop\\\\clean\\\\data\\\\data.xlsx\"\n",
    "directory_path = \"C:\\\\Users\\\\Spencer\\\\Box Sync\\\\Scraped\\\\steelworks_buffett_&_grill_11_3_20\"\n",
    "key_col = \"key\"\n",
    "master_df_key_col = \"Phone\"\n",
    "master_df_id_col = \"Company ID\"\n",
    "id_col_name = master_df_id_col\n",
    "add_company_ids(directory_path=directory_path, \n",
    "                master_df_path=master_df_path, \n",
    "                key_col=key_col, \n",
    "                master_df_key_col=master_df_key_col, \n",
    "                master_df_id_col=master_df_id_col, \n",
    "                id_col_name=id_col_name, \n",
    "                output_directory=output_directory)"
   ]
  },
  {
   "cell_type": "code",
   "execution_count": 86,
   "metadata": {},
   "outputs": [
    {
     "output_type": "stream",
     "name": "stdout",
     "text": [
      "1 files found in directory\n"
     ]
    }
   ],
   "source": [
    "output_directory = \"C:\\\\Users\\\\Spencer\\\\Desktop\\\\clean\\\\data\\\\data_with_id\\\\sukotto_11_3_20\"\n",
    "master_df_path = \"C:\\\\Users\\\\Spencer\\\\Desktop\\\\clean\\\\data\\\\data.xlsx\"\n",
    "directory_path = \"C:\\\\Users\\\\Spencer\\\\Box Sync\\\\Scraped\\\\sukotto_11_3_20\"\n",
    "key_col = \"key\"\n",
    "master_df_key_col = \"Phone\"\n",
    "master_df_id_col = \"Company ID\"\n",
    "id_col_name = master_df_id_col\n",
    "add_company_ids(directory_path=directory_path, \n",
    "                master_df_path=master_df_path, \n",
    "                key_col=key_col, \n",
    "                master_df_key_col=master_df_key_col, \n",
    "                master_df_id_col=master_df_id_col, \n",
    "                id_col_name=id_col_name, \n",
    "                output_directory=output_directory)"
   ]
  },
  {
   "cell_type": "code",
   "execution_count": 87,
   "metadata": {},
   "outputs": [
    {
     "output_type": "stream",
     "name": "stdout",
     "text": [
      "1 files found in directory\n"
     ]
    }
   ],
   "source": [
    "output_directory = \"C:\\\\Users\\\\Spencer\\\\Desktop\\\\clean\\\\data\\\\data_with_id\\\\the_market_by_villa_11_3_20\"\n",
    "master_df_path = \"C:\\\\Users\\\\Spencer\\\\Desktop\\\\clean\\\\data\\\\data.xlsx\"\n",
    "directory_path = \"C:\\\\Users\\\\Spencer\\\\Box Sync\\\\Scraped\\\\the_market_by_villa_11_3_20\"\n",
    "key_col = \"key\"\n",
    "master_df_key_col = \"Phone\"\n",
    "master_df_id_col = \"Company ID\"\n",
    "id_col_name = master_df_id_col\n",
    "add_company_ids(directory_path=directory_path, \n",
    "                master_df_path=master_df_path, \n",
    "                key_col=key_col, \n",
    "                master_df_key_col=master_df_key_col, \n",
    "                master_df_id_col=master_df_id_col, \n",
    "                id_col_name=id_col_name, \n",
    "                output_directory=output_directory)"
   ]
  },
  {
   "cell_type": "code",
   "execution_count": 88,
   "metadata": {},
   "outputs": [
    {
     "output_type": "stream",
     "name": "stdout",
     "text": [
      "1 files found in directory\n"
     ]
    }
   ],
   "source": [
    "output_directory = \"C:\\\\Users\\\\Spencer\\\\Desktop\\\\clean\\\\data\\\\data_with_id\\\\the_office_beer_bar_&_grill_11_3_20\"\n",
    "master_df_path = \"C:\\\\Users\\\\Spencer\\\\Desktop\\\\clean\\\\data\\\\data.xlsx\"\n",
    "directory_path = \"C:\\\\Users\\\\Spencer\\\\Box Sync\\\\Scraped\\\\the_office_beer_bar_&_grill_11_3_20\"\n",
    "key_col = \"key\"\n",
    "master_df_key_col = \"Phone\"\n",
    "master_df_id_col = \"Company ID\"\n",
    "id_col_name = master_df_id_col\n",
    "add_company_ids(directory_path=directory_path, \n",
    "                master_df_path=master_df_path, \n",
    "                key_col=key_col, \n",
    "                master_df_key_col=master_df_key_col, \n",
    "                master_df_id_col=master_df_id_col, \n",
    "                id_col_name=id_col_name, \n",
    "                output_directory=output_directory)"
   ]
  },
  {
   "cell_type": "code",
   "execution_count": 89,
   "metadata": {},
   "outputs": [
    {
     "output_type": "stream",
     "name": "stdout",
     "text": [
      "145 files found in directory\n"
     ]
    }
   ],
   "source": [
    "output_directory = \"C:\\\\Users\\\\Spencer\\\\Desktop\\\\clean\\\\data\\\\data_with_id\\\\villa_fresh_10_19_2020\"\n",
    "master_df_path = \"C:\\\\Users\\\\Spencer\\\\Desktop\\\\clean\\\\data\\\\data.xlsx\"\n",
    "directory_path = \"C:\\\\Users\\\\Spencer\\\\Box Sync\\\\Scraped\\\\villa_fresh_10_19_2020\"\n",
    "key_col = \"key\"\n",
    "master_df_key_col = \"Phone\"\n",
    "master_df_id_col = \"Company ID\"\n",
    "id_col_name = master_df_id_col\n",
    "add_company_ids(directory_path=directory_path, \n",
    "                master_df_path=master_df_path, \n",
    "                key_col=key_col, \n",
    "                master_df_key_col=master_df_key_col, \n",
    "                master_df_id_col=master_df_id_col, \n",
    "                id_col_name=id_col_name, \n",
    "                output_directory=output_directory)"
   ]
  },
  {
   "cell_type": "code",
   "execution_count": 90,
   "metadata": {},
   "outputs": [
    {
     "output_type": "stream",
     "name": "stdout",
     "text": [
      "14 files found in directory\n"
     ]
    }
   ],
   "source": [
    "output_directory = \"C:\\\\Users\\\\Spencer\\\\Desktop\\\\clean\\\\data\\\\data_with_id\\\\villa_pizza_10_19_2020\"\n",
    "master_df_path = \"C:\\\\Users\\\\Spencer\\\\Desktop\\\\clean\\\\data\\\\data.xlsx\"\n",
    "directory_path = \"C:\\\\Users\\\\Spencer\\\\Box Sync\\\\Scraped\\\\villa_pizza_10_19_2020\"\n",
    "key_col = \"key\"\n",
    "master_df_key_col = \"Phone\"\n",
    "master_df_id_col = \"Company ID\"\n",
    "id_col_name = master_df_id_col\n",
    "add_company_ids(directory_path=directory_path, \n",
    "                master_df_path=master_df_path, \n",
    "                key_col=key_col, \n",
    "                master_df_key_col=master_df_key_col, \n",
    "                master_df_id_col=master_df_id_col, \n",
    "                id_col_name=id_col_name, \n",
    "                output_directory=output_directory)"
   ]
  },
  {
   "cell_type": "code",
   "execution_count": 91,
   "metadata": {},
   "outputs": [
    {
     "output_type": "stream",
     "name": "stdout",
     "text": [
      "2 files found in directory\n"
     ]
    }
   ],
   "source": [
    "output_directory = \"C:\\\\Users\\\\Spencer\\\\Desktop\\\\clean\\\\data\\\\data_with_id\\\\bananas_11_3_20\"\n",
    "master_df_path = \"C:\\\\Users\\\\Spencer\\\\Desktop\\\\clean\\\\data\\\\data.xlsx\"\n",
    "directory_path = \"C:\\\\Users\\\\Spencer\\\\Box Sync\\\\Scraped\\\\bananas_11_3_20\"\n",
    "key_col = \"key\"\n",
    "master_df_key_col = \"Phone\"\n",
    "master_df_id_col = \"Company ID\"\n",
    "id_col_name = master_df_id_col\n",
    "add_company_ids(directory_path=directory_path, \n",
    "                master_df_path=master_df_path, \n",
    "                key_col=key_col, \n",
    "                master_df_key_col=master_df_key_col, \n",
    "                master_df_id_col=master_df_id_col, \n",
    "                id_col_name=id_col_name, \n",
    "                output_directory=output_directory)"
   ]
  },
  {
   "cell_type": "code",
   "execution_count": 2,
   "metadata": {},
   "outputs": [
    {
     "output_type": "stream",
     "name": "stdout",
     "text": [
      "12 files found in directory\n"
     ]
    }
   ],
   "source": [
    "output_directory = \"C:\\\\Users\\\\Spencer\\\\Desktop\\\\clean\\\\data\\\\data_with_id\\\\lou_malnatis_pizzeria_11_1_20_part1\"\n",
    "master_df_path = \"C:\\\\Users\\\\Spencer\\\\Desktop\\\\clean\\\\data\\\\data.xlsx\"\n",
    "directory_path = \"C:\\\\Users\\\\Spencer\\\\Box Sync\\\\Scraped\\\\lou_malnatis_pizzeria_11_1_20_part1\"\n",
    "key_col = \"key\"\n",
    "master_df_key_col = \"Phone\"\n",
    "master_df_id_col = \"Company ID\"\n",
    "id_col_name = master_df_id_col\n",
    "add_company_ids(directory_path=directory_path, \n",
    "                master_df_path=master_df_path, \n",
    "                key_col=key_col, \n",
    "                master_df_key_col=master_df_key_col, \n",
    "                master_df_id_col=master_df_id_col, \n",
    "                id_col_name=id_col_name, \n",
    "                output_directory=output_directory)"
   ]
  },
  {
   "cell_type": "code",
   "execution_count": 2,
   "metadata": {},
   "outputs": [
    {
     "output_type": "stream",
     "name": "stdout",
     "text": [
      "40 files found in directory\n"
     ]
    }
   ],
   "source": [
    "output_directory = \"C:\\\\Users\\\\Spencer\\\\Desktop\\\\clean\\\\data\\\\data_with_id\\\\anthonys_9_29_2020\"\n",
    "master_df_path = \"C:\\\\Users\\\\Spencer\\\\Desktop\\\\clean\\\\data\\\\data_sub.csv\"\n",
    "directory_path = \"C:\\\\Users\\\\Spencer\\\\Box Sync\\\\Scraped\\\\anthonys_9_29_2020\"\n",
    "key_col = \"key\"\n",
    "master_df_key_col = \"anthony\"\n",
    "master_df_id_col = \"Company ID\"\n",
    "id_col_name = master_df_id_col\n",
    "add_company_ids(directory_path=directory_path, \n",
    "                master_df_path=master_df_path, \n",
    "                key_col=key_col, \n",
    "                master_df_key_col=master_df_key_col, \n",
    "                master_df_id_col=master_df_id_col, \n",
    "                id_col_name=id_col_name, \n",
    "                output_directory=output_directory)"
   ]
  },
  {
   "cell_type": "code",
   "execution_count": 3,
   "metadata": {},
   "outputs": [
    {
     "output_type": "stream",
     "name": "stdout",
     "text": [
      "25 files found in directory\n"
     ]
    }
   ],
   "source": [
    "output_directory = \"C:\\\\Users\\\\Spencer\\\\Desktop\\\\clean\\\\data\\\\data_with_id\\\\anthonys_9_30_2020\"\n",
    "master_df_path = \"C:\\\\Users\\\\Spencer\\\\Desktop\\\\clean\\\\data\\\\data_sub.csv\"\n",
    "directory_path = \"C:\\\\Users\\\\Spencer\\\\Box Sync\\\\Scraped\\\\anthonys_9_30_2020\"\n",
    "key_col = \"key\"\n",
    "master_df_key_col = \"anthony\"\n",
    "master_df_id_col = \"Company ID\"\n",
    "id_col_name = master_df_id_col\n",
    "add_company_ids(directory_path=directory_path, \n",
    "                master_df_path=master_df_path, \n",
    "                key_col=key_col, \n",
    "                master_df_key_col=master_df_key_col, \n",
    "                master_df_id_col=master_df_id_col, \n",
    "                id_col_name=id_col_name, \n",
    "                output_directory=output_directory)"
   ]
  },
  {
   "cell_type": "code",
   "execution_count": 4,
   "metadata": {},
   "outputs": [
    {
     "output_type": "stream",
     "name": "stdout",
     "text": [
      "136 files found in directory\n"
     ]
    }
   ],
   "source": [
    "output_directory = \"C:\\\\Users\\\\Spencer\\\\Desktop\\\\clean\\\\data\\\\data_with_id\\\\donatos_9_30_2020\"\n",
    "master_df_path = \"C:\\\\Users\\\\Spencer\\\\Desktop\\\\clean\\\\data\\\\data_sub.csv\"\n",
    "directory_path = \"C:\\\\Users\\\\Spencer\\\\Box Sync\\\\Scraped\\\\donatos_9_30_2020\"\n",
    "key_col = \"key\"\n",
    "master_df_key_col = \"donatos\"\n",
    "master_df_id_col = \"Company ID\"\n",
    "id_col_name = master_df_id_col\n",
    "add_company_ids(directory_path=directory_path, \n",
    "                master_df_path=master_df_path, \n",
    "                key_col=key_col, \n",
    "                master_df_key_col=master_df_key_col, \n",
    "                master_df_id_col=master_df_id_col, \n",
    "                id_col_name=id_col_name, \n",
    "                output_directory=output_directory)"
   ]
  },
  {
   "cell_type": "code",
   "execution_count": 5,
   "metadata": {},
   "outputs": [
    {
     "output_type": "stream",
     "name": "stdout",
     "text": [
      "19 files found in directory\n"
     ]
    }
   ],
   "source": [
    "output_directory = \"C:\\\\Users\\\\Spencer\\\\Desktop\\\\clean\\\\data\\\\data_with_id\\\\donatos_10_3_2020\"\n",
    "master_df_path = \"C:\\\\Users\\\\Spencer\\\\Desktop\\\\clean\\\\data\\\\data_sub.csv\"\n",
    "directory_path = \"C:\\\\Users\\\\Spencer\\\\Box Sync\\\\Scraped\\\\donatos_10_3_2020\"\n",
    "key_col = \"key\"\n",
    "master_df_key_col = \"donatos\"\n",
    "master_df_id_col = \"Company ID\"\n",
    "id_col_name = master_df_id_col\n",
    "add_company_ids(directory_path=directory_path, \n",
    "                master_df_path=master_df_path, \n",
    "                key_col=key_col, \n",
    "                master_df_key_col=master_df_key_col, \n",
    "                master_df_id_col=master_df_id_col, \n",
    "                id_col_name=id_col_name, \n",
    "                output_directory=output_directory)"
   ]
  },
  {
   "cell_type": "code",
   "execution_count": 6,
   "metadata": {},
   "outputs": [
    {
     "output_type": "stream",
     "name": "stdout",
     "text": [
      "319 files found in directory\n"
     ]
    }
   ],
   "source": [
    "output_directory = \"C:\\\\Users\\\\Spencer\\\\Desktop\\\\clean\\\\data\\\\data_with_id\\\\blaze_11_6_20\"\n",
    "master_df_path = \"C:\\\\Users\\\\Spencer\\\\Desktop\\\\clean\\\\data\\\\data_blaze.csv\"\n",
    "directory_path = \"C:\\\\Users\\\\Spencer\\\\Box Sync\\\\Scraped\\\\blaze_11_6_20\"\n",
    "key_col = \"key\"\n",
    "master_df_key_col = \"index\"\n",
    "master_df_id_col = \"Company ID\"\n",
    "id_col_name = master_df_id_col\n",
    "add_company_ids(directory_path=directory_path, \n",
    "                master_df_path=master_df_path, \n",
    "                key_col=key_col, \n",
    "                master_df_key_col=master_df_key_col, \n",
    "                master_df_id_col=master_df_id_col, \n",
    "                id_col_name=id_col_name, \n",
    "                output_directory=output_directory)"
   ]
  },
  {
   "cell_type": "code",
   "execution_count": 1,
   "metadata": {},
   "outputs": [],
   "source": [
    "from df_process import add_addresses"
   ]
  },
  {
   "cell_type": "code",
   "execution_count": 2,
   "metadata": {},
   "outputs": [
    {
     "output_type": "stream",
     "name": "stdout",
     "text": [
      "40 files found in directory\n"
     ]
    }
   ],
   "source": [
    "directory_path = \"C:\\\\Users\\\\Spencer\\\\Desktop\\\\clean\\\\data\\\\data_with_id\\\\anthonys_9_29_2020\"\n",
    "output_directory = \"C:\\\\Users\\\\Spencer\\\\Desktop\\\\clean\\\\data\\\\data_with_address\\\\anthonys_9_29_2020\"\n",
    "master_df_path = \"C:\\\\Users\\\\Spencer\\\\Desktop\\\\clean\\\\data\\\\data.xlsx\"\n",
    "master_df_id_col = \"Company ID\"\n",
    "master_df_address_cols = [\"Company Name\", \"Address 1\", \"City\", \"State\", \"Zip\"]\n",
    "new_address_col_name = \"Full Address\"\n",
    "add_addresses(directory_path, \n",
    "                master_df_path=master_df_path, \n",
    "                master_df_id_col=master_df_id_col, \n",
    "                master_df_address_cols=master_df_address_cols, \n",
    "                output_directory=output_directory, \n",
    "                new_address_col_name=new_address_col_name)"
   ]
  },
  {
   "cell_type": "code",
   "execution_count": 3,
   "metadata": {},
   "outputs": [
    {
     "output_type": "stream",
     "name": "stdout",
     "text": [
      "25 files found in directory\n"
     ]
    }
   ],
   "source": [
    "directory_path = \"C:\\\\Users\\\\Spencer\\\\Desktop\\\\clean\\\\data\\\\data_with_id\\\\anthonys_9_30_2020\"\n",
    "output_directory = \"C:\\\\Users\\\\Spencer\\\\Desktop\\\\clean\\\\data\\\\data_with_address\\\\anthonys_9_30_2020\"\n",
    "master_df_path = \"C:\\\\Users\\\\Spencer\\\\Desktop\\\\clean\\\\data\\\\data.xlsx\"\n",
    "master_df_id_col = \"Company ID\"\n",
    "master_df_address_cols = [\"Company Name\", \"Address 1\", \"City\", \"State\", \"Zip\"]\n",
    "new_address_col_name = \"Full Address\"\n",
    "add_addresses(directory_path, \n",
    "                master_df_path=master_df_path, \n",
    "                master_df_id_col=master_df_id_col, \n",
    "                master_df_address_cols=master_df_address_cols, \n",
    "                output_directory=output_directory, \n",
    "                new_address_col_name=new_address_col_name)"
   ]
  },
  {
   "cell_type": "code",
   "execution_count": 4,
   "metadata": {},
   "outputs": [
    {
     "output_type": "stream",
     "name": "stdout",
     "text": [
      "2 files found in directory\n"
     ]
    }
   ],
   "source": [
    "directory_path = \"C:\\\\Users\\\\Spencer\\\\Desktop\\\\clean\\\\data\\\\data_with_id\\\\bananas_11_3_20\"\n",
    "output_directory = \"C:\\\\Users\\\\Spencer\\\\Desktop\\\\clean\\\\data\\\\data_with_address\\\\bananas_11_3_20\"\n",
    "master_df_path = \"C:\\\\Users\\\\Spencer\\\\Desktop\\\\clean\\\\data\\\\data.xlsx\"\n",
    "master_df_id_col = \"Company ID\"\n",
    "master_df_address_cols = [\"Company Name\", \"Address 1\", \"City\", \"State\", \"Zip\"]\n",
    "new_address_col_name = \"Full Address\"\n",
    "add_addresses(directory_path, \n",
    "                master_df_path=master_df_path, \n",
    "                master_df_id_col=master_df_id_col, \n",
    "                master_df_address_cols=master_df_address_cols, \n",
    "                output_directory=output_directory, \n",
    "                new_address_col_name=new_address_col_name)"
   ]
  },
  {
   "cell_type": "code",
   "execution_count": 5,
   "metadata": {},
   "outputs": [
    {
     "output_type": "stream",
     "name": "stdout",
     "text": [
      "319 files found in directory\n"
     ]
    }
   ],
   "source": [
    "directory_path = \"C:\\\\Users\\\\Spencer\\\\Desktop\\\\clean\\\\data\\\\data_with_id\\\\blaze_11_6_20\"\n",
    "output_directory = \"C:\\\\Users\\\\Spencer\\\\Desktop\\\\clean\\\\data\\\\data_with_address\\\\blaze_11_6_20\"\n",
    "master_df_path = \"C:\\\\Users\\\\Spencer\\\\Desktop\\\\clean\\\\data\\\\data.xlsx\"\n",
    "master_df_id_col = \"Company ID\"\n",
    "master_df_address_cols = [\"Company Name\", \"Address 1\", \"City\", \"State\", \"Zip\"]\n",
    "new_address_col_name = \"Full Address\"\n",
    "add_addresses(directory_path, \n",
    "                master_df_path=master_df_path, \n",
    "                master_df_id_col=master_df_id_col, \n",
    "                master_df_address_cols=master_df_address_cols, \n",
    "                output_directory=output_directory, \n",
    "                new_address_col_name=new_address_col_name)"
   ]
  },
  {
   "cell_type": "code",
   "execution_count": null,
   "metadata": {},
   "outputs": [],
   "source": [
    "directory_path = \"C:\\\\Users\\\\Spencer\\\\Desktop\\\\clean\\\\data\\\\data_with_id\\\\brick_oven_11_3_20\"\n",
    "output_directory = \"C:\\\\Users\\\\Spencer\\\\Desktop\\\\clean\\\\data\\\\data_with_address\\\\brick_oven_11_3_20\"\n",
    "master_df_path = \"C:\\\\Users\\\\Spencer\\\\Desktop\\\\clean\\\\data\\\\data.xlsx\"\n",
    "master_df_id_col = \"Company ID\"\n",
    "master_df_address_cols = [\"Company Name\", \"Address 1\", \"City\", \"State\", \"Zip\"]\n",
    "new_address_col_name = \"Full Address\"\n",
    "add_addresses(directory_path, \n",
    "                master_df_path=master_df_path, \n",
    "                master_df_id_col=master_df_id_col, \n",
    "                master_df_address_cols=master_df_address_cols, \n",
    "                output_directory=output_directory, \n",
    "                new_address_col_name=new_address_col_name)"
   ]
  },
  {
   "cell_type": "code",
   "execution_count": 1,
   "metadata": {},
   "outputs": [],
   "source": [
    "from df_process import do_all_addresses"
   ]
  },
  {
   "cell_type": "code",
   "execution_count": 2,
   "metadata": {},
   "outputs": [
    {
     "output_type": "stream",
     "name": "stdout",
     "text": [
      "40 files found in directory\n",
      "25 files found in directory\n",
      "2 files found in directory\n",
      "319 files found in directory\n",
      "3 files found in directory\n",
      "29 files found in directory\n",
      "181 files found in directory\n",
      "29 files found in directory\n",
      "9 files found in directory\n",
      "68 files found in directory\n",
      "98 files found in directory\n",
      "312 files found in directory\n",
      "51 files found in directory\n",
      "383 files found in directory\n",
      "9 files found in directory\n",
      "53 files found in directory\n",
      "2 files found in directory\n",
      "83 files found in directory\n",
      "23 files found in directory\n",
      "19 files found in directory\n",
      "136 files found in directory\n",
      "36 files found in directory\n",
      "31 files found in directory\n",
      "208 files found in directory\n",
      "1 files found in directory\n",
      "60 files found in directory\n",
      "1 files found in directory\n",
      "4 files found in directory\n",
      "67 files found in directory\n",
      "412 files found in directory\n",
      "14 files found in directory\n",
      "1 files found in directory\n",
      "5 files found in directory\n",
      "384 files found in directory\n",
      "4 files found in directory\n",
      "50 files found in directory\n",
      "16 files found in directory\n",
      "65 files found in directory\n",
      "99 files found in directory\n",
      "2 files found in directory\n",
      "13 files found in directory\n",
      "38 files found in directory\n",
      "891 files found in directory\n",
      "185 files found in directory\n",
      "434 files found in directory\n",
      "62 files found in directory\n",
      "204 files found in directory\n",
      "3 files found in directory\n",
      "83 files found in directory\n",
      "6 files found in directory\n",
      "33 files found in directory\n",
      "4 files found in directory\n",
      "86 files found in directory\n",
      "2375 files found in directory\n",
      "598 files found in directory\n",
      "1327 files found in directory\n",
      "98 files found in directory\n",
      "118 files found in directory\n",
      "54 files found in directory\n",
      "30 files found in directory\n",
      "79 files found in directory\n",
      "101 files found in directory\n",
      "66 files found in directory\n",
      "452 files found in directory\n",
      "440 files found in directory\n",
      "454 files found in directory\n",
      "467 files found in directory\n",
      "454 files found in directory\n",
      "474 files found in directory\n",
      "476 files found in directory\n",
      "248 files found in directory\n",
      "720 files found in directory\n",
      "133 files found in directory\n",
      "6 files found in directory\n",
      "1 files found in directory\n",
      "55 files found in directory\n",
      "58 files found in directory\n",
      "199 files found in directory\n",
      "8 files found in directory\n",
      "2 files found in directory\n",
      "209 files found in directory\n",
      "413 files found in directory\n",
      "288 files found in directory\n",
      "2 files found in directory\n",
      "52 files found in directory\n",
      "141 files found in directory\n",
      "45 files found in directory\n",
      "1 files found in directory\n",
      "1 files found in directory\n",
      "22 files found in directory\n",
      "1 files found in directory\n",
      "1 files found in directory\n",
      "1 files found in directory\n",
      "63 files found in directory\n",
      "145 files found in directory\n",
      "14 files found in directory\n",
      "86 files found in directory\n",
      "31 files found in directory\n"
     ]
    }
   ],
   "source": [
    "greater_directory = \"C:\\\\Users\\\\Spencer\\\\Desktop\\\\clean\\\\data\\\\data_with_id\"\n",
    "output_directory = \"C:\\\\Users\\\\Spencer\\\\Desktop\\\\clean\\\\data\\\\data_with_address\"\n",
    "master_df_path = \"C:\\\\Users\\\\Spencer\\\\Desktop\\\\clean\\\\data\\\\data.xlsx\"\n",
    "master_df_id_col = \"Company ID\"\n",
    "master_df_address_cols = [\"Company Name\", \"Address 1\", \"City\", \"State\", \"Zip\"]\n",
    "new_address_col_name = \"Full Address\"\n",
    "do_all_addresses(greater_directory=greater_directory,  \n",
    "                master_df_path=master_df_path, \n",
    "                master_df_id_col=master_df_id_col, \n",
    "                master_df_address_cols=master_df_address_cols, \n",
    "                output_directory=output_directory, \n",
    "                new_address_col_name=new_address_col_name)"
   ]
  },
  {
   "cell_type": "code",
   "execution_count": 1,
   "metadata": {},
   "outputs": [],
   "source": [
    "from df_process import combine_directory"
   ]
  },
  {
   "cell_type": "code",
   "execution_count": 2,
   "metadata": {},
   "outputs": [],
   "source": [
    "directory_path = \"C:\\\\Users\\\\Spencer\\\\Desktop\\\\clean\\\\data\\\\data_with_address\\\\anthonys_9_29_2020\"\n",
    "text_directory = \"C:\\\\Users\\\\Spencer\\\\Desktop\\\\clean\\\\data\\\\processed\\\\text_reviews\"\n",
    "text_directory_relative = \".\\\\text_reviews\"\n",
    "output_directory = \"C:\\\\Users\\\\Spencer\\\\Desktop\\\\clean\\\\data\\\\processed\"\n",
    "address_col = \"Full Address\"\n",
    "time_col_name = \"timeSince\"\n",
    "combine_directory(directory_path=directory_path, \n",
    "                    text_directory=text_directory,\n",
    "                    text_directory_relative=text_directory_relative,\n",
    "                    output_directory=output_directory, \n",
    "                    address_col=address_col, \n",
    "                    time_col_name=time_col_name, \n",
    "                    company_name=\"Anthony's Coal Fired Pizza\"\n",
    "                    )"
   ]
  },
  {
   "cell_type": "code",
   "execution_count": 3,
   "metadata": {},
   "outputs": [],
   "source": [
    "directory_path = \"C:\\\\Users\\\\Spencer\\\\Desktop\\\\clean\\\\data\\\\data_with_address\\\\anthonys_9_30_2020\"\n",
    "text_directory = \"C:\\\\Users\\\\Spencer\\\\Desktop\\\\clean\\\\data\\\\processed\\\\text_reviews\"\n",
    "text_directory_relative = \".\\\\text_reviews\"\n",
    "output_directory = \"C:\\\\Users\\\\Spencer\\\\Desktop\\\\clean\\\\data\\\\processed\"\n",
    "address_col = \"Full Address\"\n",
    "time_col_name = \"timeSince\"\n",
    "combine_directory(directory_path=directory_path, \n",
    "                    text_directory=text_directory,\n",
    "                    text_directory_relative=text_directory_relative,\n",
    "                    output_directory=output_directory, \n",
    "                    address_col=address_col, \n",
    "                    time_col_name=time_col_name, \n",
    "                    company_name=\"Anthony's Coal Fired Pizza\"\n",
    "                    )"
   ]
  },
  {
   "cell_type": "code",
   "execution_count": 2,
   "metadata": {},
   "outputs": [
    {
     "output_type": "stream",
     "name": "stdout",
     "text": [
      "2020-11-03 00:00:00\n",
      "2020-11-03 00:00:00\n"
     ]
    }
   ],
   "source": [
    "directory_path = \"C:\\\\Users\\\\Spencer\\\\Desktop\\\\clean\\\\data\\\\data_with_address\\\\bananas_11_3_20\"\n",
    "text_directory = \"C:\\\\Users\\\\Spencer\\\\Desktop\\\\clean\\\\data\\\\processed\\\\text_reviews\"\n",
    "text_directory_relative = \".\\\\text_reviews\"\n",
    "output_directory = \"C:\\\\Users\\\\Spencer\\\\Desktop\\\\clean\\\\data\\\\processed\"\n",
    "address_col = \"Full Address\"\n",
    "time_col_name = \"timeSince\"\n",
    "combine_directory(directory_path=directory_path, \n",
    "                    text_directory=text_directory,\n",
    "                    text_directory_relative=text_directory_relative,\n",
    "                    output_directory=output_directory, \n",
    "                    address_col=address_col, \n",
    "                    time_col_name=time_col_name, \n",
    "                    company_name=\"Bananas Ultimate Juice Bar\"\n",
    "                    )"
   ]
  },
  {
   "cell_type": "code",
   "execution_count": 2,
   "metadata": {},
   "outputs": [],
   "source": [
    "directory_path = \"C:\\\\Users\\\\Spencer\\\\Desktop\\\\clean\\\\data\\\\data_with_address\\\\blaze_11_6_20\"\n",
    "text_directory = \"C:\\\\Users\\\\Spencer\\\\Desktop\\\\clean\\\\data\\\\processed\\\\text_reviews\"\n",
    "text_directory_relative = \".\\\\text_reviews\"\n",
    "output_directory = \"C:\\\\Users\\\\Spencer\\\\Desktop\\\\clean\\\\data\\\\processed\"\n",
    "address_col = \"Full Address\"\n",
    "time_col_name = \"timeSince\"\n",
    "combine_directory(directory_path=directory_path, \n",
    "                    text_directory=text_directory,\n",
    "                    text_directory_relative=text_directory_relative,\n",
    "                    output_directory=output_directory, \n",
    "                    address_col=address_col, \n",
    "                    time_col_name=time_col_name, \n",
    "                    company_name=\"Blaze Pizza\"\n",
    "                    )"
   ]
  },
  {
   "cell_type": "code",
   "execution_count": 3,
   "metadata": {},
   "outputs": [],
   "source": [
    "directory_path = \"C:\\\\Users\\\\Spencer\\\\Desktop\\\\clean\\\\data\\\\data_with_address\\\\brick_oven_11_3_20\"\n",
    "text_directory = \"C:\\\\Users\\\\Spencer\\\\Desktop\\\\clean\\\\data\\\\processed\\\\text_reviews\"\n",
    "text_directory_relative = \".\\\\text_reviews\"\n",
    "output_directory = \"C:\\\\Users\\\\Spencer\\\\Desktop\\\\clean\\\\data\\\\processed\"\n",
    "address_col = \"Full Address\"\n",
    "time_col_name = \"timeSince\"\n",
    "combine_directory(directory_path=directory_path, \n",
    "                    text_directory=text_directory,\n",
    "                    text_directory_relative=text_directory_relative,\n",
    "                    output_directory=output_directory, \n",
    "                    address_col=address_col, \n",
    "                    time_col_name=time_col_name, \n",
    "                    company_name=\"Brick Oven Pizza Company\"\n",
    "                    )"
   ]
  },
  {
   "cell_type": "code",
   "execution_count": 4,
   "metadata": {},
   "outputs": [],
   "source": [
    "directory_path = \"C:\\\\Users\\\\Spencer\\\\Desktop\\\\clean\\\\data\\\\data_with_address\\\\brixx_11_2_20\"\n",
    "text_directory = \"C:\\\\Users\\\\Spencer\\\\Desktop\\\\clean\\\\data\\\\processed\\\\text_reviews\"\n",
    "text_directory_relative = \".\\\\text_reviews\"\n",
    "output_directory = \"C:\\\\Users\\\\Spencer\\\\Desktop\\\\clean\\\\data\\\\processed\"\n",
    "address_col = \"Full Address\"\n",
    "time_col_name = \"timeSince\"\n",
    "combine_directory(directory_path=directory_path, \n",
    "                    text_directory=text_directory,\n",
    "                    text_directory_relative=text_directory_relative,\n",
    "                    output_directory=output_directory, \n",
    "                    address_col=address_col, \n",
    "                    time_col_name=time_col_name, \n",
    "                    company_name=\"Brixx Wood Fired Pizza\"\n",
    "                    )"
   ]
  },
  {
   "cell_type": "code",
   "execution_count": 5,
   "metadata": {},
   "outputs": [],
   "source": [
    "directory_path = \"C:\\\\Users\\\\Spencer\\\\Desktop\\\\clean\\\\data\\\\data_with_address\\\\california_pizza_kitchen_10_13_2020\"\n",
    "text_directory = \"C:\\\\Users\\\\Spencer\\\\Desktop\\\\clean\\\\data\\\\processed\\\\text_reviews\"\n",
    "text_directory_relative = \".\\\\text_reviews\"\n",
    "output_directory = \"C:\\\\Users\\\\Spencer\\\\Desktop\\\\clean\\\\data\\\\processed\"\n",
    "address_col = \"Full Address\"\n",
    "time_col_name = \"timeSince\"\n",
    "combine_directory(directory_path=directory_path, \n",
    "                    text_directory=text_directory,\n",
    "                    text_directory_relative=text_directory_relative,\n",
    "                    output_directory=output_directory, \n",
    "                    address_col=address_col, \n",
    "                    time_col_name=time_col_name, \n",
    "                    company_name=\"California Pizza Kitchen\"\n",
    "                    )"
   ]
  },
  {
   "cell_type": "code",
   "execution_count": 6,
   "metadata": {},
   "outputs": [],
   "source": [
    "directory_path = \"C:\\\\Users\\\\Spencer\\\\Desktop\\\\clean\\\\data\\\\data_with_address\\\\chanellos_11_2_20\"\n",
    "text_directory = \"C:\\\\Users\\\\Spencer\\\\Desktop\\\\clean\\\\data\\\\processed\\\\text_reviews\"\n",
    "text_directory_relative = \".\\\\text_reviews\"\n",
    "output_directory = \"C:\\\\Users\\\\Spencer\\\\Desktop\\\\clean\\\\data\\\\processed\"\n",
    "address_col = \"Full Address\"\n",
    "time_col_name = \"timeSince\"\n",
    "combine_directory(directory_path=directory_path, \n",
    "                    text_directory=text_directory,\n",
    "                    text_directory_relative=text_directory_relative,\n",
    "                    output_directory=output_directory, \n",
    "                    address_col=address_col, \n",
    "                    time_col_name=time_col_name, \n",
    "                    company_name=\"Chanellos Pizza\"\n",
    "                    )"
   ]
  },
  {
   "cell_type": "code",
   "execution_count": 7,
   "metadata": {},
   "outputs": [],
   "source": [
    "directory_path = \"C:\\\\Users\\\\Spencer\\\\Desktop\\\\clean\\\\data\\\\data_with_address\\\\cheezies_11_2_20\"\n",
    "text_directory = \"C:\\\\Users\\\\Spencer\\\\Desktop\\\\clean\\\\data\\\\processed\\\\text_reviews\"\n",
    "text_directory_relative = \".\\\\text_reviews\"\n",
    "output_directory = \"C:\\\\Users\\\\Spencer\\\\Desktop\\\\clean\\\\data\\\\processed\"\n",
    "address_col = \"Full Address\"\n",
    "time_col_name = \"timeSince\"\n",
    "combine_directory(directory_path=directory_path, \n",
    "                    text_directory=text_directory,\n",
    "                    text_directory_relative=text_directory_relative,\n",
    "                    output_directory=output_directory, \n",
    "                    address_col=address_col, \n",
    "                    time_col_name=time_col_name, \n",
    "                    company_name=\"CheeZies Pizza\"\n",
    "                    )"
   ]
  },
  {
   "cell_type": "code",
   "execution_count": 8,
   "metadata": {},
   "outputs": [],
   "source": [
    "directory_path = \"C:\\\\Users\\\\Spencer\\\\Desktop\\\\clean\\\\data\\\\data_with_address\\\\chuck_e_cheese_10_8_2020\"\n",
    "text_directory = \"C:\\\\Users\\\\Spencer\\\\Desktop\\\\clean\\\\data\\\\processed\\\\text_reviews\"\n",
    "text_directory_relative = \".\\\\text_reviews\"\n",
    "output_directory = \"C:\\\\Users\\\\Spencer\\\\Desktop\\\\clean\\\\data\\\\processed\"\n",
    "address_col = \"Full Address\"\n",
    "time_col_name = \"timeSince\"\n",
    "combine_directory(directory_path=directory_path, \n",
    "                    text_directory=text_directory,\n",
    "                    text_directory_relative=text_directory_relative,\n",
    "                    output_directory=output_directory, \n",
    "                    address_col=address_col, \n",
    "                    time_col_name=time_col_name, \n",
    "                    company_name=\"Chuck E. Cheese's\"\n",
    "                    )"
   ]
  },
  {
   "cell_type": "code",
   "execution_count": 9,
   "metadata": {},
   "outputs": [],
   "source": [
    "directory_path = \"C:\\\\Users\\\\Spencer\\\\Desktop\\\\clean\\\\data\\\\data_with_address\\\\chuck_e_cheese_10_9_2020\"\n",
    "text_directory = \"C:\\\\Users\\\\Spencer\\\\Desktop\\\\clean\\\\data\\\\processed\\\\text_reviews\"\n",
    "text_directory_relative = \".\\\\text_reviews\"\n",
    "output_directory = \"C:\\\\Users\\\\Spencer\\\\Desktop\\\\clean\\\\data\\\\processed\"\n",
    "address_col = \"Full Address\"\n",
    "time_col_name = \"timeSince\"\n",
    "combine_directory(directory_path=directory_path, \n",
    "                    text_directory=text_directory,\n",
    "                    text_directory_relative=text_directory_relative,\n",
    "                    output_directory=output_directory, \n",
    "                    address_col=address_col, \n",
    "                    time_col_name=time_col_name, \n",
    "                    company_name=\"Chuck E. Cheese's\"\n",
    "                    )"
   ]
  },
  {
   "cell_type": "code",
   "execution_count": 10,
   "metadata": {},
   "outputs": [],
   "source": [
    "directory_path = \"C:\\\\Users\\\\Spencer\\\\Desktop\\\\clean\\\\data\\\\data_with_address\\\\chuck_e_cheese_10_10_2020\"\n",
    "text_directory = \"C:\\\\Users\\\\Spencer\\\\Desktop\\\\clean\\\\data\\\\processed\\\\text_reviews\"\n",
    "text_directory_relative = \".\\\\text_reviews\"\n",
    "output_directory = \"C:\\\\Users\\\\Spencer\\\\Desktop\\\\clean\\\\data\\\\processed\"\n",
    "address_col = \"Full Address\"\n",
    "time_col_name = \"timeSince\"\n",
    "combine_directory(directory_path=directory_path, \n",
    "                    text_directory=text_directory,\n",
    "                    text_directory_relative=text_directory_relative,\n",
    "                    output_directory=output_directory, \n",
    "                    address_col=address_col, \n",
    "                    time_col_name=time_col_name, \n",
    "                    company_name=\"Chuck E. Cheese's\"\n",
    "                    )"
   ]
  },
  {
   "cell_type": "code",
   "execution_count": 11,
   "metadata": {},
   "outputs": [],
   "source": [
    "directory_path = \"C:\\\\Users\\\\Spencer\\\\Desktop\\\\clean\\\\data\\\\data_with_address\\\\chuck_e_cheese_10_10_2020_2\"\n",
    "text_directory = \"C:\\\\Users\\\\Spencer\\\\Desktop\\\\clean\\\\data\\\\processed\\\\text_reviews\"\n",
    "text_directory_relative = \".\\\\text_reviews\"\n",
    "output_directory = \"C:\\\\Users\\\\Spencer\\\\Desktop\\\\clean\\\\data\\\\processed\"\n",
    "address_col = \"Full Address\"\n",
    "time_col_name = \"timeSince\"\n",
    "combine_directory(directory_path=directory_path, \n",
    "                    text_directory=text_directory,\n",
    "                    text_directory_relative=text_directory_relative,\n",
    "                    output_directory=output_directory, \n",
    "                    address_col=address_col, \n",
    "                    time_col_name=time_col_name, \n",
    "                    company_name=\"Chuck E. Cheese's\"\n",
    "                    )"
   ]
  },
  {
   "cell_type": "code",
   "execution_count": 13,
   "metadata": {},
   "outputs": [],
   "source": [
    "directory_path = \"C:\\\\Users\\\\Spencer\\\\Desktop\\\\clean\\\\data\\\\data_with_address\\\\cicis_pizza_10_27_2020\"\n",
    "text_directory = \"C:\\\\Users\\\\Spencer\\\\Desktop\\\\clean\\\\data\\\\processed\\\\text_reviews\"\n",
    "text_directory_relative = \".\\\\text_reviews\"\n",
    "output_directory = \"C:\\\\Users\\\\Spencer\\\\Desktop\\\\clean\\\\data\\\\processed\"\n",
    "address_col = \"Full Address\"\n",
    "time_col_name = \"timeSince\"\n",
    "combine_directory(directory_path=directory_path, \n",
    "                    text_directory=text_directory,\n",
    "                    text_directory_relative=text_directory_relative,\n",
    "                    output_directory=output_directory, \n",
    "                    address_col=address_col, \n",
    "                    time_col_name=time_col_name, \n",
    "                    company_name=\"CiCi's Pizza\"\n",
    "                    )"
   ]
  },
  {
   "cell_type": "code",
   "execution_count": 14,
   "metadata": {},
   "outputs": [],
   "source": [
    "directory_path = \"C:\\\\Users\\\\Spencer\\\\Desktop\\\\clean\\\\data\\\\data_with_address\\\\cicis_to_go_11_2_20\"\n",
    "text_directory = \"C:\\\\Users\\\\Spencer\\\\Desktop\\\\clean\\\\data\\\\processed\\\\text_reviews\"\n",
    "text_directory_relative = \".\\\\text_reviews\"\n",
    "output_directory = \"C:\\\\Users\\\\Spencer\\\\Desktop\\\\clean\\\\data\\\\processed\"\n",
    "address_col = \"Full Address\"\n",
    "time_col_name = \"timeSince\"\n",
    "combine_directory(directory_path=directory_path, \n",
    "                    text_directory=text_directory,\n",
    "                    text_directory_relative=text_directory_relative,\n",
    "                    output_directory=output_directory, \n",
    "                    address_col=address_col, \n",
    "                    time_col_name=time_col_name, \n",
    "                    company_name=\"CiCi's To Go\"\n",
    "                    )"
   ]
  },
  {
   "cell_type": "code",
   "execution_count": 15,
   "metadata": {},
   "outputs": [],
   "source": [
    "directory_path = \"C:\\\\Users\\\\Spencer\\\\Desktop\\\\clean\\\\data\\\\data_with_address\\\\cottage_inn_pizza_11_1_20\"\n",
    "text_directory = \"C:\\\\Users\\\\Spencer\\\\Desktop\\\\clean\\\\data\\\\processed\\\\text_reviews\"\n",
    "text_directory_relative = \".\\\\text_reviews\"\n",
    "output_directory = \"C:\\\\Users\\\\Spencer\\\\Desktop\\\\clean\\\\data\\\\processed\"\n",
    "address_col = \"Full Address\"\n",
    "time_col_name = \"timeSince\"\n",
    "combine_directory(directory_path=directory_path, \n",
    "                    text_directory=text_directory,\n",
    "                    text_directory_relative=text_directory_relative,\n",
    "                    output_directory=output_directory, \n",
    "                    address_col=address_col, \n",
    "                    time_col_name=time_col_name, \n",
    "                    company_name=\"Cottage Inn Pizza\"\n",
    "                    )"
   ]
  },
  {
   "cell_type": "code",
   "execution_count": 16,
   "metadata": {},
   "outputs": [],
   "source": [
    "directory_path = \"C:\\\\Users\\\\Spencer\\\\Desktop\\\\clean\\\\data\\\\data_with_address\\\\cpk_asap_11_3_20\"\n",
    "text_directory = \"C:\\\\Users\\\\Spencer\\\\Desktop\\\\clean\\\\data\\\\processed\\\\text_reviews\"\n",
    "text_directory_relative = \".\\\\text_reviews\"\n",
    "output_directory = \"C:\\\\Users\\\\Spencer\\\\Desktop\\\\clean\\\\data\\\\processed\"\n",
    "address_col = \"Full Address\"\n",
    "time_col_name = \"timeSince\"\n",
    "combine_directory(directory_path=directory_path, \n",
    "                    text_directory=text_directory,\n",
    "                    text_directory_relative=text_directory_relative,\n",
    "                    output_directory=output_directory, \n",
    "                    address_col=address_col, \n",
    "                    time_col_name=time_col_name, \n",
    "                    company_name=\"CPK ASAP\"\n",
    "                    )"
   ]
  },
  {
   "cell_type": "code",
   "execution_count": 17,
   "metadata": {},
   "outputs": [],
   "source": [
    "directory_path = \"C:\\\\Users\\\\Spencer\\\\Desktop\\\\clean\\\\data\\\\data_with_address\\\\dangelo_10_30_2020\"\n",
    "text_directory = \"C:\\\\Users\\\\Spencer\\\\Desktop\\\\clean\\\\data\\\\processed\\\\text_reviews\"\n",
    "text_directory_relative = \".\\\\text_reviews\"\n",
    "output_directory = \"C:\\\\Users\\\\Spencer\\\\Desktop\\\\clean\\\\data\\\\processed\"\n",
    "address_col = \"Full Address\"\n",
    "time_col_name = \"timeSince\"\n",
    "combine_directory(directory_path=directory_path, \n",
    "                    text_directory=text_directory,\n",
    "                    text_directory_relative=text_directory_relative,\n",
    "                    output_directory=output_directory, \n",
    "                    address_col=address_col, \n",
    "                    time_col_name=time_col_name, \n",
    "                    company_name=\"D'Angelo Grilled Sandwiches\"\n",
    "                    )"
   ]
  },
  {
   "cell_type": "code",
   "execution_count": 18,
   "metadata": {},
   "outputs": [],
   "source": [
    "directory_path = \"C:\\\\Users\\\\Spencer\\\\Desktop\\\\clean\\\\data\\\\data_with_address\\\\deweys_11_2_20\"\n",
    "text_directory = \"C:\\\\Users\\\\Spencer\\\\Desktop\\\\clean\\\\data\\\\processed\\\\text_reviews\"\n",
    "text_directory_relative = \".\\\\text_reviews\"\n",
    "output_directory = \"C:\\\\Users\\\\Spencer\\\\Desktop\\\\clean\\\\data\\\\processed\"\n",
    "address_col = \"Full Address\"\n",
    "time_col_name = \"timeSince\"\n",
    "combine_directory(directory_path=directory_path, \n",
    "                    text_directory=text_directory,\n",
    "                    text_directory_relative=text_directory_relative,\n",
    "                    output_directory=output_directory, \n",
    "                    address_col=address_col, \n",
    "                    time_col_name=time_col_name, \n",
    "                    company_name=\"Deweys Pizza\"\n",
    "                    )"
   ]
  },
  {
   "cell_type": "code",
   "execution_count": 19,
   "metadata": {},
   "outputs": [],
   "source": [
    "directory_path = \"C:\\\\Users\\\\Spencer\\\\Desktop\\\\clean\\\\data\\\\data_with_address\\\\donatos_9_30_2020\"\n",
    "text_directory = \"C:\\\\Users\\\\Spencer\\\\Desktop\\\\clean\\\\data\\\\processed\\\\text_reviews\"\n",
    "text_directory_relative = \".\\\\text_reviews\"\n",
    "output_directory = \"C:\\\\Users\\\\Spencer\\\\Desktop\\\\clean\\\\data\\\\processed\"\n",
    "address_col = \"Full Address\"\n",
    "time_col_name = \"timeSince\"\n",
    "combine_directory(directory_path=directory_path, \n",
    "                    text_directory=text_directory,\n",
    "                    text_directory_relative=text_directory_relative,\n",
    "                    output_directory=output_directory, \n",
    "                    address_col=address_col, \n",
    "                    time_col_name=time_col_name, \n",
    "                    company_name=\"Donatos Pizza\"\n",
    "                    )"
   ]
  },
  {
   "cell_type": "code",
   "execution_count": 20,
   "metadata": {},
   "outputs": [],
   "source": [
    "directory_path = \"C:\\\\Users\\\\Spencer\\\\Desktop\\\\clean\\\\data\\\\data_with_address\\\\donatos_10_3_2020\"\n",
    "text_directory = \"C:\\\\Users\\\\Spencer\\\\Desktop\\\\clean\\\\data\\\\processed\\\\text_reviews\"\n",
    "text_directory_relative = \".\\\\text_reviews\"\n",
    "output_directory = \"C:\\\\Users\\\\Spencer\\\\Desktop\\\\clean\\\\data\\\\processed\"\n",
    "address_col = \"Full Address\"\n",
    "time_col_name = \"timeSince\"\n",
    "combine_directory(directory_path=directory_path, \n",
    "                    text_directory=text_directory,\n",
    "                    text_directory_relative=text_directory_relative,\n",
    "                    output_directory=output_directory, \n",
    "                    address_col=address_col, \n",
    "                    time_col_name=time_col_name, \n",
    "                    company_name=\"Donatos Pizza\"\n",
    "                    )"
   ]
  },
  {
   "cell_type": "code",
   "execution_count": 21,
   "metadata": {},
   "outputs": [],
   "source": [
    "directory_path = \"C:\\\\Users\\\\Spencer\\\\Desktop\\\\clean\\\\data\\\\data_with_address\\\\extreme_pizza_11_1_20\"\n",
    "text_directory = \"C:\\\\Users\\\\Spencer\\\\Desktop\\\\clean\\\\data\\\\processed\\\\text_reviews\"\n",
    "text_directory_relative = \".\\\\text_reviews\"\n",
    "output_directory = \"C:\\\\Users\\\\Spencer\\\\Desktop\\\\clean\\\\data\\\\processed\"\n",
    "address_col = \"Full Address\"\n",
    "time_col_name = \"timeSince\"\n",
    "combine_directory(directory_path=directory_path, \n",
    "                    text_directory=text_directory,\n",
    "                    text_directory_relative=text_directory_relative,\n",
    "                    output_directory=output_directory, \n",
    "                    address_col=address_col, \n",
    "                    time_col_name=time_col_name, \n",
    "                    company_name=\"Extreme Pizza\"\n",
    "                    )"
   ]
  },
  {
   "cell_type": "code",
   "execution_count": 22,
   "metadata": {},
   "outputs": [],
   "source": [
    "directory_path = \"C:\\\\Users\\\\Spencer\\\\Desktop\\\\clean\\\\data\\\\data_with_address\\\\figaros_pizza_11_2_20\"\n",
    "text_directory = \"C:\\\\Users\\\\Spencer\\\\Desktop\\\\clean\\\\data\\\\processed\\\\text_reviews\"\n",
    "text_directory_relative = \".\\\\text_reviews\"\n",
    "output_directory = \"C:\\\\Users\\\\Spencer\\\\Desktop\\\\clean\\\\data\\\\processed\"\n",
    "address_col = \"Full Address\"\n",
    "time_col_name = \"timeSince\"\n",
    "combine_directory(directory_path=directory_path, \n",
    "                    text_directory=text_directory,\n",
    "                    text_directory_relative=text_directory_relative,\n",
    "                    output_directory=output_directory, \n",
    "                    address_col=address_col, \n",
    "                    time_col_name=time_col_name, \n",
    "                    company_name=\"Figaro's Pizza\"\n",
    "                    )"
   ]
  },
  {
   "cell_type": "code",
   "execution_count": 23,
   "metadata": {},
   "outputs": [],
   "source": [
    "directory_path = \"C:\\\\Users\\\\Spencer\\\\Desktop\\\\clean\\\\data\\\\data_with_address\\\\foxs_10_28_20\"\n",
    "text_directory = \"C:\\\\Users\\\\Spencer\\\\Desktop\\\\clean\\\\data\\\\processed\\\\text_reviews\"\n",
    "text_directory_relative = \".\\\\text_reviews\"\n",
    "output_directory = \"C:\\\\Users\\\\Spencer\\\\Desktop\\\\clean\\\\data\\\\processed\"\n",
    "address_col = \"Full Address\"\n",
    "time_col_name = \"timeSince\"\n",
    "combine_directory(directory_path=directory_path, \n",
    "                    text_directory=text_directory,\n",
    "                    text_directory_relative=text_directory_relative,\n",
    "                    output_directory=output_directory, \n",
    "                    address_col=address_col, \n",
    "                    time_col_name=time_col_name, \n",
    "                    company_name=\"Fox's Pizza Den\"\n",
    "                    )"
   ]
  },
  {
   "cell_type": "code",
   "execution_count": 24,
   "metadata": {},
   "outputs": [],
   "source": [
    "directory_path = \"C:\\\\Users\\\\Spencer\\\\Desktop\\\\clean\\\\data\\\\data_with_address\\\\gattiland_11_3_20\"\n",
    "text_directory = \"C:\\\\Users\\\\Spencer\\\\Desktop\\\\clean\\\\data\\\\processed\\\\text_reviews\"\n",
    "text_directory_relative = \".\\\\text_reviews\"\n",
    "output_directory = \"C:\\\\Users\\\\Spencer\\\\Desktop\\\\clean\\\\data\\\\processed\"\n",
    "address_col = \"Full Address\"\n",
    "time_col_name = \"timeSince\"\n",
    "combine_directory(directory_path=directory_path, \n",
    "                    text_directory=text_directory,\n",
    "                    text_directory_relative=text_directory_relative,\n",
    "                    output_directory=output_directory, \n",
    "                    address_col=address_col, \n",
    "                    time_col_name=time_col_name, \n",
    "                    company_name=\"GattiLand\"\n",
    "                    )"
   ]
  },
  {
   "cell_type": "code",
   "execution_count": 3,
   "metadata": {},
   "outputs": [],
   "source": [
    "directory_path = \"C:\\\\Users\\\\Spencer\\\\Desktop\\\\clean\\\\data\\\\data_with_address\\\\gattis_10_31_20\"\n",
    "text_directory = \"C:\\\\Users\\\\Spencer\\\\Desktop\\\\clean\\\\data\\\\processed\\\\text_reviews\"\n",
    "text_directory_relative = \".\\\\text_reviews\"\n",
    "output_directory = \"C:\\\\Users\\\\Spencer\\\\Desktop\\\\clean\\\\data\\\\processed\"\n",
    "address_col = \"Full Address\"\n",
    "time_col_name = \"timeSince\"\n",
    "combine_directory(directory_path=directory_path, \n",
    "                    text_directory=text_directory,\n",
    "                    text_directory_relative=text_directory_relative,\n",
    "                    output_directory=output_directory, \n",
    "                    address_col=address_col, \n",
    "                    time_col_name=time_col_name, \n",
    "                    company_name=\"Gatti's Pizza\"\n",
    "                    )"
   ]
  },
  {
   "cell_type": "code",
   "execution_count": 4,
   "metadata": {},
   "outputs": [],
   "source": [
    "directory_path = \"C:\\\\Users\\\\Spencer\\\\Desktop\\\\clean\\\\data\\\\data_with_address\\\\gattis_pizza_buffet_11_3_20\"\n",
    "text_directory = \"C:\\\\Users\\\\Spencer\\\\Desktop\\\\clean\\\\data\\\\processed\\\\text_reviews\"\n",
    "text_directory_relative = \".\\\\text_reviews\"\n",
    "output_directory = \"C:\\\\Users\\\\Spencer\\\\Desktop\\\\clean\\\\data\\\\processed\"\n",
    "address_col = \"Full Address\"\n",
    "time_col_name = \"timeSince\"\n",
    "combine_directory(directory_path=directory_path, \n",
    "                    text_directory=text_directory,\n",
    "                    text_directory_relative=text_directory_relative,\n",
    "                    output_directory=output_directory, \n",
    "                    address_col=address_col, \n",
    "                    time_col_name=time_col_name, \n",
    "                    company_name=\"Gatti's Pizza Buffet\"\n",
    "                    )"
   ]
  },
  {
   "cell_type": "code",
   "execution_count": 5,
   "metadata": {},
   "outputs": [],
   "source": [
    "directory_path = \"C:\\\\Users\\\\Spencer\\\\Desktop\\\\clean\\\\data\\\\data_with_address\\\\gattitown_11_3_20\"\n",
    "text_directory = \"C:\\\\Users\\\\Spencer\\\\Desktop\\\\clean\\\\data\\\\processed\\\\text_reviews\"\n",
    "text_directory_relative = \".\\\\text_reviews\"\n",
    "output_directory = \"C:\\\\Users\\\\Spencer\\\\Desktop\\\\clean\\\\data\\\\processed\"\n",
    "address_col = \"Full Address\"\n",
    "time_col_name = \"timeSince\"\n",
    "combine_directory(directory_path=directory_path, \n",
    "                    text_directory=text_directory,\n",
    "                    text_directory_relative=text_directory_relative,\n",
    "                    output_directory=output_directory, \n",
    "                    address_col=address_col, \n",
    "                    time_col_name=time_col_name, \n",
    "                    company_name=\"GattiTown\"\n",
    "                    )"
   ]
  },
  {
   "cell_type": "code",
   "execution_count": 6,
   "metadata": {},
   "outputs": [],
   "source": [
    "directory_path = \"C:\\\\Users\\\\Spencer\\\\Desktop\\\\clean\\\\data\\\\data_with_address\\\\giordanos_10_30_20\"\n",
    "text_directory = \"C:\\\\Users\\\\Spencer\\\\Desktop\\\\clean\\\\data\\\\processed\\\\text_reviews\"\n",
    "text_directory_relative = \".\\\\text_reviews\"\n",
    "output_directory = \"C:\\\\Users\\\\Spencer\\\\Desktop\\\\clean\\\\data\\\\processed\"\n",
    "address_col = \"Full Address\"\n",
    "time_col_name = \"timeSince\"\n",
    "combine_directory(directory_path=directory_path, \n",
    "                    text_directory=text_directory,\n",
    "                    text_directory_relative=text_directory_relative,\n",
    "                    output_directory=output_directory, \n",
    "                    address_col=address_col, \n",
    "                    time_col_name=time_col_name, \n",
    "                    company_name=\"Giordano's Restaurant & Pizza\"\n",
    "                    )"
   ]
  },
  {
   "cell_type": "code",
   "execution_count": 7,
   "metadata": {},
   "outputs": [],
   "source": [
    "directory_path = \"C:\\\\Users\\\\Spencer\\\\Desktop\\\\clean\\\\data\\\\data_with_address\\\\godfathers_10_25_2020\"\n",
    "text_directory = \"C:\\\\Users\\\\Spencer\\\\Desktop\\\\clean\\\\data\\\\processed\\\\text_reviews\"\n",
    "text_directory_relative = \".\\\\text_reviews\"\n",
    "output_directory = \"C:\\\\Users\\\\Spencer\\\\Desktop\\\\clean\\\\data\\\\processed\"\n",
    "address_col = \"Full Address\"\n",
    "time_col_name = \"timeSince\"\n",
    "combine_directory(directory_path=directory_path, \n",
    "                    text_directory=text_directory,\n",
    "                    text_directory_relative=text_directory_relative,\n",
    "                    output_directory=output_directory, \n",
    "                    address_col=address_col, \n",
    "                    time_col_name=time_col_name, \n",
    "                    company_name=\"Godfather's Pizza\"\n",
    "                    )"
   ]
  },
  {
   "cell_type": "code",
   "execution_count": 8,
   "metadata": {},
   "outputs": [],
   "source": [
    "directory_path = \"C:\\\\Users\\\\Spencer\\\\Desktop\\\\clean\\\\data\\\\data_with_address\\\\green_leafs_11_2_20\"\n",
    "text_directory = \"C:\\\\Users\\\\Spencer\\\\Desktop\\\\clean\\\\data\\\\processed\\\\text_reviews\"\n",
    "text_directory_relative = \".\\\\text_reviews\"\n",
    "output_directory = \"C:\\\\Users\\\\Spencer\\\\Desktop\\\\clean\\\\data\\\\processed\"\n",
    "address_col = \"Full Address\"\n",
    "time_col_name = \"timeSince\"\n",
    "combine_directory(directory_path=directory_path, \n",
    "                    text_directory=text_directory,\n",
    "                    text_directory_relative=text_directory_relative,\n",
    "                    output_directory=output_directory, \n",
    "                    address_col=address_col, \n",
    "                    time_col_name=time_col_name, \n",
    "                    company_name=\"Green Leaf's Grill & Bananas Ultimate Juice Bar\"\n",
    "                    )"
   ]
  },
  {
   "cell_type": "code",
   "execution_count": 9,
   "metadata": {},
   "outputs": [],
   "source": [
    "directory_path = \"C:\\\\Users\\\\Spencer\\\\Desktop\\\\clean\\\\data\\\\data_with_address\\\\guilles_11_3_20\"\n",
    "text_directory = \"C:\\\\Users\\\\Spencer\\\\Desktop\\\\clean\\\\data\\\\processed\\\\text_reviews\"\n",
    "text_directory_relative = \".\\\\text_reviews\"\n",
    "output_directory = \"C:\\\\Users\\\\Spencer\\\\Desktop\\\\clean\\\\data\\\\processed\"\n",
    "address_col = \"Full Address\"\n",
    "time_col_name = \"timeSince\"\n",
    "combine_directory(directory_path=directory_path, \n",
    "                    text_directory=text_directory,\n",
    "                    text_directory_relative=text_directory_relative,\n",
    "                    output_directory=output_directory, \n",
    "                    address_col=address_col, \n",
    "                    time_col_name=time_col_name, \n",
    "                    company_name=\"Guille's Mexican Grill\"\n",
    "                    )"
   ]
  },
  {
   "cell_type": "code",
   "execution_count": 10,
   "metadata": {},
   "outputs": [],
   "source": [
    "directory_path = \"C:\\\\Users\\\\Spencer\\\\Desktop\\\\clean\\\\data\\\\data_with_address\\\\hungry_howies_pizza_11_3_20\"\n",
    "text_directory = \"C:\\\\Users\\\\Spencer\\\\Desktop\\\\clean\\\\data\\\\processed\\\\text_reviews\"\n",
    "text_directory_relative = \".\\\\text_reviews\"\n",
    "output_directory = \"C:\\\\Users\\\\Spencer\\\\Desktop\\\\clean\\\\data\\\\processed\"\n",
    "address_col = \"Full Address\"\n",
    "time_col_name = \"timeSince\"\n",
    "combine_directory(directory_path=directory_path, \n",
    "                    text_directory=text_directory,\n",
    "                    text_directory_relative=text_directory_relative,\n",
    "                    output_directory=output_directory, \n",
    "                    address_col=address_col, \n",
    "                    time_col_name=time_col_name, \n",
    "                    company_name=\"Hungry Howie's Pizza\"\n",
    "                    )"
   ]
  },
  {
   "cell_type": "code",
   "execution_count": 11,
   "metadata": {},
   "outputs": [],
   "source": [
    "directory_path = \"C:\\\\Users\\\\Spencer\\\\Desktop\\\\clean\\\\data\\\\data_with_address\\\\jets_10_28_20\"\n",
    "text_directory = \"C:\\\\Users\\\\Spencer\\\\Desktop\\\\clean\\\\data\\\\processed\\\\text_reviews\"\n",
    "text_directory_relative = \".\\\\text_reviews\"\n",
    "output_directory = \"C:\\\\Users\\\\Spencer\\\\Desktop\\\\clean\\\\data\\\\processed\"\n",
    "address_col = \"Full Address\"\n",
    "time_col_name = \"timeSince\"\n",
    "combine_directory(directory_path=directory_path, \n",
    "                    text_directory=text_directory,\n",
    "                    text_directory_relative=text_directory_relative,\n",
    "                    output_directory=output_directory, \n",
    "                    address_col=address_col, \n",
    "                    time_col_name=time_col_name, \n",
    "                    company_name=\"Jet's Pizza\"\n",
    "                    )"
   ]
  },
  {
   "cell_type": "code",
   "execution_count": 12,
   "metadata": {},
   "outputs": [],
   "source": [
    "directory_path = \"C:\\\\Users\\\\Spencer\\\\Desktop\\\\clean\\\\data\\\\data_with_address\\\\johnnies_new_york_pizzeria_11_3_20\"\n",
    "text_directory = \"C:\\\\Users\\\\Spencer\\\\Desktop\\\\clean\\\\data\\\\processed\\\\text_reviews\"\n",
    "text_directory_relative = \".\\\\text_reviews\"\n",
    "output_directory = \"C:\\\\Users\\\\Spencer\\\\Desktop\\\\clean\\\\data\\\\processed\"\n",
    "address_col = \"Full Address\"\n",
    "time_col_name = \"timeSince\"\n",
    "combine_directory(directory_path=directory_path, \n",
    "                    text_directory=text_directory,\n",
    "                    text_directory_relative=text_directory_relative,\n",
    "                    output_directory=output_directory, \n",
    "                    address_col=address_col, \n",
    "                    time_col_name=time_col_name, \n",
    "                    company_name=\"Johnnie's New York Pizzeria\"\n",
    "                    )"
   ]
  },
  {
   "cell_type": "code",
   "execution_count": 13,
   "metadata": {},
   "outputs": [],
   "source": [
    "directory_path = \"C:\\\\Users\\\\Spencer\\\\Desktop\\\\clean\\\\data\\\\data_with_address\\\\johnny_bruscos_new_york_style_pizza_11_2_20\"\n",
    "text_directory = \"C:\\\\Users\\\\Spencer\\\\Desktop\\\\clean\\\\data\\\\processed\\\\text_reviews\"\n",
    "text_directory_relative = \".\\\\text_reviews\"\n",
    "output_directory = \"C:\\\\Users\\\\Spencer\\\\Desktop\\\\clean\\\\data\\\\processed\"\n",
    "address_col = \"Full Address\"\n",
    "time_col_name = \"timeSince\"\n",
    "combine_directory(directory_path=directory_path, \n",
    "                    text_directory=text_directory,\n",
    "                    text_directory_relative=text_directory_relative,\n",
    "                    output_directory=output_directory, \n",
    "                    address_col=address_col, \n",
    "                    time_col_name=time_col_name, \n",
    "                    company_name=\"Johnny Bruscos New York Style Pizza\"\n",
    "                    )"
   ]
  },
  {
   "cell_type": "code",
   "execution_count": 14,
   "metadata": {},
   "outputs": [],
   "source": [
    "directory_path = \"C:\\\\Users\\\\Spencer\\\\Desktop\\\\clean\\\\data\\\\data_with_address\\\\johnnys_new_york_style_pizzeria_11_1_20\"\n",
    "text_directory = \"C:\\\\Users\\\\Spencer\\\\Desktop\\\\clean\\\\data\\\\processed\\\\text_reviews\"\n",
    "text_directory_relative = \".\\\\text_reviews\"\n",
    "output_directory = \"C:\\\\Users\\\\Spencer\\\\Desktop\\\\clean\\\\data\\\\processed\"\n",
    "address_col = \"Full Address\"\n",
    "time_col_name = \"timeSince\"\n",
    "combine_directory(directory_path=directory_path, \n",
    "                    text_directory=text_directory,\n",
    "                    text_directory_relative=text_directory_relative,\n",
    "                    output_directory=output_directory, \n",
    "                    address_col=address_col, \n",
    "                    time_col_name=time_col_name, \n",
    "                    company_name=\"Johnnys New York Style Pizza\"\n",
    "                    )"
   ]
  },
  {
   "cell_type": "code",
   "execution_count": 15,
   "metadata": {},
   "outputs": [],
   "source": [
    "directory_path = \"C:\\\\Users\\\\Spencer\\\\Desktop\\\\clean\\\\data\\\\data_with_address\\\\larosas_10_31_20\"\n",
    "text_directory = \"C:\\\\Users\\\\Spencer\\\\Desktop\\\\clean\\\\data\\\\processed\\\\text_reviews\"\n",
    "text_directory_relative = \".\\\\text_reviews\"\n",
    "output_directory = \"C:\\\\Users\\\\Spencer\\\\Desktop\\\\clean\\\\data\\\\processed\"\n",
    "address_col = \"Full Address\"\n",
    "time_col_name = \"timeSince\"\n",
    "combine_directory(directory_path=directory_path, \n",
    "                    text_directory=text_directory,\n",
    "                    text_directory_relative=text_directory_relative,\n",
    "                    output_directory=output_directory, \n",
    "                    address_col=address_col, \n",
    "                    time_col_name=time_col_name, \n",
    "                    company_name=\"LaRosa's Pizzeria\"\n",
    "                    )"
   ]
  },
  {
   "cell_type": "code",
   "execution_count": 17,
   "metadata": {},
   "outputs": [],
   "source": [
    "directory_path = \"C:\\\\Users\\\\Spencer\\\\Desktop\\\\clean\\\\data\\\\data_with_address\\\\leto_10_29_20\"\n",
    "text_directory = \"C:\\\\Users\\\\Spencer\\\\Desktop\\\\clean\\\\data\\\\processed\\\\text_reviews\"\n",
    "text_directory_relative = \".\\\\text_reviews\"\n",
    "output_directory = \"C:\\\\Users\\\\Spencer\\\\Desktop\\\\clean\\\\data\\\\processed\"\n",
    "address_col = \"Full Address\"\n",
    "time_col_name = \"timeSince\"\n",
    "combine_directory(directory_path=directory_path, \n",
    "                    text_directory=text_directory,\n",
    "                    text_directory_relative=text_directory_relative,\n",
    "                    output_directory=output_directory, \n",
    "                    address_col=address_col, \n",
    "                    time_col_name=time_col_name, \n",
    "                    company_name=\"Ledo Pizza\"\n",
    "                    )"
   ]
  },
  {
   "cell_type": "code",
   "execution_count": 18,
   "metadata": {},
   "outputs": [
    {
     "output_type": "error",
     "ename": "KeyError",
     "evalue": "'Company ID'",
     "traceback": [
      "\u001b[1;31m---------------------------------------------------------------------------\u001b[0m",
      "\u001b[1;31mKeyError\u001b[0m                                  Traceback (most recent call last)",
      "\u001b[1;32m~\\AppData\\Local\\Programs\\Python\\Python37-32\\lib\\site-packages\\pandas\\core\\indexes\\base.py\u001b[0m in \u001b[0;36mget_loc\u001b[1;34m(self, key, method, tolerance)\u001b[0m\n\u001b[0;32m   2896\u001b[0m             \u001b[1;32mtry\u001b[0m\u001b[1;33m:\u001b[0m\u001b[1;33m\u001b[0m\u001b[0m\n\u001b[1;32m-> 2897\u001b[1;33m                 \u001b[1;32mreturn\u001b[0m \u001b[0mself\u001b[0m\u001b[1;33m.\u001b[0m\u001b[0m_engine\u001b[0m\u001b[1;33m.\u001b[0m\u001b[0mget_loc\u001b[0m\u001b[1;33m(\u001b[0m\u001b[0mkey\u001b[0m\u001b[1;33m)\u001b[0m\u001b[1;33m\u001b[0m\u001b[0m\n\u001b[0m\u001b[0;32m   2898\u001b[0m             \u001b[1;32mexcept\u001b[0m \u001b[0mKeyError\u001b[0m\u001b[1;33m:\u001b[0m\u001b[1;33m\u001b[0m\u001b[0m\n",
      "\u001b[1;32mpandas\\_libs\\index.pyx\u001b[0m in \u001b[0;36mpandas._libs.index.IndexEngine.get_loc\u001b[1;34m()\u001b[0m\n",
      "\u001b[1;32mpandas\\_libs\\index.pyx\u001b[0m in \u001b[0;36mpandas._libs.index.IndexEngine.get_loc\u001b[1;34m()\u001b[0m\n",
      "\u001b[1;32mpandas\\_libs\\hashtable_class_helper.pxi\u001b[0m in \u001b[0;36mpandas._libs.hashtable.PyObjectHashTable.get_item\u001b[1;34m()\u001b[0m\n",
      "\u001b[1;32mpandas\\_libs\\hashtable_class_helper.pxi\u001b[0m in \u001b[0;36mpandas._libs.hashtable.PyObjectHashTable.get_item\u001b[1;34m()\u001b[0m\n",
      "\u001b[1;31mKeyError\u001b[0m: 'Company ID'",
      "\nDuring handling of the above exception, another exception occurred:\n",
      "\u001b[1;31mKeyError\u001b[0m                                  Traceback (most recent call last)",
      "\u001b[1;32m<ipython-input-18-34bc3ce1111e>\u001b[0m in \u001b[0;36m<module>\u001b[1;34m\u001b[0m\n\u001b[0;32m     11\u001b[0m                     \u001b[0maddress_col\u001b[0m\u001b[1;33m=\u001b[0m\u001b[0maddress_col\u001b[0m\u001b[1;33m,\u001b[0m\u001b[1;33m\u001b[0m\u001b[0m\n\u001b[0;32m     12\u001b[0m                     \u001b[0mtime_col_name\u001b[0m\u001b[1;33m=\u001b[0m\u001b[0mtime_col_name\u001b[0m\u001b[1;33m,\u001b[0m\u001b[1;33m\u001b[0m\u001b[0m\n\u001b[1;32m---> 13\u001b[1;33m                     \u001b[0mcompany_name\u001b[0m\u001b[1;33m=\u001b[0m\u001b[1;34m\"Lou Malnatis Pizzeria\"\u001b[0m\u001b[1;33m\u001b[0m\u001b[0m\n\u001b[0m\u001b[0;32m     14\u001b[0m                     )\n",
      "\u001b[1;32mc:\\Users\\Spencer\\Desktop\\clean\\df_process.py\u001b[0m in \u001b[0;36mcombine_directory\u001b[1;34m(directory_path, text_directory, text_directory_relative, output_directory, address_col, time_col_name, company_name, output_filename, current_date, date_col_name, year_column_name, rating_column_name, id_rule, id_col)\u001b[0m\n\u001b[0;32m     75\u001b[0m         \u001b[1;31m# get id\u001b[0m\u001b[1;33m\u001b[0m\u001b[1;33m\u001b[0m\u001b[0m\n\u001b[0;32m     76\u001b[0m         \u001b[1;32mif\u001b[0m \u001b[0mid_rule\u001b[0m \u001b[1;33m==\u001b[0m \u001b[1;34m\"col\"\u001b[0m\u001b[1;33m:\u001b[0m\u001b[1;33m\u001b[0m\u001b[0m\n\u001b[1;32m---> 77\u001b[1;33m             \u001b[0mcompany_id\u001b[0m \u001b[1;33m=\u001b[0m \u001b[0mdf\u001b[0m\u001b[1;33m[\u001b[0m\u001b[0mid_col\u001b[0m\u001b[1;33m]\u001b[0m\u001b[1;33m[\u001b[0m\u001b[1;36m0\u001b[0m\u001b[1;33m]\u001b[0m\u001b[1;33m\u001b[0m\u001b[0m\n\u001b[0m\u001b[0;32m     78\u001b[0m         \u001b[1;32melif\u001b[0m \u001b[0mid_rule\u001b[0m \u001b[1;33m==\u001b[0m \u001b[1;34m\"filename\"\u001b[0m\u001b[1;33m:\u001b[0m\u001b[1;33m\u001b[0m\u001b[0m\n\u001b[0;32m     79\u001b[0m             \u001b[0mfile_split\u001b[0m \u001b[1;33m=\u001b[0m \u001b[0mfile\u001b[0m\u001b[1;33m.\u001b[0m\u001b[0msplit\u001b[0m\u001b[1;33m(\u001b[0m\u001b[1;34m\"\\\\\"\u001b[0m\u001b[1;33m)\u001b[0m\u001b[1;33m\u001b[0m\u001b[0m\n",
      "\u001b[1;32m~\\AppData\\Local\\Programs\\Python\\Python37-32\\lib\\site-packages\\pandas\\core\\frame.py\u001b[0m in \u001b[0;36m__getitem__\u001b[1;34m(self, key)\u001b[0m\n\u001b[0;32m   2978\u001b[0m             \u001b[1;32mif\u001b[0m \u001b[0mself\u001b[0m\u001b[1;33m.\u001b[0m\u001b[0mcolumns\u001b[0m\u001b[1;33m.\u001b[0m\u001b[0mnlevels\u001b[0m \u001b[1;33m>\u001b[0m \u001b[1;36m1\u001b[0m\u001b[1;33m:\u001b[0m\u001b[1;33m\u001b[0m\u001b[0m\n\u001b[0;32m   2979\u001b[0m                 \u001b[1;32mreturn\u001b[0m \u001b[0mself\u001b[0m\u001b[1;33m.\u001b[0m\u001b[0m_getitem_multilevel\u001b[0m\u001b[1;33m(\u001b[0m\u001b[0mkey\u001b[0m\u001b[1;33m)\u001b[0m\u001b[1;33m\u001b[0m\u001b[0m\n\u001b[1;32m-> 2980\u001b[1;33m             \u001b[0mindexer\u001b[0m \u001b[1;33m=\u001b[0m \u001b[0mself\u001b[0m\u001b[1;33m.\u001b[0m\u001b[0mcolumns\u001b[0m\u001b[1;33m.\u001b[0m\u001b[0mget_loc\u001b[0m\u001b[1;33m(\u001b[0m\u001b[0mkey\u001b[0m\u001b[1;33m)\u001b[0m\u001b[1;33m\u001b[0m\u001b[0m\n\u001b[0m\u001b[0;32m   2981\u001b[0m             \u001b[1;32mif\u001b[0m \u001b[0mis_integer\u001b[0m\u001b[1;33m(\u001b[0m\u001b[0mindexer\u001b[0m\u001b[1;33m)\u001b[0m\u001b[1;33m:\u001b[0m\u001b[1;33m\u001b[0m\u001b[0m\n\u001b[0;32m   2982\u001b[0m                 \u001b[0mindexer\u001b[0m \u001b[1;33m=\u001b[0m \u001b[1;33m[\u001b[0m\u001b[0mindexer\u001b[0m\u001b[1;33m]\u001b[0m\u001b[1;33m\u001b[0m\u001b[0m\n",
      "\u001b[1;32m~\\AppData\\Local\\Programs\\Python\\Python37-32\\lib\\site-packages\\pandas\\core\\indexes\\base.py\u001b[0m in \u001b[0;36mget_loc\u001b[1;34m(self, key, method, tolerance)\u001b[0m\n\u001b[0;32m   2897\u001b[0m                 \u001b[1;32mreturn\u001b[0m \u001b[0mself\u001b[0m\u001b[1;33m.\u001b[0m\u001b[0m_engine\u001b[0m\u001b[1;33m.\u001b[0m\u001b[0mget_loc\u001b[0m\u001b[1;33m(\u001b[0m\u001b[0mkey\u001b[0m\u001b[1;33m)\u001b[0m\u001b[1;33m\u001b[0m\u001b[0m\n\u001b[0;32m   2898\u001b[0m             \u001b[1;32mexcept\u001b[0m \u001b[0mKeyError\u001b[0m\u001b[1;33m:\u001b[0m\u001b[1;33m\u001b[0m\u001b[0m\n\u001b[1;32m-> 2899\u001b[1;33m                 \u001b[1;32mreturn\u001b[0m \u001b[0mself\u001b[0m\u001b[1;33m.\u001b[0m\u001b[0m_engine\u001b[0m\u001b[1;33m.\u001b[0m\u001b[0mget_loc\u001b[0m\u001b[1;33m(\u001b[0m\u001b[0mself\u001b[0m\u001b[1;33m.\u001b[0m\u001b[0m_maybe_cast_indexer\u001b[0m\u001b[1;33m(\u001b[0m\u001b[0mkey\u001b[0m\u001b[1;33m)\u001b[0m\u001b[1;33m)\u001b[0m\u001b[1;33m\u001b[0m\u001b[0m\n\u001b[0m\u001b[0;32m   2900\u001b[0m         \u001b[0mindexer\u001b[0m \u001b[1;33m=\u001b[0m \u001b[0mself\u001b[0m\u001b[1;33m.\u001b[0m\u001b[0mget_indexer\u001b[0m\u001b[1;33m(\u001b[0m\u001b[1;33m[\u001b[0m\u001b[0mkey\u001b[0m\u001b[1;33m]\u001b[0m\u001b[1;33m,\u001b[0m \u001b[0mmethod\u001b[0m\u001b[1;33m=\u001b[0m\u001b[0mmethod\u001b[0m\u001b[1;33m,\u001b[0m \u001b[0mtolerance\u001b[0m\u001b[1;33m=\u001b[0m\u001b[0mtolerance\u001b[0m\u001b[1;33m)\u001b[0m\u001b[1;33m\u001b[0m\u001b[0m\n\u001b[0;32m   2901\u001b[0m         \u001b[1;32mif\u001b[0m \u001b[0mindexer\u001b[0m\u001b[1;33m.\u001b[0m\u001b[0mndim\u001b[0m \u001b[1;33m>\u001b[0m \u001b[1;36m1\u001b[0m \u001b[1;32mor\u001b[0m \u001b[0mindexer\u001b[0m\u001b[1;33m.\u001b[0m\u001b[0msize\u001b[0m \u001b[1;33m>\u001b[0m \u001b[1;36m1\u001b[0m\u001b[1;33m:\u001b[0m\u001b[1;33m\u001b[0m\u001b[0m\n",
      "\u001b[1;32mpandas\\_libs\\index.pyx\u001b[0m in \u001b[0;36mpandas._libs.index.IndexEngine.get_loc\u001b[1;34m()\u001b[0m\n",
      "\u001b[1;32mpandas\\_libs\\index.pyx\u001b[0m in \u001b[0;36mpandas._libs.index.IndexEngine.get_loc\u001b[1;34m()\u001b[0m\n",
      "\u001b[1;32mpandas\\_libs\\hashtable_class_helper.pxi\u001b[0m in \u001b[0;36mpandas._libs.hashtable.PyObjectHashTable.get_item\u001b[1;34m()\u001b[0m\n",
      "\u001b[1;32mpandas\\_libs\\hashtable_class_helper.pxi\u001b[0m in \u001b[0;36mpandas._libs.hashtable.PyObjectHashTable.get_item\u001b[1;34m()\u001b[0m\n",
      "\u001b[1;31mKeyError\u001b[0m: 'Company ID'"
     ]
    }
   ],
   "source": [
    "directory_path = \"C:\\\\Users\\\\Spencer\\\\Desktop\\\\clean\\\\data\\\\data_with_address\\\\lou_malnatis_pizzeria_11_1_20_part1\"\n",
    "text_directory = \"C:\\\\Users\\\\Spencer\\\\Desktop\\\\clean\\\\data\\\\processed\\\\text_reviews\"\n",
    "text_directory_relative = \".\\\\text_reviews\"\n",
    "output_directory = \"C:\\\\Users\\\\Spencer\\\\Desktop\\\\clean\\\\data\\\\processed\"\n",
    "address_col = \"Full Address\"\n",
    "time_col_name = \"timeSince\"\n",
    "combine_directory(directory_path=directory_path, \n",
    "                    text_directory=text_directory,\n",
    "                    text_directory_relative=text_directory_relative,\n",
    "                    output_directory=output_directory, \n",
    "                    address_col=address_col, \n",
    "                    time_col_name=time_col_name, \n",
    "                    company_name=\"Lou Malnatis Pizzeria\"\n",
    "                    )"
   ]
  },
  {
   "cell_type": "code",
   "execution_count": null,
   "metadata": {},
   "outputs": [],
   "source": [
    "directory_path = \"C:\\\\Users\\\\Spencer\\\\Desktop\\\\clean\\\\data\\\\data_with_address\\\\lou_malnatis_pizzeria_11_1_20_part2\"\n",
    "text_directory = \"C:\\\\Users\\\\Spencer\\\\Desktop\\\\clean\\\\data\\\\processed\\\\text_reviews\"\n",
    "text_directory_relative = \".\\\\text_reviews\"\n",
    "output_directory = \"C:\\\\Users\\\\Spencer\\\\Desktop\\\\clean\\\\data\\\\processed\"\n",
    "address_col = \"Full Address\"\n",
    "time_col_name = \"timeSince\"\n",
    "combine_directory(directory_path=directory_path, \n",
    "                    text_directory=text_directory,\n",
    "                    text_directory_relative=text_directory_relative,\n",
    "                    output_directory=output_directory, \n",
    "                    address_col=address_col, \n",
    "                    time_col_name=time_col_name, \n",
    "                    company_name=\"Lou Malnatis Pizzeria\"\n",
    "                    )"
   ]
  },
  {
   "cell_type": "code",
   "execution_count": 20,
   "metadata": {},
   "outputs": [],
   "source": [
    "directory_path = \"C:\\\\Users\\\\Spencer\\\\Desktop\\\\clean\\\\data\\\\data_with_address\\\\loumalnatis_11_3_20\"\n",
    "text_directory = \"C:\\\\Users\\\\Spencer\\\\Desktop\\\\clean\\\\data\\\\processed\\\\text_reviews\"\n",
    "text_directory_relative = \".\\\\text_reviews\"\n",
    "output_directory = \"C:\\\\Users\\\\Spencer\\\\Desktop\\\\clean\\\\data\\\\processed\"\n",
    "address_col = \"Full Address\"\n",
    "time_col_name = \"timeSince\"\n",
    "combine_directory(directory_path=directory_path, \n",
    "                    text_directory=text_directory,\n",
    "                    text_directory_relative=text_directory_relative,\n",
    "                    output_directory=output_directory, \n",
    "                    address_col=address_col, \n",
    "                    time_col_name=time_col_name, \n",
    "                    company_name=\"Loumalnatis\"\n",
    "                    )"
   ]
  },
  {
   "cell_type": "code",
   "execution_count": 21,
   "metadata": {},
   "outputs": [],
   "source": [
    "directory_path = \"C:\\\\Users\\\\Spencer\\\\Desktop\\\\clean\\\\data\\\\data_with_address\\\\marcos_pizza_10_23_2020\"\n",
    "text_directory = \"C:\\\\Users\\\\Spencer\\\\Desktop\\\\clean\\\\data\\\\processed\\\\text_reviews\"\n",
    "text_directory_relative = \".\\\\text_reviews\"\n",
    "output_directory = \"C:\\\\Users\\\\Spencer\\\\Desktop\\\\clean\\\\data\\\\processed\"\n",
    "address_col = \"Full Address\"\n",
    "time_col_name = \"timeSince\"\n",
    "combine_directory(directory_path=directory_path, \n",
    "                    text_directory=text_directory,\n",
    "                    text_directory_relative=text_directory_relative,\n",
    "                    output_directory=output_directory, \n",
    "                    address_col=address_col, \n",
    "                    time_col_name=time_col_name, \n",
    "                    company_name=\"Marco's Pizza\"\n",
    "                    )"
   ]
  },
  {
   "cell_type": "code",
   "execution_count": 22,
   "metadata": {},
   "outputs": [],
   "source": [
    "directory_path = \"C:\\\\Users\\\\Spencer\\\\Desktop\\\\clean\\\\data\\\\data_with_address\\\\mellow_mushroom_11_07_20\"\n",
    "text_directory = \"C:\\\\Users\\\\Spencer\\\\Desktop\\\\clean\\\\data\\\\processed\\\\text_reviews\"\n",
    "text_directory_relative = \".\\\\text_reviews\"\n",
    "output_directory = \"C:\\\\Users\\\\Spencer\\\\Desktop\\\\clean\\\\data\\\\processed\"\n",
    "address_col = \"Full Address\"\n",
    "time_col_name = \"timeSince\"\n",
    "combine_directory(directory_path=directory_path, \n",
    "                    text_directory=text_directory,\n",
    "                    text_directory_relative=text_directory_relative,\n",
    "                    output_directory=output_directory, \n",
    "                    address_col=address_col, \n",
    "                    time_col_name=time_col_name, \n",
    "                    company_name=\"Mellow Mushroom\"\n",
    "                    )"
   ]
  },
  {
   "cell_type": "code",
   "execution_count": 23,
   "metadata": {},
   "outputs": [],
   "source": [
    "directory_path = \"C:\\\\Users\\\\Spencer\\\\Desktop\\\\clean\\\\data\\\\data_with_address\\\\mod_pizza_10_24_2020\"\n",
    "text_directory = \"C:\\\\Users\\\\Spencer\\\\Desktop\\\\clean\\\\data\\\\processed\\\\text_reviews\"\n",
    "text_directory_relative = \".\\\\text_reviews\"\n",
    "output_directory = \"C:\\\\Users\\\\Spencer\\\\Desktop\\\\clean\\\\data\\\\processed\"\n",
    "address_col = \"Full Address\"\n",
    "time_col_name = \"timeSince\"\n",
    "combine_directory(directory_path=directory_path, \n",
    "                    text_directory=text_directory,\n",
    "                    text_directory_relative=text_directory_relative,\n",
    "                    output_directory=output_directory, \n",
    "                    address_col=address_col, \n",
    "                    time_col_name=time_col_name, \n",
    "                    company_name=\"MOD Pizza\"\n",
    "                    )"
   ]
  },
  {
   "cell_type": "code",
   "execution_count": 24,
   "metadata": {},
   "outputs": [],
   "source": [
    "directory_path = \"C:\\\\Users\\\\Spencer\\\\Desktop\\\\clean\\\\data\\\\data_with_address\\\\monicals_10_31_20\"\n",
    "text_directory = \"C:\\\\Users\\\\Spencer\\\\Desktop\\\\clean\\\\data\\\\processed\\\\text_reviews\"\n",
    "text_directory_relative = \".\\\\text_reviews\"\n",
    "output_directory = \"C:\\\\Users\\\\Spencer\\\\Desktop\\\\clean\\\\data\\\\processed\"\n",
    "address_col = \"Full Address\"\n",
    "time_col_name = \"timeSince\"\n",
    "combine_directory(directory_path=directory_path, \n",
    "                    text_directory=text_directory,\n",
    "                    text_directory_relative=text_directory_relative,\n",
    "                    output_directory=output_directory, \n",
    "                    address_col=address_col, \n",
    "                    time_col_name=time_col_name, \n",
    "                    company_name=\"Monicals Pizza\"\n",
    "                    )"
   ]
  },
  {
   "cell_type": "code",
   "execution_count": 25,
   "metadata": {},
   "outputs": [],
   "source": [
    "directory_path = \"C:\\\\Users\\\\Spencer\\\\Desktop\\\\clean\\\\data\\\\data_with_address\\\\mountain_mikes_10_28_20\"\n",
    "text_directory = \"C:\\\\Users\\\\Spencer\\\\Desktop\\\\clean\\\\data\\\\processed\\\\text_reviews\"\n",
    "text_directory_relative = \".\\\\text_reviews\"\n",
    "output_directory = \"C:\\\\Users\\\\Spencer\\\\Desktop\\\\clean\\\\data\\\\processed\"\n",
    "address_col = \"Full Address\"\n",
    "time_col_name = \"timeSince\"\n",
    "combine_directory(directory_path=directory_path, \n",
    "                    text_directory=text_directory,\n",
    "                    text_directory_relative=text_directory_relative,\n",
    "                    output_directory=output_directory, \n",
    "                    address_col=address_col, \n",
    "                    time_col_name=time_col_name, \n",
    "                    company_name=\"Mountain Mike's Pizza\"\n",
    "                    )"
   ]
  },
  {
   "cell_type": "code",
   "execution_count": 26,
   "metadata": {},
   "outputs": [],
   "source": [
    "directory_path = \"C:\\\\Users\\\\Spencer\\\\Desktop\\\\clean\\\\data\\\\data_with_address\\\\nick_n_willys_11_3_20\"\n",
    "text_directory = \"C:\\\\Users\\\\Spencer\\\\Desktop\\\\clean\\\\data\\\\processed\\\\text_reviews\"\n",
    "text_directory_relative = \".\\\\text_reviews\"\n",
    "output_directory = \"C:\\\\Users\\\\Spencer\\\\Desktop\\\\clean\\\\data\\\\processed\"\n",
    "address_col = \"Full Address\"\n",
    "time_col_name = \"timeSince\"\n",
    "combine_directory(directory_path=directory_path, \n",
    "                    text_directory=text_directory,\n",
    "                    text_directory_relative=text_directory_relative,\n",
    "                    output_directory=output_directory, \n",
    "                    address_col=address_col, \n",
    "                    time_col_name=time_col_name, \n",
    "                    company_name=\"Nick 'N' Willy's\"\n",
    "                    )"
   ]
  },
  {
   "cell_type": "code",
   "execution_count": 27,
   "metadata": {},
   "outputs": [],
   "source": [
    "directory_path = \"C:\\\\Users\\\\Spencer\\\\Desktop\\\\clean\\\\data\\\\data_with_address\\\\old_chicago_10_30_20\"\n",
    "text_directory = \"C:\\\\Users\\\\Spencer\\\\Desktop\\\\clean\\\\data\\\\processed\\\\text_reviews\"\n",
    "text_directory_relative = \".\\\\text_reviews\"\n",
    "output_directory = \"C:\\\\Users\\\\Spencer\\\\Desktop\\\\clean\\\\data\\\\processed\"\n",
    "address_col = \"Full Address\"\n",
    "time_col_name = \"timeSince\"\n",
    "combine_directory(directory_path=directory_path, \n",
    "                    text_directory=text_directory,\n",
    "                    text_directory_relative=text_directory_relative,\n",
    "                    output_directory=output_directory, \n",
    "                    address_col=address_col, \n",
    "                    time_col_name=time_col_name, \n",
    "                    company_name=\"Old Chicago Pizza & Taproom\"\n",
    "                    )"
   ]
  },
  {
   "cell_type": "code",
   "execution_count": 28,
   "metadata": {},
   "outputs": [],
   "source": [
    "directory_path = \"C:\\\\Users\\\\Spencer\\\\Desktop\\\\clean\\\\data\\\\data_with_address\\\\original_italian_pie_11_3_20\"\n",
    "text_directory = \"C:\\\\Users\\\\Spencer\\\\Desktop\\\\clean\\\\data\\\\processed\\\\text_reviews\"\n",
    "text_directory_relative = \".\\\\text_reviews\"\n",
    "output_directory = \"C:\\\\Users\\\\Spencer\\\\Desktop\\\\clean\\\\data\\\\processed\"\n",
    "address_col = \"Full Address\"\n",
    "time_col_name = \"timeSince\"\n",
    "combine_directory(directory_path=directory_path, \n",
    "                    text_directory=text_directory,\n",
    "                    text_directory_relative=text_directory_relative,\n",
    "                    output_directory=output_directory, \n",
    "                    address_col=address_col, \n",
    "                    time_col_name=time_col_name, \n",
    "                    company_name=\"The Original Italian Pie\"\n",
    "                    )"
   ]
  },
  {
   "cell_type": "code",
   "execution_count": 29,
   "metadata": {},
   "outputs": [],
   "source": [
    "directory_path = \"C:\\\\Users\\\\Spencer\\\\Desktop\\\\clean\\\\data\\\\data_with_address\\\\paisanos_11_2_20\"\n",
    "text_directory = \"C:\\\\Users\\\\Spencer\\\\Desktop\\\\clean\\\\data\\\\processed\\\\text_reviews\"\n",
    "text_directory_relative = \".\\\\text_reviews\"\n",
    "output_directory = \"C:\\\\Users\\\\Spencer\\\\Desktop\\\\clean\\\\data\\\\processed\"\n",
    "address_col = \"Full Address\"\n",
    "time_col_name = \"timeSince\"\n",
    "combine_directory(directory_path=directory_path, \n",
    "                    text_directory=text_directory,\n",
    "                    text_directory_relative=text_directory_relative,\n",
    "                    output_directory=output_directory, \n",
    "                    address_col=address_col, \n",
    "                    time_col_name=time_col_name, \n",
    "                    company_name=\"Paisanos\"\n",
    "                    )"
   ]
  },
  {
   "cell_type": "code",
   "execution_count": 30,
   "metadata": {},
   "outputs": [],
   "source": [
    "directory_path = \"C:\\\\Users\\\\Spencer\\\\Desktop\\\\clean\\\\data\\\\data_with_address\\\\paisanos_pizza_11_3_20\"\n",
    "text_directory = \"C:\\\\Users\\\\Spencer\\\\Desktop\\\\clean\\\\data\\\\processed\\\\text_reviews\"\n",
    "text_directory_relative = \".\\\\text_reviews\"\n",
    "output_directory = \"C:\\\\Users\\\\Spencer\\\\Desktop\\\\clean\\\\data\\\\processed\"\n",
    "address_col = \"Full Address\"\n",
    "time_col_name = \"timeSince\"\n",
    "combine_directory(directory_path=directory_path, \n",
    "                    text_directory=text_directory,\n",
    "                    text_directory_relative=text_directory_relative,\n",
    "                    output_directory=output_directory, \n",
    "                    address_col=address_col, \n",
    "                    time_col_name=time_col_name, \n",
    "                    company_name=\"Paisano's Pizza\"\n",
    "                    )"
   ]
  },
  {
   "cell_type": "code",
   "execution_count": 2,
   "metadata": {},
   "outputs": [],
   "source": [
    "directory_path = \"C:\\\\Users\\\\Spencer\\\\Desktop\\\\clean\\\\data\\\\data_with_address\\\\papa_ginos_10_30_20\"\n",
    "text_directory = \"C:\\\\Users\\\\Spencer\\\\Desktop\\\\clean\\\\data\\\\processed\\\\text_reviews\"\n",
    "text_directory_relative = \".\\\\text_reviews\"\n",
    "output_directory = \"C:\\\\Users\\\\Spencer\\\\Desktop\\\\clean\\\\data\\\\processed\"\n",
    "address_col = \"Full Address\"\n",
    "time_col_name = \"timeSince\"\n",
    "combine_directory(directory_path=directory_path, \n",
    "                    text_directory=text_directory,\n",
    "                    text_directory_relative=text_directory_relative,\n",
    "                    output_directory=output_directory, \n",
    "                    address_col=address_col, \n",
    "                    time_col_name=time_col_name, \n",
    "                    company_name=\"Papa Gino's Pizzeria\"\n",
    "                    )"
   ]
  },
  {
   "cell_type": "code",
   "execution_count": 3,
   "metadata": {},
   "outputs": [],
   "source": [
    "directory_path = \"C:\\\\Users\\\\Spencer\\\\Desktop\\\\clean\\\\data\\\\data_with_address\\\\papa_johns_10_21_2020\"\n",
    "text_directory = \"C:\\\\Users\\\\Spencer\\\\Desktop\\\\clean\\\\data\\\\processed\\\\text_reviews\"\n",
    "text_directory_relative = \".\\\\text_reviews\"\n",
    "output_directory = \"C:\\\\Users\\\\Spencer\\\\Desktop\\\\clean\\\\data\\\\processed\"\n",
    "address_col = \"Full Address\"\n",
    "time_col_name = \"timeSince\"\n",
    "combine_directory(directory_path=directory_path, \n",
    "                    text_directory=text_directory,\n",
    "                    text_directory_relative=text_directory_relative,\n",
    "                    output_directory=output_directory, \n",
    "                    address_col=address_col, \n",
    "                    time_col_name=time_col_name, \n",
    "                    company_name=\"Papa John's Pizza\"\n",
    "                    )"
   ]
  },
  {
   "cell_type": "code",
   "execution_count": 4,
   "metadata": {},
   "outputs": [],
   "source": [
    "directory_path = \"C:\\\\Users\\\\Spencer\\\\Desktop\\\\clean\\\\data\\\\data_with_address\\\\papa_johns_10_22_2020\"\n",
    "text_directory = \"C:\\\\Users\\\\Spencer\\\\Desktop\\\\clean\\\\data\\\\processed\\\\text_reviews\"\n",
    "text_directory_relative = \".\\\\text_reviews\"\n",
    "output_directory = \"C:\\\\Users\\\\Spencer\\\\Desktop\\\\clean\\\\data\\\\processed\"\n",
    "address_col = \"Full Address\"\n",
    "time_col_name = \"timeSince\"\n",
    "combine_directory(directory_path=directory_path, \n",
    "                    text_directory=text_directory,\n",
    "                    text_directory_relative=text_directory_relative,\n",
    "                    output_directory=output_directory, \n",
    "                    address_col=address_col, \n",
    "                    time_col_name=time_col_name, \n",
    "                    company_name=\"Papa John's Pizza\"\n",
    "                    )"
   ]
  },
  {
   "cell_type": "code",
   "execution_count": 5,
   "metadata": {},
   "outputs": [],
   "source": [
    "directory_path = \"C:\\\\Users\\\\Spencer\\\\Desktop\\\\clean\\\\data\\\\data_with_address\\\\papa_murphys_10_14_2020\"\n",
    "text_directory = \"C:\\\\Users\\\\Spencer\\\\Desktop\\\\clean\\\\data\\\\processed\\\\text_reviews\"\n",
    "text_directory_relative = \".\\\\text_reviews\"\n",
    "output_directory = \"C:\\\\Users\\\\Spencer\\\\Desktop\\\\clean\\\\data\\\\processed\"\n",
    "address_col = \"Full Address\"\n",
    "time_col_name = \"timeSince\"\n",
    "combine_directory(directory_path=directory_path, \n",
    "                    text_directory=text_directory,\n",
    "                    text_directory_relative=text_directory_relative,\n",
    "                    output_directory=output_directory, \n",
    "                    address_col=address_col, \n",
    "                    time_col_name=time_col_name, \n",
    "                    company_name=\"Papa Murphy's Take 'N' Bake Pizza\"\n",
    "                    )"
   ]
  },
  {
   "cell_type": "code",
   "execution_count": 6,
   "metadata": {},
   "outputs": [],
   "source": [
    "directory_path = \"C:\\\\Users\\\\Spencer\\\\Desktop\\\\clean\\\\data\\\\data_with_address\\\\peter_piper_pizza_10_29_20\"\n",
    "text_directory = \"C:\\\\Users\\\\Spencer\\\\Desktop\\\\clean\\\\data\\\\processed\\\\text_reviews\"\n",
    "text_directory_relative = \".\\\\text_reviews\"\n",
    "output_directory = \"C:\\\\Users\\\\Spencer\\\\Desktop\\\\clean\\\\data\\\\processed\"\n",
    "address_col = \"Full Address\"\n",
    "time_col_name = \"timeSince\"\n",
    "combine_directory(directory_path=directory_path, \n",
    "                    text_directory=text_directory,\n",
    "                    text_directory_relative=text_directory_relative,\n",
    "                    output_directory=output_directory, \n",
    "                    address_col=address_col, \n",
    "                    time_col_name=time_col_name, \n",
    "                    company_name=\"Peter Piper Pizza\"\n",
    "                    )"
   ]
  },
  {
   "cell_type": "code",
   "execution_count": 7,
   "metadata": {},
   "outputs": [],
   "source": [
    "directory_path = \"C:\\\\Users\\\\Spencer\\\\Desktop\\\\clean\\\\data\\\\data_with_address\\\\pie_five_10_31_20\"\n",
    "text_directory = \"C:\\\\Users\\\\Spencer\\\\Desktop\\\\clean\\\\data\\\\processed\\\\text_reviews\"\n",
    "text_directory_relative = \".\\\\text_reviews\"\n",
    "output_directory = \"C:\\\\Users\\\\Spencer\\\\Desktop\\\\clean\\\\data\\\\processed\"\n",
    "address_col = \"Full Address\"\n",
    "time_col_name = \"timeSince\"\n",
    "combine_directory(directory_path=directory_path, \n",
    "                    text_directory=text_directory,\n",
    "                    text_directory_relative=text_directory_relative,\n",
    "                    output_directory=output_directory, \n",
    "                    address_col=address_col, \n",
    "                    time_col_name=time_col_name, \n",
    "                    company_name=\"Pie Five Pizza\"\n",
    "                    )"
   ]
  },
  {
   "cell_type": "code",
   "execution_count": 8,
   "metadata": {},
   "outputs": [],
   "source": [
    "directory_path = \"C:\\\\Users\\\\Spencer\\\\Desktop\\\\clean\\\\data\\\\data_with_address\\\\pieology_10_20_2020\"\n",
    "text_directory = \"C:\\\\Users\\\\Spencer\\\\Desktop\\\\clean\\\\data\\\\processed\\\\text_reviews\"\n",
    "text_directory_relative = \".\\\\text_reviews\"\n",
    "output_directory = \"C:\\\\Users\\\\Spencer\\\\Desktop\\\\clean\\\\data\\\\processed\"\n",
    "address_col = \"Full Address\"\n",
    "time_col_name = \"timeSince\"\n",
    "combine_directory(directory_path=directory_path, \n",
    "                    text_directory=text_directory,\n",
    "                    text_directory_relative=text_directory_relative,\n",
    "                    output_directory=output_directory, \n",
    "                    address_col=address_col, \n",
    "                    time_col_name=time_col_name, \n",
    "                    company_name=\"PIEOLOGY PIZZERIA\"\n",
    "                    )"
   ]
  },
  {
   "cell_type": "code",
   "execution_count": 9,
   "metadata": {},
   "outputs": [],
   "source": [
    "directory_path = \"C:\\\\Users\\\\Spencer\\\\Desktop\\\\clean\\\\data\\\\data_with_address\\\\pizza_boli_10_30_20\"\n",
    "text_directory = \"C:\\\\Users\\\\Spencer\\\\Desktop\\\\clean\\\\data\\\\processed\\\\text_reviews\"\n",
    "text_directory_relative = \".\\\\text_reviews\"\n",
    "output_directory = \"C:\\\\Users\\\\Spencer\\\\Desktop\\\\clean\\\\data\\\\processed\"\n",
    "address_col = \"Full Address\"\n",
    "time_col_name = \"timeSince\"\n",
    "combine_directory(directory_path=directory_path, \n",
    "                    text_directory=text_directory,\n",
    "                    text_directory_relative=text_directory_relative,\n",
    "                    output_directory=output_directory, \n",
    "                    address_col=address_col, \n",
    "                    time_col_name=time_col_name, \n",
    "                    company_name=\"Pizza Bolis\"\n",
    "                    )"
   ]
  },
  {
   "cell_type": "code",
   "execution_count": 10,
   "metadata": {},
   "outputs": [],
   "source": [
    "directory_path = \"C:\\\\Users\\\\Spencer\\\\Desktop\\\\clean\\\\data\\\\data_with_address\\\\pizza_factory_10_29_20\"\n",
    "text_directory = \"C:\\\\Users\\\\Spencer\\\\Desktop\\\\clean\\\\data\\\\processed\\\\text_reviews\"\n",
    "text_directory_relative = \".\\\\text_reviews\"\n",
    "output_directory = \"C:\\\\Users\\\\Spencer\\\\Desktop\\\\clean\\\\data\\\\processed\"\n",
    "address_col = \"Full Address\"\n",
    "time_col_name = \"timeSince\"\n",
    "combine_directory(directory_path=directory_path, \n",
    "                    text_directory=text_directory,\n",
    "                    text_directory_relative=text_directory_relative,\n",
    "                    output_directory=output_directory, \n",
    "                    address_col=address_col, \n",
    "                    time_col_name=time_col_name, \n",
    "                    company_name=\"Pizza Factory\"\n",
    "                    )"
   ]
  },
  {
   "cell_type": "code",
   "execution_count": 11,
   "metadata": {},
   "outputs": [],
   "source": [
    "directory_path = \"C:\\\\Users\\\\Spencer\\\\Desktop\\\\clean\\\\data\\\\data_with_address\\\\pizza_guys_10_31_20\"\n",
    "text_directory = \"C:\\\\Users\\\\Spencer\\\\Desktop\\\\clean\\\\data\\\\processed\\\\text_reviews\"\n",
    "text_directory_relative = \".\\\\text_reviews\"\n",
    "output_directory = \"C:\\\\Users\\\\Spencer\\\\Desktop\\\\clean\\\\data\\\\processed\"\n",
    "address_col = \"Full Address\"\n",
    "time_col_name = \"timeSince\"\n",
    "combine_directory(directory_path=directory_path, \n",
    "                    text_directory=text_directory,\n",
    "                    text_directory_relative=text_directory_relative,\n",
    "                    output_directory=output_directory, \n",
    "                    address_col=address_col, \n",
    "                    time_col_name=time_col_name, \n",
    "                    company_name=\"Pizza Guys\"\n",
    "                    )"
   ]
  },
  {
   "cell_type": "code",
   "execution_count": 12,
   "metadata": {},
   "outputs": [],
   "source": [
    "directory_path = \"C:\\\\Users\\\\Spencer\\\\Desktop\\\\clean\\\\data\\\\data_with_address\\\\pizza_hut_9_30_2020\"\n",
    "text_directory = \"C:\\\\Users\\\\Spencer\\\\Desktop\\\\clean\\\\data\\\\processed\\\\text_reviews\"\n",
    "text_directory_relative = \".\\\\text_reviews\"\n",
    "output_directory = \"C:\\\\Users\\\\Spencer\\\\Desktop\\\\clean\\\\data\\\\processed\"\n",
    "address_col = \"Full Address\"\n",
    "time_col_name = \"timeSince\"\n",
    "combine_directory(directory_path=directory_path, \n",
    "                    text_directory=text_directory,\n",
    "                    text_directory_relative=text_directory_relative,\n",
    "                    output_directory=output_directory, \n",
    "                    address_col=address_col, \n",
    "                    time_col_name=time_col_name, \n",
    "                    company_name=\"Pizza Hut\"\n",
    "                    )"
   ]
  },
  {
   "cell_type": "code",
   "execution_count": 13,
   "metadata": {},
   "outputs": [],
   "source": [
    "directory_path = \"C:\\\\Users\\\\Spencer\\\\Desktop\\\\clean\\\\data\\\\data_with_address\\\\pizza_hut_10_1_2020\"\n",
    "text_directory = \"C:\\\\Users\\\\Spencer\\\\Desktop\\\\clean\\\\data\\\\processed\\\\text_reviews\"\n",
    "text_directory_relative = \".\\\\text_reviews\"\n",
    "output_directory = \"C:\\\\Users\\\\Spencer\\\\Desktop\\\\clean\\\\data\\\\processed\"\n",
    "address_col = \"Full Address\"\n",
    "time_col_name = \"timeSince\"\n",
    "combine_directory(directory_path=directory_path, \n",
    "                    text_directory=text_directory,\n",
    "                    text_directory_relative=text_directory_relative,\n",
    "                    output_directory=output_directory, \n",
    "                    address_col=address_col, \n",
    "                    time_col_name=time_col_name, \n",
    "                    company_name=\"Pizza Hut\"\n",
    "                    )"
   ]
  },
  {
   "cell_type": "code",
   "execution_count": 14,
   "metadata": {},
   "outputs": [],
   "source": [
    "directory_path = \"C:\\\\Users\\\\Spencer\\\\Desktop\\\\clean\\\\data\\\\data_with_address\\\\pizza_hut_10_1_2020_2\"\n",
    "text_directory = \"C:\\\\Users\\\\Spencer\\\\Desktop\\\\clean\\\\data\\\\processed\\\\text_reviews\"\n",
    "text_directory_relative = \".\\\\text_reviews\"\n",
    "output_directory = \"C:\\\\Users\\\\Spencer\\\\Desktop\\\\clean\\\\data\\\\processed\"\n",
    "address_col = \"Full Address\"\n",
    "time_col_name = \"timeSince\"\n",
    "combine_directory(directory_path=directory_path, \n",
    "                    text_directory=text_directory,\n",
    "                    text_directory_relative=text_directory_relative,\n",
    "                    output_directory=output_directory, \n",
    "                    address_col=address_col, \n",
    "                    time_col_name=time_col_name, \n",
    "                    company_name=\"Pizza Hut\"\n",
    "                    )"
   ]
  },
  {
   "cell_type": "code",
   "execution_count": 15,
   "metadata": {},
   "outputs": [],
   "source": [
    "directory_path = \"C:\\\\Users\\\\Spencer\\\\Desktop\\\\clean\\\\data\\\\data_with_address\\\\pizza_hut_10_2_2020\"\n",
    "text_directory = \"C:\\\\Users\\\\Spencer\\\\Desktop\\\\clean\\\\data\\\\processed\\\\text_reviews\"\n",
    "text_directory_relative = \".\\\\text_reviews\"\n",
    "output_directory = \"C:\\\\Users\\\\Spencer\\\\Desktop\\\\clean\\\\data\\\\processed\"\n",
    "address_col = \"Full Address\"\n",
    "time_col_name = \"timeSince\"\n",
    "combine_directory(directory_path=directory_path, \n",
    "                    text_directory=text_directory,\n",
    "                    text_directory_relative=text_directory_relative,\n",
    "                    output_directory=output_directory, \n",
    "                    address_col=address_col, \n",
    "                    time_col_name=time_col_name, \n",
    "                    company_name=\"Pizza Hut\"\n",
    "                    )"
   ]
  },
  {
   "cell_type": "code",
   "execution_count": 16,
   "metadata": {},
   "outputs": [],
   "source": [
    "directory_path = \"C:\\\\Users\\\\Spencer\\\\Desktop\\\\clean\\\\data\\\\data_with_address\\\\pizza_hut_10_5_2020\"\n",
    "text_directory = \"C:\\\\Users\\\\Spencer\\\\Desktop\\\\clean\\\\data\\\\processed\\\\text_reviews\"\n",
    "text_directory_relative = \".\\\\text_reviews\"\n",
    "output_directory = \"C:\\\\Users\\\\Spencer\\\\Desktop\\\\clean\\\\data\\\\processed\"\n",
    "address_col = \"Full Address\"\n",
    "time_col_name = \"timeSince\"\n",
    "combine_directory(directory_path=directory_path, \n",
    "                    text_directory=text_directory,\n",
    "                    text_directory_relative=text_directory_relative,\n",
    "                    output_directory=output_directory, \n",
    "                    address_col=address_col, \n",
    "                    time_col_name=time_col_name, \n",
    "                    company_name=\"Pizza Hut\"\n",
    "                    )"
   ]
  },
  {
   "cell_type": "code",
   "execution_count": 17,
   "metadata": {},
   "outputs": [],
   "source": [
    "directory_path = \"C:\\\\Users\\\\Spencer\\\\Desktop\\\\clean\\\\data\\\\data_with_address\\\\pizza_hut_10_5_2020_2\"\n",
    "text_directory = \"C:\\\\Users\\\\Spencer\\\\Desktop\\\\clean\\\\data\\\\processed\\\\text_reviews\"\n",
    "text_directory_relative = \".\\\\text_reviews\"\n",
    "output_directory = \"C:\\\\Users\\\\Spencer\\\\Desktop\\\\clean\\\\data\\\\processed\"\n",
    "address_col = \"Full Address\"\n",
    "time_col_name = \"timeSince\"\n",
    "combine_directory(directory_path=directory_path, \n",
    "                    text_directory=text_directory,\n",
    "                    text_directory_relative=text_directory_relative,\n",
    "                    output_directory=output_directory, \n",
    "                    address_col=address_col, \n",
    "                    time_col_name=time_col_name, \n",
    "                    company_name=\"Pizza Hut\"\n",
    "                    )"
   ]
  },
  {
   "cell_type": "code",
   "execution_count": 18,
   "metadata": {},
   "outputs": [],
   "source": [
    "directory_path = \"C:\\\\Users\\\\Spencer\\\\Desktop\\\\clean\\\\data\\\\data_with_address\\\\pizza_hut_10_6_2020\"\n",
    "text_directory = \"C:\\\\Users\\\\Spencer\\\\Desktop\\\\clean\\\\data\\\\processed\\\\text_reviews\"\n",
    "text_directory_relative = \".\\\\text_reviews\"\n",
    "output_directory = \"C:\\\\Users\\\\Spencer\\\\Desktop\\\\clean\\\\data\\\\processed\"\n",
    "address_col = \"Full Address\"\n",
    "time_col_name = \"timeSince\"\n",
    "combine_directory(directory_path=directory_path, \n",
    "                    text_directory=text_directory,\n",
    "                    text_directory_relative=text_directory_relative,\n",
    "                    output_directory=output_directory, \n",
    "                    address_col=address_col, \n",
    "                    time_col_name=time_col_name, \n",
    "                    company_name=\"Pizza Hut\"\n",
    "                    )"
   ]
  },
  {
   "cell_type": "code",
   "execution_count": 19,
   "metadata": {},
   "outputs": [],
   "source": [
    "directory_path = \"C:\\\\Users\\\\Spencer\\\\Desktop\\\\clean\\\\data\\\\data_with_address\\\\pizza_hut_10_6_2020_2\"\n",
    "text_directory = \"C:\\\\Users\\\\Spencer\\\\Desktop\\\\clean\\\\data\\\\processed\\\\text_reviews\"\n",
    "text_directory_relative = \".\\\\text_reviews\"\n",
    "output_directory = \"C:\\\\Users\\\\Spencer\\\\Desktop\\\\clean\\\\data\\\\processed\"\n",
    "address_col = \"Full Address\"\n",
    "time_col_name = \"timeSince\"\n",
    "combine_directory(directory_path=directory_path, \n",
    "                    text_directory=text_directory,\n",
    "                    text_directory_relative=text_directory_relative,\n",
    "                    output_directory=output_directory, \n",
    "                    address_col=address_col, \n",
    "                    time_col_name=time_col_name, \n",
    "                    company_name=\"Pizza Hut\"\n",
    "                    )"
   ]
  },
  {
   "cell_type": "code",
   "execution_count": 23,
   "metadata": {},
   "outputs": [],
   "source": [
    "directory_path = \"C:\\\\Users\\\\Spencer\\\\Desktop\\\\clean\\\\data\\\\data_with_address\\\\pizza_hut_pre_9_30_2020_WITHSTARS\"\n",
    "text_directory = \"C:\\\\Users\\\\Spencer\\\\Desktop\\\\clean\\\\data\\\\processed\\\\text_reviews\"\n",
    "text_directory_relative = \".\\\\text_reviews\"\n",
    "output_directory = \"C:\\\\Users\\\\Spencer\\\\Desktop\\\\clean\\\\data\\\\processed\"\n",
    "address_col = \"Full Address\"\n",
    "time_col_name = \"Publish_date\"\n",
    "combine_directory(directory_path=directory_path, \n",
    "                    text_directory=text_directory,\n",
    "                    text_directory_relative=text_directory_relative,\n",
    "                    output_directory=output_directory, \n",
    "                    address_col=address_col, \n",
    "                    time_col_name=time_col_name, \n",
    "                    company_name=\"Pizza Hut\",\n",
    "                    id_rule = \"filename\"\n",
    "                    )"
   ]
  },
  {
   "cell_type": "code",
   "execution_count": 24,
   "metadata": {},
   "outputs": [],
   "source": [
    "directory_path = \"C:\\\\Users\\\\Spencer\\\\Desktop\\\\clean\\\\data\\\\data_with_address\\\\pizza_inn_10_29_20\"\n",
    "text_directory = \"C:\\\\Users\\\\Spencer\\\\Desktop\\\\clean\\\\data\\\\processed\\\\text_reviews\"\n",
    "text_directory_relative = \".\\\\text_reviews\"\n",
    "output_directory = \"C:\\\\Users\\\\Spencer\\\\Desktop\\\\clean\\\\data\\\\processed\"\n",
    "address_col = \"Full Address\"\n",
    "time_col_name = \"timeSince\"\n",
    "combine_directory(directory_path=directory_path, \n",
    "                    text_directory=text_directory,\n",
    "                    text_directory_relative=text_directory_relative,\n",
    "                    output_directory=output_directory, \n",
    "                    address_col=address_col, \n",
    "                    time_col_name=time_col_name, \n",
    "                    company_name=\"Pizza Inn\"\n",
    "                    )"
   ]
  },
  {
   "cell_type": "code",
   "execution_count": 25,
   "metadata": {},
   "outputs": [],
   "source": [
    "directory_path = \"C:\\\\Users\\\\Spencer\\\\Desktop\\\\clean\\\\data\\\\data_with_address\\\\pizza_inn_express_11_2_20\"\n",
    "text_directory = \"C:\\\\Users\\\\Spencer\\\\Desktop\\\\clean\\\\data\\\\processed\\\\text_reviews\"\n",
    "text_directory_relative = \".\\\\text_reviews\"\n",
    "output_directory = \"C:\\\\Users\\\\Spencer\\\\Desktop\\\\clean\\\\data\\\\processed\"\n",
    "address_col = \"Full Address\"\n",
    "time_col_name = \"timeSince\"\n",
    "combine_directory(directory_path=directory_path, \n",
    "                    text_directory=text_directory,\n",
    "                    text_directory_relative=text_directory_relative,\n",
    "                    output_directory=output_directory, \n",
    "                    address_col=address_col, \n",
    "                    time_col_name=time_col_name, \n",
    "                    company_name=\"Pizza Inn Express\"\n",
    "                    )"
   ]
  },
  {
   "cell_type": "code",
   "execution_count": 26,
   "metadata": {},
   "outputs": [],
   "source": [
    "directory_path = \"C:\\\\Users\\\\Spencer\\\\Desktop\\\\clean\\\\data\\\\data_with_address\\\\pizza_italia_11_3_20\"\n",
    "text_directory = \"C:\\\\Users\\\\Spencer\\\\Desktop\\\\clean\\\\data\\\\processed\\\\text_reviews\"\n",
    "text_directory_relative = \".\\\\text_reviews\"\n",
    "output_directory = \"C:\\\\Users\\\\Spencer\\\\Desktop\\\\clean\\\\data\\\\processed\"\n",
    "address_col = \"Full Address\"\n",
    "time_col_name = \"timeSince\"\n",
    "combine_directory(directory_path=directory_path, \n",
    "                    text_directory=text_directory,\n",
    "                    text_directory_relative=text_directory_relative,\n",
    "                    output_directory=output_directory, \n",
    "                    address_col=address_col, \n",
    "                    time_col_name=time_col_name, \n",
    "                    company_name=\"Pizza Italia\"\n",
    "                    )"
   ]
  },
  {
   "cell_type": "code",
   "execution_count": 27,
   "metadata": {},
   "outputs": [],
   "source": [
    "directory_path = \"C:\\\\Users\\\\Spencer\\\\Desktop\\\\clean\\\\data\\\\data_with_address\\\\pizza_plus_10_31_20\"\n",
    "text_directory = \"C:\\\\Users\\\\Spencer\\\\Desktop\\\\clean\\\\data\\\\processed\\\\text_reviews\"\n",
    "text_directory_relative = \".\\\\text_reviews\"\n",
    "output_directory = \"C:\\\\Users\\\\Spencer\\\\Desktop\\\\clean\\\\data\\\\processed\"\n",
    "address_col = \"Full Address\"\n",
    "time_col_name = \"timeSince\"\n",
    "combine_directory(directory_path=directory_path, \n",
    "                    text_directory=text_directory,\n",
    "                    text_directory_relative=text_directory_relative,\n",
    "                    output_directory=output_directory, \n",
    "                    address_col=address_col, \n",
    "                    time_col_name=time_col_name, \n",
    "                    company_name=\"Pizza Plus\"\n",
    "                    )"
   ]
  },
  {
   "cell_type": "code",
   "execution_count": 28,
   "metadata": {},
   "outputs": [],
   "source": [
    "directory_path = \"C:\\\\Users\\\\Spencer\\\\Desktop\\\\clean\\\\data\\\\data_with_address\\\\pizza_pro_10_30_20\"\n",
    "text_directory = \"C:\\\\Users\\\\Spencer\\\\Desktop\\\\clean\\\\data\\\\processed\\\\text_reviews\"\n",
    "text_directory_relative = \".\\\\text_reviews\"\n",
    "output_directory = \"C:\\\\Users\\\\Spencer\\\\Desktop\\\\clean\\\\data\\\\processed\"\n",
    "address_col = \"Full Address\"\n",
    "time_col_name = \"timeSince\"\n",
    "combine_directory(directory_path=directory_path, \n",
    "                    text_directory=text_directory,\n",
    "                    text_directory_relative=text_directory_relative,\n",
    "                    output_directory=output_directory, \n",
    "                    address_col=address_col, \n",
    "                    time_col_name=time_col_name, \n",
    "                    company_name=\"Pizza Pro\"\n",
    "                    )"
   ]
  },
  {
   "cell_type": "code",
   "execution_count": 29,
   "metadata": {},
   "outputs": [],
   "source": [
    "directory_path = \"C:\\\\Users\\\\Spencer\\\\Desktop\\\\clean\\\\data\\\\data_with_address\\\\pizza_ranch_10_12_2020\"\n",
    "text_directory = \"C:\\\\Users\\\\Spencer\\\\Desktop\\\\clean\\\\data\\\\processed\\\\text_reviews\"\n",
    "text_directory_relative = \".\\\\text_reviews\"\n",
    "output_directory = \"C:\\\\Users\\\\Spencer\\\\Desktop\\\\clean\\\\data\\\\processed\"\n",
    "address_col = \"Full Address\"\n",
    "time_col_name = \"timeSince\"\n",
    "combine_directory(directory_path=directory_path, \n",
    "                    text_directory=text_directory,\n",
    "                    text_directory_relative=text_directory_relative,\n",
    "                    output_directory=output_directory, \n",
    "                    address_col=address_col, \n",
    "                    time_col_name=time_col_name, \n",
    "                    company_name=\"The Pizza Ranch\"\n",
    "                    )"
   ]
  },
  {
   "cell_type": "code",
   "execution_count": 30,
   "metadata": {},
   "outputs": [],
   "source": [
    "directory_path = \"C:\\\\Users\\\\Spencer\\\\Desktop\\\\clean\\\\data\\\\data_with_address\\\\pizza_schmizza_11_3_20\"\n",
    "text_directory = \"C:\\\\Users\\\\Spencer\\\\Desktop\\\\clean\\\\data\\\\processed\\\\text_reviews\"\n",
    "text_directory_relative = \".\\\\text_reviews\"\n",
    "output_directory = \"C:\\\\Users\\\\Spencer\\\\Desktop\\\\clean\\\\data\\\\processed\"\n",
    "address_col = \"Full Address\"\n",
    "time_col_name = \"timeSince\"\n",
    "combine_directory(directory_path=directory_path, \n",
    "                    text_directory=text_directory,\n",
    "                    text_directory_relative=text_directory_relative,\n",
    "                    output_directory=output_directory, \n",
    "                    address_col=address_col, \n",
    "                    time_col_name=time_col_name, \n",
    "                    company_name=\"Pizza Schmizza\"\n",
    "                    )"
   ]
  },
  {
   "cell_type": "code",
   "execution_count": 31,
   "metadata": {},
   "outputs": [],
   "source": [
    "directory_path = \"C:\\\\Users\\\\Spencer\\\\Desktop\\\\clean\\\\data\\\\data_with_address\\\\pizzarev_11_2_20\"\n",
    "text_directory = \"C:\\\\Users\\\\Spencer\\\\Desktop\\\\clean\\\\data\\\\processed\\\\text_reviews\"\n",
    "text_directory_relative = \".\\\\text_reviews\"\n",
    "output_directory = \"C:\\\\Users\\\\Spencer\\\\Desktop\\\\clean\\\\data\\\\processed\"\n",
    "address_col = \"Full Address\"\n",
    "time_col_name = \"timeSince\"\n",
    "combine_directory(directory_path=directory_path, \n",
    "                    text_directory=text_directory,\n",
    "                    text_directory_relative=text_directory_relative,\n",
    "                    output_directory=output_directory, \n",
    "                    address_col=address_col, \n",
    "                    time_col_name=time_col_name, \n",
    "                    company_name=\"PizzaRev\"\n",
    "                    )"
   ]
  },
  {
   "cell_type": "code",
   "execution_count": 32,
   "metadata": {},
   "outputs": [],
   "source": [
    "directory_path = \"C:\\\\Users\\\\Spencer\\\\Desktop\\\\clean\\\\data\\\\data_with_address\\\\pizzeria_locale_11_3_20\"\n",
    "text_directory = \"C:\\\\Users\\\\Spencer\\\\Desktop\\\\clean\\\\data\\\\processed\\\\text_reviews\"\n",
    "text_directory_relative = \".\\\\text_reviews\"\n",
    "output_directory = \"C:\\\\Users\\\\Spencer\\\\Desktop\\\\clean\\\\data\\\\processed\"\n",
    "address_col = \"Full Address\"\n",
    "time_col_name = \"timeSince\"\n",
    "combine_directory(directory_path=directory_path, \n",
    "                    text_directory=text_directory,\n",
    "                    text_directory_relative=text_directory_relative,\n",
    "                    output_directory=output_directory, \n",
    "                    address_col=address_col, \n",
    "                    time_col_name=time_col_name, \n",
    "                    company_name=\"Pizzeria Locale\"\n",
    "                    )"
   ]
  },
  {
   "cell_type": "code",
   "execution_count": 33,
   "metadata": {},
   "outputs": [],
   "source": [
    "directory_path = \"C:\\\\Users\\\\Spencer\\\\Desktop\\\\clean\\\\data\\\\data_with_address\\\\rosatis_10_28_20\"\n",
    "text_directory = \"C:\\\\Users\\\\Spencer\\\\Desktop\\\\clean\\\\data\\\\processed\\\\text_reviews\"\n",
    "text_directory_relative = \".\\\\text_reviews\"\n",
    "output_directory = \"C:\\\\Users\\\\Spencer\\\\Desktop\\\\clean\\\\data\\\\processed\"\n",
    "address_col = \"Full Address\"\n",
    "time_col_name = \"timeSince\"\n",
    "combine_directory(directory_path=directory_path, \n",
    "                    text_directory=text_directory,\n",
    "                    text_directory_relative=text_directory_relative,\n",
    "                    output_directory=output_directory, \n",
    "                    address_col=address_col, \n",
    "                    time_col_name=time_col_name, \n",
    "                    company_name=\"Rosatis Pizza\"\n",
    "                    )"
   ]
  },
  {
   "cell_type": "code",
   "execution_count": 34,
   "metadata": {},
   "outputs": [],
   "source": [
    "directory_path = \"C:\\\\Users\\\\Spencer\\\\Desktop\\\\clean\\\\data\\\\data_with_address\\\\round_table_10_20_2020\"\n",
    "text_directory = \"C:\\\\Users\\\\Spencer\\\\Desktop\\\\clean\\\\data\\\\processed\\\\text_reviews\"\n",
    "text_directory_relative = \".\\\\text_reviews\"\n",
    "output_directory = \"C:\\\\Users\\\\Spencer\\\\Desktop\\\\clean\\\\data\\\\processed\"\n",
    "address_col = \"Full Address\"\n",
    "time_col_name = \"timeSince\"\n",
    "combine_directory(directory_path=directory_path, \n",
    "                    text_directory=text_directory,\n",
    "                    text_directory_relative=text_directory_relative,\n",
    "                    output_directory=output_directory, \n",
    "                    address_col=address_col, \n",
    "                    time_col_name=time_col_name, \n",
    "                    company_name=\"Round Table Pizza\"\n",
    "                    )"
   ]
  },
  {
   "cell_type": "code",
   "execution_count": 35,
   "metadata": {},
   "outputs": [],
   "source": [
    "directory_path = \"C:\\\\Users\\\\Spencer\\\\Desktop\\\\clean\\\\data\\\\data_with_address\\\\sbarro_10_18_2020\"\n",
    "text_directory = \"C:\\\\Users\\\\Spencer\\\\Desktop\\\\clean\\\\data\\\\processed\\\\text_reviews\"\n",
    "text_directory_relative = \".\\\\text_reviews\"\n",
    "output_directory = \"C:\\\\Users\\\\Spencer\\\\Desktop\\\\clean\\\\data\\\\processed\"\n",
    "address_col = \"Full Address\"\n",
    "time_col_name = \"timeSince\"\n",
    "combine_directory(directory_path=directory_path, \n",
    "                    text_directory=text_directory,\n",
    "                    text_directory_relative=text_directory_relative,\n",
    "                    output_directory=output_directory, \n",
    "                    address_col=address_col, \n",
    "                    time_col_name=time_col_name, \n",
    "                    company_name=\"Sbarro\"\n",
    "                    )"
   ]
  },
  {
   "cell_type": "code",
   "execution_count": 36,
   "metadata": {},
   "outputs": [],
   "source": [
    "directory_path = \"C:\\\\Users\\\\Spencer\\\\Desktop\\\\clean\\\\data\\\\data_with_address\\\\schmizza_public_house_11_3_20\"\n",
    "text_directory = \"C:\\\\Users\\\\Spencer\\\\Desktop\\\\clean\\\\data\\\\processed\\\\text_reviews\"\n",
    "text_directory_relative = \".\\\\text_reviews\"\n",
    "output_directory = \"C:\\\\Users\\\\Spencer\\\\Desktop\\\\clean\\\\data\\\\processed\"\n",
    "address_col = \"Full Address\"\n",
    "time_col_name = \"timeSince\"\n",
    "combine_directory(directory_path=directory_path, \n",
    "                    text_directory=text_directory,\n",
    "                    text_directory_relative=text_directory_relative,\n",
    "                    output_directory=output_directory, \n",
    "                    address_col=address_col, \n",
    "                    time_col_name=time_col_name, \n",
    "                    company_name=\"Schmizza Public House\"\n",
    "                    )"
   ]
  },
  {
   "cell_type": "code",
   "execution_count": 37,
   "metadata": {},
   "outputs": [],
   "source": [
    "directory_path = \"C:\\\\Users\\\\Spencer\\\\Desktop\\\\clean\\\\data\\\\data_with_address\\\\shakeys_11_1_20\"\n",
    "text_directory = \"C:\\\\Users\\\\Spencer\\\\Desktop\\\\clean\\\\data\\\\processed\\\\text_reviews\"\n",
    "text_directory_relative = \".\\\\text_reviews\"\n",
    "output_directory = \"C:\\\\Users\\\\Spencer\\\\Desktop\\\\clean\\\\data\\\\processed\"\n",
    "address_col = \"Full Address\"\n",
    "time_col_name = \"timeSince\"\n",
    "combine_directory(directory_path=directory_path, \n",
    "                    text_directory=text_directory,\n",
    "                    text_directory_relative=text_directory_relative,\n",
    "                    output_directory=output_directory, \n",
    "                    address_col=address_col, \n",
    "                    time_col_name=time_col_name, \n",
    "                    company_name=\"Shakey's Pizza Parlor\"\n",
    "                    )"
   ]
  },
  {
   "cell_type": "code",
   "execution_count": 38,
   "metadata": {},
   "outputs": [],
   "source": [
    "directory_path = \"C:\\\\Users\\\\Spencer\\\\Desktop\\\\clean\\\\data\\\\data_with_address\\\\simple_simons_10_29_20\"\n",
    "text_directory = \"C:\\\\Users\\\\Spencer\\\\Desktop\\\\clean\\\\data\\\\processed\\\\text_reviews\"\n",
    "text_directory_relative = \".\\\\text_reviews\"\n",
    "output_directory = \"C:\\\\Users\\\\Spencer\\\\Desktop\\\\clean\\\\data\\\\processed\"\n",
    "address_col = \"Full Address\"\n",
    "time_col_name = \"timeSince\"\n",
    "combine_directory(directory_path=directory_path, \n",
    "                    text_directory=text_directory,\n",
    "                    text_directory_relative=text_directory_relative,\n",
    "                    output_directory=output_directory, \n",
    "                    address_col=address_col, \n",
    "                    time_col_name=time_col_name, \n",
    "                    company_name=\"Simple Simon's Pizza\"\n",
    "                    )"
   ]
  },
  {
   "cell_type": "code",
   "execution_count": 39,
   "metadata": {},
   "outputs": [],
   "source": [
    "directory_path = \"C:\\\\Users\\\\Spencer\\\\Desktop\\\\clean\\\\data\\\\data_with_address\\\\snappy_11_1_20\"\n",
    "text_directory = \"C:\\\\Users\\\\Spencer\\\\Desktop\\\\clean\\\\data\\\\processed\\\\text_reviews\"\n",
    "text_directory_relative = \".\\\\text_reviews\"\n",
    "output_directory = \"C:\\\\Users\\\\Spencer\\\\Desktop\\\\clean\\\\data\\\\processed\"\n",
    "address_col = \"Full Address\"\n",
    "time_col_name = \"timeSince\"\n",
    "combine_directory(directory_path=directory_path, \n",
    "                    text_directory=text_directory,\n",
    "                    text_directory_relative=text_directory_relative,\n",
    "                    output_directory=output_directory, \n",
    "                    address_col=address_col, \n",
    "                    time_col_name=time_col_name, \n",
    "                    company_name=\"Snappy Tomato Pizza\"\n",
    "                    )"
   ]
  },
  {
   "cell_type": "code",
   "execution_count": 40,
   "metadata": {},
   "outputs": [],
   "source": [
    "directory_path = \"C:\\\\Users\\\\Spencer\\\\Desktop\\\\clean\\\\data\\\\data_with_address\\\\steelworks_buffett_&_grill_11_3_20\"\n",
    "text_directory = \"C:\\\\Users\\\\Spencer\\\\Desktop\\\\clean\\\\data\\\\processed\\\\text_reviews\"\n",
    "text_directory_relative = \".\\\\text_reviews\"\n",
    "output_directory = \"C:\\\\Users\\\\Spencer\\\\Desktop\\\\clean\\\\data\\\\processed\"\n",
    "address_col = \"Full Address\"\n",
    "time_col_name = \"timeSince\"\n",
    "combine_directory(directory_path=directory_path, \n",
    "                    text_directory=text_directory,\n",
    "                    text_directory_relative=text_directory_relative,\n",
    "                    output_directory=output_directory, \n",
    "                    address_col=address_col, \n",
    "                    time_col_name=time_col_name, \n",
    "                    company_name=\"Steelworks Buffett & Grill\"\n",
    "                    )"
   ]
  },
  {
   "cell_type": "code",
   "execution_count": 41,
   "metadata": {},
   "outputs": [],
   "source": [
    "directory_path = \"C:\\\\Users\\\\Spencer\\\\Desktop\\\\clean\\\\data\\\\data_with_address\\\\straw_hat_grill_11_3_20\"\n",
    "text_directory = \"C:\\\\Users\\\\Spencer\\\\Desktop\\\\clean\\\\data\\\\processed\\\\text_reviews\"\n",
    "text_directory_relative = \".\\\\text_reviews\"\n",
    "output_directory = \"C:\\\\Users\\\\Spencer\\\\Desktop\\\\clean\\\\data\\\\processed\"\n",
    "address_col = \"Full Address\"\n",
    "time_col_name = \"timeSince\"\n",
    "combine_directory(directory_path=directory_path, \n",
    "                    text_directory=text_directory,\n",
    "                    text_directory_relative=text_directory_relative,\n",
    "                    output_directory=output_directory, \n",
    "                    address_col=address_col, \n",
    "                    time_col_name=time_col_name, \n",
    "                    company_name=\"Straw Hat Grill\"\n",
    "                    )"
   ]
  },
  {
   "cell_type": "code",
   "execution_count": 42,
   "metadata": {},
   "outputs": [],
   "source": [
    "directory_path = \"C:\\\\Users\\\\Spencer\\\\Desktop\\\\clean\\\\data\\\\data_with_address\\\\straw_hat_pizza_11_2_20\"\n",
    "text_directory = \"C:\\\\Users\\\\Spencer\\\\Desktop\\\\clean\\\\data\\\\processed\\\\text_reviews\"\n",
    "text_directory_relative = \".\\\\text_reviews\"\n",
    "output_directory = \"C:\\\\Users\\\\Spencer\\\\Desktop\\\\clean\\\\data\\\\processed\"\n",
    "address_col = \"Full Address\"\n",
    "time_col_name = \"timeSince\"\n",
    "combine_directory(directory_path=directory_path, \n",
    "                    text_directory=text_directory,\n",
    "                    text_directory_relative=text_directory_relative,\n",
    "                    output_directory=output_directory, \n",
    "                    address_col=address_col, \n",
    "                    time_col_name=time_col_name, \n",
    "                    company_name=\"Straw Hat Pizza\"\n",
    "                    )"
   ]
  },
  {
   "cell_type": "code",
   "execution_count": 43,
   "metadata": {},
   "outputs": [],
   "source": [
    "directory_path = \"C:\\\\Users\\\\Spencer\\\\Desktop\\\\clean\\\\data\\\\data_with_address\\\\sukotto_11_3_20\"\n",
    "text_directory = \"C:\\\\Users\\\\Spencer\\\\Desktop\\\\clean\\\\data\\\\processed\\\\text_reviews\"\n",
    "text_directory_relative = \".\\\\text_reviews\"\n",
    "output_directory = \"C:\\\\Users\\\\Spencer\\\\Desktop\\\\clean\\\\data\\\\processed\"\n",
    "address_col = \"Full Address\"\n",
    "time_col_name = \"timeSince\"\n",
    "combine_directory(directory_path=directory_path, \n",
    "                    text_directory=text_directory,\n",
    "                    text_directory_relative=text_directory_relative,\n",
    "                    output_directory=output_directory, \n",
    "                    address_col=address_col, \n",
    "                    time_col_name=time_col_name, \n",
    "                    company_name=\"Sukotto\"\n",
    "                    )"
   ]
  },
  {
   "cell_type": "code",
   "execution_count": 44,
   "metadata": {},
   "outputs": [],
   "source": [
    "directory_path = \"C:\\\\Users\\\\Spencer\\\\Desktop\\\\clean\\\\data\\\\data_with_address\\\\the_market_by_villa_11_3_20\"\n",
    "text_directory = \"C:\\\\Users\\\\Spencer\\\\Desktop\\\\clean\\\\data\\\\processed\\\\text_reviews\"\n",
    "text_directory_relative = \".\\\\text_reviews\"\n",
    "output_directory = \"C:\\\\Users\\\\Spencer\\\\Desktop\\\\clean\\\\data\\\\processed\"\n",
    "address_col = \"Full Address\"\n",
    "time_col_name = \"timeSince\"\n",
    "combine_directory(directory_path=directory_path, \n",
    "                    text_directory=text_directory,\n",
    "                    text_directory_relative=text_directory_relative,\n",
    "                    output_directory=output_directory, \n",
    "                    address_col=address_col, \n",
    "                    time_col_name=time_col_name, \n",
    "                    company_name=\"The Market by Villa\"\n",
    "                    )"
   ]
  },
  {
   "cell_type": "code",
   "execution_count": 45,
   "metadata": {},
   "outputs": [],
   "source": [
    "directory_path = \"C:\\\\Users\\\\Spencer\\\\Desktop\\\\clean\\\\data\\\\data_with_address\\\\the_office_beer_bar_&_grill_11_3_20\"\n",
    "text_directory = \"C:\\\\Users\\\\Spencer\\\\Desktop\\\\clean\\\\data\\\\processed\\\\text_reviews\"\n",
    "text_directory_relative = \".\\\\text_reviews\"\n",
    "output_directory = \"C:\\\\Users\\\\Spencer\\\\Desktop\\\\clean\\\\data\\\\processed\"\n",
    "address_col = \"Full Address\"\n",
    "time_col_name = \"timeSince\"\n",
    "combine_directory(directory_path=directory_path, \n",
    "                    text_directory=text_directory,\n",
    "                    text_directory_relative=text_directory_relative,\n",
    "                    output_directory=output_directory, \n",
    "                    address_col=address_col, \n",
    "                    time_col_name=time_col_name, \n",
    "                    company_name=\"The Office Beer Bar & Grill\"\n",
    "                    )"
   ]
  },
  {
   "cell_type": "code",
   "execution_count": 46,
   "metadata": {},
   "outputs": [],
   "source": [
    "directory_path = \"C:\\\\Users\\\\Spencer\\\\Desktop\\\\clean\\\\data\\\\data_with_address\\\\toppers_10_31_20\"\n",
    "text_directory = \"C:\\\\Users\\\\Spencer\\\\Desktop\\\\clean\\\\data\\\\processed\\\\text_reviews\"\n",
    "text_directory_relative = \".\\\\text_reviews\"\n",
    "output_directory = \"C:\\\\Users\\\\Spencer\\\\Desktop\\\\clean\\\\data\\\\processed\"\n",
    "address_col = \"Full Address\"\n",
    "time_col_name = \"timeSince\"\n",
    "combine_directory(directory_path=directory_path, \n",
    "                    text_directory=text_directory,\n",
    "                    text_directory_relative=text_directory_relative,\n",
    "                    output_directory=output_directory, \n",
    "                    address_col=address_col, \n",
    "                    time_col_name=time_col_name, \n",
    "                    company_name=\"Toppers Pizza\"\n",
    "                    )"
   ]
  },
  {
   "cell_type": "code",
   "execution_count": 47,
   "metadata": {},
   "outputs": [],
   "source": [
    "directory_path = \"C:\\\\Users\\\\Spencer\\\\Desktop\\\\clean\\\\data\\\\data_with_address\\\\villa_fresh_10_19_2020\"\n",
    "text_directory = \"C:\\\\Users\\\\Spencer\\\\Desktop\\\\clean\\\\data\\\\processed\\\\text_reviews\"\n",
    "text_directory_relative = \".\\\\text_reviews\"\n",
    "output_directory = \"C:\\\\Users\\\\Spencer\\\\Desktop\\\\clean\\\\data\\\\processed\"\n",
    "address_col = \"Full Address\"\n",
    "time_col_name = \"timeSince\"\n",
    "combine_directory(directory_path=directory_path, \n",
    "                    text_directory=text_directory,\n",
    "                    text_directory_relative=text_directory_relative,\n",
    "                    output_directory=output_directory, \n",
    "                    address_col=address_col, \n",
    "                    time_col_name=time_col_name, \n",
    "                    company_name=\"Villa Fresh Italian Kitchen\"\n",
    "                    )"
   ]
  },
  {
   "cell_type": "code",
   "execution_count": 48,
   "metadata": {},
   "outputs": [],
   "source": [
    "directory_path = \"C:\\\\Users\\\\Spencer\\\\Desktop\\\\clean\\\\data\\\\data_with_address\\\\villa_pizza_10_19_2020\"\n",
    "text_directory = \"C:\\\\Users\\\\Spencer\\\\Desktop\\\\clean\\\\data\\\\processed\\\\text_reviews\"\n",
    "text_directory_relative = \".\\\\text_reviews\"\n",
    "output_directory = \"C:\\\\Users\\\\Spencer\\\\Desktop\\\\clean\\\\data\\\\processed\"\n",
    "address_col = \"Full Address\"\n",
    "time_col_name = \"timeSince\"\n",
    "combine_directory(directory_path=directory_path, \n",
    "                    text_directory=text_directory,\n",
    "                    text_directory_relative=text_directory_relative,\n",
    "                    output_directory=output_directory, \n",
    "                    address_col=address_col, \n",
    "                    time_col_name=time_col_name, \n",
    "                    company_name=\"Villa Pizza\"\n",
    "                    )"
   ]
  },
  {
   "cell_type": "code",
   "execution_count": 49,
   "metadata": {},
   "outputs": [],
   "source": [
    "directory_path = \"C:\\\\Users\\\\Spencer\\\\Desktop\\\\clean\\\\data\\\\data_with_address\\\\vocelli_10_29_20\"\n",
    "text_directory = \"C:\\\\Users\\\\Spencer\\\\Desktop\\\\clean\\\\data\\\\processed\\\\text_reviews\"\n",
    "text_directory_relative = \".\\\\text_reviews\"\n",
    "output_directory = \"C:\\\\Users\\\\Spencer\\\\Desktop\\\\clean\\\\data\\\\processed\"\n",
    "address_col = \"Full Address\"\n",
    "time_col_name = \"timeSince\"\n",
    "combine_directory(directory_path=directory_path, \n",
    "                    text_directory=text_directory,\n",
    "                    text_directory_relative=text_directory_relative,\n",
    "                    output_directory=output_directory, \n",
    "                    address_col=address_col, \n",
    "                    time_col_name=time_col_name, \n",
    "                    company_name=\"Vocelli Pizza\"\n",
    "                    )"
   ]
  },
  {
   "cell_type": "code",
   "execution_count": 50,
   "metadata": {},
   "outputs": [],
   "source": [
    "directory_path = \"C:\\\\Users\\\\Spencer\\\\Desktop\\\\clean\\\\data\\\\data_with_address\\\\zpizza_11_1_20\"\n",
    "text_directory = \"C:\\\\Users\\\\Spencer\\\\Desktop\\\\clean\\\\data\\\\processed\\\\text_reviews\"\n",
    "text_directory_relative = \".\\\\text_reviews\"\n",
    "output_directory = \"C:\\\\Users\\\\Spencer\\\\Desktop\\\\clean\\\\data\\\\processed\"\n",
    "address_col = \"Full Address\"\n",
    "time_col_name = \"timeSince\"\n",
    "combine_directory(directory_path=directory_path, \n",
    "                    text_directory=text_directory,\n",
    "                    text_directory_relative=text_directory_relative,\n",
    "                    output_directory=output_directory, \n",
    "                    address_col=address_col, \n",
    "                    time_col_name=time_col_name, \n",
    "                    company_name=\"zpizza\"\n",
    "                    )"
   ]
  },
  {
   "cell_type": "code",
   "execution_count": 3,
   "metadata": {},
   "outputs": [
    {
     "output_type": "stream",
     "name": "stdout",
     "text": [
      "lou_malnatis_pizzeria_2000634945.csv\n",
      "lou_malnatis_pizzeria____part_2000634941.csv\n",
      "lou_malnatis_pizzeria____part_2000634946.csv\n",
      "lou_malnatis_pizzeria____part_2000634950.csv\n",
      "lou_malnatis_pizzeria____part_2000634952.csv\n",
      "lou_malnatis_pizzeria____part_2000634961.csv\n",
      "lou_malnatis_pizzeria____part_2000634963.csv\n",
      "lou_malnatis_pizzeria____part_2000634967.csv\n",
      "lou_malnatis_pizzeria____part_2000634969.csv\n",
      "lou_malnatis_pizzeria____part_2000634971.csv\n",
      "lou_malnatis_pizzeria____part_2000634973.csv\n",
      "lou_malnatis_pizzeria____part_2000634974.csv\n",
      "lou_malnatis_pizzeria____part_2000634985.csv\n"
     ]
    }
   ],
   "source": [
    "directory_path = \"C:\\\\Users\\\\Spencer\\\\Desktop\\\\clean\\\\data\\\\data_with_address\\\\lou_malnatis_pizzeria_11_1_20_part1\"\n",
    "text_directory = \"C:\\\\Users\\\\Spencer\\\\Desktop\\\\clean\\\\data\\\\processed\\\\text_reviews\"\n",
    "text_directory_relative = \".\\\\text_reviews\"\n",
    "output_directory = \"C:\\\\Users\\\\Spencer\\\\Desktop\\\\clean\\\\data\\\\processed\"\n",
    "address_col = \"Full Address\"\n",
    "time_col_name = \"timeSince\"\n",
    "combine_directory(directory_path=directory_path, \n",
    "                    text_directory=text_directory,\n",
    "                    text_directory_relative=text_directory_relative,\n",
    "                    output_directory=output_directory, \n",
    "                    address_col=address_col, \n",
    "                    time_col_name=time_col_name, \n",
    "                    company_name=\"Lou Malnatis Pizzeria\",\n",
    "                    id_rule=\"filename\"\n",
    "                    )"
   ]
  },
  {
   "cell_type": "code",
   "execution_count": 1,
   "metadata": {},
   "outputs": [],
   "source": [
    "from df_process import add_addresses\n",
    "from company_id import add_company_ids"
   ]
  },
  {
   "cell_type": "code",
   "execution_count": 3,
   "metadata": {},
   "outputs": [
    {
     "output_type": "stream",
     "name": "stdout",
     "text": [
      "528 files found in directory\n"
     ]
    }
   ],
   "source": [
    "directory_path = \"C:\\\\Users\\\\Spencer\\\\Desktop\\\\clean\\\\data\\\\rescrape\\\\hungry_howie_12_03_2020\"\n",
    "output_directory = \"C:\\\\Users\\\\Spencer\\\\Desktop\\\\clean\\\\data\\\\rescrape\\\\rescrapes_with_addresses\\\\hungry_howie_12_03_2020\"\n",
    "master_df_path = \"C:\\\\Users\\\\Spencer\\\\Desktop\\\\clean\\\\data\\\\data.csv\"\n",
    "master_df_id_col = \"Store Company ID\"\n",
    "master_df_address_cols = [\"Company Name\", \"Address 1\", \"City\", \"State\", \"Zip\"]\n",
    "new_address_col_name = \"Full Address\"\n",
    "id_col = \"key\"\n",
    "add_addresses(directory_path, \n",
    "                master_df_path=master_df_path, \n",
    "                master_df_id_col=master_df_id_col, \n",
    "                master_df_address_cols=master_df_address_cols, \n",
    "                output_directory=output_directory, \n",
    "                new_address_col_name=new_address_col_name,\n",
    "                id_col = id_col)"
   ]
  },
  {
   "cell_type": "code",
   "execution_count": 4,
   "metadata": {},
   "outputs": [
    {
     "output_type": "stream",
     "name": "stdout",
     "text": [
      "1 files found in directory\n"
     ]
    }
   ],
   "source": [
    "directory_path = \"C:\\\\Users\\\\Spencer\\\\Desktop\\\\clean\\\\data\\\\rescrape\\\\market_12_04_2020\"\n",
    "output_directory = \"C:\\\\Users\\\\Spencer\\\\Desktop\\\\clean\\\\data\\\\rescrape\\\\rescrapes_with_addresses\\\\market_12_04_2020\"\n",
    "master_df_path = \"C:\\\\Users\\\\Spencer\\\\Desktop\\\\clean\\\\data\\\\data.csv\"\n",
    "master_df_id_col = \"Store Company ID\"\n",
    "master_df_address_cols = [\"Company Name\", \"Address 1\", \"City\", \"State\", \"Zip\"]\n",
    "new_address_col_name = \"Full Address\"\n",
    "id_col = \"key\"\n",
    "add_addresses(directory_path, \n",
    "                master_df_path=master_df_path, \n",
    "                master_df_id_col=master_df_id_col, \n",
    "                master_df_address_cols=master_df_address_cols, \n",
    "                output_directory=output_directory, \n",
    "                new_address_col_name=new_address_col_name,\n",
    "                id_col = id_col)"
   ]
  },
  {
   "cell_type": "code",
   "execution_count": 6,
   "metadata": {},
   "outputs": [
    {
     "output_type": "stream",
     "name": "stdout",
     "text": [
      "1661 files found in directory\n"
     ]
    }
   ],
   "source": [
    "directory_path = \"C:\\\\Users\\\\Spencer\\\\Desktop\\\\clean\\\\data\\\\rescrape\\\\pizza_hut_12_05_2020\"\n",
    "output_directory = \"C:\\\\Users\\\\Spencer\\\\Desktop\\\\clean\\\\data\\\\rescrape\\\\rescrapes_with_addresses\\\\pizza_hut_12_05_2020\"\n",
    "master_df_path = \"C:\\\\Users\\\\Spencer\\\\Desktop\\\\clean\\\\data\\\\data.csv\"\n",
    "master_df_id_col = \"Store Company ID\"\n",
    "master_df_address_cols = [\"Company Name\", \"Address 1\", \"City\", \"State\", \"Zip\"]\n",
    "new_address_col_name = \"Full Address\"\n",
    "id_col = \"key\"\n",
    "add_addresses(directory_path, \n",
    "                master_df_path=master_df_path, \n",
    "                master_df_id_col=master_df_id_col, \n",
    "                master_df_address_cols=master_df_address_cols, \n",
    "                output_directory=output_directory, \n",
    "                new_address_col_name=new_address_col_name,\n",
    "                id_col = id_col)"
   ]
  },
  {
   "cell_type": "code",
   "execution_count": 7,
   "metadata": {},
   "outputs": [
    {
     "output_type": "stream",
     "name": "stdout",
     "text": [
      "11 files found in directory\n"
     ]
    }
   ],
   "source": [
    "directory_path = \"C:\\\\Users\\\\Spencer\\\\Desktop\\\\clean\\\\data\\\\rescrape\\\\schmizza_12_04_2020\"\n",
    "output_directory = \"C:\\\\Users\\\\Spencer\\\\Desktop\\\\clean\\\\data\\\\rescrape\\\\rescrapes_with_addresses\\\\schmizza_12_04_2020\"\n",
    "master_df_path = \"C:\\\\Users\\\\Spencer\\\\Desktop\\\\clean\\\\data\\\\data.csv\"\n",
    "master_df_id_col = \"Store Company ID\"\n",
    "master_df_address_cols = [\"Company Name\", \"Address 1\", \"City\", \"State\", \"Zip\"]\n",
    "new_address_col_name = \"Full Address\"\n",
    "id_col = \"key\"\n",
    "add_addresses(directory_path, \n",
    "                master_df_path=master_df_path, \n",
    "                master_df_id_col=master_df_id_col, \n",
    "                master_df_address_cols=master_df_address_cols, \n",
    "                output_directory=output_directory, \n",
    "                new_address_col_name=new_address_col_name,\n",
    "                id_col = id_col)"
   ]
  },
  {
   "cell_type": "code",
   "execution_count": 8,
   "metadata": {},
   "outputs": [
    {
     "output_type": "stream",
     "name": "stdout",
     "text": [
      "7 files found in directory\n"
     ]
    }
   ],
   "source": [
    "directory_path = \"C:\\\\Users\\\\Spencer\\\\Desktop\\\\clean\\\\data\\\\rescrape\\\\south_philly_12_04_2020\"\n",
    "output_directory = \"C:\\\\Users\\\\Spencer\\\\Desktop\\\\clean\\\\data\\\\rescrape\\\\rescrapes_with_addresses\\\\south_philly_12_04_2020\"\n",
    "master_df_path = \"C:\\\\Users\\\\Spencer\\\\Desktop\\\\clean\\\\data\\\\data.csv\"\n",
    "master_df_id_col = \"Store Company ID\"\n",
    "master_df_address_cols = [\"Company Name\", \"Address 1\", \"City\", \"State\", \"Zip\"]\n",
    "new_address_col_name = \"Full Address\"\n",
    "id_col = \"key\"\n",
    "add_addresses(directory_path, \n",
    "                master_df_path=master_df_path, \n",
    "                master_df_id_col=master_df_id_col, \n",
    "                master_df_address_cols=master_df_address_cols, \n",
    "                output_directory=output_directory, \n",
    "                new_address_col_name=new_address_col_name,\n",
    "                id_col = id_col)"
   ]
  },
  {
   "cell_type": "code",
   "execution_count": 9,
   "metadata": {},
   "outputs": [
    {
     "output_type": "stream",
     "name": "stdout",
     "text": [
      "172 files found in directory\n"
     ]
    }
   ],
   "source": [
    "directory_path = \"C:\\\\Users\\\\Spencer\\\\Desktop\\\\clean\\\\data\\\\rescrape\\\\others_12_07_2020\"\n",
    "output_directory = \"C:\\\\Users\\\\Spencer\\\\Desktop\\\\clean\\\\data\\\\rescrape\\\\rescrapes_with_addresses\\\\others_12_07_2020\"\n",
    "master_df_path = \"C:\\\\Users\\\\Spencer\\\\Desktop\\\\clean\\\\data\\\\data.csv\"\n",
    "master_df_id_col = \"Store Company ID\"\n",
    "master_df_address_cols = [\"Company Name\", \"Address 1\", \"City\", \"State\", \"Zip\"]\n",
    "new_address_col_name = \"Full Address\"\n",
    "id_col = \"key\"\n",
    "add_addresses(directory_path, \n",
    "                master_df_path=master_df_path, \n",
    "                master_df_id_col=master_df_id_col, \n",
    "                master_df_address_cols=master_df_address_cols, \n",
    "                output_directory=output_directory, \n",
    "                new_address_col_name=new_address_col_name,\n",
    "                id_col = id_col)"
   ]
  },
  {
   "cell_type": "code",
   "execution_count": 10,
   "metadata": {},
   "outputs": [
    {
     "output_type": "stream",
     "name": "stdout",
     "text": [
      "62 files found in directory\n"
     ]
    }
   ],
   "source": [
    "directory_path = \"C:\\\\Users\\\\Spencer\\\\Desktop\\\\clean\\\\data\\\\rescrape\\\\searchables\"\n",
    "output_directory = \"C:\\\\Users\\\\Spencer\\\\Desktop\\\\clean\\\\data\\\\rescrape\\\\rescrapes_with_addresses\\\\searchables\"\n",
    "master_df_path = \"C:\\\\Users\\\\Spencer\\\\Desktop\\\\clean\\\\data\\\\data.csv\"\n",
    "master_df_id_col = \"Store Company ID\"\n",
    "master_df_address_cols = [\"Company Name\", \"Address 1\", \"City\", \"State\", \"Zip\"]\n",
    "new_address_col_name = \"Full Address\"\n",
    "id_col = \"key\"\n",
    "add_addresses(directory_path, \n",
    "                master_df_path=master_df_path, \n",
    "                master_df_id_col=master_df_id_col, \n",
    "                master_df_address_cols=master_df_address_cols, \n",
    "                output_directory=output_directory, \n",
    "                new_address_col_name=new_address_col_name,\n",
    "                id_col = id_col)"
   ]
  },
  {
   "cell_type": "code",
   "execution_count": 3,
   "metadata": {},
   "outputs": [],
   "source": [
    "from df_process import combine_directory"
   ]
  },
  {
   "cell_type": "code",
   "execution_count": 2,
   "metadata": {},
   "outputs": [],
   "source": [
    "directory_path = \"C:\\\\Users\\\\Spencer\\\\Desktop\\\\clean\\\\data\\\\rescrape\\\\rescrapes_with_addresses\\\\pizza_hut_12_05_2020\"\n",
    "text_directory = \"C:\\\\Users\\\\Spencer\\\\Desktop\\\\clean\\\\data\\\\processed\\\\text_reviews\"\n",
    "text_directory_relative = \".\\\\text_reviews\"\n",
    "output_directory = \"C:\\\\Users\\\\Spencer\\\\Desktop\\\\clean\\\\data\\\\processed\"\n",
    "address_col = \"Full Address\"\n",
    "time_col_name = \"timeSince\"\n",
    "combine_directory(directory_path=directory_path, \n",
    "                    text_directory=text_directory,\n",
    "                    text_directory_relative=text_directory_relative,\n",
    "                    output_directory=output_directory, \n",
    "                    address_col=address_col, \n",
    "                    time_col_name=time_col_name, \n",
    "                    company_name=\"Pizza Hut\",\n",
    "                    id_col=\"key\"\n",
    "                    )"
   ]
  },
  {
   "cell_type": "code",
   "execution_count": 3,
   "metadata": {},
   "outputs": [],
   "source": [
    "directory_path = \"C:\\\\Users\\\\Spencer\\\\Desktop\\\\clean\\\\data\\\\rescrape\\\\rescrapes_with_addresses\\\\hungry_howie_12_03_2020\"\n",
    "text_directory = \"C:\\\\Users\\\\Spencer\\\\Desktop\\\\clean\\\\data\\\\processed\\\\text_reviews\"\n",
    "text_directory_relative = \".\\\\text_reviews\"\n",
    "output_directory = \"C:\\\\Users\\\\Spencer\\\\Desktop\\\\clean\\\\data\\\\processed\"\n",
    "address_col = \"Full Address\"\n",
    "time_col_name = \"timeSince\"\n",
    "combine_directory(directory_path=directory_path, \n",
    "                    text_directory=text_directory,\n",
    "                    text_directory_relative=text_directory_relative,\n",
    "                    output_directory=output_directory, \n",
    "                    address_col=address_col, \n",
    "                    time_col_name=time_col_name, \n",
    "                    company_name=\"Hungry Howie's Pizza & Subs\",\n",
    "                    id_col=\"key\"\n",
    "                    )"
   ]
  },
  {
   "cell_type": "code",
   "execution_count": 5,
   "metadata": {},
   "outputs": [],
   "source": [
    "directory_path = \"C:\\\\Users\\\\Spencer\\\\Desktop\\\\clean\\\\data\\\\rescrape\\\\rescrapes_with_addresses\\\\market_12_04_2020\"\n",
    "text_directory = \"C:\\\\Users\\\\Spencer\\\\Desktop\\\\clean\\\\data\\\\processed\\\\text_reviews\"\n",
    "text_directory_relative = \".\\\\text_reviews\"\n",
    "output_directory = \"C:\\\\Users\\\\Spencer\\\\Desktop\\\\clean\\\\data\\\\processed\"\n",
    "address_col = \"Full Address\"\n",
    "time_col_name = \"timeSince\"\n",
    "combine_directory(directory_path=directory_path, \n",
    "                    text_directory=text_directory,\n",
    "                    text_directory_relative=text_directory_relative,\n",
    "                    output_directory=output_directory, \n",
    "                    address_col=address_col, \n",
    "                    time_col_name=time_col_name, \n",
    "                    company_name=\"The Market\",\n",
    "                    id_col=\"key\"\n",
    "                    )"
   ]
  },
  {
   "cell_type": "code",
   "execution_count": 6,
   "metadata": {},
   "outputs": [],
   "source": [
    "directory_path = \"C:\\\\Users\\\\Spencer\\\\Desktop\\\\clean\\\\data\\\\rescrape\\\\rescrapes_with_addresses\\\\schmizza_12_04_2020\"\n",
    "text_directory = \"C:\\\\Users\\\\Spencer\\\\Desktop\\\\clean\\\\data\\\\processed\\\\text_reviews\"\n",
    "text_directory_relative = \".\\\\text_reviews\"\n",
    "output_directory = \"C:\\\\Users\\\\Spencer\\\\Desktop\\\\clean\\\\data\\\\processed\"\n",
    "address_col = \"Full Address\"\n",
    "time_col_name = \"timeSince\"\n",
    "combine_directory(directory_path=directory_path, \n",
    "                    text_directory=text_directory,\n",
    "                    text_directory_relative=text_directory_relative,\n",
    "                    output_directory=output_directory, \n",
    "                    address_col=address_col, \n",
    "                    time_col_name=time_col_name, \n",
    "                    company_name=\"Schmizza Pub & Grub\",\n",
    "                    id_col=\"key\"\n",
    "                    )"
   ]
  },
  {
   "cell_type": "code",
   "execution_count": 7,
   "metadata": {},
   "outputs": [],
   "source": [
    "directory_path = \"C:\\\\Users\\\\Spencer\\\\Desktop\\\\clean\\\\data\\\\rescrape\\\\rescrapes_with_addresses\\\\south_philly_12_04_2020\"\n",
    "text_directory = \"C:\\\\Users\\\\Spencer\\\\Desktop\\\\clean\\\\data\\\\processed\\\\text_reviews\"\n",
    "text_directory_relative = \".\\\\text_reviews\"\n",
    "output_directory = \"C:\\\\Users\\\\Spencer\\\\Desktop\\\\clean\\\\data\\\\processed\"\n",
    "address_col = \"Full Address\"\n",
    "time_col_name = \"timeSince\"\n",
    "combine_directory(directory_path=directory_path, \n",
    "                    text_directory=text_directory,\n",
    "                    text_directory_relative=text_directory_relative,\n",
    "                    output_directory=output_directory, \n",
    "                    address_col=address_col, \n",
    "                    time_col_name=time_col_name, \n",
    "                    company_name=\"South Philly Steaks & Fries\",\n",
    "                    id_col=\"key\"\n",
    "                    )"
   ]
  },
  {
   "cell_type": "code",
   "execution_count": 2,
   "metadata": {},
   "outputs": [],
   "source": [
    "import os\n",
    "import pandas as pd"
   ]
  },
  {
   "cell_type": "code",
   "execution_count": 7,
   "metadata": {},
   "outputs": [],
   "source": [
    "text_directory = \"C:\\\\Users\\\\Spencer\\\\Desktop\\\\clean\\\\data\\\\processed\\\\text_reviews\"\n",
    "text_directory_relative = \".\\\\text_reviews\"\n",
    "output_directory = \"C:\\\\Users\\\\Spencer\\\\Desktop\\\\clean\\\\data\\\\processed\"\n",
    "address_col = \"Full Address\"\n",
    "time_col_name = \"timeSince\"\n",
    "greater_path = \"C:\\\\Users\\\\Spencer\\\\Desktop\\\\clean\\\\data\\\\rescrape\\\\rescrapes_with_addresses\\\\all_others\"\n",
    "folders = [f.path for f in os.scandir(greater_path) if f.is_dir()]\n",
    "master = pd.read_csv(\"C:\\\\Users\\\\Spencer\\\\Desktop\\\\clean\\\\data\\\\data.csv\")\n",
    "for folder in folders:\n",
    "    directory_path = folder\n",
    "    first_file = os.listdir(folder)[0]\n",
    "    df = pd.read_csv(folder + \"\\\\\" + first_file)\n",
    "    sample_id = int(df[\"key\"][0])\n",
    "    #print(sample_id)\n",
    "    company_name = list(master[master[\"Store Company ID\"]==sample_id][\"Company Name\"])[0]\n",
    "    #print(company_name)\n",
    "    combine_directory(directory_path=directory_path, \n",
    "                    text_directory=text_directory,\n",
    "                    text_directory_relative=text_directory_relative,\n",
    "                    output_directory=output_directory, \n",
    "                    address_col=address_col, \n",
    "                    time_col_name=time_col_name, \n",
    "                    company_name=company_name,\n",
    "                    id_col=\"key\"\n",
    "                    )"
   ]
  },
  {
   "cell_type": "code",
   "execution_count": 2,
   "metadata": {},
   "outputs": [
    {
     "output_type": "stream",
     "name": "stdout",
     "text": [
      "245 files found in directory\n"
     ]
    }
   ],
   "source": [
    "directory_path = \"C:\\\\Users\\\\Spencer\\\\Desktop\\\\clean\\\\data\\\\rescrape\\\\temp_data\"\n",
    "output_directory = \"C:\\\\Users\\\\Spencer\\\\Desktop\\\\clean\\\\data\\\\rescrape\\\\rescrapes_with_addresses\\\\temp_data\"\n",
    "master_df_path = \"C:\\\\Users\\\\Spencer\\\\Desktop\\\\clean\\\\data\\\\data.csv\"\n",
    "master_df_id_col = \"Store Company ID\"\n",
    "master_df_address_cols = [\"Company Name\", \"Address 1\", \"City\", \"State\", \"Zip\"]\n",
    "new_address_col_name = \"Full Address\"\n",
    "id_col = \"key\"\n",
    "add_addresses(directory_path, \n",
    "                master_df_path=master_df_path, \n",
    "                master_df_id_col=master_df_id_col, \n",
    "                master_df_address_cols=master_df_address_cols, \n",
    "                output_directory=output_directory, \n",
    "                new_address_col_name=new_address_col_name,\n",
    "                id_col = id_col)"
   ]
  },
  {
   "cell_type": "code",
   "execution_count": 5,
   "metadata": {},
   "outputs": [],
   "source": [
    "text_directory = \"C:\\\\Users\\\\Spencer\\\\Desktop\\\\clean\\\\data\\\\processed\\\\text_reviews\"\n",
    "text_directory_relative = \".\\\\text_reviews\"\n",
    "output_directory = \"C:\\\\Users\\\\Spencer\\\\Desktop\\\\clean\\\\data\\\\processed\"\n",
    "address_col = \"Full Address\"\n",
    "time_col_name = \"timeSince\"\n",
    "greater_path = \"C:\\\\Users\\\\Spencer\\\\Desktop\\\\clean\\\\data\\\\rescrape\\\\rescrapes_with_addresses\\\\temp_data\"\n",
    "folders = [f.path for f in os.scandir(greater_path) if f.is_dir()]\n",
    "master = pd.read_csv(\"C:\\\\Users\\\\Spencer\\\\Desktop\\\\clean\\\\data\\\\data.csv\")\n",
    "for folder in folders:\n",
    "    directory_path = folder\n",
    "    first_file = os.listdir(folder)[0]\n",
    "    df = pd.read_csv(folder + \"\\\\\" + first_file)\n",
    "    sample_id = int(df[\"key\"][0])\n",
    "    #print(sample_id)\n",
    "    company_name = list(master[master[\"Store Company ID\"]==sample_id][\"Company Name\"])[0]\n",
    "    #print(company_name)\n",
    "    combine_directory(directory_path=directory_path, \n",
    "                    text_directory=text_directory,\n",
    "                    text_directory_relative=text_directory_relative,\n",
    "                    output_directory=output_directory, \n",
    "                    address_col=address_col, \n",
    "                    time_col_name=time_col_name, \n",
    "                    company_name=company_name,\n",
    "                    id_col=\"key\"\n",
    "                    )"
   ]
  },
  {
   "cell_type": "code",
   "execution_count": 2,
   "metadata": {},
   "outputs": [],
   "source": [
    "scraped = pd.read_csv(\"C:\\\\Users\\\\Spencer\\\\Desktop\\\\clean\\\\data\\\\rescrape_processed_rc.csv\")"
   ]
  },
  {
   "cell_type": "code",
   "execution_count": 5,
   "metadata": {},
   "outputs": [],
   "source": [
    "master = pd.read_csv(\"C:\\\\Users\\\\Spencer\\\\Desktop\\\\clean\\\\data\\\\master_review_counts.csv\")"
   ]
  },
  {
   "cell_type": "code",
   "execution_count": 8,
   "metadata": {},
   "outputs": [],
   "source": [
    "unscraped_raw = master[~master[\"Store Company ID\"].isin(scraped[\"Store Company ID\"])]"
   ]
  },
  {
   "cell_type": "code",
   "execution_count": 15,
   "metadata": {},
   "outputs": [],
   "source": [
    "unscraped = unscraped_raw[~unscraped_raw[\"company_name\"].isin([\"dominos_pizza\", \"little_caesars\", \"little_caesars_pizza\", \"dominos\"])]"
   ]
  },
  {
   "cell_type": "code",
   "execution_count": 16,
   "metadata": {},
   "outputs": [
    {
     "output_type": "execute_result",
     "data": {
      "text/plain": [
       "       Store Company ID  Industry ID                 Industry Name  \\\n",
       "0            2000626178           51  Locations: Chain Restaurants   \n",
       "1            2000626186           51  Locations: Chain Restaurants   \n",
       "2            2000626189           51  Locations: Chain Restaurants   \n",
       "3            2000626192           51  Locations: Chain Restaurants   \n",
       "4            2000626194           51  Locations: Chain Restaurants   \n",
       "...                 ...          ...                           ...   \n",
       "29016        2000479265           51  Locations: Chain Restaurants   \n",
       "29018        2000743484           51  Locations: Chain Restaurants   \n",
       "29019        2000479267           51  Locations: Chain Restaurants   \n",
       "29020        2000479270           51  Locations: Chain Restaurants   \n",
       "29022        2000745557           51  Locations: Chain Restaurants   \n",
       "\n",
       "                     Company Name                 Address 1            City  \\\n",
       "0      Anthony's Coal Fired Pizza           984 State Rt 17          RAMSEY   \n",
       "1      Anthony's Coal Fired Pizza           80 Parsonage Rd          EDISON   \n",
       "2      Anthony's Coal Fired Pizza         6401 Jericho Tpke         COMMACK   \n",
       "3      Anthony's Coal Fired Pizza    50 East Wynnewood Road       WYNNEWOOD   \n",
       "4      Anthony's Coal Fired Pizza       48 Walkers Brook Dr         READING   \n",
       "...                           ...                       ...             ...   \n",
       "29016               Vocelli Pizza              900 Green Ln           UNION   \n",
       "29018               VOCELLI PIZZA          5025 LINDBERG ST         LINCOLN   \n",
       "29019               Vocelli Pizza         617 Warrendale Rd        GIBSONIA   \n",
       "29020               Vocelli Pizza  1605 Jefferson Davis Hwy  FREDERICKSBURG   \n",
       "29022                      zpizza     DAY STREET EUCALYPTUS   MORENO VALLEY   \n",
       "\n",
       "      State         Zip Listing Type                   Country         Phone  \\\n",
       "0        NJ  07446-1607     Location  United States of America  2.018183e+09   \n",
       "1        NJ  08837-2416     Location  United States of America  7.327442e+09   \n",
       "2        NY  11725-2832     Location  United States of America  6.318583e+09   \n",
       "3        PA       19096     Location  United States of America  6.106455e+09   \n",
       "4        MA  01867-3224     Location  United States of America  7.819448e+09   \n",
       "...     ...         ...          ...                       ...           ...   \n",
       "29016    NJ  07083-7779     Location  United States of America  9.083541e+09   \n",
       "29018    NE       68516     Location  United States of America           NaN   \n",
       "29019    PA  15044-8044     Location  United States of America           NaN   \n",
       "29020    VA  22401-4651     Location  United States of America  5.403694e+09   \n",
       "29022    CA       92553     Location  United States of America           NaN   \n",
       "\n",
       "                                             Google Link  reviews_scraped  \\\n",
       "0      https://www.google.com/maps/place/Anthony's+Co...              385   \n",
       "1      https://www.google.com/maps/place/Anthony's+Co...              799   \n",
       "2      https://www.google.com/maps/place/Anthony's+Co...              388   \n",
       "3      https://www.google.com/maps/place/Anthony's+Co...              322   \n",
       "4      https://www.google.com/maps/place/Anthony's+Co...              203   \n",
       "...                                                  ...              ...   \n",
       "29016                                                NaN                0   \n",
       "29018                                                NaN                0   \n",
       "29019                                                NaN                0   \n",
       "29020  https://www.google.com/maps/place/Vocelli+Pizz...                0   \n",
       "29022  https://www.google.com/maps/place/zpizza+Tap+R...                0   \n",
       "\n",
       "       difference  proportion  review_count               company_name  \n",
       "0           -10.0    0.974684         395.0  anthonys_coal_fired_pizza  \n",
       "1           -25.0    0.969660         824.0  anthonys_coal_fired_pizza  \n",
       "2           -10.0    0.974874         398.0  anthonys_coal_fired_pizza  \n",
       "3           -10.0    0.969880         332.0  anthonys_coal_fired_pizza  \n",
       "4            -9.0    0.957547         212.0  anthonys_coal_fired_pizza  \n",
       "...           ...         ...           ...                        ...  \n",
       "29016         NaN    0.000000           NaN              vocelli_pizza  \n",
       "29018         NaN    0.000000           NaN              vocelli_pizza  \n",
       "29019       -38.0    0.000000          38.0              vocelli_pizza  \n",
       "29020         NaN    0.000000           NaN              vocelli_pizza  \n",
       "29022         NaN    0.000000           NaN                     zpizza  \n",
       "\n",
       "[301 rows x 17 columns]"
      ],
      "text/html": "<div>\n<style scoped>\n    .dataframe tbody tr th:only-of-type {\n        vertical-align: middle;\n    }\n\n    .dataframe tbody tr th {\n        vertical-align: top;\n    }\n\n    .dataframe thead th {\n        text-align: right;\n    }\n</style>\n<table border=\"1\" class=\"dataframe\">\n  <thead>\n    <tr style=\"text-align: right;\">\n      <th></th>\n      <th>Store Company ID</th>\n      <th>Industry ID</th>\n      <th>Industry Name</th>\n      <th>Company Name</th>\n      <th>Address 1</th>\n      <th>City</th>\n      <th>State</th>\n      <th>Zip</th>\n      <th>Listing Type</th>\n      <th>Country</th>\n      <th>Phone</th>\n      <th>Google Link</th>\n      <th>reviews_scraped</th>\n      <th>difference</th>\n      <th>proportion</th>\n      <th>review_count</th>\n      <th>company_name</th>\n    </tr>\n  </thead>\n  <tbody>\n    <tr>\n      <td>0</td>\n      <td>2000626178</td>\n      <td>51</td>\n      <td>Locations: Chain Restaurants</td>\n      <td>Anthony's Coal Fired Pizza</td>\n      <td>984 State Rt 17</td>\n      <td>RAMSEY</td>\n      <td>NJ</td>\n      <td>07446-1607</td>\n      <td>Location</td>\n      <td>United States of America</td>\n      <td>2.018183e+09</td>\n      <td>https://www.google.com/maps/place/Anthony's+Co...</td>\n      <td>385</td>\n      <td>-10.0</td>\n      <td>0.974684</td>\n      <td>395.0</td>\n      <td>anthonys_coal_fired_pizza</td>\n    </tr>\n    <tr>\n      <td>1</td>\n      <td>2000626186</td>\n      <td>51</td>\n      <td>Locations: Chain Restaurants</td>\n      <td>Anthony's Coal Fired Pizza</td>\n      <td>80 Parsonage Rd</td>\n      <td>EDISON</td>\n      <td>NJ</td>\n      <td>08837-2416</td>\n      <td>Location</td>\n      <td>United States of America</td>\n      <td>7.327442e+09</td>\n      <td>https://www.google.com/maps/place/Anthony's+Co...</td>\n      <td>799</td>\n      <td>-25.0</td>\n      <td>0.969660</td>\n      <td>824.0</td>\n      <td>anthonys_coal_fired_pizza</td>\n    </tr>\n    <tr>\n      <td>2</td>\n      <td>2000626189</td>\n      <td>51</td>\n      <td>Locations: Chain Restaurants</td>\n      <td>Anthony's Coal Fired Pizza</td>\n      <td>6401 Jericho Tpke</td>\n      <td>COMMACK</td>\n      <td>NY</td>\n      <td>11725-2832</td>\n      <td>Location</td>\n      <td>United States of America</td>\n      <td>6.318583e+09</td>\n      <td>https://www.google.com/maps/place/Anthony's+Co...</td>\n      <td>388</td>\n      <td>-10.0</td>\n      <td>0.974874</td>\n      <td>398.0</td>\n      <td>anthonys_coal_fired_pizza</td>\n    </tr>\n    <tr>\n      <td>3</td>\n      <td>2000626192</td>\n      <td>51</td>\n      <td>Locations: Chain Restaurants</td>\n      <td>Anthony's Coal Fired Pizza</td>\n      <td>50 East Wynnewood Road</td>\n      <td>WYNNEWOOD</td>\n      <td>PA</td>\n      <td>19096</td>\n      <td>Location</td>\n      <td>United States of America</td>\n      <td>6.106455e+09</td>\n      <td>https://www.google.com/maps/place/Anthony's+Co...</td>\n      <td>322</td>\n      <td>-10.0</td>\n      <td>0.969880</td>\n      <td>332.0</td>\n      <td>anthonys_coal_fired_pizza</td>\n    </tr>\n    <tr>\n      <td>4</td>\n      <td>2000626194</td>\n      <td>51</td>\n      <td>Locations: Chain Restaurants</td>\n      <td>Anthony's Coal Fired Pizza</td>\n      <td>48 Walkers Brook Dr</td>\n      <td>READING</td>\n      <td>MA</td>\n      <td>01867-3224</td>\n      <td>Location</td>\n      <td>United States of America</td>\n      <td>7.819448e+09</td>\n      <td>https://www.google.com/maps/place/Anthony's+Co...</td>\n      <td>203</td>\n      <td>-9.0</td>\n      <td>0.957547</td>\n      <td>212.0</td>\n      <td>anthonys_coal_fired_pizza</td>\n    </tr>\n    <tr>\n      <td>...</td>\n      <td>...</td>\n      <td>...</td>\n      <td>...</td>\n      <td>...</td>\n      <td>...</td>\n      <td>...</td>\n      <td>...</td>\n      <td>...</td>\n      <td>...</td>\n      <td>...</td>\n      <td>...</td>\n      <td>...</td>\n      <td>...</td>\n      <td>...</td>\n      <td>...</td>\n      <td>...</td>\n      <td>...</td>\n    </tr>\n    <tr>\n      <td>29016</td>\n      <td>2000479265</td>\n      <td>51</td>\n      <td>Locations: Chain Restaurants</td>\n      <td>Vocelli Pizza</td>\n      <td>900 Green Ln</td>\n      <td>UNION</td>\n      <td>NJ</td>\n      <td>07083-7779</td>\n      <td>Location</td>\n      <td>United States of America</td>\n      <td>9.083541e+09</td>\n      <td>NaN</td>\n      <td>0</td>\n      <td>NaN</td>\n      <td>0.000000</td>\n      <td>NaN</td>\n      <td>vocelli_pizza</td>\n    </tr>\n    <tr>\n      <td>29018</td>\n      <td>2000743484</td>\n      <td>51</td>\n      <td>Locations: Chain Restaurants</td>\n      <td>VOCELLI PIZZA</td>\n      <td>5025 LINDBERG ST</td>\n      <td>LINCOLN</td>\n      <td>NE</td>\n      <td>68516</td>\n      <td>Location</td>\n      <td>United States of America</td>\n      <td>NaN</td>\n      <td>NaN</td>\n      <td>0</td>\n      <td>NaN</td>\n      <td>0.000000</td>\n      <td>NaN</td>\n      <td>vocelli_pizza</td>\n    </tr>\n    <tr>\n      <td>29019</td>\n      <td>2000479267</td>\n      <td>51</td>\n      <td>Locations: Chain Restaurants</td>\n      <td>Vocelli Pizza</td>\n      <td>617 Warrendale Rd</td>\n      <td>GIBSONIA</td>\n      <td>PA</td>\n      <td>15044-8044</td>\n      <td>Location</td>\n      <td>United States of America</td>\n      <td>NaN</td>\n      <td>NaN</td>\n      <td>0</td>\n      <td>-38.0</td>\n      <td>0.000000</td>\n      <td>38.0</td>\n      <td>vocelli_pizza</td>\n    </tr>\n    <tr>\n      <td>29020</td>\n      <td>2000479270</td>\n      <td>51</td>\n      <td>Locations: Chain Restaurants</td>\n      <td>Vocelli Pizza</td>\n      <td>1605 Jefferson Davis Hwy</td>\n      <td>FREDERICKSBURG</td>\n      <td>VA</td>\n      <td>22401-4651</td>\n      <td>Location</td>\n      <td>United States of America</td>\n      <td>5.403694e+09</td>\n      <td>https://www.google.com/maps/place/Vocelli+Pizz...</td>\n      <td>0</td>\n      <td>NaN</td>\n      <td>0.000000</td>\n      <td>NaN</td>\n      <td>vocelli_pizza</td>\n    </tr>\n    <tr>\n      <td>29022</td>\n      <td>2000745557</td>\n      <td>51</td>\n      <td>Locations: Chain Restaurants</td>\n      <td>zpizza</td>\n      <td>DAY STREET EUCALYPTUS</td>\n      <td>MORENO VALLEY</td>\n      <td>CA</td>\n      <td>92553</td>\n      <td>Location</td>\n      <td>United States of America</td>\n      <td>NaN</td>\n      <td>https://www.google.com/maps/place/zpizza+Tap+R...</td>\n      <td>0</td>\n      <td>NaN</td>\n      <td>0.000000</td>\n      <td>NaN</td>\n      <td>zpizza</td>\n    </tr>\n  </tbody>\n</table>\n<p>301 rows × 17 columns</p>\n</div>"
     },
     "metadata": {},
     "execution_count": 16
    }
   ],
   "source": [
    "unscraped"
   ]
  },
  {
   "cell_type": "code",
   "execution_count": 23,
   "metadata": {},
   "outputs": [],
   "source": [
    "searchable = unscraped[~unscraped[\"review_count\"].isnull()]"
   ]
  },
  {
   "cell_type": "code",
   "execution_count": 21,
   "metadata": {},
   "outputs": [],
   "source": [
    "unsearchable = unscraped[unscraped[\"review_count\"].isnull()]"
   ]
  },
  {
   "cell_type": "code",
   "execution_count": 22,
   "metadata": {},
   "outputs": [],
   "source": [
    "unsearchable.to_csv(\"C:\\\\Users\\\\Spencer\\\\Desktop\\\\clean\\\\data\\\\unsearchable_locations.csv\", index=False)"
   ]
  },
  {
   "cell_type": "code",
   "execution_count": 31,
   "metadata": {},
   "outputs": [],
   "source": [
    "too_large = searchable[(searchable[\"reviews_scraped\"]==0) & (searchable[\"review_count\"] > 2000)]"
   ]
  },
  {
   "cell_type": "code",
   "execution_count": 32,
   "metadata": {},
   "outputs": [],
   "source": [
    "too_large.to_csv(\"C:\\\\Users\\\\Spencer\\\\Desktop\\\\clean\\\\data\\\\too_large.csv\", index=False)"
   ]
  },
  {
   "cell_type": "code",
   "execution_count": 33,
   "metadata": {},
   "outputs": [],
   "source": [
    "small_searchable = searchable[(searchable[\"reviews_scraped\"]==0) & (searchable[\"review_count\"] <= 2000)]"
   ]
  },
  {
   "cell_type": "code",
   "execution_count": 35,
   "metadata": {},
   "outputs": [],
   "source": [
    "small_searchable.to_csv(\"C:\\\\Users\\\\Spencer\\\\Desktop\\\\clean\\\\data\\\\small_searchable.csv\", index=False)"
   ]
  },
  {
   "cell_type": "code",
   "execution_count": 9,
   "metadata": {},
   "outputs": [],
   "source": [
    "closed = pd.read_excel(\"C:\\\\Users\\\\Spencer\\\\Desktop\\\\clean\\\\data\\\\Closed Locations.xlsx\", sheet_name=\"2019CLOSED\")"
   ]
  },
  {
   "cell_type": "code",
   "execution_count": 11,
   "metadata": {},
   "outputs": [],
   "source": [
    "unsearchable = pd.read_csv(\"C:\\\\Users\\\\Spencer\\\\Desktop\\\\clean\\\\data\\\\unsearchable_locations.csv\")"
   ]
  },
  {
   "cell_type": "code",
   "execution_count": 12,
   "metadata": {},
   "outputs": [],
   "source": [
    "searchable = pd.read_csv(\"C:\\\\Users\\\\Spencer\\\\Desktop\\\\clean\\\\data\\\\small_searchable.csv\")"
   ]
  },
  {
   "cell_type": "code",
   "execution_count": 17,
   "metadata": {},
   "outputs": [
    {
     "output_type": "execute_result",
     "data": {
      "text/plain": [
       "   Store Company ID  Industry ID                 Industry Name  \\\n",
       "0        1000841652           51  Locations: Chain Restaurants   \n",
       "1        2000015899           51  Locations: Chain Restaurants   \n",
       "2        2000172731           51  Locations: Chain Restaurants   \n",
       "3        1000809575           51  Locations: Chain Restaurants   \n",
       "4        1000862472           51  Locations: Chain Restaurants   \n",
       "\n",
       "           Company Name           Address 1         City State         Zip  \\\n",
       "0  Papa Gino's Pizzeria      1876 Boston Rd    WILBRAHAM    MA  01095-1003   \n",
       "1             Pizza Hut       793 Boston Rd  SPRINGFIELD    MA  01119-1300   \n",
       "2  Little Caesars Pizza      1762 Boston Rd  SPRINGFIELD    MA  01129-1175   \n",
       "3             Pizza Hut        180 South St   PITTSFIELD    MA  01201-6807   \n",
       "4  Papa Gino's Pizzeria  399 John Fitch Hwy    FITCHBURG    MA  01420-4501   \n",
       "\n",
       "  Listing Type                   Country  ...  FIPS_DESC     CBSA  \\\n",
       "0     Location  United States of America  ...    HAMPDEN  44140.0   \n",
       "1     Location  United States of America  ...    HAMPDEN  44140.0   \n",
       "2     Location  United States of America  ...    HAMPDEN  44140.0   \n",
       "3     Location  United States of America  ...  BERKSHIRE  38340.0   \n",
       "4     Location  United States of America  ...  WORCESTER  49340.0   \n",
       "\n",
       "          CBSA_DESC     MSA                                MSA_DESC    PMSA  \\\n",
       "0   Springfield, MA  1122.0  BOSTON-WORCESTER-LAWRENCE, MA-NH-ME-CT  9240.0   \n",
       "1   Springfield, MA  1122.0  BOSTON-WORCESTER-LAWRENCE, MA-NH-ME-CT  9240.0   \n",
       "2   Springfield, MA  1122.0  BOSTON-WORCESTER-LAWRENCE, MA-NH-ME-CT  9240.0   \n",
       "3    Pittsfield, MA  6320.0                          PITTSFIELD, MA     NaN   \n",
       "4  Worcester, MA-CT  1122.0  BOSTON-WORCESTER-LAWRENCE, MA-NH-ME-CT  1120.0   \n",
       "\n",
       "          PMSA_DESC        Lat        Lon     GeoLevel  \n",
       "0  WORCESTER, MA-CT  42.148254 -72.480272  Approximate  \n",
       "1  WORCESTER, MA-CT  42.136588 -72.518084  Approximate  \n",
       "2  WORCESTER, MA-CT  42.145374 -72.485285  Approximate  \n",
       "3               NaN  42.465906 -73.203106  Approximate  \n",
       "4     BOSTON, MA-NH  42.581523 -71.775504      Rooftop  \n",
       "\n",
       "[5 rows x 36 columns]"
      ],
      "text/html": "<div>\n<style scoped>\n    .dataframe tbody tr th:only-of-type {\n        vertical-align: middle;\n    }\n\n    .dataframe tbody tr th {\n        vertical-align: top;\n    }\n\n    .dataframe thead th {\n        text-align: right;\n    }\n</style>\n<table border=\"1\" class=\"dataframe\">\n  <thead>\n    <tr style=\"text-align: right;\">\n      <th></th>\n      <th>Store Company ID</th>\n      <th>Industry ID</th>\n      <th>Industry Name</th>\n      <th>Company Name</th>\n      <th>Address 1</th>\n      <th>City</th>\n      <th>State</th>\n      <th>Zip</th>\n      <th>Listing Type</th>\n      <th>Country</th>\n      <th>...</th>\n      <th>FIPS_DESC</th>\n      <th>CBSA</th>\n      <th>CBSA_DESC</th>\n      <th>MSA</th>\n      <th>MSA_DESC</th>\n      <th>PMSA</th>\n      <th>PMSA_DESC</th>\n      <th>Lat</th>\n      <th>Lon</th>\n      <th>GeoLevel</th>\n    </tr>\n  </thead>\n  <tbody>\n    <tr>\n      <td>0</td>\n      <td>1000841652</td>\n      <td>51</td>\n      <td>Locations: Chain Restaurants</td>\n      <td>Papa Gino's Pizzeria</td>\n      <td>1876 Boston Rd</td>\n      <td>WILBRAHAM</td>\n      <td>MA</td>\n      <td>01095-1003</td>\n      <td>Location</td>\n      <td>United States of America</td>\n      <td>...</td>\n      <td>HAMPDEN</td>\n      <td>44140.0</td>\n      <td>Springfield, MA</td>\n      <td>1122.0</td>\n      <td>BOSTON-WORCESTER-LAWRENCE, MA-NH-ME-CT</td>\n      <td>9240.0</td>\n      <td>WORCESTER, MA-CT</td>\n      <td>42.148254</td>\n      <td>-72.480272</td>\n      <td>Approximate</td>\n    </tr>\n    <tr>\n      <td>1</td>\n      <td>2000015899</td>\n      <td>51</td>\n      <td>Locations: Chain Restaurants</td>\n      <td>Pizza Hut</td>\n      <td>793 Boston Rd</td>\n      <td>SPRINGFIELD</td>\n      <td>MA</td>\n      <td>01119-1300</td>\n      <td>Location</td>\n      <td>United States of America</td>\n      <td>...</td>\n      <td>HAMPDEN</td>\n      <td>44140.0</td>\n      <td>Springfield, MA</td>\n      <td>1122.0</td>\n      <td>BOSTON-WORCESTER-LAWRENCE, MA-NH-ME-CT</td>\n      <td>9240.0</td>\n      <td>WORCESTER, MA-CT</td>\n      <td>42.136588</td>\n      <td>-72.518084</td>\n      <td>Approximate</td>\n    </tr>\n    <tr>\n      <td>2</td>\n      <td>2000172731</td>\n      <td>51</td>\n      <td>Locations: Chain Restaurants</td>\n      <td>Little Caesars Pizza</td>\n      <td>1762 Boston Rd</td>\n      <td>SPRINGFIELD</td>\n      <td>MA</td>\n      <td>01129-1175</td>\n      <td>Location</td>\n      <td>United States of America</td>\n      <td>...</td>\n      <td>HAMPDEN</td>\n      <td>44140.0</td>\n      <td>Springfield, MA</td>\n      <td>1122.0</td>\n      <td>BOSTON-WORCESTER-LAWRENCE, MA-NH-ME-CT</td>\n      <td>9240.0</td>\n      <td>WORCESTER, MA-CT</td>\n      <td>42.145374</td>\n      <td>-72.485285</td>\n      <td>Approximate</td>\n    </tr>\n    <tr>\n      <td>3</td>\n      <td>1000809575</td>\n      <td>51</td>\n      <td>Locations: Chain Restaurants</td>\n      <td>Pizza Hut</td>\n      <td>180 South St</td>\n      <td>PITTSFIELD</td>\n      <td>MA</td>\n      <td>01201-6807</td>\n      <td>Location</td>\n      <td>United States of America</td>\n      <td>...</td>\n      <td>BERKSHIRE</td>\n      <td>38340.0</td>\n      <td>Pittsfield, MA</td>\n      <td>6320.0</td>\n      <td>PITTSFIELD, MA</td>\n      <td>NaN</td>\n      <td>NaN</td>\n      <td>42.465906</td>\n      <td>-73.203106</td>\n      <td>Approximate</td>\n    </tr>\n    <tr>\n      <td>4</td>\n      <td>1000862472</td>\n      <td>51</td>\n      <td>Locations: Chain Restaurants</td>\n      <td>Papa Gino's Pizzeria</td>\n      <td>399 John Fitch Hwy</td>\n      <td>FITCHBURG</td>\n      <td>MA</td>\n      <td>01420-4501</td>\n      <td>Location</td>\n      <td>United States of America</td>\n      <td>...</td>\n      <td>WORCESTER</td>\n      <td>49340.0</td>\n      <td>Worcester, MA-CT</td>\n      <td>1122.0</td>\n      <td>BOSTON-WORCESTER-LAWRENCE, MA-NH-ME-CT</td>\n      <td>1120.0</td>\n      <td>BOSTON, MA-NH</td>\n      <td>42.581523</td>\n      <td>-71.775504</td>\n      <td>Rooftop</td>\n    </tr>\n  </tbody>\n</table>\n<p>5 rows × 36 columns</p>\n</div>"
     },
     "metadata": {},
     "execution_count": 17
    }
   ],
   "source": [
    "closed.head()"
   ]
  },
  {
   "cell_type": "code",
   "execution_count": 16,
   "metadata": {},
   "outputs": [],
   "source": [
    "closed = closed.rename(columns={\"Company ID\":\"Store Company ID\"})"
   ]
  },
  {
   "cell_type": "code",
   "execution_count": 19,
   "metadata": {},
   "outputs": [
    {
     "output_type": "execute_result",
     "data": {
      "text/plain": [
       "Index(['Store Company ID', 'Industry ID', 'Industry Name', 'Company Name',\n",
       "       'Address 1', 'City', 'State', 'Zip', 'Listing Type', 'Country', 'Phone',\n",
       "       'Parent_ID', 'Parent Name', 'Parent City', 'Parent State', 'Parent Zip',\n",
       "       'Headquarters ID', 'HQ Name', 'HQ City', 'HQ State', 'HQ Zip',\n",
       "       'Store No', 'Store Weekly Volume', 'Type of Food Service', 'Menu Types',\n",
       "       'FIPS', 'FIPS_DESC', 'CBSA', 'CBSA_DESC', 'MSA', 'MSA_DESC', 'PMSA',\n",
       "       'PMSA_DESC', 'Lat', 'Lon', 'GeoLevel'],\n",
       "      dtype='object')"
      ]
     },
     "metadata": {},
     "execution_count": 19
    }
   ],
   "source": [
    "closed.columns"
   ]
  },
  {
   "cell_type": "code",
   "execution_count": 20,
   "metadata": {},
   "outputs": [],
   "source": [
    "columns_to_drop = ['Parent_ID', 'Parent Name', 'Parent City', 'Parent State', 'Parent Zip',\n",
    "       'Headquarters ID', 'HQ Name', 'HQ City', 'HQ State', 'HQ Zip',\n",
    "       'Store No', 'Store Weekly Volume', 'Type of Food Service', 'Menu Types',\n",
    "       'FIPS', 'FIPS_DESC', 'CBSA', 'CBSA_DESC', 'MSA', 'MSA_DESC', 'PMSA',\n",
    "       'PMSA_DESC', 'Lat', 'Lon', 'GeoLevel', 'Listing Type', 'Industry ID', 'Industry Name']\n",
    "closed = closed.drop(columns_to_drop, axis=1)"
   ]
  },
  {
   "cell_type": "code",
   "execution_count": 23,
   "metadata": {},
   "outputs": [],
   "source": [
    " closed.to_csv(\"C:\\\\Users\\\\Spencer\\\\Desktop\\\\clean\\\\data\\\\closed_2019.csv\", index=False)"
   ]
  },
  {
   "cell_type": "code",
   "execution_count": 2,
   "metadata": {},
   "outputs": [],
   "source": [
    "from utilities import separate_companies\n",
    "from df_process import add_addresses"
   ]
  },
  {
   "cell_type": "code",
   "execution_count": 4,
   "metadata": {},
   "outputs": [
    {
     "output_type": "stream",
     "name": "stdout",
     "text": [
      "1618 files found in directory\n"
     ]
    }
   ],
   "source": [
    "directory_path = \"C:\\\\Users\\\\Spencer\\\\Desktop\\\\clean\\\\data\\\\closed_data\"\n",
    "output_directory = \"C:\\\\Users\\\\Spencer\\\\Desktop\\\\clean\\\\data\\\\closed_data_with_addresses\"\n",
    "master_df_path = \"C:\\\\Users\\\\Spencer\\\\Desktop\\\\clean\\\\closed_2019.csv\"\n",
    "master_df_id_col = \"Store Company ID\"\n",
    "master_df_address_cols = [\"Company Name\", \"Address 1\", \"City\", \"State\", \"Zip\"]\n",
    "new_address_col_name = \"Full Address\"\n",
    "id_col = \"key\"\n",
    "add_addresses(directory_path, \n",
    "                master_df_path=master_df_path, \n",
    "                master_df_id_col=master_df_id_col, \n",
    "                master_df_address_cols=master_df_address_cols, \n",
    "                output_directory=output_directory, \n",
    "                new_address_col_name=new_address_col_name,\n",
    "                id_col = id_col)"
   ]
  },
  {
   "cell_type": "code",
   "execution_count": 5,
   "metadata": {},
   "outputs": [],
   "source": [
    "files_dir = \"C:\\\\Users\\\\Spencer\\\\Desktop\\\\clean\\\\data\\\\closed_data_with_addresses\"\n",
    "master_file = \"C:\\\\Users\\\\Spencer\\\\Desktop\\\\clean\\\\closed_2019.csv\"\n",
    "\n",
    "separate_companies(files_dir=files_dir,\n",
    "                    master_file=master_file,  \n",
    "                    date=\"12_14_2020\")"
   ]
  },
  {
   "cell_type": "code",
   "execution_count": 3,
   "metadata": {},
   "outputs": [],
   "source": [
    "import pandas as pd\n",
    "import os\n",
    "from df_process import combine_directory"
   ]
  },
  {
   "cell_type": "code",
   "execution_count": 12,
   "metadata": {},
   "outputs": [],
   "source": [
    "text_directory = \"C:\\\\Users\\\\Spencer\\\\Desktop\\\\clean\\\\data\\\\processed_closed\\\\text_reviews_closed\"\n",
    "text_directory_relative = \".\\\\text_reviews\"\n",
    "output_directory = \"C:\\\\Users\\\\Spencer\\\\Desktop\\\\clean\\\\data\\\\processed_closed\"\n",
    "address_col = \"Full Address\"\n",
    "time_col_name = \"timeSince\"\n",
    "greater_path = \"C:\\\\Users\\\\Spencer\\\\Desktop\\\\clean\\\\data\\\\closed_data_with_addresses\"\n",
    "folders = [f.path for f in os.scandir(greater_path) if f.is_dir()]\n",
    "master = pd.read_csv(\"C:\\\\Users\\\\Spencer\\\\Desktop\\\\clean\\\\closed_2019.csv\")\n",
    "for folder in folders:\n",
    "    directory_path = folder\n",
    "    first_file = os.listdir(folder)[0]\n",
    "    df = pd.read_csv(folder + \"\\\\\" + first_file)\n",
    "    sample_id = int(df[\"key\"][0])\n",
    "    #print(sample_id)\n",
    "    company_name = list(master[master[\"Store Company ID\"]==sample_id][\"Company Name\"])[0]\n",
    "    #print(company_name)\n",
    "    combine_directory(directory_path=directory_path, \n",
    "                    text_directory=text_directory,\n",
    "                    text_directory_relative=text_directory_relative,\n",
    "                    output_directory=output_directory, \n",
    "                    address_col=address_col, \n",
    "                    time_col_name=time_col_name, \n",
    "                    company_name=company_name,\n",
    "                    id_col=\"key\"\n",
    "                    )"
   ]
  },
  {
   "cell_type": "code",
   "execution_count": 11,
   "metadata": {},
   "outputs": [],
   "source": [
    "from utilities import get_files"
   ]
  },
  {
   "cell_type": "code",
   "execution_count": 14,
   "metadata": {},
   "outputs": [],
   "source": [
    "files = get_files(\"C:\\\\Users\\\\Spencer\\\\Desktop\\\\clean\\\\data\\\\processed_closed\", \"csv\")\n",
    "scrapes = pd.read_csv(files[0])\n",
    "for f in files[1:]:\n",
    "    scrapes = pd.concat([scrapes, pd.read_csv(f)], ignore_index=True)"
   ]
  },
  {
   "cell_type": "code",
   "execution_count": 16,
   "metadata": {},
   "outputs": [],
   "source": [
    "scrapes.to_csv(\"C:\\\\Users\\\\Spencer\\\\Desktop\\\\clean\\\\data\\\\closed_2019_scrapes.csv\", index=False)"
   ]
  },
  {
   "cell_type": "code",
   "execution_count": 3,
   "metadata": {},
   "outputs": [
    {
     "output_type": "stream",
     "name": "stdout",
     "text": [
      "5726 files found in directory\n"
     ]
    }
   ],
   "source": [
    "directory_path = \"C:\\\\Users\\\\Spencer\\\\Desktop\\\\clean\\\\data\\\\closed_all_years\"\n",
    "output_directory = \"C:\\\\Users\\\\Spencer\\\\Desktop\\\\clean\\\\data\\\\closed_all_years_with_addresses\"\n",
    "master_df_path = \"C:\\\\Users\\\\Spencer\\\\Desktop\\\\clean\\\\data\\\\all_closed_locations.csv\"\n",
    "master_df_id_col = \"Store Company ID\"\n",
    "master_df_address_cols = [\"Company Name\", \"Address 1\", \"City\", \"State\", \"Zip\"]\n",
    "new_address_col_name = \"Full Address\"\n",
    "id_col = \"key\"\n",
    "add_addresses(directory_path, \n",
    "                master_df_path=master_df_path, \n",
    "                master_df_id_col=master_df_id_col, \n",
    "                master_df_address_cols=master_df_address_cols, \n",
    "                output_directory=output_directory, \n",
    "                new_address_col_name=new_address_col_name,\n",
    "                id_col = id_col)"
   ]
  },
  {
   "cell_type": "code",
   "execution_count": 7,
   "metadata": {},
   "outputs": [],
   "source": [
    "files_dir = \"C:\\\\Users\\\\Spencer\\\\Desktop\\\\clean\\\\data\\\\closed_all_years_with_addresses\"\n",
    "master_file = \"C:\\\\Users\\\\Spencer\\\\Desktop\\\\clean\\\\data\\\\all_closed_locations.csv\"\n",
    "\n",
    "separate_companies(files_dir=files_dir,\n",
    "                    master_file=master_file,  \n",
    "                    date=\"12_31_2020\")"
   ]
  },
  {
   "cell_type": "code",
   "execution_count": 10,
   "metadata": {},
   "outputs": [],
   "source": [
    "text_directory = \"C:\\\\Users\\\\Spencer\\\\Desktop\\\\clean\\\\data\\\\processed_all_years_closed\\\\text_reviews_all_years_closed\"\n",
    "text_directory_relative = \".\\\\text_reviews_all_years_closed\"\n",
    "output_directory = \"C:\\\\Users\\\\Spencer\\\\Desktop\\\\clean\\\\data\\\\processed_all_years_closed\"\n",
    "address_col = \"Full Address\"\n",
    "time_col_name = \"timeSince\"\n",
    "greater_path = \"C:\\\\Users\\\\Spencer\\\\Desktop\\\\clean\\\\data\\\\closed_all_years_with_addresses\"\n",
    "folders = [f.path for f in os.scandir(greater_path) if f.is_dir()]\n",
    "master = pd.read_csv(\"C:\\\\Users\\\\Spencer\\\\Desktop\\\\clean\\\\data\\\\all_closed_locations.csv\")\n",
    "for folder in folders:\n",
    "    directory_path = folder\n",
    "    first_file = os.listdir(folder)[0]\n",
    "    df = pd.read_csv(folder + \"\\\\\" + first_file)\n",
    "    sample_id = int(df[\"key\"][0])\n",
    "    #print(sample_id)\n",
    "    company_name = list(master[master[\"Store Company ID\"]==sample_id][\"Company Name\"])[0]\n",
    "    #print(company_name)\n",
    "    combine_directory(directory_path=directory_path, \n",
    "                    text_directory=text_directory,\n",
    "                    text_directory_relative=text_directory_relative,\n",
    "                    output_directory=output_directory, \n",
    "                    address_col=address_col, \n",
    "                    time_col_name=time_col_name, \n",
    "                    company_name=company_name,\n",
    "                    id_col=\"key\"\n",
    "                    )"
   ]
  },
  {
   "cell_type": "code",
   "execution_count": 3,
   "metadata": {},
   "outputs": [],
   "source": [
    "from utilities import get_files"
   ]
  },
  {
   "cell_type": "code",
   "execution_count": 4,
   "metadata": {},
   "outputs": [],
   "source": [
    "files = get_files(\"C:\\\\Users\\\\Spencer\\\\Desktop\\\\clean\\\\data\\\\processed_all_years_closed\", \"csv\")\n",
    "scrapes = pd.read_csv(files[0])\n",
    "for f in files[1:]:\n",
    "    scrapes = pd.concat([scrapes, pd.read_csv(f)], ignore_index=True)"
   ]
  },
  {
   "cell_type": "code",
   "execution_count": 15,
   "metadata": {},
   "outputs": [
    {
     "output_type": "execute_result",
     "data": {
      "text/plain": [
       "Empty DataFrame\n",
       "Columns: [Store Company ID, Store Address, Store Chain Name, Mean Rating (2020), Mean Rating (2019), Mean Rating (2018), Mean Rating (2017), Mean Rating (2016), Mean Rating (2015), Mean Rating (2014), Mean Rating (2013), Mean Rating (2012), Standard Deviation of Ratings (2020), Standard Deviation of Ratings (2019), Standard Deviation of Ratings (2018), Standard Deviation of Ratings (2017), Standard Deviation of Ratings (2016), Standard Deviation of Ratings (2015), Standard Deviation of Ratings (2014), Standard Deviation of Ratings (2013), Standard Deviation of Ratings (2012), Number of Ratings (2020), Number of Ratings (2019), Number of Ratings (2018), Number of Ratings (2017), Number of Ratings (2016), Number of Ratings (2015), Number of Ratings (2014), Number of Ratings (2013), Number of Ratings (2012), Text Ratings (2020), Text Ratings (2019), Text Ratings (2018), Text Ratings (2017), Text Ratings (2016), Text Ratings (2015), Text Ratings (2014), Text Ratings (2013), Text Ratings (2012)]\n",
       "Index: []\n",
       "\n",
       "[0 rows x 39 columns]"
      ],
      "text/html": "<div>\n<style scoped>\n    .dataframe tbody tr th:only-of-type {\n        vertical-align: middle;\n    }\n\n    .dataframe tbody tr th {\n        vertical-align: top;\n    }\n\n    .dataframe thead th {\n        text-align: right;\n    }\n</style>\n<table border=\"1\" class=\"dataframe\">\n  <thead>\n    <tr style=\"text-align: right;\">\n      <th></th>\n      <th>Store Company ID</th>\n      <th>Store Address</th>\n      <th>Store Chain Name</th>\n      <th>Mean Rating (2020)</th>\n      <th>Mean Rating (2019)</th>\n      <th>Mean Rating (2018)</th>\n      <th>Mean Rating (2017)</th>\n      <th>Mean Rating (2016)</th>\n      <th>Mean Rating (2015)</th>\n      <th>Mean Rating (2014)</th>\n      <th>...</th>\n      <th>Number of Ratings (2012)</th>\n      <th>Text Ratings (2020)</th>\n      <th>Text Ratings (2019)</th>\n      <th>Text Ratings (2018)</th>\n      <th>Text Ratings (2017)</th>\n      <th>Text Ratings (2016)</th>\n      <th>Text Ratings (2015)</th>\n      <th>Text Ratings (2014)</th>\n      <th>Text Ratings (2013)</th>\n      <th>Text Ratings (2012)</th>\n    </tr>\n  </thead>\n  <tbody>\n  </tbody>\n</table>\n<p>0 rows × 39 columns</p>\n</div>"
     },
     "metadata": {},
     "execution_count": 15
    }
   ],
   "source": [
    "scrapes[(scrapes[\"Mean Rating (2012)\"].isnull()) & (scrapes[\"Number of Ratings (2012)\"] != 0)]"
   ]
  },
  {
   "cell_type": "code",
   "execution_count": 16,
   "metadata": {},
   "outputs": [],
   "source": [
    "scrapes.to_csv(\"C:\\\\Users\\\\Spencer\\\\Desktop\\\\clean\\\\data\\\\closed_data_all_years.csv\", index=False)"
   ]
  },
  {
   "cell_type": "code",
   "execution_count": 17,
   "metadata": {},
   "outputs": [],
   "source": [
    "main_data = pd.read_csv(\"C:\\\\Users\\\\Spencer\\\\Desktop\\\\clean\\\\data\\\\alldata_rescrape_fixed_rc.csv\")"
   ]
  },
  {
   "cell_type": "code",
   "execution_count": 19,
   "metadata": {},
   "outputs": [],
   "source": [
    "for year in range(2012, 2021):\n",
    "    if len(scrapes[(scrapes[\"Mean Rating (\" + str(year) + \")\"].isnull()) & (scrapes[\"Number of Ratings (\" + str(year) + \")\"] != 0)]) > 0:\n",
    "        print(\"BAD\")"
   ]
  },
  {
   "cell_type": "code",
   "execution_count": 2,
   "metadata": {},
   "outputs": [
    {
     "output_type": "stream",
     "name": "stdout",
     "text": [
      "9829 files found in directory\n"
     ]
    }
   ],
   "source": [
    "directory_path = \"C:\\\\Users\\\\Spencer\\\\Desktop\\\\clean\\\\data\\\\Pushpinder\\\\csvs\\\\by_location\"\n",
    "output_directory = \"C:\\\\Users\\\\Spencer\\\\Desktop\\\\clean\\\\data\\\\Pushpinder\\\\csvs\\\\by_location\\\\with_addresses\"\n",
    "master_df_path = \"C:\\\\Users\\\\Spencer\\\\Desktop\\\\clean\\\\data\\\\data.csv\"\n",
    "master_df_id_col = \"Store Company ID\"\n",
    "master_df_address_cols = [\"Company Name\", \"Address 1\", \"City\", \"State\", \"Zip\"]\n",
    "new_address_col_name = \"Full Address\"\n",
    "id_col = \"Store Company ID\"\n",
    "add_addresses(directory_path, \n",
    "                master_df_path=master_df_path, \n",
    "                master_df_id_col=master_df_id_col, \n",
    "                master_df_address_cols=master_df_address_cols, \n",
    "                output_directory=output_directory, \n",
    "                new_address_col_name=new_address_col_name,\n",
    "                id_col = id_col)"
   ]
  },
  {
   "cell_type": "code",
   "execution_count": 3,
   "metadata": {},
   "outputs": [],
   "source": [
    "files_dir = \"C:\\\\Users\\\\Spencer\\\\Desktop\\\\clean\\\\data\\\\Pushpinder\\\\csvs\\\\by_location\\\\with_addresses\"\n",
    "master_file = \"C:\\\\Users\\\\Spencer\\\\Desktop\\\\clean\\\\data\\\\master_review_counts.csv\"\n",
    "\n",
    "separate_companies(files_dir=files_dir,\n",
    "                    master_file=master_file,  \n",
    "                    date=\"10_31_2020\",\n",
    "                    id_col=\"Store Company ID\")"
   ]
  },
  {
   "cell_type": "code",
   "execution_count": 1,
   "metadata": {},
   "outputs": [],
   "source": [
    "from utilities import get_files, html_to_stars\n",
    "import pandas as pd"
   ]
  },
  {
   "cell_type": "code",
   "execution_count": 3,
   "metadata": {},
   "outputs": [],
   "source": [
    "files = get_files(\"C:\\\\Users\\\\Spencer\\\\Desktop\\\\clean\\\\data\\\\Pushpinder\\\\csvs\\\\by_location\\\\with_addresses\", \"csv\")"
   ]
  },
  {
   "cell_type": "code",
   "execution_count": 4,
   "metadata": {},
   "outputs": [],
   "source": [
    "for f in files:\n",
    "    df = pd.read_csv(f)\n",
    "    df[\"stars\"] = df[\"Field1\"].apply(html_to_stars)\n",
    "    df.to_csv(f, index=False)"
   ]
  },
  {
   "cell_type": "code",
   "execution_count": 6,
   "metadata": {},
   "outputs": [
    {
     "output_type": "stream",
     "name": "stdout",
     "text": [
      "1000908188\n",
      "Domino's\n",
      "2000760012\n",
      "Little Caesar's\n",
      "1000822574\n",
      "Little Caesars Pizza\n"
     ]
    }
   ],
   "source": [
    "text_directory = \"C:\\\\Users\\\\Spencer\\\\Desktop\\\\clean\\\\data\\\\Pushpinder\\\\processed\\\\text_reviews\"\n",
    "text_directory_relative = \".\\\\text_reviews\"\n",
    "output_directory = \"C:\\\\Users\\\\Spencer\\\\Desktop\\\\clean\\\\data\\\\Pushpinder\\\\processed\"\n",
    "address_col = \"Full Address\"\n",
    "time_col_name = \"Field5\"\n",
    "greater_path = \"C:\\\\Users\\\\Spencer\\\\Desktop\\\\clean\\\\data\\\\Pushpinder\\\\csvs\\\\by_location\\\\with_addresses\"\n",
    "folders = [f.path for f in os.scandir(greater_path) if f.is_dir()]\n",
    "master = pd.read_csv(\"C:\\\\Users\\\\Spencer\\\\Desktop\\\\clean\\\\data\\\\master_review_counts.csv\")\n",
    "for folder in folders:\n",
    "    directory_path = folder\n",
    "    first_file = os.listdir(folder)[0]\n",
    "    df = pd.read_csv(folder + \"\\\\\" + first_file)\n",
    "    sample_id = int(df[\"Store Company ID\"][0])\n",
    "    print(sample_id)\n",
    "    company_name = list(master[master[\"Store Company ID\"]==sample_id][\"Company Name\"])[0]\n",
    "    print(company_name)\n",
    "    combine_directory(directory_path=directory_path, \n",
    "                    text_directory=text_directory,\n",
    "                    text_directory_relative=text_directory_relative,\n",
    "                    output_directory=output_directory, \n",
    "                    address_col=address_col, \n",
    "                    time_col_name=time_col_name, \n",
    "                    company_name=company_name,\n",
    "                    id_col=\"Store Company ID\"\n",
    "                    )"
   ]
  },
  {
   "cell_type": "code",
   "execution_count": 4,
   "metadata": {},
   "outputs": [],
   "source": [
    "text_directory = \"C:\\\\Users\\\\Spencer\\\\Desktop\\\\clean\\\\data\\\\processed_all_years_closed_v2\\\\text_reviews\"\n",
    "text_directory_relative = \".\\\\text_reviews\"\n",
    "output_directory = \"C:\\\\Users\\\\Spencer\\\\Desktop\\\\clean\\\\data\\\\processed_all_years_closed_v2\"\n",
    "address_col = \"Full Address\"\n",
    "time_col_name = \"timeSince\"\n",
    "greater_path = \"C:\\\\Users\\\\Spencer\\\\Desktop\\\\clean\\\\data\\\\closed_all_years_with_addresses\"\n",
    "folders = [f.path for f in os.scandir(greater_path) if f.is_dir()]\n",
    "master = pd.read_csv(\"C:\\\\Users\\\\Spencer\\\\Desktop\\\\clean\\\\data\\\\all_closed_locations.csv\")\n",
    "for folder in folders:\n",
    "    directory_path = folder\n",
    "    first_file = os.listdir(folder)[0]\n",
    "    df = pd.read_csv(folder + \"\\\\\" + first_file)\n",
    "    sample_id = int(df[\"key\"][0])\n",
    "    #print(sample_id)\n",
    "    company_name = list(master[master[\"Store Company ID\"]==sample_id][\"Company Name\"])[0]\n",
    "    #print(company_name)\n",
    "    combine_directory(directory_path=directory_path, \n",
    "                    text_directory=text_directory,\n",
    "                    text_directory_relative=text_directory_relative,\n",
    "                    output_directory=output_directory, \n",
    "                    address_col=address_col, \n",
    "                    time_col_name=time_col_name, \n",
    "                    company_name=company_name,\n",
    "                    id_col=\"key\"\n",
    "                    )"
   ]
  },
  {
   "cell_type": "code",
   "execution_count": null,
   "metadata": {},
   "outputs": [],
   "source": []
  }
 ]
}